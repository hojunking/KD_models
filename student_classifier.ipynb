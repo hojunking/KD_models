{
 "cells": [
  {
   "cell_type": "code",
   "execution_count": 1,
   "id": "32c4ea0f",
   "metadata": {},
   "outputs": [],
   "source": [
    "import os, re, magic, shutil\n",
    "from glob import glob\n",
    "import time, datetime\n",
    "import random\n",
    "import pandas as pd\n",
    "import numpy as np\n",
    "from tqdm import tqdm\n",
    "import warnings\n",
    "import joblib\n",
    "import datetime as dt\n",
    "\n",
    "import cv2\n",
    "from PIL import Image\n",
    "import matplotlib.pyplot as plt\n",
    "import torch, gc\n",
    "from torch import nn\n",
    "from torch.utils.data import Dataset,DataLoader\n",
    "from torch.utils.data.sampler import SequentialSampler, RandomSampler\n",
    "import torch.nn.functional as F\n",
    "import torchvision\n",
    "import torchvision.models as models\n",
    "\n",
    "#from skimage import io\n",
    "import sklearn\n",
    "from sklearn.model_selection import GroupKFold, StratifiedKFold\n",
    "from sklearn.metrics import roc_auc_score, log_loss, f1_score, confusion_matrix, classification_report\n",
    "from sklearn import metrics, preprocessing\n",
    "from scipy.ndimage import zoom\n",
    "\n",
    "import timm\n",
    "import albumentations as A\n",
    "import albumentations.pytorch\n",
    "import wandb\n",
    "from catalyst.data.sampler import BalanceClassSampler\n",
    "from torch.utils.data.distributed import DistributedSampler"
   ]
  },
  {
   "cell_type": "markdown",
   "id": "a29d0796-1f1d-40df-ad4a-21f57ed7fe35",
   "metadata": {},
   "source": [
    "#### Hyper Param Setting"
   ]
  },
  {
   "cell_type": "code",
   "execution_count": 2,
   "id": "57c0283c",
   "metadata": {},
   "outputs": [],
   "source": [
    "CFG = {\n",
    "    'fold_num': 5,\n",
    "    'seed': 42,\n",
    "    't_model': 'resnet152',\n",
    "    'load_model': 'resnet152_20230427223000', # LOAD TEACHER MODEL\n",
    "    's_model': 'mobilenet_v3_large',\n",
    "    'img_size': 260,\n",
    "    'alpha': 0.5,\n",
    "    'epochs': 200,\n",
    "    'train_bs':64,\n",
    "    'valid_bs':64,\n",
    "    'lr': 1e-4, ## learning rate\n",
    "    'num_workers': 8,\n",
    "    'verbose_step': 1,\n",
    "    'patience' : 5,\n",
    "    'device': 'cuda:0',\n",
    "    'freezing': False,\n",
    "    'trainable_layer': 6,\n",
    "    'model_path': './models'\n",
    "}"
   ]
  },
  {
   "cell_type": "code",
   "execution_count": null,
   "id": "c9dd7e7d-b42f-44de-9376-cbad0bc027bf",
   "metadata": {},
   "outputs": [],
   "source": []
  },
  {
   "cell_type": "markdown",
   "id": "7066a8a1-7060-4b6d-bf0c-d4164820a414",
   "metadata": {},
   "source": [
    "#### wandb init"
   ]
  },
  {
   "cell_type": "code",
   "execution_count": 3,
   "id": "127461e4-c16d-47fd-b983-556c12ad0daf",
   "metadata": {},
   "outputs": [],
   "source": [
    "time_now = dt.datetime.now()\n",
    "run_id = time_now.strftime(\"%Y%m%d%H%M%S\")\n",
    "project_name = 'KD_mobilenet_resnet152' + run_id\n",
    "user = 'hojunking'\n",
    "run_name = project_name"
   ]
  },
  {
   "cell_type": "code",
   "execution_count": 4,
   "id": "5c538155-d55f-4321-bf7c-171d356ebceb",
   "metadata": {},
   "outputs": [
    {
     "name": "stdout",
     "output_type": "stream",
     "text": [
      "label: 10Kwalk\n",
      "img_paths len : 1956\n",
      "\n",
      "label: battery\n",
      "img_paths len : 2805\n",
      "\n",
      "label: box\n",
      "img_paths len : 1988\n",
      "\n",
      "label: else\n",
      "img_paths len : 3785\n",
      "\n",
      "label: bottle\n",
      "img_paths len : 6152\n",
      "\n",
      "label: handkerchief\n",
      "img_paths len : 2433\n",
      "\n",
      "label: milk\n",
      "img_paths len : 2375\n",
      "\n",
      "label: paper\n",
      "img_paths len : 1665\n",
      "\n",
      "label: pet\n",
      "img_paths len : 2404\n",
      "\n",
      "label: plug\n",
      "img_paths len : 2931\n",
      "\n",
      "label: receipt\n",
      "img_paths len : 843\n",
      "\n",
      "label: shopping bag\n",
      "img_paths len : 1713\n",
      "\n",
      "label: stairs\n",
      "img_paths len : 4061\n",
      "\n",
      "label: transportation\n",
      "img_paths len : 2236\n",
      "\n",
      "label: trash picking\n",
      "img_paths len : 1628\n",
      "\n",
      "label: plate\n",
      "img_paths len : 5349\n",
      "\n",
      "Train_Images:  34962\n",
      "Train_Images_labels: 34962\n",
      "Test_Images:  9307\n",
      "Test_Images_labels: 9307\n"
     ]
    }
   ],
   "source": [
    "main_path = '../Data/carbon_data/'\n",
    "label_list = [\"10Kwalk\",\"battery\",'box','else','bottle','handkerchief',\n",
    "              'milk', 'paper', 'pet','plug','receipt', 'shopping bag', 'stairs',\n",
    "             'transportation', 'trash picking', 'plate']\n",
    "\n",
    "total_train_img_paths = []\n",
    "total_train_img_labels = []\n",
    "total_test_img_paths = []\n",
    "total_test_img_labels = []\n",
    "\n",
    "for label in label_list: ## 각 레이블 돌기\n",
    "    print(f'label: {label}')\n",
    "    img_paths = [] \n",
    "    img_labels = []\n",
    "\n",
    "    # default ratio\n",
    "    train_ratio = 1500\n",
    "    test_ratio = 500\n",
    "\n",
    "    dir_path = main_path + label ## 레이블 폴더 경로\n",
    "    count = 0\n",
    "    for folder, subfolders, filenames in os.walk(dir_path): ## 폴더 내 모든 파일 탐색\n",
    "    \n",
    "        for img in filenames: ## 각 파일 경로, 레이블 저장\n",
    "            count +=1\n",
    "            if count > train_ratio + test_ratio + 10000:\n",
    "                break\n",
    "            \n",
    "            img_paths.append(folder+'/'+img)\n",
    "            img_labels.append(label)\n",
    "        \n",
    "    random.shuffle(img_paths)\n",
    "    print(f'img_paths len : {len(img_paths)}\\n')\n",
    "\n",
    "    if label == 'else': ## 10walking 데이터 비율 설정하기 (데이터수: 2494)\n",
    "        train_ratio = 3000\n",
    "        test_ratio = 745\n",
    "    elif label == 'plate': \n",
    "        train_ratio = 4349\n",
    "        test_ratio = 1000\n",
    "    elif label == 'handkerchief':\n",
    "        train_ratio = 2000\n",
    "        test_ratio = 433     \n",
    "    elif label == 'milk':\n",
    "        train_ratio = 2000\n",
    "        test_ratio = 374\n",
    "    elif label == 'paper':\n",
    "        train_ratio = 1300\n",
    "        test_ratio = 365\n",
    "    elif label == 'pet':\n",
    "        train_ratio = 2000\n",
    "        test_ratio = 402\n",
    "    elif label == 'plug':\n",
    "        train_ratio = 2200\n",
    "        test_ratio = 725\n",
    "    elif label == 'receipt':\n",
    "        train_ratio = 600\n",
    "        test_ratio = 243 \n",
    "    elif label == 'shopping bag':\n",
    "        train_ratio = 1300\n",
    "        test_ratio = 413\n",
    "    elif label == 'stairs':\n",
    "        train_ratio = 3000\n",
    "        test_ratio = 1057\n",
    "    elif label == 'bottle':\n",
    "        train_ratio = 4652\n",
    "        test_ratio = 1500\n",
    "    elif label == 'transportation':\n",
    "        train_ratio = 1800\n",
    "        test_ratio = 435\n",
    "    elif label == 'trash picking':\n",
    "        train_ratio = 1300\n",
    "        test_ratio = 327\n",
    "    elif label == '10Kwalk':\n",
    "        train_ratio = 1556\n",
    "        test_ratio = 400\n",
    "    elif label == 'battery':\n",
    "        train_ratio = 2305\n",
    "        test_ratio = 500\n",
    "    elif label == 'box':\n",
    "        train_ratio = 1600\n",
    "        test_ratio = 388\n",
    "        \n",
    "    total_train_img_paths.extend(img_paths[:train_ratio])\n",
    "    total_train_img_labels.extend(img_labels[:train_ratio])\n",
    "\n",
    "    total_test_img_paths.extend(img_paths[-test_ratio:])\n",
    "    total_test_img_labels.extend(img_labels[-test_ratio:])\n",
    "\n",
    "print('Train_Images: ',len(total_train_img_paths))\n",
    "print(\"Train_Images_labels:\", len(total_train_img_labels))\n",
    "print('Test_Images: ',len(total_test_img_paths))\n",
    "print(\"Test_Images_labels:\", len(total_test_img_labels))"
   ]
  },
  {
   "cell_type": "code",
   "execution_count": 5,
   "id": "2716dd8b-84db-4707-80e2-19b29eae9c23",
   "metadata": {},
   "outputs": [
    {
     "data": {
      "text/html": [
       "<div>\n",
       "<style scoped>\n",
       "    .dataframe tbody tr th:only-of-type {\n",
       "        vertical-align: middle;\n",
       "    }\n",
       "\n",
       "    .dataframe tbody tr th {\n",
       "        vertical-align: top;\n",
       "    }\n",
       "\n",
       "    .dataframe thead th {\n",
       "        text-align: right;\n",
       "    }\n",
       "</style>\n",
       "<table border=\"1\" class=\"dataframe\">\n",
       "  <thead>\n",
       "    <tr style=\"text-align: right;\">\n",
       "      <th></th>\n",
       "      <th>image_id</th>\n",
       "      <th>dir</th>\n",
       "      <th>label</th>\n",
       "    </tr>\n",
       "  </thead>\n",
       "  <tbody>\n",
       "    <tr>\n",
       "      <th>0</th>\n",
       "      <td>10Kwalk_1213.jpg</td>\n",
       "      <td>../Data/carbon_data/10Kwalk</td>\n",
       "      <td>10Kwalk</td>\n",
       "    </tr>\n",
       "    <tr>\n",
       "      <th>1</th>\n",
       "      <td>10Kwalk_1069.jpg</td>\n",
       "      <td>../Data/carbon_data/10Kwalk</td>\n",
       "      <td>10Kwalk</td>\n",
       "    </tr>\n",
       "    <tr>\n",
       "      <th>2</th>\n",
       "      <td>10Kwalk_637.jpg</td>\n",
       "      <td>../Data/carbon_data/10Kwalk</td>\n",
       "      <td>10Kwalk</td>\n",
       "    </tr>\n",
       "    <tr>\n",
       "      <th>3</th>\n",
       "      <td>10Kwalk_742.jpg</td>\n",
       "      <td>../Data/carbon_data/10Kwalk</td>\n",
       "      <td>10Kwalk</td>\n",
       "    </tr>\n",
       "    <tr>\n",
       "      <th>4</th>\n",
       "      <td>10Kwalk_446.jpg</td>\n",
       "      <td>../Data/carbon_data/10Kwalk</td>\n",
       "      <td>10Kwalk</td>\n",
       "    </tr>\n",
       "    <tr>\n",
       "      <th>...</th>\n",
       "      <td>...</td>\n",
       "      <td>...</td>\n",
       "      <td>...</td>\n",
       "    </tr>\n",
       "    <tr>\n",
       "      <th>34957</th>\n",
       "      <td>wrap_537.jpg</td>\n",
       "      <td>../Data/carbon_data/plate/wrap</td>\n",
       "      <td>plate</td>\n",
       "    </tr>\n",
       "    <tr>\n",
       "      <th>34958</th>\n",
       "      <td>leftover_1692.jpg</td>\n",
       "      <td>../Data/carbon_data/plate/leftover</td>\n",
       "      <td>plate</td>\n",
       "    </tr>\n",
       "    <tr>\n",
       "      <th>34959</th>\n",
       "      <td>leftover_1516.jpg</td>\n",
       "      <td>../Data/carbon_data/plate/leftover</td>\n",
       "      <td>plate</td>\n",
       "    </tr>\n",
       "    <tr>\n",
       "      <th>34960</th>\n",
       "      <td>leftover_836.jpg</td>\n",
       "      <td>../Data/carbon_data/plate/leftover</td>\n",
       "      <td>plate</td>\n",
       "    </tr>\n",
       "    <tr>\n",
       "      <th>34961</th>\n",
       "      <td>leftover_590.jpg</td>\n",
       "      <td>../Data/carbon_data/plate/leftover</td>\n",
       "      <td>plate</td>\n",
       "    </tr>\n",
       "  </tbody>\n",
       "</table>\n",
       "<p>34962 rows × 3 columns</p>\n",
       "</div>"
      ],
      "text/plain": [
       "                image_id                                 dir    label\n",
       "0       10Kwalk_1213.jpg         ../Data/carbon_data/10Kwalk  10Kwalk\n",
       "1       10Kwalk_1069.jpg         ../Data/carbon_data/10Kwalk  10Kwalk\n",
       "2        10Kwalk_637.jpg         ../Data/carbon_data/10Kwalk  10Kwalk\n",
       "3        10Kwalk_742.jpg         ../Data/carbon_data/10Kwalk  10Kwalk\n",
       "4        10Kwalk_446.jpg         ../Data/carbon_data/10Kwalk  10Kwalk\n",
       "...                  ...                                 ...      ...\n",
       "34957       wrap_537.jpg      ../Data/carbon_data/plate/wrap    plate\n",
       "34958  leftover_1692.jpg  ../Data/carbon_data/plate/leftover    plate\n",
       "34959  leftover_1516.jpg  ../Data/carbon_data/plate/leftover    plate\n",
       "34960   leftover_836.jpg  ../Data/carbon_data/plate/leftover    plate\n",
       "34961   leftover_590.jpg  ../Data/carbon_data/plate/leftover    plate\n",
       "\n",
       "[34962 rows x 3 columns]"
      ]
     },
     "execution_count": 5,
     "metadata": {},
     "output_type": "execute_result"
    }
   ],
   "source": [
    "## Pandas 데이터프레임 만들기\n",
    "trn_df = pd.DataFrame(total_train_img_paths, columns=['image_id'])\n",
    "trn_df['dir'] = trn_df['image_id'].apply(lambda x: os.path.dirname(x))\n",
    "trn_df['image_id'] = trn_df['image_id'].apply(lambda x: os.path.basename(x))\n",
    "trn_df['label'] = total_train_img_labels\n",
    "train = trn_df\n",
    "train"
   ]
  },
  {
   "cell_type": "code",
   "execution_count": 6,
   "id": "03c67d39-7933-4f98-b998-54a6036ff4a1",
   "metadata": {},
   "outputs": [],
   "source": [
    "# Label Encoding\n",
    "le = preprocessing.LabelEncoder()\n",
    "train['label'] = le.fit_transform(train['label'].values)"
   ]
  },
  {
   "cell_type": "code",
   "execution_count": 7,
   "id": "a3a8ac38-0b0f-4db4-80d2-6504916b7723",
   "metadata": {},
   "outputs": [
    {
     "data": {
      "text/plain": [
       "2     4652\n",
       "9     4349\n",
       "4     3000\n",
       "13    3000\n",
       "1     2305\n",
       "10    2200\n",
       "5     2000\n",
       "6     2000\n",
       "8     2000\n",
       "14    1800\n",
       "3     1600\n",
       "0     1556\n",
       "7     1300\n",
       "12    1300\n",
       "15    1300\n",
       "11     600\n",
       "Name: label, dtype: int64"
      ]
     },
     "execution_count": 7,
     "metadata": {},
     "output_type": "execute_result"
    }
   ],
   "source": [
    "train.label.value_counts()"
   ]
  },
  {
   "cell_type": "code",
   "execution_count": 8,
   "id": "6c454bf4",
   "metadata": {},
   "outputs": [],
   "source": [
    "def seed_everything(seed):\n",
    "    random.seed(seed)\n",
    "    os.environ['PYTHONHASHSEED'] = str(seed)\n",
    "    np.random.seed(seed)\n",
    "    torch.manual_seed(seed)\n",
    "    torch.cuda.manual_seed(seed)\n",
    "    torch.backends.cudnn.deterministic = True\n",
    "    torch.backends.cudnn.benchmark = True"
   ]
  },
  {
   "cell_type": "code",
   "execution_count": 9,
   "id": "d97a3c2a",
   "metadata": {},
   "outputs": [],
   "source": [
    "def get_img(path, sub_path=None):\n",
    "    try:\n",
    "        im_bgr = cv2.imread(path)\n",
    "        im_rgb = im_bgr[:, :, ::-1]\n",
    "        past_path = path\n",
    "    except: ## 이미지 에러 발생 시 백지로 대체\n",
    "        im_bgr = cv2.imread('../Data/carbon_reduction/temp_img.jpg')\n",
    "        im_rgb = im_bgr[:, :, ::-1]\n",
    "    return im_rgb"
   ]
  },
  {
   "cell_type": "code",
   "execution_count": 10,
   "id": "884eb987-4341-4fe7-8094-6e61cb051af5",
   "metadata": {},
   "outputs": [],
   "source": [
    "transform_train = A.Compose(\n",
    "    [\n",
    "        A.RandomResizedCrop(p=1, height=CFG['img_size'] ,width=CFG['img_size'], scale=(0.65, 0.75),ratio=(0.90, 1.10)),\n",
    "        A.SafeRotate(p=0.5, limit=(-20, 20), interpolation=2, border_mode=0, value=(0, 0, 0), mask_value=None),\n",
    "        A.HorizontalFlip(p=0.5),\n",
    "        A.ColorJitter(always_apply=True, p=0.5, contrast=0.2, saturation=0.3, hue=0.2),\n",
    "        A.Normalize(mean=(0.485, 0.456, 0.406), std=(0.229, 0.224, 0.225), max_pixel_value=255.0, always_apply=False, p=1.0),\n",
    "        A.pytorch.transforms.ToTensorV2()\n",
    "        ])\n",
    "\n",
    "transform_train_cap = A.Compose(\n",
    "    [\n",
    "        A.RandomResizedCrop(p=1, height=CFG['img_size'] ,width=CFG['img_size'], scale=(0.65, 0.85),ratio=(0.90, 1.10)),\n",
    "        A.Normalize(mean=(0.485, 0.456, 0.406), std=(0.229, 0.224, 0.225), max_pixel_value=255.0, always_apply=False, p=1.0),\n",
    "        A.pytorch.transforms.ToTensorV2()\n",
    "        ])\n",
    "\n",
    "transform_test = A.Compose(\n",
    "    [\n",
    "        A.Resize(height = CFG['img_size'], width = CFG['img_size']),\n",
    "        A.Normalize(mean=(0.485, 0.456, 0.406), std=(0.229, 0.224, 0.225), max_pixel_value=255.0, always_apply=False, p=1.0),\n",
    "        A.pytorch.transforms.ToTensorV2()\n",
    "        ])"
   ]
  },
  {
   "cell_type": "code",
   "execution_count": 11,
   "id": "5f1561be",
   "metadata": {},
   "outputs": [],
   "source": [
    "class ColonDataset(Dataset):\n",
    "    def __init__(self, df, data_root, transform=None, transform2=None, output_label=True):\n",
    "        super().__init__()\n",
    "        self.df = df.reset_index(drop=True).copy()\n",
    "        self.transform = transform\n",
    "        self.transform2 = transform2\n",
    "        self.data_root = data_root\n",
    "        self.output_label = output_label\n",
    "        \n",
    "        if output_label == True:\n",
    "            self.labels = self.df['label'].values\n",
    "        \n",
    "        # EXEPTION TRANSFORM FOR CAPTURE IMAGES\n",
    "        self.cap_image = le.fit_transform(['10Kwalk', 'battery','receipt'])\n",
    "        \n",
    "    def __len__(self):\n",
    "        return self.df.shape[0]\n",
    "    \n",
    "    def __getitem__(self, index: int):\n",
    "        # GET labels\n",
    "        if self.output_label:\n",
    "            target = self.labels[index]\n",
    "        # GET IMAGES\n",
    "        path = \"{}/{}\".format(self.data_root[index], self.df.iloc[index]['image_id'])\n",
    "        img  = get_img(path)\n",
    "        \n",
    "        # TRANSFORM1, TRANSFORM2 PROCESS\n",
    "        if self.transform2 :\n",
    "            if target in self.cap_image and self.transform2:\n",
    "                transformed = self.transform2(image=img)\n",
    "            else:\n",
    "                transformed = self.transform(image=img)\n",
    "        elif self.transform:\n",
    "            transformed = self.transform(image=img)\n",
    "        img = transformed['image']\n",
    "                \n",
    "        if self.output_label == True:\n",
    "            return img, target\n",
    "        else:\n",
    "            return img"
   ]
  },
  {
   "cell_type": "code",
   "execution_count": 12,
   "id": "b1601bf0",
   "metadata": {},
   "outputs": [],
   "source": [
    "# class ForcepImgClassifier(nn.Module):\n",
    "#     def __init__(self, model_arch, n_class=2, pretrained=False):\n",
    "#         super().__init__()\n",
    "#         self.model = timm.create_model(model_arch, pretrained=pretrained, num_classes=n_class)\n",
    "#         # n_features = self.model.classifier.in_features\n",
    "#         # self.model.classifier = nn.Linear(n_features, n_class)\n",
    "#     def freezing(self, freeze=False, trainable_layer = 2):\n",
    "        \n",
    "#         if freeze:\n",
    "#             num_layers = len(list(model.parameters()))\n",
    "#             for i, param in enumerate(model.parameters()):\n",
    "#                 if i < num_layers - trainable_layer*2:\n",
    "#                     param.requires_grad = False    \n",
    "            \n",
    "#     def forward(self, x):\n",
    "#         x = self.model(x)\n",
    "#         return x"
   ]
  },
  {
   "cell_type": "code",
   "execution_count": 13,
   "id": "73a5b82b-cb1e-4e91-8c70-3a1890bc707c",
   "metadata": {},
   "outputs": [],
   "source": [
    "# LOAD PRE-TRAINED MODEL\n",
    "class Student(nn.Module):\n",
    "    def __init__(self, model_arch, num_classes= 2,pretrained=True):\n",
    "        super(Student, self).__init__()\n",
    "        self.backbone = models.mobilenet_v3_large(pretrained=pretrained) ## 모델 선언 여기 models.##(pretrained =pretrained)\n",
    "        self.backbone.classifier[-1] = nn.Linear(self.backbone.classifier[-1].in_features, num_classes)\n",
    "        \n",
    "    def forward(self, x):\n",
    "        x = self.backbone(x)\n",
    "        return x"
   ]
  },
  {
   "cell_type": "code",
   "execution_count": 14,
   "id": "572bd9cd-7650-4d6d-8574-7a4942eef620",
   "metadata": {},
   "outputs": [],
   "source": [
    "# LOAD PRE-TRAINED MODEL\n",
    "class Teacher(nn.Module):\n",
    "    def __init__(self, model_arch, num_classes= 2,pretrained=True):\n",
    "        super(Teacher, self).__init__()\n",
    "        self.backbone = models.resnet152(pretrained=pretrained) ## 모델 선언 여기 models.##(pretrained =pretrained)\n",
    "        self.backbone.fc = nn.Linear(self.backbone.fc.in_features, num_classes)\n",
    "        \n",
    "    def forward(self, x):\n",
    "        x = self.backbone(x)\n",
    "        return x"
   ]
  },
  {
   "cell_type": "code",
   "execution_count": 15,
   "id": "240e5531",
   "metadata": {},
   "outputs": [],
   "source": [
    "def prepare_dataloader(df, trn_idx, val_idx, data_root=train.dir.values):\n",
    "    \n",
    "    train_ = df.loc[trn_idx,:].reset_index(drop=True)\n",
    "    valid_ = df.loc[val_idx,:].reset_index(drop=True)\n",
    "    train_data_root = data_root[trn_idx]\n",
    "    valid_data_root = data_root[val_idx]\n",
    "    \n",
    "        \n",
    "    train_ds = ColonDataset(train_,\n",
    "                            train_data_root,\n",
    "                            transform=transform_train,\n",
    "                            transform2=transform_train_cap,\n",
    "                            output_label=True)\n",
    "    valid_ds = ColonDataset(valid_,\n",
    "                            valid_data_root,\n",
    "                            transform=transform_test,\n",
    "                            output_label=True)\n",
    "    # WEIGHTEDRANDOMSAMPLER\n",
    "    class_counts = train_.label.value_counts(sort=False).to_dict()\n",
    "    num_samples = sum(class_counts.values())\n",
    "    print(f'cls_cnts: {len(class_counts)}\\nnum_samples:{num_samples}')\n",
    "    \n",
    "    # weight 제작, 전체 학습 데이터 수를 해당 클래스의 데이터 수로 나누어 줌\n",
    "    class_weights = {l:round(num_samples/class_counts[l], 2) for l in class_counts.keys()}\n",
    "    t_labels = train_.label.to_list()\n",
    "    \n",
    "    # class 별 weight를 전체 trainset에 대응시켜 sampler에 넣어줌\n",
    "    weights = [class_weights[t_labels[i]] for i in range(int(num_samples))]\n",
    "\n",
    "\n",
    "    # weight 제작, 전체 학습 데이터 수를 해당 클래스의 데이터 수로 나누어 줌\n",
    "    class_weights = {l:round(num_samples/class_counts[l], 2) for l in class_counts.keys()}\n",
    "\n",
    "    # class 별 weight를 전체 trainset에 대응시켜 sampler에 넣어줌\n",
    "    weights = [class_weights[t_labels[i]] for i in range(int(num_samples))] \n",
    "    sampler = torch.utils.data.WeightedRandomSampler(torch.DoubleTensor(weights), int(num_samples))\n",
    "    \n",
    "    train_loader = torch.utils.data.DataLoader(\n",
    "        train_ds,\n",
    "        batch_size=CFG['train_bs'],\n",
    "        pin_memory=True,\n",
    "        drop_last=False,\n",
    "        shuffle=False,\n",
    "        sampler=sampler, \n",
    "        num_workers=CFG['num_workers']\n",
    "    )\n",
    "    val_loader = torch.utils.data.DataLoader(\n",
    "        valid_ds, \n",
    "        batch_size=CFG['valid_bs'],\n",
    "        num_workers=CFG['num_workers'],\n",
    "        shuffle=False,\n",
    "        pin_memory=True,\n",
    "    )\n",
    "    return train_loader, val_loader"
   ]
  },
  {
   "cell_type": "code",
   "execution_count": 16,
   "id": "67bc652d-dfff-45d6-8412-38db1fe187e8",
   "metadata": {},
   "outputs": [],
   "source": [
    "# def distill_loss(student_logits, labels, teacher_logits, criterion, alpha=0.1):\n",
    "#     # TEACHER & STUDENT LOSS\n",
    "#     distillation_loss = criterion(student_logits, teacher_logits)\n",
    "    \n",
    "#     # STUDENT & LABEL LOSS\n",
    "#     student_loss = criterion(student_logits, labels)\n",
    "#     loss_b = alpha * student_loss + (1-alpha) * distillation_loss\n",
    "\n",
    "#     return loss_b"
   ]
  },
  {
   "cell_type": "code",
   "execution_count": 17,
   "id": "a0a7d551-5565-4c29-8398-371af4ece4b5",
   "metadata": {},
   "outputs": [],
   "source": [
    "def distill_loss(student_logits, labels, teacher_logits, criterion, alpha=0.1, temperature=2):\n",
    "    # STUDENT & LABEL LOSS\n",
    "    student_loss = criterion(student_logits, labels)\n",
    "\n",
    "    # TEACHER & STUDENT LOSS\n",
    "    teacher_probs = F.softmax(teacher_logits / temperature, dim=1)\n",
    "    student_probs = F.softmax(student_logits / temperature, dim=1)\n",
    "    distillation_loss = F.kl_div(torch.log(student_probs), teacher_probs, reduction=\"batchmean\") * (temperature ** 2)\n",
    "\n",
    "    # FINAL LOSS\n",
    "    loss_b = alpha * student_loss + (1 - alpha) * distillation_loss\n",
    "    return loss_b\n"
   ]
  },
  {
   "cell_type": "code",
   "execution_count": 18,
   "id": "08ffa2fa",
   "metadata": {},
   "outputs": [],
   "source": [
    "def train_one_epoch(epoch, s_model, t_model, loss_tr, optimizer, train_loader, device, scheduler=None, alpha =0.1):\n",
    "    t = time.time()\n",
    "\n",
    "    # SET MODEL TRAINING MODE\n",
    "    s_model.train()\n",
    "    t_model.eval()\n",
    "    \n",
    "    running_loss = None\n",
    "    loss_sum = 0\n",
    "    student_preds_all = []\n",
    "    image_targets_all = []\n",
    "    acc_list = []\n",
    "    \n",
    "    pbar = tqdm(enumerate(train_loader), total=len(train_loader))\n",
    "    for step, (imgs, image_labels) in pbar:\n",
    "        imgs = imgs.to(device).float()\n",
    "        image_labels = image_labels.to(device).long()\n",
    "        \n",
    "        optimizer.zero_grad()\n",
    "        \n",
    "        # STUDENT MODEL PREDICTION\n",
    "        with torch.cuda.amp.autocast():\n",
    "            student_preds = s_model(imgs)\n",
    "            \n",
    "            # TEACHER MODEL DISTILLATION (NO UPDATE)\n",
    "            with torch.no_grad():\n",
    "                teacher_preds = t_model(imgs)\n",
    "            \n",
    "            # DISTILLATION LOSS\n",
    "            loss = distill_loss(student_preds, image_labels, teacher_preds, loss_tr, alpha)\n",
    "            loss_sum+=loss.detach()\n",
    "            \n",
    "            # BACKPROPAGATION\n",
    "            optimizer.zero_grad()\n",
    "            scaler.scale(loss).backward()\n",
    "            scaler.step(optimizer)\n",
    "            scaler.update()\n",
    "        \n",
    "            if running_loss is None:\n",
    "                running_loss = loss.item()\n",
    "            else:\n",
    "                running_loss = running_loss * .99 + loss.item() * .01    \n",
    "            \n",
    "            # TQDM VERBOSE_STEP TRACKING\n",
    "            if ((step + 1) % CFG['verbose_step'] == 0) or ((step + 1) == len(train_loader)):\n",
    "                description = f'epoch {epoch} loss: {running_loss:.4f}'\n",
    "                pbar.set_description(description)\n",
    "        \n",
    "        student_preds_all += [torch.argmax(student_preds, 1).detach().cpu().numpy()]\n",
    "        image_targets_all += [image_labels.detach().cpu().numpy()]\n",
    "        \n",
    "    if scheduler is not None:\n",
    "        scheduler.step()\n",
    "    \n",
    "    student_preds_all = np.concatenate(student_preds_all)\n",
    "    image_targets_all = np.concatenate(image_targets_all)\n",
    "    \n",
    "    matrix = confusion_matrix(image_targets_all,student_preds_all)\n",
    "    epoch_f1 = f1_score(image_targets_all, student_preds_all, average='macro')\n",
    "    accuracy = (student_preds_all==image_targets_all).mean()\n",
    "    trn_loss = loss_sum/len(train_loader)\n",
    "    \n",
    "    return student_preds_all, accuracy, trn_loss, matrix, epoch_f1\n",
    "\n",
    "def valid_one_epoch(epoch,s_model, t_model, loss_fn, val_loader, device, scheduler=None, schd_loss_update=False, alpha =0.1):\n",
    "    ## Sets the model to valid mode\n",
    "    s_model.eval()\n",
    "    t_model.eval()\n",
    "\n",
    "    t = time.time()\n",
    "    loss_sum = 0\n",
    "    sample_num = 0\n",
    "    avg_loss = 0\n",
    "    student_preds_all = []\n",
    "    image_targets_all = []\n",
    "    \n",
    "    acc_list = []\n",
    "    \n",
    "    pbar = tqdm(enumerate(val_loader), total=len(val_loader))\n",
    "    for step, (imgs, image_labels) in pbar:\n",
    "        imgs = imgs.to(device).float()\n",
    "        image_labels = image_labels.to(device).long()\n",
    "        \n",
    "        student_preds = s_model(imgs)   #output = model(input)\n",
    "        teacher_preds = t_model(imgs) # teacher prediction\n",
    "        \n",
    "        loss = distill_loss(student_preds, image_labels, teacher_preds, loss_fn, alpha)\n",
    "        \n",
    "        student_preds_all += [torch.argmax(student_preds, 1).detach().cpu().numpy()]\n",
    "        image_targets_all += [image_labels.detach().cpu().numpy()]\n",
    "        \n",
    "        avg_loss += loss.item()\n",
    "        loss_sum += loss.item()*image_labels.shape[0]\n",
    "        sample_num += image_labels.shape[0]\n",
    "        \n",
    "        description = f'epoch {epoch} loss: {loss_sum/sample_num:.4f}'\n",
    "        pbar.set_description(description)\n",
    "    \n",
    "    student_preds_all = np.concatenate(student_preds_all)\n",
    "    image_targets_all = np.concatenate(image_targets_all)\n",
    "    matrix = confusion_matrix(image_targets_all,student_preds_all)\n",
    "    \n",
    "    epoch_f1 = f1_score(image_targets_all, student_preds_all, average='macro')\n",
    "    acc = (student_preds_all==image_targets_all).mean()\n",
    "    val_loss = avg_loss/len(val_loader)\n",
    "    \n",
    "    return student_preds_all, acc, val_loss, matrix, epoch_f1"
   ]
  },
  {
   "cell_type": "markdown",
   "id": "862e4b92-23e3-4444-9369-1dc9dc504b13",
   "metadata": {},
   "source": [
    "#### Early Stopping"
   ]
  },
  {
   "cell_type": "code",
   "execution_count": 19,
   "id": "77e9950b",
   "metadata": {},
   "outputs": [],
   "source": [
    "class EarlyStopping:\n",
    "    def __init__(self, patience=10, verbose=False, delta=0):\n",
    "        self.patience = patience\n",
    "        self.verbose = verbose\n",
    "        self.counter = 0\n",
    "        self.best_score = None\n",
    "        self.early_stop = False\n",
    "        self.val_loss_min = np.Inf\n",
    "        self.delta = delta\n",
    "\n",
    "    def __call__(self, score):\n",
    "        if self.best_score is None:\n",
    "            self.best_score = score\n",
    "        elif score <= self.best_score + self.delta:\n",
    "            self.counter += 1\n",
    "            print(f'EarlyStopping counter: {self.counter} out of {self.patience}')\n",
    "            print(f'Best F1 score from now: {self.best_score}')\n",
    "            if self.counter >= self.patience:\n",
    "                self.early_stop = True\n",
    "        else:\n",
    "            self.best_score = score\n",
    "            self.counter = 0\n",
    "        \n",
    "        return self.early_stop"
   ]
  },
  {
   "cell_type": "code",
   "execution_count": null,
   "id": "37102a34",
   "metadata": {},
   "outputs": [
    {
     "name": "stderr",
     "output_type": "stream",
     "text": [
      "Failed to detect the name of this notebook, you can set it manually with the WANDB_NOTEBOOK_NAME environment variable to enable code saving.\n",
      "\u001b[34m\u001b[1mwandb\u001b[0m: Currently logged in as: \u001b[33mhojunking\u001b[0m. Use \u001b[1m`wandb login --relogin`\u001b[0m to force relogin\n"
     ]
    },
    {
     "data": {
      "text/html": [
       "wandb version 0.15.0 is available!  To upgrade, please run:\n",
       " $ pip install wandb --upgrade"
      ],
      "text/plain": [
       "<IPython.core.display.HTML object>"
      ]
     },
     "metadata": {},
     "output_type": "display_data"
    },
    {
     "data": {
      "text/html": [
       "Tracking run with wandb version 0.13.4"
      ],
      "text/plain": [
       "<IPython.core.display.HTML object>"
      ]
     },
     "metadata": {},
     "output_type": "display_data"
    },
    {
     "data": {
      "text/html": [
       "Run data is saved locally in <code>/home/hojun/git/KD_models/wandb/run-20230424_174201-1f5qsyn6</code>"
      ],
      "text/plain": [
       "<IPython.core.display.HTML object>"
      ]
     },
     "metadata": {},
     "output_type": "display_data"
    },
    {
     "data": {
      "text/html": [
       "Syncing run <strong><a href=\"https://wandb.ai/hojunking/KD_mobilenet_resnet15220230424174153/runs/1f5qsyn6\" target=\"_blank\">tough-resonance-1</a></strong> to <a href=\"https://wandb.ai/hojunking/KD_mobilenet_resnet15220230424174153\" target=\"_blank\">Weights & Biases</a> (<a href=\"https://wandb.me/run\" target=\"_blank\">docs</a>)<br/>"
      ],
      "text/plain": [
       "<IPython.core.display.HTML object>"
      ]
     },
     "metadata": {},
     "output_type": "display_data"
    },
    {
     "name": "stdout",
     "output_type": "stream",
     "text": [
      "Model: mobilenet_v3_large\n",
      "Training start with fold: 0 epoch: 200 \n",
      "\n",
      "cls_cnts: 16\n",
      "num_samples:27969\n"
     ]
    },
    {
     "name": "stderr",
     "output_type": "stream",
     "text": [
      "/home/hojun/miniconda3/envs/torch/lib/python3.10/site-packages/torchvision/models/_utils.py:208: UserWarning: The parameter 'pretrained' is deprecated since 0.13 and may be removed in the future, please use 'weights' instead.\n",
      "  warnings.warn(\n",
      "/home/hojun/miniconda3/envs/torch/lib/python3.10/site-packages/torchvision/models/_utils.py:223: UserWarning: Arguments other than a weight enum or `None` for 'weights' are deprecated since 0.13 and may be removed in the future. The current behavior is equivalent to passing `weights=MobileNet_V3_Large_Weights.IMAGENET1K_V1`. You can also use `weights=MobileNet_V3_Large_Weights.DEFAULT` to get the most up-to-date weights.\n",
      "  warnings.warn(msg)\n",
      "/home/hojun/miniconda3/envs/torch/lib/python3.10/site-packages/torchvision/models/_utils.py:223: UserWarning: Arguments other than a weight enum or `None` for 'weights' are deprecated since 0.13 and may be removed in the future. The current behavior is equivalent to passing `weights=ResNet152_Weights.IMAGENET1K_V1`. You can also use `weights=ResNet152_Weights.DEFAULT` to get the most up-to-date weights.\n",
      "  warnings.warn(msg)\n"
     ]
    },
    {
     "name": "stdout",
     "output_type": "stream",
     "text": [
      "Fold: 0\n",
      "\n",
      "Epoch 0/199\n"
     ]
    },
    {
     "name": "stderr",
     "output_type": "stream",
     "text": [
      "epoch 0 loss: 1.0073: 100%|███████████████████| 438/438 [08:03<00:00,  1.10s/it]\n",
      "epoch 0 loss: 0.7067: 100%|███████████████████| 110/110 [02:32<00:00,  1.39s/it]"
     ]
    },
    {
     "name": "stdout",
     "output_type": "stream",
     "text": [
      "Epoch [0], Train Loss : [1.62077] Val Loss : [0.70387] Val F1 Score : [0.89784]\n",
      "Epoch 1/199\n"
     ]
    },
    {
     "name": "stderr",
     "output_type": "stream",
     "text": [
      "\n",
      "epoch 1 loss: 0.5870: 100%|███████████████████| 438/438 [08:06<00:00,  1.11s/it]\n",
      "epoch 1 loss: 0.5816: 100%|███████████████████| 110/110 [02:38<00:00,  1.44s/it]"
     ]
    },
    {
     "name": "stdout",
     "output_type": "stream",
     "text": [
      "Epoch [1], Train Loss : [0.59279] Val Loss : [0.58067] Val F1 Score : [0.91824]\n",
      "Epoch 2/199\n"
     ]
    },
    {
     "name": "stderr",
     "output_type": "stream",
     "text": [
      "\n",
      "epoch 2 loss: 0.5057: 100%|███████████████████| 438/438 [08:05<00:00,  1.11s/it]\n",
      "epoch 2 loss: 0.5258: 100%|███████████████████| 110/110 [02:40<00:00,  1.46s/it]"
     ]
    },
    {
     "name": "stdout",
     "output_type": "stream",
     "text": [
      "Epoch [2], Train Loss : [0.47191] Val Loss : [0.52394] Val F1 Score : [0.93086]\n",
      "Epoch 3/199\n"
     ]
    },
    {
     "name": "stderr",
     "output_type": "stream",
     "text": [
      "\n",
      "epoch 3 loss: 0.4602: 100%|███████████████████| 438/438 [08:05<00:00,  1.11s/it]\n",
      "epoch 3 loss: 0.5408: 100%|███████████████████| 110/110 [02:35<00:00,  1.41s/it]"
     ]
    },
    {
     "name": "stdout",
     "output_type": "stream",
     "text": [
      "Epoch [3], Train Loss : [0.40348] Val Loss : [0.53901] Val F1 Score : [0.92608]\n",
      "EarlyStopping counter: 1 out of 5\n",
      "Best F1 score from now: 0.9308618101637917\n",
      "Epoch 4/199\n"
     ]
    },
    {
     "name": "stderr",
     "output_type": "stream",
     "text": [
      "\n",
      "epoch 4 loss: 0.3980: 100%|███████████████████| 438/438 [08:03<00:00,  1.10s/it]\n",
      "epoch 4 loss: 0.4799: 100%|███████████████████| 110/110 [02:38<00:00,  1.44s/it]"
     ]
    },
    {
     "name": "stdout",
     "output_type": "stream",
     "text": [
      "Epoch [4], Train Loss : [0.34208] Val Loss : [0.47873] Val F1 Score : [0.93745]\n",
      "Epoch 5/199\n"
     ]
    },
    {
     "name": "stderr",
     "output_type": "stream",
     "text": [
      "\n",
      "epoch 5 loss: 0.3442: 100%|███████████████████| 438/438 [08:03<00:00,  1.10s/it]\n",
      "epoch 5 loss: 0.4684: 100%|███████████████████| 110/110 [02:33<00:00,  1.39s/it]"
     ]
    },
    {
     "name": "stdout",
     "output_type": "stream",
     "text": [
      "Epoch [5], Train Loss : [0.30546] Val Loss : [0.46699] Val F1 Score : [0.93534]\n",
      "EarlyStopping counter: 1 out of 5\n",
      "Best F1 score from now: 0.9374492241306904\n",
      "Epoch 6/199\n"
     ]
    },
    {
     "name": "stderr",
     "output_type": "stream",
     "text": [
      "\n",
      "epoch 6 loss: 0.3139: 100%|███████████████████| 438/438 [08:12<00:00,  1.12s/it]\n",
      "epoch 6 loss: 0.4411: 100%|███████████████████| 110/110 [02:40<00:00,  1.46s/it]"
     ]
    },
    {
     "name": "stdout",
     "output_type": "stream",
     "text": [
      "Epoch [6], Train Loss : [0.27269] Val Loss : [0.43942] Val F1 Score : [0.94355]\n",
      "Epoch 7/199\n"
     ]
    },
    {
     "name": "stderr",
     "output_type": "stream",
     "text": [
      "\n",
      "epoch 7 loss: 0.3018: 100%|███████████████████| 438/438 [08:21<00:00,  1.14s/it]\n",
      "epoch 7 loss: 0.4413: 100%|███████████████████| 110/110 [02:33<00:00,  1.40s/it]"
     ]
    },
    {
     "name": "stdout",
     "output_type": "stream",
     "text": [
      "Epoch [7], Train Loss : [0.25319] Val Loss : [0.43930] Val F1 Score : [0.94156]\n",
      "EarlyStopping counter: 1 out of 5\n",
      "Best F1 score from now: 0.9435466767536864\n",
      "Epoch 8/199\n"
     ]
    },
    {
     "name": "stderr",
     "output_type": "stream",
     "text": [
      "\n",
      "epoch 8 loss: 0.2929: 100%|███████████████████| 438/438 [08:10<00:00,  1.12s/it]\n",
      "epoch 8 loss: 0.4258: 100%|███████████████████| 110/110 [02:36<00:00,  1.42s/it]"
     ]
    },
    {
     "name": "stdout",
     "output_type": "stream",
     "text": [
      "Epoch [8], Train Loss : [0.24577] Val Loss : [0.42405] Val F1 Score : [0.94267]\n",
      "EarlyStopping counter: 2 out of 5\n",
      "Best F1 score from now: 0.9435466767536864\n",
      "Epoch 9/199\n"
     ]
    },
    {
     "name": "stderr",
     "output_type": "stream",
     "text": [
      "\n",
      "epoch 9 loss: 0.2783: 100%|███████████████████| 438/438 [08:11<00:00,  1.12s/it]\n",
      "epoch 9 loss: 0.4201: 100%|███████████████████| 110/110 [02:36<00:00,  1.42s/it]"
     ]
    },
    {
     "name": "stdout",
     "output_type": "stream",
     "text": [
      "Epoch [9], Train Loss : [0.22868] Val Loss : [0.41870] Val F1 Score : [0.94488]\n",
      "Epoch 10/199\n"
     ]
    },
    {
     "name": "stderr",
     "output_type": "stream",
     "text": [
      "\n",
      "epoch 10 loss: 0.2669: 100%|██████████████████| 438/438 [08:08<00:00,  1.12s/it]\n",
      "epoch 10 loss: 0.4065: 100%|██████████████████| 110/110 [02:41<00:00,  1.46s/it]\n"
     ]
    },
    {
     "name": "stdout",
     "output_type": "stream",
     "text": [
      "Epoch [10], Train Loss : [0.21341] Val Loss : [0.40487] Val F1 Score : [0.94744]\n",
      "Epoch 11/199\n"
     ]
    },
    {
     "name": "stderr",
     "output_type": "stream",
     "text": [
      "epoch 11 loss: 0.2612: 100%|██████████████████| 438/438 [08:16<00:00,  1.13s/it]\n",
      "epoch 11 loss: 0.4052: 100%|██████████████████| 110/110 [02:37<00:00,  1.43s/it]"
     ]
    },
    {
     "name": "stdout",
     "output_type": "stream",
     "text": [
      "Epoch [11], Train Loss : [0.20587] Val Loss : [0.40362] Val F1 Score : [0.94829]\n",
      "Epoch 12/199\n"
     ]
    },
    {
     "name": "stderr",
     "output_type": "stream",
     "text": [
      "\n",
      "epoch 12 loss: 0.2339: 100%|██████████████████| 438/438 [08:12<00:00,  1.12s/it]\n",
      "epoch 12 loss: 0.4013: 100%|██████████████████| 110/110 [02:34<00:00,  1.41s/it]"
     ]
    },
    {
     "name": "stdout",
     "output_type": "stream",
     "text": [
      "Epoch [12], Train Loss : [0.19628] Val Loss : [0.39985] Val F1 Score : [0.94789]\n",
      "EarlyStopping counter: 1 out of 5\n",
      "Best F1 score from now: 0.9482861962971243\n",
      "Epoch 13/199\n"
     ]
    },
    {
     "name": "stderr",
     "output_type": "stream",
     "text": [
      "\n",
      "epoch 13 loss: 0.2183: 100%|██████████████████| 438/438 [08:12<00:00,  1.12s/it]\n",
      "epoch 13 loss: 0.4073: 100%|██████████████████| 110/110 [02:40<00:00,  1.46s/it]"
     ]
    },
    {
     "name": "stdout",
     "output_type": "stream",
     "text": [
      "Epoch [13], Train Loss : [0.18563] Val Loss : [0.40554] Val F1 Score : [0.94752]\n",
      "EarlyStopping counter: 2 out of 5\n",
      "Best F1 score from now: 0.9482861962971243\n",
      "Epoch 14/199\n"
     ]
    },
    {
     "name": "stderr",
     "output_type": "stream",
     "text": [
      "\n",
      "epoch 14 loss: 0.2405: 100%|██████████████████| 438/438 [08:15<00:00,  1.13s/it]\n",
      "epoch 14 loss: 0.3988: 100%|██████████████████| 110/110 [02:38<00:00,  1.44s/it]"
     ]
    },
    {
     "name": "stdout",
     "output_type": "stream",
     "text": [
      "Epoch [14], Train Loss : [0.19031] Val Loss : [0.39718] Val F1 Score : [0.94708]\n",
      "EarlyStopping counter: 3 out of 5\n",
      "Best F1 score from now: 0.9482861962971243\n",
      "Epoch 15/199\n"
     ]
    },
    {
     "name": "stderr",
     "output_type": "stream",
     "text": [
      "\n",
      "epoch 15 loss: 0.2416: 100%|██████████████████| 438/438 [08:10<00:00,  1.12s/it]\n",
      "epoch 15 loss: 0.3965: 100%|██████████████████| 110/110 [02:35<00:00,  1.42s/it]"
     ]
    },
    {
     "name": "stdout",
     "output_type": "stream",
     "text": [
      "Epoch [15], Train Loss : [0.18442] Val Loss : [0.39478] Val F1 Score : [0.94704]\n",
      "EarlyStopping counter: 4 out of 5\n",
      "Best F1 score from now: 0.9482861962971243\n",
      "Epoch 16/199\n"
     ]
    },
    {
     "name": "stderr",
     "output_type": "stream",
     "text": [
      "\n",
      "epoch 16 loss: 0.2189: 100%|██████████████████| 438/438 [08:13<00:00,  1.13s/it]\n",
      "epoch 16 loss: 0.3939: 100%|██████████████████| 110/110 [02:35<00:00,  1.42s/it]\n",
      "/home/hojun/miniconda3/envs/torch/lib/python3.10/site-packages/torchvision/models/_utils.py:208: UserWarning: The parameter 'pretrained' is deprecated since 0.13 and may be removed in the future, please use 'weights' instead.\n",
      "  warnings.warn(\n",
      "/home/hojun/miniconda3/envs/torch/lib/python3.10/site-packages/torchvision/models/_utils.py:223: UserWarning: Arguments other than a weight enum or `None` for 'weights' are deprecated since 0.13 and may be removed in the future. The current behavior is equivalent to passing `weights=MobileNet_V3_Large_Weights.IMAGENET1K_V1`. You can also use `weights=MobileNet_V3_Large_Weights.DEFAULT` to get the most up-to-date weights.\n",
      "  warnings.warn(msg)\n",
      "/home/hojun/miniconda3/envs/torch/lib/python3.10/site-packages/torchvision/models/_utils.py:223: UserWarning: Arguments other than a weight enum or `None` for 'weights' are deprecated since 0.13 and may be removed in the future. The current behavior is equivalent to passing `weights=ResNet152_Weights.IMAGENET1K_V1`. You can also use `weights=ResNet152_Weights.DEFAULT` to get the most up-to-date weights.\n",
      "  warnings.warn(msg)\n"
     ]
    },
    {
     "name": "stdout",
     "output_type": "stream",
     "text": [
      "Epoch [16], Train Loss : [0.17928] Val Loss : [0.39224] Val F1 Score : [0.94788]\n",
      "EarlyStopping counter: 5 out of 5\n",
      "Best F1 score from now: 0.9482861962971243\n",
      "stop called\n",
      "time : 3:03:33\n",
      "fold: 0, Best Epoch : 11/ 17\n",
      "Best Train Marco F1 : 0.97718\n",
      "[[1790    3    1    0    2    0    0    0    0    0    0    0    0    0\n",
      "     1    0]\n",
      " [   7 1754    0    0    3    0    0    1    0    1    3    6    0    0\n",
      "     0    0]\n",
      " [   1    0 1729    0    1    1    0    0    8    5    2    0    2    1\n",
      "     0    1]\n",
      " [   0    0    1 1766   10    1   12    3    6    0    0    0    0    0\n",
      "     3    2]\n",
      " [   4    3    5    8 1454    7   10    7   11   79    6   11   11    1\n",
      "     7    3]\n",
      " [   0    0    2    1    3 1762    1    2    0    5    1    0    6    1\n",
      "     0    5]\n",
      " [   0    0    2    9    8    1 1753    2    1    1    1    0    3    0\n",
      "     1    2]\n",
      " [   0    0    0    6    6    1    2 1678    0    1    5    1    2    1\n",
      "     3    2]\n",
      " [   0    0    8   11    8    0    2    0 1717    3    1    0    3    1\n",
      "     3    7]\n",
      " [   0    0    5    2   38    2    1    0    2 1625    0    0    1    0\n",
      "     0    2]\n",
      " [   0    0    3    1    1    0    0    2    0    1 1738    1    1    2\n",
      "     1    2]\n",
      " [   1    1    0    0   13    0    0    1    0    0    0 1702    0    2\n",
      "     2    0]\n",
      " [   0    0    0    4   15   31    4    1    0    1    3    0 1703    0\n",
      "     0    4]\n",
      " [   0    0    1    2    0    0    0    0    0    0    0    1    0 1757\n",
      "     4    6]\n",
      " [   0    0    2    0    7    2    1    0    0    2    2    1    3    6\n",
      "  1704    1]\n",
      " [   0    0    2    3    4   13    2    1    6    2    1    0    4    0\n",
      "     0 1711]]\n",
      "Best Valid Marco F1 : 0.94829\n",
      "[[287  12   0   0  10   0   0   1   0   0   0   1   0   1   0   0]\n",
      " [  8 452   0   0   1   0   0   0   0   0   0   0   0   0   0   0]\n",
      " [  0   0 895   0   2   0   0   0   2  13   5   0   3   0   8   2]\n",
      " [  0   0   0 304   2   1   4   2   3   0   0   0   1   0   0   3]\n",
      " [  4  12  13   4 472   5   4   7   7  51   3   1   6   2   5   4]\n",
      " [  0   0   2   0   0 391   0   0   0   1   0   0   5   0   0   1]\n",
      " [  0   0   1   2   3   0 387   1   0   0   0   0   2   0   0   4]\n",
      " [  0   0   0   0   1   2   0 252   0   0   2   0   0   0   1   2]\n",
      " [  0   0   9   3   3   1   1   0 371   4   1   0   1   1   0   5]\n",
      " [  0   0  13   0  17   2   0   0   4 826   0   0   2   1   5   0]\n",
      " [  1   0   1   0   1   0   0   0   0   2 432   0   1   2   0   0]\n",
      " [  1   1   0   0   3   0   0   0   0   0   0 115   0   0   0   0]\n",
      " [  0   0   1   1   3   5   1   0   0   2   0   0 244   0   2   1]\n",
      " [  0   0   2   0   0   0   0   0   0   0   0   0   0 597   1   0]\n",
      " [  0   0   2   0   2   0   2   0   0   0   1   0   0   0 353   0]\n",
      " [  0   0   1   0   0   2   1   0   5   0   2   0   2   1   3 243]]\n",
      "-----------------------------------------------------------------------\n",
      "Training start with fold: 1 epoch: 200 \n",
      "\n",
      "cls_cnts: 16\n",
      "num_samples:27969\n",
      "Fold: 1\n",
      "\n",
      "Epoch 0/199\n"
     ]
    },
    {
     "name": "stderr",
     "output_type": "stream",
     "text": [
      "epoch 0 loss: 0.9624: 100%|███████████████████| 438/438 [07:53<00:00,  1.08s/it]\n",
      "epoch 0 loss: 0.6924: 100%|███████████████████| 110/110 [02:28<00:00,  1.35s/it]"
     ]
    },
    {
     "name": "stdout",
     "output_type": "stream",
     "text": [
      "Epoch [0], Train Loss : [1.58310] Val Loss : [0.69560] Val F1 Score : [0.90357]\n",
      "Epoch 1/199\n"
     ]
    },
    {
     "name": "stderr",
     "output_type": "stream",
     "text": [
      "\n",
      "epoch 1 loss: 0.5678: 100%|███████████████████| 438/438 [07:48<00:00,  1.07s/it]\n",
      "epoch 1 loss: 0.5733: 100%|███████████████████| 110/110 [02:27<00:00,  1.35s/it]"
     ]
    },
    {
     "name": "stdout",
     "output_type": "stream",
     "text": [
      "Epoch [1], Train Loss : [0.59141] Val Loss : [0.57450] Val F1 Score : [0.91571]\n",
      "Epoch 2/199\n"
     ]
    },
    {
     "name": "stderr",
     "output_type": "stream",
     "text": [
      "\n",
      "epoch 2 loss: 0.4967: 100%|███████████████████| 438/438 [07:50<00:00,  1.08s/it]\n",
      "epoch 2 loss: 0.5273: 100%|███████████████████| 110/110 [02:28<00:00,  1.35s/it]"
     ]
    },
    {
     "name": "stdout",
     "output_type": "stream",
     "text": [
      "Epoch [2], Train Loss : [0.47651] Val Loss : [0.53137] Val F1 Score : [0.92733]\n",
      "Epoch 3/199\n"
     ]
    },
    {
     "name": "stderr",
     "output_type": "stream",
     "text": [
      "\n",
      "epoch 3 loss: 0.4439: 100%|███████████████████| 438/438 [07:51<00:00,  1.08s/it]\n",
      "epoch 3 loss: 0.4976: 100%|███████████████████| 110/110 [02:28<00:00,  1.35s/it]"
     ]
    },
    {
     "name": "stdout",
     "output_type": "stream",
     "text": [
      "Epoch [3], Train Loss : [0.40814] Val Loss : [0.50085] Val F1 Score : [0.93120]\n",
      "Epoch 4/199\n"
     ]
    },
    {
     "name": "stderr",
     "output_type": "stream",
     "text": [
      "\n",
      "epoch 4 loss: 0.3788: 100%|███████████████████| 438/438 [07:42<00:00,  1.06s/it]\n",
      "epoch 4 loss: 0.4976: 100%|███████████████████| 110/110 [02:30<00:00,  1.37s/it]"
     ]
    },
    {
     "name": "stdout",
     "output_type": "stream",
     "text": [
      "Epoch [4], Train Loss : [0.34253] Val Loss : [0.49991] Val F1 Score : [0.93353]\n",
      "Epoch 5/199\n"
     ]
    },
    {
     "name": "stderr",
     "output_type": "stream",
     "text": [
      "\n",
      "epoch 5 loss: 0.3283: 100%|███████████████████| 438/438 [07:45<00:00,  1.06s/it]\n",
      "epoch 5 loss: 0.4229: 100%|███████████████████| 110/110 [02:25<00:00,  1.33s/it]"
     ]
    },
    {
     "name": "stdout",
     "output_type": "stream",
     "text": [
      "Epoch [5], Train Loss : [0.28590] Val Loss : [0.42359] Val F1 Score : [0.94154]\n",
      "Epoch 6/199\n"
     ]
    },
    {
     "name": "stderr",
     "output_type": "stream",
     "text": [
      "\n",
      "epoch 6 loss: 0.3151: 100%|███████████████████| 438/438 [07:46<00:00,  1.06s/it]\n",
      "epoch 6 loss: 0.4237: 100%|███████████████████| 110/110 [02:24<00:00,  1.31s/it]"
     ]
    },
    {
     "name": "stdout",
     "output_type": "stream",
     "text": [
      "Epoch [6], Train Loss : [0.26601] Val Loss : [0.42680] Val F1 Score : [0.94169]\n",
      "Epoch 7/199\n"
     ]
    },
    {
     "name": "stderr",
     "output_type": "stream",
     "text": [
      "\n",
      "epoch 7 loss: 0.2815: 100%|███████████████████| 438/438 [07:41<00:00,  1.05s/it]\n",
      "epoch 7 loss: 0.4134: 100%|███████████████████| 110/110 [02:26<00:00,  1.33s/it]"
     ]
    },
    {
     "name": "stdout",
     "output_type": "stream",
     "text": [
      "Epoch [7], Train Loss : [0.25065] Val Loss : [0.41437] Val F1 Score : [0.94225]\n",
      "Epoch 8/199\n"
     ]
    },
    {
     "name": "stderr",
     "output_type": "stream",
     "text": [
      "\n",
      "epoch 8 loss: 0.2955: 100%|███████████████████| 438/438 [07:49<00:00,  1.07s/it]\n",
      "epoch 8 loss: 0.4056: 100%|███████████████████| 110/110 [02:27<00:00,  1.34s/it]"
     ]
    },
    {
     "name": "stdout",
     "output_type": "stream",
     "text": [
      "Epoch [8], Train Loss : [0.25161] Val Loss : [0.40751] Val F1 Score : [0.94420]\n",
      "Epoch 9/199\n"
     ]
    },
    {
     "name": "stderr",
     "output_type": "stream",
     "text": [
      "\n",
      "epoch 9 loss: 0.2735: 100%|███████████████████| 438/438 [07:55<00:00,  1.09s/it]\n",
      "epoch 9 loss: 0.4062: 100%|███████████████████| 110/110 [02:24<00:00,  1.32s/it]"
     ]
    },
    {
     "name": "stdout",
     "output_type": "stream",
     "text": [
      "Epoch [9], Train Loss : [0.22299] Val Loss : [0.40881] Val F1 Score : [0.94515]\n",
      "Epoch 10/199\n"
     ]
    },
    {
     "name": "stderr",
     "output_type": "stream",
     "text": [
      "\n",
      "epoch 10 loss: 0.2654: 100%|██████████████████| 438/438 [07:58<00:00,  1.09s/it]\n",
      "epoch 10 loss: 0.3870: 100%|██████████████████| 110/110 [02:24<00:00,  1.31s/it]"
     ]
    },
    {
     "name": "stdout",
     "output_type": "stream",
     "text": [
      "Epoch [10], Train Loss : [0.21241] Val Loss : [0.38903] Val F1 Score : [0.94665]\n",
      "Epoch 11/199\n"
     ]
    },
    {
     "name": "stderr",
     "output_type": "stream",
     "text": [
      "\n",
      "epoch 11 loss: 0.2522: 100%|██████████████████| 438/438 [07:52<00:00,  1.08s/it]\n",
      "epoch 11 loss: 0.3849: 100%|██████████████████| 110/110 [02:27<00:00,  1.34s/it]"
     ]
    },
    {
     "name": "stdout",
     "output_type": "stream",
     "text": [
      "Epoch [11], Train Loss : [0.20355] Val Loss : [0.38591] Val F1 Score : [0.94726]\n",
      "Epoch 12/199\n"
     ]
    },
    {
     "name": "stderr",
     "output_type": "stream",
     "text": [
      "\n",
      "epoch 12 loss: 0.2142: 100%|██████████████████| 438/438 [07:48<00:00,  1.07s/it]\n",
      "epoch 12 loss: 0.3821: 100%|██████████████████| 110/110 [02:25<00:00,  1.32s/it]"
     ]
    },
    {
     "name": "stdout",
     "output_type": "stream",
     "text": [
      "Epoch [12], Train Loss : [0.19062] Val Loss : [0.38452] Val F1 Score : [0.94590]\n",
      "EarlyStopping counter: 1 out of 5\n",
      "Best F1 score from now: 0.9472597653467966\n",
      "Epoch 13/199\n"
     ]
    },
    {
     "name": "stderr",
     "output_type": "stream",
     "text": [
      "\n",
      "epoch 13 loss: 0.2242: 100%|██████████████████| 438/438 [07:46<00:00,  1.07s/it]\n",
      "epoch 13 loss: 0.3895: 100%|██████████████████| 110/110 [02:27<00:00,  1.34s/it]"
     ]
    },
    {
     "name": "stdout",
     "output_type": "stream",
     "text": [
      "Epoch [13], Train Loss : [0.18661] Val Loss : [0.39271] Val F1 Score : [0.94686]\n",
      "EarlyStopping counter: 2 out of 5\n",
      "Best F1 score from now: 0.9472597653467966\n",
      "Epoch 14/199\n"
     ]
    },
    {
     "name": "stderr",
     "output_type": "stream",
     "text": [
      "\n",
      "epoch 14 loss: 0.2301: 100%|██████████████████| 438/438 [07:52<00:00,  1.08s/it]\n",
      "epoch 14 loss: 0.3805: 100%|██████████████████| 110/110 [02:24<00:00,  1.31s/it]"
     ]
    },
    {
     "name": "stdout",
     "output_type": "stream",
     "text": [
      "Epoch [14], Train Loss : [0.18379] Val Loss : [0.38181] Val F1 Score : [0.94951]\n",
      "Epoch 15/199\n"
     ]
    },
    {
     "name": "stderr",
     "output_type": "stream",
     "text": [
      "\n",
      "epoch 15 loss: 0.2278: 100%|██████████████████| 438/438 [07:51<00:00,  1.08s/it]\n",
      "epoch 15 loss: 0.3722: 100%|██████████████████| 110/110 [02:23<00:00,  1.30s/it]\n"
     ]
    },
    {
     "name": "stdout",
     "output_type": "stream",
     "text": [
      "Epoch [15], Train Loss : [0.18263] Val Loss : [0.37448] Val F1 Score : [0.94980]\n",
      "Epoch 16/199\n"
     ]
    },
    {
     "name": "stderr",
     "output_type": "stream",
     "text": [
      "epoch 16 loss: 0.2094: 100%|██████████████████| 438/438 [07:46<00:00,  1.07s/it]\n",
      "epoch 16 loss: 0.3720: 100%|██████████████████| 110/110 [02:25<00:00,  1.32s/it]"
     ]
    },
    {
     "name": "stdout",
     "output_type": "stream",
     "text": [
      "Epoch [16], Train Loss : [0.17486] Val Loss : [0.37358] Val F1 Score : [0.94866]\n",
      "EarlyStopping counter: 1 out of 5\n",
      "Best F1 score from now: 0.9498023530771353\n",
      "Epoch 17/199\n"
     ]
    },
    {
     "name": "stderr",
     "output_type": "stream",
     "text": [
      "\n",
      "epoch 17 loss: 0.2263: 100%|██████████████████| 438/438 [07:47<00:00,  1.07s/it]\n",
      "epoch 17 loss: 0.3683: 100%|██████████████████| 110/110 [02:29<00:00,  1.36s/it]\n"
     ]
    },
    {
     "name": "stdout",
     "output_type": "stream",
     "text": [
      "Epoch [17], Train Loss : [0.17492] Val Loss : [0.37057] Val F1 Score : [0.95123]\n",
      "Epoch 18/199\n"
     ]
    },
    {
     "name": "stderr",
     "output_type": "stream",
     "text": [
      "epoch 18 loss: 0.2196: 100%|██████████████████| 438/438 [07:49<00:00,  1.07s/it]\n",
      "epoch 18 loss: 0.3687: 100%|██████████████████| 110/110 [02:28<00:00,  1.35s/it]"
     ]
    },
    {
     "name": "stdout",
     "output_type": "stream",
     "text": [
      "Epoch [18], Train Loss : [0.16791] Val Loss : [0.36997] Val F1 Score : [0.94841]\n",
      "EarlyStopping counter: 1 out of 5\n",
      "Best F1 score from now: 0.9512271741521529\n",
      "Epoch 19/199\n"
     ]
    },
    {
     "name": "stderr",
     "output_type": "stream",
     "text": [
      "\n",
      "epoch 19 loss: 0.2222: 100%|██████████████████| 438/438 [07:49<00:00,  1.07s/it]\n",
      "epoch 19 loss: 0.3669: 100%|██████████████████| 110/110 [02:24<00:00,  1.31s/it]"
     ]
    },
    {
     "name": "stdout",
     "output_type": "stream",
     "text": [
      "Epoch [19], Train Loss : [0.16907] Val Loss : [0.36867] Val F1 Score : [0.94918]\n",
      "EarlyStopping counter: 2 out of 5\n",
      "Best F1 score from now: 0.9512271741521529\n",
      "Epoch 20/199\n"
     ]
    },
    {
     "name": "stderr",
     "output_type": "stream",
     "text": [
      "\n",
      "epoch 20 loss: 0.2016: 100%|██████████████████| 438/438 [07:54<00:00,  1.08s/it]\n",
      "epoch 20 loss: 0.3689: 100%|██████████████████| 110/110 [02:26<00:00,  1.33s/it]"
     ]
    },
    {
     "name": "stdout",
     "output_type": "stream",
     "text": [
      "Epoch [20], Train Loss : [0.16592] Val Loss : [0.37136] Val F1 Score : [0.94983]\n",
      "EarlyStopping counter: 3 out of 5\n",
      "Best F1 score from now: 0.9512271741521529\n",
      "Epoch 21/199\n"
     ]
    },
    {
     "name": "stderr",
     "output_type": "stream",
     "text": [
      "\n",
      "epoch 21 loss: 0.2322: 100%|██████████████████| 438/438 [07:47<00:00,  1.07s/it]\n",
      "epoch 21 loss: 0.3669: 100%|██████████████████| 110/110 [02:25<00:00,  1.32s/it]"
     ]
    },
    {
     "name": "stdout",
     "output_type": "stream",
     "text": [
      "Epoch [21], Train Loss : [0.16991] Val Loss : [0.36861] Val F1 Score : [0.95093]\n",
      "EarlyStopping counter: 4 out of 5\n",
      "Best F1 score from now: 0.9512271741521529\n",
      "Epoch 22/199\n"
     ]
    },
    {
     "name": "stderr",
     "output_type": "stream",
     "text": [
      "\n",
      "epoch 22 loss: 0.2339: 100%|██████████████████| 438/438 [07:52<00:00,  1.08s/it]\n",
      "epoch 22 loss: 0.3692: 100%|██████████████████| 110/110 [02:25<00:00,  1.32s/it]\n",
      "/home/hojun/miniconda3/envs/torch/lib/python3.10/site-packages/torchvision/models/_utils.py:208: UserWarning: The parameter 'pretrained' is deprecated since 0.13 and may be removed in the future, please use 'weights' instead.\n",
      "  warnings.warn(\n",
      "/home/hojun/miniconda3/envs/torch/lib/python3.10/site-packages/torchvision/models/_utils.py:223: UserWarning: Arguments other than a weight enum or `None` for 'weights' are deprecated since 0.13 and may be removed in the future. The current behavior is equivalent to passing `weights=MobileNet_V3_Large_Weights.IMAGENET1K_V1`. You can also use `weights=MobileNet_V3_Large_Weights.DEFAULT` to get the most up-to-date weights.\n",
      "  warnings.warn(msg)\n",
      "/home/hojun/miniconda3/envs/torch/lib/python3.10/site-packages/torchvision/models/_utils.py:223: UserWarning: Arguments other than a weight enum or `None` for 'weights' are deprecated since 0.13 and may be removed in the future. The current behavior is equivalent to passing `weights=ResNet152_Weights.IMAGENET1K_V1`. You can also use `weights=ResNet152_Weights.DEFAULT` to get the most up-to-date weights.\n",
      "  warnings.warn(msg)\n"
     ]
    },
    {
     "name": "stdout",
     "output_type": "stream",
     "text": [
      "Epoch [22], Train Loss : [0.16833] Val Loss : [0.37155] Val F1 Score : [0.94961]\n",
      "EarlyStopping counter: 5 out of 5\n",
      "Best F1 score from now: 0.9512271741521529\n",
      "stop called\n",
      "time : 3:56:33\n",
      "fold: 1, Best Epoch : 17/ 23\n",
      "Best Train Marco F1 : 0.98304\n",
      "[[1683    5    0    0    5    0    0    0    0    0    0    1    0    0\n",
      "     0    1]\n",
      " [  10 1741    0    0    4    0    0    0    0    0    0    1    0    0\n",
      "     0    0]\n",
      " [   0    0 1747    0    0    0    0    0    3    6    1    0    0    0\n",
      "     0    1]\n",
      " [   0    0    0 1712    8    2    8    4    4    5    0    0    1    2\n",
      "     0    2]\n",
      " [   2    6    1    8 1531    4    2    8    8   68    4    8    9    2\n",
      "     3    4]\n",
      " [   0    0    0    0    1 1686    2    0    2    1    0    0    7    0\n",
      "     1    7]\n",
      " [   0    0    1    2    3    0 1687    1    0    1    0    0    1    0\n",
      "     0    3]\n",
      " [   0    0    0    1    4    1    2 1807    0    1    3    0    0    0\n",
      "     3    3]\n",
      " [   0    2    8    7    8    1    1    0 1702    2    3    0    5    0\n",
      "     0    1]\n",
      " [   0    1    8    0   24    2    1    0    5 1740    1    0    1    0\n",
      "     1    2]\n",
      " [   0    0    2    2    0    1    0    0    1    0 1741    0    1    1\n",
      "     1    0]\n",
      " [   0    0    0    0   11    0    0    1    0    0    0 1798    0    0\n",
      "     0    0]\n",
      " [   0    0    0    0    7   16    2    0    3    3    0    1 1672    0\n",
      "     4    4]\n",
      " [   0    0    0    6    0    0    0    0    0    0    0    0    0 1739\n",
      "     5    3]\n",
      " [   1    0    1    2    2    0    3    1    0    1    0    0    3    5\n",
      "  1791    0]\n",
      " [   0    0    0    0    2    6    3    0    9    2    1    0    4    0\n",
      "     2 1723]]\n",
      "Best Valid Marco F1 : 0.95123\n",
      "[[295   8   0   0   5   0   0   0   0   0   0   1   0   0   2   0]\n",
      " [  9 443   0   0   2   0   0   0   0   0   2   4   0   0   1   0]\n",
      " [  0   0 913   0   0   0   0   0   6   7   2   0   2   0   1   0]\n",
      " [  0   0   1 297   5   1   5   2   3   0   1   0   2   1   1   1]\n",
      " [  3   1   8   1 491   4   5   8   7  44   6   4  12   1   2   3]\n",
      " [  0   0   5   0   2 381   1   0   0   1   0   0   3   0   0   7]\n",
      " [  0   0   1   2   1   0 386   0   4   0   0   0   3   0   1   2]\n",
      " [  0   0   1   0   1   0   0 256   1   0   0   1   0   0   0   0]\n",
      " [  0   0   6   2   1   4   1   0 376   2   1   0   1   1   1   4]\n",
      " [  0   0  28   1  16   0   2   0   0 817   4   0   0   1   1   0]\n",
      " [  0   0   6   0   1   0   1   0   1   0 431   0   0   0   0   0]\n",
      " [  0   0   0   0   2   0   0   0   0   0   0 117   0   0   1   0]\n",
      " [  0   0   1   1   1   2   2   2   0   0   0   0 249   0   0   2]\n",
      " [  0   0   0   0   0   1   0   0   0   0   0   0   0 594   2   3]\n",
      " [  1   0   0   0   2   1   0   0   0   0   1   0   2   3 350   0]\n",
      " [  0   0   1   2   1   1   0   0   1   1   0   0   1   0   0 252]]\n",
      "-----------------------------------------------------------------------\n",
      "Training start with fold: 2 epoch: 200 \n",
      "\n",
      "cls_cnts: 16\n",
      "num_samples:27970\n",
      "Fold: 2\n",
      "\n",
      "Epoch 0/199\n"
     ]
    },
    {
     "name": "stderr",
     "output_type": "stream",
     "text": [
      "epoch 0 loss: 0.9844: 100%|███████████████████| 438/438 [07:59<00:00,  1.09s/it]\n",
      "epoch 0 loss: 0.7387: 100%|███████████████████| 110/110 [02:26<00:00,  1.33s/it]"
     ]
    },
    {
     "name": "stdout",
     "output_type": "stream",
     "text": [
      "Epoch [0], Train Loss : [1.61154] Val Loss : [0.74162] Val F1 Score : [0.89551]\n",
      "Epoch 1/199\n"
     ]
    },
    {
     "name": "stderr",
     "output_type": "stream",
     "text": [
      "\n",
      "epoch 1 loss: 0.5891: 100%|███████████████████| 438/438 [07:56<00:00,  1.09s/it]\n",
      "epoch 1 loss: 0.5720: 100%|███████████████████| 110/110 [02:27<00:00,  1.34s/it]"
     ]
    },
    {
     "name": "stdout",
     "output_type": "stream",
     "text": [
      "Epoch [1], Train Loss : [0.59322] Val Loss : [0.57200] Val F1 Score : [0.91332]\n",
      "Epoch 2/199\n"
     ]
    },
    {
     "name": "stderr",
     "output_type": "stream",
     "text": [
      "\n",
      "epoch 2 loss: 0.5159: 100%|███████████████████| 438/438 [07:48<00:00,  1.07s/it]\n",
      "epoch 2 loss: 0.5028: 100%|███████████████████| 110/110 [02:28<00:00,  1.35s/it]"
     ]
    },
    {
     "name": "stdout",
     "output_type": "stream",
     "text": [
      "Epoch [2], Train Loss : [0.48067] Val Loss : [0.50159] Val F1 Score : [0.92963]\n",
      "Epoch 3/199\n"
     ]
    },
    {
     "name": "stderr",
     "output_type": "stream",
     "text": [
      "\n",
      "epoch 3 loss: 0.4133: 100%|███████████████████| 438/438 [07:45<00:00,  1.06s/it]\n",
      "epoch 3 loss: 0.4761: 100%|███████████████████| 110/110 [02:27<00:00,  1.34s/it]"
     ]
    },
    {
     "name": "stdout",
     "output_type": "stream",
     "text": [
      "Epoch [3], Train Loss : [0.38544] Val Loss : [0.47636] Val F1 Score : [0.93089]\n",
      "Epoch 4/199\n"
     ]
    },
    {
     "name": "stderr",
     "output_type": "stream",
     "text": [
      "\n",
      "epoch 4 loss: 0.6425:   4%|▊                   | 19/438 [00:27<10:40,  1.53s/it]"
     ]
    }
   ],
   "source": [
    "if __name__ == '__main__':\n",
    "    seed_everything(CFG['seed'])\n",
    "    \n",
    "    # WANDB TRACKER INIT\n",
    "    wandb.init(project=project_name, entity=user)\n",
    "    wandb.config.update(CFG)\n",
    "    wandb.run.name = run_name\n",
    "    wandb.define_metric(\"Train Accuracy\", step_metric=\"epoch\")\n",
    "    wandb.define_metric(\"Valid Accuracy\", step_metric=\"epoch\")\n",
    "    wandb.define_metric(\"Train Loss\", step_metric=\"epoch\")\n",
    "    wandb.define_metric(\"Valid Loss\", step_metric=\"epoch\")\n",
    "    wandb.define_metric(\"Train Macro F1 Score\", step_metric=\"epoch\")\n",
    "    wandb.define_metric(\"Valid Macro F1 Score\", step_metric=\"epoch\")\n",
    "    wandb.define_metric(\"Train-Valid Accuracy\", step_metric=\"epoch\")\n",
    "    \n",
    "    model_dir = CFG['model_path'] + '/{}_{}'.format(CFG['s_model'], run_id)\n",
    "    train_dir = train.dir.values\n",
    "    best_fold = 0\n",
    "    best_f1 =0.0\n",
    "    \n",
    "    print('Model: {}'.format(CFG['s_model']))\n",
    "    # MAKE MODEL DIR\n",
    "    if not os.path.isdir(model_dir):\n",
    "        os.makedirs(model_dir)\n",
    "    \n",
    "    \n",
    "    # STRATIFIED K-FOLD DEFINITION\n",
    "    folds = StratifiedKFold(n_splits=CFG['fold_num'], shuffle=True, random_state=CFG['seed']).split(np.arange(train.shape[0]), train.label.values)\n",
    "    for fold, (trn_idx, val_idx) in enumerate(folds):\n",
    "        print(f'Training start with fold: {fold} epoch: {CFG[\"epochs\"]} \\n')\n",
    "\n",
    "        # EARLY STOPPING DEFINITION\n",
    "        early_stopping = EarlyStopping(patience=CFG[\"patience\"], verbose=True)\n",
    "\n",
    "        # DATALOADER DEFINITION\n",
    "        train_loader, val_loader = prepare_dataloader(train, trn_idx, val_idx, data_root=train_dir)\n",
    "\n",
    "        # MODEL & DEVICE DEFINITION \n",
    "        device = torch.device(CFG['device'])\n",
    "        #student_model = ForcepImgClassifier(CFG['s_model'], train.label.nunique(), pretrained=True)\n",
    "        #teacher_model = ForcepImgClassifier(CFG['t_model'], train.label.nunique(), pretrained=True)\n",
    "        student_model = Student(CFG['s_model'], train.label.nunique(), pretrained=True)\n",
    "        teacher_model = Teacher(CFG['t_model'], train.label.nunique(), pretrained=True)\n",
    "        \n",
    "        # T_MODEL DATA PARALLEL\n",
    "        teacher_model.to(device)\n",
    "        if torch.cuda.device_count() > 1:\n",
    "            teacher_model = nn.DataParallel(teacher_model)\n",
    "\n",
    "        # LOAD TEACHER_MODE WEIGHT\n",
    "        load_model = CFG['model_path'] +'/' + CFG['load_model'] + '/' + CFG['t_model']\n",
    "        teacher_model.load_state_dict(torch.load(load_model))\n",
    "\n",
    "        # MODEL FREEZING\n",
    "        # student_model.freezing(freeze = CFG['freezing'], trainable_layer = CFG['trainable_layer'])\n",
    "        # if CFG['freezing'] ==True:\n",
    "        #     for name, param in student_model.named_parameters():\n",
    "        #         if param.requires_grad == True:\n",
    "        #             print(f\"{name}: {param.requires_grad}\")\n",
    "\n",
    "        # S_MODEL DATA PARALLEL\n",
    "        student_model.to(device)\n",
    "        if torch.cuda.device_count() > 1:\n",
    "            student_model = nn.DataParallel(student_model)\n",
    "\n",
    "        scaler = torch.cuda.amp.GradScaler()   \n",
    "        optimizer = torch.optim.Adam(student_model.parameters(), lr=CFG['lr'])\n",
    "        scheduler = torch.optim.lr_scheduler.StepLR(optimizer, gamma=0.5, step_size=5)\n",
    "\n",
    "        # DISTILLATION RATE\n",
    "        alpha = CFG['alpha']\n",
    "\n",
    "        # CRITERION (LOSS FUNCTION)\n",
    "        loss_tr = nn.CrossEntropyLoss().to(device) #MyCrossEntropyLoss().to(device)\n",
    "        loss_fn = nn.CrossEntropyLoss().to(device)\n",
    "        wandb.watch(student_model, loss_tr, log='all')\n",
    "\n",
    "        train_acc_list = []\n",
    "        train_matrix_list = []\n",
    "        train_f1_list = []\n",
    "        valid_acc_list = []\n",
    "        valid_matrix_list = []\n",
    "        valid_f1_list = []\n",
    "\n",
    "        start = time.time()\n",
    "        print(f'Fold: {fold}\\n')\n",
    "        for epoch in range(CFG['epochs']):\n",
    "            print('Epoch {}/{}'.format(epoch, CFG['epochs'] - 1))\n",
    "\n",
    "            # TRAINIG\n",
    "            train_preds_all, train_acc, train_loss, train_matrix, train_f1 = train_one_epoch(epoch, student_model, teacher_model,loss_tr, optimizer, train_loader, device, scheduler=scheduler, alpha = alpha)\n",
    "            wandb.log({'Train Accuracy':train_acc, 'Train Loss' : train_loss, 'Train F1': train_f1, 'epoch' : epoch})\n",
    "\n",
    "            # VALIDATION\n",
    "            with torch.no_grad():\n",
    "                valid_preds_all, valid_acc, valid_loss, valid_matrix, valid_f1= valid_one_epoch(epoch, student_model, teacher_model, loss_fn, val_loader, device, scheduler=None, alpha = alpha)\n",
    "                wandb.log({'Valid Accuracy':valid_acc, 'Valid Loss' : valid_loss, 'Valid F1': valid_f1 ,'epoch' : epoch})\n",
    "            print(f'Epoch [{epoch}], Train Loss : [{train_loss :.5f}] Val Loss : [{valid_loss :.5f}] Val F1 Score : [{valid_f1:.5f}]')\n",
    "\n",
    "            # SAVE ALL RESULTS\n",
    "            train_acc_list.append(train_acc)\n",
    "            train_matrix_list.append(train_matrix)\n",
    "            train_f1_list.append(train_f1)\n",
    "\n",
    "            valid_acc_list.append(valid_acc)\n",
    "            valid_matrix_list.append(valid_matrix)\n",
    "            valid_f1_list.append(valid_f1)\n",
    "\n",
    "            # MODEL SAVE (THE BEST MODEL OF ALL OF FOLD PROCESS)\n",
    "            if valid_f1 > best_f1:\n",
    "                best_f1 = valid_f1\n",
    "                torch.save(student_model.state_dict(), (model_dir+'/{}').format(CFG['s_model']))\n",
    "\n",
    "            # EARLY STOPPING\n",
    "            stop = early_stopping(valid_f1)\n",
    "            if stop:\n",
    "                print(\"stop called\")   \n",
    "                break\n",
    "\n",
    "        end = time.time() - start\n",
    "        time_ = str(datetime.timedelta(seconds=end)).split(\".\")[0]\n",
    "        print(\"time :\", time_)\n",
    "\n",
    "        # PRINT BEST F1 SCORE MODEL OF FOLD\n",
    "        best_index = valid_f1_list.index(max(valid_f1_list))\n",
    "        print(f'fold: {fold}, Best Epoch : {best_index}/ {len(valid_f1_list)}')\n",
    "        print(f'Best Train Marco F1 : {train_f1_list[best_index]:.5f}')\n",
    "        print(train_matrix_list[best_index])\n",
    "        print(f'Best Valid Marco F1 : {valid_f1_list[best_index]:.5f}')\n",
    "        print(valid_matrix_list[best_index])\n",
    "        print('-----------------------------------------------------------------------')\n",
    "\n",
    "        ## K-FOLD END\n",
    "        if valid_f1_list[best_index] > best_fold:\n",
    "            best_fold = valid_f1_list[best_index]\n",
    "            top_fold = fold\n",
    "    print(f'Best Fold F1 score: {best_fold} Top fold : {top_fold}')\n"
   ]
  },
  {
   "cell_type": "code",
   "execution_count": 37,
   "id": "084cd221-5c4f-4255-8f42-7e898c240898",
   "metadata": {},
   "outputs": [
    {
     "data": {
      "text/html": [
       "<div>\n",
       "<style scoped>\n",
       "    .dataframe tbody tr th:only-of-type {\n",
       "        vertical-align: middle;\n",
       "    }\n",
       "\n",
       "    .dataframe tbody tr th {\n",
       "        vertical-align: top;\n",
       "    }\n",
       "\n",
       "    .dataframe thead th {\n",
       "        text-align: right;\n",
       "    }\n",
       "</style>\n",
       "<table border=\"1\" class=\"dataframe\">\n",
       "  <thead>\n",
       "    <tr style=\"text-align: right;\">\n",
       "      <th></th>\n",
       "      <th>image_id</th>\n",
       "      <th>dir</th>\n",
       "      <th>label</th>\n",
       "    </tr>\n",
       "  </thead>\n",
       "  <tbody>\n",
       "    <tr>\n",
       "      <th>0</th>\n",
       "      <td>10Kwalk_1170.jpg</td>\n",
       "      <td>../Data/carbon_data/10Kwalk</td>\n",
       "      <td>10Kwalk</td>\n",
       "    </tr>\n",
       "    <tr>\n",
       "      <th>1</th>\n",
       "      <td>10Kwalk_890.jpg</td>\n",
       "      <td>../Data/carbon_data/10Kwalk</td>\n",
       "      <td>10Kwalk</td>\n",
       "    </tr>\n",
       "    <tr>\n",
       "      <th>2</th>\n",
       "      <td>10Kwalk_1343.jpg</td>\n",
       "      <td>../Data/carbon_data/10Kwalk</td>\n",
       "      <td>10Kwalk</td>\n",
       "    </tr>\n",
       "    <tr>\n",
       "      <th>3</th>\n",
       "      <td>10Kwalk_160.jpg</td>\n",
       "      <td>../Data/carbon_data/10Kwalk</td>\n",
       "      <td>10Kwalk</td>\n",
       "    </tr>\n",
       "    <tr>\n",
       "      <th>4</th>\n",
       "      <td>10Kwalk_92.jpg</td>\n",
       "      <td>../Data/carbon_data/10Kwalk</td>\n",
       "      <td>10Kwalk</td>\n",
       "    </tr>\n",
       "    <tr>\n",
       "      <th>...</th>\n",
       "      <td>...</td>\n",
       "      <td>...</td>\n",
       "      <td>...</td>\n",
       "    </tr>\n",
       "    <tr>\n",
       "      <th>9302</th>\n",
       "      <td>green_dish_1592.jpg</td>\n",
       "      <td>../Data/carbon_data/plate/green dish</td>\n",
       "      <td>plate</td>\n",
       "    </tr>\n",
       "    <tr>\n",
       "      <th>9303</th>\n",
       "      <td>wrap_475.jpg</td>\n",
       "      <td>../Data/carbon_data/plate/wrap</td>\n",
       "      <td>plate</td>\n",
       "    </tr>\n",
       "    <tr>\n",
       "      <th>9304</th>\n",
       "      <td>wrap_42.jpg</td>\n",
       "      <td>../Data/carbon_data/plate/wrap</td>\n",
       "      <td>plate</td>\n",
       "    </tr>\n",
       "    <tr>\n",
       "      <th>9305</th>\n",
       "      <td>leftover_170.jpg</td>\n",
       "      <td>../Data/carbon_data/plate/leftover</td>\n",
       "      <td>plate</td>\n",
       "    </tr>\n",
       "    <tr>\n",
       "      <th>9306</th>\n",
       "      <td>leftover_886.jpg</td>\n",
       "      <td>../Data/carbon_data/plate/leftover</td>\n",
       "      <td>plate</td>\n",
       "    </tr>\n",
       "  </tbody>\n",
       "</table>\n",
       "<p>9307 rows × 3 columns</p>\n",
       "</div>"
      ],
      "text/plain": [
       "                 image_id                                   dir    label\n",
       "0        10Kwalk_1170.jpg           ../Data/carbon_data/10Kwalk  10Kwalk\n",
       "1         10Kwalk_890.jpg           ../Data/carbon_data/10Kwalk  10Kwalk\n",
       "2        10Kwalk_1343.jpg           ../Data/carbon_data/10Kwalk  10Kwalk\n",
       "3         10Kwalk_160.jpg           ../Data/carbon_data/10Kwalk  10Kwalk\n",
       "4          10Kwalk_92.jpg           ../Data/carbon_data/10Kwalk  10Kwalk\n",
       "...                   ...                                   ...      ...\n",
       "9302  green_dish_1592.jpg  ../Data/carbon_data/plate/green dish    plate\n",
       "9303         wrap_475.jpg        ../Data/carbon_data/plate/wrap    plate\n",
       "9304          wrap_42.jpg        ../Data/carbon_data/plate/wrap    plate\n",
       "9305     leftover_170.jpg    ../Data/carbon_data/plate/leftover    plate\n",
       "9306     leftover_886.jpg    ../Data/carbon_data/plate/leftover    plate\n",
       "\n",
       "[9307 rows x 3 columns]"
      ]
     },
     "execution_count": 37,
     "metadata": {},
     "output_type": "execute_result"
    }
   ],
   "source": [
    "## Pandas Test 데이터프레임 만들기\n",
    "tst_df = pd.DataFrame(total_test_img_paths, columns=['image_id'])\n",
    "tst_df['dir'] = tst_df['image_id'].apply(lambda x: os.path.dirname(x))\n",
    "tst_df['image_id'] = tst_df['image_id'].apply(lambda x: os.path.basename(x))\n",
    "tst_df['label'] = total_test_img_labels\n",
    "test2 = tst_df\n",
    "test2"
   ]
  },
  {
   "cell_type": "code",
   "execution_count": 38,
   "id": "8a437e36-9c91-4f37-8a6c-f3eadce8fecb",
   "metadata": {},
   "outputs": [
    {
     "data": {
      "text/html": [
       "<div>\n",
       "<style scoped>\n",
       "    .dataframe tbody tr th:only-of-type {\n",
       "        vertical-align: middle;\n",
       "    }\n",
       "\n",
       "    .dataframe tbody tr th {\n",
       "        vertical-align: top;\n",
       "    }\n",
       "\n",
       "    .dataframe thead th {\n",
       "        text-align: right;\n",
       "    }\n",
       "</style>\n",
       "<table border=\"1\" class=\"dataframe\">\n",
       "  <thead>\n",
       "    <tr style=\"text-align: right;\">\n",
       "      <th></th>\n",
       "      <th>image_id</th>\n",
       "      <th>dir</th>\n",
       "      <th>label</th>\n",
       "    </tr>\n",
       "  </thead>\n",
       "  <tbody>\n",
       "    <tr>\n",
       "      <th>0</th>\n",
       "      <td>10Kwalk_1170.jpg</td>\n",
       "      <td>../Data/carbon_data/10Kwalk</td>\n",
       "      <td>10Kwalk</td>\n",
       "    </tr>\n",
       "    <tr>\n",
       "      <th>1</th>\n",
       "      <td>10Kwalk_890.jpg</td>\n",
       "      <td>../Data/carbon_data/10Kwalk</td>\n",
       "      <td>10Kwalk</td>\n",
       "    </tr>\n",
       "    <tr>\n",
       "      <th>2</th>\n",
       "      <td>10Kwalk_1343.jpg</td>\n",
       "      <td>../Data/carbon_data/10Kwalk</td>\n",
       "      <td>10Kwalk</td>\n",
       "    </tr>\n",
       "    <tr>\n",
       "      <th>3</th>\n",
       "      <td>10Kwalk_160.jpg</td>\n",
       "      <td>../Data/carbon_data/10Kwalk</td>\n",
       "      <td>10Kwalk</td>\n",
       "    </tr>\n",
       "    <tr>\n",
       "      <th>4</th>\n",
       "      <td>10Kwalk_92.jpg</td>\n",
       "      <td>../Data/carbon_data/10Kwalk</td>\n",
       "      <td>10Kwalk</td>\n",
       "    </tr>\n",
       "    <tr>\n",
       "      <th>...</th>\n",
       "      <td>...</td>\n",
       "      <td>...</td>\n",
       "      <td>...</td>\n",
       "    </tr>\n",
       "    <tr>\n",
       "      <th>9302</th>\n",
       "      <td>green_dish_1592.jpg</td>\n",
       "      <td>../Data/carbon_data/plate/green dish</td>\n",
       "      <td>plate</td>\n",
       "    </tr>\n",
       "    <tr>\n",
       "      <th>9303</th>\n",
       "      <td>wrap_475.jpg</td>\n",
       "      <td>../Data/carbon_data/plate/wrap</td>\n",
       "      <td>plate</td>\n",
       "    </tr>\n",
       "    <tr>\n",
       "      <th>9304</th>\n",
       "      <td>wrap_42.jpg</td>\n",
       "      <td>../Data/carbon_data/plate/wrap</td>\n",
       "      <td>plate</td>\n",
       "    </tr>\n",
       "    <tr>\n",
       "      <th>9305</th>\n",
       "      <td>leftover_170.jpg</td>\n",
       "      <td>../Data/carbon_data/plate/leftover</td>\n",
       "      <td>plate</td>\n",
       "    </tr>\n",
       "    <tr>\n",
       "      <th>9306</th>\n",
       "      <td>leftover_886.jpg</td>\n",
       "      <td>../Data/carbon_data/plate/leftover</td>\n",
       "      <td>plate</td>\n",
       "    </tr>\n",
       "  </tbody>\n",
       "</table>\n",
       "<p>9307 rows × 3 columns</p>\n",
       "</div>"
      ],
      "text/plain": [
       "                 image_id                                   dir    label\n",
       "0        10Kwalk_1170.jpg           ../Data/carbon_data/10Kwalk  10Kwalk\n",
       "1         10Kwalk_890.jpg           ../Data/carbon_data/10Kwalk  10Kwalk\n",
       "2        10Kwalk_1343.jpg           ../Data/carbon_data/10Kwalk  10Kwalk\n",
       "3         10Kwalk_160.jpg           ../Data/carbon_data/10Kwalk  10Kwalk\n",
       "4          10Kwalk_92.jpg           ../Data/carbon_data/10Kwalk  10Kwalk\n",
       "...                   ...                                   ...      ...\n",
       "9302  green_dish_1592.jpg  ../Data/carbon_data/plate/green dish    plate\n",
       "9303         wrap_475.jpg        ../Data/carbon_data/plate/wrap    plate\n",
       "9304          wrap_42.jpg        ../Data/carbon_data/plate/wrap    plate\n",
       "9305     leftover_170.jpg    ../Data/carbon_data/plate/leftover    plate\n",
       "9306     leftover_886.jpg    ../Data/carbon_data/plate/leftover    plate\n",
       "\n",
       "[9307 rows x 3 columns]"
      ]
     },
     "execution_count": 38,
     "metadata": {},
     "output_type": "execute_result"
    }
   ],
   "source": [
    "#test2['label'].value_counts()\n",
    "test2['label'] = le.fit_transform(test2['label'].values)\n",
    "test2['label'] = le.inverse_transform(test2['label'].values)\n",
    "test2"
   ]
  },
  {
   "cell_type": "code",
   "execution_count": null,
   "id": "1e5e9b29-a540-44a3-9ffb-c9e4b06104dc",
   "metadata": {},
   "outputs": [],
   "source": []
  },
  {
   "cell_type": "code",
   "execution_count": 22,
   "id": "1ef05a94-6c5d-4171-8286-8efa23ba7a3d",
   "metadata": {},
   "outputs": [],
   "source": [
    "########################## inference #############################\n",
    "def inference(model, data_loader, device):\n",
    "    model.eval()\n",
    "    image_preds_all = []\n",
    "    \n",
    "    pbar = tqdm(enumerate(data_loader), total=len(data_loader))\n",
    "    for step, (imgs) in pbar:\n",
    "        imgs = imgs.to(device).float()\n",
    "\n",
    "        image_preds = model(imgs)   #output = model(input)\n",
    "        image_preds_all += [torch.softmax(image_preds, 1).detach().cpu().numpy()]\n",
    "    \n",
    "    image_preds_all = np.concatenate(image_preds_all, axis=0)\n",
    "    return image_preds_all"
   ]
  },
  {
   "cell_type": "code",
   "execution_count": 23,
   "id": "bf8dd532-5acf-4d36-93df-55a97860eb0b",
   "metadata": {},
   "outputs": [
    {
     "name": "stderr",
     "output_type": "stream",
     "text": [
      "/home/hojun/miniconda3/envs/torch/lib/python3.10/site-packages/torchvision/models/_utils.py:208: UserWarning: The parameter 'pretrained' is deprecated since 0.13 and may be removed in the future, please use 'weights' instead.\n",
      "  warnings.warn(\n",
      "/home/hojun/miniconda3/envs/torch/lib/python3.10/site-packages/torchvision/models/_utils.py:223: UserWarning: Arguments other than a weight enum or `None` for 'weights' are deprecated since 0.13 and may be removed in the future. The current behavior is equivalent to passing `weights=MobileNet_V3_Large_Weights.IMAGENET1K_V1`. You can also use `weights=MobileNet_V3_Large_Weights.DEFAULT` to get the most up-to-date weights.\n",
      "  warnings.warn(msg)\n",
      "100%|█████████████████████████████████████████| 146/146 [03:19<00:00,  1.37s/it]\n"
     ]
    }
   ],
   "source": [
    "#model = ForcepImgClassifier(CFG['s_model'], test.label.nunique(), pretrained=True)\n",
    "model = Student(CFG['s_model'], test.label.nunique(), pretrained=True)\n",
    "\n",
    "load_model = CFG['model_path'] + '/mobilenet_v3_large_20230424174153/' + CFG['s_model']\n",
    "test_dir = test.dir.values\n",
    "\n",
    "tst_ds = ColonDataset(test, test_dir, transform=transform_test, output_label=False)\n",
    "tst_loader = torch.utils.data.DataLoader(\n",
    "    tst_ds, \n",
    "    batch_size=CFG['train_bs'],\n",
    "    num_workers=CFG['num_workers'],\n",
    "    shuffle=False,\n",
    "    pin_memory=True\n",
    ")\n",
    "device = torch.device(CFG['device'])\n",
    "if torch.cuda.device_count() > 1:\n",
    "        model = nn.DataParallel(model)\n",
    "model.to(device)\n",
    "\n",
    "################## get inference #####################\n",
    "predictions = []\n",
    "model.load_state_dict(torch.load(load_model))\n",
    "with torch.no_grad():\n",
    "    predictions += [inference(model, tst_loader, device)]\n",
    "\n",
    "\n",
    "#tst_preds = inference_one_epoch(model, tst_loader, device)\n",
    "predictions = np.mean(predictions, axis=0) \n",
    "test['pred'] = np.argmax(predictions, axis=1)\n",
    "#test['confidence score'] =np.max(predictions, axis=1)"
   ]
  },
  {
   "cell_type": "code",
   "execution_count": 39,
   "id": "63e86c0e-080e-4a45-ba54-20db2560660d",
   "metadata": {},
   "outputs": [
    {
     "data": {
      "text/html": [
       "<div>\n",
       "<style scoped>\n",
       "    .dataframe tbody tr th:only-of-type {\n",
       "        vertical-align: middle;\n",
       "    }\n",
       "\n",
       "    .dataframe tbody tr th {\n",
       "        vertical-align: top;\n",
       "    }\n",
       "\n",
       "    .dataframe thead th {\n",
       "        text-align: right;\n",
       "    }\n",
       "</style>\n",
       "<table border=\"1\" class=\"dataframe\">\n",
       "  <thead>\n",
       "    <tr style=\"text-align: right;\">\n",
       "      <th></th>\n",
       "      <th>image_id</th>\n",
       "      <th>dir</th>\n",
       "      <th>label</th>\n",
       "      <th>pred</th>\n",
       "    </tr>\n",
       "  </thead>\n",
       "  <tbody>\n",
       "    <tr>\n",
       "      <th>0</th>\n",
       "      <td>10Kwalk_1170.jpg</td>\n",
       "      <td>../Data/carbon_data/10Kwalk</td>\n",
       "      <td>10Kwalk</td>\n",
       "      <td>10Kwalk</td>\n",
       "    </tr>\n",
       "    <tr>\n",
       "      <th>1</th>\n",
       "      <td>10Kwalk_890.jpg</td>\n",
       "      <td>../Data/carbon_data/10Kwalk</td>\n",
       "      <td>10Kwalk</td>\n",
       "      <td>10Kwalk</td>\n",
       "    </tr>\n",
       "    <tr>\n",
       "      <th>2</th>\n",
       "      <td>10Kwalk_1343.jpg</td>\n",
       "      <td>../Data/carbon_data/10Kwalk</td>\n",
       "      <td>10Kwalk</td>\n",
       "      <td>10Kwalk</td>\n",
       "    </tr>\n",
       "    <tr>\n",
       "      <th>3</th>\n",
       "      <td>10Kwalk_160.jpg</td>\n",
       "      <td>../Data/carbon_data/10Kwalk</td>\n",
       "      <td>10Kwalk</td>\n",
       "      <td>battery</td>\n",
       "    </tr>\n",
       "    <tr>\n",
       "      <th>4</th>\n",
       "      <td>10Kwalk_92.jpg</td>\n",
       "      <td>../Data/carbon_data/10Kwalk</td>\n",
       "      <td>10Kwalk</td>\n",
       "      <td>battery</td>\n",
       "    </tr>\n",
       "    <tr>\n",
       "      <th>...</th>\n",
       "      <td>...</td>\n",
       "      <td>...</td>\n",
       "      <td>...</td>\n",
       "      <td>...</td>\n",
       "    </tr>\n",
       "    <tr>\n",
       "      <th>9302</th>\n",
       "      <td>green_dish_1592.jpg</td>\n",
       "      <td>../Data/carbon_data/plate/green dish</td>\n",
       "      <td>plate</td>\n",
       "      <td>plate</td>\n",
       "    </tr>\n",
       "    <tr>\n",
       "      <th>9303</th>\n",
       "      <td>wrap_475.jpg</td>\n",
       "      <td>../Data/carbon_data/plate/wrap</td>\n",
       "      <td>plate</td>\n",
       "      <td>plate</td>\n",
       "    </tr>\n",
       "    <tr>\n",
       "      <th>9304</th>\n",
       "      <td>wrap_42.jpg</td>\n",
       "      <td>../Data/carbon_data/plate/wrap</td>\n",
       "      <td>plate</td>\n",
       "      <td>plate</td>\n",
       "    </tr>\n",
       "    <tr>\n",
       "      <th>9305</th>\n",
       "      <td>leftover_170.jpg</td>\n",
       "      <td>../Data/carbon_data/plate/leftover</td>\n",
       "      <td>plate</td>\n",
       "      <td>plate</td>\n",
       "    </tr>\n",
       "    <tr>\n",
       "      <th>9306</th>\n",
       "      <td>leftover_886.jpg</td>\n",
       "      <td>../Data/carbon_data/plate/leftover</td>\n",
       "      <td>plate</td>\n",
       "      <td>plate</td>\n",
       "    </tr>\n",
       "  </tbody>\n",
       "</table>\n",
       "<p>9307 rows × 4 columns</p>\n",
       "</div>"
      ],
      "text/plain": [
       "                 image_id                                   dir    label  \\\n",
       "0        10Kwalk_1170.jpg           ../Data/carbon_data/10Kwalk  10Kwalk   \n",
       "1         10Kwalk_890.jpg           ../Data/carbon_data/10Kwalk  10Kwalk   \n",
       "2        10Kwalk_1343.jpg           ../Data/carbon_data/10Kwalk  10Kwalk   \n",
       "3         10Kwalk_160.jpg           ../Data/carbon_data/10Kwalk  10Kwalk   \n",
       "4          10Kwalk_92.jpg           ../Data/carbon_data/10Kwalk  10Kwalk   \n",
       "...                   ...                                   ...      ...   \n",
       "9302  green_dish_1592.jpg  ../Data/carbon_data/plate/green dish    plate   \n",
       "9303         wrap_475.jpg        ../Data/carbon_data/plate/wrap    plate   \n",
       "9304          wrap_42.jpg        ../Data/carbon_data/plate/wrap    plate   \n",
       "9305     leftover_170.jpg    ../Data/carbon_data/plate/leftover    plate   \n",
       "9306     leftover_886.jpg    ../Data/carbon_data/plate/leftover    plate   \n",
       "\n",
       "         pred  \n",
       "0     10Kwalk  \n",
       "1     10Kwalk  \n",
       "2     10Kwalk  \n",
       "3     battery  \n",
       "4     battery  \n",
       "...       ...  \n",
       "9302    plate  \n",
       "9303    plate  \n",
       "9304    plate  \n",
       "9305    plate  \n",
       "9306    plate  \n",
       "\n",
       "[9307 rows x 4 columns]"
      ]
     },
     "execution_count": 39,
     "metadata": {},
     "output_type": "execute_result"
    }
   ],
   "source": [
    "test['label'] = le.inverse_transform(test['label'].values)\n",
    "test['pred'] = le.inverse_transform(test['pred'].values)\n",
    "test"
   ]
  },
  {
   "cell_type": "code",
   "execution_count": 40,
   "id": "8c6af9cf-1048-40ed-a983-d831cc5ac39d",
   "metadata": {},
   "outputs": [
    {
     "name": "stdout",
     "output_type": "stream",
     "text": [
      "accuracy: 0.9739\n",
      "f1_score: 0.9738\n"
     ]
    },
    {
     "data": {
      "image/png": "[encoded data removed]",
      "text/plain": [
       "<Figure size 1500x1000 with 2 Axes>"
      ]
     },
     "metadata": {},
     "output_type": "display_data"
    }
   ],
   "source": [
    "import seaborn as sns\n",
    "\n",
    "test_acc = np.sum(test.label == test.pred) / len(test)\n",
    "test_matrix = confusion_matrix(test['label'], test['pred'])\n",
    "epoch_f1 = f1_score(test['label'], test['pred'], average='macro')\n",
    "print(f'accuracy: {test_acc:.4f}')\n",
    "print(f'f1_score: {epoch_f1:.4f}')\n",
    "\n",
    "test_matrix = confusion_matrix(test['label'], test['pred'], normalize='true')\n",
    "#test_matrix = confusion_matrix(test['label'], test['pred'])\n",
    "\n",
    "plt.figure(figsize = (15,10))\n",
    "sns.heatmap(test_matrix, \n",
    "            annot=True, \n",
    "            xticklabels = sorted(set(test['label'])), \n",
    "            yticklabels = sorted(set(test['label'])),\n",
    "            )\n",
    "plt.title('Normalized Confusion Matrix')\n",
    "plt.show()\n",
    "\n",
    "#print(f'confusion_matrix \\n-------------------------\\n {test_matrix}')"
   ]
  },
  {
   "cell_type": "code",
   "execution_count": null,
   "id": "7162577b-8bd7-4cfb-b7e4-7332c1959181",
   "metadata": {},
   "outputs": [],
   "source": [
    " "
   ]
  }
 ],
 "metadata": {
  "kernelspec": {
   "display_name": "torch-gpu",
   "language": "python",
   "name": "torch"
  },
  "language_info": {
   "codemirror_mode": {
    "name": "ipython",
    "version": 3
   },
   "file_extension": ".py",
   "mimetype": "text/x-python",
   "name": "python",
   "nbconvert_exporter": "python",
   "pygments_lexer": "ipython3",
   "version": "3.10.6"
  },
  "vscode": {
   "interpreter": {
    "hash": "916dbcbb3f70747c44a77c7bcd40155683ae19c65e1c03b4aa3499c5328201f1"
   }
  }
 },
 "nbformat": 4,
 "nbformat_minor": 5
}
