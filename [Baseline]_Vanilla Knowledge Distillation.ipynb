{
 "cells": [
  {
   "cell_type": "markdown",
   "id": "261aef7b-9c3e-44bf-a280-fcaebcf65d00",
   "metadata": {},
   "source": [
    "## Import"
   ]
  },
  {
   "cell_type": "code",
   "execution_count": 1,
   "id": "1f24f1de-cf86-4508-8448-ff82c09c3b6b",
   "metadata": {},
   "outputs": [],
   "source": [
    "import torch\n",
    "import torch.nn as nn\n",
    "import torch.nn.functional as F\n",
    "import torch.optim as optim\n",
    "from torch.utils.data import DataLoader, Dataset\n",
    "\n",
    "from sklearn.metrics import f1_score\n",
    "from sklearn.preprocessing import StandardScaler\n",
    "from sklearn.preprocessing import LabelEncoder\n",
    "from sklearn.model_selection import train_test_split\n",
    "\n",
    "import os\n",
    "import pandas as pd\n",
    "import numpy as np\n",
    "from tqdm.auto import tqdm\n",
    "import random\n",
    "\n",
    "import warnings\n",
    "warnings.filterwarnings(action='ignore') \n",
    "\n",
    "device = torch.device('cuda') if torch.cuda.is_available() else torch.device('cpu')"
   ]
  },
  {
   "cell_type": "markdown",
   "id": "3ecdd89a-70b9-4f01-a646-228889655f29",
   "metadata": {},
   "source": [
    "## Hyperparameter setting"
   ]
  },
  {
   "cell_type": "code",
   "execution_count": 2,
   "id": "542d6fc4-197c-48cf-8ae7-a36ebd0fbba2",
   "metadata": {},
   "outputs": [],
   "source": [
    "CFG = {\n",
    "    'EPOCHS': 30,\n",
    "    'LEARNING_RATE':1e-2,\n",
    "    'BATCH_SIZE':256,\n",
    "    'SEED':41\n",
    "}"
   ]
  },
  {
   "cell_type": "markdown",
   "id": "83f27005-48c9-4651-a1f0-e545a43ada5b",
   "metadata": {},
   "source": [
    "## Fixed RandomSeed"
   ]
  },
  {
   "cell_type": "code",
   "execution_count": 3,
   "id": "95274e76-7905-4faf-8fc1-975ef786546d",
   "metadata": {},
   "outputs": [],
   "source": [
    "def seed_everything(seed):\n",
    "    random.seed(seed)\n",
    "    os.environ['PYTHONHASHSEED'] = str(seed)\n",
    "    np.random.seed(seed)\n",
    "    torch.manual_seed(seed)\n",
    "    torch.cuda.manual_seed(seed)\n",
    "    torch.backends.cudnn.deterministic = True\n",
    "    torch.backends.cudnn.benchmark = True\n",
    "\n",
    "seed_everything(CFG['SEED'])"
   ]
  },
  {
   "cell_type": "markdown",
   "id": "78f7de4c-1758-4d8a-8c9c-b2e42f9b88a9",
   "metadata": {},
   "source": [
    "## Data Load"
   ]
  },
  {
   "cell_type": "code",
   "execution_count": 4,
   "id": "b6298424-2832-4f67-b0de-fcb7fda8892b",
   "metadata": {},
   "outputs": [],
   "source": [
    "train = pd.read_csv('../Data/train.csv')\n",
    "test = pd.read_csv('../Data/test.csv')"
   ]
  },
  {
   "cell_type": "code",
   "execution_count": 5,
   "id": "8838f6ab-3ec7-4a20-9a60-74dfc80e5222",
   "metadata": {},
   "outputs": [
    {
     "data": {
      "text/html": [
       "<div>\n",
       "<style scoped>\n",
       "    .dataframe tbody tr th:only-of-type {\n",
       "        vertical-align: middle;\n",
       "    }\n",
       "\n",
       "    .dataframe tbody tr th {\n",
       "        vertical-align: top;\n",
       "    }\n",
       "\n",
       "    .dataframe thead th {\n",
       "        text-align: right;\n",
       "    }\n",
       "</style>\n",
       "<table border=\"1\" class=\"dataframe\">\n",
       "  <thead>\n",
       "    <tr style=\"text-align: right;\">\n",
       "      <th></th>\n",
       "      <th>ID</th>\n",
       "      <th>COMPONENT_ARBITRARY</th>\n",
       "      <th>ANONYMOUS_1</th>\n",
       "      <th>YEAR</th>\n",
       "      <th>SAMPLE_TRANSFER_DAY</th>\n",
       "      <th>ANONYMOUS_2</th>\n",
       "      <th>AG</th>\n",
       "      <th>AL</th>\n",
       "      <th>B</th>\n",
       "      <th>BA</th>\n",
       "      <th>...</th>\n",
       "      <th>U25</th>\n",
       "      <th>U20</th>\n",
       "      <th>U14</th>\n",
       "      <th>U6</th>\n",
       "      <th>U4</th>\n",
       "      <th>V</th>\n",
       "      <th>V100</th>\n",
       "      <th>V40</th>\n",
       "      <th>ZN</th>\n",
       "      <th>Y_LABEL</th>\n",
       "    </tr>\n",
       "  </thead>\n",
       "  <tbody>\n",
       "    <tr>\n",
       "      <th>0</th>\n",
       "      <td>TRAIN_00000</td>\n",
       "      <td>COMPONENT3</td>\n",
       "      <td>1486</td>\n",
       "      <td>2011</td>\n",
       "      <td>7</td>\n",
       "      <td>200</td>\n",
       "      <td>0</td>\n",
       "      <td>3</td>\n",
       "      <td>93</td>\n",
       "      <td>0</td>\n",
       "      <td>...</td>\n",
       "      <td>NaN</td>\n",
       "      <td>NaN</td>\n",
       "      <td>NaN</td>\n",
       "      <td>NaN</td>\n",
       "      <td>NaN</td>\n",
       "      <td>0</td>\n",
       "      <td>NaN</td>\n",
       "      <td>154.0</td>\n",
       "      <td>75</td>\n",
       "      <td>0</td>\n",
       "    </tr>\n",
       "    <tr>\n",
       "      <th>1</th>\n",
       "      <td>TRAIN_00001</td>\n",
       "      <td>COMPONENT2</td>\n",
       "      <td>1350</td>\n",
       "      <td>2021</td>\n",
       "      <td>51</td>\n",
       "      <td>375</td>\n",
       "      <td>0</td>\n",
       "      <td>2</td>\n",
       "      <td>19</td>\n",
       "      <td>0</td>\n",
       "      <td>...</td>\n",
       "      <td>2.0</td>\n",
       "      <td>4.0</td>\n",
       "      <td>6.0</td>\n",
       "      <td>216.0</td>\n",
       "      <td>1454.0</td>\n",
       "      <td>0</td>\n",
       "      <td>NaN</td>\n",
       "      <td>44.0</td>\n",
       "      <td>652</td>\n",
       "      <td>0</td>\n",
       "    </tr>\n",
       "    <tr>\n",
       "      <th>2</th>\n",
       "      <td>TRAIN_00002</td>\n",
       "      <td>COMPONENT2</td>\n",
       "      <td>2415</td>\n",
       "      <td>2015</td>\n",
       "      <td>2</td>\n",
       "      <td>200</td>\n",
       "      <td>0</td>\n",
       "      <td>110</td>\n",
       "      <td>1</td>\n",
       "      <td>1</td>\n",
       "      <td>...</td>\n",
       "      <td>0.0</td>\n",
       "      <td>3.0</td>\n",
       "      <td>39.0</td>\n",
       "      <td>11261.0</td>\n",
       "      <td>41081.0</td>\n",
       "      <td>0</td>\n",
       "      <td>NaN</td>\n",
       "      <td>72.6</td>\n",
       "      <td>412</td>\n",
       "      <td>1</td>\n",
       "    </tr>\n",
       "    <tr>\n",
       "      <th>3</th>\n",
       "      <td>TRAIN_00003</td>\n",
       "      <td>COMPONENT3</td>\n",
       "      <td>7389</td>\n",
       "      <td>2010</td>\n",
       "      <td>2</td>\n",
       "      <td>200</td>\n",
       "      <td>0</td>\n",
       "      <td>8</td>\n",
       "      <td>3</td>\n",
       "      <td>0</td>\n",
       "      <td>...</td>\n",
       "      <td>NaN</td>\n",
       "      <td>NaN</td>\n",
       "      <td>NaN</td>\n",
       "      <td>NaN</td>\n",
       "      <td>NaN</td>\n",
       "      <td>0</td>\n",
       "      <td>NaN</td>\n",
       "      <td>133.3</td>\n",
       "      <td>7</td>\n",
       "      <td>0</td>\n",
       "    </tr>\n",
       "    <tr>\n",
       "      <th>4</th>\n",
       "      <td>TRAIN_00004</td>\n",
       "      <td>COMPONENT3</td>\n",
       "      <td>3954</td>\n",
       "      <td>2015</td>\n",
       "      <td>4</td>\n",
       "      <td>200</td>\n",
       "      <td>0</td>\n",
       "      <td>1</td>\n",
       "      <td>157</td>\n",
       "      <td>0</td>\n",
       "      <td>...</td>\n",
       "      <td>NaN</td>\n",
       "      <td>NaN</td>\n",
       "      <td>NaN</td>\n",
       "      <td>NaN</td>\n",
       "      <td>NaN</td>\n",
       "      <td>0</td>\n",
       "      <td>NaN</td>\n",
       "      <td>133.1</td>\n",
       "      <td>128</td>\n",
       "      <td>0</td>\n",
       "    </tr>\n",
       "    <tr>\n",
       "      <th>...</th>\n",
       "      <td>...</td>\n",
       "      <td>...</td>\n",
       "      <td>...</td>\n",
       "      <td>...</td>\n",
       "      <td>...</td>\n",
       "      <td>...</td>\n",
       "      <td>...</td>\n",
       "      <td>...</td>\n",
       "      <td>...</td>\n",
       "      <td>...</td>\n",
       "      <td>...</td>\n",
       "      <td>...</td>\n",
       "      <td>...</td>\n",
       "      <td>...</td>\n",
       "      <td>...</td>\n",
       "      <td>...</td>\n",
       "      <td>...</td>\n",
       "      <td>...</td>\n",
       "      <td>...</td>\n",
       "      <td>...</td>\n",
       "      <td>...</td>\n",
       "    </tr>\n",
       "    <tr>\n",
       "      <th>14090</th>\n",
       "      <td>TRAIN_14090</td>\n",
       "      <td>COMPONENT3</td>\n",
       "      <td>1616</td>\n",
       "      <td>2014</td>\n",
       "      <td>8</td>\n",
       "      <td>200</td>\n",
       "      <td>0</td>\n",
       "      <td>2</td>\n",
       "      <td>201</td>\n",
       "      <td>1</td>\n",
       "      <td>...</td>\n",
       "      <td>NaN</td>\n",
       "      <td>NaN</td>\n",
       "      <td>NaN</td>\n",
       "      <td>NaN</td>\n",
       "      <td>NaN</td>\n",
       "      <td>0</td>\n",
       "      <td>NaN</td>\n",
       "      <td>135.4</td>\n",
       "      <td>16</td>\n",
       "      <td>0</td>\n",
       "    </tr>\n",
       "    <tr>\n",
       "      <th>14091</th>\n",
       "      <td>TRAIN_14091</td>\n",
       "      <td>COMPONENT1</td>\n",
       "      <td>2784</td>\n",
       "      <td>2013</td>\n",
       "      <td>2</td>\n",
       "      <td>200</td>\n",
       "      <td>0</td>\n",
       "      <td>3</td>\n",
       "      <td>85</td>\n",
       "      <td>0</td>\n",
       "      <td>...</td>\n",
       "      <td>NaN</td>\n",
       "      <td>NaN</td>\n",
       "      <td>NaN</td>\n",
       "      <td>NaN</td>\n",
       "      <td>NaN</td>\n",
       "      <td>0</td>\n",
       "      <td>14.5</td>\n",
       "      <td>117.5</td>\n",
       "      <td>1408</td>\n",
       "      <td>0</td>\n",
       "    </tr>\n",
       "    <tr>\n",
       "      <th>14092</th>\n",
       "      <td>TRAIN_14092</td>\n",
       "      <td>COMPONENT3</td>\n",
       "      <td>1788</td>\n",
       "      <td>2008</td>\n",
       "      <td>9</td>\n",
       "      <td>550</td>\n",
       "      <td>0</td>\n",
       "      <td>6</td>\n",
       "      <td>0</td>\n",
       "      <td>1</td>\n",
       "      <td>...</td>\n",
       "      <td>NaN</td>\n",
       "      <td>NaN</td>\n",
       "      <td>NaN</td>\n",
       "      <td>NaN</td>\n",
       "      <td>NaN</td>\n",
       "      <td>0</td>\n",
       "      <td>NaN</td>\n",
       "      <td>54.0</td>\n",
       "      <td>1301</td>\n",
       "      <td>0</td>\n",
       "    </tr>\n",
       "    <tr>\n",
       "      <th>14093</th>\n",
       "      <td>TRAIN_14093</td>\n",
       "      <td>COMPONENT2</td>\n",
       "      <td>2498</td>\n",
       "      <td>2009</td>\n",
       "      <td>19</td>\n",
       "      <td>550</td>\n",
       "      <td>0</td>\n",
       "      <td>2</td>\n",
       "      <td>4</td>\n",
       "      <td>0</td>\n",
       "      <td>...</td>\n",
       "      <td>7.0</td>\n",
       "      <td>8.0</td>\n",
       "      <td>100.0</td>\n",
       "      <td>1625.0</td>\n",
       "      <td>18890.0</td>\n",
       "      <td>0</td>\n",
       "      <td>NaN</td>\n",
       "      <td>44.3</td>\n",
       "      <td>652</td>\n",
       "      <td>0</td>\n",
       "    </tr>\n",
       "    <tr>\n",
       "      <th>14094</th>\n",
       "      <td>TRAIN_14094</td>\n",
       "      <td>COMPONENT2</td>\n",
       "      <td>1902</td>\n",
       "      <td>2012</td>\n",
       "      <td>15</td>\n",
       "      <td>200</td>\n",
       "      <td>0</td>\n",
       "      <td>0</td>\n",
       "      <td>77</td>\n",
       "      <td>0</td>\n",
       "      <td>...</td>\n",
       "      <td>1163.0</td>\n",
       "      <td>2565.0</td>\n",
       "      <td>11296.0</td>\n",
       "      <td>181016.0</td>\n",
       "      <td>325823.0</td>\n",
       "      <td>0</td>\n",
       "      <td>NaN</td>\n",
       "      <td>47.0</td>\n",
       "      <td>612</td>\n",
       "      <td>0</td>\n",
       "    </tr>\n",
       "  </tbody>\n",
       "</table>\n",
       "<p>14095 rows × 54 columns</p>\n",
       "</div>"
      ],
      "text/plain": [
       "                ID COMPONENT_ARBITRARY  ANONYMOUS_1  YEAR  \\\n",
       "0      TRAIN_00000          COMPONENT3         1486  2011   \n",
       "1      TRAIN_00001          COMPONENT2         1350  2021   \n",
       "2      TRAIN_00002          COMPONENT2         2415  2015   \n",
       "3      TRAIN_00003          COMPONENT3         7389  2010   \n",
       "4      TRAIN_00004          COMPONENT3         3954  2015   \n",
       "...            ...                 ...          ...   ...   \n",
       "14090  TRAIN_14090          COMPONENT3         1616  2014   \n",
       "14091  TRAIN_14091          COMPONENT1         2784  2013   \n",
       "14092  TRAIN_14092          COMPONENT3         1788  2008   \n",
       "14093  TRAIN_14093          COMPONENT2         2498  2009   \n",
       "14094  TRAIN_14094          COMPONENT2         1902  2012   \n",
       "\n",
       "       SAMPLE_TRANSFER_DAY  ANONYMOUS_2  AG   AL    B  BA  ...     U25  \\\n",
       "0                        7          200   0    3   93   0  ...     NaN   \n",
       "1                       51          375   0    2   19   0  ...     2.0   \n",
       "2                        2          200   0  110    1   1  ...     0.0   \n",
       "3                        2          200   0    8    3   0  ...     NaN   \n",
       "4                        4          200   0    1  157   0  ...     NaN   \n",
       "...                    ...          ...  ..  ...  ...  ..  ...     ...   \n",
       "14090                    8          200   0    2  201   1  ...     NaN   \n",
       "14091                    2          200   0    3   85   0  ...     NaN   \n",
       "14092                    9          550   0    6    0   1  ...     NaN   \n",
       "14093                   19          550   0    2    4   0  ...     7.0   \n",
       "14094                   15          200   0    0   77   0  ...  1163.0   \n",
       "\n",
       "          U20      U14        U6        U4  V  V100    V40    ZN  Y_LABEL  \n",
       "0         NaN      NaN       NaN       NaN  0   NaN  154.0    75        0  \n",
       "1         4.0      6.0     216.0    1454.0  0   NaN   44.0   652        0  \n",
       "2         3.0     39.0   11261.0   41081.0  0   NaN   72.6   412        1  \n",
       "3         NaN      NaN       NaN       NaN  0   NaN  133.3     7        0  \n",
       "4         NaN      NaN       NaN       NaN  0   NaN  133.1   128        0  \n",
       "...       ...      ...       ...       ... ..   ...    ...   ...      ...  \n",
       "14090     NaN      NaN       NaN       NaN  0   NaN  135.4    16        0  \n",
       "14091     NaN      NaN       NaN       NaN  0  14.5  117.5  1408        0  \n",
       "14092     NaN      NaN       NaN       NaN  0   NaN   54.0  1301        0  \n",
       "14093     8.0    100.0    1625.0   18890.0  0   NaN   44.3   652        0  \n",
       "14094  2565.0  11296.0  181016.0  325823.0  0   NaN   47.0   612        0  \n",
       "\n",
       "[14095 rows x 54 columns]"
      ]
     },
     "execution_count": 5,
     "metadata": {},
     "output_type": "execute_result"
    }
   ],
   "source": []
  },
  {
   "cell_type": "markdown",
   "id": "aa8e86f1-add6-4db1-bcd0-45a511c6bd93",
   "metadata": {},
   "source": [
    "## Data Preprocessing\n",
    "#### 1. 결측치 처리\n",
    "#### 2. Train / Validation 분할\n",
    "#### 3. Data label-encoding, scaling"
   ]
  },
  {
   "cell_type": "code",
   "execution_count": 6,
   "id": "2dcc31ea-0d87-4988-90ff-01bbb69901da",
   "metadata": {},
   "outputs": [],
   "source": [
    "categorical_features = ['COMPONENT_ARBITRARY', 'YEAR']\n",
    "# Inference(실제 진단 환경)에 사용하는 컬럼\n",
    "test_stage_features = ['COMPONENT_ARBITRARY', 'ANONYMOUS_1', 'YEAR' , 'ANONYMOUS_2', 'AG', 'CO', 'CR', 'CU', 'FE', 'H2O', 'MN', 'MO', 'NI', 'PQINDEX', 'TI', 'V', 'V40', 'ZN']"
   ]
  },
  {
   "cell_type": "code",
   "execution_count": 7,
   "id": "5525538e-ca16-4a96-993d-d17d62e189d7",
   "metadata": {},
   "outputs": [],
   "source": [
    "train = train.fillna(0)\n",
    "test = test.fillna(0)"
   ]
  },
  {
   "cell_type": "code",
   "execution_count": 8,
   "id": "9be66d9f-caee-4885-a34f-0063aeb92d7d",
   "metadata": {},
   "outputs": [],
   "source": [
    "all_X = train.drop(['ID', 'Y_LABEL'], axis = 1)\n",
    "all_y = train['Y_LABEL']\n",
    "\n",
    "test = test.drop(['ID'], axis = 1)\n",
    "\n",
    "train_X, val_X, train_y, val_y = train_test_split(all_X, all_y, test_size=0.2, random_state=CFG['SEED'], stratify=all_y)"
   ]
  },
  {
   "cell_type": "code",
   "execution_count": 20,
   "id": "ad42e8db-9266-49c3-9cf7-140c65b9e321",
   "metadata": {},
   "outputs": [
    {
     "data": {
      "text/plain": [
       "0        0\n",
       "1        0\n",
       "2        1\n",
       "3        0\n",
       "4        0\n",
       "        ..\n",
       "14090    0\n",
       "14091    0\n",
       "14092    0\n",
       "14093    0\n",
       "14094    0\n",
       "Name: Y_LABEL, Length: 14095, dtype: int64"
      ]
     },
     "execution_count": 20,
     "metadata": {},
     "output_type": "execute_result"
    }
   ],
   "source": [
    "all_y"
   ]
  },
  {
   "cell_type": "code",
   "execution_count": 14,
   "id": "42d266fd-a7b5-440f-9501-1450aea77b28",
   "metadata": {},
   "outputs": [],
   "source": [
    "def get_values(value):\n",
    "    return value.values.reshape(-1, 1)"
   ]
  },
  {
   "cell_type": "code",
   "execution_count": 15,
   "id": "8448b110-e4f2-4bab-b5b1-f9ef21fa9086",
   "metadata": {},
   "outputs": [],
   "source": [
    "for col in train_X.columns:\n",
    "    if col not in categorical_features:\n",
    "        scaler = StandardScaler()\n",
    "        train_X[col] = scaler.fit_transform(get_values(train_X[col]))\n",
    "        val_X[col] = scaler.transform(get_values(val_X[col]))\n",
    "        if col in test.columns:\n",
    "            test[col] = scaler.transform(get_values(test[col]))\n",
    "            \n",
    "le = LabelEncoder()\n",
    "for col in categorical_features:    \n",
    "    train_X[col] = le.fit_transform(train_X[col])\n",
    "    val_X[col] = le.transform(val_X[col])\n",
    "    if col in test.columns:\n",
    "        test[col] = le.transform(test[col])"
   ]
  },
  {
   "cell_type": "code",
   "execution_count": 16,
   "id": "55771ef8-8399-48bf-b0fb-d7218a517c56",
   "metadata": {},
   "outputs": [
    {
     "data": {
      "text/html": [
       "<div>\n",
       "<style scoped>\n",
       "    .dataframe tbody tr th:only-of-type {\n",
       "        vertical-align: middle;\n",
       "    }\n",
       "\n",
       "    .dataframe tbody tr th {\n",
       "        vertical-align: top;\n",
       "    }\n",
       "\n",
       "    .dataframe thead th {\n",
       "        text-align: right;\n",
       "    }\n",
       "</style>\n",
       "<table border=\"1\" class=\"dataframe\">\n",
       "  <thead>\n",
       "    <tr style=\"text-align: right;\">\n",
       "      <th></th>\n",
       "      <th>COMPONENT_ARBITRARY</th>\n",
       "      <th>ANONYMOUS_1</th>\n",
       "      <th>YEAR</th>\n",
       "      <th>SAMPLE_TRANSFER_DAY</th>\n",
       "      <th>ANONYMOUS_2</th>\n",
       "      <th>AG</th>\n",
       "      <th>AL</th>\n",
       "      <th>B</th>\n",
       "      <th>BA</th>\n",
       "      <th>BE</th>\n",
       "      <th>...</th>\n",
       "      <th>U50</th>\n",
       "      <th>U25</th>\n",
       "      <th>U20</th>\n",
       "      <th>U14</th>\n",
       "      <th>U6</th>\n",
       "      <th>U4</th>\n",
       "      <th>V</th>\n",
       "      <th>V100</th>\n",
       "      <th>V40</th>\n",
       "      <th>ZN</th>\n",
       "    </tr>\n",
       "  </thead>\n",
       "  <tbody>\n",
       "    <tr>\n",
       "      <th>822</th>\n",
       "      <td>2</td>\n",
       "      <td>0.018731</td>\n",
       "      <td>4</td>\n",
       "      <td>-0.051286</td>\n",
       "      <td>-0.356161</td>\n",
       "      <td>-0.150219</td>\n",
       "      <td>-0.119547</td>\n",
       "      <td>-0.186532</td>\n",
       "      <td>-0.225981</td>\n",
       "      <td>-0.042285</td>\n",
       "      <td>...</td>\n",
       "      <td>-0.064480</td>\n",
       "      <td>-0.119674</td>\n",
       "      <td>-0.118329</td>\n",
       "      <td>-0.123936</td>\n",
       "      <td>-0.122282</td>\n",
       "      <td>-0.162216</td>\n",
       "      <td>-0.107095</td>\n",
       "      <td>-0.600555</td>\n",
       "      <td>0.678413</td>\n",
       "      <td>-1.097000</td>\n",
       "    </tr>\n",
       "    <tr>\n",
       "      <th>6794</th>\n",
       "      <td>1</td>\n",
       "      <td>0.671873</td>\n",
       "      <td>6</td>\n",
       "      <td>-0.475757</td>\n",
       "      <td>-0.356161</td>\n",
       "      <td>-0.150219</td>\n",
       "      <td>-0.141100</td>\n",
       "      <td>-0.633402</td>\n",
       "      <td>-0.225981</td>\n",
       "      <td>-0.042285</td>\n",
       "      <td>...</td>\n",
       "      <td>-0.002384</td>\n",
       "      <td>0.413196</td>\n",
       "      <td>0.478425</td>\n",
       "      <td>-0.123936</td>\n",
       "      <td>-0.122282</td>\n",
       "      <td>-0.162216</td>\n",
       "      <td>-0.107095</td>\n",
       "      <td>-0.600555</td>\n",
       "      <td>-1.211150</td>\n",
       "      <td>-0.081955</td>\n",
       "    </tr>\n",
       "    <tr>\n",
       "      <th>12200</th>\n",
       "      <td>2</td>\n",
       "      <td>-0.464419</td>\n",
       "      <td>7</td>\n",
       "      <td>0.033608</td>\n",
       "      <td>-0.356161</td>\n",
       "      <td>-0.150219</td>\n",
       "      <td>-0.097994</td>\n",
       "      <td>-0.603611</td>\n",
       "      <td>1.053536</td>\n",
       "      <td>-0.042285</td>\n",
       "      <td>...</td>\n",
       "      <td>-0.064480</td>\n",
       "      <td>-0.119674</td>\n",
       "      <td>-0.118329</td>\n",
       "      <td>-0.123936</td>\n",
       "      <td>-0.122282</td>\n",
       "      <td>-0.162216</td>\n",
       "      <td>-0.107095</td>\n",
       "      <td>-0.600555</td>\n",
       "      <td>0.447358</td>\n",
       "      <td>-0.948227</td>\n",
       "    </tr>\n",
       "    <tr>\n",
       "      <th>10326</th>\n",
       "      <td>2</td>\n",
       "      <td>-0.250266</td>\n",
       "      <td>4</td>\n",
       "      <td>-0.221075</td>\n",
       "      <td>0.379399</td>\n",
       "      <td>-0.150219</td>\n",
       "      <td>-0.119547</td>\n",
       "      <td>-0.613541</td>\n",
       "      <td>0.733657</td>\n",
       "      <td>-0.042285</td>\n",
       "      <td>...</td>\n",
       "      <td>-0.064480</td>\n",
       "      <td>-0.119674</td>\n",
       "      <td>-0.118329</td>\n",
       "      <td>-0.123936</td>\n",
       "      <td>-0.122282</td>\n",
       "      <td>-0.162216</td>\n",
       "      <td>-0.107095</td>\n",
       "      <td>-0.600555</td>\n",
       "      <td>1.516479</td>\n",
       "      <td>-1.031088</td>\n",
       "    </tr>\n",
       "    <tr>\n",
       "      <th>319</th>\n",
       "      <td>2</td>\n",
       "      <td>-0.246705</td>\n",
       "      <td>9</td>\n",
       "      <td>0.203397</td>\n",
       "      <td>-0.356161</td>\n",
       "      <td>-0.150219</td>\n",
       "      <td>-0.097994</td>\n",
       "      <td>4.450985</td>\n",
       "      <td>-0.225981</td>\n",
       "      <td>-0.042285</td>\n",
       "      <td>...</td>\n",
       "      <td>-0.064480</td>\n",
       "      <td>-0.119674</td>\n",
       "      <td>-0.118329</td>\n",
       "      <td>-0.123936</td>\n",
       "      <td>-0.122282</td>\n",
       "      <td>-0.162216</td>\n",
       "      <td>-0.107095</td>\n",
       "      <td>-0.600555</td>\n",
       "      <td>0.602048</td>\n",
       "      <td>-0.219428</td>\n",
       "    </tr>\n",
       "    <tr>\n",
       "      <th>...</th>\n",
       "      <td>...</td>\n",
       "      <td>...</td>\n",
       "      <td>...</td>\n",
       "      <td>...</td>\n",
       "      <td>...</td>\n",
       "      <td>...</td>\n",
       "      <td>...</td>\n",
       "      <td>...</td>\n",
       "      <td>...</td>\n",
       "      <td>...</td>\n",
       "      <td>...</td>\n",
       "      <td>...</td>\n",
       "      <td>...</td>\n",
       "      <td>...</td>\n",
       "      <td>...</td>\n",
       "      <td>...</td>\n",
       "      <td>...</td>\n",
       "      <td>...</td>\n",
       "      <td>...</td>\n",
       "      <td>...</td>\n",
       "      <td>...</td>\n",
       "    </tr>\n",
       "    <tr>\n",
       "      <th>8187</th>\n",
       "      <td>1</td>\n",
       "      <td>0.186587</td>\n",
       "      <td>5</td>\n",
       "      <td>0.542974</td>\n",
       "      <td>-0.356161</td>\n",
       "      <td>-0.150219</td>\n",
       "      <td>-0.130324</td>\n",
       "      <td>-0.524167</td>\n",
       "      <td>-0.225981</td>\n",
       "      <td>-0.042285</td>\n",
       "      <td>...</td>\n",
       "      <td>-0.002384</td>\n",
       "      <td>1.382050</td>\n",
       "      <td>1.291027</td>\n",
       "      <td>1.919060</td>\n",
       "      <td>0.754036</td>\n",
       "      <td>0.759525</td>\n",
       "      <td>-0.107095</td>\n",
       "      <td>-0.600555</td>\n",
       "      <td>-1.283600</td>\n",
       "      <td>0.064935</td>\n",
       "    </tr>\n",
       "    <tr>\n",
       "      <th>6763</th>\n",
       "      <td>2</td>\n",
       "      <td>0.727667</td>\n",
       "      <td>9</td>\n",
       "      <td>0.458080</td>\n",
       "      <td>-0.356161</td>\n",
       "      <td>-0.150219</td>\n",
       "      <td>-0.141100</td>\n",
       "      <td>-0.633402</td>\n",
       "      <td>-0.225981</td>\n",
       "      <td>-0.042285</td>\n",
       "      <td>...</td>\n",
       "      <td>-0.064480</td>\n",
       "      <td>-0.119674</td>\n",
       "      <td>-0.118329</td>\n",
       "      <td>-0.123936</td>\n",
       "      <td>-0.122282</td>\n",
       "      <td>-0.162216</td>\n",
       "      <td>-0.107095</td>\n",
       "      <td>-0.600555</td>\n",
       "      <td>0.674497</td>\n",
       "      <td>-0.904914</td>\n",
       "    </tr>\n",
       "    <tr>\n",
       "      <th>5944</th>\n",
       "      <td>0</td>\n",
       "      <td>-0.173580</td>\n",
       "      <td>6</td>\n",
       "      <td>-0.305969</td>\n",
       "      <td>-0.356161</td>\n",
       "      <td>-0.150219</td>\n",
       "      <td>-0.033334</td>\n",
       "      <td>0.717138</td>\n",
       "      <td>-0.225981</td>\n",
       "      <td>-0.042285</td>\n",
       "      <td>...</td>\n",
       "      <td>-0.064480</td>\n",
       "      <td>-0.119674</td>\n",
       "      <td>-0.118329</td>\n",
       "      <td>-0.123936</td>\n",
       "      <td>-0.122282</td>\n",
       "      <td>-0.162216</td>\n",
       "      <td>-0.107095</td>\n",
       "      <td>1.605207</td>\n",
       "      <td>-0.265389</td>\n",
       "      <td>1.409541</td>\n",
       "    </tr>\n",
       "    <tr>\n",
       "      <th>9952</th>\n",
       "      <td>2</td>\n",
       "      <td>-0.339062</td>\n",
       "      <td>3</td>\n",
       "      <td>-0.475757</td>\n",
       "      <td>0.001940</td>\n",
       "      <td>-0.150219</td>\n",
       "      <td>-0.108771</td>\n",
       "      <td>-0.603611</td>\n",
       "      <td>-0.225981</td>\n",
       "      <td>-0.042285</td>\n",
       "      <td>...</td>\n",
       "      <td>-0.064480</td>\n",
       "      <td>-0.119674</td>\n",
       "      <td>-0.118329</td>\n",
       "      <td>-0.123936</td>\n",
       "      <td>-0.122282</td>\n",
       "      <td>-0.162216</td>\n",
       "      <td>-0.107095</td>\n",
       "      <td>-0.600555</td>\n",
       "      <td>-0.171401</td>\n",
       "      <td>0.260788</td>\n",
       "    </tr>\n",
       "    <tr>\n",
       "      <th>13229</th>\n",
       "      <td>2</td>\n",
       "      <td>0.339485</td>\n",
       "      <td>3</td>\n",
       "      <td>-0.475757</td>\n",
       "      <td>-0.356161</td>\n",
       "      <td>-0.150219</td>\n",
       "      <td>-0.119547</td>\n",
       "      <td>-0.613541</td>\n",
       "      <td>-0.225981</td>\n",
       "      <td>-0.042285</td>\n",
       "      <td>...</td>\n",
       "      <td>-0.064480</td>\n",
       "      <td>-0.119674</td>\n",
       "      <td>-0.118329</td>\n",
       "      <td>-0.123936</td>\n",
       "      <td>-0.122282</td>\n",
       "      <td>-0.162216</td>\n",
       "      <td>-0.107095</td>\n",
       "      <td>-0.600555</td>\n",
       "      <td>0.147769</td>\n",
       "      <td>-0.249560</td>\n",
       "    </tr>\n",
       "  </tbody>\n",
       "</table>\n",
       "<p>11276 rows × 52 columns</p>\n",
       "</div>"
      ],
      "text/plain": [
       "       COMPONENT_ARBITRARY  ANONYMOUS_1  YEAR  SAMPLE_TRANSFER_DAY  \\\n",
       "822                      2     0.018731     4            -0.051286   \n",
       "6794                     1     0.671873     6            -0.475757   \n",
       "12200                    2    -0.464419     7             0.033608   \n",
       "10326                    2    -0.250266     4            -0.221075   \n",
       "319                      2    -0.246705     9             0.203397   \n",
       "...                    ...          ...   ...                  ...   \n",
       "8187                     1     0.186587     5             0.542974   \n",
       "6763                     2     0.727667     9             0.458080   \n",
       "5944                     0    -0.173580     6            -0.305969   \n",
       "9952                     2    -0.339062     3            -0.475757   \n",
       "13229                    2     0.339485     3            -0.475757   \n",
       "\n",
       "       ANONYMOUS_2        AG        AL         B        BA        BE  ...  \\\n",
       "822      -0.356161 -0.150219 -0.119547 -0.186532 -0.225981 -0.042285  ...   \n",
       "6794     -0.356161 -0.150219 -0.141100 -0.633402 -0.225981 -0.042285  ...   \n",
       "12200    -0.356161 -0.150219 -0.097994 -0.603611  1.053536 -0.042285  ...   \n",
       "10326     0.379399 -0.150219 -0.119547 -0.613541  0.733657 -0.042285  ...   \n",
       "319      -0.356161 -0.150219 -0.097994  4.450985 -0.225981 -0.042285  ...   \n",
       "...            ...       ...       ...       ...       ...       ...  ...   \n",
       "8187     -0.356161 -0.150219 -0.130324 -0.524167 -0.225981 -0.042285  ...   \n",
       "6763     -0.356161 -0.150219 -0.141100 -0.633402 -0.225981 -0.042285  ...   \n",
       "5944     -0.356161 -0.150219 -0.033334  0.717138 -0.225981 -0.042285  ...   \n",
       "9952      0.001940 -0.150219 -0.108771 -0.603611 -0.225981 -0.042285  ...   \n",
       "13229    -0.356161 -0.150219 -0.119547 -0.613541 -0.225981 -0.042285  ...   \n",
       "\n",
       "            U50       U25       U20       U14        U6        U4         V  \\\n",
       "822   -0.064480 -0.119674 -0.118329 -0.123936 -0.122282 -0.162216 -0.107095   \n",
       "6794  -0.002384  0.413196  0.478425 -0.123936 -0.122282 -0.162216 -0.107095   \n",
       "12200 -0.064480 -0.119674 -0.118329 -0.123936 -0.122282 -0.162216 -0.107095   \n",
       "10326 -0.064480 -0.119674 -0.118329 -0.123936 -0.122282 -0.162216 -0.107095   \n",
       "319   -0.064480 -0.119674 -0.118329 -0.123936 -0.122282 -0.162216 -0.107095   \n",
       "...         ...       ...       ...       ...       ...       ...       ...   \n",
       "8187  -0.002384  1.382050  1.291027  1.919060  0.754036  0.759525 -0.107095   \n",
       "6763  -0.064480 -0.119674 -0.118329 -0.123936 -0.122282 -0.162216 -0.107095   \n",
       "5944  -0.064480 -0.119674 -0.118329 -0.123936 -0.122282 -0.162216 -0.107095   \n",
       "9952  -0.064480 -0.119674 -0.118329 -0.123936 -0.122282 -0.162216 -0.107095   \n",
       "13229 -0.064480 -0.119674 -0.118329 -0.123936 -0.122282 -0.162216 -0.107095   \n",
       "\n",
       "           V100       V40        ZN  \n",
       "822   -0.600555  0.678413 -1.097000  \n",
       "6794  -0.600555 -1.211150 -0.081955  \n",
       "12200 -0.600555  0.447358 -0.948227  \n",
       "10326 -0.600555  1.516479 -1.031088  \n",
       "319   -0.600555  0.602048 -0.219428  \n",
       "...         ...       ...       ...  \n",
       "8187  -0.600555 -1.283600  0.064935  \n",
       "6763  -0.600555  0.674497 -0.904914  \n",
       "5944   1.605207 -0.265389  1.409541  \n",
       "9952  -0.600555 -0.171401  0.260788  \n",
       "13229 -0.600555  0.147769 -0.249560  \n",
       "\n",
       "[11276 rows x 52 columns]"
      ]
     },
     "execution_count": 16,
     "metadata": {},
     "output_type": "execute_result"
    }
   ],
   "source": [
    "train_X"
   ]
  },
  {
   "cell_type": "code",
   "execution_count": 19,
   "id": "9766158c-5c9d-46e4-96dc-dd81e9eafbee",
   "metadata": {},
   "outputs": [
    {
     "data": {
      "text/plain": [
       "tensor([ 2.0000, -0.2467,  9.0000,  0.2034, -0.3562, -0.1502, -0.0980,  4.4510,\n",
       "        -0.2260, -0.0423,  1.9925, -0.0667, -0.0838,  0.1186,  6.3124, -0.3735,\n",
       "        -0.5938, -0.3679, -0.5906, -0.6106, -0.6110,  0.5792, -0.1095, -0.0387,\n",
       "         0.1869, -0.1151, -0.2879,  1.1256, -0.4026, -0.2072,  7.9655, -0.8619,\n",
       "         0.4221, -0.1918,  0.2350, -0.1715, -0.0992, -0.2401, -0.3875, -0.1079,\n",
       "        -0.0761, -0.0988, -0.0645, -0.1197, -0.1183, -0.1239, -0.1223, -0.1622,\n",
       "        -0.1071, -0.6006,  0.6020, -0.2194])"
      ]
     },
     "execution_count": 19,
     "metadata": {},
     "output_type": "execute_result"
    }
   ],
   "source": [
    "k = torch.Tensor(train_X.iloc[4])\n",
    "k"
   ]
  },
  {
   "cell_type": "code",
   "execution_count": 22,
   "id": "c3b3c959-ffa8-47f6-ada4-a66b7146a2fd",
   "metadata": {},
   "outputs": [
    {
     "data": {
      "text/plain": [
       "0"
      ]
     },
     "execution_count": 22,
     "metadata": {},
     "output_type": "execute_result"
    }
   ],
   "source": [
    "train_y.values[5]"
   ]
  },
  {
   "cell_type": "markdown",
   "id": "d445324a-7e14-4252-ab7c-2a877d4f5589",
   "metadata": {},
   "source": [
    "## CustomDataset"
   ]
  },
  {
   "cell_type": "code",
   "execution_count": 17,
   "id": "c3a20fb9-c1c1-406b-a43d-c3099bf85dfb",
   "metadata": {},
   "outputs": [],
   "source": [
    "class CustomDataset(Dataset):\n",
    "    def __init__(self, data_X, data_y, distillation=False):\n",
    "        super(CustomDataset, self).__init__()\n",
    "        self.data_X = data_X\n",
    "        self.data_y = data_y\n",
    "        self.distillation = distillation\n",
    "        \n",
    "    def __len__(self):\n",
    "        return len(self.data_X)\n",
    "    \n",
    "    def __getitem__(self, index):\n",
    "        if self.distillation:\n",
    "            # 지식 증류 학습 시\n",
    "            teacher_X = torch.Tensor(self.data_X.iloc[index])\n",
    "            student_X = torch.Tensor(self.data_X[test_stage_features].iloc[index])\n",
    "            y = self.data_y.values[index]\n",
    "            return teacher_X, student_X, y\n",
    "        else:\n",
    "            if self.data_y is None:\n",
    "                test_X = torch.Tensor(self.data_X.iloc[index])\n",
    "                return test_X\n",
    "            else:\n",
    "                teacher_X = torch.Tensor(self.data_X.iloc[index])\n",
    "                y = self.data_y.values[index]\n",
    "                return teacher_X, y"
   ]
  },
  {
   "cell_type": "code",
   "execution_count": 18,
   "id": "b30612f3-341f-4b66-92cd-f2443502c6dd",
   "metadata": {},
   "outputs": [],
   "source": [
    "train_dataset = CustomDataset(train_X, train_y, False)\n",
    "val_dataset = CustomDataset(val_X, val_y, False)"
   ]
  },
  {
   "cell_type": "code",
   "execution_count": 19,
   "id": "9b559c79-4cda-4346-a6a4-b26196142247",
   "metadata": {},
   "outputs": [],
   "source": [
    "train_loader = DataLoader(train_dataset, batch_size = CFG['BATCH_SIZE'], shuffle=True)\n",
    "val_loader = DataLoader(val_dataset, batch_size = CFG['BATCH_SIZE'], shuffle=False)"
   ]
  },
  {
   "cell_type": "markdown",
   "id": "c52a89a1-d7f2-47f4-b61c-1a85f38e0b0e",
   "metadata": {},
   "source": [
    "## Define Teacher Model"
   ]
  },
  {
   "cell_type": "code",
   "execution_count": 20,
   "id": "fbc9edd4-fee3-4a2f-95f6-ec2deafadde9",
   "metadata": {},
   "outputs": [],
   "source": [
    "class Teacher(nn.Module):\n",
    "    def __init__(self):\n",
    "        super(Teacher, self).__init__()\n",
    "        self.classifier = nn.Sequential(\n",
    "            nn.Linear(in_features=52, out_features=256),\n",
    "            nn.BatchNorm1d(256),\n",
    "            nn.LeakyReLU(),\n",
    "            nn.Linear(in_features=256, out_features=1024),\n",
    "            nn.BatchNorm1d(1024),\n",
    "            nn.LeakyReLU(),\n",
    "            nn.Linear(in_features=1024, out_features=256),\n",
    "            nn.BatchNorm1d(256),\n",
    "            nn.LeakyReLU(),\n",
    "            nn.Linear(in_features=256, out_features=1),\n",
    "            nn.Sigmoid()\n",
    "        )\n",
    "        \n",
    "    def forward(self, x):\n",
    "        output = self.classifier(x)\n",
    "        return output"
   ]
  },
  {
   "cell_type": "markdown",
   "id": "7ea48653-fa7d-4d65-8055-9b40f0bbc847",
   "metadata": {},
   "source": [
    "## Teacher Train / Validation"
   ]
  },
  {
   "cell_type": "code",
   "execution_count": 21,
   "id": "763bf2bc-e0f3-4a2f-a3f9-d74942c85e04",
   "metadata": {},
   "outputs": [],
   "source": [
    "def train(model, optimizer, train_loader, val_loader, scheduler, device):\n",
    "    model.to(device)\n",
    "\n",
    "    best_score = 0\n",
    "    best_model = None\n",
    "    criterion = nn.BCELoss().to(device)\n",
    "\n",
    "    for epoch in range(CFG[\"EPOCHS\"]):\n",
    "        train_loss = []\n",
    "  \n",
    "        model.train()\n",
    "        for X, y in tqdm(train_loader):\n",
    "            X = X.float().to(device)\n",
    "            y = y.float().to(device)\n",
    "            \n",
    "            optimizer.zero_grad()\n",
    "            \n",
    "            y_pred = model(X)\n",
    "            \n",
    "            loss = criterion(y_pred, y.reshape(-1, 1))\n",
    "            loss.backward()\n",
    "            \n",
    "            optimizer.step()\n",
    "\n",
    "            train_loss.append(loss.item())\n",
    "\n",
    "        val_loss, val_score = validation_teacher(model, val_loader, criterion, device)\n",
    "        print(f'Epoch [{epoch}], Train Loss : [{np.mean(train_loss) :.5f}] Val Loss : [{np.mean(val_loss) :.5f}] Val F1 Score : [{val_score:.5f}]')\n",
    "\n",
    "        if scheduler is not None:\n",
    "            scheduler.step(val_score)\n",
    "            \n",
    "        if best_score < val_score:\n",
    "            best_model = model\n",
    "            best_score = val_score\n",
    "        \n",
    "    return best_model "
   ]
  },
  {
   "cell_type": "code",
   "execution_count": 22,
   "id": "7170415a-299d-4d1c-a18f-30a2d2974162",
   "metadata": {},
   "outputs": [],
   "source": [
    "def competition_metric(true, pred):\n",
    "    return f1_score(true, pred, average=\"macro\")\n",
    "\n",
    "def validation_teacher(model, val_loader, criterion, device):\n",
    "    model.eval()\n",
    "\n",
    "    val_loss = []\n",
    "    pred_labels = []\n",
    "    true_labels = []\n",
    "    threshold = 0.35\n",
    "    \n",
    "    with torch.no_grad():\n",
    "        for X, y in tqdm(val_loader):\n",
    "            X = X.float().to(device)\n",
    "            y = y.float().to(device)\n",
    "            \n",
    "            model_pred = model(X.to(device))\n",
    "            \n",
    "            loss = criterion(model_pred, y.reshape(-1, 1))\n",
    "            val_loss.append(loss.item())      \n",
    "            \n",
    "            model_pred = model_pred.squeeze(1).to('cpu')  \n",
    "            pred_labels += model_pred.tolist()\n",
    "            true_labels += y.tolist()\n",
    "        \n",
    "        pred_labels = np.where(np.array(pred_labels) > threshold, 1, 0)\n",
    "        val_f1 = competition_metric(true_labels, pred_labels)\n",
    "    return val_loss, val_f1   "
   ]
  },
  {
   "cell_type": "markdown",
   "id": "2027ff6f-383c-41fc-b719-488198867c44",
   "metadata": {},
   "source": [
    "## Run (Teacher Model)"
   ]
  },
  {
   "cell_type": "code",
   "execution_count": 23,
   "id": "c9f1fdf1-10df-4a6b-9a1b-c79e21cceebe",
   "metadata": {
    "tags": []
   },
   "outputs": [
    {
     "data": {
      "application/vnd.jupyter.widget-view+json": {
       "model_id": "72a35724d43b45e5bd58944c84874493",
       "version_major": 2,
       "version_minor": 0
      },
      "text/plain": [
       "  0%|          | 0/45 [00:00<?, ?it/s]"
      ]
     },
     "metadata": {},
     "output_type": "display_data"
    },
    {
     "data": {
      "application/vnd.jupyter.widget-view+json": {
       "model_id": "f3e90d76d1584dfe8bb81a329cc0a4b6",
       "version_major": 2,
       "version_minor": 0
      },
      "text/plain": [
       "  0%|          | 0/12 [00:00<?, ?it/s]"
      ]
     },
     "metadata": {},
     "output_type": "display_data"
    },
    {
     "name": "stdout",
     "output_type": "stream",
     "text": [
      "Epoch [0], Train Loss : [0.25353] Val Loss : [0.31790] Val F1 Score : [0.72502]\n"
     ]
    },
    {
     "data": {
      "application/vnd.jupyter.widget-view+json": {
       "model_id": "7218c3368e80414e961b837e29e2cf2d",
       "version_major": 2,
       "version_minor": 0
      },
      "text/plain": [
       "  0%|          | 0/45 [00:00<?, ?it/s]"
      ]
     },
     "metadata": {},
     "output_type": "display_data"
    },
    {
     "data": {
      "application/vnd.jupyter.widget-view+json": {
       "model_id": "71e1711a5d9f4f50afdabb766be590d7",
       "version_major": 2,
       "version_minor": 0
      },
      "text/plain": [
       "  0%|          | 0/12 [00:00<?, ?it/s]"
      ]
     },
     "metadata": {},
     "output_type": "display_data"
    },
    {
     "name": "stdout",
     "output_type": "stream",
     "text": [
      "Epoch [1], Train Loss : [0.18746] Val Loss : [0.30140] Val F1 Score : [0.76970]\n"
     ]
    },
    {
     "data": {
      "application/vnd.jupyter.widget-view+json": {
       "model_id": "cab8d6401eec4b089542fd786a3c63ff",
       "version_major": 2,
       "version_minor": 0
      },
      "text/plain": [
       "  0%|          | 0/45 [00:00<?, ?it/s]"
      ]
     },
     "metadata": {},
     "output_type": "display_data"
    },
    {
     "data": {
      "application/vnd.jupyter.widget-view+json": {
       "model_id": "6b7ae222af5b49c3bfd25c1281e57fa6",
       "version_major": 2,
       "version_minor": 0
      },
      "text/plain": [
       "  0%|          | 0/12 [00:00<?, ?it/s]"
      ]
     },
     "metadata": {},
     "output_type": "display_data"
    },
    {
     "name": "stdout",
     "output_type": "stream",
     "text": [
      "Epoch [2], Train Loss : [0.17542] Val Loss : [0.30756] Val F1 Score : [0.75886]\n"
     ]
    },
    {
     "data": {
      "application/vnd.jupyter.widget-view+json": {
       "model_id": "7e12f0ddeaf245ee959c63525d27e9a2",
       "version_major": 2,
       "version_minor": 0
      },
      "text/plain": [
       "  0%|          | 0/45 [00:00<?, ?it/s]"
      ]
     },
     "metadata": {},
     "output_type": "display_data"
    },
    {
     "data": {
      "application/vnd.jupyter.widget-view+json": {
       "model_id": "e7672f5aa4cc47a1a4723503a996e216",
       "version_major": 2,
       "version_minor": 0
      },
      "text/plain": [
       "  0%|          | 0/12 [00:00<?, ?it/s]"
      ]
     },
     "metadata": {},
     "output_type": "display_data"
    },
    {
     "name": "stdout",
     "output_type": "stream",
     "text": [
      "Epoch [3], Train Loss : [0.16073] Val Loss : [0.31803] Val F1 Score : [0.79867]\n"
     ]
    },
    {
     "data": {
      "application/vnd.jupyter.widget-view+json": {
       "model_id": "503135e87cac43f4912a5e73fddb4353",
       "version_major": 2,
       "version_minor": 0
      },
      "text/plain": [
       "  0%|          | 0/45 [00:00<?, ?it/s]"
      ]
     },
     "metadata": {},
     "output_type": "display_data"
    },
    {
     "data": {
      "application/vnd.jupyter.widget-view+json": {
       "model_id": "6241441261d34a42b0d6ab91be5a241e",
       "version_major": 2,
       "version_minor": 0
      },
      "text/plain": [
       "  0%|          | 0/12 [00:00<?, ?it/s]"
      ]
     },
     "metadata": {},
     "output_type": "display_data"
    },
    {
     "name": "stdout",
     "output_type": "stream",
     "text": [
      "Epoch [4], Train Loss : [0.16796] Val Loss : [0.26512] Val F1 Score : [0.78427]\n"
     ]
    },
    {
     "data": {
      "application/vnd.jupyter.widget-view+json": {
       "model_id": "5c2f6c474d83457d9d4b0718622bf1eb",
       "version_major": 2,
       "version_minor": 0
      },
      "text/plain": [
       "  0%|          | 0/45 [00:00<?, ?it/s]"
      ]
     },
     "metadata": {},
     "output_type": "display_data"
    },
    {
     "data": {
      "application/vnd.jupyter.widget-view+json": {
       "model_id": "ba1543065c804debb2c2d9884648f01b",
       "version_major": 2,
       "version_minor": 0
      },
      "text/plain": [
       "  0%|          | 0/12 [00:00<?, ?it/s]"
      ]
     },
     "metadata": {},
     "output_type": "display_data"
    },
    {
     "name": "stdout",
     "output_type": "stream",
     "text": [
      "Epoch [5], Train Loss : [0.15914] Val Loss : [0.35429] Val F1 Score : [0.79029]\n",
      "Epoch     6: reducing learning rate of group 0 to 5.0000e-03.\n"
     ]
    },
    {
     "data": {
      "application/vnd.jupyter.widget-view+json": {
       "model_id": "ebf394c8794a49ada637d5c30649d320",
       "version_major": 2,
       "version_minor": 0
      },
      "text/plain": [
       "  0%|          | 0/45 [00:00<?, ?it/s]"
      ]
     },
     "metadata": {},
     "output_type": "display_data"
    },
    {
     "data": {
      "application/vnd.jupyter.widget-view+json": {
       "model_id": "fb206aa6ab8e4ccdb3e9f7a6c31e44bd",
       "version_major": 2,
       "version_minor": 0
      },
      "text/plain": [
       "  0%|          | 0/12 [00:00<?, ?it/s]"
      ]
     },
     "metadata": {},
     "output_type": "display_data"
    },
    {
     "name": "stdout",
     "output_type": "stream",
     "text": [
      "Epoch [6], Train Loss : [0.15037] Val Loss : [0.24844] Val F1 Score : [0.78742]\n"
     ]
    },
    {
     "data": {
      "application/vnd.jupyter.widget-view+json": {
       "model_id": "fa213bbfdb7e4918bda03a06d6d9604e",
       "version_major": 2,
       "version_minor": 0
      },
      "text/plain": [
       "  0%|          | 0/45 [00:00<?, ?it/s]"
      ]
     },
     "metadata": {},
     "output_type": "display_data"
    },
    {
     "data": {
      "application/vnd.jupyter.widget-view+json": {
       "model_id": "2034c23f46b8418ea2432a5f33757345",
       "version_major": 2,
       "version_minor": 0
      },
      "text/plain": [
       "  0%|          | 0/12 [00:00<?, ?it/s]"
      ]
     },
     "metadata": {},
     "output_type": "display_data"
    },
    {
     "name": "stdout",
     "output_type": "stream",
     "text": [
      "Epoch [7], Train Loss : [0.14567] Val Loss : [0.32475] Val F1 Score : [0.78214]\n",
      "Epoch     8: reducing learning rate of group 0 to 2.5000e-03.\n"
     ]
    },
    {
     "data": {
      "application/vnd.jupyter.widget-view+json": {
       "model_id": "0ff172d4d95f48829fc1f958d9e37d5f",
       "version_major": 2,
       "version_minor": 0
      },
      "text/plain": [
       "  0%|          | 0/45 [00:00<?, ?it/s]"
      ]
     },
     "metadata": {},
     "output_type": "display_data"
    },
    {
     "data": {
      "application/vnd.jupyter.widget-view+json": {
       "model_id": "3675984afbfb4eb88f99421845f1fc1f",
       "version_major": 2,
       "version_minor": 0
      },
      "text/plain": [
       "  0%|          | 0/12 [00:00<?, ?it/s]"
      ]
     },
     "metadata": {},
     "output_type": "display_data"
    },
    {
     "name": "stdout",
     "output_type": "stream",
     "text": [
      "Epoch [8], Train Loss : [0.13452] Val Loss : [0.37297] Val F1 Score : [0.78997]\n"
     ]
    },
    {
     "data": {
      "application/vnd.jupyter.widget-view+json": {
       "model_id": "4d7f6eed27b040d09f008d10a7f95def",
       "version_major": 2,
       "version_minor": 0
      },
      "text/plain": [
       "  0%|          | 0/45 [00:00<?, ?it/s]"
      ]
     },
     "metadata": {},
     "output_type": "display_data"
    },
    {
     "data": {
      "application/vnd.jupyter.widget-view+json": {
       "model_id": "5d2c52ab8b814c7fac33592761ab163a",
       "version_major": 2,
       "version_minor": 0
      },
      "text/plain": [
       "  0%|          | 0/12 [00:00<?, ?it/s]"
      ]
     },
     "metadata": {},
     "output_type": "display_data"
    },
    {
     "name": "stdout",
     "output_type": "stream",
     "text": [
      "Epoch [9], Train Loss : [0.13142] Val Loss : [0.39200] Val F1 Score : [0.79747]\n",
      "Epoch    10: reducing learning rate of group 0 to 1.2500e-03.\n"
     ]
    },
    {
     "data": {
      "application/vnd.jupyter.widget-view+json": {
       "model_id": "91fbcd2d9e1b438c86a83d3d6df3b480",
       "version_major": 2,
       "version_minor": 0
      },
      "text/plain": [
       "  0%|          | 0/45 [00:00<?, ?it/s]"
      ]
     },
     "metadata": {},
     "output_type": "display_data"
    },
    {
     "data": {
      "application/vnd.jupyter.widget-view+json": {
       "model_id": "0861fc026f5a49afb8d21aaffadacb40",
       "version_major": 2,
       "version_minor": 0
      },
      "text/plain": [
       "  0%|          | 0/12 [00:00<?, ?it/s]"
      ]
     },
     "metadata": {},
     "output_type": "display_data"
    },
    {
     "name": "stdout",
     "output_type": "stream",
     "text": [
      "Epoch [10], Train Loss : [0.12489] Val Loss : [0.42512] Val F1 Score : [0.79736]\n"
     ]
    },
    {
     "data": {
      "application/vnd.jupyter.widget-view+json": {
       "model_id": "12554f2370754f17a07ff27f01bbba53",
       "version_major": 2,
       "version_minor": 0
      },
      "text/plain": [
       "  0%|          | 0/45 [00:00<?, ?it/s]"
      ]
     },
     "metadata": {},
     "output_type": "display_data"
    },
    {
     "data": {
      "application/vnd.jupyter.widget-view+json": {
       "model_id": "bab4dd9bb7a641cc93752ac544e380f7",
       "version_major": 2,
       "version_minor": 0
      },
      "text/plain": [
       "  0%|          | 0/12 [00:00<?, ?it/s]"
      ]
     },
     "metadata": {},
     "output_type": "display_data"
    },
    {
     "name": "stdout",
     "output_type": "stream",
     "text": [
      "Epoch [11], Train Loss : [0.12602] Val Loss : [0.43069] Val F1 Score : [0.79274]\n",
      "Epoch    12: reducing learning rate of group 0 to 6.2500e-04.\n"
     ]
    },
    {
     "data": {
      "application/vnd.jupyter.widget-view+json": {
       "model_id": "99ddfd6d83b9469bbe7ff282afdc098c",
       "version_major": 2,
       "version_minor": 0
      },
      "text/plain": [
       "  0%|          | 0/45 [00:00<?, ?it/s]"
      ]
     },
     "metadata": {},
     "output_type": "display_data"
    },
    {
     "data": {
      "application/vnd.jupyter.widget-view+json": {
       "model_id": "1503ad9e905440b9b984c362dbcd3227",
       "version_major": 2,
       "version_minor": 0
      },
      "text/plain": [
       "  0%|          | 0/12 [00:00<?, ?it/s]"
      ]
     },
     "metadata": {},
     "output_type": "display_data"
    },
    {
     "name": "stdout",
     "output_type": "stream",
     "text": [
      "Epoch [12], Train Loss : [0.11972] Val Loss : [0.41836] Val F1 Score : [0.79747]\n"
     ]
    },
    {
     "data": {
      "application/vnd.jupyter.widget-view+json": {
       "model_id": "7a4c3f27a8c24f55ad1bebedff462024",
       "version_major": 2,
       "version_minor": 0
      },
      "text/plain": [
       "  0%|          | 0/45 [00:00<?, ?it/s]"
      ]
     },
     "metadata": {},
     "output_type": "display_data"
    },
    {
     "data": {
      "application/vnd.jupyter.widget-view+json": {
       "model_id": "5e999ac462b04f7887840a4efc3190ec",
       "version_major": 2,
       "version_minor": 0
      },
      "text/plain": [
       "  0%|          | 0/12 [00:00<?, ?it/s]"
      ]
     },
     "metadata": {},
     "output_type": "display_data"
    },
    {
     "name": "stdout",
     "output_type": "stream",
     "text": [
      "Epoch [13], Train Loss : [0.11837] Val Loss : [0.40945] Val F1 Score : [0.80447]\n"
     ]
    },
    {
     "data": {
      "application/vnd.jupyter.widget-view+json": {
       "model_id": "d69bb7104820499e822cae002b3143fa",
       "version_major": 2,
       "version_minor": 0
      },
      "text/plain": [
       "  0%|          | 0/45 [00:00<?, ?it/s]"
      ]
     },
     "metadata": {},
     "output_type": "display_data"
    },
    {
     "data": {
      "application/vnd.jupyter.widget-view+json": {
       "model_id": "fac9a35c3a074e49bc1608c7cc3a4ab2",
       "version_major": 2,
       "version_minor": 0
      },
      "text/plain": [
       "  0%|          | 0/12 [00:00<?, ?it/s]"
      ]
     },
     "metadata": {},
     "output_type": "display_data"
    },
    {
     "name": "stdout",
     "output_type": "stream",
     "text": [
      "Epoch [14], Train Loss : [0.11686] Val Loss : [0.39287] Val F1 Score : [0.79603]\n"
     ]
    },
    {
     "data": {
      "application/vnd.jupyter.widget-view+json": {
       "model_id": "29c30983ee5f42cf9680639af0f529ed",
       "version_major": 2,
       "version_minor": 0
      },
      "text/plain": [
       "  0%|          | 0/45 [00:00<?, ?it/s]"
      ]
     },
     "metadata": {},
     "output_type": "display_data"
    },
    {
     "data": {
      "application/vnd.jupyter.widget-view+json": {
       "model_id": "53e2ca52de3848ccb26e3113cb5f81d6",
       "version_major": 2,
       "version_minor": 0
      },
      "text/plain": [
       "  0%|          | 0/12 [00:00<?, ?it/s]"
      ]
     },
     "metadata": {},
     "output_type": "display_data"
    },
    {
     "name": "stdout",
     "output_type": "stream",
     "text": [
      "Epoch [15], Train Loss : [0.11799] Val Loss : [0.41474] Val F1 Score : [0.78951]\n",
      "Epoch    16: reducing learning rate of group 0 to 3.1250e-04.\n"
     ]
    },
    {
     "data": {
      "application/vnd.jupyter.widget-view+json": {
       "model_id": "e05e37f2802d4cd0a62e65e312168f8e",
       "version_major": 2,
       "version_minor": 0
      },
      "text/plain": [
       "  0%|          | 0/45 [00:00<?, ?it/s]"
      ]
     },
     "metadata": {},
     "output_type": "display_data"
    },
    {
     "data": {
      "application/vnd.jupyter.widget-view+json": {
       "model_id": "1fb1fa690a284e8a8d9598ace63bd651",
       "version_major": 2,
       "version_minor": 0
      },
      "text/plain": [
       "  0%|          | 0/12 [00:00<?, ?it/s]"
      ]
     },
     "metadata": {},
     "output_type": "display_data"
    },
    {
     "name": "stdout",
     "output_type": "stream",
     "text": [
      "Epoch [16], Train Loss : [0.11406] Val Loss : [0.41930] Val F1 Score : [0.79730]\n"
     ]
    },
    {
     "data": {
      "application/vnd.jupyter.widget-view+json": {
       "model_id": "eda40d2ef21e4829ae12bcbe0bc219f0",
       "version_major": 2,
       "version_minor": 0
      },
      "text/plain": [
       "  0%|          | 0/45 [00:00<?, ?it/s]"
      ]
     },
     "metadata": {},
     "output_type": "display_data"
    },
    {
     "data": {
      "application/vnd.jupyter.widget-view+json": {
       "model_id": "b0b417c418cb40cb82eaa81f36e9ab36",
       "version_major": 2,
       "version_minor": 0
      },
      "text/plain": [
       "  0%|          | 0/12 [00:00<?, ?it/s]"
      ]
     },
     "metadata": {},
     "output_type": "display_data"
    },
    {
     "name": "stdout",
     "output_type": "stream",
     "text": [
      "Epoch [17], Train Loss : [0.11956] Val Loss : [0.39710] Val F1 Score : [0.78852]\n",
      "Epoch    18: reducing learning rate of group 0 to 1.5625e-04.\n"
     ]
    },
    {
     "data": {
      "application/vnd.jupyter.widget-view+json": {
       "model_id": "60de7a92bed34b608458f83da5f5ea69",
       "version_major": 2,
       "version_minor": 0
      },
      "text/plain": [
       "  0%|          | 0/45 [00:00<?, ?it/s]"
      ]
     },
     "metadata": {},
     "output_type": "display_data"
    },
    {
     "data": {
      "application/vnd.jupyter.widget-view+json": {
       "model_id": "d0359bdc7a024085b42997921b0dbf53",
       "version_major": 2,
       "version_minor": 0
      },
      "text/plain": [
       "  0%|          | 0/12 [00:00<?, ?it/s]"
      ]
     },
     "metadata": {},
     "output_type": "display_data"
    },
    {
     "name": "stdout",
     "output_type": "stream",
     "text": [
      "Epoch [18], Train Loss : [0.11389] Val Loss : [0.43301] Val F1 Score : [0.78721]\n"
     ]
    },
    {
     "data": {
      "application/vnd.jupyter.widget-view+json": {
       "model_id": "3e41af1c062b48acaa6bc377a078147e",
       "version_major": 2,
       "version_minor": 0
      },
      "text/plain": [
       "  0%|          | 0/45 [00:00<?, ?it/s]"
      ]
     },
     "metadata": {},
     "output_type": "display_data"
    },
    {
     "data": {
      "application/vnd.jupyter.widget-view+json": {
       "model_id": "0dbb83e7bdb04285b7dd015e42e476c2",
       "version_major": 2,
       "version_minor": 0
      },
      "text/plain": [
       "  0%|          | 0/12 [00:00<?, ?it/s]"
      ]
     },
     "metadata": {},
     "output_type": "display_data"
    },
    {
     "name": "stdout",
     "output_type": "stream",
     "text": [
      "Epoch [19], Train Loss : [0.11156] Val Loss : [0.42771] Val F1 Score : [0.80269]\n",
      "Epoch    20: reducing learning rate of group 0 to 7.8125e-05.\n"
     ]
    },
    {
     "data": {
      "application/vnd.jupyter.widget-view+json": {
       "model_id": "e215c758602445c98d4e1d952eb6da36",
       "version_major": 2,
       "version_minor": 0
      },
      "text/plain": [
       "  0%|          | 0/45 [00:00<?, ?it/s]"
      ]
     },
     "metadata": {},
     "output_type": "display_data"
    },
    {
     "data": {
      "application/vnd.jupyter.widget-view+json": {
       "model_id": "38af6aa9de4e4e1ba8405ab07995dc2d",
       "version_major": 2,
       "version_minor": 0
      },
      "text/plain": [
       "  0%|          | 0/12 [00:00<?, ?it/s]"
      ]
     },
     "metadata": {},
     "output_type": "display_data"
    },
    {
     "name": "stdout",
     "output_type": "stream",
     "text": [
      "Epoch [20], Train Loss : [0.11164] Val Loss : [0.43800] Val F1 Score : [0.79104]\n"
     ]
    },
    {
     "data": {
      "application/vnd.jupyter.widget-view+json": {
       "model_id": "4ed38e298d8d432ab65022a8f11059ef",
       "version_major": 2,
       "version_minor": 0
      },
      "text/plain": [
       "  0%|          | 0/45 [00:00<?, ?it/s]"
      ]
     },
     "metadata": {},
     "output_type": "display_data"
    },
    {
     "data": {
      "application/vnd.jupyter.widget-view+json": {
       "model_id": "af8302463f61462da4d407c4bb258b18",
       "version_major": 2,
       "version_minor": 0
      },
      "text/plain": [
       "  0%|          | 0/12 [00:00<?, ?it/s]"
      ]
     },
     "metadata": {},
     "output_type": "display_data"
    },
    {
     "name": "stdout",
     "output_type": "stream",
     "text": [
      "Epoch [21], Train Loss : [0.11421] Val Loss : [0.40723] Val F1 Score : [0.80263]\n",
      "Epoch    22: reducing learning rate of group 0 to 3.9063e-05.\n"
     ]
    },
    {
     "data": {
      "application/vnd.jupyter.widget-view+json": {
       "model_id": "29d29c026bbd40908cd540acd311bda4",
       "version_major": 2,
       "version_minor": 0
      },
      "text/plain": [
       "  0%|          | 0/45 [00:00<?, ?it/s]"
      ]
     },
     "metadata": {},
     "output_type": "display_data"
    },
    {
     "data": {
      "application/vnd.jupyter.widget-view+json": {
       "model_id": "feecbcce307e4ecdbc35811443baf02b",
       "version_major": 2,
       "version_minor": 0
      },
      "text/plain": [
       "  0%|          | 0/12 [00:00<?, ?it/s]"
      ]
     },
     "metadata": {},
     "output_type": "display_data"
    },
    {
     "name": "stdout",
     "output_type": "stream",
     "text": [
      "Epoch [22], Train Loss : [0.11040] Val Loss : [0.43089] Val F1 Score : [0.79096]\n"
     ]
    },
    {
     "data": {
      "application/vnd.jupyter.widget-view+json": {
       "model_id": "d642e6696d1e48b69e94d7020ab4b06a",
       "version_major": 2,
       "version_minor": 0
      },
      "text/plain": [
       "  0%|          | 0/45 [00:00<?, ?it/s]"
      ]
     },
     "metadata": {},
     "output_type": "display_data"
    },
    {
     "data": {
      "application/vnd.jupyter.widget-view+json": {
       "model_id": "e8689529bab44746a79470b3d39cac12",
       "version_major": 2,
       "version_minor": 0
      },
      "text/plain": [
       "  0%|          | 0/12 [00:00<?, ?it/s]"
      ]
     },
     "metadata": {},
     "output_type": "display_data"
    },
    {
     "name": "stdout",
     "output_type": "stream",
     "text": [
      "Epoch [23], Train Loss : [0.11137] Val Loss : [0.41717] Val F1 Score : [0.77442]\n",
      "Epoch    24: reducing learning rate of group 0 to 1.9531e-05.\n"
     ]
    },
    {
     "data": {
      "application/vnd.jupyter.widget-view+json": {
       "model_id": "4ea57f7ead114b3693ed3fca363495b3",
       "version_major": 2,
       "version_minor": 0
      },
      "text/plain": [
       "  0%|          | 0/45 [00:00<?, ?it/s]"
      ]
     },
     "metadata": {},
     "output_type": "display_data"
    },
    {
     "data": {
      "application/vnd.jupyter.widget-view+json": {
       "model_id": "8384779f215643ba9b7ebdee3cda14ad",
       "version_major": 2,
       "version_minor": 0
      },
      "text/plain": [
       "  0%|          | 0/12 [00:00<?, ?it/s]"
      ]
     },
     "metadata": {},
     "output_type": "display_data"
    },
    {
     "name": "stdout",
     "output_type": "stream",
     "text": [
      "Epoch [24], Train Loss : [0.11187] Val Loss : [0.41247] Val F1 Score : [0.79769]\n"
     ]
    },
    {
     "data": {
      "application/vnd.jupyter.widget-view+json": {
       "model_id": "dcd16c738cac4e1e937a96f435178e6a",
       "version_major": 2,
       "version_minor": 0
      },
      "text/plain": [
       "  0%|          | 0/45 [00:00<?, ?it/s]"
      ]
     },
     "metadata": {},
     "output_type": "display_data"
    },
    {
     "data": {
      "application/vnd.jupyter.widget-view+json": {
       "model_id": "66f62fdf6d604a05a140cbe1933dbf0a",
       "version_major": 2,
       "version_minor": 0
      },
      "text/plain": [
       "  0%|          | 0/12 [00:00<?, ?it/s]"
      ]
     },
     "metadata": {},
     "output_type": "display_data"
    },
    {
     "name": "stdout",
     "output_type": "stream",
     "text": [
      "Epoch [25], Train Loss : [0.11158] Val Loss : [0.43953] Val F1 Score : [0.79079]\n",
      "Epoch    26: reducing learning rate of group 0 to 9.7656e-06.\n"
     ]
    },
    {
     "data": {
      "application/vnd.jupyter.widget-view+json": {
       "model_id": "733b3e96c99d444c86702772ae300c85",
       "version_major": 2,
       "version_minor": 0
      },
      "text/plain": [
       "  0%|          | 0/45 [00:00<?, ?it/s]"
      ]
     },
     "metadata": {},
     "output_type": "display_data"
    },
    {
     "data": {
      "application/vnd.jupyter.widget-view+json": {
       "model_id": "2f5193df4a924967b9b34c49216c5823",
       "version_major": 2,
       "version_minor": 0
      },
      "text/plain": [
       "  0%|          | 0/12 [00:00<?, ?it/s]"
      ]
     },
     "metadata": {},
     "output_type": "display_data"
    },
    {
     "name": "stdout",
     "output_type": "stream",
     "text": [
      "Epoch [26], Train Loss : [0.11015] Val Loss : [0.44128] Val F1 Score : [0.79676]\n"
     ]
    },
    {
     "data": {
      "application/vnd.jupyter.widget-view+json": {
       "model_id": "a9bf051175944ef39be2e89b1558ce3b",
       "version_major": 2,
       "version_minor": 0
      },
      "text/plain": [
       "  0%|          | 0/45 [00:00<?, ?it/s]"
      ]
     },
     "metadata": {},
     "output_type": "display_data"
    },
    {
     "data": {
      "application/vnd.jupyter.widget-view+json": {
       "model_id": "82c406e25f774304a1198885bee5da95",
       "version_major": 2,
       "version_minor": 0
      },
      "text/plain": [
       "  0%|          | 0/12 [00:00<?, ?it/s]"
      ]
     },
     "metadata": {},
     "output_type": "display_data"
    },
    {
     "name": "stdout",
     "output_type": "stream",
     "text": [
      "Epoch [27], Train Loss : [0.11104] Val Loss : [0.42848] Val F1 Score : [0.78475]\n",
      "Epoch    28: reducing learning rate of group 0 to 4.8828e-06.\n"
     ]
    },
    {
     "data": {
      "application/vnd.jupyter.widget-view+json": {
       "model_id": "622acfad79a3478f9137d45344eb5727",
       "version_major": 2,
       "version_minor": 0
      },
      "text/plain": [
       "  0%|          | 0/45 [00:00<?, ?it/s]"
      ]
     },
     "metadata": {},
     "output_type": "display_data"
    },
    {
     "data": {
      "application/vnd.jupyter.widget-view+json": {
       "model_id": "1171fdec8584429fa10a49fe2973b849",
       "version_major": 2,
       "version_minor": 0
      },
      "text/plain": [
       "  0%|          | 0/12 [00:00<?, ?it/s]"
      ]
     },
     "metadata": {},
     "output_type": "display_data"
    },
    {
     "name": "stdout",
     "output_type": "stream",
     "text": [
      "Epoch [28], Train Loss : [0.11793] Val Loss : [0.43238] Val F1 Score : [0.79178]\n"
     ]
    },
    {
     "data": {
      "application/vnd.jupyter.widget-view+json": {
       "model_id": "7ab0f5a239f747d4ab50c78326ad46f2",
       "version_major": 2,
       "version_minor": 0
      },
      "text/plain": [
       "  0%|          | 0/45 [00:00<?, ?it/s]"
      ]
     },
     "metadata": {},
     "output_type": "display_data"
    },
    {
     "data": {
      "application/vnd.jupyter.widget-view+json": {
       "model_id": "774a7ac423a1419d8b8b1183da09406b",
       "version_major": 2,
       "version_minor": 0
      },
      "text/plain": [
       "  0%|          | 0/12 [00:00<?, ?it/s]"
      ]
     },
     "metadata": {},
     "output_type": "display_data"
    },
    {
     "name": "stdout",
     "output_type": "stream",
     "text": [
      "Epoch [29], Train Loss : [0.11408] Val Loss : [0.41944] Val F1 Score : [0.78791]\n",
      "Epoch    30: reducing learning rate of group 0 to 2.4414e-06.\n"
     ]
    }
   ],
   "source": [
    "model = Teacher()\n",
    "model.eval()\n",
    "optimizer = torch.optim.Adam(model.parameters(), lr=CFG['LEARNING_RATE'])\n",
    "scheduler = torch.optim.lr_scheduler.ReduceLROnPlateau(optimizer, mode='max', factor=0.5, patience=1, threshold_mode='abs',min_lr=1e-8, verbose=True)\n",
    "\n",
    "teacher_model = train(model, optimizer, train_loader, val_loader, scheduler, device)"
   ]
  },
  {
   "cell_type": "markdown",
   "id": "0e21fc2b-1fd9-481b-b2fb-2aeae17246e3",
   "metadata": {},
   "source": [
    "## Define Student Model"
   ]
  },
  {
   "cell_type": "code",
   "execution_count": 24,
   "id": "99b4912e-c17f-4164-a79d-4ce56eae00e4",
   "metadata": {},
   "outputs": [],
   "source": [
    "class Student(nn.Module):\n",
    "    def __init__(self):\n",
    "        super(Student, self).__init__()\n",
    "        self.classifier = nn.Sequential(\n",
    "            nn.Linear(in_features=18, out_features=128),\n",
    "            nn.BatchNorm1d(128),\n",
    "            nn.LeakyReLU(),\n",
    "            nn.Linear(in_features=128, out_features=512),\n",
    "            nn.BatchNorm1d(512),\n",
    "            nn.LeakyReLU(),\n",
    "            nn.Linear(in_features=512, out_features=128),\n",
    "            nn.BatchNorm1d(128),\n",
    "            nn.LeakyReLU(),\n",
    "            nn.Linear(in_features=128, out_features=1),\n",
    "            nn.Sigmoid()\n",
    "        )\n",
    "        \n",
    "    def forward(self, x):\n",
    "        output = self.classifier(x)\n",
    "        return output"
   ]
  },
  {
   "cell_type": "markdown",
   "id": "accdd207-2e11-472c-91b7-e294e5438853",
   "metadata": {},
   "source": [
    "## Define Knowledge distillation Loss"
   ]
  },
  {
   "cell_type": "code",
   "execution_count": 25,
   "id": "36db42bc-3caa-40ef-b8c1-5f6d7ae673c0",
   "metadata": {},
   "outputs": [],
   "source": [
    "def distillation(student_logits, labels, teacher_logits, alpha):\n",
    "    distillation_loss = nn.BCELoss()(student_logits, teacher_logits)\n",
    "    student_loss = nn.BCELoss()(student_logits, labels.reshape(-1, 1))\n",
    "    return alpha * student_loss + (1-alpha) * distillation_loss"
   ]
  },
  {
   "cell_type": "code",
   "execution_count": 26,
   "id": "e49630df-05ae-46b2-b5b6-e767fe55a1be",
   "metadata": {},
   "outputs": [],
   "source": [
    "def distill_loss(output, target, teacher_output, loss_fn=distillation, opt=optimizer):\n",
    "    loss_b = loss_fn(output, target, teacher_output, alpha=0.1)\n",
    "\n",
    "    if opt is not None:\n",
    "        opt.zero_grad()\n",
    "        loss_b.backward()\n",
    "        opt.step()\n",
    "\n",
    "    return loss_b.item()"
   ]
  },
  {
   "cell_type": "markdown",
   "id": "69f0e346-417b-4da5-85bb-98483d748a15",
   "metadata": {},
   "source": [
    "## Student Train / Validation"
   ]
  },
  {
   "cell_type": "code",
   "execution_count": 27,
   "id": "b49ed34e-af98-41c0-85cb-dc0d060906c8",
   "metadata": {},
   "outputs": [],
   "source": [
    "def student_train(s_model, t_model, optimizer, train_loader, val_loader, scheduler, device):\n",
    "    s_model.to(device)\n",
    "    t_model.to(device)\n",
    "    \n",
    "    best_score = 0\n",
    "    best_model = None\n",
    "\n",
    "    for epoch in range(CFG[\"EPOCHS\"]):\n",
    "        train_loss = []\n",
    "        s_model.train()\n",
    "        t_model.eval()\n",
    "        \n",
    "        for X_t, X_s, y in tqdm(train_loader):\n",
    "            X_t = X_t.float().to(device)\n",
    "            X_s = X_s.float().to(device)\n",
    "            y = y.float().to(device)\n",
    "            \n",
    "            optimizer.zero_grad()\n",
    "\n",
    "            output = s_model(X_s)\n",
    "            with torch.no_grad():\n",
    "                teacher_output = t_model(X_t)\n",
    "                \n",
    "            loss_b = distill_loss(output, y, teacher_output, loss_fn=distillation, opt=optimizer)\n",
    "\n",
    "            train_loss.append(loss_b)\n",
    "\n",
    "        val_loss, val_score = validation_student(s_model, t_model, val_loader, distill_loss, device)\n",
    "        print(f'Epoch [{epoch}], Train Loss : [{np.mean(train_loss) :.5f}] Val Loss : [{np.mean(val_loss) :.5f}] Val F1 Score : [{val_score:.5f}]')\n",
    "        \n",
    "        if scheduler is not None:\n",
    "            scheduler.step(val_score)\n",
    "            \n",
    "        if best_score < val_score:\n",
    "            best_model = s_model\n",
    "            best_score = val_score\n",
    "        \n",
    "    return best_model"
   ]
  },
  {
   "cell_type": "code",
   "execution_count": 28,
   "id": "caea268b-dfb6-42ef-bbb2-de9cab9728d6",
   "metadata": {},
   "outputs": [],
   "source": [
    "def validation_student(s_model, t_model, val_loader, criterion, device):\n",
    "    s_model.eval()\n",
    "    t_model.eval()\n",
    "\n",
    "    val_loss = []\n",
    "    pred_labels = []\n",
    "    true_labels = []\n",
    "    threshold = 0.35\n",
    "    \n",
    "    with torch.no_grad():\n",
    "        for X_t, X_s, y in tqdm(val_loader):\n",
    "            X_t = X_t.float().to(device)\n",
    "            X_s = X_s.float().to(device)\n",
    "            y = y.float().to(device)\n",
    "            \n",
    "            model_pred = s_model(X_s)\n",
    "            teacher_output = t_model(X_t)\n",
    "            \n",
    "            loss_b = distill_loss(model_pred, y, teacher_output, loss_fn=distillation, opt=None)\n",
    "            val_loss.append(loss_b)\n",
    "            \n",
    "            model_pred = model_pred.squeeze(1).to('cpu')\n",
    "            pred_labels += model_pred.tolist()\n",
    "            true_labels += y.tolist()\n",
    "        \n",
    "        pred_labels = np.where(np.array(pred_labels) > threshold, 1, 0)\n",
    "        val_f1 = competition_metric(true_labels, pred_labels)\n",
    "    return val_loss, val_f1    "
   ]
  },
  {
   "cell_type": "markdown",
   "id": "64b1abac-6d79-43c6-bb3c-9feb8b4cba3f",
   "metadata": {},
   "source": [
    "## Run (Student Model)"
   ]
  },
  {
   "cell_type": "code",
   "execution_count": 29,
   "id": "9a45b92e-9856-43a7-8ca6-4f0d33f3e983",
   "metadata": {},
   "outputs": [],
   "source": [
    "train_dataset = CustomDataset(train_X, train_y, True)\n",
    "val_dataset = CustomDataset(val_X, val_y, True)\n",
    "\n",
    "train_loader = DataLoader(train_dataset, batch_size = CFG['BATCH_SIZE'], shuffle=True)\n",
    "val_loader = DataLoader(val_dataset, batch_size = CFG['BATCH_SIZE'], shuffle=False)"
   ]
  },
  {
   "cell_type": "code",
   "execution_count": 30,
   "id": "d233e04a-21f8-466f-9612-0325f3d8a389",
   "metadata": {},
   "outputs": [
    {
     "data": {
      "application/vnd.jupyter.widget-view+json": {
       "model_id": "9112f2536bf443f19b4cf09cd24d2436",
       "version_major": 2,
       "version_minor": 0
      },
      "text/plain": [
       "  0%|          | 0/45 [00:00<?, ?it/s]"
      ]
     },
     "metadata": {},
     "output_type": "display_data"
    },
    {
     "data": {
      "application/vnd.jupyter.widget-view+json": {
       "model_id": "1050c2cee01b4353ac1f9223b1c3308b",
       "version_major": 2,
       "version_minor": 0
      },
      "text/plain": [
       "  0%|          | 0/12 [00:00<?, ?it/s]"
      ]
     },
     "metadata": {},
     "output_type": "display_data"
    },
    {
     "name": "stdout",
     "output_type": "stream",
     "text": [
      "Epoch [0], Train Loss : [0.34396] Val Loss : [0.30326] Val F1 Score : [0.48167]\n"
     ]
    },
    {
     "data": {
      "application/vnd.jupyter.widget-view+json": {
       "model_id": "4194632ca10f4aee9af48e911f90b554",
       "version_major": 2,
       "version_minor": 0
      },
      "text/plain": [
       "  0%|          | 0/45 [00:00<?, ?it/s]"
      ]
     },
     "metadata": {},
     "output_type": "display_data"
    },
    {
     "data": {
      "application/vnd.jupyter.widget-view+json": {
       "model_id": "a66ed2f27145421695c51beea9867ea5",
       "version_major": 2,
       "version_minor": 0
      },
      "text/plain": [
       "  0%|          | 0/12 [00:00<?, ?it/s]"
      ]
     },
     "metadata": {},
     "output_type": "display_data"
    },
    {
     "name": "stdout",
     "output_type": "stream",
     "text": [
      "Epoch [1], Train Loss : [0.30494] Val Loss : [0.29877] Val F1 Score : [0.50191]\n"
     ]
    },
    {
     "data": {
      "application/vnd.jupyter.widget-view+json": {
       "model_id": "5f70b4d0770f4366a1d8765b4d5e38b4",
       "version_major": 2,
       "version_minor": 0
      },
      "text/plain": [
       "  0%|          | 0/45 [00:00<?, ?it/s]"
      ]
     },
     "metadata": {},
     "output_type": "display_data"
    },
    {
     "data": {
      "application/vnd.jupyter.widget-view+json": {
       "model_id": "389c95e3ba974c90ada3cc20e1bc042e",
       "version_major": 2,
       "version_minor": 0
      },
      "text/plain": [
       "  0%|          | 0/12 [00:00<?, ?it/s]"
      ]
     },
     "metadata": {},
     "output_type": "display_data"
    },
    {
     "name": "stdout",
     "output_type": "stream",
     "text": [
      "Epoch [2], Train Loss : [0.30845] Val Loss : [0.30120] Val F1 Score : [0.49274]\n"
     ]
    },
    {
     "data": {
      "application/vnd.jupyter.widget-view+json": {
       "model_id": "23a04a1c1f434a7a9cdd6740c36bdcfc",
       "version_major": 2,
       "version_minor": 0
      },
      "text/plain": [
       "  0%|          | 0/45 [00:00<?, ?it/s]"
      ]
     },
     "metadata": {},
     "output_type": "display_data"
    },
    {
     "data": {
      "application/vnd.jupyter.widget-view+json": {
       "model_id": "afc8460c575d4e76b839ca096abc926a",
       "version_major": 2,
       "version_minor": 0
      },
      "text/plain": [
       "  0%|          | 0/12 [00:00<?, ?it/s]"
      ]
     },
     "metadata": {},
     "output_type": "display_data"
    },
    {
     "name": "stdout",
     "output_type": "stream",
     "text": [
      "Epoch [3], Train Loss : [0.30246] Val Loss : [0.29958] Val F1 Score : [0.50622]\n"
     ]
    },
    {
     "data": {
      "application/vnd.jupyter.widget-view+json": {
       "model_id": "021327d06cfb44c5a98f7fd1082bef3b",
       "version_major": 2,
       "version_minor": 0
      },
      "text/plain": [
       "  0%|          | 0/45 [00:00<?, ?it/s]"
      ]
     },
     "metadata": {},
     "output_type": "display_data"
    },
    {
     "data": {
      "application/vnd.jupyter.widget-view+json": {
       "model_id": "7338606bd37641d38ff10d7b7c9d4ae0",
       "version_major": 2,
       "version_minor": 0
      },
      "text/plain": [
       "  0%|          | 0/12 [00:00<?, ?it/s]"
      ]
     },
     "metadata": {},
     "output_type": "display_data"
    },
    {
     "name": "stdout",
     "output_type": "stream",
     "text": [
      "Epoch [4], Train Loss : [0.29963] Val Loss : [0.31543] Val F1 Score : [0.50418]\n"
     ]
    },
    {
     "data": {
      "application/vnd.jupyter.widget-view+json": {
       "model_id": "ed2d77802823436e972fac5cf99a4a78",
       "version_major": 2,
       "version_minor": 0
      },
      "text/plain": [
       "  0%|          | 0/45 [00:00<?, ?it/s]"
      ]
     },
     "metadata": {},
     "output_type": "display_data"
    },
    {
     "data": {
      "application/vnd.jupyter.widget-view+json": {
       "model_id": "0200f970aaed494aa937caba86f075be",
       "version_major": 2,
       "version_minor": 0
      },
      "text/plain": [
       "  0%|          | 0/12 [00:00<?, ?it/s]"
      ]
     },
     "metadata": {},
     "output_type": "display_data"
    },
    {
     "name": "stdout",
     "output_type": "stream",
     "text": [
      "Epoch [5], Train Loss : [0.30122] Val Loss : [0.30582] Val F1 Score : [0.50170]\n",
      "Epoch     6: reducing learning rate of group 0 to 5.0000e-03.\n"
     ]
    },
    {
     "data": {
      "application/vnd.jupyter.widget-view+json": {
       "model_id": "a89ce9d96d1e4674a7ce8a29edcd1a3d",
       "version_major": 2,
       "version_minor": 0
      },
      "text/plain": [
       "  0%|          | 0/45 [00:00<?, ?it/s]"
      ]
     },
     "metadata": {},
     "output_type": "display_data"
    },
    {
     "data": {
      "application/vnd.jupyter.widget-view+json": {
       "model_id": "356ddb3c1f614f29a674effb6e25a42c",
       "version_major": 2,
       "version_minor": 0
      },
      "text/plain": [
       "  0%|          | 0/12 [00:00<?, ?it/s]"
      ]
     },
     "metadata": {},
     "output_type": "display_data"
    },
    {
     "name": "stdout",
     "output_type": "stream",
     "text": [
      "Epoch [6], Train Loss : [0.29673] Val Loss : [0.29634] Val F1 Score : [0.50920]\n"
     ]
    },
    {
     "data": {
      "application/vnd.jupyter.widget-view+json": {
       "model_id": "0dcebe7eb2b146448408160ed6f1671d",
       "version_major": 2,
       "version_minor": 0
      },
      "text/plain": [
       "  0%|          | 0/45 [00:00<?, ?it/s]"
      ]
     },
     "metadata": {},
     "output_type": "display_data"
    },
    {
     "data": {
      "application/vnd.jupyter.widget-view+json": {
       "model_id": "7dbf0978311e45f8980a646940abfcf4",
       "version_major": 2,
       "version_minor": 0
      },
      "text/plain": [
       "  0%|          | 0/12 [00:00<?, ?it/s]"
      ]
     },
     "metadata": {},
     "output_type": "display_data"
    },
    {
     "name": "stdout",
     "output_type": "stream",
     "text": [
      "Epoch [7], Train Loss : [0.29644] Val Loss : [0.29738] Val F1 Score : [0.50702]\n"
     ]
    },
    {
     "data": {
      "application/vnd.jupyter.widget-view+json": {
       "model_id": "d09d39d574514a6aaffbb897a7e269f9",
       "version_major": 2,
       "version_minor": 0
      },
      "text/plain": [
       "  0%|          | 0/45 [00:00<?, ?it/s]"
      ]
     },
     "metadata": {},
     "output_type": "display_data"
    },
    {
     "data": {
      "application/vnd.jupyter.widget-view+json": {
       "model_id": "7f0c906333e74ab9bb5ff82cd3857e18",
       "version_major": 2,
       "version_minor": 0
      },
      "text/plain": [
       "  0%|          | 0/12 [00:00<?, ?it/s]"
      ]
     },
     "metadata": {},
     "output_type": "display_data"
    },
    {
     "name": "stdout",
     "output_type": "stream",
     "text": [
      "Epoch [8], Train Loss : [0.29454] Val Loss : [0.29677] Val F1 Score : [0.51213]\n"
     ]
    },
    {
     "data": {
      "application/vnd.jupyter.widget-view+json": {
       "model_id": "286a222fd9f24fbd92b0c9a8464bbf49",
       "version_major": 2,
       "version_minor": 0
      },
      "text/plain": [
       "  0%|          | 0/45 [00:00<?, ?it/s]"
      ]
     },
     "metadata": {},
     "output_type": "display_data"
    },
    {
     "data": {
      "application/vnd.jupyter.widget-view+json": {
       "model_id": "7e3bc57176194cabb3f388868fa23395",
       "version_major": 2,
       "version_minor": 0
      },
      "text/plain": [
       "  0%|          | 0/12 [00:00<?, ?it/s]"
      ]
     },
     "metadata": {},
     "output_type": "display_data"
    },
    {
     "name": "stdout",
     "output_type": "stream",
     "text": [
      "Epoch [9], Train Loss : [0.29759] Val Loss : [0.29797] Val F1 Score : [0.51282]\n"
     ]
    },
    {
     "data": {
      "application/vnd.jupyter.widget-view+json": {
       "model_id": "d31ea307a6024c84a4894e60d3c99572",
       "version_major": 2,
       "version_minor": 0
      },
      "text/plain": [
       "  0%|          | 0/45 [00:00<?, ?it/s]"
      ]
     },
     "metadata": {},
     "output_type": "display_data"
    },
    {
     "data": {
      "application/vnd.jupyter.widget-view+json": {
       "model_id": "4de9f139acd644c281c6b752596b7e4a",
       "version_major": 2,
       "version_minor": 0
      },
      "text/plain": [
       "  0%|          | 0/12 [00:00<?, ?it/s]"
      ]
     },
     "metadata": {},
     "output_type": "display_data"
    },
    {
     "name": "stdout",
     "output_type": "stream",
     "text": [
      "Epoch [10], Train Loss : [0.29705] Val Loss : [0.30061] Val F1 Score : [0.51403]\n"
     ]
    },
    {
     "data": {
      "application/vnd.jupyter.widget-view+json": {
       "model_id": "4a12ac418bf8438389cfbaa2097fea3e",
       "version_major": 2,
       "version_minor": 0
      },
      "text/plain": [
       "  0%|          | 0/45 [00:00<?, ?it/s]"
      ]
     },
     "metadata": {},
     "output_type": "display_data"
    },
    {
     "data": {
      "application/vnd.jupyter.widget-view+json": {
       "model_id": "a141fbda90984c0a8054f181bca45442",
       "version_major": 2,
       "version_minor": 0
      },
      "text/plain": [
       "  0%|          | 0/12 [00:00<?, ?it/s]"
      ]
     },
     "metadata": {},
     "output_type": "display_data"
    },
    {
     "name": "stdout",
     "output_type": "stream",
     "text": [
      "Epoch [11], Train Loss : [0.29897] Val Loss : [0.29913] Val F1 Score : [0.51532]\n"
     ]
    },
    {
     "data": {
      "application/vnd.jupyter.widget-view+json": {
       "model_id": "6c4ef3a2debd456aabfe760bb278cb1c",
       "version_major": 2,
       "version_minor": 0
      },
      "text/plain": [
       "  0%|          | 0/45 [00:00<?, ?it/s]"
      ]
     },
     "metadata": {},
     "output_type": "display_data"
    },
    {
     "data": {
      "application/vnd.jupyter.widget-view+json": {
       "model_id": "8ff0f1a661b54ea2a5a65b8bc1ae2ce9",
       "version_major": 2,
       "version_minor": 0
      },
      "text/plain": [
       "  0%|          | 0/12 [00:00<?, ?it/s]"
      ]
     },
     "metadata": {},
     "output_type": "display_data"
    },
    {
     "name": "stdout",
     "output_type": "stream",
     "text": [
      "Epoch [12], Train Loss : [0.29362] Val Loss : [0.29567] Val F1 Score : [0.51030]\n"
     ]
    },
    {
     "data": {
      "application/vnd.jupyter.widget-view+json": {
       "model_id": "25e3ce67f5a842e782439f4f94fc7dd6",
       "version_major": 2,
       "version_minor": 0
      },
      "text/plain": [
       "  0%|          | 0/45 [00:00<?, ?it/s]"
      ]
     },
     "metadata": {},
     "output_type": "display_data"
    },
    {
     "data": {
      "application/vnd.jupyter.widget-view+json": {
       "model_id": "d80f1627098547ec918556135edebde2",
       "version_major": 2,
       "version_minor": 0
      },
      "text/plain": [
       "  0%|          | 0/12 [00:00<?, ?it/s]"
      ]
     },
     "metadata": {},
     "output_type": "display_data"
    },
    {
     "name": "stdout",
     "output_type": "stream",
     "text": [
      "Epoch [13], Train Loss : [0.29345] Val Loss : [0.29753] Val F1 Score : [0.50681]\n",
      "Epoch    14: reducing learning rate of group 0 to 2.5000e-03.\n"
     ]
    },
    {
     "data": {
      "application/vnd.jupyter.widget-view+json": {
       "model_id": "60eb8a174eac435db455e9c993ab765f",
       "version_major": 2,
       "version_minor": 0
      },
      "text/plain": [
       "  0%|          | 0/45 [00:00<?, ?it/s]"
      ]
     },
     "metadata": {},
     "output_type": "display_data"
    },
    {
     "data": {
      "application/vnd.jupyter.widget-view+json": {
       "model_id": "caa6af50a3524eac8ab151c8eb51ae5a",
       "version_major": 2,
       "version_minor": 0
      },
      "text/plain": [
       "  0%|          | 0/12 [00:00<?, ?it/s]"
      ]
     },
     "metadata": {},
     "output_type": "display_data"
    },
    {
     "name": "stdout",
     "output_type": "stream",
     "text": [
      "Epoch [14], Train Loss : [0.28730] Val Loss : [0.29698] Val F1 Score : [0.52194]\n"
     ]
    },
    {
     "data": {
      "application/vnd.jupyter.widget-view+json": {
       "model_id": "c545aad3d5aa4825b9a7494669fe4f86",
       "version_major": 2,
       "version_minor": 0
      },
      "text/plain": [
       "  0%|          | 0/45 [00:00<?, ?it/s]"
      ]
     },
     "metadata": {},
     "output_type": "display_data"
    },
    {
     "data": {
      "application/vnd.jupyter.widget-view+json": {
       "model_id": "7f7dcf6dc7284c63801545c4e3664a9f",
       "version_major": 2,
       "version_minor": 0
      },
      "text/plain": [
       "  0%|          | 0/12 [00:00<?, ?it/s]"
      ]
     },
     "metadata": {},
     "output_type": "display_data"
    },
    {
     "name": "stdout",
     "output_type": "stream",
     "text": [
      "Epoch [15], Train Loss : [0.29538] Val Loss : [0.29760] Val F1 Score : [0.51822]\n"
     ]
    },
    {
     "data": {
      "application/vnd.jupyter.widget-view+json": {
       "model_id": "7a4227734a57477e95da9a52d87ae262",
       "version_major": 2,
       "version_minor": 0
      },
      "text/plain": [
       "  0%|          | 0/45 [00:00<?, ?it/s]"
      ]
     },
     "metadata": {},
     "output_type": "display_data"
    },
    {
     "data": {
      "application/vnd.jupyter.widget-view+json": {
       "model_id": "253655ad27bc47f3a62d64741bf97c8c",
       "version_major": 2,
       "version_minor": 0
      },
      "text/plain": [
       "  0%|          | 0/12 [00:00<?, ?it/s]"
      ]
     },
     "metadata": {},
     "output_type": "display_data"
    },
    {
     "name": "stdout",
     "output_type": "stream",
     "text": [
      "Epoch [16], Train Loss : [0.29465] Val Loss : [0.29986] Val F1 Score : [0.52366]\n"
     ]
    },
    {
     "data": {
      "application/vnd.jupyter.widget-view+json": {
       "model_id": "98a90f0dd5c1465cab9fcde2080196a3",
       "version_major": 2,
       "version_minor": 0
      },
      "text/plain": [
       "  0%|          | 0/45 [00:00<?, ?it/s]"
      ]
     },
     "metadata": {},
     "output_type": "display_data"
    },
    {
     "data": {
      "application/vnd.jupyter.widget-view+json": {
       "model_id": "7d42453373a34715aaafa8ea8d7ec814",
       "version_major": 2,
       "version_minor": 0
      },
      "text/plain": [
       "  0%|          | 0/12 [00:00<?, ?it/s]"
      ]
     },
     "metadata": {},
     "output_type": "display_data"
    },
    {
     "name": "stdout",
     "output_type": "stream",
     "text": [
      "Epoch [17], Train Loss : [0.29259] Val Loss : [0.30067] Val F1 Score : [0.52237]\n"
     ]
    },
    {
     "data": {
      "application/vnd.jupyter.widget-view+json": {
       "model_id": "5d1ffbf7f04a46bd8e4528876c5af003",
       "version_major": 2,
       "version_minor": 0
      },
      "text/plain": [
       "  0%|          | 0/45 [00:00<?, ?it/s]"
      ]
     },
     "metadata": {},
     "output_type": "display_data"
    },
    {
     "data": {
      "application/vnd.jupyter.widget-view+json": {
       "model_id": "4c74a69d86a44dc0aa78148b03dde544",
       "version_major": 2,
       "version_minor": 0
      },
      "text/plain": [
       "  0%|          | 0/12 [00:00<?, ?it/s]"
      ]
     },
     "metadata": {},
     "output_type": "display_data"
    },
    {
     "name": "stdout",
     "output_type": "stream",
     "text": [
      "Epoch [18], Train Loss : [0.28678] Val Loss : [0.29751] Val F1 Score : [0.51797]\n",
      "Epoch    19: reducing learning rate of group 0 to 1.2500e-03.\n"
     ]
    },
    {
     "data": {
      "application/vnd.jupyter.widget-view+json": {
       "model_id": "72ee9b8982834e87a5e34c41ebb9826e",
       "version_major": 2,
       "version_minor": 0
      },
      "text/plain": [
       "  0%|          | 0/45 [00:00<?, ?it/s]"
      ]
     },
     "metadata": {},
     "output_type": "display_data"
    },
    {
     "data": {
      "application/vnd.jupyter.widget-view+json": {
       "model_id": "809b2b5702b7487197255fb7ac99e2f8",
       "version_major": 2,
       "version_minor": 0
      },
      "text/plain": [
       "  0%|          | 0/12 [00:00<?, ?it/s]"
      ]
     },
     "metadata": {},
     "output_type": "display_data"
    },
    {
     "name": "stdout",
     "output_type": "stream",
     "text": [
      "Epoch [19], Train Loss : [0.29417] Val Loss : [0.29723] Val F1 Score : [0.51699]\n"
     ]
    },
    {
     "data": {
      "application/vnd.jupyter.widget-view+json": {
       "model_id": "fa75329604dc4ae2b51f9a866a8a8e1e",
       "version_major": 2,
       "version_minor": 0
      },
      "text/plain": [
       "  0%|          | 0/45 [00:00<?, ?it/s]"
      ]
     },
     "metadata": {},
     "output_type": "display_data"
    },
    {
     "data": {
      "application/vnd.jupyter.widget-view+json": {
       "model_id": "4ca7050005ee4692a5e62845d43fb57c",
       "version_major": 2,
       "version_minor": 0
      },
      "text/plain": [
       "  0%|          | 0/12 [00:00<?, ?it/s]"
      ]
     },
     "metadata": {},
     "output_type": "display_data"
    },
    {
     "name": "stdout",
     "output_type": "stream",
     "text": [
      "Epoch [20], Train Loss : [0.29452] Val Loss : [0.29661] Val F1 Score : [0.52091]\n",
      "Epoch    21: reducing learning rate of group 0 to 6.2500e-04.\n"
     ]
    },
    {
     "data": {
      "application/vnd.jupyter.widget-view+json": {
       "model_id": "f9df8a79936141d388374c600a3d907e",
       "version_major": 2,
       "version_minor": 0
      },
      "text/plain": [
       "  0%|          | 0/45 [00:00<?, ?it/s]"
      ]
     },
     "metadata": {},
     "output_type": "display_data"
    },
    {
     "data": {
      "application/vnd.jupyter.widget-view+json": {
       "model_id": "0c738fd7cfc04becafccaa4017907f68",
       "version_major": 2,
       "version_minor": 0
      },
      "text/plain": [
       "  0%|          | 0/12 [00:00<?, ?it/s]"
      ]
     },
     "metadata": {},
     "output_type": "display_data"
    },
    {
     "name": "stdout",
     "output_type": "stream",
     "text": [
      "Epoch [21], Train Loss : [0.29108] Val Loss : [0.29639] Val F1 Score : [0.51450]\n"
     ]
    },
    {
     "data": {
      "application/vnd.jupyter.widget-view+json": {
       "model_id": "d87869beb36a4de19b3363475106d3b0",
       "version_major": 2,
       "version_minor": 0
      },
      "text/plain": [
       "  0%|          | 0/45 [00:00<?, ?it/s]"
      ]
     },
     "metadata": {},
     "output_type": "display_data"
    },
    {
     "data": {
      "application/vnd.jupyter.widget-view+json": {
       "model_id": "ce93a7cace2e4dff9585349cc3ef27f8",
       "version_major": 2,
       "version_minor": 0
      },
      "text/plain": [
       "  0%|          | 0/12 [00:00<?, ?it/s]"
      ]
     },
     "metadata": {},
     "output_type": "display_data"
    },
    {
     "name": "stdout",
     "output_type": "stream",
     "text": [
      "Epoch [22], Train Loss : [0.28832] Val Loss : [0.29799] Val F1 Score : [0.52116]\n",
      "Epoch    23: reducing learning rate of group 0 to 3.1250e-04.\n"
     ]
    },
    {
     "data": {
      "application/vnd.jupyter.widget-view+json": {
       "model_id": "8edf63b6935444a5ab2c118d671e5054",
       "version_major": 2,
       "version_minor": 0
      },
      "text/plain": [
       "  0%|          | 0/45 [00:00<?, ?it/s]"
      ]
     },
     "metadata": {},
     "output_type": "display_data"
    },
    {
     "data": {
      "application/vnd.jupyter.widget-view+json": {
       "model_id": "b131552b1320470899edaca87bf6711e",
       "version_major": 2,
       "version_minor": 0
      },
      "text/plain": [
       "  0%|          | 0/12 [00:00<?, ?it/s]"
      ]
     },
     "metadata": {},
     "output_type": "display_data"
    },
    {
     "name": "stdout",
     "output_type": "stream",
     "text": [
      "Epoch [23], Train Loss : [0.28465] Val Loss : [0.29904] Val F1 Score : [0.53089]\n"
     ]
    },
    {
     "data": {
      "application/vnd.jupyter.widget-view+json": {
       "model_id": "11d0a471ce0549f9bdf372d588045b2a",
       "version_major": 2,
       "version_minor": 0
      },
      "text/plain": [
       "  0%|          | 0/45 [00:00<?, ?it/s]"
      ]
     },
     "metadata": {},
     "output_type": "display_data"
    },
    {
     "data": {
      "application/vnd.jupyter.widget-view+json": {
       "model_id": "e45648a356de4ed4ba45a580a28b46db",
       "version_major": 2,
       "version_minor": 0
      },
      "text/plain": [
       "  0%|          | 0/12 [00:00<?, ?it/s]"
      ]
     },
     "metadata": {},
     "output_type": "display_data"
    },
    {
     "name": "stdout",
     "output_type": "stream",
     "text": [
      "Epoch [24], Train Loss : [0.28668] Val Loss : [0.29990] Val F1 Score : [0.52605]\n"
     ]
    },
    {
     "data": {
      "application/vnd.jupyter.widget-view+json": {
       "model_id": "9391caf4aa494235855bd699a36bfeb5",
       "version_major": 2,
       "version_minor": 0
      },
      "text/plain": [
       "  0%|          | 0/45 [00:00<?, ?it/s]"
      ]
     },
     "metadata": {},
     "output_type": "display_data"
    },
    {
     "data": {
      "application/vnd.jupyter.widget-view+json": {
       "model_id": "b16969871b5b4e54b930bac0513142f8",
       "version_major": 2,
       "version_minor": 0
      },
      "text/plain": [
       "  0%|          | 0/12 [00:00<?, ?it/s]"
      ]
     },
     "metadata": {},
     "output_type": "display_data"
    },
    {
     "name": "stdout",
     "output_type": "stream",
     "text": [
      "Epoch [25], Train Loss : [0.28259] Val Loss : [0.29706] Val F1 Score : [0.52551]\n",
      "Epoch    26: reducing learning rate of group 0 to 1.5625e-04.\n"
     ]
    },
    {
     "data": {
      "application/vnd.jupyter.widget-view+json": {
       "model_id": "7a2b769245c84a69a0be1e093b2d9347",
       "version_major": 2,
       "version_minor": 0
      },
      "text/plain": [
       "  0%|          | 0/45 [00:00<?, ?it/s]"
      ]
     },
     "metadata": {},
     "output_type": "display_data"
    },
    {
     "data": {
      "application/vnd.jupyter.widget-view+json": {
       "model_id": "af90c20ac3704cbfba9a55be1c20205d",
       "version_major": 2,
       "version_minor": 0
      },
      "text/plain": [
       "  0%|          | 0/12 [00:00<?, ?it/s]"
      ]
     },
     "metadata": {},
     "output_type": "display_data"
    },
    {
     "name": "stdout",
     "output_type": "stream",
     "text": [
      "Epoch [26], Train Loss : [0.28285] Val Loss : [0.29750] Val F1 Score : [0.52378]\n"
     ]
    },
    {
     "data": {
      "application/vnd.jupyter.widget-view+json": {
       "model_id": "10b472f8309f4fd881aa833c8aa0485e",
       "version_major": 2,
       "version_minor": 0
      },
      "text/plain": [
       "  0%|          | 0/45 [00:00<?, ?it/s]"
      ]
     },
     "metadata": {},
     "output_type": "display_data"
    },
    {
     "data": {
      "application/vnd.jupyter.widget-view+json": {
       "model_id": "19885e3aeea94f47b5763327fb4ae550",
       "version_major": 2,
       "version_minor": 0
      },
      "text/plain": [
       "  0%|          | 0/12 [00:00<?, ?it/s]"
      ]
     },
     "metadata": {},
     "output_type": "display_data"
    },
    {
     "name": "stdout",
     "output_type": "stream",
     "text": [
      "Epoch [27], Train Loss : [0.28893] Val Loss : [0.29791] Val F1 Score : [0.52262]\n",
      "Epoch    28: reducing learning rate of group 0 to 7.8125e-05.\n"
     ]
    },
    {
     "data": {
      "application/vnd.jupyter.widget-view+json": {
       "model_id": "b02ab3969dfa45908d013ce4a04afebe",
       "version_major": 2,
       "version_minor": 0
      },
      "text/plain": [
       "  0%|          | 0/45 [00:00<?, ?it/s]"
      ]
     },
     "metadata": {},
     "output_type": "display_data"
    },
    {
     "data": {
      "application/vnd.jupyter.widget-view+json": {
       "model_id": "60ee014118754aeea98628f5522e518d",
       "version_major": 2,
       "version_minor": 0
      },
      "text/plain": [
       "  0%|          | 0/12 [00:00<?, ?it/s]"
      ]
     },
     "metadata": {},
     "output_type": "display_data"
    },
    {
     "name": "stdout",
     "output_type": "stream",
     "text": [
      "Epoch [28], Train Loss : [0.28077] Val Loss : [0.29805] Val F1 Score : [0.52686]\n"
     ]
    },
    {
     "data": {
      "application/vnd.jupyter.widget-view+json": {
       "model_id": "122c45c229394e5b8b91328dd8466744",
       "version_major": 2,
       "version_minor": 0
      },
      "text/plain": [
       "  0%|          | 0/45 [00:00<?, ?it/s]"
      ]
     },
     "metadata": {},
     "output_type": "display_data"
    },
    {
     "data": {
      "application/vnd.jupyter.widget-view+json": {
       "model_id": "369b7a9c35fd408385221418babd0c69",
       "version_major": 2,
       "version_minor": 0
      },
      "text/plain": [
       "  0%|          | 0/12 [00:00<?, ?it/s]"
      ]
     },
     "metadata": {},
     "output_type": "display_data"
    },
    {
     "name": "stdout",
     "output_type": "stream",
     "text": [
      "Epoch [29], Train Loss : [0.28375] Val Loss : [0.29785] Val F1 Score : [0.52299]\n",
      "Epoch    30: reducing learning rate of group 0 to 3.9063e-05.\n"
     ]
    }
   ],
   "source": [
    "student_model = Student()\n",
    "student_model.eval()\n",
    "optimizer = torch.optim.Adam(student_model.parameters(), lr=CFG['LEARNING_RATE'])\n",
    "scheduler = torch.optim.lr_scheduler.ReduceLROnPlateau(optimizer, mode='max', factor=0.5, patience=1, threshold_mode='abs',min_lr=1e-8, verbose=True)\n",
    "\n",
    "best_student_model = student_train(student_model, teacher_model, optimizer, train_loader, val_loader, scheduler, device)"
   ]
  },
  {
   "cell_type": "markdown",
   "id": "e4a61b63-84ce-4d0f-9124-754285007e2f",
   "metadata": {},
   "source": [
    "## Choose Inference Threshold"
   ]
  },
  {
   "cell_type": "code",
   "execution_count": 50,
   "id": "4e9513c8-526f-41ff-ac30-e3de5b19e9dc",
   "metadata": {},
   "outputs": [],
   "source": [
    "def choose_threshold(model, val_loader, device):\n",
    "    model.to(device)\n",
    "    model.eval()\n",
    "    \n",
    "    thresholds = [0.1, 0.2, 0.25, 0.3, 0.35, 0.4, 0.45, 0.5]\n",
    "    pred_labels = []\n",
    "    true_labels = []\n",
    "    \n",
    "    best_score = 0\n",
    "    best_thr = None\n",
    "    with torch.no_grad():\n",
    "        for _, x_s, y in tqdm(iter(val_loader)):\n",
    "            x_s = x_s.float().to(device)\n",
    "            y = y.float().to(device)\n",
    "            \n",
    "            model_pred = model(x_s)\n",
    "            \n",
    "            model_pred = model_pred.squeeze(1).to('cpu')\n",
    "            pred_labels += model_pred.tolist()\n",
    "            true_labels += y.tolist()\n",
    "        \n",
    "        for threshold in thresholds:\n",
    "            pred_labels_thr = np.where(np.array(pred_labels) > threshold, 1, 0)\n",
    "            score_thr = competition_metric(true_labels, pred_labels_thr)\n",
    "            if best_score < score_thr:\n",
    "                best_score = score_thr\n",
    "                best_thr = threshold\n",
    "    return best_thr, best_score"
   ]
  },
  {
   "cell_type": "code",
   "execution_count": 51,
   "id": "58d2a34a-5a0b-4be9-ac7e-3efc6e75cd86",
   "metadata": {},
   "outputs": [
    {
     "data": {
      "application/vnd.jupyter.widget-view+json": {
       "model_id": "b6d493730913487ea3e4b4544e599ce8",
       "version_major": 2,
       "version_minor": 0
      },
      "text/plain": [
       "  0%|          | 0/12 [00:00<?, ?it/s]"
      ]
     },
     "metadata": {},
     "output_type": "display_data"
    },
    {
     "name": "stdout",
     "output_type": "stream",
     "text": [
      "Best Threshold : [0.2], Score : [0.54860]\n"
     ]
    }
   ],
   "source": [
    "best_threshold, best_score = choose_threshold(best_student_model, val_loader, device)\n",
    "print(f'Best Threshold : [{best_threshold}], Score : [{best_score:.5f}]')"
   ]
  },
  {
   "cell_type": "markdown",
   "id": "8d9c2c56-974b-4a1f-80bf-f3379c4fcb17",
   "metadata": {},
   "source": [
    "## Inference"
   ]
  },
  {
   "cell_type": "code",
   "execution_count": 52,
   "id": "b0b08e2f-e48b-4271-acfa-7c34fad088a1",
   "metadata": {},
   "outputs": [],
   "source": [
    "test_datasets = CustomDataset(test, None, False)\n",
    "test_loaders = DataLoader(test_datasets, batch_size = CFG['BATCH_SIZE'], shuffle=False)"
   ]
  },
  {
   "cell_type": "code",
   "execution_count": 53,
   "id": "d775636a-59f6-474f-9fe4-b9b1f3861022",
   "metadata": {},
   "outputs": [],
   "source": [
    "def inference(model, test_loader, threshold, device):\n",
    "    model.to(device)\n",
    "    model.eval()\n",
    "    \n",
    "    test_predict = []\n",
    "    with torch.no_grad():\n",
    "        for x in tqdm(test_loader):\n",
    "            x = x.float().to(device)\n",
    "            model_pred = model(x)\n",
    "\n",
    "            model_pred = model_pred.squeeze(1).to('cpu')\n",
    "            test_predict += model_pred\n",
    "        \n",
    "    test_predict = np.where(np.array(test_predict) > threshold, 1, 0)\n",
    "    print('Done.')\n",
    "    return test_predict"
   ]
  },
  {
   "cell_type": "code",
   "execution_count": 54,
   "id": "909025ec-6efe-43b7-9711-7f6c58c96e30",
   "metadata": {},
   "outputs": [
    {
     "data": {
      "application/vnd.jupyter.widget-view+json": {
       "model_id": "3aa1bc215bba43bca98f0f6630c74de8",
       "version_major": 2,
       "version_minor": 0
      },
      "text/plain": [
       "  0%|          | 0/24 [00:00<?, ?it/s]"
      ]
     },
     "metadata": {},
     "output_type": "display_data"
    },
    {
     "name": "stdout",
     "output_type": "stream",
     "text": [
      "Done.\n"
     ]
    }
   ],
   "source": [
    "preds = inference(best_student_model, test_loaders, best_threshold, device)"
   ]
  },
  {
   "cell_type": "markdown",
   "id": "47fa9c0d-a6b9-4963-8375-f427b7706494",
   "metadata": {},
   "source": [
    "## Submit"
   ]
  },
  {
   "cell_type": "code",
   "execution_count": 55,
   "id": "4f3cfa06-a55c-4395-8327-acd9e23de7b1",
   "metadata": {},
   "outputs": [
    {
     "data": {
      "text/html": [
       "<div>\n",
       "<style scoped>\n",
       "    .dataframe tbody tr th:only-of-type {\n",
       "        vertical-align: middle;\n",
       "    }\n",
       "\n",
       "    .dataframe tbody tr th {\n",
       "        vertical-align: top;\n",
       "    }\n",
       "\n",
       "    .dataframe thead th {\n",
       "        text-align: right;\n",
       "    }\n",
       "</style>\n",
       "<table border=\"1\" class=\"dataframe\">\n",
       "  <thead>\n",
       "    <tr style=\"text-align: right;\">\n",
       "      <th></th>\n",
       "      <th>ID</th>\n",
       "      <th>Y_LABEL</th>\n",
       "    </tr>\n",
       "  </thead>\n",
       "  <tbody>\n",
       "    <tr>\n",
       "      <th>0</th>\n",
       "      <td>TEST_0000</td>\n",
       "      <td>0</td>\n",
       "    </tr>\n",
       "    <tr>\n",
       "      <th>1</th>\n",
       "      <td>TEST_0001</td>\n",
       "      <td>0</td>\n",
       "    </tr>\n",
       "    <tr>\n",
       "      <th>2</th>\n",
       "      <td>TEST_0002</td>\n",
       "      <td>0</td>\n",
       "    </tr>\n",
       "    <tr>\n",
       "      <th>3</th>\n",
       "      <td>TEST_0003</td>\n",
       "      <td>0</td>\n",
       "    </tr>\n",
       "    <tr>\n",
       "      <th>4</th>\n",
       "      <td>TEST_0004</td>\n",
       "      <td>1</td>\n",
       "    </tr>\n",
       "  </tbody>\n",
       "</table>\n",
       "</div>"
      ],
      "text/plain": [
       "          ID  Y_LABEL\n",
       "0  TEST_0000        0\n",
       "1  TEST_0001        0\n",
       "2  TEST_0002        0\n",
       "3  TEST_0003        0\n",
       "4  TEST_0004        1"
      ]
     },
     "execution_count": 55,
     "metadata": {},
     "output_type": "execute_result"
    }
   ],
   "source": [
    "submit = pd.read_csv('./sample_submission.csv')\n",
    "submit['Y_LABEL'] = preds\n",
    "submit.head()"
   ]
  },
  {
   "cell_type": "code",
   "execution_count": 56,
   "id": "b4a332e1-8834-4d70-9630-c67f95446c56",
   "metadata": {},
   "outputs": [],
   "source": [
    "submit.to_csv('./submit.csv', index=False)"
   ]
  }
 ],
 "metadata": {
  "kernelspec": {
   "display_name": "torch-gpu",
   "language": "python",
   "name": "torch"
  },
  "language_info": {
   "codemirror_mode": {
    "name": "ipython",
    "version": 3
   },
   "file_extension": ".py",
   "mimetype": "text/x-python",
   "name": "python",
   "nbconvert_exporter": "python",
   "pygments_lexer": "ipython3",
   "version": "3.10.6"
  }
 },
 "nbformat": 4,
 "nbformat_minor": 5
}
