{
 "cells": [
  {
   "cell_type": "code",
   "execution_count": 1,
   "id": "32c4ea0f",
   "metadata": {},
   "outputs": [],
   "source": [
    "import os, re, magic, shutil\n",
    "from glob import glob\n",
    "import time, datetime\n",
    "import random\n",
    "import pandas as pd\n",
    "import numpy as np\n",
    "from tqdm import tqdm\n",
    "import warnings\n",
    "import joblib\n",
    "import datetime as dt\n",
    "\n",
    "import cv2\n",
    "from PIL import Image\n",
    "import matplotlib.pyplot as plt\n",
    "import torch, gc\n",
    "from torch import nn\n",
    "from torch.utils.data import Dataset,DataLoader\n",
    "import torch.nn.functional as F\n",
    "import torchvision\n",
    "import torchvision.models as models\n",
    "\n",
    "#from skimage import io\n",
    "import sklearn\n",
    "from sklearn.model_selection import GroupKFold, StratifiedKFold\n",
    "from sklearn.metrics import roc_auc_score, log_loss, f1_score, confusion_matrix, classification_report\n",
    "from sklearn import metrics, preprocessing\n",
    "from scipy.ndimage import zoom\n",
    "import timm\n",
    "from timm.data import resolve_data_config\n",
    "from timm.data.transforms_factory import create_transform\n",
    "import albumentations as A\n",
    "import albumentations.pytorch\n",
    "import wandb"
   ]
  },
  {
   "cell_type": "markdown",
   "id": "a29d0796-1f1d-40df-ad4a-21f57ed7fe35",
   "metadata": {},
   "source": [
    "#### Hyper Param Setting"
   ]
  },
  {
   "cell_type": "code",
   "execution_count": 2,
   "id": "57c0283c",
   "metadata": {},
   "outputs": [],
   "source": [
    "CFG = {\n",
    "    'fold_num': 5,\n",
    "    'seed': 42,\n",
    "    'model': 'resnet152',\n",
    "    'img_size': 260,\n",
    "    'epochs': 200,\n",
    "    'train_bs':64,\n",
    "    'valid_bs':64,\n",
    "    'lr': 1e-4, ## learning rate\n",
    "    'num_workers': 8,\n",
    "    'verbose_step': 1,\n",
    "    'patience' : 5,\n",
    "    'label_encoder':False,\n",
    "    'device': 'cuda:0',\n",
    "    'freezing': False,\n",
    "    'trainable_layer': 12,\n",
    "    'model_path': './models'\n",
    "}"
   ]
  },
  {
   "cell_type": "markdown",
   "id": "7066a8a1-7060-4b6d-bf0c-d4164820a414",
   "metadata": {},
   "source": [
    "#### wandb init"
   ]
  },
  {
   "cell_type": "code",
   "execution_count": 3,
   "id": "127461e4-c16d-47fd-b983-556c12ad0daf",
   "metadata": {},
   "outputs": [],
   "source": [
    "category = 'box'\n",
    "time_now = dt.datetime.now()\n",
    "run_id = time_now.strftime(\"%Y%m%d%H%M\")\n",
    "project_name = 'KD_'+ CFG['model'] + '_' + category\n",
    "user = 'hojunking'\n",
    "run_name = project_name + '_' + run_id"
   ]
  },
  {
   "cell_type": "code",
   "execution_count": 4,
   "id": "5b6c4553-4301-4ba8-801e-e7130ac0b3cf",
   "metadata": {},
   "outputs": [
    {
     "name": "stdout",
     "output_type": "stream",
     "text": [
      "label: box 3919\n",
      "label: untapedBox 1987\n",
      "Train_Images:  5906\n",
      "Train_Images_labels: 5906\n"
     ]
    }
   ],
   "source": [
    "# TRAIN DATASET DATAFRAME\n",
    "train_path = '../Data/carbon_reduction_data/bin/train/'\n",
    "label_list = [\"box\",\"untapedBox\"]\n",
    "\n",
    "train_img_paths = []\n",
    "train_img_labels = []\n",
    "\n",
    "for label in label_list: ## 각 레이블 돌기\n",
    "    print(f'label: {label}',end=' ')\n",
    "    img_paths = [] \n",
    "    img_labels = []\n",
    "\n",
    "    dir_path = train_path + label ## 레이블 폴더 경로\n",
    "    \n",
    "    for folder, subfolders, filenames in os.walk(dir_path): ## 폴더 내 모든 파일 탐색\n",
    "        for img in filenames: ## 각 파일 경로, 레이블 저장\n",
    "            img_paths.append(folder+'/'+img)\n",
    "            img_labels.append(label)\n",
    "        \n",
    "    print(len(img_paths))\n",
    "\n",
    "    train_img_paths.extend(img_paths)\n",
    "    train_img_labels.extend(img_labels)\n",
    "\n",
    "print('Train_Images: ',len(train_img_paths))\n",
    "print(\"Train_Images_labels:\", len(train_img_labels))"
   ]
  },
  {
   "cell_type": "code",
   "execution_count": 5,
   "id": "6aef7874-aa53-4c21-b0ff-f8985c3dc8d3",
   "metadata": {},
   "outputs": [
    {
     "name": "stdout",
     "output_type": "stream",
     "text": [
      "label: box 1307\n",
      "label: untapedBox 663\n",
      "Test_Images:  1970\n",
      "Test_Images_labels: 1970\n"
     ]
    }
   ],
   "source": [
    "# TEST DATASET DATAFRAME\n",
    "test_path = '../Data/carbon_reduction_data/bin/test/'\n",
    "test_img_paths = []\n",
    "test_img_labels = []\n",
    "\n",
    "for label in label_list: ## 각 레이블 돌기\n",
    "    print(f'label: {label}',end=' ')\n",
    "    img_paths = [] \n",
    "    img_labels = []\n",
    "    dir_path = test_path + label ## 레이블 폴더 경로\n",
    "    \n",
    "    for folder, subfolders, filenames in os.walk(dir_path): ## 폴더 내 모든 파일 탐색\n",
    "        for img in filenames: ## 각 파일 경로, 레이블 저장\n",
    "            img_paths.append(folder+'/'+img)\n",
    "            img_labels.append(label)\n",
    "        \n",
    "    print(len(img_paths))\n",
    "\n",
    "    test_img_paths.extend(img_paths)\n",
    "    test_img_labels.extend(img_labels)\n",
    "\n",
    "print('Test_Images: ',len(test_img_paths))\n",
    "print(\"Test_Images_labels:\", len(test_img_labels))"
   ]
  },
  {
   "cell_type": "code",
   "execution_count": 6,
   "id": "2716dd8b-84db-4707-80e2-19b29eae9c23",
   "metadata": {},
   "outputs": [
    {
     "data": {
      "text/html": [
       "<div>\n",
       "<style scoped>\n",
       "    .dataframe tbody tr th:only-of-type {\n",
       "        vertical-align: middle;\n",
       "    }\n",
       "\n",
       "    .dataframe tbody tr th {\n",
       "        vertical-align: top;\n",
       "    }\n",
       "\n",
       "    .dataframe thead th {\n",
       "        text-align: right;\n",
       "    }\n",
       "</style>\n",
       "<table border=\"1\" class=\"dataframe\">\n",
       "  <thead>\n",
       "    <tr style=\"text-align: right;\">\n",
       "      <th></th>\n",
       "      <th>image_id</th>\n",
       "      <th>dir</th>\n",
       "      <th>label</th>\n",
       "    </tr>\n",
       "  </thead>\n",
       "  <tbody>\n",
       "    <tr>\n",
       "      <th>0</th>\n",
       "      <td>2449.jpg</td>\n",
       "      <td>../Data/carbon_reduction_data/bin/train/box</td>\n",
       "      <td>box</td>\n",
       "    </tr>\n",
       "    <tr>\n",
       "      <th>1</th>\n",
       "      <td>0720.jpg</td>\n",
       "      <td>../Data/carbon_reduction_data/bin/train/box</td>\n",
       "      <td>box</td>\n",
       "    </tr>\n",
       "    <tr>\n",
       "      <th>2</th>\n",
       "      <td>3004.jpg</td>\n",
       "      <td>../Data/carbon_reduction_data/bin/train/box</td>\n",
       "      <td>box</td>\n",
       "    </tr>\n",
       "    <tr>\n",
       "      <th>3</th>\n",
       "      <td>0282.jpg</td>\n",
       "      <td>../Data/carbon_reduction_data/bin/train/box</td>\n",
       "      <td>box</td>\n",
       "    </tr>\n",
       "    <tr>\n",
       "      <th>4</th>\n",
       "      <td>2404.jpg</td>\n",
       "      <td>../Data/carbon_reduction_data/bin/train/box</td>\n",
       "      <td>box</td>\n",
       "    </tr>\n",
       "    <tr>\n",
       "      <th>...</th>\n",
       "      <td>...</td>\n",
       "      <td>...</td>\n",
       "      <td>...</td>\n",
       "    </tr>\n",
       "    <tr>\n",
       "      <th>5901</th>\n",
       "      <td>1378.jpg</td>\n",
       "      <td>../Data/carbon_reduction_data/bin/train/untape...</td>\n",
       "      <td>untapedBox</td>\n",
       "    </tr>\n",
       "    <tr>\n",
       "      <th>5902</th>\n",
       "      <td>1304.jpg</td>\n",
       "      <td>../Data/carbon_reduction_data/bin/train/untape...</td>\n",
       "      <td>untapedBox</td>\n",
       "    </tr>\n",
       "    <tr>\n",
       "      <th>5903</th>\n",
       "      <td>1492.jpg</td>\n",
       "      <td>../Data/carbon_reduction_data/bin/train/untape...</td>\n",
       "      <td>untapedBox</td>\n",
       "    </tr>\n",
       "    <tr>\n",
       "      <th>5904</th>\n",
       "      <td>1059.jpg</td>\n",
       "      <td>../Data/carbon_reduction_data/bin/train/untape...</td>\n",
       "      <td>untapedBox</td>\n",
       "    </tr>\n",
       "    <tr>\n",
       "      <th>5905</th>\n",
       "      <td>1512.jpg</td>\n",
       "      <td>../Data/carbon_reduction_data/bin/train/untape...</td>\n",
       "      <td>untapedBox</td>\n",
       "    </tr>\n",
       "  </tbody>\n",
       "</table>\n",
       "<p>5906 rows × 3 columns</p>\n",
       "</div>"
      ],
      "text/plain": [
       "      image_id                                                dir       label\n",
       "0     2449.jpg        ../Data/carbon_reduction_data/bin/train/box         box\n",
       "1     0720.jpg        ../Data/carbon_reduction_data/bin/train/box         box\n",
       "2     3004.jpg        ../Data/carbon_reduction_data/bin/train/box         box\n",
       "3     0282.jpg        ../Data/carbon_reduction_data/bin/train/box         box\n",
       "4     2404.jpg        ../Data/carbon_reduction_data/bin/train/box         box\n",
       "...        ...                                                ...         ...\n",
       "5901  1378.jpg  ../Data/carbon_reduction_data/bin/train/untape...  untapedBox\n",
       "5902  1304.jpg  ../Data/carbon_reduction_data/bin/train/untape...  untapedBox\n",
       "5903  1492.jpg  ../Data/carbon_reduction_data/bin/train/untape...  untapedBox\n",
       "5904  1059.jpg  ../Data/carbon_reduction_data/bin/train/untape...  untapedBox\n",
       "5905  1512.jpg  ../Data/carbon_reduction_data/bin/train/untape...  untapedBox\n",
       "\n",
       "[5906 rows x 3 columns]"
      ]
     },
     "execution_count": 6,
     "metadata": {},
     "output_type": "execute_result"
    }
   ],
   "source": [
    "## Pandas 데이터프레임 만들기\n",
    "trn_df = pd.DataFrame(train_img_paths, columns=['image_id'])\n",
    "trn_df['dir'] = trn_df['image_id'].apply(lambda x: os.path.dirname(x))\n",
    "trn_df['image_id'] = trn_df['image_id'].apply(lambda x: os.path.basename(x))\n",
    "trn_df['label'] = train_img_labels\n",
    "train = trn_df\n",
    "train"
   ]
  },
  {
   "cell_type": "code",
   "execution_count": 7,
   "id": "105ae88a-4d4f-49a9-bffc-8689e2db0826",
   "metadata": {},
   "outputs": [
    {
     "data": {
      "text/html": [
       "<div>\n",
       "<style scoped>\n",
       "    .dataframe tbody tr th:only-of-type {\n",
       "        vertical-align: middle;\n",
       "    }\n",
       "\n",
       "    .dataframe tbody tr th {\n",
       "        vertical-align: top;\n",
       "    }\n",
       "\n",
       "    .dataframe thead th {\n",
       "        text-align: right;\n",
       "    }\n",
       "</style>\n",
       "<table border=\"1\" class=\"dataframe\">\n",
       "  <thead>\n",
       "    <tr style=\"text-align: right;\">\n",
       "      <th></th>\n",
       "      <th>image_id</th>\n",
       "      <th>dir</th>\n",
       "      <th>label</th>\n",
       "    </tr>\n",
       "  </thead>\n",
       "  <tbody>\n",
       "    <tr>\n",
       "      <th>0</th>\n",
       "      <td>0720.jpg</td>\n",
       "      <td>../Data/carbon_reduction_data/bin/test/box</td>\n",
       "      <td>box</td>\n",
       "    </tr>\n",
       "    <tr>\n",
       "      <th>1</th>\n",
       "      <td>0282.jpg</td>\n",
       "      <td>../Data/carbon_reduction_data/bin/test/box</td>\n",
       "      <td>box</td>\n",
       "    </tr>\n",
       "    <tr>\n",
       "      <th>2</th>\n",
       "      <td>1028.jpg</td>\n",
       "      <td>../Data/carbon_reduction_data/bin/test/box</td>\n",
       "      <td>box</td>\n",
       "    </tr>\n",
       "    <tr>\n",
       "      <th>3</th>\n",
       "      <td>0540.jpg</td>\n",
       "      <td>../Data/carbon_reduction_data/bin/test/box</td>\n",
       "      <td>box</td>\n",
       "    </tr>\n",
       "    <tr>\n",
       "      <th>4</th>\n",
       "      <td>0466.jpg</td>\n",
       "      <td>../Data/carbon_reduction_data/bin/test/box</td>\n",
       "      <td>box</td>\n",
       "    </tr>\n",
       "    <tr>\n",
       "      <th>...</th>\n",
       "      <td>...</td>\n",
       "      <td>...</td>\n",
       "      <td>...</td>\n",
       "    </tr>\n",
       "    <tr>\n",
       "      <th>1965</th>\n",
       "      <td>0384.jpg</td>\n",
       "      <td>../Data/carbon_reduction_data/bin/test/untapedBox</td>\n",
       "      <td>untapedBox</td>\n",
       "    </tr>\n",
       "    <tr>\n",
       "      <th>1966</th>\n",
       "      <td>0074.jpg</td>\n",
       "      <td>../Data/carbon_reduction_data/bin/test/untapedBox</td>\n",
       "      <td>untapedBox</td>\n",
       "    </tr>\n",
       "    <tr>\n",
       "      <th>1967</th>\n",
       "      <td>0515.jpg</td>\n",
       "      <td>../Data/carbon_reduction_data/bin/test/untapedBox</td>\n",
       "      <td>untapedBox</td>\n",
       "    </tr>\n",
       "    <tr>\n",
       "      <th>1968</th>\n",
       "      <td>0011.jpg</td>\n",
       "      <td>../Data/carbon_reduction_data/bin/test/untapedBox</td>\n",
       "      <td>untapedBox</td>\n",
       "    </tr>\n",
       "    <tr>\n",
       "      <th>1969</th>\n",
       "      <td>0611.jpg</td>\n",
       "      <td>../Data/carbon_reduction_data/bin/test/untapedBox</td>\n",
       "      <td>untapedBox</td>\n",
       "    </tr>\n",
       "  </tbody>\n",
       "</table>\n",
       "<p>1970 rows × 3 columns</p>\n",
       "</div>"
      ],
      "text/plain": [
       "      image_id                                                dir       label\n",
       "0     0720.jpg         ../Data/carbon_reduction_data/bin/test/box         box\n",
       "1     0282.jpg         ../Data/carbon_reduction_data/bin/test/box         box\n",
       "2     1028.jpg         ../Data/carbon_reduction_data/bin/test/box         box\n",
       "3     0540.jpg         ../Data/carbon_reduction_data/bin/test/box         box\n",
       "4     0466.jpg         ../Data/carbon_reduction_data/bin/test/box         box\n",
       "...        ...                                                ...         ...\n",
       "1965  0384.jpg  ../Data/carbon_reduction_data/bin/test/untapedBox  untapedBox\n",
       "1966  0074.jpg  ../Data/carbon_reduction_data/bin/test/untapedBox  untapedBox\n",
       "1967  0515.jpg  ../Data/carbon_reduction_data/bin/test/untapedBox  untapedBox\n",
       "1968  0011.jpg  ../Data/carbon_reduction_data/bin/test/untapedBox  untapedBox\n",
       "1969  0611.jpg  ../Data/carbon_reduction_data/bin/test/untapedBox  untapedBox\n",
       "\n",
       "[1970 rows x 3 columns]"
      ]
     },
     "execution_count": 7,
     "metadata": {},
     "output_type": "execute_result"
    }
   ],
   "source": [
    "## Pandas 데이터프레임 만들기\n",
    "tst_df = pd.DataFrame(test_img_paths, columns=['image_id'])\n",
    "tst_df['dir'] = tst_df['image_id'].apply(lambda x: os.path.dirname(x))\n",
    "tst_df['image_id'] = tst_df['image_id'].apply(lambda x: os.path.basename(x))\n",
    "tst_df['label'] = test_img_labels\n",
    "test = tst_df\n",
    "test"
   ]
  },
  {
   "cell_type": "markdown",
   "id": "cf387b57-bb5d-4564-96db-d764e547a93a",
   "metadata": {},
   "source": [
    "##### Label Encoding"
   ]
  },
  {
   "cell_type": "code",
   "execution_count": 8,
   "id": "03c67d39-7933-4f98-b998-54a6036ff4a1",
   "metadata": {},
   "outputs": [
    {
     "data": {
      "text/html": [
       "<div>\n",
       "<style scoped>\n",
       "    .dataframe tbody tr th:only-of-type {\n",
       "        vertical-align: middle;\n",
       "    }\n",
       "\n",
       "    .dataframe tbody tr th {\n",
       "        vertical-align: top;\n",
       "    }\n",
       "\n",
       "    .dataframe thead th {\n",
       "        text-align: right;\n",
       "    }\n",
       "</style>\n",
       "<table border=\"1\" class=\"dataframe\">\n",
       "  <thead>\n",
       "    <tr style=\"text-align: right;\">\n",
       "      <th></th>\n",
       "      <th>image_id</th>\n",
       "      <th>dir</th>\n",
       "      <th>label</th>\n",
       "    </tr>\n",
       "  </thead>\n",
       "  <tbody>\n",
       "    <tr>\n",
       "      <th>0</th>\n",
       "      <td>2449.jpg</td>\n",
       "      <td>../Data/carbon_reduction_data/bin/train/box</td>\n",
       "      <td>0</td>\n",
       "    </tr>\n",
       "    <tr>\n",
       "      <th>1</th>\n",
       "      <td>0720.jpg</td>\n",
       "      <td>../Data/carbon_reduction_data/bin/train/box</td>\n",
       "      <td>0</td>\n",
       "    </tr>\n",
       "    <tr>\n",
       "      <th>2</th>\n",
       "      <td>3004.jpg</td>\n",
       "      <td>../Data/carbon_reduction_data/bin/train/box</td>\n",
       "      <td>0</td>\n",
       "    </tr>\n",
       "    <tr>\n",
       "      <th>3</th>\n",
       "      <td>0282.jpg</td>\n",
       "      <td>../Data/carbon_reduction_data/bin/train/box</td>\n",
       "      <td>0</td>\n",
       "    </tr>\n",
       "    <tr>\n",
       "      <th>4</th>\n",
       "      <td>2404.jpg</td>\n",
       "      <td>../Data/carbon_reduction_data/bin/train/box</td>\n",
       "      <td>0</td>\n",
       "    </tr>\n",
       "    <tr>\n",
       "      <th>...</th>\n",
       "      <td>...</td>\n",
       "      <td>...</td>\n",
       "      <td>...</td>\n",
       "    </tr>\n",
       "    <tr>\n",
       "      <th>5901</th>\n",
       "      <td>1378.jpg</td>\n",
       "      <td>../Data/carbon_reduction_data/bin/train/untape...</td>\n",
       "      <td>1</td>\n",
       "    </tr>\n",
       "    <tr>\n",
       "      <th>5902</th>\n",
       "      <td>1304.jpg</td>\n",
       "      <td>../Data/carbon_reduction_data/bin/train/untape...</td>\n",
       "      <td>1</td>\n",
       "    </tr>\n",
       "    <tr>\n",
       "      <th>5903</th>\n",
       "      <td>1492.jpg</td>\n",
       "      <td>../Data/carbon_reduction_data/bin/train/untape...</td>\n",
       "      <td>1</td>\n",
       "    </tr>\n",
       "    <tr>\n",
       "      <th>5904</th>\n",
       "      <td>1059.jpg</td>\n",
       "      <td>../Data/carbon_reduction_data/bin/train/untape...</td>\n",
       "      <td>1</td>\n",
       "    </tr>\n",
       "    <tr>\n",
       "      <th>5905</th>\n",
       "      <td>1512.jpg</td>\n",
       "      <td>../Data/carbon_reduction_data/bin/train/untape...</td>\n",
       "      <td>1</td>\n",
       "    </tr>\n",
       "  </tbody>\n",
       "</table>\n",
       "<p>5906 rows × 3 columns</p>\n",
       "</div>"
      ],
      "text/plain": [
       "      image_id                                                dir  label\n",
       "0     2449.jpg        ../Data/carbon_reduction_data/bin/train/box      0\n",
       "1     0720.jpg        ../Data/carbon_reduction_data/bin/train/box      0\n",
       "2     3004.jpg        ../Data/carbon_reduction_data/bin/train/box      0\n",
       "3     0282.jpg        ../Data/carbon_reduction_data/bin/train/box      0\n",
       "4     2404.jpg        ../Data/carbon_reduction_data/bin/train/box      0\n",
       "...        ...                                                ...    ...\n",
       "5901  1378.jpg  ../Data/carbon_reduction_data/bin/train/untape...      1\n",
       "5902  1304.jpg  ../Data/carbon_reduction_data/bin/train/untape...      1\n",
       "5903  1492.jpg  ../Data/carbon_reduction_data/bin/train/untape...      1\n",
       "5904  1059.jpg  ../Data/carbon_reduction_data/bin/train/untape...      1\n",
       "5905  1512.jpg  ../Data/carbon_reduction_data/bin/train/untape...      1\n",
       "\n",
       "[5906 rows x 3 columns]"
      ]
     },
     "execution_count": 8,
     "metadata": {},
     "output_type": "execute_result"
    }
   ],
   "source": [
    "le = preprocessing.LabelEncoder()\n",
    "train['label'] = le.fit_transform(train['label'].values)\n",
    "test['label'] = le.transform(test['label'].values)\n",
    "train"
   ]
  },
  {
   "cell_type": "code",
   "execution_count": 9,
   "id": "29be149b-1ea0-4e34-846e-7395d4e94f03",
   "metadata": {},
   "outputs": [],
   "source": [
    "def label_encoding_classes():\n",
    "    # define certain classes to transform differently\n",
    "    capture_image_classes = ['10Kwalk', 'battery','receipt']\n",
    "    return le.transform(capture_image_classes)"
   ]
  },
  {
   "cell_type": "code",
   "execution_count": 10,
   "id": "6c454bf4",
   "metadata": {},
   "outputs": [],
   "source": [
    "def seed_everything(seed):\n",
    "    random.seed(seed)\n",
    "    os.environ['PYTHONHASHSEED'] = str(seed)\n",
    "    np.random.seed(seed)\n",
    "    torch.manual_seed(seed)\n",
    "    torch.cuda.manual_seed(seed)\n",
    "    torch.backends.cudnn.deterministic = True\n",
    "    torch.backends.cudnn.benchmark = True"
   ]
  },
  {
   "cell_type": "code",
   "execution_count": 11,
   "id": "d97a3c2a",
   "metadata": {},
   "outputs": [],
   "source": [
    "def get_img(path, sub_path=None):\n",
    "    try:\n",
    "        im_bgr = cv2.imread(path)\n",
    "        im_rgb = im_bgr[:, :, ::-1]\n",
    "        past_path = path\n",
    "    except: ## 이미지 에러 발생 시 백지로 대체\n",
    "        im_bgr = cv2.imread('../Data/carbon_reduction/temp_img.jpg')\n",
    "        im_rgb = im_bgr[:, :, ::-1]\n",
    "    return im_rgb"
   ]
  },
  {
   "cell_type": "code",
   "execution_count": 12,
   "id": "884eb987-4341-4fe7-8094-6e61cb051af5",
   "metadata": {},
   "outputs": [],
   "source": [
    "transform_train = A.Compose([\n",
    "    A.OneOf([\n",
    "        A.Compose([\n",
    "            A.RandomResizedCrop(p=1, height=CFG['img_size'] ,width=CFG['img_size'], scale=(0.65, 0.75),ratio=(0.90, 1.10)),\n",
    "        ], p=0.8),\n",
    "        A.Compose([\n",
    "            A.Resize(p=1, height = CFG['img_size'], width = CFG['img_size']),\n",
    "        ], p=0.2),\n",
    "    ], p=1.0),\n",
    "    A.HorizontalFlip(p=0.5),\n",
    "    A.SafeRotate(p=0.5, limit=(-20, 20), interpolation=2, border_mode=0, value=(0, 0, 0), mask_value=None),\n",
    "    A.ColorJitter(always_apply=True, p=0.5, contrast=0.2, saturation=0.3, hue=0.2),\n",
    "    A.Normalize(mean=(0.485, 0.456, 0.406), std=(0.229, 0.224, 0.225), max_pixel_value=255.0, always_apply=True, p=1.0),\n",
    "    A.pytorch.transforms.ToTensorV2()\n",
    "        ])\n",
    "\n",
    "transform_train_cap = A.Compose([\n",
    "    A.OneOf([\n",
    "        A.Compose([\n",
    "            A.RandomResizedCrop(p=1, height=CFG['img_size'] ,width=CFG['img_size'], scale=(0.65, 0.85),ratio=(0.90, 1.10)),\n",
    "        ], p=0.6),\n",
    "        A.Compose([\n",
    "            A.Resize(p=1, height = CFG['img_size'], width = CFG['img_size']),\n",
    "        ], p=0.4),\n",
    "    ], p=1.0),\n",
    "    A.Normalize(mean=(0.485, 0.456, 0.406), std=(0.229, 0.224, 0.225), max_pixel_value=255.0, always_apply=True, p=1.0),\n",
    "    A.pytorch.transforms.ToTensorV2()\n",
    "])\n",
    "\n",
    "transform_test = A.Compose([\n",
    "    A.Resize(height = CFG['img_size'], width = CFG['img_size']),\n",
    "    A.Normalize(mean=(0.485, 0.456, 0.406), std=(0.229, 0.224, 0.225), max_pixel_value=255.0, p=1.0),\n",
    "    A.pytorch.transforms.ToTensorV2()\n",
    "        ])"
   ]
  },
  {
   "cell_type": "code",
   "execution_count": 13,
   "id": "5f1561be",
   "metadata": {},
   "outputs": [],
   "source": [
    "class CustomDataset(Dataset):\n",
    "    def __init__(self, df, data_root, transform=None, transform2=None, output_label=True, encoded_class=False):\n",
    "        super(CustomDataset,self).__init__()\n",
    "        self.df = df.reset_index(drop=True).copy()\n",
    "        self.transform = transform\n",
    "        self.transform2 = transform2\n",
    "        self.data_root = data_root\n",
    "        self.output_label = output_label\n",
    "         \n",
    "        if encoded_class == True:\n",
    "            self.encoded_class = label_encoding_classes()\n",
    "        else:\n",
    "            self.encoded_class = encoded_class\n",
    "            \n",
    "        if output_label == True:\n",
    "            self.labels = self.df['label'].values\n",
    "        \n",
    "    # AUGMENTATION DIFFERENTLY DEPENDING ON THE TARGET\n",
    "    def custom_augmentation(self, img, target):\n",
    "        if self.encoded_class is not False and target in self.encoded_class:\n",
    "            return self.transform2(image=img)\n",
    "        else:\n",
    "            return self.transform(image=img)\n",
    "    \n",
    "    def __len__(self):\n",
    "        return self.df.shape[0]\n",
    "    \n",
    "    def __getitem__(self, index: int):\n",
    "        \n",
    "        # GET IMAGES\n",
    "        path = \"{}/{}\".format(self.data_root[index], self.df.iloc[index]['image_id'])\n",
    "        img  = get_img(path)\n",
    "        \n",
    "        # GET LABELS\n",
    "        if self.output_label:\n",
    "            target = self.labels[index]\n",
    "            \n",
    "            # CUSTOM AUGMENTATION\n",
    "            transformed = self.custom_augmentation(img, target) \n",
    "            img = transformed['image']\n",
    "            return img, target\n",
    "        else:\n",
    "            transformed =self.transform(image=img)\n",
    "            img = transformed['image']\n",
    "            return img"
   ]
  },
  {
   "cell_type": "code",
   "execution_count": 14,
   "id": "7acf9a37-cf66-431c-85c2-d559515afe2c",
   "metadata": {},
   "outputs": [],
   "source": [
    "# LOAD PRE-TRAINED MODEL\n",
    "class Teacher(nn.Module):\n",
    "    def __init__(self, model_arch_str, num_classes= 2,pretrained=True):\n",
    "        super(Teacher, self).__init__()\n",
    "        model_arch = getattr(models, model_arch_str)\n",
    "        self.backbone = model_arch(pretrained=pretrained) ## 모델 선언 여기 models.##(pretrained =pretrained)\n",
    "        self.backbone.fc = nn.Linear(self.backbone.fc.in_features, num_classes)\n",
    "        \n",
    "    def forward(self, x):\n",
    "        x = self.backbone(x)\n",
    "        return x"
   ]
  },
  {
   "cell_type": "code",
   "execution_count": 15,
   "id": "240e5531",
   "metadata": {},
   "outputs": [],
   "source": [
    "def prepare_dataloader(df, trn_idx, val_idx, data_root=train.dir.values):\n",
    "    \n",
    "    train_ = df.loc[trn_idx,:].reset_index(drop=True)\n",
    "    valid_ = df.loc[val_idx,:].reset_index(drop=True)\n",
    "    train_data_root = data_root[trn_idx]\n",
    "    valid_data_root = data_root[val_idx]\n",
    "    \n",
    "        \n",
    "    train_ds = CustomDataset(train_, train_data_root, transform=transform_train,\n",
    "                            transform2=transform_train_cap, output_label=True, encoded_class=CFG['label_encoder'])\n",
    "    valid_ds = CustomDataset(valid_, valid_data_root, transform=transform_test,\n",
    "                            output_label=True)\n",
    "    # WEIGHTEDRANDOMSAMPLER\n",
    "    class_counts = train_.label.value_counts(sort=False).to_dict()\n",
    "    num_samples = sum(class_counts.values())\n",
    "    print(f'cls_cnts: {len(class_counts)}\\nnum_samples:{num_samples}')\n",
    "    \n",
    "    # weight 제작, 전체 학습 데이터 수를 해당 클래스의 데이터 수로 나누어 줌\n",
    "    class_weights = {l:round(num_samples/class_counts[l], 2) for l in class_counts.keys()}\n",
    "    t_labels = train_.label.to_list()\n",
    "    \n",
    "    # class 별 weight를 전체 trainset에 대응시켜 sampler에 넣어줌\n",
    "    weights = [class_weights[t_labels[i]] for i in range(int(num_samples))]\n",
    "\n",
    "\n",
    "    # weight 제작, 전체 학습 데이터 수를 해당 클래스의 데이터 수로 나누어 줌\n",
    "    class_weights = {l:round(num_samples/class_counts[l], 2) for l in class_counts.keys()}\n",
    "\n",
    "    # class 별 weight를 전체 trainset에 대응시켜 sampler에 넣어줌\n",
    "    weights = [class_weights[t_labels[i]] for i in range(int(num_samples))] \n",
    "    sampler = torch.utils.data.WeightedRandomSampler(torch.DoubleTensor(weights), int(num_samples))\n",
    "    \n",
    "    train_loader = torch.utils.data.DataLoader(\n",
    "        train_ds,\n",
    "        batch_size=CFG['train_bs'],\n",
    "        pin_memory=True,\n",
    "        drop_last=False,\n",
    "        shuffle=False,\n",
    "        sampler=sampler, \n",
    "        num_workers=CFG['num_workers']\n",
    "    )\n",
    "    val_loader = torch.utils.data.DataLoader(\n",
    "        valid_ds, \n",
    "        batch_size=CFG['valid_bs'],\n",
    "        num_workers=CFG['num_workers'],\n",
    "        shuffle=False,\n",
    "        pin_memory=True,\n",
    "    )\n",
    "    return train_loader, val_loader"
   ]
  },
  {
   "cell_type": "code",
   "execution_count": 16,
   "id": "08ffa2fa",
   "metadata": {},
   "outputs": [],
   "source": [
    "def train_one_epoch(epoch, model, loss_fn, optimizer, train_loader, device, scheduler=None):\n",
    "    t = time.time()\n",
    "    \n",
    "    # SET MODEL TRAINING MODE\n",
    "    model.train()\n",
    "    \n",
    "    running_loss = None\n",
    "    loss_sum = 0\n",
    "    image_preds_all = []\n",
    "    image_targets_all = []\n",
    "    acc_list = []\n",
    "    \n",
    "    pbar = tqdm(enumerate(train_loader), total=len(train_loader))\n",
    "    for step, (imgs, image_labels) in pbar:\n",
    "        imgs = imgs.to(device).float()\n",
    "        image_labels = image_labels.to(device).long()\n",
    "        \n",
    "        optimizer.zero_grad()\n",
    "        \n",
    "        # TEACHER MODEL PREDICTION\n",
    "        with torch.cuda.amp.autocast():\n",
    "            image_preds = model(imgs)   #output = model(input)\n",
    "\n",
    "            loss = loss_fn(image_preds, image_labels)\n",
    "            loss_sum+=loss.detach()\n",
    "            \n",
    "            # BACKPROPAGATION\n",
    "            scaler.scale(loss).backward()\n",
    "            scaler.step(optimizer)\n",
    "            scaler.update()\n",
    "        \n",
    "            if running_loss is None:\n",
    "                running_loss = loss.item()\n",
    "            else:\n",
    "                running_loss = running_loss * .99 + loss.item() * .01    \n",
    "        \n",
    "            # TQDM VERBOSE_STEP TRACKING\n",
    "            if ((step + 1) % CFG['verbose_step'] == 0) or ((step + 1) == len(train_loader)):\n",
    "                description = f'epoch {epoch} loss: {running_loss:.4f}'\n",
    "                pbar.set_description(description)\n",
    "        \n",
    "        image_preds_all += [torch.argmax(image_preds, 1).detach().cpu().numpy()]\n",
    "        image_targets_all += [image_labels.detach().cpu().numpy()]\n",
    "        \n",
    "    if scheduler is not None:\n",
    "        scheduler.step()\n",
    "    \n",
    "    image_preds_all = np.concatenate(image_preds_all)\n",
    "    image_targets_all = np.concatenate(image_targets_all)\n",
    "    \n",
    "    matrix = confusion_matrix(image_targets_all,image_preds_all)\n",
    "    epoch_f1 = f1_score(image_targets_all, image_preds_all, average='macro')\n",
    "    \n",
    "    accuracy = (image_preds_all==image_targets_all).mean()\n",
    "    trn_loss = loss_sum/len(train_loader)\n",
    "    \n",
    "    return image_preds_all, accuracy, trn_loss, matrix, epoch_f1\n",
    "\n",
    "def valid_one_epoch(epoch, model, loss_fn, val_loader, device, scheduler=None, schd_loss_update=False):\n",
    "    t = time.time()\n",
    "    \n",
    "    # SET MODEL VALID MODE\n",
    "    model.eval()\n",
    "    \n",
    "    loss_sum = 0\n",
    "    sample_num = 0\n",
    "    avg_loss = 0\n",
    "    image_preds_all = []\n",
    "    image_targets_all = []\n",
    "    acc_list = []\n",
    "    \n",
    "    pbar = tqdm(enumerate(val_loader), total=len(val_loader))\n",
    "    for step, (imgs, image_labels) in pbar:\n",
    "        imgs = imgs.to(device).float()\n",
    "        image_labels = image_labels.to(device).long()\n",
    "        \n",
    "        # TEACHER MODEL PREDICTION\n",
    "        image_preds = model(imgs)\n",
    "        image_preds_all += [torch.argmax(image_preds, 1).detach().cpu().numpy()]\n",
    "        image_targets_all += [image_labels.detach().cpu().numpy()]\n",
    "        \n",
    "        loss = loss_fn(image_preds, image_labels)\n",
    "        \n",
    "        avg_loss += loss.item()\n",
    "        loss_sum += loss.item()*image_labels.shape[0]\n",
    "        sample_num += image_labels.shape[0]\n",
    "        \n",
    "        # TQDM\n",
    "        description = f'epoch {epoch} loss: {loss_sum/sample_num:.4f}'\n",
    "        pbar.set_description(description)\n",
    "    \n",
    "    image_preds_all = np.concatenate(image_preds_all)\n",
    "    image_targets_all = np.concatenate(image_targets_all)\n",
    "    matrix = confusion_matrix(image_targets_all,image_preds_all)\n",
    "    \n",
    "    epoch_f1 = f1_score(image_targets_all, image_preds_all, average='macro')\n",
    "    acc = (image_preds_all==image_targets_all).mean()\n",
    "    val_loss = avg_loss/len(val_loader)\n",
    "    \n",
    "    return image_preds_all, acc, val_loss, matrix, epoch_f1"
   ]
  },
  {
   "cell_type": "code",
   "execution_count": 17,
   "id": "77e9950b",
   "metadata": {},
   "outputs": [],
   "source": [
    "class EarlyStopping:\n",
    "    def __init__(self, patience=10, verbose=False, delta=0):\n",
    "        self.patience = patience\n",
    "        self.verbose = verbose\n",
    "        self.counter = 0\n",
    "        self.best_score = None\n",
    "        self.early_stop = False\n",
    "        self.val_loss_min = np.Inf\n",
    "        self.delta = delta\n",
    "\n",
    "    def __call__(self, score):\n",
    "        print(f' present score: {score}')\n",
    "        if self.best_score is None:\n",
    "            self.best_score = score\n",
    "        elif score <= self.best_score + self.delta:\n",
    "            self.counter += 1\n",
    "            print(f'EarlyStopping counter: {self.counter} out of {self.patience}')\n",
    "            print(f'Best F1 score from now: {self.best_score}')\n",
    "            if self.counter >= self.patience:\n",
    "                self.early_stop = True\n",
    "        else:\n",
    "            self.best_score = score\n",
    "            self.counter = 0\n",
    "        \n",
    "        return self.early_stop"
   ]
  },
  {
   "cell_type": "code",
   "execution_count": 18,
   "id": "37102a34",
   "metadata": {},
   "outputs": [
    {
     "name": "stderr",
     "output_type": "stream",
     "text": [
      "Failed to detect the name of this notebook, you can set it manually with the WANDB_NOTEBOOK_NAME environment variable to enable code saving.\n",
      "\u001b[34m\u001b[1mwandb\u001b[0m: Currently logged in as: \u001b[33mhojunking\u001b[0m. Use \u001b[1m`wandb login --relogin`\u001b[0m to force relogin\n"
     ]
    },
    {
     "data": {
      "text/html": [
       "Tracking run with wandb version 0.15.3"
      ],
      "text/plain": [
       "<IPython.core.display.HTML object>"
      ]
     },
     "metadata": {},
     "output_type": "display_data"
    },
    {
     "data": {
      "text/html": [
       "Run data is saved locally in <code>/home/hojun/git/KD_models/wandb/run-20230519_125659-pu3z3zom</code>"
      ],
      "text/plain": [
       "<IPython.core.display.HTML object>"
      ]
     },
     "metadata": {},
     "output_type": "display_data"
    },
    {
     "data": {
      "text/html": [
       "Syncing run <strong><a href='https://wandb.ai/hojunking/KD_resnet152_box/runs/pu3z3zom' target=\"_blank\">amber-water-5</a></strong> to <a href='https://wandb.ai/hojunking/KD_resnet152_box' target=\"_blank\">Weights & Biases</a> (<a href='https://wandb.me/run' target=\"_blank\">docs</a>)<br/>"
      ],
      "text/plain": [
       "<IPython.core.display.HTML object>"
      ]
     },
     "metadata": {},
     "output_type": "display_data"
    },
    {
     "data": {
      "text/html": [
       " View project at <a href='https://wandb.ai/hojunking/KD_resnet152_box' target=\"_blank\">https://wandb.ai/hojunking/KD_resnet152_box</a>"
      ],
      "text/plain": [
       "<IPython.core.display.HTML object>"
      ]
     },
     "metadata": {},
     "output_type": "display_data"
    },
    {
     "data": {
      "text/html": [
       " View run at <a href='https://wandb.ai/hojunking/KD_resnet152_box/runs/pu3z3zom' target=\"_blank\">https://wandb.ai/hojunking/KD_resnet152_box/runs/pu3z3zom</a>"
      ],
      "text/plain": [
       "<IPython.core.display.HTML object>"
      ]
     },
     "metadata": {},
     "output_type": "display_data"
    },
    {
     "name": "stdout",
     "output_type": "stream",
     "text": [
      "Model: resnet152\n",
      "Training start with fold: 0 epoch: 200 \n",
      "\n",
      "cls_cnts: 2\n",
      "num_samples:4724\n"
     ]
    },
    {
     "name": "stderr",
     "output_type": "stream",
     "text": [
      "/home/hojun/miniconda3/envs/torch/lib/python3.10/site-packages/torchvision/models/_utils.py:208: UserWarning: The parameter 'pretrained' is deprecated since 0.13 and may be removed in the future, please use 'weights' instead.\n",
      "  warnings.warn(\n",
      "/home/hojun/miniconda3/envs/torch/lib/python3.10/site-packages/torchvision/models/_utils.py:223: UserWarning: Arguments other than a weight enum or `None` for 'weights' are deprecated since 0.13 and may be removed in the future. The current behavior is equivalent to passing `weights=ResNet152_Weights.IMAGENET1K_V1`. You can also use `weights=ResNet152_Weights.DEFAULT` to get the most up-to-date weights.\n",
      "  warnings.warn(msg)\n"
     ]
    },
    {
     "name": "stdout",
     "output_type": "stream",
     "text": [
      "Fold: 0\n",
      "Epoch 0/199\n"
     ]
    },
    {
     "name": "stderr",
     "output_type": "stream",
     "text": [
      "epoch 0 loss: 0.3853: 100%|████████████████████████████████████████████████████████████████████████| 74/74 [01:11<00:00,  1.03it/s]\n",
      "epoch 0 loss: 0.0757: 100%|████████████████████████████████████████████████████████████████████████| 19/19 [00:13<00:00,  1.41it/s]\n"
     ]
    },
    {
     "name": "stdout",
     "output_type": "stream",
     "text": [
      "Epoch [0], Train Loss : [0.12802] Val Loss : [0.07467] Val F1 Score : [0.97066]\n",
      " present score: 0.9706605578193273\n",
      "Epoch 1/199\n"
     ]
    },
    {
     "name": "stderr",
     "output_type": "stream",
     "text": [
      "epoch 1 loss: 0.0479: 100%|████████████████████████████████████████████████████████████████████████| 74/74 [01:00<00:00,  1.23it/s]\n",
      "epoch 1 loss: 0.0548: 100%|████████████████████████████████████████████████████████████████████████| 19/19 [00:13<00:00,  1.45it/s]\n"
     ]
    },
    {
     "name": "stdout",
     "output_type": "stream",
     "text": [
      "Epoch [1], Train Loss : [0.07252] Val Loss : [0.05800] Val F1 Score : [0.97992]\n",
      " present score: 0.9799227224600691\n",
      "Epoch 2/199\n"
     ]
    },
    {
     "name": "stderr",
     "output_type": "stream",
     "text": [
      "epoch 2 loss: 0.0692: 100%|████████████████████████████████████████████████████████████████████████| 74/74 [01:03<00:00,  1.17it/s]\n",
      "epoch 2 loss: 0.0543: 100%|████████████████████████████████████████████████████████████████████████| 19/19 [00:11<00:00,  1.67it/s]\n"
     ]
    },
    {
     "name": "stdout",
     "output_type": "stream",
     "text": [
      "Epoch [2], Train Loss : [0.05072] Val Loss : [0.05437] Val F1 Score : [0.98387]\n",
      " present score: 0.9838706440745447\n",
      "Epoch 3/199\n"
     ]
    },
    {
     "name": "stderr",
     "output_type": "stream",
     "text": [
      "epoch 3 loss: 0.0353: 100%|████████████████████████████████████████████████████████████████████████| 74/74 [01:01<00:00,  1.20it/s]\n",
      "epoch 3 loss: 0.0542: 100%|████████████████████████████████████████████████████████████████████████| 19/19 [00:12<00:00,  1.50it/s]"
     ]
    },
    {
     "name": "stdout",
     "output_type": "stream",
     "text": [
      "Epoch [3], Train Loss : [0.03875] Val Loss : [0.05303] Val F1 Score : [0.97559]\n",
      " present score: 0.9755851089184422\n",
      "EarlyStopping counter: 1 out of 5\n",
      "Best F1 score from now: 0.9838706440745447\n",
      "Epoch 4/199\n"
     ]
    },
    {
     "name": "stderr",
     "output_type": "stream",
     "text": [
      "\n",
      "epoch 4 loss: 0.0486: 100%|████████████████████████████████████████████████████████████████████████| 74/74 [01:02<00:00,  1.19it/s]\n",
      "epoch 4 loss: 0.0657: 100%|████████████████████████████████████████████████████████████████████████| 19/19 [00:12<00:00,  1.55it/s]"
     ]
    },
    {
     "name": "stdout",
     "output_type": "stream",
     "text": [
      "Epoch [4], Train Loss : [0.03366] Val Loss : [0.06583] Val F1 Score : [0.98096]\n",
      " present score: 0.9809644670050762\n",
      "EarlyStopping counter: 2 out of 5\n",
      "Best F1 score from now: 0.9838706440745447\n",
      "Epoch 5/199\n"
     ]
    },
    {
     "name": "stderr",
     "output_type": "stream",
     "text": [
      "\n",
      "epoch 5 loss: 0.0287: 100%|████████████████████████████████████████████████████████████████████████| 74/74 [01:01<00:00,  1.20it/s]\n",
      "epoch 5 loss: 0.0398: 100%|████████████████████████████████████████████████████████████████████████| 19/19 [00:12<00:00,  1.58it/s]\n"
     ]
    },
    {
     "name": "stdout",
     "output_type": "stream",
     "text": [
      "Epoch [5], Train Loss : [0.03593] Val Loss : [0.03947] Val F1 Score : [0.98773]\n",
      " present score: 0.987726474344689\n",
      "Epoch 6/199\n"
     ]
    },
    {
     "name": "stderr",
     "output_type": "stream",
     "text": [
      "epoch 6 loss: 0.0123: 100%|████████████████████████████████████████████████████████████████████████| 74/74 [01:03<00:00,  1.16it/s]\n",
      "epoch 6 loss: 0.0394: 100%|████████████████████████████████████████████████████████████████████████| 19/19 [00:12<00:00,  1.48it/s]"
     ]
    },
    {
     "name": "stdout",
     "output_type": "stream",
     "text": [
      "Epoch [6], Train Loss : [0.01790] Val Loss : [0.03921] Val F1 Score : [0.98481]\n",
      " present score: 0.9848099313748168\n",
      "EarlyStopping counter: 1 out of 5\n",
      "Best F1 score from now: 0.987726474344689\n",
      "Epoch 7/199\n"
     ]
    },
    {
     "name": "stderr",
     "output_type": "stream",
     "text": [
      "\n",
      "epoch 7 loss: 0.0066: 100%|████████████████████████████████████████████████████████████████████████| 74/74 [01:02<00:00,  1.19it/s]\n",
      "epoch 7 loss: 0.0364: 100%|████████████████████████████████████████████████████████████████████████| 19/19 [00:12<00:00,  1.53it/s]"
     ]
    },
    {
     "name": "stdout",
     "output_type": "stream",
     "text": [
      "Epoch [7], Train Loss : [0.00998] Val Loss : [0.03561] Val F1 Score : [0.98395]\n",
      " present score: 0.9839500049122858\n",
      "EarlyStopping counter: 2 out of 5\n",
      "Best F1 score from now: 0.987726474344689\n",
      "Epoch 8/199\n"
     ]
    },
    {
     "name": "stderr",
     "output_type": "stream",
     "text": [
      "\n",
      "epoch 8 loss: 0.0420: 100%|████████████████████████████████████████████████████████████████████████| 74/74 [01:01<00:00,  1.20it/s]\n",
      "epoch 8 loss: 0.0350: 100%|████████████████████████████████████████████████████████████████████████| 19/19 [00:12<00:00,  1.48it/s]"
     ]
    },
    {
     "name": "stdout",
     "output_type": "stream",
     "text": [
      "Epoch [8], Train Loss : [0.00898] Val Loss : [0.03566] Val F1 Score : [0.98580]\n",
      " present score: 0.9858034957190294\n",
      "EarlyStopping counter: 3 out of 5\n",
      "Best F1 score from now: 0.987726474344689\n",
      "Epoch 9/199\n"
     ]
    },
    {
     "name": "stderr",
     "output_type": "stream",
     "text": [
      "\n",
      "epoch 9 loss: 0.0042: 100%|████████████████████████████████████████████████████████████████████████| 74/74 [01:03<00:00,  1.17it/s]\n",
      "epoch 9 loss: 0.0448: 100%|████████████████████████████████████████████████████████████████████████| 19/19 [00:11<00:00,  1.61it/s]"
     ]
    },
    {
     "name": "stdout",
     "output_type": "stream",
     "text": [
      "Epoch [9], Train Loss : [0.00749] Val Loss : [0.04803] Val F1 Score : [0.98096]\n",
      " present score: 0.9809644670050762\n",
      "EarlyStopping counter: 4 out of 5\n",
      "Best F1 score from now: 0.987726474344689\n",
      "Epoch 10/199\n"
     ]
    },
    {
     "name": "stderr",
     "output_type": "stream",
     "text": [
      "\n",
      "epoch 10 loss: 0.0057: 100%|███████████████████████████████████████████████████████████████████████| 74/74 [01:01<00:00,  1.20it/s]\n",
      "epoch 10 loss: 0.0354: 100%|███████████████████████████████████████████████████████████████████████| 19/19 [00:12<00:00,  1.51it/s]\n"
     ]
    },
    {
     "name": "stdout",
     "output_type": "stream",
     "text": [
      "Epoch [10], Train Loss : [0.00972] Val Loss : [0.03453] Val F1 Score : [0.98865]\n",
      " present score: 0.9886497853829977\n",
      "Epoch 11/199\n"
     ]
    },
    {
     "name": "stderr",
     "output_type": "stream",
     "text": [
      "epoch 11 loss: 0.0034: 100%|███████████████████████████████████████████████████████████████████████| 74/74 [00:58<00:00,  1.27it/s]\n",
      "epoch 11 loss: 0.0337: 100%|███████████████████████████████████████████████████████████████████████| 19/19 [00:10<00:00,  1.74it/s]\n"
     ]
    },
    {
     "name": "stdout",
     "output_type": "stream",
     "text": [
      "Epoch [11], Train Loss : [0.00535] Val Loss : [0.03296] Val F1 Score : [0.98959]\n",
      " present score: 0.9895892301939548\n",
      "Epoch 12/199\n"
     ]
    },
    {
     "name": "stderr",
     "output_type": "stream",
     "text": [
      "epoch 12 loss: 0.0029: 100%|███████████████████████████████████████████████████████████████████████| 74/74 [00:55<00:00,  1.33it/s]\n",
      "epoch 12 loss: 0.0360: 100%|███████████████████████████████████████████████████████████████████████| 19/19 [00:11<00:00,  1.67it/s]"
     ]
    },
    {
     "name": "stdout",
     "output_type": "stream",
     "text": [
      "Epoch [12], Train Loss : [0.00468] Val Loss : [0.03539] Val F1 Score : [0.98765]\n",
      " present score: 0.9876503223244977\n",
      "EarlyStopping counter: 1 out of 5\n",
      "Best F1 score from now: 0.9895892301939548\n",
      "Epoch 13/199\n"
     ]
    },
    {
     "name": "stderr",
     "output_type": "stream",
     "text": [
      "\n",
      "epoch 15 loss: 0.0013: 100%|███████████████████████████████████████████████████████████████████████| 74/74 [00:55<00:00,  1.34it/s]\n",
      "epoch 15 loss: 0.0346: 100%|███████████████████████████████████████████████████████████████████████| 19/19 [00:11<00:00,  1.69it/s]"
     ]
    },
    {
     "name": "stdout",
     "output_type": "stream",
     "text": [
      "Epoch [15], Train Loss : [0.00199] Val Loss : [0.03373] Val F1 Score : [0.98958]\n",
      " present score: 0.9895763435429369\n",
      "EarlyStopping counter: 4 out of 5\n",
      "Best F1 score from now: 0.9895892301939548\n",
      "Epoch 16/199\n"
     ]
    },
    {
     "name": "stderr",
     "output_type": "stream",
     "text": [
      "\n",
      "epoch 16 loss: 0.0037: 100%|███████████████████████████████████████████████████████████████████████| 74/74 [00:56<00:00,  1.31it/s]\n",
      "epoch 16 loss: 0.0336: 100%|███████████████████████████████████████████████████████████████████████| 19/19 [00:10<00:00,  1.76it/s]\n",
      "/home/hojun/miniconda3/envs/torch/lib/python3.10/site-packages/torchvision/models/_utils.py:208: UserWarning: The parameter 'pretrained' is deprecated since 0.13 and may be removed in the future, please use 'weights' instead.\n",
      "  warnings.warn(\n",
      "/home/hojun/miniconda3/envs/torch/lib/python3.10/site-packages/torchvision/models/_utils.py:223: UserWarning: Arguments other than a weight enum or `None` for 'weights' are deprecated since 0.13 and may be removed in the future. The current behavior is equivalent to passing `weights=ResNet152_Weights.IMAGENET1K_V1`. You can also use `weights=ResNet152_Weights.DEFAULT` to get the most up-to-date weights.\n",
      "  warnings.warn(msg)\n"
     ]
    },
    {
     "name": "stdout",
     "output_type": "stream",
     "text": [
      "Epoch [16], Train Loss : [0.00327] Val Loss : [0.03273] Val F1 Score : [0.98864]\n",
      " present score: 0.988635780945544\n",
      "EarlyStopping counter: 5 out of 5\n",
      "Best F1 score from now: 0.9895892301939548\n",
      "stop called\n",
      "time : 0:20:50\n",
      "fold: 0, Best Epoch : 11/ 17\n",
      "Best Train Marco F1 : 0.99809\n",
      "[[2397    5]\n",
      " [   4 2318]]\n",
      "Best Valid Marco F1 : 0.98959\n",
      "[[778   6]\n",
      " [  5 393]]\n",
      "-----------------------------------------------------------------------\n",
      "Training start with fold: 1 epoch: 200 \n",
      "\n",
      "cls_cnts: 2\n",
      "num_samples:4725\n",
      "Fold: 1\n",
      "Epoch 0/199\n"
     ]
    },
    {
     "name": "stderr",
     "output_type": "stream",
     "text": [
      "epoch 0 loss: 0.3903: 100%|████████████████████████████████████████████████████████████████████████| 74/74 [00:58<00:00,  1.26it/s]\n",
      "epoch 0 loss: 0.0631: 100%|████████████████████████████████████████████████████████████████████████| 19/19 [00:11<00:00,  1.67it/s]"
     ]
    },
    {
     "name": "stdout",
     "output_type": "stream",
     "text": [
      "Epoch [0], Train Loss : [0.13588] Val Loss : [0.06371] Val F1 Score : [0.97700]\n",
      " present score: 0.9770000778998209\n",
      "Epoch 1/199\n"
     ]
    },
    {
     "name": "stderr",
     "output_type": "stream",
     "text": [
      "\n",
      "epoch 1 loss: 0.0562: 100%|████████████████████████████████████████████████████████████████████████| 74/74 [00:55<00:00,  1.34it/s]\n",
      "epoch 1 loss: 0.0462: 100%|████████████████████████████████████████████████████████████████████████| 19/19 [00:10<00:00,  1.83it/s]"
     ]
    },
    {
     "name": "stdout",
     "output_type": "stream",
     "text": [
      "Epoch [1], Train Loss : [0.06582] Val Loss : [0.04610] Val F1 Score : [0.98183]\n",
      " present score: 0.9818272523994522\n",
      "Epoch 2/199\n"
     ]
    },
    {
     "name": "stderr",
     "output_type": "stream",
     "text": [
      "\n",
      "epoch 2 loss: 0.0535: 100%|████████████████████████████████████████████████████████████████████████| 74/74 [00:56<00:00,  1.30it/s]\n",
      "epoch 2 loss: 0.0464: 100%|████████████████████████████████████████████████████████████████████████| 19/19 [00:11<00:00,  1.72it/s]"
     ]
    },
    {
     "name": "stdout",
     "output_type": "stream",
     "text": [
      "Epoch [2], Train Loss : [0.05069] Val Loss : [0.04818] Val F1 Score : [0.98088]\n",
      " present score: 0.9808831622907832\n",
      "EarlyStopping counter: 1 out of 5\n",
      "Best F1 score from now: 0.9818272523994522\n",
      "Epoch 3/199\n"
     ]
    },
    {
     "name": "stderr",
     "output_type": "stream",
     "text": [
      "\n",
      "epoch 3 loss: 0.0460: 100%|████████████████████████████████████████████████████████████████████████| 74/74 [00:55<00:00,  1.33it/s]\n",
      "epoch 3 loss: 0.0910: 100%|████████████████████████████████████████████████████████████████████████| 19/19 [00:11<00:00,  1.70it/s]"
     ]
    },
    {
     "name": "stdout",
     "output_type": "stream",
     "text": [
      "Epoch [3], Train Loss : [0.04530] Val Loss : [0.08875] Val F1 Score : [0.96467]\n",
      " present score: 0.9646672209310381\n",
      "EarlyStopping counter: 2 out of 5\n",
      "Best F1 score from now: 0.9818272523994522\n",
      "Epoch 4/199\n"
     ]
    },
    {
     "name": "stderr",
     "output_type": "stream",
     "text": [
      "\n",
      "epoch 4 loss: 0.0279: 100%|████████████████████████████████████████████████████████████████████████| 74/74 [00:55<00:00,  1.34it/s]\n",
      "epoch 4 loss: 0.0443: 100%|████████████████████████████████████████████████████████████████████████| 19/19 [00:10<00:00,  1.82it/s]"
     ]
    },
    {
     "name": "stdout",
     "output_type": "stream",
     "text": [
      "Epoch [4], Train Loss : [0.04061] Val Loss : [0.04575] Val F1 Score : [0.98478]\n",
      " present score: 0.984784359197346\n",
      "Epoch 5/199\n"
     ]
    },
    {
     "name": "stderr",
     "output_type": "stream",
     "text": [
      "\n",
      "epoch 5 loss: 0.0123: 100%|████████████████████████████████████████████████████████████████████████| 74/74 [00:55<00:00,  1.33it/s]\n",
      "epoch 5 loss: 0.0371: 100%|████████████████████████████████████████████████████████████████████████| 19/19 [00:10<00:00,  1.84it/s]"
     ]
    },
    {
     "name": "stdout",
     "output_type": "stream",
     "text": [
      "Epoch [5], Train Loss : [0.02157] Val Loss : [0.03703] Val F1 Score : [0.98667]\n",
      " present score: 0.9866694831623011\n",
      "Epoch 6/199\n"
     ]
    },
    {
     "name": "stderr",
     "output_type": "stream",
     "text": [
      "\n",
      "epoch 6 loss: 0.0126: 100%|████████████████████████████████████████████████████████████████████████| 74/74 [00:55<00:00,  1.34it/s]\n",
      "epoch 6 loss: 0.0346: 100%|████████████████████████████████████████████████████████████████████████| 19/19 [00:11<00:00,  1.73it/s]\n"
     ]
    },
    {
     "name": "stdout",
     "output_type": "stream",
     "text": [
      "Epoch [6], Train Loss : [0.01268] Val Loss : [0.03419] Val F1 Score : [0.99144]\n",
      " present score: 0.9914358023587198\n",
      "Epoch 7/199\n"
     ]
    },
    {
     "name": "stderr",
     "output_type": "stream",
     "text": [
      "epoch 7 loss: 0.0256: 100%|████████████████████████████████████████████████████████████████████████| 74/74 [00:53<00:00,  1.38it/s]\n",
      "epoch 7 loss: 0.0324: 100%|████████████████████████████████████████████████████████████████████████| 19/19 [00:10<00:00,  1.78it/s]"
     ]
    },
    {
     "name": "stdout",
     "output_type": "stream",
     "text": [
      "Epoch [7], Train Loss : [0.01098] Val Loss : [0.03192] Val F1 Score : [0.99050]\n",
      " present score: 0.9905021553110726\n",
      "EarlyStopping counter: 1 out of 5\n",
      "Best F1 score from now: 0.9914358023587198\n",
      "Epoch 8/199\n"
     ]
    },
    {
     "name": "stderr",
     "output_type": "stream",
     "text": [
      "\n",
      "epoch 8 loss: 0.0079: 100%|████████████████████████████████████████████████████████████████████████| 74/74 [00:54<00:00,  1.35it/s]\n",
      "epoch 8 loss: 0.0498: 100%|████████████████████████████████████████████████████████████████████████| 19/19 [00:10<00:00,  1.80it/s]"
     ]
    },
    {
     "name": "stdout",
     "output_type": "stream",
     "text": [
      "Epoch [8], Train Loss : [0.01101] Val Loss : [0.04863] Val F1 Score : [0.99050]\n",
      " present score: 0.9905021553110726\n",
      "EarlyStopping counter: 2 out of 5\n",
      "Best F1 score from now: 0.9914358023587198\n",
      "Epoch 9/199\n"
     ]
    },
    {
     "name": "stderr",
     "output_type": "stream",
     "text": [
      "\n",
      "epoch 9 loss: 0.0087: 100%|████████████████████████████████████████████████████████████████████████| 74/74 [00:55<00:00,  1.33it/s]\n",
      "epoch 9 loss: 0.0477: 100%|████████████████████████████████████████████████████████████████████████| 19/19 [00:10<00:00,  1.76it/s]"
     ]
    },
    {
     "name": "stdout",
     "output_type": "stream",
     "text": [
      "Epoch [9], Train Loss : [0.01063] Val Loss : [0.04680] Val F1 Score : [0.98766]\n",
      " present score: 0.9876605125954717\n",
      "EarlyStopping counter: 3 out of 5\n",
      "Best F1 score from now: 0.9914358023587198\n",
      "Epoch 10/199\n"
     ]
    },
    {
     "name": "stderr",
     "output_type": "stream",
     "text": [
      "\n",
      "epoch 10 loss: 0.0136: 100%|███████████████████████████████████████████████████████████████████████| 74/74 [00:56<00:00,  1.31it/s]\n",
      "epoch 10 loss: 0.0448: 100%|███████████████████████████████████████████████████████████████████████| 19/19 [00:10<00:00,  1.89it/s]"
     ]
    },
    {
     "name": "stdout",
     "output_type": "stream",
     "text": [
      "Epoch [10], Train Loss : [0.00746] Val Loss : [0.04357] Val F1 Score : [0.98768]\n",
      " present score: 0.9876758457654533\n",
      "EarlyStopping counter: 4 out of 5\n",
      "Best F1 score from now: 0.9914358023587198\n",
      "Epoch 11/199\n"
     ]
    },
    {
     "name": "stderr",
     "output_type": "stream",
     "text": [
      "\n",
      "epoch 11 loss: 0.0032: 100%|███████████████████████████████████████████████████████████████████████| 74/74 [00:54<00:00,  1.35it/s]\n",
      "epoch 11 loss: 0.0387: 100%|███████████████████████████████████████████████████████████████████████| 19/19 [00:10<00:00,  1.88it/s]\n",
      "/home/hojun/miniconda3/envs/torch/lib/python3.10/site-packages/torchvision/models/_utils.py:208: UserWarning: The parameter 'pretrained' is deprecated since 0.13 and may be removed in the future, please use 'weights' instead.\n",
      "  warnings.warn(\n",
      "/home/hojun/miniconda3/envs/torch/lib/python3.10/site-packages/torchvision/models/_utils.py:223: UserWarning: Arguments other than a weight enum or `None` for 'weights' are deprecated since 0.13 and may be removed in the future. The current behavior is equivalent to passing `weights=ResNet152_Weights.IMAGENET1K_V1`. You can also use `weights=ResNet152_Weights.DEFAULT` to get the most up-to-date weights.\n",
      "  warnings.warn(msg)\n"
     ]
    },
    {
     "name": "stdout",
     "output_type": "stream",
     "text": [
      "Epoch [11], Train Loss : [0.00496] Val Loss : [0.03775] Val F1 Score : [0.98955]\n",
      " present score: 0.9895458214267608\n",
      "EarlyStopping counter: 5 out of 5\n",
      "Best F1 score from now: 0.9914358023587198\n",
      "stop called\n",
      "time : 0:13:26\n",
      "fold: 1, Best Epoch : 6/ 12\n",
      "Best Train Marco F1 : 0.99577\n",
      "[[2383   10]\n",
      " [  10 2322]]\n",
      "Best Valid Marco F1 : 0.99144\n",
      "[[782   2]\n",
      " [  7 390]]\n",
      "-----------------------------------------------------------------------\n",
      "Training start with fold: 2 epoch: 200 \n",
      "\n",
      "cls_cnts: 2\n",
      "num_samples:4725\n",
      "Fold: 2\n",
      "Epoch 0/199\n"
     ]
    },
    {
     "name": "stderr",
     "output_type": "stream",
     "text": [
      "epoch 0 loss: 0.4012: 100%|████████████████████████████████████████████████████████████████████████| 74/74 [00:54<00:00,  1.37it/s]\n",
      "epoch 0 loss: 0.0936: 100%|████████████████████████████████████████████████████████████████████████| 19/19 [00:10<00:00,  1.73it/s]"
     ]
    },
    {
     "name": "stdout",
     "output_type": "stream",
     "text": [
      "Epoch [0], Train Loss : [0.11524] Val Loss : [0.09277] Val F1 Score : [0.96733]\n",
      " present score: 0.9673308860380501\n",
      "Epoch 1/199\n"
     ]
    },
    {
     "name": "stderr",
     "output_type": "stream",
     "text": [
      "\n",
      "epoch 1 loss: 0.0437: 100%|████████████████████████████████████████████████████████████████████████| 74/74 [00:55<00:00,  1.34it/s]\n",
      "epoch 1 loss: 0.0524: 100%|████████████████████████████████████████████████████████████████████████| 19/19 [00:11<00:00,  1.64it/s]"
     ]
    },
    {
     "name": "stdout",
     "output_type": "stream",
     "text": [
      "Epoch [1], Train Loss : [0.06933] Val Loss : [0.05428] Val F1 Score : [0.97424]\n",
      " present score: 0.9742419897491408\n",
      "Epoch 2/199\n"
     ]
    },
    {
     "name": "stderr",
     "output_type": "stream",
     "text": [
      "\n",
      "epoch 2 loss: 0.0285: 100%|████████████████████████████████████████████████████████████████████████| 74/74 [00:56<00:00,  1.32it/s]\n",
      "epoch 2 loss: 0.0540: 100%|████████████████████████████████████████████████████████████████████████| 19/19 [00:10<00:00,  1.77it/s]"
     ]
    },
    {
     "name": "stdout",
     "output_type": "stream",
     "text": [
      "Epoch [2], Train Loss : [0.04494] Val Loss : [0.05863] Val F1 Score : [0.98014]\n",
      " present score: 0.9801407229286128\n",
      "Epoch 3/199\n"
     ]
    },
    {
     "name": "stderr",
     "output_type": "stream",
     "text": [
      "\n",
      "epoch 3 loss: 0.0617: 100%|████████████████████████████████████████████████████████████████████████| 74/74 [00:56<00:00,  1.32it/s]\n",
      "epoch 3 loss: 0.0747: 100%|████████████████████████████████████████████████████████████████████████| 19/19 [00:10<00:00,  1.75it/s]"
     ]
    },
    {
     "name": "stdout",
     "output_type": "stream",
     "text": [
      "Epoch [3], Train Loss : [0.04554] Val Loss : [0.07688] Val F1 Score : [0.97453]\n",
      " present score: 0.9745286477824898\n",
      "EarlyStopping counter: 1 out of 5\n",
      "Best F1 score from now: 0.9801407229286128\n",
      "Epoch 4/199\n"
     ]
    },
    {
     "name": "stderr",
     "output_type": "stream",
     "text": [
      "\n",
      "epoch 4 loss: 0.0629: 100%|████████████████████████████████████████████████████████████████████████| 74/74 [00:54<00:00,  1.37it/s]\n",
      "epoch 4 loss: 0.0659: 100%|████████████████████████████████████████████████████████████████████████| 19/19 [00:10<00:00,  1.75it/s]"
     ]
    },
    {
     "name": "stdout",
     "output_type": "stream",
     "text": [
      "Epoch [4], Train Loss : [0.03299] Val Loss : [0.06595] Val F1 Score : [0.97721]\n",
      " present score: 0.9772051727465739\n",
      "EarlyStopping counter: 2 out of 5\n",
      "Best F1 score from now: 0.9801407229286128\n",
      "Epoch 5/199\n"
     ]
    },
    {
     "name": "stderr",
     "output_type": "stream",
     "text": [
      "\n",
      "epoch 5 loss: 0.0317: 100%|████████████████████████████████████████████████████████████████████████| 74/74 [00:53<00:00,  1.38it/s]\n",
      "epoch 5 loss: 0.0533: 100%|████████████████████████████████████████████████████████████████████████| 19/19 [00:11<00:00,  1.71it/s]"
     ]
    },
    {
     "name": "stdout",
     "output_type": "stream",
     "text": [
      "Epoch [5], Train Loss : [0.02436] Val Loss : [0.05505] Val F1 Score : [0.98386]\n",
      " present score: 0.9838637472402323\n",
      "Epoch 6/199\n"
     ]
    },
    {
     "name": "stderr",
     "output_type": "stream",
     "text": [
      "\n",
      "epoch 6 loss: 0.0105: 100%|████████████████████████████████████████████████████████████████████████| 74/74 [00:57<00:00,  1.29it/s]\n",
      "epoch 6 loss: 0.0485: 100%|████████████████████████████████████████████████████████████████████████| 19/19 [00:11<00:00,  1.60it/s]"
     ]
    },
    {
     "name": "stdout",
     "output_type": "stream",
     "text": [
      "Epoch [6], Train Loss : [0.01685] Val Loss : [0.05060] Val F1 Score : [0.98098]\n",
      " present score: 0.9809804489966825\n",
      "EarlyStopping counter: 1 out of 5\n",
      "Best F1 score from now: 0.9838637472402323\n",
      "Epoch 7/199\n"
     ]
    },
    {
     "name": "stderr",
     "output_type": "stream",
     "text": [
      "\n",
      "epoch 7 loss: 0.0048: 100%|████████████████████████████████████████████████████████████████████████| 74/74 [00:55<00:00,  1.34it/s]\n",
      "epoch 7 loss: 0.0582: 100%|████████████████████████████████████████████████████████████████████████| 19/19 [00:11<00:00,  1.66it/s]"
     ]
    },
    {
     "name": "stdout",
     "output_type": "stream",
     "text": [
      "Epoch [7], Train Loss : [0.00860] Val Loss : [0.05912] Val F1 Score : [0.97624]\n",
      " present score: 0.9762405032426382\n",
      "EarlyStopping counter: 2 out of 5\n",
      "Best F1 score from now: 0.9838637472402323\n",
      "Epoch 8/199\n"
     ]
    },
    {
     "name": "stderr",
     "output_type": "stream",
     "text": [
      "\n",
      "epoch 8 loss: 0.0078: 100%|████████████████████████████████████████████████████████████████████████| 74/74 [00:55<00:00,  1.33it/s]\n",
      "epoch 8 loss: 0.0756: 100%|████████████████████████████████████████████████████████████████████████| 19/19 [00:11<00:00,  1.63it/s]"
     ]
    },
    {
     "name": "stdout",
     "output_type": "stream",
     "text": [
      "Epoch [8], Train Loss : [0.01164] Val Loss : [0.07728] Val F1 Score : [0.97421]\n",
      " present score: 0.9742089056801555\n",
      "EarlyStopping counter: 3 out of 5\n",
      "Best F1 score from now: 0.9838637472402323\n",
      "Epoch 9/199\n"
     ]
    },
    {
     "name": "stderr",
     "output_type": "stream",
     "text": [
      "\n",
      "epoch 9 loss: 0.0059: 100%|████████████████████████████████████████████████████████████████████████| 74/74 [00:56<00:00,  1.30it/s]\n",
      "epoch 9 loss: 0.0673: 100%|████████████████████████████████████████████████████████████████████████| 19/19 [00:10<00:00,  1.77it/s]"
     ]
    },
    {
     "name": "stdout",
     "output_type": "stream",
     "text": [
      "Epoch [9], Train Loss : [0.00977] Val Loss : [0.07048] Val F1 Score : [0.97624]\n",
      " present score: 0.9762405032426382\n",
      "EarlyStopping counter: 4 out of 5\n",
      "Best F1 score from now: 0.9838637472402323\n",
      "Epoch 10/199\n"
     ]
    },
    {
     "name": "stderr",
     "output_type": "stream",
     "text": [
      "\n",
      "epoch 10 loss: 0.0272: 100%|███████████████████████████████████████████████████████████████████████| 74/74 [00:56<00:00,  1.32it/s]\n",
      "epoch 10 loss: 0.0681: 100%|███████████████████████████████████████████████████████████████████████| 19/19 [00:10<00:00,  1.73it/s]\n",
      "/home/hojun/miniconda3/envs/torch/lib/python3.10/site-packages/torchvision/models/_utils.py:208: UserWarning: The parameter 'pretrained' is deprecated since 0.13 and may be removed in the future, please use 'weights' instead.\n",
      "  warnings.warn(\n",
      "/home/hojun/miniconda3/envs/torch/lib/python3.10/site-packages/torchvision/models/_utils.py:223: UserWarning: Arguments other than a weight enum or `None` for 'weights' are deprecated since 0.13 and may be removed in the future. The current behavior is equivalent to passing `weights=ResNet152_Weights.IMAGENET1K_V1`. You can also use `weights=ResNet152_Weights.DEFAULT` to get the most up-to-date weights.\n",
      "  warnings.warn(msg)\n"
     ]
    },
    {
     "name": "stdout",
     "output_type": "stream",
     "text": [
      "Epoch [10], Train Loss : [0.01076] Val Loss : [0.07100] Val F1 Score : [0.98004]\n",
      " present score: 0.980042022723816\n",
      "EarlyStopping counter: 5 out of 5\n",
      "Best F1 score from now: 0.9838637472402323\n",
      "stop called\n",
      "time : 0:12:22\n",
      "fold: 2, Best Epoch : 5/ 11\n",
      "Best Train Marco F1 : 0.99344\n",
      "[[2372   15]\n",
      " [  16 2322]]\n",
      "Best Valid Marco F1 : 0.98386\n",
      "[[776   8]\n",
      " [  9 388]]\n",
      "-----------------------------------------------------------------------\n",
      "Training start with fold: 3 epoch: 200 \n",
      "\n",
      "cls_cnts: 2\n",
      "num_samples:4725\n",
      "Fold: 3\n",
      "Epoch 0/199\n"
     ]
    },
    {
     "name": "stderr",
     "output_type": "stream",
     "text": [
      "epoch 0 loss: 0.4088: 100%|████████████████████████████████████████████████████████████████████████| 74/74 [00:56<00:00,  1.31it/s]\n",
      "epoch 0 loss: 0.0683: 100%|████████████████████████████████████████████████████████████████████████| 19/19 [00:12<00:00,  1.50it/s]"
     ]
    },
    {
     "name": "stdout",
     "output_type": "stream",
     "text": [
      "Epoch [0], Train Loss : [0.12659] Val Loss : [0.06660] Val F1 Score : [0.97083]\n",
      " present score: 0.9708252150595473\n",
      "Epoch 1/199\n"
     ]
    },
    {
     "name": "stderr",
     "output_type": "stream",
     "text": [
      "\n",
      "epoch 1 loss: 0.0555: 100%|████████████████████████████████████████████████████████████████████████| 74/74 [00:55<00:00,  1.32it/s]\n",
      "epoch 1 loss: 0.0465: 100%|████████████████████████████████████████████████████████████████████████| 19/19 [00:11<00:00,  1.61it/s]"
     ]
    },
    {
     "name": "stdout",
     "output_type": "stream",
     "text": [
      "Epoch [1], Train Loss : [0.05881] Val Loss : [0.04653] Val F1 Score : [0.98194]\n",
      " present score: 0.981942782464405\n",
      "Epoch 2/199\n"
     ]
    },
    {
     "name": "stderr",
     "output_type": "stream",
     "text": [
      "\n",
      "epoch 2 loss: 0.0909: 100%|████████████████████████████████████████████████████████████████████████| 74/74 [00:55<00:00,  1.33it/s]\n",
      "epoch 2 loss: 0.0802: 100%|████████████████████████████████████████████████████████████████████████| 19/19 [00:11<00:00,  1.67it/s]"
     ]
    },
    {
     "name": "stdout",
     "output_type": "stream",
     "text": [
      "Epoch [2], Train Loss : [0.04911] Val Loss : [0.08505] Val F1 Score : [0.96917]\n",
      " present score: 0.9691705279644978\n",
      "EarlyStopping counter: 1 out of 5\n",
      "Best F1 score from now: 0.981942782464405\n",
      "Epoch 3/199\n"
     ]
    },
    {
     "name": "stderr",
     "output_type": "stream",
     "text": [
      "\n",
      "epoch 3 loss: 0.0327: 100%|████████████████████████████████████████████████████████████████████████| 74/74 [00:55<00:00,  1.33it/s]\n",
      "epoch 3 loss: 0.0676: 100%|████████████████████████████████████████████████████████████████████████| 19/19 [00:11<00:00,  1.69it/s]"
     ]
    },
    {
     "name": "stdout",
     "output_type": "stream",
     "text": [
      "Epoch [3], Train Loss : [0.04435] Val Loss : [0.06665] Val F1 Score : [0.97894]\n",
      " present score: 0.9789442121300529\n",
      "EarlyStopping counter: 2 out of 5\n",
      "Best F1 score from now: 0.981942782464405\n",
      "Epoch 4/199\n"
     ]
    },
    {
     "name": "stderr",
     "output_type": "stream",
     "text": [
      "\n",
      "epoch 4 loss: 0.0193: 100%|████████████████████████████████████████████████████████████████████████| 74/74 [00:56<00:00,  1.31it/s]\n",
      "epoch 4 loss: 0.0750: 100%|████████████████████████████████████████████████████████████████████████| 19/19 [00:11<00:00,  1.67it/s]"
     ]
    },
    {
     "name": "stdout",
     "output_type": "stream",
     "text": [
      "Epoch [4], Train Loss : [0.03107] Val Loss : [0.07299] Val F1 Score : [0.97729]\n",
      " present score: 0.9772897717439378\n",
      "EarlyStopping counter: 3 out of 5\n",
      "Best F1 score from now: 0.981942782464405\n",
      "Epoch 5/199\n"
     ]
    },
    {
     "name": "stderr",
     "output_type": "stream",
     "text": [
      "\n",
      "epoch 5 loss: 0.0140: 100%|████████████████████████████████████████████████████████████████████████| 74/74 [00:57<00:00,  1.29it/s]\n",
      "epoch 5 loss: 0.0762: 100%|████████████████████████████████████████████████████████████████████████| 19/19 [00:11<00:00,  1.60it/s]"
     ]
    },
    {
     "name": "stdout",
     "output_type": "stream",
     "text": [
      "Epoch [5], Train Loss : [0.01996] Val Loss : [0.07404] Val F1 Score : [0.98384]\n",
      " present score: 0.9838435422049939\n",
      "Epoch 6/199\n"
     ]
    },
    {
     "name": "stderr",
     "output_type": "stream",
     "text": [
      "\n",
      "epoch 6 loss: 0.0122: 100%|████████████████████████████████████████████████████████████████████████| 74/74 [00:55<00:00,  1.34it/s]\n",
      "epoch 6 loss: 0.0622: 100%|████████████████████████████████████████████████████████████████████████| 19/19 [00:11<00:00,  1.58it/s]"
     ]
    },
    {
     "name": "stdout",
     "output_type": "stream",
     "text": [
      "Epoch [6], Train Loss : [0.01310] Val Loss : [0.06072] Val F1 Score : [0.98576]\n",
      " present score: 0.985762129917852\n",
      "Epoch 7/199\n"
     ]
    },
    {
     "name": "stderr",
     "output_type": "stream",
     "text": [
      "\n",
      "epoch 7 loss: 0.0089: 100%|████████████████████████████████████████████████████████████████████████| 74/74 [00:55<00:00,  1.32it/s]\n",
      "epoch 7 loss: 0.0704: 100%|████████████████████████████████████████████████████████████████████████| 19/19 [00:11<00:00,  1.60it/s]"
     ]
    },
    {
     "name": "stdout",
     "output_type": "stream",
     "text": [
      "Epoch [7], Train Loss : [0.01275] Val Loss : [0.06849] Val F1 Score : [0.98388]\n",
      " present score: 0.9838837983086697\n",
      "EarlyStopping counter: 1 out of 5\n",
      "Best F1 score from now: 0.985762129917852\n",
      "Epoch 8/199\n"
     ]
    },
    {
     "name": "stderr",
     "output_type": "stream",
     "text": [
      "\n",
      "epoch 8 loss: 0.0209: 100%|████████████████████████████████████████████████████████████████████████| 74/74 [00:55<00:00,  1.34it/s]\n",
      "epoch 8 loss: 0.0690: 100%|████████████████████████████████████████████████████████████████████████| 19/19 [00:11<00:00,  1.62it/s]"
     ]
    },
    {
     "name": "stdout",
     "output_type": "stream",
     "text": [
      "Epoch [8], Train Loss : [0.01245] Val Loss : [0.06706] Val F1 Score : [0.98484]\n",
      " present score: 0.9848411919110238\n",
      "EarlyStopping counter: 2 out of 5\n",
      "Best F1 score from now: 0.985762129917852\n",
      "Epoch 9/199\n"
     ]
    },
    {
     "name": "stderr",
     "output_type": "stream",
     "text": [
      "\n",
      "epoch 9 loss: 0.0060: 100%|████████████████████████████████████████████████████████████████████████| 74/74 [00:56<00:00,  1.31it/s]\n",
      "epoch 9 loss: 0.0650: 100%|████████████████████████████████████████████████████████████████████████| 19/19 [00:11<00:00,  1.66it/s]"
     ]
    },
    {
     "name": "stdout",
     "output_type": "stream",
     "text": [
      "Epoch [9], Train Loss : [0.00830] Val Loss : [0.06323] Val F1 Score : [0.98670]\n",
      " present score: 0.9867030174355014\n",
      "Epoch 10/199\n"
     ]
    },
    {
     "name": "stderr",
     "output_type": "stream",
     "text": [
      "\n",
      "epoch 10 loss: 0.0051: 100%|███████████████████████████████████████████████████████████████████████| 74/74 [00:55<00:00,  1.33it/s]\n",
      "epoch 10 loss: 0.0647: 100%|███████████████████████████████████████████████████████████████████████| 19/19 [00:11<00:00,  1.64it/s]"
     ]
    },
    {
     "name": "stdout",
     "output_type": "stream",
     "text": [
      "Epoch [10], Train Loss : [0.00797] Val Loss : [0.06367] Val F1 Score : [0.98571]\n",
      " present score: 0.9857082350093787\n",
      "EarlyStopping counter: 1 out of 5\n",
      "Best F1 score from now: 0.9867030174355014\n",
      "Epoch 11/199\n"
     ]
    },
    {
     "name": "stderr",
     "output_type": "stream",
     "text": [
      "\n",
      "epoch 11 loss: 0.0030: 100%|███████████████████████████████████████████████████████████████████████| 74/74 [00:55<00:00,  1.33it/s]\n",
      "epoch 11 loss: 0.0585: 100%|███████████████████████████████████████████████████████████████████████| 19/19 [00:12<00:00,  1.54it/s]"
     ]
    },
    {
     "name": "stdout",
     "output_type": "stream",
     "text": [
      "Epoch [11], Train Loss : [0.00495] Val Loss : [0.05699] Val F1 Score : [0.98670]\n",
      " present score: 0.9867030174355014\n",
      "EarlyStopping counter: 2 out of 5\n",
      "Best F1 score from now: 0.9867030174355014\n",
      "Epoch 12/199\n"
     ]
    },
    {
     "name": "stderr",
     "output_type": "stream",
     "text": [
      "\n",
      "epoch 12 loss: 0.0014: 100%|███████████████████████████████████████████████████████████████████████| 74/74 [00:54<00:00,  1.37it/s]\n",
      "epoch 12 loss: 0.0638: 100%|███████████████████████████████████████████████████████████████████████| 19/19 [00:11<00:00,  1.65it/s]"
     ]
    },
    {
     "name": "stdout",
     "output_type": "stream",
     "text": [
      "Epoch [12], Train Loss : [0.00261] Val Loss : [0.06271] Val F1 Score : [0.98571]\n",
      " present score: 0.9857082350093787\n",
      "EarlyStopping counter: 3 out of 5\n",
      "Best F1 score from now: 0.9867030174355014\n",
      "Epoch 13/199\n"
     ]
    },
    {
     "name": "stderr",
     "output_type": "stream",
     "text": [
      "\n",
      "epoch 13 loss: 0.0028: 100%|███████████████████████████████████████████████████████████████████████| 74/74 [00:54<00:00,  1.35it/s]\n",
      "epoch 13 loss: 0.0612: 100%|███████████████████████████████████████████████████████████████████████| 19/19 [00:11<00:00,  1.62it/s]"
     ]
    },
    {
     "name": "stdout",
     "output_type": "stream",
     "text": [
      "Epoch [13], Train Loss : [0.00366] Val Loss : [0.05982] Val F1 Score : [0.98573]\n",
      " present score: 0.9857263372645328\n",
      "EarlyStopping counter: 4 out of 5\n",
      "Best F1 score from now: 0.9867030174355014\n",
      "Epoch 14/199\n"
     ]
    },
    {
     "name": "stderr",
     "output_type": "stream",
     "text": [
      "\n",
      "epoch 14 loss: 0.0025: 100%|███████████████████████████████████████████████████████████████████████| 74/74 [00:55<00:00,  1.34it/s]\n",
      "epoch 14 loss: 0.0664: 100%|███████████████████████████████████████████████████████████████████████| 19/19 [00:11<00:00,  1.62it/s]\n",
      "/home/hojun/miniconda3/envs/torch/lib/python3.10/site-packages/torchvision/models/_utils.py:208: UserWarning: The parameter 'pretrained' is deprecated since 0.13 and may be removed in the future, please use 'weights' instead.\n",
      "  warnings.warn(\n",
      "/home/hojun/miniconda3/envs/torch/lib/python3.10/site-packages/torchvision/models/_utils.py:223: UserWarning: Arguments other than a weight enum or `None` for 'weights' are deprecated since 0.13 and may be removed in the future. The current behavior is equivalent to passing `weights=ResNet152_Weights.IMAGENET1K_V1`. You can also use `weights=ResNet152_Weights.DEFAULT` to get the most up-to-date weights.\n",
      "  warnings.warn(msg)\n"
     ]
    },
    {
     "name": "stdout",
     "output_type": "stream",
     "text": [
      "Epoch [14], Train Loss : [0.00397] Val Loss : [0.06483] Val F1 Score : [0.98480]\n",
      " present score: 0.9848034484977161\n",
      "EarlyStopping counter: 5 out of 5\n",
      "Best F1 score from now: 0.9867030174355014\n",
      "stop called\n",
      "time : 0:17:04\n",
      "fold: 3, Best Epoch : 9/ 15\n",
      "Best Train Marco F1 : 0.99788\n",
      "[[2377    6]\n",
      " [   4 2338]]\n",
      "Best Valid Marco F1 : 0.98670\n",
      "[[778   6]\n",
      " [  8 389]]\n",
      "-----------------------------------------------------------------------\n",
      "Training start with fold: 4 epoch: 200 \n",
      "\n",
      "cls_cnts: 2\n",
      "num_samples:4725\n",
      "Fold: 4\n",
      "Epoch 0/199\n"
     ]
    },
    {
     "name": "stderr",
     "output_type": "stream",
     "text": [
      "epoch 0 loss: 0.4130: 100%|████████████████████████████████████████████████████████████████████████| 74/74 [00:55<00:00,  1.34it/s]\n",
      "epoch 0 loss: 0.0903: 100%|████████████████████████████████████████████████████████████████████████| 19/19 [00:11<00:00,  1.71it/s]"
     ]
    },
    {
     "name": "stdout",
     "output_type": "stream",
     "text": [
      "Epoch [0], Train Loss : [0.12559] Val Loss : [0.08878] Val F1 Score : [0.97204]\n",
      " present score: 0.9720420206413463\n",
      "Epoch 1/199\n"
     ]
    },
    {
     "name": "stderr",
     "output_type": "stream",
     "text": [
      "\n",
      "epoch 1 loss: 0.1462: 100%|████████████████████████████████████████████████████████████████████████| 74/74 [00:55<00:00,  1.34it/s]\n",
      "epoch 1 loss: 0.0796: 100%|████████████████████████████████████████████████████████████████████████| 19/19 [00:11<00:00,  1.71it/s]"
     ]
    },
    {
     "name": "stdout",
     "output_type": "stream",
     "text": [
      "Epoch [1], Train Loss : [0.06049] Val Loss : [0.07757] Val F1 Score : [0.97437]\n",
      " present score: 0.9743718338521334\n",
      "Epoch 2/199\n"
     ]
    },
    {
     "name": "stderr",
     "output_type": "stream",
     "text": [
      "\n",
      "epoch 2 loss: 0.0564: 100%|████████████████████████████████████████████████████████████████████████| 74/74 [00:55<00:00,  1.32it/s]\n",
      "epoch 2 loss: 0.0720: 100%|████████████████████████████████████████████████████████████████████████| 19/19 [00:11<00:00,  1.69it/s]"
     ]
    },
    {
     "name": "stdout",
     "output_type": "stream",
     "text": [
      "Epoch [2], Train Loss : [0.05260] Val Loss : [0.07336] Val F1 Score : [0.97306]\n",
      " present score: 0.9730602535275523\n",
      "EarlyStopping counter: 1 out of 5\n",
      "Best F1 score from now: 0.9743718338521334\n",
      "Epoch 3/199\n"
     ]
    },
    {
     "name": "stderr",
     "output_type": "stream",
     "text": [
      "\n",
      "epoch 3 loss: 0.0253: 100%|████████████████████████████████████████████████████████████████████████| 74/74 [00:56<00:00,  1.31it/s]\n",
      "epoch 3 loss: 0.0764: 100%|████████████████████████████████████████████████████████████████████████| 19/19 [00:11<00:00,  1.64it/s]"
     ]
    },
    {
     "name": "stdout",
     "output_type": "stream",
     "text": [
      "Epoch [3], Train Loss : [0.03797] Val Loss : [0.07429] Val F1 Score : [0.98390]\n",
      " present score: 0.9839036963693724\n",
      "Epoch 4/199\n"
     ]
    },
    {
     "name": "stderr",
     "output_type": "stream",
     "text": [
      "\n",
      "epoch 4 loss: 0.0375: 100%|████████████████████████████████████████████████████████████████████████| 74/74 [00:54<00:00,  1.35it/s]\n",
      "epoch 4 loss: 0.1288: 100%|████████████████████████████████████████████████████████████████████████| 19/19 [00:11<00:00,  1.63it/s]"
     ]
    },
    {
     "name": "stdout",
     "output_type": "stream",
     "text": [
      "Epoch [4], Train Loss : [0.03870] Val Loss : [0.12508] Val F1 Score : [0.95547]\n",
      " present score: 0.9554675716440424\n",
      "EarlyStopping counter: 1 out of 5\n",
      "Best F1 score from now: 0.9839036963693724\n",
      "Epoch 5/199\n"
     ]
    },
    {
     "name": "stderr",
     "output_type": "stream",
     "text": [
      "\n",
      "epoch 5 loss: 0.0295: 100%|████████████████████████████████████████████████████████████████████████| 74/74 [00:56<00:00,  1.32it/s]\n",
      "epoch 5 loss: 0.0605: 100%|████████████████████████████████████████████████████████████████████████| 19/19 [00:11<00:00,  1.64it/s]"
     ]
    },
    {
     "name": "stdout",
     "output_type": "stream",
     "text": [
      "Epoch [5], Train Loss : [0.02431] Val Loss : [0.05877] Val F1 Score : [0.98480]\n",
      " present score: 0.984803448497716\n",
      "Epoch 6/199\n"
     ]
    },
    {
     "name": "stderr",
     "output_type": "stream",
     "text": [
      "\n",
      "epoch 6 loss: 0.0447: 100%|████████████████████████████████████████████████████████████████████████| 74/74 [00:56<00:00,  1.30it/s]\n",
      "epoch 6 loss: 0.0636: 100%|████████████████████████████████████████████████████████████████████████| 19/19 [00:11<00:00,  1.70it/s]"
     ]
    },
    {
     "name": "stdout",
     "output_type": "stream",
     "text": [
      "Epoch [6], Train Loss : [0.01456] Val Loss : [0.06175] Val F1 Score : [0.98859]\n",
      " present score: 0.9885882693980095\n",
      "Epoch 7/199\n"
     ]
    },
    {
     "name": "stderr",
     "output_type": "stream",
     "text": [
      "\n",
      "epoch 7 loss: 0.0058: 100%|████████████████████████████████████████████████████████████████████████| 74/74 [00:55<00:00,  1.33it/s]\n",
      "epoch 7 loss: 0.0540: 100%|████████████████████████████████████████████████████████████████████████| 19/19 [00:10<00:00,  1.74it/s]"
     ]
    },
    {
     "name": "stdout",
     "output_type": "stream",
     "text": [
      "Epoch [7], Train Loss : [0.01097] Val Loss : [0.05246] Val F1 Score : [0.98857]\n",
      " present score: 0.9885738427105437\n",
      "EarlyStopping counter: 1 out of 5\n",
      "Best F1 score from now: 0.9885882693980095\n",
      "Epoch 8/199\n"
     ]
    },
    {
     "name": "stderr",
     "output_type": "stream",
     "text": [
      "\n",
      "epoch 8 loss: 0.0127: 100%|████████████████████████████████████████████████████████████████████████| 74/74 [00:54<00:00,  1.36it/s]\n",
      "epoch 8 loss: 0.0611: 100%|████████████████████████████████████████████████████████████████████████| 19/19 [00:10<00:00,  1.78it/s]"
     ]
    },
    {
     "name": "stdout",
     "output_type": "stream",
     "text": [
      "Epoch [8], Train Loss : [0.00950] Val Loss : [0.05935] Val F1 Score : [0.98386]\n",
      " present score: 0.9838637472402323\n",
      "EarlyStopping counter: 2 out of 5\n",
      "Best F1 score from now: 0.9885882693980095\n",
      "Epoch 9/199\n"
     ]
    },
    {
     "name": "stderr",
     "output_type": "stream",
     "text": [
      "\n",
      "epoch 9 loss: 0.0031: 100%|████████████████████████████████████████████████████████████████████████| 74/74 [00:55<00:00,  1.34it/s]\n",
      "epoch 9 loss: 0.0563: 100%|████████████████████████████████████████████████████████████████████████| 19/19 [00:11<00:00,  1.71it/s]"
     ]
    },
    {
     "name": "stdout",
     "output_type": "stream",
     "text": [
      "Epoch [9], Train Loss : [0.00492] Val Loss : [0.05469] Val F1 Score : [0.98761]\n",
      " present score: 0.9876138036747948\n",
      "EarlyStopping counter: 3 out of 5\n",
      "Best F1 score from now: 0.9885882693980095\n",
      "Epoch 10/199\n"
     ]
    },
    {
     "name": "stderr",
     "output_type": "stream",
     "text": [
      "\n",
      "epoch 10 loss: 0.0040: 100%|███████████████████████████████████████████████████████████████████████| 74/74 [00:56<00:00,  1.31it/s]\n",
      "epoch 10 loss: 0.0541: 100%|███████████████████████████████████████████████████████████████████████| 19/19 [00:11<00:00,  1.69it/s]"
     ]
    },
    {
     "name": "stdout",
     "output_type": "stream",
     "text": [
      "Epoch [10], Train Loss : [0.00553] Val Loss : [0.05254] Val F1 Score : [0.98672]\n",
      " present score: 0.9867195933789135\n",
      "EarlyStopping counter: 4 out of 5\n",
      "Best F1 score from now: 0.9885882693980095\n",
      "Epoch 11/199\n"
     ]
    },
    {
     "name": "stderr",
     "output_type": "stream",
     "text": [
      "\n",
      "epoch 11 loss: 0.0021: 100%|███████████████████████████████████████████████████████████████████████| 74/74 [00:56<00:00,  1.31it/s]\n",
      "epoch 11 loss: 0.0525: 100%|███████████████████████████████████████████████████████████████████████| 19/19 [00:10<00:00,  1.73it/s]"
     ]
    },
    {
     "name": "stdout",
     "output_type": "stream",
     "text": [
      "Epoch [11], Train Loss : [0.00337] Val Loss : [0.05099] Val F1 Score : [0.98765]\n",
      " present score: 0.9876450616861718\n",
      "EarlyStopping counter: 5 out of 5\n",
      "Best F1 score from now: 0.9885882693980095\n",
      "stop called\n",
      "time : 0:13:32\n",
      "fold: 4, Best Epoch : 6/ 12\n",
      "Best Train Marco F1 : 0.99640\n",
      "[[2368    7]\n",
      " [  10 2340]]\n",
      "Best Valid Marco F1 : 0.98859\n",
      "[[780   3]\n",
      " [  9 389]]\n",
      "-----------------------------------------------------------------------\n",
      "Best Fold F1 score: 0.9914358023587198 Top fold : 1\n"
     ]
    },
    {
     "name": "stderr",
     "output_type": "stream",
     "text": [
      "\n"
     ]
    }
   ],
   "source": [
    "if __name__ == '__main__':\n",
    "    seed_everything(CFG['seed'])\n",
    "    \n",
    "    # WANDB TRACKER INIT\n",
    "    wandb.init(project=project_name, entity=user)\n",
    "    wandb.config.update(CFG)\n",
    "    wandb.run.name = run_name\n",
    "    wandb.define_metric(\"Train Accuracy\", step_metric=\"epoch\")\n",
    "    wandb.define_metric(\"Valid Accuracy\", step_metric=\"epoch\")\n",
    "    wandb.define_metric(\"Train Loss\", step_metric=\"epoch\")\n",
    "    wandb.define_metric(\"Valid Loss\", step_metric=\"epoch\")\n",
    "    wandb.define_metric(\"Train Macro F1 Score\", step_metric=\"epoch\")\n",
    "    wandb.define_metric(\"Valid Macro F1 Score\", step_metric=\"epoch\")\n",
    "    wandb.define_metric(\"Train-Valid Accuracy\", step_metric=\"epoch\")\n",
    "    \n",
    "    model_dir = CFG['model_path'] + '/{}'.format(run_name)\n",
    "    train_dir = train.dir.values\n",
    "    best_fold = 0\n",
    "    best_f1 =0.0\n",
    "    print('Model: {}'.format(CFG['model']))\n",
    "    # MAKE MODEL DIR\n",
    "    if not os.path.isdir(model_dir):\n",
    "        os.makedirs(model_dir)\n",
    "    \n",
    "    # STRATIFIED K-FOLD DEFINITION\n",
    "    folds = StratifiedKFold(n_splits=CFG['fold_num'], shuffle=True, random_state=CFG['seed']).split(np.arange(train.shape[0]), train.label.values)\n",
    "    \n",
    "    # TEST PROCESS FOLD BREAK\n",
    "    for fold, (trn_idx, val_idx) in enumerate(folds):\n",
    "        print(f'Training start with fold: {fold} epoch: {CFG[\"epochs\"]} \\n')\n",
    "\n",
    "        # EARLY STOPPING DEFINITION\n",
    "        early_stopping = EarlyStopping(patience=CFG[\"patience\"], verbose=True)\n",
    "\n",
    "        # DATALOADER DEFINITION\n",
    "        train_loader, val_loader = prepare_dataloader(train, trn_idx, val_idx, data_root=train_dir)\n",
    "\n",
    "        # MODEL & DEVICE DEFINITION \n",
    "        device = torch.device(CFG['device'])\n",
    "        model =Teacher(CFG['model'], train.label.nunique(), pretrained=True)\n",
    "        \n",
    "        # MODEL FREEZING\n",
    "        #model.freezing(freeze = CFG['freezing'], trainable_layer = CFG['trainable_layer'])\n",
    "        if CFG['freezing'] ==True:\n",
    "            for name, param in model.named_parameters():\n",
    "                if param.requires_grad == True:\n",
    "                    print(f\"{name}: {param.requires_grad}\")\n",
    "\n",
    "        model.to(device)\n",
    "        # MODEL DATA PARALLEL\n",
    "        if torch.cuda.device_count() > 1:\n",
    "            model = nn.DataParallel(model)\n",
    "\n",
    "        scaler = torch.cuda.amp.GradScaler()   \n",
    "        optimizer = torch.optim.Adam(model.parameters(), lr=CFG['lr'])\n",
    "        scheduler = torch.optim.lr_scheduler.StepLR(optimizer, gamma=0.5, step_size=5)\n",
    "\n",
    "        # CRITERION (LOSS FUNCTION)\n",
    "        loss_tr = nn.CrossEntropyLoss().to(device) #MyCrossEntropyLoss().to(device)\n",
    "        loss_fn = nn.CrossEntropyLoss().to(device)\n",
    "\n",
    "        wandb.watch(model, loss_tr, log='all')\n",
    "        train_acc_list = []\n",
    "        train_matrix_list = []\n",
    "        train_f1_list = []\n",
    "        valid_acc_list = []\n",
    "        valid_matrix_list = []\n",
    "        valid_f1_list = []\n",
    "        \n",
    "\n",
    "        start = time.time()\n",
    "        print(f'Fold: {fold}')\n",
    "        for epoch in range(CFG['epochs']):\n",
    "            print('Epoch {}/{}'.format(epoch, CFG['epochs'] - 1))\n",
    "\n",
    "            # TRAINIG\n",
    "            train_preds_all, train_acc, train_loss, train_matrix, train_f1 = train_one_epoch(epoch, model, loss_tr,\n",
    "                                                                        optimizer, train_loader, device, scheduler=scheduler)\n",
    "            wandb.log({'Train Accuracy':train_acc, 'Train Loss' : train_loss, 'Train F1': train_f1, 'epoch' : epoch})\n",
    "\n",
    "            # VALIDATION\n",
    "            with torch.no_grad():\n",
    "                valid_preds_all, valid_acc, valid_loss, valid_matrix, valid_f1= valid_one_epoch(epoch, model, loss_fn,\n",
    "                                                                        val_loader, device, scheduler=None)\n",
    "                wandb.log({'Valid Accuracy':valid_acc, 'Valid Loss' : valid_loss, 'Valid F1': valid_f1 ,'epoch' : epoch})\n",
    "            print(f'Epoch [{epoch}], Train Loss : [{train_loss :.5f}] Val Loss : [{valid_loss :.5f}] Val F1 Score : [{valid_f1:.5f}]')\n",
    "            \n",
    "            # SAVE ALL RESULTS\n",
    "            train_acc_list.append(train_acc)\n",
    "            train_matrix_list.append(train_matrix)\n",
    "            train_f1_list.append(train_f1)\n",
    "\n",
    "            valid_acc_list.append(valid_acc)\n",
    "            valid_matrix_list.append(valid_matrix)\n",
    "            valid_f1_list.append(valid_f1)\n",
    "\n",
    "            # MODEL SAVE (THE BEST MODEL OF ALL OF FOLD PROCESS)\n",
    "            if valid_f1 > best_f1:\n",
    "                best_f1 = valid_f1\n",
    "                best_epoch = epoch\n",
    "                # SAVE WITH DATAPARARELLEL WRAPPER\n",
    "                #torch.save(model.state_dict(), (model_dir+'/{}.pth').format(CFG['model']))\n",
    "                # SAVE WITHOUT DATAPARARELLEL WRAPPER\n",
    "                torch.save(model.module.state_dict(), (model_dir+'/{}.pth').format(CFG['model']))\n",
    "\n",
    "            # EARLY STOPPING\n",
    "            stop = early_stopping(valid_f1)\n",
    "            if stop:\n",
    "                print(\"stop called\")   \n",
    "                break\n",
    "\n",
    "        end = time.time() - start\n",
    "        time_ = str(datetime.timedelta(seconds=end)).split(\".\")[0]\n",
    "        print(\"time :\", time_)\n",
    "\n",
    "        # PRINT BEST F1 SCORE MODEL OF FOLD\n",
    "        best_index = valid_f1_list.index(max(valid_f1_list))\n",
    "        print(f'fold: {fold}, Best Epoch : {best_index}/ {len(valid_f1_list)}')\n",
    "        print(f'Best Train Marco F1 : {train_f1_list[best_index]:.5f}')\n",
    "        print(train_matrix_list[best_index])\n",
    "        print(f'Best Valid Marco F1 : {valid_f1_list[best_index]:.5f}')\n",
    "        print(valid_matrix_list[best_index])\n",
    "        print('-----------------------------------------------------------------------')\n",
    "\n",
    "        # K-FOLD END\n",
    "        if valid_f1_list[best_index] > best_fold:\n",
    "            best_fold = valid_f1_list[best_index]\n",
    "            top_fold = fold\n",
    "    print(f'Best Fold F1 score: {best_fold} Top fold : {top_fold}')\n"
   ]
  },
  {
   "cell_type": "code",
   "execution_count": 18,
   "id": "93dba2e1-92a8-4e81-89e8-17005fb81bbd",
   "metadata": {},
   "outputs": [
    {
     "data": {
      "text/html": [
       "<div>\n",
       "<style scoped>\n",
       "    .dataframe tbody tr th:only-of-type {\n",
       "        vertical-align: middle;\n",
       "    }\n",
       "\n",
       "    .dataframe tbody tr th {\n",
       "        vertical-align: top;\n",
       "    }\n",
       "\n",
       "    .dataframe thead th {\n",
       "        text-align: right;\n",
       "    }\n",
       "</style>\n",
       "<table border=\"1\" class=\"dataframe\">\n",
       "  <thead>\n",
       "    <tr style=\"text-align: right;\">\n",
       "      <th></th>\n",
       "      <th>image_id</th>\n",
       "      <th>dir</th>\n",
       "      <th>label</th>\n",
       "    </tr>\n",
       "  </thead>\n",
       "  <tbody>\n",
       "    <tr>\n",
       "      <th>0</th>\n",
       "      <td>0282.jpg</td>\n",
       "      <td>../Data/carbon_reduction_data/test/10Kwalk</td>\n",
       "      <td>0</td>\n",
       "    </tr>\n",
       "    <tr>\n",
       "      <th>1</th>\n",
       "      <td>0466.jpg</td>\n",
       "      <td>../Data/carbon_reduction_data/test/10Kwalk</td>\n",
       "      <td>0</td>\n",
       "    </tr>\n",
       "    <tr>\n",
       "      <th>2</th>\n",
       "      <td>0190.jpg</td>\n",
       "      <td>../Data/carbon_reduction_data/test/10Kwalk</td>\n",
       "      <td>0</td>\n",
       "    </tr>\n",
       "    <tr>\n",
       "      <th>3</th>\n",
       "      <td>0234.jpg</td>\n",
       "      <td>../Data/carbon_reduction_data/test/10Kwalk</td>\n",
       "      <td>0</td>\n",
       "    </tr>\n",
       "    <tr>\n",
       "      <th>4</th>\n",
       "      <td>0392.jpg</td>\n",
       "      <td>../Data/carbon_reduction_data/test/10Kwalk</td>\n",
       "      <td>0</td>\n",
       "    </tr>\n",
       "    <tr>\n",
       "      <th>...</th>\n",
       "      <td>...</td>\n",
       "      <td>...</td>\n",
       "      <td>...</td>\n",
       "    </tr>\n",
       "    <tr>\n",
       "      <th>13688</th>\n",
       "      <td>0381.jpg</td>\n",
       "      <td>../Data/carbon_reduction_data/test/wrap</td>\n",
       "      <td>18</td>\n",
       "    </tr>\n",
       "    <tr>\n",
       "      <th>13689</th>\n",
       "      <td>0236.jpg</td>\n",
       "      <td>../Data/carbon_reduction_data/test/wrap</td>\n",
       "      <td>18</td>\n",
       "    </tr>\n",
       "    <tr>\n",
       "      <th>13690</th>\n",
       "      <td>0384.jpg</td>\n",
       "      <td>../Data/carbon_reduction_data/test/wrap</td>\n",
       "      <td>18</td>\n",
       "    </tr>\n",
       "    <tr>\n",
       "      <th>13691</th>\n",
       "      <td>0074.jpg</td>\n",
       "      <td>../Data/carbon_reduction_data/test/wrap</td>\n",
       "      <td>18</td>\n",
       "    </tr>\n",
       "    <tr>\n",
       "      <th>13692</th>\n",
       "      <td>0011.jpg</td>\n",
       "      <td>../Data/carbon_reduction_data/test/wrap</td>\n",
       "      <td>18</td>\n",
       "    </tr>\n",
       "  </tbody>\n",
       "</table>\n",
       "<p>13693 rows × 3 columns</p>\n",
       "</div>"
      ],
      "text/plain": [
       "       image_id                                         dir  label\n",
       "0      0282.jpg  ../Data/carbon_reduction_data/test/10Kwalk      0\n",
       "1      0466.jpg  ../Data/carbon_reduction_data/test/10Kwalk      0\n",
       "2      0190.jpg  ../Data/carbon_reduction_data/test/10Kwalk      0\n",
       "3      0234.jpg  ../Data/carbon_reduction_data/test/10Kwalk      0\n",
       "4      0392.jpg  ../Data/carbon_reduction_data/test/10Kwalk      0\n",
       "...         ...                                         ...    ...\n",
       "13688  0381.jpg     ../Data/carbon_reduction_data/test/wrap     18\n",
       "13689  0236.jpg     ../Data/carbon_reduction_data/test/wrap     18\n",
       "13690  0384.jpg     ../Data/carbon_reduction_data/test/wrap     18\n",
       "13691  0074.jpg     ../Data/carbon_reduction_data/test/wrap     18\n",
       "13692  0011.jpg     ../Data/carbon_reduction_data/test/wrap     18\n",
       "\n",
       "[13693 rows x 3 columns]"
      ]
     },
     "execution_count": 18,
     "metadata": {},
     "output_type": "execute_result"
    }
   ],
   "source": [
    "test"
   ]
  },
  {
   "cell_type": "code",
   "execution_count": 18,
   "id": "681ed966-953b-4533-a9b5-1438c1bb27de",
   "metadata": {},
   "outputs": [],
   "source": [
    "########################## inference #############################\n",
    "def inference(model, data_loader, device):\n",
    "    model.eval()\n",
    "    image_preds_all = []\n",
    "    \n",
    "    pbar = tqdm(enumerate(data_loader), total=len(data_loader))\n",
    "    for step, (imgs) in pbar:\n",
    "        imgs = imgs.to(device).float()\n",
    "\n",
    "        image_preds = model(imgs)   #output = model(input)\n",
    "        image_preds_all += [torch.softmax(image_preds, 1).detach().cpu().numpy()]\n",
    "    \n",
    "    image_preds_all = np.concatenate(image_preds_all, axis=0)\n",
    "    return image_preds_all"
   ]
  },
  {
   "cell_type": "code",
   "execution_count": 19,
   "id": "1f910c08-4857-43b4-b499-b5a7d799e5b0",
   "metadata": {},
   "outputs": [
    {
     "name": "stderr",
     "output_type": "stream",
     "text": [
      "/home/hojun/miniconda3/envs/torch/lib/python3.10/site-packages/torchvision/models/_utils.py:208: UserWarning: The parameter 'pretrained' is deprecated since 0.13 and may be removed in the future, please use 'weights' instead.\n",
      "  warnings.warn(\n",
      "/home/hojun/miniconda3/envs/torch/lib/python3.10/site-packages/torchvision/models/_utils.py:223: UserWarning: Arguments other than a weight enum or `None` for 'weights' are deprecated since 0.13 and may be removed in the future. The current behavior is equivalent to passing `weights=ResNet152_Weights.IMAGENET1K_V1`. You can also use `weights=ResNet152_Weights.DEFAULT` to get the most up-to-date weights.\n",
      "  warnings.warn(msg)\n",
      "100%|██████████████████████████████████████████████████████████████████████████████████████████████| 31/31 [00:18<00:00,  1.68it/s]\n"
     ]
    },
    {
     "data": {
      "text/html": [
       "<div>\n",
       "<style scoped>\n",
       "    .dataframe tbody tr th:only-of-type {\n",
       "        vertical-align: middle;\n",
       "    }\n",
       "\n",
       "    .dataframe tbody tr th {\n",
       "        vertical-align: top;\n",
       "    }\n",
       "\n",
       "    .dataframe thead th {\n",
       "        text-align: right;\n",
       "    }\n",
       "</style>\n",
       "<table border=\"1\" class=\"dataframe\">\n",
       "  <thead>\n",
       "    <tr style=\"text-align: right;\">\n",
       "      <th></th>\n",
       "      <th>image_id</th>\n",
       "      <th>dir</th>\n",
       "      <th>label</th>\n",
       "      <th>pred</th>\n",
       "    </tr>\n",
       "  </thead>\n",
       "  <tbody>\n",
       "    <tr>\n",
       "      <th>0</th>\n",
       "      <td>0720.jpg</td>\n",
       "      <td>../Data/carbon_reduction_data/bin/test/box</td>\n",
       "      <td>0</td>\n",
       "      <td>0</td>\n",
       "    </tr>\n",
       "    <tr>\n",
       "      <th>1</th>\n",
       "      <td>0282.jpg</td>\n",
       "      <td>../Data/carbon_reduction_data/bin/test/box</td>\n",
       "      <td>0</td>\n",
       "      <td>0</td>\n",
       "    </tr>\n",
       "    <tr>\n",
       "      <th>2</th>\n",
       "      <td>1028.jpg</td>\n",
       "      <td>../Data/carbon_reduction_data/bin/test/box</td>\n",
       "      <td>0</td>\n",
       "      <td>0</td>\n",
       "    </tr>\n",
       "    <tr>\n",
       "      <th>3</th>\n",
       "      <td>0540.jpg</td>\n",
       "      <td>../Data/carbon_reduction_data/bin/test/box</td>\n",
       "      <td>0</td>\n",
       "      <td>0</td>\n",
       "    </tr>\n",
       "    <tr>\n",
       "      <th>4</th>\n",
       "      <td>0466.jpg</td>\n",
       "      <td>../Data/carbon_reduction_data/bin/test/box</td>\n",
       "      <td>0</td>\n",
       "      <td>0</td>\n",
       "    </tr>\n",
       "    <tr>\n",
       "      <th>...</th>\n",
       "      <td>...</td>\n",
       "      <td>...</td>\n",
       "      <td>...</td>\n",
       "      <td>...</td>\n",
       "    </tr>\n",
       "    <tr>\n",
       "      <th>1965</th>\n",
       "      <td>0384.jpg</td>\n",
       "      <td>../Data/carbon_reduction_data/bin/test/untapedBox</td>\n",
       "      <td>1</td>\n",
       "      <td>1</td>\n",
       "    </tr>\n",
       "    <tr>\n",
       "      <th>1966</th>\n",
       "      <td>0074.jpg</td>\n",
       "      <td>../Data/carbon_reduction_data/bin/test/untapedBox</td>\n",
       "      <td>1</td>\n",
       "      <td>1</td>\n",
       "    </tr>\n",
       "    <tr>\n",
       "      <th>1967</th>\n",
       "      <td>0515.jpg</td>\n",
       "      <td>../Data/carbon_reduction_data/bin/test/untapedBox</td>\n",
       "      <td>1</td>\n",
       "      <td>1</td>\n",
       "    </tr>\n",
       "    <tr>\n",
       "      <th>1968</th>\n",
       "      <td>0011.jpg</td>\n",
       "      <td>../Data/carbon_reduction_data/bin/test/untapedBox</td>\n",
       "      <td>1</td>\n",
       "      <td>1</td>\n",
       "    </tr>\n",
       "    <tr>\n",
       "      <th>1969</th>\n",
       "      <td>0611.jpg</td>\n",
       "      <td>../Data/carbon_reduction_data/bin/test/untapedBox</td>\n",
       "      <td>1</td>\n",
       "      <td>1</td>\n",
       "    </tr>\n",
       "  </tbody>\n",
       "</table>\n",
       "<p>1970 rows × 4 columns</p>\n",
       "</div>"
      ],
      "text/plain": [
       "      image_id                                                dir  label  pred\n",
       "0     0720.jpg         ../Data/carbon_reduction_data/bin/test/box      0     0\n",
       "1     0282.jpg         ../Data/carbon_reduction_data/bin/test/box      0     0\n",
       "2     1028.jpg         ../Data/carbon_reduction_data/bin/test/box      0     0\n",
       "3     0540.jpg         ../Data/carbon_reduction_data/bin/test/box      0     0\n",
       "4     0466.jpg         ../Data/carbon_reduction_data/bin/test/box      0     0\n",
       "...        ...                                                ...    ...   ...\n",
       "1965  0384.jpg  ../Data/carbon_reduction_data/bin/test/untapedBox      1     1\n",
       "1966  0074.jpg  ../Data/carbon_reduction_data/bin/test/untapedBox      1     1\n",
       "1967  0515.jpg  ../Data/carbon_reduction_data/bin/test/untapedBox      1     1\n",
       "1968  0011.jpg  ../Data/carbon_reduction_data/bin/test/untapedBox      1     1\n",
       "1969  0611.jpg  ../Data/carbon_reduction_data/bin/test/untapedBox      1     1\n",
       "\n",
       "[1970 rows x 4 columns]"
      ]
     },
     "execution_count": 19,
     "metadata": {},
     "output_type": "execute_result"
    }
   ],
   "source": [
    "# RUN INFERENCE\n",
    "model = Teacher(CFG['model'], test.label.nunique(), pretrained=True)\n",
    "load_model = CFG['model_path'] + '/KD_resnet152_box_202305191256/' + CFG['model'] + '.pth'\n",
    "test_dir = test.dir.values\n",
    "\n",
    "tst_ds = CustomDataset(test, test_dir, transform=transform_test, output_label=False)\n",
    "tst_loader = torch.utils.data.DataLoader(\n",
    "    tst_ds, \n",
    "    batch_size=CFG['train_bs'],\n",
    "    num_workers=CFG['num_workers'],\n",
    "    shuffle=False,\n",
    "    pin_memory=True\n",
    ")\n",
    "device = torch.device(CFG['device'])\n",
    "\n",
    "# INFERENCE VIA MULTI-GPU\n",
    "# if torch.cuda.device_count() > 1:\n",
    "#         model = nn.DataParallel(model)\n",
    "model.to(device)\n",
    "\n",
    "# RUN INFERENCE\n",
    "predictions = []\n",
    "model.load_state_dict(torch.load(load_model))\n",
    "with torch.no_grad():\n",
    "    predictions += [inference(model, tst_loader, device)]\n",
    "\n",
    "\n",
    "predictions = np.mean(predictions, axis=0) \n",
    "test['pred'] = np.argmax(predictions, axis=1)\n",
    "test"
   ]
  },
  {
   "cell_type": "code",
   "execution_count": 20,
   "id": "6dc9d547-6d2c-4d13-95c6-f9baf6e0f5da",
   "metadata": {},
   "outputs": [
    {
     "data": {
      "text/html": [
       "<div>\n",
       "<style scoped>\n",
       "    .dataframe tbody tr th:only-of-type {\n",
       "        vertical-align: middle;\n",
       "    }\n",
       "\n",
       "    .dataframe tbody tr th {\n",
       "        vertical-align: top;\n",
       "    }\n",
       "\n",
       "    .dataframe thead th {\n",
       "        text-align: right;\n",
       "    }\n",
       "</style>\n",
       "<table border=\"1\" class=\"dataframe\">\n",
       "  <thead>\n",
       "    <tr style=\"text-align: right;\">\n",
       "      <th></th>\n",
       "      <th>image_id</th>\n",
       "      <th>dir</th>\n",
       "      <th>label</th>\n",
       "      <th>pred</th>\n",
       "    </tr>\n",
       "  </thead>\n",
       "  <tbody>\n",
       "    <tr>\n",
       "      <th>0</th>\n",
       "      <td>0720.jpg</td>\n",
       "      <td>../Data/carbon_reduction_data/bin/test/box</td>\n",
       "      <td>box</td>\n",
       "      <td>box</td>\n",
       "    </tr>\n",
       "    <tr>\n",
       "      <th>1</th>\n",
       "      <td>0282.jpg</td>\n",
       "      <td>../Data/carbon_reduction_data/bin/test/box</td>\n",
       "      <td>box</td>\n",
       "      <td>box</td>\n",
       "    </tr>\n",
       "    <tr>\n",
       "      <th>2</th>\n",
       "      <td>1028.jpg</td>\n",
       "      <td>../Data/carbon_reduction_data/bin/test/box</td>\n",
       "      <td>box</td>\n",
       "      <td>box</td>\n",
       "    </tr>\n",
       "    <tr>\n",
       "      <th>3</th>\n",
       "      <td>0540.jpg</td>\n",
       "      <td>../Data/carbon_reduction_data/bin/test/box</td>\n",
       "      <td>box</td>\n",
       "      <td>box</td>\n",
       "    </tr>\n",
       "    <tr>\n",
       "      <th>4</th>\n",
       "      <td>0466.jpg</td>\n",
       "      <td>../Data/carbon_reduction_data/bin/test/box</td>\n",
       "      <td>box</td>\n",
       "      <td>box</td>\n",
       "    </tr>\n",
       "    <tr>\n",
       "      <th>...</th>\n",
       "      <td>...</td>\n",
       "      <td>...</td>\n",
       "      <td>...</td>\n",
       "      <td>...</td>\n",
       "    </tr>\n",
       "    <tr>\n",
       "      <th>1965</th>\n",
       "      <td>0384.jpg</td>\n",
       "      <td>../Data/carbon_reduction_data/bin/test/untapedBox</td>\n",
       "      <td>untapedBox</td>\n",
       "      <td>untapedBox</td>\n",
       "    </tr>\n",
       "    <tr>\n",
       "      <th>1966</th>\n",
       "      <td>0074.jpg</td>\n",
       "      <td>../Data/carbon_reduction_data/bin/test/untapedBox</td>\n",
       "      <td>untapedBox</td>\n",
       "      <td>untapedBox</td>\n",
       "    </tr>\n",
       "    <tr>\n",
       "      <th>1967</th>\n",
       "      <td>0515.jpg</td>\n",
       "      <td>../Data/carbon_reduction_data/bin/test/untapedBox</td>\n",
       "      <td>untapedBox</td>\n",
       "      <td>untapedBox</td>\n",
       "    </tr>\n",
       "    <tr>\n",
       "      <th>1968</th>\n",
       "      <td>0011.jpg</td>\n",
       "      <td>../Data/carbon_reduction_data/bin/test/untapedBox</td>\n",
       "      <td>untapedBox</td>\n",
       "      <td>untapedBox</td>\n",
       "    </tr>\n",
       "    <tr>\n",
       "      <th>1969</th>\n",
       "      <td>0611.jpg</td>\n",
       "      <td>../Data/carbon_reduction_data/bin/test/untapedBox</td>\n",
       "      <td>untapedBox</td>\n",
       "      <td>untapedBox</td>\n",
       "    </tr>\n",
       "  </tbody>\n",
       "</table>\n",
       "<p>1970 rows × 4 columns</p>\n",
       "</div>"
      ],
      "text/plain": [
       "      image_id                                                dir       label  \\\n",
       "0     0720.jpg         ../Data/carbon_reduction_data/bin/test/box         box   \n",
       "1     0282.jpg         ../Data/carbon_reduction_data/bin/test/box         box   \n",
       "2     1028.jpg         ../Data/carbon_reduction_data/bin/test/box         box   \n",
       "3     0540.jpg         ../Data/carbon_reduction_data/bin/test/box         box   \n",
       "4     0466.jpg         ../Data/carbon_reduction_data/bin/test/box         box   \n",
       "...        ...                                                ...         ...   \n",
       "1965  0384.jpg  ../Data/carbon_reduction_data/bin/test/untapedBox  untapedBox   \n",
       "1966  0074.jpg  ../Data/carbon_reduction_data/bin/test/untapedBox  untapedBox   \n",
       "1967  0515.jpg  ../Data/carbon_reduction_data/bin/test/untapedBox  untapedBox   \n",
       "1968  0011.jpg  ../Data/carbon_reduction_data/bin/test/untapedBox  untapedBox   \n",
       "1969  0611.jpg  ../Data/carbon_reduction_data/bin/test/untapedBox  untapedBox   \n",
       "\n",
       "            pred  \n",
       "0            box  \n",
       "1            box  \n",
       "2            box  \n",
       "3            box  \n",
       "4            box  \n",
       "...          ...  \n",
       "1965  untapedBox  \n",
       "1966  untapedBox  \n",
       "1967  untapedBox  \n",
       "1968  untapedBox  \n",
       "1969  untapedBox  \n",
       "\n",
       "[1970 rows x 4 columns]"
      ]
     },
     "execution_count": 20,
     "metadata": {},
     "output_type": "execute_result"
    }
   ],
   "source": [
    "test['label'] = le.inverse_transform(test['label'].values)\n",
    "test['pred'] = le.inverse_transform(test['pred'].values)\n",
    "test"
   ]
  },
  {
   "cell_type": "code",
   "execution_count": 21,
   "id": "da647547-7a7b-4690-94df-bb42ca426f3c",
   "metadata": {},
   "outputs": [
    {
     "name": "stdout",
     "output_type": "stream",
     "text": [
      "accuracy: 0.9863\n",
      "f1_score: 0.9846\n"
     ]
    },
    {
     "data": {
      "image/png": "[encoded data removed]",
      "text/plain": [
       "<Figure size 1500x1000 with 2 Axes>"
      ]
     },
     "metadata": {},
     "output_type": "display_data"
    }
   ],
   "source": [
    "import seaborn as sns\n",
    "\n",
    "test_acc = np.sum(test.label == test.pred) / len(test)\n",
    "test_matrix = confusion_matrix(test['label'], test['pred'])\n",
    "epoch_f1 = f1_score(test['label'], test['pred'], average='macro')\n",
    "print(f'accuracy: {test_acc:.4f}')\n",
    "print(f'f1_score: {epoch_f1:.4f}')\n",
    "\n",
    "test_matrix = confusion_matrix(test['label'], test['pred'], normalize='true')\n",
    "#test_matrix = confusion_matrix(test['label'], test['pred'])\n",
    "\n",
    "plt.figure(figsize = (15,10))\n",
    "sns.heatmap(test_matrix, \n",
    "            annot=True, \n",
    "            xticklabels = sorted(set(test['label'])), \n",
    "            yticklabels = sorted(set(test['label'])),\n",
    "            )\n",
    "plt.title('Normalized Confusion Matrix')\n",
    "plt.show()\n",
    "\n",
    "#print(f'confusion_matrix \\n-------------------------\\n {test_matrix}')"
   ]
  },
  {
   "cell_type": "code",
   "execution_count": 23,
   "id": "ab89fde5-9498-4a99-8bb8-4af301e4a6ce",
   "metadata": {},
   "outputs": [],
   "source": [
    "test.to_csv('test_result/incep_res_0403.csv', index=False)"
   ]
  },
  {
   "cell_type": "code",
   "execution_count": 22,
   "id": "d8cbfb49-98dd-4d2f-a778-21764270d9c8",
   "metadata": {},
   "outputs": [],
   "source": [
    "import json\n",
    "import jsonlines\n",
    "import os\n",
    "import pandas as pd\n",
    "import matplotlib.pyplot as plt\n",
    "import cv2\n",
    "from PIL import Image\n",
    "import numpy as np\n",
    "import random"
   ]
  },
  {
   "cell_type": "code",
   "execution_count": 23,
   "id": "3d9a4c94-8eb0-49f1-9e94-d412533a498b",
   "metadata": {},
   "outputs": [
    {
     "data": {
      "text/plain": [
       "bottle            1229\n",
       "dishes            1163\n",
       "stairs             806\n",
       "else               597\n",
       "plug               593\n",
       "battery            501\n",
       "transportation     458\n",
       "handkerchief       443\n",
       "10Kwalk            411\n",
       "pet                410\n",
       "shopping bag       409\n",
       "box                382\n",
       "paper              374\n",
       "milk               371\n",
       "trash picking      325\n",
       "receipt            288\n",
       "Name: pred, dtype: int64"
      ]
     },
     "execution_count": 23,
     "metadata": {},
     "output_type": "execute_result"
    }
   ],
   "source": [
    "test['pred'].value_counts()"
   ]
  },
  {
   "cell_type": "code",
   "execution_count": 24,
   "id": "fe7bc385-c882-4830-81f9-e6494fab928d",
   "metadata": {},
   "outputs": [
    {
     "name": "stderr",
     "output_type": "stream",
     "text": [
      "/tmp/ipykernel_1475945/30508609.py:4: SettingWithCopyWarning: \n",
      "A value is trying to be set on a copy of a slice from a DataFrame\n",
      "\n",
      "See the caveats in the documentation: https://pandas.pydata.org/pandas-docs/stable/user_guide/indexing.html#returning-a-view-versus-a-copy\n",
      "  label.sort_values(by=['image_id'],ascending=True, inplace=True)\n"
     ]
    },
    {
     "data": {
      "text/html": [
       "<div>\n",
       "<style scoped>\n",
       "    .dataframe tbody tr th:only-of-type {\n",
       "        vertical-align: middle;\n",
       "    }\n",
       "\n",
       "    .dataframe tbody tr th {\n",
       "        vertical-align: top;\n",
       "    }\n",
       "\n",
       "    .dataframe thead th {\n",
       "        text-align: right;\n",
       "    }\n",
       "</style>\n",
       "<table border=\"1\" class=\"dataframe\">\n",
       "  <thead>\n",
       "    <tr style=\"text-align: right;\">\n",
       "      <th></th>\n",
       "      <th>image_id</th>\n",
       "      <th>dir</th>\n",
       "      <th>label</th>\n",
       "      <th>pred</th>\n",
       "    </tr>\n",
       "  </thead>\n",
       "  <tbody>\n",
       "    <tr>\n",
       "      <th>0</th>\n",
       "      <td>10Kwalk_1047.jpg</td>\n",
       "      <td>../Data/carbon_data/10Kwalk</td>\n",
       "      <td>10Kwalk</td>\n",
       "      <td>else</td>\n",
       "    </tr>\n",
       "    <tr>\n",
       "      <th>1</th>\n",
       "      <td>10Kwalk_1174.jpg</td>\n",
       "      <td>../Data/carbon_data/10Kwalk</td>\n",
       "      <td>10Kwalk</td>\n",
       "      <td>else</td>\n",
       "    </tr>\n",
       "    <tr>\n",
       "      <th>2</th>\n",
       "      <td>16583193231991658319380893.jpg</td>\n",
       "      <td>../Data/carbon_data/else/instance_spoon</td>\n",
       "      <td>else</td>\n",
       "      <td>else</td>\n",
       "    </tr>\n",
       "    <tr>\n",
       "      <th>3</th>\n",
       "      <td>16583311864571658331260534.jpg</td>\n",
       "      <td>../Data/carbon_data/else/instance_spoon</td>\n",
       "      <td>else</td>\n",
       "      <td>else</td>\n",
       "    </tr>\n",
       "    <tr>\n",
       "      <th>4</th>\n",
       "      <td>20220722_125118_HDR1658461897787.jpg</td>\n",
       "      <td>../Data/carbon_data/else/instance_spoon</td>\n",
       "      <td>else</td>\n",
       "      <td>else</td>\n",
       "    </tr>\n",
       "    <tr>\n",
       "      <th>...</th>\n",
       "      <td>...</td>\n",
       "      <td>...</td>\n",
       "      <td>...</td>\n",
       "      <td>...</td>\n",
       "    </tr>\n",
       "    <tr>\n",
       "      <th>592</th>\n",
       "      <td>wrap_990.jpg</td>\n",
       "      <td>../Data/carbon_data/dishes/wrap</td>\n",
       "      <td>dishes</td>\n",
       "      <td>else</td>\n",
       "    </tr>\n",
       "    <tr>\n",
       "      <th>593</th>\n",
       "      <td>wrap_995.jpg</td>\n",
       "      <td>../Data/carbon_data/dishes/wrap</td>\n",
       "      <td>dishes</td>\n",
       "      <td>else</td>\n",
       "    </tr>\n",
       "    <tr>\n",
       "      <th>594</th>\n",
       "      <td>양치컵 사용_063.jpg</td>\n",
       "      <td>../Data/carbon_data/bottle/toothcup/toothcup_852</td>\n",
       "      <td>bottle</td>\n",
       "      <td>else</td>\n",
       "    </tr>\n",
       "    <tr>\n",
       "      <th>595</th>\n",
       "      <td>양치컵 사용_140.jpg</td>\n",
       "      <td>../Data/carbon_data/bottle/toothcup/toothcup_852</td>\n",
       "      <td>bottle</td>\n",
       "      <td>else</td>\n",
       "    </tr>\n",
       "    <tr>\n",
       "      <th>596</th>\n",
       "      <td>양치컵 사용_175.jpg</td>\n",
       "      <td>../Data/carbon_data/bottle/toothcup/toothcup_852</td>\n",
       "      <td>bottle</td>\n",
       "      <td>else</td>\n",
       "    </tr>\n",
       "  </tbody>\n",
       "</table>\n",
       "<p>597 rows × 4 columns</p>\n",
       "</div>"
      ],
      "text/plain": [
       "                                 image_id  \\\n",
       "0                        10Kwalk_1047.jpg   \n",
       "1                        10Kwalk_1174.jpg   \n",
       "2          16583193231991658319380893.jpg   \n",
       "3          16583311864571658331260534.jpg   \n",
       "4    20220722_125118_HDR1658461897787.jpg   \n",
       "..                                    ...   \n",
       "592                          wrap_990.jpg   \n",
       "593                          wrap_995.jpg   \n",
       "594                        양치컵 사용_063.jpg   \n",
       "595                        양치컵 사용_140.jpg   \n",
       "596                        양치컵 사용_175.jpg   \n",
       "\n",
       "                                                  dir    label  pred  \n",
       "0                         ../Data/carbon_data/10Kwalk  10Kwalk  else  \n",
       "1                         ../Data/carbon_data/10Kwalk  10Kwalk  else  \n",
       "2             ../Data/carbon_data/else/instance_spoon     else  else  \n",
       "3             ../Data/carbon_data/else/instance_spoon     else  else  \n",
       "4             ../Data/carbon_data/else/instance_spoon     else  else  \n",
       "..                                                ...      ...   ...  \n",
       "592                   ../Data/carbon_data/dishes/wrap   dishes  else  \n",
       "593                   ../Data/carbon_data/dishes/wrap   dishes  else  \n",
       "594  ../Data/carbon_data/bottle/toothcup/toothcup_852   bottle  else  \n",
       "595  ../Data/carbon_data/bottle/toothcup/toothcup_852   bottle  else  \n",
       "596  ../Data/carbon_data/bottle/toothcup/toothcup_852   bottle  else  \n",
       "\n",
       "[597 rows x 4 columns]"
      ]
     },
     "execution_count": 24,
     "metadata": {},
     "output_type": "execute_result"
    }
   ],
   "source": [
    "tmp_list = []\n",
    "label = test[test.pred == 'else']\n",
    "\n",
    "label.sort_values(by=['image_id'],ascending=True, inplace=True)\n",
    "label.reset_index(inplace=True, drop=True)\n",
    "tmp = label['image_id'].value_counts().index.sort_values()\n",
    "label"
   ]
  },
  {
   "cell_type": "code",
   "execution_count": null,
   "id": "b5ab3b8b-043d-4d3b-b14f-13564a985766",
   "metadata": {},
   "outputs": [],
   "source": [
    "## show img status\n",
    "\n",
    "back = 0\n",
    "plt.figure(figsize=(16,500))\n",
    "for i in range(len(label[200:400])):\n",
    "    plt.subplot(100,4,i+1)\n",
    "    if i % 4 == 0:\n",
    "        plt.title(f\"{(i+1+back)/4}\")\n",
    "    plt.xticks([])\n",
    "    plt.yticks([])\n",
    "    plt.grid(False)\n",
    "        \n",
    "    path = label['dir'][i] + '/' + label['image_id'][i]\n",
    "    try:\n",
    "    # im_bgr = cv2.imread(path)\n",
    "    # im_rgb = im_bgr[:, :, ::-1]\n",
    "        temp = Image.open(path).convert(\"RGB\")\n",
    "        image = np.array(temp).copy()\n",
    "        temp.close()\n",
    "\n",
    "        plt.imshow(image, cmap=plt.cm.binary)\n",
    "        plt.xlabel(label['image_id'][i], loc='left', fontsize=10)\n",
    "    except:\n",
    "        plt.xlabel(path, loc='left', fontsize=10)\n",
    "        \n",
    "plt.show()"
   ]
  },
  {
   "cell_type": "code",
   "execution_count": null,
   "id": "4949b731-608b-43b9-93fa-c4ef70c28a09",
   "metadata": {},
   "outputs": [],
   "source": []
  }
 ],
 "metadata": {
  "kernelspec": {
   "display_name": "torch-gpu",
   "language": "python",
   "name": "torch"
  },
  "language_info": {
   "codemirror_mode": {
    "name": "ipython",
    "version": 3
   },
   "file_extension": ".py",
   "mimetype": "text/x-python",
   "name": "python",
   "nbconvert_exporter": "python",
   "pygments_lexer": "ipython3",
   "version": "3.10.6"
  },
  "vscode": {
   "interpreter": {
    "hash": "916dbcbb3f70747c44a77c7bcd40155683ae19c65e1c03b4aa3499c5328201f1"
   }
  }
 },
 "nbformat": 4,
 "nbformat_minor": 5
}
