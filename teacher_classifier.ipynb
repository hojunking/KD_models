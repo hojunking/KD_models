{
 "cells": [
  {
   "cell_type": "code",
   "execution_count": 2,
   "id": "32c4ea0f",
   "metadata": {},
   "outputs": [],
   "source": [
    "import os, re, magic, shutil\n",
    "from glob import glob\n",
    "import time, datetime\n",
    "import random\n",
    "import pandas as pd\n",
    "import numpy as np\n",
    "from tqdm import tqdm\n",
    "import warnings\n",
    "import joblib\n",
    "\n",
    "import cv2\n",
    "from PIL import Image\n",
    "import matplotlib.pyplot as plt\n",
    "import torch, gc\n",
    "from torch import nn\n",
    "from torch.utils.data import Dataset,DataLoader\n",
    "from torch.utils.data.sampler import SequentialSampler, RandomSampler\n",
    "import torch.nn.functional as F\n",
    "import torchvision\n",
    "\n",
    "#from skimage import io\n",
    "import sklearn\n",
    "from sklearn.model_selection import GroupKFold, StratifiedKFold\n",
    "from sklearn.metrics import roc_auc_score, log_loss, f1_score, confusion_matrix, classification_report\n",
    "from sklearn import metrics, preprocessing\n",
    "from scipy.ndimage import zoom\n",
    "\n",
    "import timm\n",
    "from timm.data import resolve_data_config\n",
    "from timm.data.transforms_factory import create_transform\n",
    "import albumentations as A\n",
    "import albumentations.pytorch\n",
    "import wandb\n",
    "from catalyst.data.sampler import BalanceClassSampler\n",
    "from torch.utils.data.distributed import DistributedSampler"
   ]
  },
  {
   "cell_type": "markdown",
   "id": "a29d0796-1f1d-40df-ad4a-21f57ed7fe35",
   "metadata": {},
   "source": [
    "#### Hyper Param Setting"
   ]
  },
  {
   "cell_type": "code",
   "execution_count": 1,
   "id": "57c0283c",
   "metadata": {},
   "outputs": [],
   "source": [
    "CFG = {\n",
    "    'fold_num': 5,\n",
    "    'seed': 42,\n",
    "    'model': 'inception_resnet_v2',\n",
    "    'img_size': 260,\n",
    "    'epochs': 200,\n",
    "    'train_bs':128,\n",
    "    'valid_bs':32,\n",
    "    'lr': 1e-4, ## learning rate\n",
    "    'num_workers': 8,\n",
    "    'verbose_step': 1,\n",
    "    'patience' : 5,\n",
    "    'device': 'cuda:0',\n",
    "    'freezing': True,\n",
    "    'trainable_layer': 12,\n",
    "    'model_path': './models'\n",
    "}"
   ]
  },
  {
   "cell_type": "markdown",
   "id": "7066a8a1-7060-4b6d-bf0c-d4164820a414",
   "metadata": {},
   "source": [
    "#### wandb init"
   ]
  },
  {
   "cell_type": "code",
   "execution_count": 3,
   "id": "127461e4-c16d-47fd-b983-556c12ad0daf",
   "metadata": {},
   "outputs": [],
   "source": [
    "project_name = 'carbon_reduction_inception_resnet_v2_f6'\n",
    "user = 'hojunking'\n",
    "run_name = 'carbon_reduction_inception_resnet_v2_f6'"
   ]
  },
  {
   "cell_type": "code",
   "execution_count": 4,
   "id": "5c538155-d55f-4321-bf7c-171d356ebceb",
   "metadata": {},
   "outputs": [
    {
     "name": "stdout",
     "output_type": "stream",
     "text": [
      "label: 10kwalking\n",
      "img_paths len : 2690\n",
      "\n",
      "label: public_vehicle\n",
      "img_paths len : 1725\n",
      "\n",
      "label: stair\n",
      "img_paths len : 2160\n",
      "\n",
      "label: pet\n",
      "img_paths len : 4335\n",
      "\n",
      "label: outlet\n",
      "img_paths len : 2027\n",
      "\n",
      "label: else\n",
      "img_paths len : 22000\n",
      "\n",
      "label: can\n",
      "img_paths len : 6516\n",
      "\n",
      "label: box\n",
      "img_paths len : 5198\n",
      "\n",
      "label: milk\n",
      "img_paths len : 1399\n",
      "\n",
      "label: cup\n",
      "img_paths len : 1235\n",
      "\n",
      "Train_Images:  14311\n",
      "Train_Images_labels: 14311\n",
      "Test_Images:  4235\n",
      "Test_Images_labels: 4235\n"
     ]
    }
   ],
   "source": [
    "main_path = '../Data/carbon_reduction/'\n",
    "label_list = [\"10kwalking\",\"public_vehicle\",'stair','pet','outlet','else', 'can', 'box', 'milk', 'cup']\n",
    "\n",
    "total_train_img_paths = []\n",
    "total_train_img_labels = []\n",
    "total_test_img_paths = []\n",
    "total_test_img_labels = []\n",
    "\n",
    "for label in label_list: ## 각 레이블 돌기\n",
    "    print(f'label: {label}')\n",
    "    img_paths = [] \n",
    "    img_labels = []\n",
    "\n",
    "    # default ratio\n",
    "    train_ratio = 1500\n",
    "    test_ratio = 500\n",
    "\n",
    "    dir_path = main_path + label ## 레이블 폴더 경로\n",
    "    count = 0\n",
    "    for folder, subfolders, filenames in os.walk(dir_path): ## 폴더 내 모든 파일 탐색\n",
    "    \n",
    "        for img in filenames: ## 각 파일 경로, 레이블 저장\n",
    "            count +=1\n",
    "            if count > train_ratio + test_ratio + 20000:\n",
    "                break\n",
    "            \n",
    "            img_paths.append(folder+'/'+img)\n",
    "            img_labels.append(label)\n",
    "        \n",
    "    random.shuffle(img_paths)\n",
    "    print(f'img_paths len : {len(img_paths)}\\n')\n",
    "\n",
    "    if label == 'milk': ## 10walking 데이터 비율 설정하기 (데이터수: 2494)\n",
    "        train_ratio = 1099\n",
    "        test_ratio = 300\n",
    "    elif label == 'public_vehicle': ## 10walking 데이터 비율 설정하기 (데이터수: 2494)\n",
    "        train_ratio = 1425\n",
    "        test_ratio = 300\n",
    "    elif label == 'cup': ## 10walking 데이터 비율 설정하기 (데이터수: 2494)\n",
    "        train_ratio = 1000\n",
    "        test_ratio = 235\n",
    "    elif label == 'stair': ## 10walking 데이터 비율 설정하기 (데이터수: 2494)\n",
    "        train_ratio = 1660\n",
    "        test_ratio = 500\n",
    "    elif label == 'outlet': ## 10walking 데이터 비율 설정하기 (데이터수: 2494)\n",
    "        train_ratio = 1627\n",
    "        test_ratio = 400\n",
    "    \n",
    "\n",
    "    total_train_img_paths.extend(img_paths[:train_ratio])\n",
    "    total_train_img_labels.extend(img_labels[:train_ratio])\n",
    "\n",
    "    total_test_img_paths.extend(img_paths[-test_ratio:])\n",
    "    total_test_img_labels.extend(img_labels[-test_ratio:])\n",
    "\n",
    "print('Train_Images: ',len(total_train_img_paths))\n",
    "print(\"Train_Images_labels:\", len(total_train_img_labels))\n",
    "print('Test_Images: ',len(total_test_img_paths))\n",
    "print(\"Test_Images_labels:\", len(total_test_img_labels))"
   ]
  },
  {
   "cell_type": "code",
   "execution_count": 5,
   "id": "2716dd8b-84db-4707-80e2-19b29eae9c23",
   "metadata": {},
   "outputs": [
    {
     "data": {
      "text/html": [
       "<div>\n",
       "<style scoped>\n",
       "    .dataframe tbody tr th:only-of-type {\n",
       "        vertical-align: middle;\n",
       "    }\n",
       "\n",
       "    .dataframe tbody tr th {\n",
       "        vertical-align: top;\n",
       "    }\n",
       "\n",
       "    .dataframe thead th {\n",
       "        text-align: right;\n",
       "    }\n",
       "</style>\n",
       "<table border=\"1\" class=\"dataframe\">\n",
       "  <thead>\n",
       "    <tr style=\"text-align: right;\">\n",
       "      <th></th>\n",
       "      <th>image_id</th>\n",
       "      <th>dir</th>\n",
       "      <th>label</th>\n",
       "    </tr>\n",
       "  </thead>\n",
       "  <tbody>\n",
       "    <tr>\n",
       "      <th>0</th>\n",
       "      <td>캐시워크 만보_380.jpg</td>\n",
       "      <td>../Data/carbon_reduction/10kwalking/10kwalking...</td>\n",
       "      <td>10kwalking</td>\n",
       "    </tr>\n",
       "    <tr>\n",
       "      <th>1</th>\n",
       "      <td>만보인증_404.jpg</td>\n",
       "      <td>../Data/carbon_reduction/10kwalking/10kwalking...</td>\n",
       "      <td>10kwalking</td>\n",
       "    </tr>\n",
       "    <tr>\n",
       "      <th>2</th>\n",
       "      <td>아이폰 걸음수_071.jpg</td>\n",
       "      <td>../Data/carbon_reduction/10kwalking/10kwalking...</td>\n",
       "      <td>10kwalking</td>\n",
       "    </tr>\n",
       "    <tr>\n",
       "      <th>3</th>\n",
       "      <td>만보인증_438.jpg</td>\n",
       "      <td>../Data/carbon_reduction/10kwalking/10kwalking...</td>\n",
       "      <td>10kwalking</td>\n",
       "    </tr>\n",
       "    <tr>\n",
       "      <th>4</th>\n",
       "      <td>애플워치 만보_180.jpg</td>\n",
       "      <td>../Data/carbon_reduction/10kwalking/10kwalking...</td>\n",
       "      <td>10kwalking</td>\n",
       "    </tr>\n",
       "    <tr>\n",
       "      <th>...</th>\n",
       "      <td>...</td>\n",
       "      <td>...</td>\n",
       "      <td>...</td>\n",
       "    </tr>\n",
       "    <tr>\n",
       "      <th>14306</th>\n",
       "      <td>양치컵_062.jpg</td>\n",
       "      <td>../Data/carbon_reduction/cup/양치컵_네이버</td>\n",
       "      <td>cup</td>\n",
       "    </tr>\n",
       "    <tr>\n",
       "      <th>14307</th>\n",
       "      <td>양치컵_025.jpg</td>\n",
       "      <td>../Data/carbon_reduction/cup/양치컵_네이버</td>\n",
       "      <td>cup</td>\n",
       "    </tr>\n",
       "    <tr>\n",
       "      <th>14308</th>\n",
       "      <td>양치컵 사용_292.jpg</td>\n",
       "      <td>../Data/carbon_reduction/cup/양치컵 사용</td>\n",
       "      <td>cup</td>\n",
       "    </tr>\n",
       "    <tr>\n",
       "      <th>14309</th>\n",
       "      <td>양치컵 사용_182.jpg</td>\n",
       "      <td>../Data/carbon_reduction/cup/양치컵 사용</td>\n",
       "      <td>cup</td>\n",
       "    </tr>\n",
       "    <tr>\n",
       "      <th>14310</th>\n",
       "      <td>else13684.jpg</td>\n",
       "      <td>../Data/carbon_reduction/cup/cups_from_else</td>\n",
       "      <td>cup</td>\n",
       "    </tr>\n",
       "  </tbody>\n",
       "</table>\n",
       "<p>14311 rows × 3 columns</p>\n",
       "</div>"
      ],
      "text/plain": [
       "              image_id                                                dir  \\\n",
       "0      캐시워크 만보_380.jpg  ../Data/carbon_reduction/10kwalking/10kwalking...   \n",
       "1         만보인증_404.jpg  ../Data/carbon_reduction/10kwalking/10kwalking...   \n",
       "2      아이폰 걸음수_071.jpg  ../Data/carbon_reduction/10kwalking/10kwalking...   \n",
       "3         만보인증_438.jpg  ../Data/carbon_reduction/10kwalking/10kwalking...   \n",
       "4      애플워치 만보_180.jpg  ../Data/carbon_reduction/10kwalking/10kwalking...   \n",
       "...                ...                                                ...   \n",
       "14306      양치컵_062.jpg               ../Data/carbon_reduction/cup/양치컵_네이버   \n",
       "14307      양치컵_025.jpg               ../Data/carbon_reduction/cup/양치컵_네이버   \n",
       "14308   양치컵 사용_292.jpg                ../Data/carbon_reduction/cup/양치컵 사용   \n",
       "14309   양치컵 사용_182.jpg                ../Data/carbon_reduction/cup/양치컵 사용   \n",
       "14310    else13684.jpg        ../Data/carbon_reduction/cup/cups_from_else   \n",
       "\n",
       "            label  \n",
       "0      10kwalking  \n",
       "1      10kwalking  \n",
       "2      10kwalking  \n",
       "3      10kwalking  \n",
       "4      10kwalking  \n",
       "...           ...  \n",
       "14306         cup  \n",
       "14307         cup  \n",
       "14308         cup  \n",
       "14309         cup  \n",
       "14310         cup  \n",
       "\n",
       "[14311 rows x 3 columns]"
      ]
     },
     "execution_count": 5,
     "metadata": {},
     "output_type": "execute_result"
    }
   ],
   "source": [
    "## Pandas 데이터프레임 만들기\n",
    "trn_df = pd.DataFrame(total_train_img_paths, columns=['image_id'])\n",
    "trn_df['dir'] = trn_df['image_id'].apply(lambda x: os.path.dirname(x))\n",
    "trn_df['image_id'] = trn_df['image_id'].apply(lambda x: os.path.basename(x))\n",
    "trn_df['label'] = total_train_img_labels\n",
    "train = trn_df\n",
    "train"
   ]
  },
  {
   "cell_type": "code",
   "execution_count": 6,
   "id": "03c67d39-7933-4f98-b998-54a6036ff4a1",
   "metadata": {},
   "outputs": [],
   "source": [
    "# Label Encoding\n",
    "le = preprocessing.LabelEncoder()\n",
    "train['label'] = le.fit_transform(train['label'].values)"
   ]
  },
  {
   "cell_type": "code",
   "execution_count": 7,
   "id": "a3a8ac38-0b0f-4db4-80d2-6504916b7723",
   "metadata": {},
   "outputs": [
    {
     "data": {
      "text/plain": [
       "array([0, 0, 0, ..., 3, 3, 3])"
      ]
     },
     "execution_count": 7,
     "metadata": {},
     "output_type": "execute_result"
    }
   ],
   "source": [
    "train.label.values"
   ]
  },
  {
   "cell_type": "code",
   "execution_count": 8,
   "id": "8ed30653",
   "metadata": {},
   "outputs": [],
   "source": [
    "model =timm.create_model(CFG['model'], pretrained=True, num_classes=10)\n",
    "\n",
    "config = resolve_data_config({}, model=model)\n",
    "transform = create_transform(**config)"
   ]
  },
  {
   "cell_type": "code",
   "execution_count": 9,
   "id": "6c454bf4",
   "metadata": {},
   "outputs": [],
   "source": [
    "def seed_everything(seed):\n",
    "    random.seed(seed)\n",
    "    os.environ['PYTHONHASHSEED'] = str(seed)\n",
    "    np.random.seed(seed)\n",
    "    torch.manual_seed(seed)\n",
    "    torch.cuda.manual_seed(seed)\n",
    "    torch.backends.cudnn.deterministic = True\n",
    "    torch.backends.cudnn.benchmark = True"
   ]
  },
  {
   "cell_type": "code",
   "execution_count": 10,
   "id": "d97a3c2a",
   "metadata": {},
   "outputs": [],
   "source": [
    "def get_img(path, sub_path=None):\n",
    "    try:\n",
    "        im_bgr = cv2.imread(path)\n",
    "        im_rgb = im_bgr[:, :, ::-1]\n",
    "        past_path = path\n",
    "    except: ## 이미지 에러 발생 시 백지로 대체\n",
    "        im_bgr = cv2.imread('../Data/carbon_reduction/temp_img.jpg')\n",
    "        im_rgb = im_bgr[:, :, ::-1]\n",
    "    return im_rgb"
   ]
  },
  {
   "cell_type": "code",
   "execution_count": 11,
   "id": "884eb987-4341-4fe7-8094-6e61cb051af5",
   "metadata": {},
   "outputs": [],
   "source": [
    "transform_train = A.Compose(\n",
    "    [\n",
    "        A.Resize(height = CFG['img_size']+100, width = CFG['img_size']+100),\n",
    "        A.CenterCrop(always_apply=True, p=1.0, height=CFG['img_size'], width=CFG['img_size']),\n",
    "        A.RandomBrightnessContrast(always_apply=False, p=0.8, brightness_limit=(0.00, 0.00), contrast_limit=(0.2, 0.2), brightness_by_max=False),\n",
    "        A.SafeRotate(always_apply=False, p=0.5, limit=(-20, 20), interpolation=2, border_mode=0, value=(0, 0, 0), mask_value=None),\n",
    "        A.HorizontalFlip(always_apply=False, p=0.5),\n",
    "        A.Normalize(mean=(0.485, 0.456, 0.406), std=(0.229, 0.224, 0.225), max_pixel_value=255.0, always_apply=False, p=1.0),\n",
    "        A.pytorch.transforms.ToTensorV2()\n",
    "        ])\n",
    "\n",
    "transform_test = A.Compose(\n",
    "    [\n",
    "        A.Resize(height = CFG['img_size'], width = CFG['img_size']),\n",
    "        A.Normalize(mean=(0.485, 0.456, 0.406), std=(0.229, 0.224, 0.225), max_pixel_value=255.0, always_apply=False, p=1.0),\n",
    "        A.pytorch.transforms.ToTensorV2()\n",
    "        ])"
   ]
  },
  {
   "cell_type": "code",
   "execution_count": 15,
   "id": "5f1561be",
   "metadata": {},
   "outputs": [],
   "source": [
    "class ColonDataset(Dataset):\n",
    "    def __init__(self, df, data_root, transform=None, output_label=True):\n",
    "        super().__init__()\n",
    "        self.df = df.reset_index(drop=True).copy()\n",
    "        self.transform = transform\n",
    "        self.data_root = data_root\n",
    "        self.output_label = output_label\n",
    "        \n",
    "        if output_label == True:\n",
    "            self.labels = self.df['label'].values\n",
    "            \n",
    "    def __len__(self):\n",
    "        return self.df.shape[0]\n",
    "    \n",
    "    def __getitem__(self, index: int):\n",
    "        # get labels\n",
    "        if self.output_label:\n",
    "            target = self.labels[index]\n",
    "        \n",
    "        path = \"{}/{}\".format(self.data_root[index], self.df.iloc[index]['image_id'])\n",
    "        img  = get_img(path)\n",
    "\n",
    "        if self.transform:\n",
    "            transformed = self.transform(image=img)\n",
    "            img = transformed['image']\n",
    "                \n",
    "        if self.output_label == True:\n",
    "            return img, target\n",
    "        else:\n",
    "            return img"
   ]
  },
  {
   "cell_type": "code",
   "execution_count": 16,
   "id": "b1601bf0",
   "metadata": {},
   "outputs": [],
   "source": [
    "class ForcepImgClassifier(nn.Module):\n",
    "    def __init__(self, model_arch, n_class=2, pretrained=False):\n",
    "        super().__init__()\n",
    "        self.model = timm.create_model(model_arch, pretrained=pretrained, num_classes=n_class)\n",
    "        # n_features = self.model.classifier.in_features\n",
    "        # self.model.classifier = nn.Linear(n_features, n_class)\n",
    "    def freezing(self, freeze=False, trainable_layer = 2):\n",
    "        \n",
    "        if freeze:\n",
    "            num_layers = len(list(model.parameters()))\n",
    "            for i, param in enumerate(model.parameters()):\n",
    "                if i < num_layers - trainable_layer*2:\n",
    "                    param.requires_grad = False    \n",
    "            \n",
    "    def forward(self, x):\n",
    "        x = self.model(x)\n",
    "        return x"
   ]
  },
  {
   "cell_type": "code",
   "execution_count": 17,
   "id": "240e5531",
   "metadata": {},
   "outputs": [],
   "source": [
    "def prepare_dataloader(df, trn_idx, val_idx, data_root=train.dir.values):\n",
    "    \n",
    "    train_ = df.loc[trn_idx,:].reset_index(drop=True)\n",
    "    valid_ = df.loc[val_idx,:].reset_index(drop=True)\n",
    "    train_data_root = data_root[trn_idx]\n",
    "    valid_data_root = data_root[val_idx]\n",
    "    \n",
    "        \n",
    "    train_ds = ColonDataset(train_,\n",
    "                            train_data_root,\n",
    "                            transform=transform_train,\n",
    "                            output_label=True)\n",
    "    valid_ds = ColonDataset(valid_,\n",
    "                            valid_data_root,\n",
    "                            transform=transform_test,\n",
    "                            output_label=True)\n",
    "    \n",
    "\n",
    "    train_loader = torch.utils.data.DataLoader(\n",
    "        train_ds,\n",
    "        batch_size=CFG['train_bs'],\n",
    "        pin_memory=True,\n",
    "        drop_last=False,\n",
    "        shuffle=True,        \n",
    "        num_workers=CFG['num_workers']\n",
    "    )\n",
    "    val_loader = torch.utils.data.DataLoader(\n",
    "        valid_ds, \n",
    "        batch_size=CFG['valid_bs'],\n",
    "        num_workers=CFG['num_workers'],\n",
    "        shuffle=False,\n",
    "        pin_memory=True,\n",
    "    )\n",
    "    return train_loader, val_loader"
   ]
  },
  {
   "cell_type": "code",
   "execution_count": 18,
   "id": "08ffa2fa",
   "metadata": {},
   "outputs": [],
   "source": [
    "def train_one_epoch(epoch, model, loss_fn, optimizer, train_loader, device, scheduler=None):\n",
    "    ## Sets the model to training mode\n",
    "    model.train()\n",
    "    \n",
    "    t = time.time()\n",
    "    running_loss = None\n",
    "    loss_sum = 0\n",
    "    image_preds_all = []\n",
    "    image_targets_all = []\n",
    "    acc_list = []\n",
    "    \n",
    "    pbar = tqdm(enumerate(train_loader), total=len(train_loader))\n",
    "    for step, (imgs, image_labels) in pbar:\n",
    "        imgs = imgs.to(device).float()\n",
    "        image_labels = image_labels.to(device).long()\n",
    "        optimizer.zero_grad()\n",
    "        \n",
    "        with torch.cuda.amp.autocast():\n",
    "            image_preds = model(imgs)   #output = model(input)\n",
    "\n",
    "            loss = loss_fn(image_preds, image_labels)\n",
    "            loss_sum+=loss.detach()\n",
    "            \n",
    "            scaler.scale(loss).backward()\n",
    "            scaler.step(optimizer)\n",
    "            scaler.update()\n",
    "        \n",
    "            if running_loss is None:\n",
    "                running_loss = loss.item()\n",
    "            else:\n",
    "                running_loss = running_loss * .99 + loss.item() * .01    \n",
    "        \n",
    "        \n",
    "            if ((step + 1) % CFG['verbose_step'] == 0) or ((step + 1) == len(train_loader)):\n",
    "                description = f'epoch {epoch} loss: {running_loss:.4f}'\n",
    "                pbar.set_description(description)\n",
    "        \n",
    "        image_preds_all += [torch.argmax(image_preds, 1).detach().cpu().numpy()]\n",
    "        image_targets_all += [image_labels.detach().cpu().numpy()]\n",
    "        \n",
    "    if scheduler is not None:\n",
    "        scheduler.step()\n",
    "    \n",
    "    image_preds_all = np.concatenate(image_preds_all)\n",
    "    image_targets_all = np.concatenate(image_targets_all)\n",
    "    \n",
    "    matrix = confusion_matrix(image_targets_all,image_preds_all)\n",
    "    epoch_f1 = f1_score(image_targets_all, image_preds_all, average='macro')\n",
    "    \n",
    "    accuracy = (image_preds_all==image_targets_all).mean()\n",
    "    trn_loss = loss_sum/len(train_loader)\n",
    "    \n",
    "    return image_preds_all, accuracy, trn_loss, matrix, epoch_f1\n",
    "\n",
    "def valid_one_epoch(epoch, model, loss_fn, val_loader, device, scheduler=None, schd_loss_update=False):\n",
    "    ## Sets the model to valid mode\n",
    "    model.eval()\n",
    "\n",
    "    t = time.time()\n",
    "    loss_sum = 0\n",
    "    sample_num = 0\n",
    "    avg_loss = 0\n",
    "    image_preds_all = []\n",
    "    image_targets_all = []\n",
    "    \n",
    "    acc_list = []\n",
    "    \n",
    "    pbar = tqdm(enumerate(val_loader), total=len(val_loader))\n",
    "    for step, (imgs, image_labels) in pbar:\n",
    "        imgs = imgs.to(device).float()\n",
    "        image_labels = image_labels.to(device).long()\n",
    "        \n",
    "        image_preds = model(imgs)   #output = model(input)\n",
    "        image_preds_all += [torch.argmax(image_preds, 1).detach().cpu().numpy()]\n",
    "        image_targets_all += [image_labels.detach().cpu().numpy()]\n",
    "        \n",
    "        loss = loss_fn(image_preds, image_labels)\n",
    "        avg_loss += loss.item()\n",
    "        loss_sum += loss.item()*image_labels.shape[0]\n",
    "        sample_num += image_labels.shape[0]\n",
    "        \n",
    "        description = f'epoch {epoch} loss: {loss_sum/sample_num:.4f}'\n",
    "        pbar.set_description(description)\n",
    "    \n",
    "    image_preds_all = np.concatenate(image_preds_all)\n",
    "    image_targets_all = np.concatenate(image_targets_all)\n",
    "    matrix = confusion_matrix(image_targets_all,image_preds_all)\n",
    "    \n",
    "    epoch_f1 = f1_score(image_targets_all, image_preds_all, average='macro')\n",
    "    acc = (image_preds_all==image_targets_all).mean()\n",
    "    val_loss = avg_loss/len(val_loader)\n",
    "    \n",
    "    return image_preds_all, acc, val_loss, matrix, epoch_f1"
   ]
  },
  {
   "cell_type": "code",
   "execution_count": 19,
   "id": "77e9950b",
   "metadata": {},
   "outputs": [],
   "source": [
    "class EarlyStopping:\n",
    "    def __init__(self, patience=10, verbose=False, delta=0):\n",
    "        self.patience = patience\n",
    "        self.verbose = verbose\n",
    "        self.counter = 0\n",
    "        self.best_score = None\n",
    "        self.early_stop = False\n",
    "        self.val_loss_min = np.Inf\n",
    "        self.delta = delta\n",
    "\n",
    "    def __call__(self, score):\n",
    "        print(f' present score: {score}')\n",
    "        if self.best_score is None:\n",
    "            self.best_score = score\n",
    "        elif score <= self.best_score + self.delta:\n",
    "            self.counter += 1\n",
    "            print(f'EarlyStopping counter: {self.counter} out of {self.patience}')\n",
    "            print(f'Best F1 score from now: {self.best_score}')\n",
    "            if self.counter >= self.patience:\n",
    "                self.early_stop = True\n",
    "        else:\n",
    "            self.best_score = score\n",
    "            self.counter = 0\n",
    "        \n",
    "        return self.early_stop"
   ]
  },
  {
   "cell_type": "code",
   "execution_count": 21,
   "id": "37102a34",
   "metadata": {},
   "outputs": [
    {
     "name": "stderr",
     "output_type": "stream",
     "text": [
      "Failed to detect the name of this notebook, you can set it manually with the WANDB_NOTEBOOK_NAME environment variable to enable code saving.\n",
      "\u001b[34m\u001b[1mwandb\u001b[0m: Currently logged in as: \u001b[33mhojunking\u001b[0m. Use \u001b[1m`wandb login --relogin`\u001b[0m to force relogin\n"
     ]
    },
    {
     "data": {
      "text/html": [
       "wandb version 0.14.2 is available!  To upgrade, please run:\n",
       " $ pip install wandb --upgrade"
      ],
      "text/plain": [
       "<IPython.core.display.HTML object>"
      ]
     },
     "metadata": {},
     "output_type": "display_data"
    },
    {
     "data": {
      "text/html": [
       "Tracking run with wandb version 0.13.4"
      ],
      "text/plain": [
       "<IPython.core.display.HTML object>"
      ]
     },
     "metadata": {},
     "output_type": "display_data"
    },
    {
     "data": {
      "text/html": [
       "Run data is saved locally in <code>/home/hojun/git/KD_models/wandb/run-20230413_145325-3l0ytciw</code>"
      ],
      "text/plain": [
       "<IPython.core.display.HTML object>"
      ]
     },
     "metadata": {},
     "output_type": "display_data"
    },
    {
     "data": {
      "text/html": [
       "Syncing run <strong><a href=\"https://wandb.ai/hojunking/carbon_reduction_inception_resnet_v2_f6/runs/3l0ytciw\" target=\"_blank\">helpful-grass-1</a></strong> to <a href=\"https://wandb.ai/hojunking/carbon_reduction_inception_resnet_v2_f6\" target=\"_blank\">Weights & Biases</a> (<a href=\"https://wandb.me/run\" target=\"_blank\">docs</a>)<br/>"
      ],
      "text/plain": [
       "<IPython.core.display.HTML object>"
      ]
     },
     "metadata": {},
     "output_type": "display_data"
    },
    {
     "name": "stdout",
     "output_type": "stream",
     "text": [
      "Model: inception_resnet_v2\n",
      "Training start with fold: 0 epoch: 200 \n",
      "\n",
      "model.repeat_2.8.branch1.2.conv.weight: True\n",
      "model.repeat_2.8.branch1.2.bn.weight: True\n",
      "model.repeat_2.8.branch1.2.bn.bias: True\n",
      "model.repeat_2.8.conv2d.weight: True\n",
      "model.repeat_2.8.conv2d.bias: True\n",
      "model.block8.branch0.conv.weight: True\n",
      "model.block8.branch0.bn.weight: True\n",
      "model.block8.branch0.bn.bias: True\n",
      "model.block8.branch1.0.conv.weight: True\n",
      "model.block8.branch1.0.bn.weight: True\n",
      "model.block8.branch1.0.bn.bias: True\n",
      "model.block8.branch1.1.conv.weight: True\n",
      "model.block8.branch1.1.bn.weight: True\n",
      "model.block8.branch1.1.bn.bias: True\n",
      "model.block8.branch1.2.conv.weight: True\n",
      "model.block8.branch1.2.bn.weight: True\n",
      "model.block8.branch1.2.bn.bias: True\n",
      "model.block8.conv2d.weight: True\n",
      "model.block8.conv2d.bias: True\n",
      "model.conv2d_7b.conv.weight: True\n",
      "model.conv2d_7b.bn.weight: True\n",
      "model.conv2d_7b.bn.bias: True\n",
      "model.classif.weight: True\n",
      "model.classif.bias: True\n",
      "Fold: 0\n",
      "Epoch 0/199\n"
     ]
    },
    {
     "name": "stderr",
     "output_type": "stream",
     "text": [
      "  0%|                                                    | 0/90 [00:00<?, ?it/s]Corrupt JPEG data: 111 extraneous bytes before marker 0xd9\n",
      "epoch 0 loss: 2.1755:  28%|█████▊               | 25/90 [00:19<00:31,  2.06it/s]Premature end of JPEG file\n",
      "epoch 0 loss: 1.7157:  68%|██████████████▏      | 61/90 [00:37<00:14,  2.06it/s]Premature end of JPEG file\n",
      "epoch 0 loss: 1.3921: 100%|█████████████████████| 90/90 [00:52<00:00,  1.73it/s]\n",
      "epoch 0 loss: 0.3225: 100%|█████████████████████| 90/90 [00:22<00:00,  3.93it/s]\n"
     ]
    },
    {
     "name": "stdout",
     "output_type": "stream",
     "text": [
      "Fold: 0\n",
      "Epoch 1/199\n"
     ]
    },
    {
     "name": "stderr",
     "output_type": "stream",
     "text": [
      "epoch 1 loss: 0.3343:   8%|█▋                    | 7/90 [00:05<00:46,  1.77it/s]Premature end of JPEG file\n",
      "epoch 1 loss: 0.3336:   9%|█▉                    | 8/90 [00:05<00:44,  1.84it/s]Corrupt JPEG data: 111 extraneous bytes before marker 0xd9\n",
      "epoch 1 loss: 0.3221:  73%|███████████████▍     | 66/90 [00:34<00:11,  2.06it/s]Premature end of JPEG file\n",
      "epoch 1 loss: 0.3147: 100%|█████████████████████| 90/90 [00:45<00:00,  1.97it/s]\n",
      "epoch 1 loss: 0.2064: 100%|█████████████████████| 90/90 [00:22<00:00,  4.03it/s]\n"
     ]
    },
    {
     "name": "stdout",
     "output_type": "stream",
     "text": [
      "Fold: 0\n",
      "Epoch 2/199\n"
     ]
    },
    {
     "name": "stderr",
     "output_type": "stream",
     "text": [
      "  0%|                                                    | 0/90 [00:00<?, ?it/s]Premature end of JPEG file\n",
      "epoch 2 loss: 0.2448:  28%|█████▊               | 25/90 [00:13<00:31,  2.06it/s]Corrupt JPEG data: 111 extraneous bytes before marker 0xd9\n",
      "epoch 2 loss: 0.2455:  39%|████████▏            | 35/90 [00:18<00:26,  2.05it/s]Premature end of JPEG file\n",
      "epoch 2 loss: 0.2311: 100%|█████████████████████| 90/90 [00:45<00:00,  1.97it/s]\n",
      "epoch 2 loss: 0.1872: 100%|█████████████████████| 90/90 [00:22<00:00,  4.03it/s]\n"
     ]
    },
    {
     "name": "stdout",
     "output_type": "stream",
     "text": [
      "Fold: 0\n",
      "Epoch 3/199\n"
     ]
    },
    {
     "name": "stderr",
     "output_type": "stream",
     "text": [
      "epoch 3 loss: 0.1895:   6%|█▏                    | 5/90 [00:04<00:58,  1.46it/s]Premature end of JPEG file\n",
      "epoch 3 loss: 0.1874:  16%|███▎                 | 14/90 [00:09<00:37,  2.03it/s]Premature end of JPEG file\n",
      "epoch 3 loss: 0.1714:  74%|███████████████▋     | 67/90 [00:34<00:11,  2.05it/s]Corrupt JPEG data: 111 extraneous bytes before marker 0xd9\n",
      "epoch 3 loss: 0.1694: 100%|█████████████████████| 90/90 [00:46<00:00,  1.96it/s]\n",
      "epoch 3 loss: 0.2004: 100%|█████████████████████| 90/90 [00:22<00:00,  4.06it/s]\n"
     ]
    },
    {
     "name": "stdout",
     "output_type": "stream",
     "text": [
      "Fold: 0\n",
      "Epoch 4/199\n"
     ]
    },
    {
     "name": "stderr",
     "output_type": "stream",
     "text": [
      "epoch 4 loss: 0.1506:  24%|█████▏               | 22/90 [00:12<00:33,  2.06it/s]Premature end of JPEG file\n",
      "epoch 4 loss: 0.1473:  32%|██████▊              | 29/90 [00:16<00:29,  2.06it/s]Corrupt JPEG data: 111 extraneous bytes before marker 0xd9\n",
      "epoch 4 loss: 0.1450:  44%|█████████▎           | 40/90 [00:21<00:24,  2.06it/s]Premature end of JPEG file\n",
      "epoch 4 loss: 0.1389: 100%|█████████████████████| 90/90 [00:45<00:00,  1.97it/s]\n",
      "epoch 4 loss: 0.1678: 100%|█████████████████████| 90/90 [00:22<00:00,  4.02it/s]\n"
     ]
    },
    {
     "name": "stdout",
     "output_type": "stream",
     "text": [
      "Fold: 0\n",
      "Epoch 5/199\n"
     ]
    },
    {
     "name": "stderr",
     "output_type": "stream",
     "text": [
      "epoch 5 loss: 0.0689:   7%|█▍                    | 6/90 [00:04<00:50,  1.65it/s]Premature end of JPEG file\n",
      "epoch 5 loss: 0.0753:  48%|██████████           | 43/90 [00:22<00:22,  2.06it/s]Corrupt JPEG data: 111 extraneous bytes before marker 0xd9\n",
      "epoch 5 loss: 0.0752:  60%|████████████▌        | 54/90 [00:28<00:17,  2.05it/s]Premature end of JPEG file\n",
      "epoch 5 loss: 0.0827: 100%|█████████████████████| 90/90 [00:45<00:00,  1.97it/s]\n",
      "epoch 5 loss: 0.1700: 100%|█████████████████████| 90/90 [00:22<00:00,  3.94it/s]"
     ]
    },
    {
     "name": "stdout",
     "output_type": "stream",
     "text": [
      "EarlyStopping counter: 1 out of 5\n",
      "Best F1 score from now: 0.9500944808483711\n",
      "Fold: 0\n",
      "Epoch 6/199\n"
     ]
    },
    {
     "name": "stderr",
     "output_type": "stream",
     "text": [
      "\n",
      "epoch 6 loss: 0.1365:  48%|██████████           | 43/90 [00:23<00:22,  2.05it/s]Premature end of JPEG file\n",
      "epoch 6 loss: 0.1342:  52%|██████████▉          | 47/90 [00:24<00:20,  2.06it/s]Premature end of JPEG file\n",
      "epoch 6 loss: 0.1260:  66%|█████████████▊       | 59/90 [00:30<00:15,  2.06it/s]Corrupt JPEG data: 111 extraneous bytes before marker 0xd9\n",
      "epoch 6 loss: 0.1149: 100%|█████████████████████| 90/90 [00:45<00:00,  1.96it/s]\n",
      "epoch 6 loss: 0.1584: 100%|█████████████████████| 90/90 [00:22<00:00,  4.05it/s]\n"
     ]
    },
    {
     "name": "stdout",
     "output_type": "stream",
     "text": [
      "Fold: 0\n",
      "Epoch 7/199\n"
     ]
    },
    {
     "name": "stderr",
     "output_type": "stream",
     "text": [
      "epoch 7 loss: 0.0460:  14%|███                  | 13/90 [00:08<00:38,  2.02it/s]Corrupt JPEG data: 111 extraneous bytes before marker 0xd9\n",
      "epoch 7 loss: 0.0475:  21%|████▍                | 19/90 [00:11<00:34,  2.05it/s]Premature end of JPEG file\n",
      "epoch 7 loss: 0.0514:  40%|████████▍            | 36/90 [00:19<00:26,  2.05it/s]Premature end of JPEG file\n",
      "epoch 7 loss: 0.0595: 100%|█████████████████████| 90/90 [00:45<00:00,  1.97it/s]\n",
      "epoch 7 loss: 0.1627: 100%|█████████████████████| 90/90 [00:22<00:00,  4.05it/s]"
     ]
    },
    {
     "name": "stdout",
     "output_type": "stream",
     "text": [
      "EarlyStopping counter: 1 out of 5\n",
      "Best F1 score from now: 0.953382148849865\n",
      "Fold: 0\n",
      "Epoch 8/199\n"
     ]
    },
    {
     "name": "stderr",
     "output_type": "stream",
     "text": [
      "\n",
      "  0%|                                                    | 0/90 [00:00<?, ?it/s]Premature end of JPEG file\n",
      "Premature end of JPEG file\n",
      "epoch 8 loss: 0.0788:  21%|████▍                | 19/90 [00:11<00:34,  2.05it/s]Corrupt JPEG data: 111 extraneous bytes before marker 0xd9\n",
      "epoch 8 loss: 0.0709: 100%|█████████████████████| 90/90 [00:45<00:00,  1.97it/s]\n",
      "epoch 8 loss: 0.1701: 100%|█████████████████████| 90/90 [00:22<00:00,  4.04it/s]"
     ]
    },
    {
     "name": "stdout",
     "output_type": "stream",
     "text": [
      "EarlyStopping counter: 2 out of 5\n",
      "Best F1 score from now: 0.953382148849865\n",
      "Fold: 0\n",
      "Epoch 9/199\n"
     ]
    },
    {
     "name": "stderr",
     "output_type": "stream",
     "text": [
      "\n",
      "  0%|                                                    | 0/90 [00:00<?, ?it/s]Premature end of JPEG file\n",
      "Corrupt JPEG data: 111 extraneous bytes before marker 0xd9\n",
      "epoch 9 loss: 0.0506:  78%|████████████████▎    | 70/90 [00:35<00:09,  2.05it/s]Premature end of JPEG file\n",
      "epoch 9 loss: 0.0523: 100%|█████████████████████| 90/90 [00:45<00:00,  1.98it/s]\n",
      "epoch 9 loss: 0.1655: 100%|█████████████████████| 90/90 [00:22<00:00,  4.02it/s]"
     ]
    },
    {
     "name": "stdout",
     "output_type": "stream",
     "text": [
      "EarlyStopping counter: 3 out of 5\n",
      "Best F1 score from now: 0.953382148849865\n",
      "Fold: 0\n",
      "Epoch 10/199\n"
     ]
    },
    {
     "name": "stderr",
     "output_type": "stream",
     "text": [
      "\n",
      "epoch 10 loss: 0.0333:   1%|▏                    | 1/90 [00:02<03:18,  2.23s/it]Premature end of JPEG file\n",
      "epoch 10 loss: 0.0352:  11%|██▏                 | 10/90 [00:06<00:41,  1.95it/s]Premature end of JPEG file\n",
      "epoch 10 loss: 0.0381:  33%|██████▋             | 30/90 [00:16<00:29,  2.05it/s]Corrupt JPEG data: 111 extraneous bytes before marker 0xd9\n",
      "epoch 10 loss: 0.0445: 100%|████████████████████| 90/90 [00:45<00:00,  1.97it/s]\n",
      "epoch 10 loss: 0.1512: 100%|████████████████████| 90/90 [00:22<00:00,  4.04it/s]"
     ]
    },
    {
     "name": "stdout",
     "output_type": "stream",
     "text": [
      "EarlyStopping counter: 4 out of 5\n",
      "Best F1 score from now: 0.953382148849865\n",
      "Fold: 0\n",
      "Epoch 11/199\n"
     ]
    },
    {
     "name": "stderr",
     "output_type": "stream",
     "text": [
      "\n",
      "epoch 11 loss: 0.0492:   7%|█▍                   | 6/90 [00:04<00:50,  1.66it/s]Corrupt JPEG data: 111 extraneous bytes before marker 0xd9\n",
      "epoch 11 loss: 0.0493:  48%|█████████▌          | 43/90 [00:23<00:22,  2.05it/s]Premature end of JPEG file\n",
      "epoch 11 loss: 0.0492:  71%|██████████████▏     | 64/90 [00:33<00:12,  2.05it/s]Premature end of JPEG file\n",
      "epoch 11 loss: 0.0489: 100%|████████████████████| 90/90 [00:46<00:00,  1.94it/s]\n",
      "epoch 11 loss: 0.1552: 100%|████████████████████| 90/90 [00:22<00:00,  4.03it/s]\n"
     ]
    },
    {
     "name": "stdout",
     "output_type": "stream",
     "text": [
      "Fold: 0\n",
      "Epoch 12/199\n"
     ]
    },
    {
     "name": "stderr",
     "output_type": "stream",
     "text": [
      "epoch 12 loss: 0.0472:   3%|▋                    | 3/90 [00:02<01:12,  1.20it/s]Corrupt JPEG data: 111 extraneous bytes before marker 0xd9\n",
      "epoch 12 loss: 0.0475:  56%|███████████         | 50/90 [00:25<00:19,  2.06it/s]Premature end of JPEG file\n",
      "epoch 12 loss: 0.0468:  71%|██████████████▏     | 64/90 [00:32<00:12,  2.05it/s]Premature end of JPEG file\n",
      "epoch 12 loss: 0.0479: 100%|████████████████████| 90/90 [00:45<00:00,  1.98it/s]\n",
      "epoch 12 loss: 0.1624: 100%|████████████████████| 90/90 [00:22<00:00,  4.04it/s]"
     ]
    },
    {
     "name": "stdout",
     "output_type": "stream",
     "text": [
      "EarlyStopping counter: 1 out of 5\n",
      "Best F1 score from now: 0.9569964313513578\n",
      "Fold: 0\n",
      "Epoch 13/199\n"
     ]
    },
    {
     "name": "stderr",
     "output_type": "stream",
     "text": [
      "\n",
      "epoch 13 loss: 0.0314:   4%|▉                    | 4/90 [00:04<01:07,  1.28it/s]Premature end of JPEG file\n",
      "epoch 13 loss: 0.0345:  38%|███████▌            | 34/90 [00:18<00:27,  2.06it/s]Premature end of JPEG file\n",
      "epoch 13 loss: 0.0347:  41%|████████▏           | 37/90 [00:20<00:25,  2.05it/s]Corrupt JPEG data: 111 extraneous bytes before marker 0xd9\n",
      "epoch 13 loss: 0.0363: 100%|████████████████████| 90/90 [00:45<00:00,  1.96it/s]\n",
      "epoch 13 loss: 0.1610: 100%|████████████████████| 90/90 [00:22<00:00,  4.04it/s]"
     ]
    },
    {
     "name": "stdout",
     "output_type": "stream",
     "text": [
      "EarlyStopping counter: 2 out of 5\n",
      "Best F1 score from now: 0.9569964313513578\n",
      "Fold: 0\n",
      "Epoch 14/199\n"
     ]
    },
    {
     "name": "stderr",
     "output_type": "stream",
     "text": [
      "\n",
      "epoch 14 loss: 0.0562:  20%|████                | 18/90 [00:10<00:35,  2.05it/s]Premature end of JPEG file\n",
      "epoch 14 loss: 0.0519:  61%|████████████▏       | 55/90 [00:28<00:16,  2.06it/s]Premature end of JPEG file\n",
      "epoch 14 loss: 0.0516:  72%|██████████████▍     | 65/90 [00:33<00:12,  2.05it/s]Corrupt JPEG data: 111 extraneous bytes before marker 0xd9\n",
      "epoch 14 loss: 0.0491: 100%|████████████████████| 90/90 [00:45<00:00,  1.98it/s]\n",
      "epoch 14 loss: 0.1587: 100%|████████████████████| 90/90 [00:22<00:00,  4.05it/s]"
     ]
    },
    {
     "name": "stdout",
     "output_type": "stream",
     "text": [
      "EarlyStopping counter: 3 out of 5\n",
      "Best F1 score from now: 0.9569964313513578\n",
      "Fold: 0\n",
      "Epoch 15/199\n"
     ]
    },
    {
     "name": "stderr",
     "output_type": "stream",
     "text": [
      "\n",
      "epoch 15 loss: 0.0632:   6%|█▏                   | 5/90 [00:04<00:55,  1.54it/s]Corrupt JPEG data: 111 extraneous bytes before marker 0xd9\n",
      "epoch 15 loss: 0.0617:  10%|██                   | 9/90 [00:06<00:42,  1.91it/s]Premature end of JPEG file\n",
      "epoch 15 loss: 0.0530:  62%|████████████▍       | 56/90 [00:29<00:16,  2.06it/s]Premature end of JPEG file\n",
      "epoch 15 loss: 0.0493: 100%|████████████████████| 90/90 [00:45<00:00,  1.98it/s]\n",
      "epoch 15 loss: 0.1618: 100%|████████████████████| 90/90 [00:22<00:00,  4.02it/s]"
     ]
    },
    {
     "name": "stdout",
     "output_type": "stream",
     "text": [
      "EarlyStopping counter: 4 out of 5\n",
      "Best F1 score from now: 0.9569964313513578\n",
      "Fold: 0\n",
      "Epoch 16/199\n"
     ]
    },
    {
     "name": "stderr",
     "output_type": "stream",
     "text": [
      "\n",
      "epoch 16 loss: 0.0359:   6%|█▏                   | 5/90 [00:04<00:57,  1.47it/s]Premature end of JPEG file\n",
      "epoch 16 loss: 0.0353:  13%|██▋                 | 12/90 [00:07<00:39,  2.00it/s]Premature end of JPEG file\n",
      "epoch 16 loss: 0.0356:  42%|████████▍           | 38/90 [00:20<00:25,  2.05it/s]Corrupt JPEG data: 111 extraneous bytes before marker 0xd9\n",
      "epoch 16 loss: 0.0376: 100%|████████████████████| 90/90 [00:45<00:00,  1.96it/s]\n",
      "epoch 16 loss: 0.1543: 100%|████████████████████| 90/90 [00:22<00:00,  3.94it/s]\n"
     ]
    },
    {
     "name": "stdout",
     "output_type": "stream",
     "text": [
      "EarlyStopping counter: 5 out of 5\n",
      "Best F1 score from now: 0.9569964313513578\n",
      "stop called\n",
      "time : 0:19:39\n",
      "fold: 0, Best Epoch : 11/ 17\n",
      "fold: 0, Best Train Marco F1 : 0.98501\n",
      "[[1194    0    0    0    4    2    0    0    0    0]\n",
      " [   0 1186    1    0    5    2    0    3    2    1]\n",
      " [   0    0 1187    0    8    2    0    2    1    0]\n",
      " [   1    0    1  782    6    4    0    6    0    0]\n",
      " [   4    5    2    6 1151    5    4    7    4   12]\n",
      " [   2    6    3    2    4  861    1    0    0    0]\n",
      " [   0    2    0    4    4    1 1290    0    0    0]\n",
      " [   0    1    5    3    8    3    2 1178    0    0]\n",
      " [   1    0    0    0    3    0    0    1 1133    2]\n",
      " [   0    2    0    0    3    1    0    0    2 1320]]\n",
      "fold: 0, Best Valid Marco F1 : 0.95700\n",
      "[[294   0   0   0   5   1   0   0   0   0]\n",
      " [  1 288   0   0   4   3   1   0   2   1]\n",
      " [  0   2 290   1   4   0   0   3   0   0]\n",
      " [  0   0   0 198   1   0   0   1   0   0]\n",
      " [  5   1   3  12 248   3   6  14   5   3]\n",
      " [  0   0   5   2   1 209   1   1   1   0]\n",
      " [  0   0   1   0   3   0 319   0   1   2]\n",
      " [  0   0   3   5   6   0   0 286   0   0]\n",
      " [  0   0   1   0   1   0   0   0 282   1]\n",
      " [  0   0   0   0   1   0   0   0   2 329]]\n",
      "---------------------------------------------------------\n",
      "Training start with fold: 1 epoch: 200 \n",
      "\n",
      "model.repeat_2.8.branch1.2.conv.weight: True\n",
      "model.repeat_2.8.branch1.2.bn.weight: True\n",
      "model.repeat_2.8.branch1.2.bn.bias: True\n",
      "model.repeat_2.8.conv2d.weight: True\n",
      "model.repeat_2.8.conv2d.bias: True\n",
      "model.block8.branch0.conv.weight: True\n",
      "model.block8.branch0.bn.weight: True\n",
      "model.block8.branch0.bn.bias: True\n",
      "model.block8.branch1.0.conv.weight: True\n",
      "model.block8.branch1.0.bn.weight: True\n",
      "model.block8.branch1.0.bn.bias: True\n",
      "model.block8.branch1.1.conv.weight: True\n",
      "model.block8.branch1.1.bn.weight: True\n",
      "model.block8.branch1.1.bn.bias: True\n",
      "model.block8.branch1.2.conv.weight: True\n",
      "model.block8.branch1.2.bn.weight: True\n",
      "model.block8.branch1.2.bn.bias: True\n",
      "model.block8.conv2d.weight: True\n",
      "model.block8.conv2d.bias: True\n",
      "model.conv2d_7b.conv.weight: True\n",
      "model.conv2d_7b.bn.weight: True\n",
      "model.conv2d_7b.bn.bias: True\n",
      "model.classif.weight: True\n",
      "model.classif.bias: True\n",
      "Fold: 1\n",
      "Epoch 0/199\n"
     ]
    },
    {
     "name": "stderr",
     "output_type": "stream",
     "text": [
      "epoch 0 loss: 2.3184:  13%|██▊                  | 12/90 [00:07<00:38,  2.00it/s]Premature end of JPEG file\n",
      "epoch 0 loss: 1.7359:  67%|██████████████       | 60/90 [00:31<00:14,  2.05it/s]Premature end of JPEG file\n",
      "epoch 0 loss: 1.5792:  81%|█████████████████    | 73/90 [00:37<00:08,  2.05it/s]Corrupt JPEG data: 111 extraneous bytes before marker 0xd9\n",
      "epoch 0 loss: 1.3941: 100%|█████████████████████| 90/90 [00:46<00:00,  1.95it/s]\n",
      "epoch 0 loss: 0.3158: 100%|█████████████████████| 90/90 [00:22<00:00,  3.99it/s]"
     ]
    },
    {
     "name": "stdout",
     "output_type": "stream",
     "text": [
      "Fold: 1\n",
      "Epoch 1/199\n"
     ]
    },
    {
     "name": "stderr",
     "output_type": "stream",
     "text": [
      "\n",
      "epoch 1 loss: 0.3435:  24%|█████▏               | 22/90 [00:12<00:33,  2.05it/s]Corrupt JPEG data: 111 extraneous bytes before marker 0xd9\n",
      "epoch 1 loss: 0.3366:  38%|███████▉             | 34/90 [00:18<00:27,  2.05it/s]Premature end of JPEG file\n",
      "epoch 1 loss: 0.3281:  67%|██████████████       | 60/90 [00:31<00:14,  2.06it/s]Premature end of JPEG file\n",
      "epoch 1 loss: 0.3183: 100%|█████████████████████| 90/90 [00:45<00:00,  1.96it/s]\n",
      "epoch 1 loss: 0.2273: 100%|█████████████████████| 90/90 [00:22<00:00,  4.02it/s]"
     ]
    },
    {
     "name": "stdout",
     "output_type": "stream",
     "text": [
      "Fold: 1\n",
      "Epoch 2/199\n"
     ]
    },
    {
     "name": "stderr",
     "output_type": "stream",
     "text": [
      "\n",
      "epoch 2 loss: 0.2487:  50%|██████████▌          | 45/90 [00:23<00:21,  2.05it/s]Premature end of JPEG file\n",
      "epoch 2 loss: 0.2452:  58%|████████████▏        | 52/90 [00:27<00:18,  2.05it/s]Premature end of JPEG file\n",
      "epoch 2 loss: 0.2410:  66%|█████████████▊       | 59/90 [00:30<00:15,  2.05it/s]Corrupt JPEG data: 111 extraneous bytes before marker 0xd9\n",
      "epoch 2 loss: 0.2309: 100%|█████████████████████| 90/90 [00:45<00:00,  1.96it/s]\n",
      "epoch 2 loss: 0.2285: 100%|█████████████████████| 90/90 [00:22<00:00,  4.04it/s]"
     ]
    },
    {
     "name": "stdout",
     "output_type": "stream",
     "text": [
      "Fold: 1\n",
      "Epoch 3/199\n"
     ]
    },
    {
     "name": "stderr",
     "output_type": "stream",
     "text": [
      "\n",
      "epoch 3 loss: 0.1499:  39%|████████▏            | 35/90 [00:19<00:26,  2.06it/s]Corrupt JPEG data: 111 extraneous bytes before marker 0xd9\n",
      "epoch 3 loss: 0.1564:  61%|████████████▊        | 55/90 [00:28<00:17,  2.06it/s]Premature end of JPEG file\n",
      "epoch 3 loss: 0.1578:  69%|██████████████▍      | 62/90 [00:32<00:13,  2.05it/s]Premature end of JPEG file\n",
      "epoch 3 loss: 0.1581: 100%|█████████████████████| 90/90 [00:45<00:00,  1.96it/s]\n",
      "epoch 3 loss: 0.2018: 100%|█████████████████████| 90/90 [00:22<00:00,  4.02it/s]"
     ]
    },
    {
     "name": "stdout",
     "output_type": "stream",
     "text": [
      "Fold: 1\n",
      "Epoch 4/199\n"
     ]
    },
    {
     "name": "stderr",
     "output_type": "stream",
     "text": [
      "\n",
      "epoch 4 loss: 0.1683:  10%|██▏                   | 9/90 [00:06<00:42,  1.90it/s]Premature end of JPEG file\n",
      "epoch 4 loss: 0.1510:  71%|██████████████▉      | 64/90 [00:33<00:12,  2.06it/s]Corrupt JPEG data: 111 extraneous bytes before marker 0xd9\n",
      "epoch 4 loss: 0.1485:  79%|████████████████▌    | 71/90 [00:36<00:09,  2.05it/s]Premature end of JPEG file\n",
      "epoch 4 loss: 0.1464: 100%|█████████████████████| 90/90 [00:45<00:00,  1.96it/s]\n",
      "epoch 4 loss: 0.1953: 100%|█████████████████████| 90/90 [00:22<00:00,  4.01it/s]"
     ]
    },
    {
     "name": "stdout",
     "output_type": "stream",
     "text": [
      "Fold: 1\n",
      "Epoch 5/199\n"
     ]
    },
    {
     "name": "stderr",
     "output_type": "stream",
     "text": [
      "\n",
      "  0%|                                                    | 0/90 [00:00<?, ?it/s]Premature end of JPEG file\n",
      "epoch 5 loss: 0.1184:  28%|█████▊               | 25/90 [00:14<00:31,  2.06it/s]Corrupt JPEG data: 111 extraneous bytes before marker 0xd9\n",
      "epoch 5 loss: 0.1139:  56%|███████████▋         | 50/90 [00:26<00:19,  2.05it/s]Premature end of JPEG file\n",
      "epoch 5 loss: 0.1044: 100%|█████████████████████| 90/90 [00:45<00:00,  1.96it/s]\n",
      "epoch 5 loss: 0.1921: 100%|█████████████████████| 90/90 [00:22<00:00,  3.92it/s]"
     ]
    },
    {
     "name": "stdout",
     "output_type": "stream",
     "text": [
      "Fold: 1\n",
      "Epoch 6/199\n"
     ]
    },
    {
     "name": "stderr",
     "output_type": "stream",
     "text": [
      "\n",
      "epoch 6 loss: 0.1162:  17%|███▌                 | 15/90 [00:09<00:36,  2.03it/s]Premature end of JPEG file\n",
      "Premature end of JPEG file\n",
      "epoch 6 loss: 0.1006:  78%|████████████████▎    | 70/90 [00:35<00:09,  2.06it/s]Corrupt JPEG data: 111 extraneous bytes before marker 0xd9\n",
      "epoch 6 loss: 0.0999: 100%|█████████████████████| 90/90 [00:45<00:00,  1.97it/s]\n",
      "epoch 6 loss: 0.1860: 100%|█████████████████████| 90/90 [00:22<00:00,  4.02it/s]"
     ]
    },
    {
     "name": "stdout",
     "output_type": "stream",
     "text": [
      "Fold: 1\n",
      "Epoch 7/199\n"
     ]
    },
    {
     "name": "stderr",
     "output_type": "stream",
     "text": [
      "\n",
      "epoch 7 loss: 0.0454:   8%|█▋                    | 7/90 [00:05<00:47,  1.74it/s]Premature end of JPEG file\n",
      "epoch 7 loss: 0.0568:  49%|██████████▎          | 44/90 [00:23<00:22,  2.05it/s]Premature end of JPEG file\n",
      "epoch 7 loss: 0.0574:  57%|███████████▉         | 51/90 [00:27<00:18,  2.05it/s]Corrupt JPEG data: 111 extraneous bytes before marker 0xd9\n",
      "epoch 7 loss: 0.0645: 100%|█████████████████████| 90/90 [00:46<00:00,  1.96it/s]\n",
      "epoch 7 loss: 0.1863: 100%|█████████████████████| 90/90 [00:22<00:00,  4.05it/s]"
     ]
    },
    {
     "name": "stdout",
     "output_type": "stream",
     "text": [
      "EarlyStopping counter: 1 out of 5\n",
      "Best F1 score from now: 0.9405537783990449\n",
      "Fold: 1\n",
      "Epoch 8/199\n"
     ]
    },
    {
     "name": "stderr",
     "output_type": "stream",
     "text": [
      "\n",
      "  0%|                                                    | 0/90 [00:00<?, ?it/s]Corrupt JPEG data: 111 extraneous bytes before marker 0xd9\n",
      "epoch 8 loss: 0.0640:  44%|█████████▎           | 40/90 [00:21<00:24,  2.05it/s]Premature end of JPEG file\n",
      "epoch 8 loss: 0.0642:  73%|███████████████▍     | 66/90 [00:33<00:11,  2.05it/s]Premature end of JPEG file\n",
      "epoch 8 loss: 0.0644: 100%|█████████████████████| 90/90 [00:45<00:00,  1.98it/s]\n",
      "epoch 8 loss: 0.1951: 100%|█████████████████████| 90/90 [00:22<00:00,  4.03it/s]"
     ]
    },
    {
     "name": "stdout",
     "output_type": "stream",
     "text": [
      "EarlyStopping counter: 2 out of 5\n",
      "Best F1 score from now: 0.9405537783990449\n",
      "Fold: 1\n",
      "Epoch 9/199\n"
     ]
    },
    {
     "name": "stderr",
     "output_type": "stream",
     "text": [
      "\n",
      "epoch 9 loss: 0.0499:  13%|██▊                  | 12/90 [00:07<00:39,  2.00it/s]Corrupt JPEG data: 111 extraneous bytes before marker 0xd9\n",
      "epoch 9 loss: 0.0516:  26%|█████▎               | 23/90 [00:13<00:32,  2.06it/s]Premature end of JPEG file\n",
      "epoch 9 loss: 0.0527:  46%|█████████▌           | 41/90 [00:22<00:23,  2.06it/s]Premature end of JPEG file\n",
      "epoch 9 loss: 0.0558: 100%|█████████████████████| 90/90 [00:45<00:00,  1.96it/s]\n",
      "epoch 9 loss: 0.1927: 100%|█████████████████████| 90/90 [00:22<00:00,  4.03it/s]"
     ]
    },
    {
     "name": "stdout",
     "output_type": "stream",
     "text": [
      "EarlyStopping counter: 3 out of 5\n",
      "Best F1 score from now: 0.9405537783990449\n",
      "Fold: 1\n",
      "Epoch 10/199\n"
     ]
    },
    {
     "name": "stderr",
     "output_type": "stream",
     "text": [
      "\n",
      "epoch 10 loss: 0.0781:  20%|████                | 18/90 [00:11<00:35,  2.04it/s]Premature end of JPEG file\n",
      "epoch 10 loss: 0.0716:  52%|██████████▍         | 47/90 [00:25<00:20,  2.05it/s]Corrupt JPEG data: 111 extraneous bytes before marker 0xd9\n",
      "Premature end of JPEG file\n",
      "epoch 10 loss: 0.0659: 100%|████████████████████| 90/90 [00:46<00:00,  1.94it/s]\n",
      "epoch 10 loss: 0.1883: 100%|████████████████████| 90/90 [00:22<00:00,  4.03it/s]"
     ]
    },
    {
     "name": "stdout",
     "output_type": "stream",
     "text": [
      "Fold: 1\n",
      "Epoch 11/199\n"
     ]
    },
    {
     "name": "stderr",
     "output_type": "stream",
     "text": [
      "\n",
      "epoch 11 loss: 0.1318:   3%|▋                    | 3/90 [00:03<01:23,  1.04it/s]Premature end of JPEG file\n",
      "epoch 11 loss: 0.1111:  34%|██████▉             | 31/90 [00:17<00:28,  2.04it/s]Premature end of JPEG file\n",
      "epoch 11 loss: 0.0998:  56%|███████████         | 50/90 [00:27<00:19,  2.05it/s]Corrupt JPEG data: 111 extraneous bytes before marker 0xd9\n",
      "epoch 11 loss: 0.0828: 100%|████████████████████| 90/90 [00:46<00:00,  1.93it/s]\n",
      "epoch 11 loss: 0.1973: 100%|████████████████████| 90/90 [00:22<00:00,  4.01it/s]"
     ]
    },
    {
     "name": "stdout",
     "output_type": "stream",
     "text": [
      "EarlyStopping counter: 1 out of 5\n",
      "Best F1 score from now: 0.9409253217199185\n",
      "Fold: 1\n",
      "Epoch 12/199\n"
     ]
    },
    {
     "name": "stderr",
     "output_type": "stream",
     "text": [
      "\n",
      "epoch 12 loss: 0.0438:  30%|██████              | 27/90 [00:14<00:30,  2.06it/s]Premature end of JPEG file\n",
      "epoch 12 loss: 0.0433:  40%|████████            | 36/90 [00:19<00:26,  2.05it/s]Corrupt JPEG data: 111 extraneous bytes before marker 0xd9\n",
      "epoch 12 loss: 0.0432:  49%|█████████▊          | 44/90 [00:23<00:22,  2.05it/s]Premature end of JPEG file\n",
      "epoch 12 loss: 0.0441: 100%|████████████████████| 90/90 [00:45<00:00,  1.97it/s]\n",
      "epoch 12 loss: 0.1944: 100%|████████████████████| 90/90 [00:22<00:00,  4.05it/s]"
     ]
    },
    {
     "name": "stdout",
     "output_type": "stream",
     "text": [
      "EarlyStopping counter: 2 out of 5\n",
      "Best F1 score from now: 0.9409253217199185\n",
      "Fold: 1\n",
      "Epoch 13/199\n"
     ]
    },
    {
     "name": "stderr",
     "output_type": "stream",
     "text": [
      "\n",
      "  0%|                                                    | 0/90 [00:00<?, ?it/s]Corrupt JPEG data: 111 extraneous bytes before marker 0xd9\n",
      "epoch 13 loss: 0.0573:  63%|████████████▋       | 57/90 [00:29<00:16,  2.06it/s]Premature end of JPEG file\n",
      "epoch 13 loss: 0.0560:  68%|█████████████▌      | 61/90 [00:31<00:14,  2.04it/s]Premature end of JPEG file\n",
      "epoch 13 loss: 0.0527: 100%|████████████████████| 90/90 [00:45<00:00,  1.97it/s]\n",
      "epoch 13 loss: 0.1912: 100%|████████████████████| 90/90 [00:22<00:00,  4.03it/s]"
     ]
    },
    {
     "name": "stdout",
     "output_type": "stream",
     "text": [
      "Fold: 1\n",
      "Epoch 14/199\n"
     ]
    },
    {
     "name": "stderr",
     "output_type": "stream",
     "text": [
      "\n",
      "  0%|                                                    | 0/90 [00:00<?, ?it/s]Corrupt JPEG data: 111 extraneous bytes before marker 0xd9\n",
      "epoch 14 loss: 0.0373:  40%|████████            | 36/90 [00:19<00:26,  2.05it/s]Premature end of JPEG file\n",
      "Premature end of JPEG file\n",
      "epoch 14 loss: 0.0381: 100%|████████████████████| 90/90 [00:45<00:00,  1.96it/s]\n",
      "epoch 14 loss: 0.1921: 100%|████████████████████| 90/90 [00:22<00:00,  4.03it/s]"
     ]
    },
    {
     "name": "stdout",
     "output_type": "stream",
     "text": [
      "Fold: 1\n",
      "Epoch 15/199\n"
     ]
    },
    {
     "name": "stderr",
     "output_type": "stream",
     "text": [
      "\n",
      "epoch 15 loss: 0.0658:   1%|▏                    | 1/90 [00:01<02:55,  1.97s/it]Corrupt JPEG data: 111 extraneous bytes before marker 0xd9\n",
      "epoch 15 loss: 0.0555:  50%|██████████          | 45/90 [00:23<00:21,  2.05it/s]Premature end of JPEG file\n",
      "epoch 15 loss: 0.0520:  77%|███████████████▎    | 69/90 [00:35<00:10,  2.05it/s]Premature end of JPEG file\n",
      "epoch 15 loss: 0.0502: 100%|████████████████████| 90/90 [00:45<00:00,  1.97it/s]\n",
      "epoch 15 loss: 0.2206: 100%|████████████████████| 90/90 [00:22<00:00,  4.03it/s]"
     ]
    },
    {
     "name": "stdout",
     "output_type": "stream",
     "text": [
      "EarlyStopping counter: 1 out of 5\n",
      "Best F1 score from now: 0.944377452691489\n",
      "Fold: 1\n",
      "Epoch 16/199\n"
     ]
    },
    {
     "name": "stderr",
     "output_type": "stream",
     "text": [
      "\n",
      "  0%|                                                    | 0/90 [00:00<?, ?it/s]Premature end of JPEG file\n",
      "epoch 16 loss: 0.0312:  10%|██                   | 9/90 [00:06<00:43,  1.88it/s]Premature end of JPEG file\n",
      "epoch 16 loss: 0.0322:  21%|████▏               | 19/90 [00:11<00:34,  2.05it/s]Corrupt JPEG data: 111 extraneous bytes before marker 0xd9\n",
      "epoch 16 loss: 0.0333: 100%|████████████████████| 90/90 [00:46<00:00,  1.95it/s]\n",
      "epoch 16 loss: 0.1860: 100%|████████████████████| 90/90 [00:22<00:00,  3.95it/s]"
     ]
    },
    {
     "name": "stdout",
     "output_type": "stream",
     "text": [
      "Fold: 1\n",
      "Epoch 17/199\n"
     ]
    },
    {
     "name": "stderr",
     "output_type": "stream",
     "text": [
      "\n",
      "epoch 17 loss: 0.0301:  37%|███████▎            | 33/90 [00:18<00:27,  2.06it/s]Premature end of JPEG file\n",
      "epoch 17 loss: 0.0301:  38%|███████▌            | 34/90 [00:18<00:27,  2.06it/s]Corrupt JPEG data: 111 extraneous bytes before marker 0xd9\n",
      "epoch 17 loss: 0.0319:  73%|██████████████▋     | 66/90 [00:34<00:11,  2.06it/s]Premature end of JPEG file\n",
      "epoch 17 loss: 0.0333: 100%|████████████████████| 90/90 [00:45<00:00,  1.96it/s]\n",
      "epoch 17 loss: 0.1852: 100%|████████████████████| 90/90 [00:22<00:00,  4.02it/s]"
     ]
    },
    {
     "name": "stdout",
     "output_type": "stream",
     "text": [
      "Fold: 1\n",
      "Epoch 18/199\n"
     ]
    },
    {
     "name": "stderr",
     "output_type": "stream",
     "text": [
      "\n",
      "epoch 18 loss: 0.0598:   2%|▍                    | 2/90 [00:03<02:01,  1.38s/it]Corrupt JPEG data: 111 extraneous bytes before marker 0xd9\n",
      "epoch 18 loss: 0.0541:  29%|█████▊              | 26/90 [00:14<00:31,  2.05it/s]Premature end of JPEG file\n",
      "epoch 18 loss: 0.0519:  50%|██████████          | 45/90 [00:23<00:21,  2.05it/s]Premature end of JPEG file\n",
      "epoch 18 loss: 0.0487: 100%|████████████████████| 90/90 [00:45<00:00,  1.96it/s]\n",
      "epoch 18 loss: 0.2052: 100%|████████████████████| 90/90 [00:22<00:00,  4.02it/s]"
     ]
    },
    {
     "name": "stdout",
     "output_type": "stream",
     "text": [
      "EarlyStopping counter: 1 out of 5\n",
      "Best F1 score from now: 0.9475645890155144\n",
      "Fold: 1\n",
      "Epoch 19/199\n"
     ]
    },
    {
     "name": "stderr",
     "output_type": "stream",
     "text": [
      "\n",
      "epoch 19 loss: 0.0270:   8%|█▋                   | 7/90 [00:05<00:47,  1.77it/s]Premature end of JPEG file\n",
      "epoch 19 loss: 0.0290:  66%|█████████████       | 59/90 [00:30<00:15,  2.04it/s]Corrupt JPEG data: 111 extraneous bytes before marker 0xd9\n",
      "epoch 19 loss: 0.0287:  77%|███████████████▎    | 69/90 [00:35<00:10,  2.05it/s]Premature end of JPEG file\n",
      "epoch 19 loss: 0.0305: 100%|████████████████████| 90/90 [00:45<00:00,  1.96it/s]\n",
      "epoch 19 loss: 0.1912: 100%|████████████████████| 90/90 [00:22<00:00,  4.01it/s]"
     ]
    },
    {
     "name": "stdout",
     "output_type": "stream",
     "text": [
      "EarlyStopping counter: 2 out of 5\n",
      "Best F1 score from now: 0.9475645890155144\n",
      "Fold: 1\n",
      "Epoch 20/199\n"
     ]
    },
    {
     "name": "stderr",
     "output_type": "stream",
     "text": [
      "\n",
      "epoch 20 loss: 0.0340:  18%|███▌                | 16/90 [00:10<00:36,  2.04it/s]Premature end of JPEG file\n",
      "epoch 20 loss: 0.0342:  38%|███████▌            | 34/90 [00:19<00:27,  2.06it/s]Corrupt JPEG data: 111 extraneous bytes before marker 0xd9\n",
      "epoch 20 loss: 0.0343:  56%|███████████         | 50/90 [00:26<00:19,  2.06it/s]Premature end of JPEG file\n",
      "epoch 20 loss: 0.0336: 100%|████████████████████| 90/90 [00:46<00:00,  1.94it/s]\n",
      "epoch 20 loss: 0.1955: 100%|████████████████████| 90/90 [00:22<00:00,  4.02it/s]"
     ]
    },
    {
     "name": "stdout",
     "output_type": "stream",
     "text": [
      "EarlyStopping counter: 3 out of 5\n",
      "Best F1 score from now: 0.9475645890155144\n",
      "Fold: 1\n",
      "Epoch 21/199\n"
     ]
    },
    {
     "name": "stderr",
     "output_type": "stream",
     "text": [
      "\n",
      "  0%|                                                    | 0/90 [00:00<?, ?it/s]Premature end of JPEG file\n",
      "epoch 21 loss: 0.0246:  31%|██████▏             | 28/90 [00:15<00:30,  2.05it/s]Premature end of JPEG file\n",
      "epoch 21 loss: 0.0269:  54%|██████████▉         | 49/90 [00:25<00:19,  2.06it/s]Corrupt JPEG data: 111 extraneous bytes before marker 0xd9\n",
      "epoch 21 loss: 0.0300: 100%|████████████████████| 90/90 [00:45<00:00,  1.97it/s]\n",
      "epoch 21 loss: 0.1968: 100%|████████████████████| 90/90 [00:22<00:00,  4.04it/s]"
     ]
    },
    {
     "name": "stdout",
     "output_type": "stream",
     "text": [
      "EarlyStopping counter: 4 out of 5\n",
      "Best F1 score from now: 0.9475645890155144\n",
      "Fold: 1\n",
      "Epoch 22/199\n"
     ]
    },
    {
     "name": "stderr",
     "output_type": "stream",
     "text": [
      "\n",
      "epoch 22 loss: 0.0282:  21%|████▏               | 19/90 [00:11<00:34,  2.05it/s]Premature end of JPEG file\n",
      "epoch 22 loss: 0.0281:  26%|█████               | 23/90 [00:13<00:32,  2.04it/s]Premature end of JPEG file\n",
      "epoch 22 loss: 0.0288:  31%|██████▏             | 28/90 [00:15<00:30,  2.04it/s]Corrupt JPEG data: 111 extraneous bytes before marker 0xd9\n",
      "epoch 22 loss: 0.0311: 100%|████████████████████| 90/90 [00:46<00:00,  1.94it/s]\n",
      "epoch 22 loss: 0.1852: 100%|████████████████████| 90/90 [00:22<00:00,  4.02it/s]\n"
     ]
    },
    {
     "name": "stdout",
     "output_type": "stream",
     "text": [
      "EarlyStopping counter: 5 out of 5\n",
      "Best F1 score from now: 0.9475645890155144\n",
      "stop called\n",
      "time : 0:26:32\n",
      "fold: 1, Best Epoch : 17/ 23\n",
      "fold: 1, Best Train Marco F1 : 0.99008\n",
      "[[1198    0    0    0    2    0    0    0    0    0]\n",
      " [   0 1188    1    0    1    4    2    2    1    1]\n",
      " [   0    1 1191    0    2    3    0    2    1    0]\n",
      " [   0    0    1  789    3    3    0    3    0    1]\n",
      " [   3    6    2    5 1167    2    4    3    2    6]\n",
      " [   1    4    2    1    3  867    1    1    0    0]\n",
      " [   0    2    1    2    2    0 1293    0    1    0]\n",
      " [   0    0    3    3    3    3    0 1188    0    0]\n",
      " [   0    2    0    0    1    1    0    0 1136    0]\n",
      " [   0    0    0    0    2    1    1    0    1 1323]]\n",
      "fold: 1, Best Valid Marco F1 : 0.94756\n",
      "[[295   0   0   0   5   0   0   0   0   0]\n",
      " [  0 281   0   1   6   7   3   0   2   0]\n",
      " [  1   0 287   4   3   1   2   2   0   0]\n",
      " [  0   0   0 196   1   1   1   1   0   0]\n",
      " [  2   3  10   9 238   7   8   9   7   7]\n",
      " [  1   4   2   4   2 205   0   0   1   0]\n",
      " [  0   0   0   1   1   0 323   0   1   0]\n",
      " [  0   0   5   5   5   0   1 283   1   0]\n",
      " [  0   0   0   0   2   0   0   0 282   1]\n",
      " [  0   0   0   0   2   0   0   0   2 328]]\n",
      "---------------------------------------------------------\n",
      "Training start with fold: 2 epoch: 200 \n",
      "\n",
      "model.repeat_2.8.branch1.2.conv.weight: True\n",
      "model.repeat_2.8.branch1.2.bn.weight: True\n",
      "model.repeat_2.8.branch1.2.bn.bias: True\n",
      "model.repeat_2.8.conv2d.weight: True\n",
      "model.repeat_2.8.conv2d.bias: True\n",
      "model.block8.branch0.conv.weight: True\n",
      "model.block8.branch0.bn.weight: True\n",
      "model.block8.branch0.bn.bias: True\n",
      "model.block8.branch1.0.conv.weight: True\n",
      "model.block8.branch1.0.bn.weight: True\n",
      "model.block8.branch1.0.bn.bias: True\n",
      "model.block8.branch1.1.conv.weight: True\n",
      "model.block8.branch1.1.bn.weight: True\n",
      "model.block8.branch1.1.bn.bias: True\n",
      "model.block8.branch1.2.conv.weight: True\n",
      "model.block8.branch1.2.bn.weight: True\n",
      "model.block8.branch1.2.bn.bias: True\n",
      "model.block8.conv2d.weight: True\n",
      "model.block8.conv2d.bias: True\n",
      "model.conv2d_7b.conv.weight: True\n",
      "model.conv2d_7b.bn.weight: True\n",
      "model.conv2d_7b.bn.bias: True\n",
      "model.classif.weight: True\n",
      "model.classif.bias: True\n",
      "Fold: 2\n",
      "Epoch 0/199\n"
     ]
    },
    {
     "name": "stderr",
     "output_type": "stream",
     "text": [
      "epoch 0 loss: 2.3839:   3%|▋                     | 3/90 [00:03<01:21,  1.07it/s]Corrupt JPEG data: 111 extraneous bytes before marker 0xd9\n",
      "epoch 0 loss: 1.4117: 100%|█████████████████████| 90/90 [00:45<00:00,  1.96it/s]\n",
      "epoch 0 loss: 0.0846:   8%|█▋                    | 7/90 [00:02<00:21,  3.84it/s]Premature end of JPEG file\n",
      "Premature end of JPEG file\n",
      "epoch 0 loss: 0.3169: 100%|█████████████████████| 90/90 [00:22<00:00,  4.02it/s]"
     ]
    },
    {
     "name": "stdout",
     "output_type": "stream",
     "text": [
      "Fold: 2\n",
      "Epoch 1/199\n"
     ]
    },
    {
     "name": "stderr",
     "output_type": "stream",
     "text": [
      "\n",
      "epoch 1 loss: 0.4042:  31%|██████▌              | 28/90 [00:15<00:30,  2.05it/s]Corrupt JPEG data: 111 extraneous bytes before marker 0xd9\n",
      "epoch 1 loss: 0.3477: 100%|█████████████████████| 90/90 [00:45<00:00,  1.97it/s]\n",
      "epoch 1 loss: 0.0819:   8%|█▋                    | 7/90 [00:02<00:21,  3.88it/s]Premature end of JPEG file\n",
      "Premature end of JPEG file\n",
      "epoch 1 loss: 0.2364: 100%|█████████████████████| 90/90 [00:22<00:00,  4.03it/s]"
     ]
    },
    {
     "name": "stdout",
     "output_type": "stream",
     "text": [
      "Fold: 2\n",
      "Epoch 2/199\n"
     ]
    },
    {
     "name": "stderr",
     "output_type": "stream",
     "text": [
      "\n",
      "epoch 2 loss: 0.2325:   3%|▋                     | 3/90 [00:03<01:20,  1.07it/s]Corrupt JPEG data: 111 extraneous bytes before marker 0xd9\n",
      "epoch 2 loss: 0.2209: 100%|█████████████████████| 90/90 [00:45<00:00,  1.97it/s]\n",
      "epoch 2 loss: 0.0326:   8%|█▋                    | 7/90 [00:02<00:21,  3.87it/s]Premature end of JPEG file\n",
      "Premature end of JPEG file\n",
      "epoch 2 loss: 0.2062: 100%|█████████████████████| 90/90 [00:22<00:00,  4.02it/s]"
     ]
    },
    {
     "name": "stdout",
     "output_type": "stream",
     "text": [
      "Fold: 2\n",
      "Epoch 3/199\n"
     ]
    },
    {
     "name": "stderr",
     "output_type": "stream",
     "text": [
      "\n",
      "epoch 3 loss: 0.1690:  76%|███████████████▊     | 68/90 [00:34<00:10,  2.06it/s]Corrupt JPEG data: 111 extraneous bytes before marker 0xd9\n",
      "epoch 3 loss: 0.1664: 100%|█████████████████████| 90/90 [00:45<00:00,  1.97it/s]\n",
      "epoch 3 loss: 0.0832:   8%|█▋                    | 7/90 [00:02<00:21,  3.85it/s]Premature end of JPEG file\n",
      "Premature end of JPEG file\n",
      "epoch 3 loss: 0.1820: 100%|█████████████████████| 90/90 [00:22<00:00,  4.02it/s]"
     ]
    },
    {
     "name": "stdout",
     "output_type": "stream",
     "text": [
      "Fold: 2\n",
      "Epoch 4/199\n"
     ]
    },
    {
     "name": "stderr",
     "output_type": "stream",
     "text": [
      "\n",
      "epoch 4 loss: 0.1419:  48%|██████████           | 43/90 [00:23<00:22,  2.06it/s]Corrupt JPEG data: 111 extraneous bytes before marker 0xd9\n",
      "epoch 4 loss: 0.1378: 100%|█████████████████████| 90/90 [00:45<00:00,  1.96it/s]\n",
      "epoch 4 loss: 0.0146:   8%|█▋                    | 7/90 [00:02<00:21,  3.80it/s]Premature end of JPEG file\n",
      "Premature end of JPEG file\n",
      "epoch 4 loss: 0.1913: 100%|█████████████████████| 90/90 [00:22<00:00,  3.99it/s]"
     ]
    },
    {
     "name": "stdout",
     "output_type": "stream",
     "text": [
      "Fold: 2\n",
      "Epoch 5/199\n"
     ]
    },
    {
     "name": "stderr",
     "output_type": "stream",
     "text": [
      "\n",
      "epoch 5 loss: 0.0748:   2%|▍                     | 2/90 [00:02<01:41,  1.16s/it]Corrupt JPEG data: 111 extraneous bytes before marker 0xd9\n",
      "epoch 5 loss: 0.0872: 100%|█████████████████████| 90/90 [00:45<00:00,  1.98it/s]\n",
      "epoch 5 loss: 0.0936:   8%|█▋                    | 7/90 [00:01<00:21,  3.94it/s]Premature end of JPEG file\n",
      "Premature end of JPEG file\n",
      "epoch 5 loss: 0.1839: 100%|█████████████████████| 90/90 [00:22<00:00,  3.93it/s]"
     ]
    },
    {
     "name": "stdout",
     "output_type": "stream",
     "text": [
      "Fold: 2\n",
      "Epoch 6/199\n"
     ]
    },
    {
     "name": "stderr",
     "output_type": "stream",
     "text": [
      "\n",
      "epoch 6 loss: 0.0451:  23%|████▉                | 21/90 [00:12<00:33,  2.05it/s]Corrupt JPEG data: 111 extraneous bytes before marker 0xd9\n",
      "epoch 6 loss: 0.0647: 100%|█████████████████████| 90/90 [00:46<00:00,  1.95it/s]\n",
      "epoch 6 loss: 0.0503:   8%|█▋                    | 7/90 [00:02<00:21,  3.80it/s]Premature end of JPEG file\n",
      "Premature end of JPEG file\n",
      "epoch 6 loss: 0.1841: 100%|█████████████████████| 90/90 [00:22<00:00,  4.02it/s]"
     ]
    },
    {
     "name": "stdout",
     "output_type": "stream",
     "text": [
      "Fold: 2\n",
      "Epoch 7/199\n"
     ]
    },
    {
     "name": "stderr",
     "output_type": "stream",
     "text": [
      "\n",
      "epoch 7 loss: 0.1000:  73%|███████████████▍     | 66/90 [00:34<00:11,  2.06it/s]Corrupt JPEG data: 111 extraneous bytes before marker 0xd9\n",
      "epoch 7 loss: 0.0942: 100%|█████████████████████| 90/90 [00:45<00:00,  1.96it/s]\n",
      "epoch 7 loss: 0.0970:   8%|█▋                    | 7/90 [00:02<00:21,  3.84it/s]Premature end of JPEG file\n",
      "Premature end of JPEG file\n",
      "epoch 7 loss: 0.1793: 100%|█████████████████████| 90/90 [00:22<00:00,  4.02it/s]"
     ]
    },
    {
     "name": "stdout",
     "output_type": "stream",
     "text": [
      "Fold: 2\n",
      "Epoch 8/199\n"
     ]
    },
    {
     "name": "stderr",
     "output_type": "stream",
     "text": [
      "\n",
      "epoch 8 loss: 0.0627:  22%|████▋                | 20/90 [00:11<00:34,  2.05it/s]Corrupt JPEG data: 111 extraneous bytes before marker 0xd9\n",
      "epoch 8 loss: 0.0671: 100%|█████████████████████| 90/90 [00:45<00:00,  1.96it/s]\n",
      "epoch 8 loss: 0.0745:   8%|█▋                    | 7/90 [00:01<00:20,  3.95it/s]Premature end of JPEG file\n",
      "Premature end of JPEG file\n",
      "epoch 8 loss: 0.1778: 100%|█████████████████████| 90/90 [00:22<00:00,  4.04it/s]"
     ]
    },
    {
     "name": "stdout",
     "output_type": "stream",
     "text": [
      "Fold: 2\n",
      "Epoch 9/199\n"
     ]
    },
    {
     "name": "stderr",
     "output_type": "stream",
     "text": [
      "\n",
      "epoch 9 loss: 0.0600:  32%|██████▊              | 29/90 [00:16<00:29,  2.05it/s]Corrupt JPEG data: 111 extraneous bytes before marker 0xd9\n",
      "epoch 9 loss: 0.0576: 100%|█████████████████████| 90/90 [00:45<00:00,  1.96it/s]\n",
      "epoch 9 loss: 0.0357:   8%|█▋                    | 7/90 [00:01<00:21,  3.91it/s]Premature end of JPEG file\n",
      "Premature end of JPEG file\n",
      "epoch 9 loss: 0.1799: 100%|█████████████████████| 90/90 [00:22<00:00,  4.04it/s]"
     ]
    },
    {
     "name": "stdout",
     "output_type": "stream",
     "text": [
      "EarlyStopping counter: 1 out of 5\n",
      "Best F1 score from now: 0.9465313752564215\n",
      "Fold: 2\n",
      "Epoch 10/199\n"
     ]
    },
    {
     "name": "stderr",
     "output_type": "stream",
     "text": [
      "\n",
      "epoch 10 loss: 0.0638:  41%|████████▏           | 37/90 [00:19<00:25,  2.05it/s]Corrupt JPEG data: 111 extraneous bytes before marker 0xd9\n",
      "epoch 10 loss: 0.0613: 100%|████████████████████| 90/90 [00:45<00:00,  1.98it/s]\n",
      "epoch 10 loss: 0.0706:   8%|█▋                   | 7/90 [00:02<00:21,  3.82it/s]Premature end of JPEG file\n",
      "Premature end of JPEG file\n",
      "epoch 10 loss: 0.1735: 100%|████████████████████| 90/90 [00:22<00:00,  3.99it/s]"
     ]
    },
    {
     "name": "stdout",
     "output_type": "stream",
     "text": [
      "Fold: 2\n",
      "Epoch 11/199\n"
     ]
    },
    {
     "name": "stderr",
     "output_type": "stream",
     "text": [
      "\n",
      "epoch 11 loss: 0.0437:  79%|███████████████▊    | 71/90 [00:37<00:09,  2.05it/s]Corrupt JPEG data: 111 extraneous bytes before marker 0xd9\n",
      "epoch 11 loss: 0.0437: 100%|████████████████████| 90/90 [00:46<00:00,  1.94it/s]\n",
      "epoch 11 loss: 0.0826:   8%|█▋                   | 7/90 [00:01<00:21,  3.93it/s]Premature end of JPEG file\n",
      "Premature end of JPEG file\n",
      "epoch 11 loss: 0.1755: 100%|████████████████████| 90/90 [00:22<00:00,  4.04it/s]"
     ]
    },
    {
     "name": "stdout",
     "output_type": "stream",
     "text": [
      "EarlyStopping counter: 1 out of 5\n",
      "Best F1 score from now: 0.9472270346503177\n",
      "Fold: 2\n",
      "Epoch 12/199\n"
     ]
    },
    {
     "name": "stderr",
     "output_type": "stream",
     "text": [
      "\n",
      "epoch 12 loss: 0.0674:  13%|██▋                 | 12/90 [00:07<00:38,  2.00it/s]Corrupt JPEG data: 111 extraneous bytes before marker 0xd9\n",
      "epoch 12 loss: 0.0548: 100%|████████████████████| 90/90 [00:45<00:00,  1.96it/s]\n",
      "epoch 12 loss: 0.0610:   8%|█▋                   | 7/90 [00:01<00:21,  3.95it/s]Premature end of JPEG file\n",
      "Premature end of JPEG file\n",
      "epoch 12 loss: 0.1747: 100%|████████████████████| 90/90 [00:22<00:00,  4.05it/s]"
     ]
    },
    {
     "name": "stdout",
     "output_type": "stream",
     "text": [
      "EarlyStopping counter: 2 out of 5\n",
      "Best F1 score from now: 0.9472270346503177\n",
      "Fold: 2\n",
      "Epoch 13/199\n"
     ]
    },
    {
     "name": "stderr",
     "output_type": "stream",
     "text": [
      "\n",
      "epoch 13 loss: 0.0586:  47%|█████████▎          | 42/90 [00:22<00:23,  2.05it/s]Corrupt JPEG data: 111 extraneous bytes before marker 0xd9\n",
      "epoch 13 loss: 0.0524: 100%|████████████████████| 90/90 [00:45<00:00,  1.98it/s]\n",
      "epoch 13 loss: 0.0825:   8%|█▋                   | 7/90 [00:02<00:21,  3.82it/s]Premature end of JPEG file\n",
      "Premature end of JPEG file\n",
      "epoch 13 loss: 0.1768: 100%|████████████████████| 90/90 [00:22<00:00,  4.01it/s]"
     ]
    },
    {
     "name": "stdout",
     "output_type": "stream",
     "text": [
      "EarlyStopping counter: 3 out of 5\n",
      "Best F1 score from now: 0.9472270346503177\n",
      "Fold: 2\n",
      "Epoch 14/199\n"
     ]
    },
    {
     "name": "stderr",
     "output_type": "stream",
     "text": [
      "\n",
      "epoch 14 loss: 0.0266:  29%|█████▊              | 26/90 [00:14<00:31,  2.05it/s]Corrupt JPEG data: 111 extraneous bytes before marker 0xd9\n",
      "epoch 14 loss: 0.0340: 100%|████████████████████| 90/90 [00:45<00:00,  1.96it/s]\n",
      "epoch 14 loss: 0.1176:   8%|█▋                   | 7/90 [00:02<00:21,  3.92it/s]Premature end of JPEG file\n",
      "Premature end of JPEG file\n",
      "epoch 14 loss: 0.1875: 100%|████████████████████| 90/90 [00:22<00:00,  4.03it/s]"
     ]
    },
    {
     "name": "stdout",
     "output_type": "stream",
     "text": [
      "EarlyStopping counter: 4 out of 5\n",
      "Best F1 score from now: 0.9472270346503177\n",
      "Fold: 2\n",
      "Epoch 15/199\n"
     ]
    },
    {
     "name": "stderr",
     "output_type": "stream",
     "text": [
      "\n",
      "epoch 15 loss: 0.0268:  63%|████████████▋       | 57/90 [00:29<00:16,  2.05it/s]Corrupt JPEG data: 111 extraneous bytes before marker 0xd9\n",
      "epoch 15 loss: 0.0300: 100%|████████████████████| 90/90 [00:45<00:00,  1.96it/s]\n",
      "epoch 15 loss: 0.0466:   8%|█▋                   | 7/90 [00:02<00:21,  3.86it/s]Premature end of JPEG file\n",
      "Premature end of JPEG file\n",
      "epoch 15 loss: 0.1818: 100%|████████████████████| 90/90 [00:22<00:00,  4.02it/s]\n"
     ]
    },
    {
     "name": "stdout",
     "output_type": "stream",
     "text": [
      "EarlyStopping counter: 5 out of 5\n",
      "Best F1 score from now: 0.9472270346503177\n",
      "stop called\n",
      "time : 0:18:24\n",
      "fold: 2, Best Epoch : 10/ 16\n",
      "fold: 2, Best Train Marco F1 : 0.98416\n",
      "[[1190    0    0    1    6    2    0    0    0    1]\n",
      " [   0 1186    0    0    5    5    3    0    1    0]\n",
      " [   0    0 1184    3    5    2    1    4    1    0]\n",
      " [   1    0    1  784    5    5    2    2    0    0]\n",
      " [   6   14    6    3 1142    2    4   10    5    8]\n",
      " [   1    8    0    4    2  860    1    0    2    1]\n",
      " [   0    2    0    3    1    0 1295    0    1    0]\n",
      " [   0    1    5    3    5    1    1 1184    0    0]\n",
      " [   0    0    0    0    6    1    1    0 1128    4]\n",
      " [   0    0    0    0    6    0    0    0    2 1320]]\n",
      "fold: 2, Best Valid Marco F1 : 0.94723\n",
      "[[293   0   0   0   7   0   0   0   0   0]\n",
      " [  0 286   0   0   4   7   1   1   0   1]\n",
      " [  0   0 283   1   5   5   2   3   1   0]\n",
      " [  0   0   1 190   1   2   2   4   0   0]\n",
      " [  7   4   7   8 254   5   5   4   1   5]\n",
      " [  0   0   1   4   3 209   1   1   1   0]\n",
      " [  0   1   0   2   7   1 312   1   1   0]\n",
      " [  0   0  11   2   6   0   0 281   0   0]\n",
      " [  0   0   0   0   4   1   0   0 279   1]\n",
      " [  0   0   0   0   3   1   0   0   0 328]]\n",
      "---------------------------------------------------------\n",
      "Training start with fold: 3 epoch: 200 \n",
      "\n",
      "model.repeat_2.8.branch1.2.conv.weight: True\n",
      "model.repeat_2.8.branch1.2.bn.weight: True\n",
      "model.repeat_2.8.branch1.2.bn.bias: True\n",
      "model.repeat_2.8.conv2d.weight: True\n",
      "model.repeat_2.8.conv2d.bias: True\n",
      "model.block8.branch0.conv.weight: True\n",
      "model.block8.branch0.bn.weight: True\n",
      "model.block8.branch0.bn.bias: True\n",
      "model.block8.branch1.0.conv.weight: True\n",
      "model.block8.branch1.0.bn.weight: True\n",
      "model.block8.branch1.0.bn.bias: True\n",
      "model.block8.branch1.1.conv.weight: True\n",
      "model.block8.branch1.1.bn.weight: True\n",
      "model.block8.branch1.1.bn.bias: True\n",
      "model.block8.branch1.2.conv.weight: True\n",
      "model.block8.branch1.2.bn.weight: True\n",
      "model.block8.branch1.2.bn.bias: True\n",
      "model.block8.conv2d.weight: True\n",
      "model.block8.conv2d.bias: True\n",
      "model.conv2d_7b.conv.weight: True\n",
      "model.conv2d_7b.bn.weight: True\n",
      "model.conv2d_7b.bn.bias: True\n",
      "model.classif.weight: True\n",
      "model.classif.bias: True\n",
      "Fold: 3\n",
      "Epoch 0/199\n"
     ]
    },
    {
     "name": "stderr",
     "output_type": "stream",
     "text": [
      "  0%|                                                    | 0/90 [00:00<?, ?it/s]Premature end of JPEG file\n",
      "epoch 0 loss: 2.0875:  38%|███████▉             | 34/90 [00:18<00:27,  2.05it/s]Premature end of JPEG file\n",
      "epoch 0 loss: 1.4060: 100%|█████████████████████| 90/90 [00:45<00:00,  1.97it/s]\n",
      "epoch 0 loss: 0.3059:  69%|██████████████▍      | 62/90 [00:15<00:06,  4.13it/s]Corrupt JPEG data: 111 extraneous bytes before marker 0xd9\n",
      "epoch 0 loss: 0.3173: 100%|█████████████████████| 90/90 [00:22<00:00,  4.05it/s]"
     ]
    },
    {
     "name": "stdout",
     "output_type": "stream",
     "text": [
      "Fold: 3\n",
      "Epoch 1/199\n"
     ]
    },
    {
     "name": "stderr",
     "output_type": "stream",
     "text": [
      "\n",
      "  0%|                                                    | 0/90 [00:00<?, ?it/s]Premature end of JPEG file\n",
      "epoch 1 loss: 0.3966:  68%|██████████████▏      | 61/90 [00:31<00:14,  2.06it/s]Premature end of JPEG file\n",
      "epoch 1 loss: 0.3622: 100%|█████████████████████| 90/90 [00:45<00:00,  1.96it/s]\n",
      "epoch 1 loss: 0.2242:  69%|██████████████▍      | 62/90 [00:15<00:06,  4.12it/s]Corrupt JPEG data: 111 extraneous bytes before marker 0xd9\n",
      "epoch 1 loss: 0.2220: 100%|█████████████████████| 90/90 [00:22<00:00,  4.03it/s]"
     ]
    },
    {
     "name": "stdout",
     "output_type": "stream",
     "text": [
      "Fold: 3\n",
      "Epoch 2/199\n"
     ]
    },
    {
     "name": "stderr",
     "output_type": "stream",
     "text": [
      "\n",
      "epoch 2 loss: 0.2172:  19%|███▉                 | 17/90 [00:10<00:35,  2.03it/s]Premature end of JPEG file\n",
      "epoch 2 loss: 0.2176:  33%|███████              | 30/90 [00:17<00:29,  2.05it/s]Premature end of JPEG file\n",
      "epoch 2 loss: 0.2114: 100%|█████████████████████| 90/90 [00:46<00:00,  1.94it/s]\n",
      "epoch 2 loss: 0.1799:  69%|██████████████▍      | 62/90 [00:15<00:06,  4.13it/s]Corrupt JPEG data: 111 extraneous bytes before marker 0xd9\n",
      "epoch 2 loss: 0.1862: 100%|█████████████████████| 90/90 [00:22<00:00,  4.03it/s]"
     ]
    },
    {
     "name": "stdout",
     "output_type": "stream",
     "text": [
      "Fold: 3\n",
      "Epoch 3/199\n"
     ]
    },
    {
     "name": "stderr",
     "output_type": "stream",
     "text": [
      "\n",
      "epoch 3 loss: 0.1419:   2%|▍                     | 2/90 [00:03<02:05,  1.42s/it]Premature end of JPEG file\n",
      "epoch 3 loss: 0.1506:  48%|██████████           | 43/90 [00:23<00:22,  2.06it/s]Premature end of JPEG file\n",
      "epoch 3 loss: 0.1566: 100%|█████████████████████| 90/90 [00:46<00:00,  1.95it/s]\n",
      "epoch 3 loss: 0.1913:  69%|██████████████▍      | 62/90 [00:15<00:06,  4.12it/s]Corrupt JPEG data: 111 extraneous bytes before marker 0xd9\n",
      "epoch 3 loss: 0.1826: 100%|█████████████████████| 90/90 [00:22<00:00,  4.03it/s]"
     ]
    },
    {
     "name": "stdout",
     "output_type": "stream",
     "text": [
      "EarlyStopping counter: 1 out of 5\n",
      "Best F1 score from now: 0.9382557641620706\n",
      "Fold: 3\n",
      "Epoch 4/199\n"
     ]
    },
    {
     "name": "stderr",
     "output_type": "stream",
     "text": [
      "\n",
      "  0%|                                                    | 0/90 [00:00<?, ?it/s]Premature end of JPEG file\n",
      "epoch 4 loss: 0.1356:  34%|███████▏             | 31/90 [00:16<00:28,  2.05it/s]Premature end of JPEG file\n",
      "epoch 4 loss: 0.1304: 100%|█████████████████████| 90/90 [00:45<00:00,  1.98it/s]\n",
      "epoch 4 loss: 0.1601:  69%|██████████████▍      | 62/90 [00:15<00:06,  4.08it/s]Corrupt JPEG data: 111 extraneous bytes before marker 0xd9\n",
      "epoch 4 loss: 0.1666: 100%|█████████████████████| 90/90 [00:22<00:00,  4.03it/s]"
     ]
    },
    {
     "name": "stdout",
     "output_type": "stream",
     "text": [
      "Fold: 3\n",
      "Epoch 5/199\n"
     ]
    },
    {
     "name": "stderr",
     "output_type": "stream",
     "text": [
      "\n",
      "epoch 5 loss: 0.0739:  38%|███████▉             | 34/90 [00:18<00:27,  2.05it/s]Premature end of JPEG file\n",
      "epoch 5 loss: 0.0821:  80%|████████████████▊    | 72/90 [00:37<00:08,  2.05it/s]Premature end of JPEG file\n",
      "epoch 5 loss: 0.0822: 100%|█████████████████████| 90/90 [00:45<00:00,  1.96it/s]\n",
      "epoch 5 loss: 0.1592:  69%|██████████████▍      | 62/90 [00:16<00:06,  4.13it/s]Corrupt JPEG data: 111 extraneous bytes before marker 0xd9\n",
      "epoch 5 loss: 0.1659: 100%|█████████████████████| 90/90 [00:22<00:00,  3.92it/s]"
     ]
    },
    {
     "name": "stdout",
     "output_type": "stream",
     "text": [
      "Fold: 3\n",
      "Epoch 6/199\n"
     ]
    },
    {
     "name": "stderr",
     "output_type": "stream",
     "text": [
      "\n",
      "epoch 6 loss: 0.1229:  17%|███▌                 | 15/90 [00:09<00:36,  2.03it/s]Premature end of JPEG file\n",
      "epoch 6 loss: 0.1047:  69%|██████████████▍      | 62/90 [00:32<00:13,  2.04it/s]Premature end of JPEG file\n",
      "epoch 6 loss: 0.0979: 100%|█████████████████████| 90/90 [00:46<00:00,  1.95it/s]\n",
      "epoch 6 loss: 0.1657:  69%|██████████████▍      | 62/90 [00:15<00:06,  4.13it/s]Corrupt JPEG data: 111 extraneous bytes before marker 0xd9\n",
      "epoch 6 loss: 0.1607: 100%|█████████████████████| 90/90 [00:22<00:00,  4.04it/s]"
     ]
    },
    {
     "name": "stdout",
     "output_type": "stream",
     "text": [
      "Fold: 3\n",
      "Epoch 7/199\n"
     ]
    },
    {
     "name": "stderr",
     "output_type": "stream",
     "text": [
      "\n",
      "epoch 7 loss: 0.0593:  21%|████▍                | 19/90 [00:11<00:34,  2.05it/s]Premature end of JPEG file\n",
      "epoch 7 loss: 0.0621:  58%|████████████▏        | 52/90 [00:27<00:18,  2.05it/s]Premature end of JPEG file\n",
      "epoch 7 loss: 0.0659: 100%|█████████████████████| 90/90 [00:45<00:00,  1.97it/s]\n",
      "epoch 7 loss: 0.1659:  69%|██████████████▍      | 62/90 [00:15<00:06,  4.12it/s]Corrupt JPEG data: 111 extraneous bytes before marker 0xd9\n",
      "epoch 7 loss: 0.1698: 100%|█████████████████████| 90/90 [00:22<00:00,  4.03it/s]"
     ]
    },
    {
     "name": "stdout",
     "output_type": "stream",
     "text": [
      "EarlyStopping counter: 1 out of 5\n",
      "Best F1 score from now: 0.9470236816758492\n",
      "Fold: 3\n",
      "Epoch 8/199\n"
     ]
    },
    {
     "name": "stderr",
     "output_type": "stream",
     "text": [
      "\n",
      "  0%|                                                    | 0/90 [00:00<?, ?it/s]Premature end of JPEG file\n",
      "epoch 8 loss: 0.0295:   3%|▋                     | 3/90 [00:03<01:23,  1.04it/s]Premature end of JPEG file\n",
      "epoch 8 loss: 0.0505: 100%|█████████████████████| 90/90 [00:45<00:00,  1.96it/s]\n",
      "epoch 8 loss: 0.1733:  69%|██████████████▍      | 62/90 [00:15<00:06,  4.14it/s]Corrupt JPEG data: 111 extraneous bytes before marker 0xd9\n",
      "epoch 8 loss: 0.1684: 100%|█████████████████████| 90/90 [00:22<00:00,  4.03it/s]"
     ]
    },
    {
     "name": "stdout",
     "output_type": "stream",
     "text": [
      "EarlyStopping counter: 2 out of 5\n",
      "Best F1 score from now: 0.9470236816758492\n",
      "Fold: 3\n",
      "Epoch 9/199\n"
     ]
    },
    {
     "name": "stderr",
     "output_type": "stream",
     "text": [
      "\n",
      "  0%|                                                    | 0/90 [00:00<?, ?it/s]Premature end of JPEG file\n",
      "epoch 9 loss: 0.0354:  31%|██████▌              | 28/90 [00:15<00:30,  2.05it/s]Premature end of JPEG file\n",
      "epoch 9 loss: 0.0465: 100%|█████████████████████| 90/90 [00:46<00:00,  1.95it/s]\n",
      "epoch 9 loss: 0.1661:  69%|██████████████▍      | 62/90 [00:15<00:06,  4.11it/s]Corrupt JPEG data: 111 extraneous bytes before marker 0xd9\n",
      "epoch 9 loss: 0.1618: 100%|█████████████████████| 90/90 [00:22<00:00,  4.02it/s]"
     ]
    },
    {
     "name": "stdout",
     "output_type": "stream",
     "text": [
      "Fold: 3\n",
      "Epoch 10/199\n"
     ]
    },
    {
     "name": "stderr",
     "output_type": "stream",
     "text": [
      "\n",
      "  0%|                                                    | 0/90 [00:00<?, ?it/s]Premature end of JPEG file\n",
      "epoch 10 loss: 0.0357:  21%|████▏               | 19/90 [00:11<00:34,  2.05it/s]Premature end of JPEG file\n",
      "epoch 10 loss: 0.0436: 100%|████████████████████| 90/90 [00:45<00:00,  1.96it/s]\n",
      "epoch 10 loss: 0.1587:  69%|█████████████▊      | 62/90 [00:15<00:06,  4.11it/s]Corrupt JPEG data: 111 extraneous bytes before marker 0xd9\n",
      "epoch 10 loss: 0.1552: 100%|████████████████████| 90/90 [00:22<00:00,  4.02it/s]"
     ]
    },
    {
     "name": "stdout",
     "output_type": "stream",
     "text": [
      "Fold: 3\n",
      "Epoch 11/199\n"
     ]
    },
    {
     "name": "stderr",
     "output_type": "stream",
     "text": [
      "\n",
      "epoch 11 loss: 0.0644:  27%|█████▎              | 24/90 [00:14<00:35,  1.88it/s]Premature end of JPEG file\n",
      "epoch 11 loss: 0.0632:  37%|███████▎            | 33/90 [00:18<00:27,  2.04it/s]Premature end of JPEG file\n",
      "epoch 11 loss: 0.0556: 100%|████████████████████| 90/90 [00:46<00:00,  1.93it/s]\n",
      "epoch 11 loss: 0.1551:  69%|█████████████▊      | 62/90 [00:15<00:06,  4.09it/s]Corrupt JPEG data: 111 extraneous bytes before marker 0xd9\n",
      "epoch 11 loss: 0.1551: 100%|████████████████████| 90/90 [00:22<00:00,  4.03it/s]"
     ]
    },
    {
     "name": "stdout",
     "output_type": "stream",
     "text": [
      "EarlyStopping counter: 1 out of 5\n",
      "Best F1 score from now: 0.9520784707967789\n",
      "Fold: 3\n",
      "Epoch 12/199\n"
     ]
    },
    {
     "name": "stderr",
     "output_type": "stream",
     "text": [
      "\n",
      "  0%|                                                    | 0/90 [00:00<?, ?it/s]Premature end of JPEG file\n",
      "epoch 12 loss: 0.0422:  58%|███████████▌        | 52/90 [00:27<00:18,  2.05it/s]Premature end of JPEG file\n",
      "epoch 12 loss: 0.0431: 100%|████████████████████| 90/90 [00:45<00:00,  1.96it/s]\n",
      "epoch 12 loss: 0.1660:  69%|█████████████▊      | 62/90 [00:15<00:06,  4.12it/s]Corrupt JPEG data: 111 extraneous bytes before marker 0xd9\n",
      "epoch 12 loss: 0.1554: 100%|████████████████████| 90/90 [00:22<00:00,  4.04it/s]"
     ]
    },
    {
     "name": "stdout",
     "output_type": "stream",
     "text": [
      "EarlyStopping counter: 2 out of 5\n",
      "Best F1 score from now: 0.9520784707967789\n",
      "Fold: 3\n",
      "Epoch 13/199\n"
     ]
    },
    {
     "name": "stderr",
     "output_type": "stream",
     "text": [
      "\n",
      "epoch 13 loss: 0.0338:   2%|▍                    | 2/90 [00:02<01:54,  1.30s/it]Premature end of JPEG file\n",
      "epoch 13 loss: 0.0371:  42%|████████▍           | 38/90 [00:20<00:25,  2.05it/s]Premature end of JPEG file\n",
      "epoch 13 loss: 0.0387: 100%|████████████████████| 90/90 [00:45<00:00,  1.96it/s]\n",
      "epoch 13 loss: 0.1662:  69%|█████████████▊      | 62/90 [00:15<00:06,  4.13it/s]Corrupt JPEG data: 111 extraneous bytes before marker 0xd9\n",
      "epoch 13 loss: 0.1610: 100%|████████████████████| 90/90 [00:22<00:00,  4.04it/s]"
     ]
    },
    {
     "name": "stdout",
     "output_type": "stream",
     "text": [
      "EarlyStopping counter: 3 out of 5\n",
      "Best F1 score from now: 0.9520784707967789\n",
      "Fold: 3\n",
      "Epoch 14/199\n"
     ]
    },
    {
     "name": "stderr",
     "output_type": "stream",
     "text": [
      "\n",
      "epoch 14 loss: 0.0575:  10%|██                   | 9/90 [00:06<00:42,  1.92it/s]Premature end of JPEG file\n",
      "epoch 14 loss: 0.0554:  38%|███████▌            | 34/90 [00:18<00:27,  2.05it/s]Premature end of JPEG file\n",
      "epoch 14 loss: 0.0494: 100%|████████████████████| 90/90 [00:45<00:00,  1.98it/s]\n",
      "epoch 14 loss: 0.1668:  69%|█████████████▊      | 62/90 [00:15<00:06,  4.14it/s]Corrupt JPEG data: 111 extraneous bytes before marker 0xd9\n",
      "epoch 14 loss: 0.1588: 100%|████████████████████| 90/90 [00:22<00:00,  4.01it/s]"
     ]
    },
    {
     "name": "stdout",
     "output_type": "stream",
     "text": [
      "EarlyStopping counter: 4 out of 5\n",
      "Best F1 score from now: 0.9520784707967789\n",
      "Fold: 3\n",
      "Epoch 15/199\n"
     ]
    },
    {
     "name": "stderr",
     "output_type": "stream",
     "text": [
      "\n",
      "epoch 15 loss: 0.0479:  44%|████████▉           | 40/90 [00:21<00:24,  2.06it/s]Premature end of JPEG file\n",
      "epoch 15 loss: 0.0466:  70%|██████████████      | 63/90 [00:32<00:13,  2.05it/s]Premature end of JPEG file\n",
      "epoch 15 loss: 0.0438: 100%|████████████████████| 90/90 [00:45<00:00,  1.97it/s]\n",
      "epoch 15 loss: 0.1551:  69%|█████████████▊      | 62/90 [00:15<00:06,  4.10it/s]Corrupt JPEG data: 111 extraneous bytes before marker 0xd9\n",
      "epoch 15 loss: 0.1552: 100%|████████████████████| 90/90 [00:22<00:00,  4.03it/s]"
     ]
    },
    {
     "name": "stdout",
     "output_type": "stream",
     "text": [
      "Fold: 3\n",
      "Epoch 16/199\n"
     ]
    },
    {
     "name": "stderr",
     "output_type": "stream",
     "text": [
      "\n",
      "epoch 16 loss: 0.0314:   7%|█▍                   | 6/90 [00:04<00:50,  1.67it/s]Premature end of JPEG file\n",
      "epoch 16 loss: 0.0343:  54%|██████████▉         | 49/90 [00:25<00:20,  2.05it/s]Premature end of JPEG file\n",
      "epoch 16 loss: 0.0353: 100%|████████████████████| 90/90 [00:45<00:00,  1.96it/s]\n",
      "epoch 16 loss: 0.1669:  69%|█████████████▊      | 62/90 [00:16<00:06,  4.11it/s]Corrupt JPEG data: 111 extraneous bytes before marker 0xd9\n",
      "epoch 16 loss: 0.1565: 100%|████████████████████| 90/90 [00:22<00:00,  3.92it/s]"
     ]
    },
    {
     "name": "stdout",
     "output_type": "stream",
     "text": [
      "EarlyStopping counter: 1 out of 5\n",
      "Best F1 score from now: 0.9523621912563971\n",
      "Fold: 3\n",
      "Epoch 17/199\n"
     ]
    },
    {
     "name": "stderr",
     "output_type": "stream",
     "text": [
      "\n",
      "epoch 17 loss: 0.0167:   0%|                             | 0/90 [00:02<?, ?it/s]Premature end of JPEG file\n",
      "epoch 17 loss: 0.0246:  68%|█████████████▌      | 61/90 [00:31<00:14,  2.05it/s]Premature end of JPEG file\n",
      "epoch 17 loss: 0.0286: 100%|████████████████████| 90/90 [00:45<00:00,  1.97it/s]\n",
      "epoch 17 loss: 0.1705:  69%|█████████████▊      | 62/90 [00:15<00:06,  4.10it/s]Corrupt JPEG data: 111 extraneous bytes before marker 0xd9\n",
      "epoch 17 loss: 0.1633: 100%|████████████████████| 90/90 [00:22<00:00,  4.01it/s]"
     ]
    },
    {
     "name": "stdout",
     "output_type": "stream",
     "text": [
      "EarlyStopping counter: 2 out of 5\n",
      "Best F1 score from now: 0.9523621912563971\n",
      "Fold: 3\n",
      "Epoch 18/199\n"
     ]
    },
    {
     "name": "stderr",
     "output_type": "stream",
     "text": [
      "\n",
      "epoch 18 loss: 0.0278:  59%|███████████▊        | 53/90 [00:27<00:17,  2.06it/s]Premature end of JPEG file\n",
      "epoch 18 loss: 0.0291:  78%|███████████████▌    | 70/90 [00:36<00:09,  2.05it/s]Premature end of JPEG file\n",
      "epoch 18 loss: 0.0298: 100%|████████████████████| 90/90 [00:45<00:00,  1.96it/s]\n",
      "epoch 18 loss: 0.1609:  69%|█████████████▊      | 62/90 [00:15<00:06,  4.07it/s]Corrupt JPEG data: 111 extraneous bytes before marker 0xd9\n",
      "epoch 18 loss: 0.1587: 100%|████████████████████| 90/90 [00:22<00:00,  4.02it/s]"
     ]
    },
    {
     "name": "stdout",
     "output_type": "stream",
     "text": [
      "EarlyStopping counter: 3 out of 5\n",
      "Best F1 score from now: 0.9523621912563971\n",
      "Fold: 3\n",
      "Epoch 19/199\n"
     ]
    },
    {
     "name": "stderr",
     "output_type": "stream",
     "text": [
      "\n",
      "epoch 19 loss: 0.0272:   1%|▏                    | 1/90 [00:02<03:21,  2.26s/it]Premature end of JPEG file\n",
      "Premature end of JPEG file\n",
      "epoch 19 loss: 0.0294: 100%|████████████████████| 90/90 [00:45<00:00,  1.97it/s]\n",
      "epoch 19 loss: 0.1717:  69%|█████████████▊      | 62/90 [00:15<00:06,  4.10it/s]Corrupt JPEG data: 111 extraneous bytes before marker 0xd9\n",
      "epoch 19 loss: 0.1614: 100%|████████████████████| 90/90 [00:22<00:00,  4.01it/s]"
     ]
    },
    {
     "name": "stdout",
     "output_type": "stream",
     "text": [
      "EarlyStopping counter: 4 out of 5\n",
      "Best F1 score from now: 0.9523621912563971\n",
      "Fold: 3\n",
      "Epoch 20/199\n"
     ]
    },
    {
     "name": "stderr",
     "output_type": "stream",
     "text": [
      "\n",
      "epoch 20 loss: 0.0084:   4%|▉                    | 4/90 [00:03<01:07,  1.27it/s]Premature end of JPEG file\n",
      "epoch 20 loss: 0.0117:  21%|████▏               | 19/90 [00:11<00:34,  2.04it/s]Premature end of JPEG file\n",
      "epoch 20 loss: 0.0231: 100%|████████████████████| 90/90 [00:45<00:00,  1.96it/s]\n",
      "epoch 20 loss: 0.1682:  69%|█████████████▊      | 62/90 [00:15<00:06,  4.12it/s]Corrupt JPEG data: 111 extraneous bytes before marker 0xd9\n",
      "epoch 20 loss: 0.1610: 100%|████████████████████| 90/90 [00:22<00:00,  4.03it/s]\n"
     ]
    },
    {
     "name": "stdout",
     "output_type": "stream",
     "text": [
      "EarlyStopping counter: 5 out of 5\n",
      "Best F1 score from now: 0.9523621912563971\n",
      "stop called\n",
      "time : 0:24:12\n",
      "fold: 3, Best Epoch : 15/ 21\n",
      "fold: 3, Best Train Marco F1 : 0.98956\n",
      "[[1194    1    0    0    5    0    0    0    0    0]\n",
      " [   0 1193    0    0    1    3    2    0    1    0]\n",
      " [   1    1 1192    0    0    2    0    3    0    1]\n",
      " [   0    1    0  791    3    5    0    0    0    0]\n",
      " [   5    7    4    2 1158    6    6    6    2    4]\n",
      " [   0    0    2    3    4  868    2    0    0    0]\n",
      " [   0    0    0    0    3    0 1299    0    0    0]\n",
      " [   0    0    5    2    7    4    2 1179    1    0]\n",
      " [   1    0    0    0    0    1    0    0 1138    0]\n",
      " [   0    0    0    1    2    0    1    1    2 1321]]\n",
      "fold: 3, Best Valid Marco F1 : 0.95236\n",
      "[[296   0   0   0   4   0   0   0   0   0]\n",
      " [  0 285   1   1   6   1   2   0   1   3]\n",
      " [  0   0 286   1   3   2   2   2   3   1]\n",
      " [  0   0   1 193   3   1   0   2   0   0]\n",
      " [  3   5   5   7 244   8   6   9   9   4]\n",
      " [  0   2   3   0   4 207   0   1   3   0]\n",
      " [  0   0   0   0   2   0 322   0   1   0]\n",
      " [  0   0   5   1   6   1   1 286   0   0]\n",
      " [  0   1   0   0   4   0   0   0 280   0]\n",
      " [  0   0   0   0   2   0   0   0   0 330]]\n",
      "---------------------------------------------------------\n",
      "Training start with fold: 4 epoch: 200 \n",
      "\n",
      "model.repeat_2.8.branch1.2.conv.weight: True\n",
      "model.repeat_2.8.branch1.2.bn.weight: True\n",
      "model.repeat_2.8.branch1.2.bn.bias: True\n",
      "model.repeat_2.8.conv2d.weight: True\n",
      "model.repeat_2.8.conv2d.bias: True\n",
      "model.block8.branch0.conv.weight: True\n",
      "model.block8.branch0.bn.weight: True\n",
      "model.block8.branch0.bn.bias: True\n",
      "model.block8.branch1.0.conv.weight: True\n",
      "model.block8.branch1.0.bn.weight: True\n",
      "model.block8.branch1.0.bn.bias: True\n",
      "model.block8.branch1.1.conv.weight: True\n",
      "model.block8.branch1.1.bn.weight: True\n",
      "model.block8.branch1.1.bn.bias: True\n",
      "model.block8.branch1.2.conv.weight: True\n",
      "model.block8.branch1.2.bn.weight: True\n",
      "model.block8.branch1.2.bn.bias: True\n",
      "model.block8.conv2d.weight: True\n",
      "model.block8.conv2d.bias: True\n",
      "model.conv2d_7b.conv.weight: True\n",
      "model.conv2d_7b.bn.weight: True\n",
      "model.conv2d_7b.bn.bias: True\n",
      "model.classif.weight: True\n",
      "model.classif.bias: True\n",
      "Fold: 4\n",
      "Epoch 0/199\n"
     ]
    },
    {
     "name": "stderr",
     "output_type": "stream",
     "text": [
      "  0%|                                                    | 0/90 [00:00<?, ?it/s]Corrupt JPEG data: 111 extraneous bytes before marker 0xd9\n",
      "epoch 0 loss: 1.6504:  71%|██████████████▉      | 64/90 [00:32<00:12,  2.05it/s]Premature end of JPEG file\n",
      "epoch 0 loss: 1.6149:  74%|███████████████▋     | 67/90 [00:34<00:11,  2.04it/s]Premature end of JPEG file\n",
      "epoch 0 loss: 1.3676: 100%|█████████████████████| 90/90 [00:45<00:00,  1.97it/s]\n",
      "epoch 0 loss: 0.3190: 100%|█████████████████████| 90/90 [00:22<00:00,  4.01it/s]"
     ]
    },
    {
     "name": "stdout",
     "output_type": "stream",
     "text": [
      "Fold: 4\n",
      "Epoch 1/199\n"
     ]
    },
    {
     "name": "stderr",
     "output_type": "stream",
     "text": [
      "\n",
      "epoch 1 loss: 0.2820:  19%|███▉                 | 17/90 [00:10<00:35,  2.04it/s]Premature end of JPEG file\n",
      "epoch 1 loss: 0.2834:  21%|████▍                | 19/90 [00:11<00:34,  2.05it/s]Corrupt JPEG data: 111 extraneous bytes before marker 0xd9\n",
      "epoch 1 loss: 0.2822:  79%|████████████████▌    | 71/90 [00:36<00:09,  2.05it/s]Premature end of JPEG file\n",
      "epoch 1 loss: 0.2802: 100%|█████████████████████| 90/90 [00:45<00:00,  1.96it/s]\n",
      "epoch 1 loss: 0.2350: 100%|█████████████████████| 90/90 [00:22<00:00,  4.03it/s]"
     ]
    },
    {
     "name": "stdout",
     "output_type": "stream",
     "text": [
      "Fold: 4\n",
      "Epoch 2/199\n"
     ]
    },
    {
     "name": "stderr",
     "output_type": "stream",
     "text": [
      "\n",
      "epoch 2 loss: 0.1980:  34%|███████▏             | 31/90 [00:17<00:28,  2.06it/s]Premature end of JPEG file\n",
      "epoch 2 loss: 0.2004:  47%|█████████▊           | 42/90 [00:22<00:23,  2.06it/s]Corrupt JPEG data: 111 extraneous bytes before marker 0xd9\n",
      "epoch 2 loss: 0.1999:  70%|██████████████▋      | 63/90 [00:32<00:13,  2.06it/s]Premature end of JPEG file\n",
      "epoch 2 loss: 0.2026: 100%|█████████████████████| 90/90 [00:45<00:00,  1.96it/s]\n",
      "epoch 2 loss: 0.1966: 100%|█████████████████████| 90/90 [00:22<00:00,  4.04it/s]"
     ]
    },
    {
     "name": "stdout",
     "output_type": "stream",
     "text": [
      "Fold: 4\n",
      "Epoch 3/199\n"
     ]
    },
    {
     "name": "stderr",
     "output_type": "stream",
     "text": [
      "\n",
      "epoch 3 loss: 0.1579:   1%|▏                     | 1/90 [00:02<03:08,  2.11s/it]Premature end of JPEG file\n",
      "epoch 3 loss: 0.1584:   2%|▍                     | 2/90 [00:02<01:44,  1.18s/it]Corrupt JPEG data: 111 extraneous bytes before marker 0xd9\n",
      "epoch 3 loss: 0.1578:  79%|████████████████▌    | 71/90 [00:36<00:09,  2.05it/s]Premature end of JPEG file\n",
      "epoch 3 loss: 0.1573: 100%|█████████████████████| 90/90 [00:45<00:00,  1.97it/s]\n",
      "epoch 3 loss: 0.2014: 100%|█████████████████████| 90/90 [00:22<00:00,  4.02it/s]"
     ]
    },
    {
     "name": "stdout",
     "output_type": "stream",
     "text": [
      "EarlyStopping counter: 1 out of 5\n",
      "Best F1 score from now: 0.9360130609638\n",
      "Fold: 4\n",
      "Epoch 4/199\n"
     ]
    },
    {
     "name": "stderr",
     "output_type": "stream",
     "text": [
      "\n",
      "epoch 4 loss: 0.1316:   3%|▋                     | 3/90 [00:03<01:26,  1.00it/s]Premature end of JPEG file\n",
      "epoch 4 loss: 0.1293:  23%|████▉                | 21/90 [00:12<00:33,  2.05it/s]Premature end of JPEG file\n",
      "epoch 4 loss: 0.1287:  81%|█████████████████    | 73/90 [00:37<00:08,  2.05it/s]Corrupt JPEG data: 111 extraneous bytes before marker 0xd9\n",
      "epoch 4 loss: 0.1271: 100%|█████████████████████| 90/90 [00:46<00:00,  1.95it/s]\n",
      "epoch 4 loss: 0.2037: 100%|█████████████████████| 90/90 [00:22<00:00,  4.03it/s]"
     ]
    },
    {
     "name": "stdout",
     "output_type": "stream",
     "text": [
      "EarlyStopping counter: 2 out of 5\n",
      "Best F1 score from now: 0.9360130609638\n",
      "Fold: 4\n",
      "Epoch 5/199\n"
     ]
    },
    {
     "name": "stderr",
     "output_type": "stream",
     "text": [
      "\n",
      "epoch 5 loss: 0.0990:   2%|▍                     | 2/90 [00:03<01:57,  1.34s/it]Corrupt JPEG data: 111 extraneous bytes before marker 0xd9\n",
      "epoch 5 loss: 0.0976:  11%|██▎                  | 10/90 [00:06<00:41,  1.95it/s]Premature end of JPEG file\n",
      "epoch 5 loss: 0.0974:  61%|████████████▊        | 55/90 [00:28<00:17,  2.05it/s]Premature end of JPEG file\n",
      "epoch 5 loss: 0.0958: 100%|█████████████████████| 90/90 [00:45<00:00,  1.96it/s]\n",
      "epoch 5 loss: 0.1980: 100%|█████████████████████| 90/90 [00:22<00:00,  3.93it/s]"
     ]
    },
    {
     "name": "stdout",
     "output_type": "stream",
     "text": [
      "EarlyStopping counter: 3 out of 5\n",
      "Best F1 score from now: 0.9360130609638\n",
      "Fold: 4\n",
      "Epoch 6/199\n"
     ]
    },
    {
     "name": "stderr",
     "output_type": "stream",
     "text": [
      "\n",
      "epoch 6 loss: 0.0566:   9%|█▉                    | 8/90 [00:05<00:44,  1.85it/s]Premature end of JPEG file\n",
      "epoch 6 loss: 0.0584:  20%|████▏                | 18/90 [00:10<00:35,  2.05it/s]Corrupt JPEG data: 111 extraneous bytes before marker 0xd9\n",
      "epoch 6 loss: 0.0677:  67%|██████████████       | 60/90 [00:31<00:14,  2.05it/s]Premature end of JPEG file\n",
      "epoch 6 loss: 0.0691: 100%|█████████████████████| 90/90 [00:45<00:00,  1.97it/s]\n",
      "epoch 6 loss: 0.2102: 100%|█████████████████████| 90/90 [00:22<00:00,  4.02it/s]"
     ]
    },
    {
     "name": "stdout",
     "output_type": "stream",
     "text": [
      "EarlyStopping counter: 4 out of 5\n",
      "Best F1 score from now: 0.9360130609638\n",
      "Fold: 4\n",
      "Epoch 7/199\n"
     ]
    },
    {
     "name": "stderr",
     "output_type": "stream",
     "text": [
      "\n",
      "epoch 7 loss: 0.0609:   6%|█▏                    | 5/90 [00:04<00:58,  1.46it/s]Premature end of JPEG file\n",
      "epoch 7 loss: 0.0613:  22%|████▋                | 20/90 [00:11<00:34,  2.05it/s]Corrupt JPEG data: 111 extraneous bytes before marker 0xd9\n",
      "epoch 7 loss: 0.0627:  51%|██████████▋          | 46/90 [00:24<00:21,  2.05it/s]Premature end of JPEG file\n",
      "epoch 7 loss: 0.0640: 100%|█████████████████████| 90/90 [00:45<00:00,  1.96it/s]\n",
      "epoch 7 loss: 0.2149: 100%|█████████████████████| 90/90 [00:22<00:00,  4.03it/s]"
     ]
    },
    {
     "name": "stdout",
     "output_type": "stream",
     "text": [
      "EarlyStopping counter: 5 out of 5\n",
      "Best F1 score from now: 0.9360130609638\n",
      "stop called\n",
      "time : 0:09:13\n",
      "fold: 4, Best Epoch : 2/ 8\n",
      "fold: 4, Best Train Marco F1 : 0.93124\n",
      "[[1170    0    1    1   25    1    0    0    2    0]\n",
      " [   1 1139    1    0   19   23    5    2    6    4]\n",
      " [   0    3 1126    8   19   14    2   24    3    1]\n",
      " [   3    0   10  737   20    5    9   16    0    0]\n",
      " [  31   32   20   32  973   22   17   39   13   21]\n",
      " [   3   30    9    7   28  788    0    7    6    1]\n",
      " [   0    5    0    6   21    0 1261    4    4    1]\n",
      " [   0    2   38   10   28   16    8 1095    2    1]\n",
      " [   2    3    2    0   21    3    2    2 1093   12]\n",
      " [   1    2    0    1    7    0    2    1    9 1305]]\n",
      "fold: 4, Best Valid Marco F1 : 0.93601\n",
      "[[297   1   0   0   2   0   0   0   0   0]\n",
      " [  0 284   0   0   8   3   2   0   2   1]\n",
      " [  0   0 282   4   5   1   0   7   1   0]\n",
      " [  0   0   2 187   8   0   1   2   0   0]\n",
      " [  8   3   6  12 238   5   4   5  12   7]\n",
      " [  1   3   3   2  11 192   2   2   3   1]\n",
      " [  0   0   0   1   2   2 320   0   0   0]\n",
      " [  0   0   5   3   8   2   0 280   0   2]\n",
      " [  0   0   0   0   5   0   0   0 279   1]\n",
      " [  0   0   0   0   1   0   0   0   3 328]]\n",
      "---------------------------------------------------------\n",
      "best_fold : 0.9569964313513578\n",
      " Top fold : 0\n"
     ]
    },
    {
     "name": "stderr",
     "output_type": "stream",
     "text": [
      "\n"
     ]
    }
   ],
   "source": [
    "if __name__ == '__main__':\n",
    "    seed_everything(CFG['seed'])\n",
    "    \n",
    "    # WANDB TRACKER INIT\n",
    "    wandb.init(project=project_name, entity=user)\n",
    "    wandb.config.update(CFG)\n",
    "    wandb.run.name = run_name\n",
    "    wandb.define_metric(\"Train Accuracy\", step_metric=\"epoch\")\n",
    "    wandb.define_metric(\"Valid Accuracy\", step_metric=\"epoch\")\n",
    "    wandb.define_metric(\"Train Loss\", step_metric=\"epoch\")\n",
    "    wandb.define_metric(\"Valid Loss\", step_metric=\"epoch\")\n",
    "    wandb.define_metric(\"Train Macro F1 Score\", step_metric=\"epoch\")\n",
    "    wandb.define_metric(\"Valid Macro F1 Score\", step_metric=\"epoch\")\n",
    "    wandb.define_metric(\"Train-Valid Accuracy\", step_metric=\"epoch\")\n",
    "    \n",
    "    model_dir = CFG['model_path'] + '/{}_{}'.format(CFG['model'], run_id)\n",
    "    train_dir = train.dir.values\n",
    "    best_fold = 0\n",
    "    \n",
    "    model_name = CFG['model']\n",
    "    print(f'Model: {model_name}')\n",
    "    \n",
    "    # MAKE MODEL DIR\n",
    "    if not os.path.isdir(model_dir):\n",
    "        os.makedirs(model_dir)\n",
    "    \n",
    "    folds = StratifiedKFold(n_splits=CFG['fold_num'], shuffle=True, random_state=CFG['seed']).split(np.arange(train.shape[0]), train.label.values)\n",
    "    \n",
    "    best_fold = 0\n",
    "    best_valid_score =0.0\n",
    "    \n",
    "    print('Model: {}'.format(CFG['model']))\n",
    "    for fold, (trn_idx, val_idx) in enumerate(folds):\n",
    "    \n",
    "        print(f'Training start with fold: {fold} epoch: {CFG[\"epochs\"]} \\n')\n",
    "\n",
    "        early_stopping = EarlyStopping(patience=CFG[\"patience\"], verbose=True)\n",
    "        train_loader, val_loader = prepare_dataloader(train, trn_idx, val_idx, data_root=train_dir)\n",
    "        \n",
    "        ## Model definition\n",
    "        device = torch.device(CFG['device'])\n",
    "        model = ForcepImgClassifier(CFG['model'], train.label.nunique(), pretrained=True)\n",
    "        \n",
    "        ## Model Freezing\n",
    "        model.freezing(freeze = CFG['freezing'], trainable_layer = CFG['trainable_layer'])\n",
    "        if CFG['freezing'] ==True:\n",
    "            for name, param in model.named_parameters():\n",
    "                if param.requires_grad == True:\n",
    "                    print(f\"{name}: {param.requires_grad}\")\n",
    "        \n",
    "        ## DataParallel\n",
    "        model.to(device)\n",
    "        if torch.cuda.device_count() > 1:\n",
    "            model = nn.DataParallel(model)\n",
    "        \n",
    "        scaler = torch.cuda.amp.GradScaler()   \n",
    "        optimizer = torch.optim.Adam(model.parameters(), lr=CFG['lr'])\n",
    "        scheduler = torch.optim.lr_scheduler.StepLR(optimizer, gamma=0.5, step_size=5)\n",
    "        \n",
    "        ## criterion\n",
    "        loss_tr = nn.CrossEntropyLoss().to(device) #MyCrossEntropyLoss().to(device)\n",
    "        loss_fn = nn.CrossEntropyLoss().to(device)\n",
    "\n",
    "        wandb.watch(model, loss_tr, log='all')\n",
    "        train_acc_list = []\n",
    "        train_matrix_list = []\n",
    "        train_f1_list = []\n",
    "        valid_acc_list = []\n",
    "        valid_matrix_list = []\n",
    "        valid_f1_list = []\n",
    "        \n",
    "        start = time.time()\n",
    "        for epoch in range(CFG['epochs']):\n",
    "            print(f'Fold: {fold}')\n",
    "            print('Epoch {}/{}'.format(epoch, CFG['epochs'] - 1))\n",
    "            \n",
    "            train_preds_all, train_acc, train_loss, train_matrix, train_f1 = train_one_epoch(epoch, model, loss_tr,\n",
    "                                                                        optimizer, train_loader, device, scheduler=scheduler)\n",
    "            wandb.log({'Train Accuracy':train_acc, 'Train Loss' : train_loss, 'Train F1': train_f1, 'epoch' : epoch})\n",
    "\n",
    "            with torch.no_grad():\n",
    "                valid_preds_all, valid_acc, valid_loss, valid_matrix, valid_f1= valid_one_epoch(epoch, model, loss_fn,\n",
    "                                                                        val_loader, device, scheduler=None)\n",
    "                wandb.log({'Valid Accuracy':valid_acc, 'Valid Loss' : valid_loss, 'Valid F1': valid_f1 ,'epoch' : epoch})\n",
    "                \n",
    "            train_acc_list.append(train_acc)\n",
    "            train_matrix_list.append(train_matrix)\n",
    "            train_f1_list.append(train_f1)\n",
    "            \n",
    "            valid_acc_list.append(valid_acc)\n",
    "            valid_matrix_list.append(valid_matrix)\n",
    "            valid_f1_list.append(valid_f1)\n",
    "            \n",
    "            \n",
    "            if valid_f1 > best_valid_score:\n",
    "                best_valid_score = valid_f1\n",
    "                best_epoch = epoch\n",
    "                torch.save(model.state_dict(), (model_dir+'/{}').format(CFG['model']))\n",
    "                \n",
    "            # EARLY STOPPING\n",
    "            stop = early_stopping(valid_f1)\n",
    "            if stop:\n",
    "                print(\"stop called\")   \n",
    "                break\n",
    "    \n",
    "        end = time.time() - start\n",
    "        time_ = str(datetime.timedelta(seconds=end)).split(\".\")[0]\n",
    "        print(\"time :\", time_)\n",
    "\n",
    "        best_index = valid_f1_list.index(max(valid_f1_list))\n",
    "        print(f'fold: {fold}, Best Epoch : {best_index}/ {len(valid_f1_list)}')\n",
    "        \n",
    "        print(f'fold: {fold}, Best Train Marco F1 : {train_f1_list[best_index]:.5f}')\n",
    "        print(train_matrix_list[best_index])\n",
    "        \n",
    "        print(f'fold: {fold}, Best Valid Marco F1 : {valid_f1_list[best_index]:.5f}')\n",
    "        print(valid_matrix_list[best_index])\n",
    "        print('---------------------------------------------------------')\n",
    "        \n",
    "        if valid_f1_list[best_index] > best_fold:\n",
    "            best_fold = valid_f1_list[best_index]\n",
    "            top_fold = fold\n",
    "    print(f'best_fold : {best_fold}\\n Top fold : {top_fold}')\n"
   ]
  },
  {
   "cell_type": "code",
   "execution_count": 22,
   "id": "c9ab9299-b98a-43ef-ad42-51e4aad3ddd0",
   "metadata": {},
   "outputs": [
    {
     "data": {
      "text/html": [
       "<div>\n",
       "<style scoped>\n",
       "    .dataframe tbody tr th:only-of-type {\n",
       "        vertical-align: middle;\n",
       "    }\n",
       "\n",
       "    .dataframe tbody tr th {\n",
       "        vertical-align: top;\n",
       "    }\n",
       "\n",
       "    .dataframe thead th {\n",
       "        text-align: right;\n",
       "    }\n",
       "</style>\n",
       "<table border=\"1\" class=\"dataframe\">\n",
       "  <thead>\n",
       "    <tr style=\"text-align: right;\">\n",
       "      <th></th>\n",
       "      <th>image_id</th>\n",
       "      <th>dir</th>\n",
       "      <th>label</th>\n",
       "    </tr>\n",
       "  </thead>\n",
       "  <tbody>\n",
       "    <tr>\n",
       "      <th>0</th>\n",
       "      <td>만보인증_076.jpg</td>\n",
       "      <td>../Data/carbon_reduction/10kwalking/10kwalking...</td>\n",
       "      <td>10kwalking</td>\n",
       "    </tr>\n",
       "    <tr>\n",
       "      <th>1</th>\n",
       "      <td>나이키 만보_392.jpg</td>\n",
       "      <td>../Data/carbon_reduction/10kwalking/10kwalking...</td>\n",
       "      <td>10kwalking</td>\n",
       "    </tr>\n",
       "    <tr>\n",
       "      <th>2</th>\n",
       "      <td>else1109.jpg</td>\n",
       "      <td>../Data/carbon_reduction/10kwalking/10kwalking...</td>\n",
       "      <td>10kwalking</td>\n",
       "    </tr>\n",
       "    <tr>\n",
       "      <th>3</th>\n",
       "      <td>토스 만보_416.jpg</td>\n",
       "      <td>../Data/carbon_reduction/10kwalking/10kwalking...</td>\n",
       "      <td>10kwalking</td>\n",
       "    </tr>\n",
       "    <tr>\n",
       "      <th>4</th>\n",
       "      <td>삼성헬스 만보_416.jpg</td>\n",
       "      <td>../Data/carbon_reduction/10kwalking/10kwalking...</td>\n",
       "      <td>10kwalking</td>\n",
       "    </tr>\n",
       "    <tr>\n",
       "      <th>...</th>\n",
       "      <td>...</td>\n",
       "      <td>...</td>\n",
       "      <td>...</td>\n",
       "    </tr>\n",
       "    <tr>\n",
       "      <th>4230</th>\n",
       "      <td>else4129.jpg</td>\n",
       "      <td>../Data/carbon_reduction/cup/cups_from_else</td>\n",
       "      <td>cup</td>\n",
       "    </tr>\n",
       "    <tr>\n",
       "      <th>4231</th>\n",
       "      <td>else7796.jpg</td>\n",
       "      <td>../Data/carbon_reduction/cup/cups_from_else</td>\n",
       "      <td>cup</td>\n",
       "    </tr>\n",
       "    <tr>\n",
       "      <th>4232</th>\n",
       "      <td>else12867.jpg</td>\n",
       "      <td>../Data/carbon_reduction/cup/cups_from_else</td>\n",
       "      <td>cup</td>\n",
       "    </tr>\n",
       "    <tr>\n",
       "      <th>4233</th>\n",
       "      <td>양치컵_구글_202.jpg</td>\n",
       "      <td>../Data/carbon_reduction/cup/양치컵_구글</td>\n",
       "      <td>cup</td>\n",
       "    </tr>\n",
       "    <tr>\n",
       "      <th>4234</th>\n",
       "      <td>양치컵_구글_144.jpg</td>\n",
       "      <td>../Data/carbon_reduction/cup/양치컵_구글</td>\n",
       "      <td>cup</td>\n",
       "    </tr>\n",
       "  </tbody>\n",
       "</table>\n",
       "<p>4235 rows × 3 columns</p>\n",
       "</div>"
      ],
      "text/plain": [
       "             image_id                                                dir  \\\n",
       "0        만보인증_076.jpg  ../Data/carbon_reduction/10kwalking/10kwalking...   \n",
       "1      나이키 만보_392.jpg  ../Data/carbon_reduction/10kwalking/10kwalking...   \n",
       "2        else1109.jpg  ../Data/carbon_reduction/10kwalking/10kwalking...   \n",
       "3       토스 만보_416.jpg  ../Data/carbon_reduction/10kwalking/10kwalking...   \n",
       "4     삼성헬스 만보_416.jpg  ../Data/carbon_reduction/10kwalking/10kwalking...   \n",
       "...               ...                                                ...   \n",
       "4230     else4129.jpg        ../Data/carbon_reduction/cup/cups_from_else   \n",
       "4231     else7796.jpg        ../Data/carbon_reduction/cup/cups_from_else   \n",
       "4232    else12867.jpg        ../Data/carbon_reduction/cup/cups_from_else   \n",
       "4233   양치컵_구글_202.jpg                ../Data/carbon_reduction/cup/양치컵_구글   \n",
       "4234   양치컵_구글_144.jpg                ../Data/carbon_reduction/cup/양치컵_구글   \n",
       "\n",
       "           label  \n",
       "0     10kwalking  \n",
       "1     10kwalking  \n",
       "2     10kwalking  \n",
       "3     10kwalking  \n",
       "4     10kwalking  \n",
       "...          ...  \n",
       "4230         cup  \n",
       "4231         cup  \n",
       "4232         cup  \n",
       "4233         cup  \n",
       "4234         cup  \n",
       "\n",
       "[4235 rows x 3 columns]"
      ]
     },
     "execution_count": 22,
     "metadata": {},
     "output_type": "execute_result"
    }
   ],
   "source": [
    "## Pandas Test 데이터프레임 만들기\n",
    "tst_df = pd.DataFrame(total_test_img_paths, columns=['image_id'])\n",
    "tst_df['dir'] = tst_df['image_id'].apply(lambda x: os.path.dirname(x))\n",
    "tst_df['image_id'] = tst_df['image_id'].apply(lambda x: os.path.basename(x))\n",
    "tst_df['label'] = total_test_img_labels\n",
    "test = tst_df\n",
    "test"
   ]
  },
  {
   "cell_type": "code",
   "execution_count": 23,
   "id": "93dba2e1-92a8-4e81-89e8-17005fb81bbd",
   "metadata": {},
   "outputs": [
    {
     "data": {
      "text/html": [
       "<div>\n",
       "<style scoped>\n",
       "    .dataframe tbody tr th:only-of-type {\n",
       "        vertical-align: middle;\n",
       "    }\n",
       "\n",
       "    .dataframe tbody tr th {\n",
       "        vertical-align: top;\n",
       "    }\n",
       "\n",
       "    .dataframe thead th {\n",
       "        text-align: right;\n",
       "    }\n",
       "</style>\n",
       "<table border=\"1\" class=\"dataframe\">\n",
       "  <thead>\n",
       "    <tr style=\"text-align: right;\">\n",
       "      <th></th>\n",
       "      <th>image_id</th>\n",
       "      <th>dir</th>\n",
       "      <th>label</th>\n",
       "    </tr>\n",
       "  </thead>\n",
       "  <tbody>\n",
       "    <tr>\n",
       "      <th>0</th>\n",
       "      <td>만보인증_076.jpg</td>\n",
       "      <td>../Data/carbon_reduction/10kwalking/10kwalking...</td>\n",
       "      <td>0</td>\n",
       "    </tr>\n",
       "    <tr>\n",
       "      <th>1</th>\n",
       "      <td>나이키 만보_392.jpg</td>\n",
       "      <td>../Data/carbon_reduction/10kwalking/10kwalking...</td>\n",
       "      <td>0</td>\n",
       "    </tr>\n",
       "    <tr>\n",
       "      <th>2</th>\n",
       "      <td>else1109.jpg</td>\n",
       "      <td>../Data/carbon_reduction/10kwalking/10kwalking...</td>\n",
       "      <td>0</td>\n",
       "    </tr>\n",
       "    <tr>\n",
       "      <th>3</th>\n",
       "      <td>토스 만보_416.jpg</td>\n",
       "      <td>../Data/carbon_reduction/10kwalking/10kwalking...</td>\n",
       "      <td>0</td>\n",
       "    </tr>\n",
       "    <tr>\n",
       "      <th>4</th>\n",
       "      <td>삼성헬스 만보_416.jpg</td>\n",
       "      <td>../Data/carbon_reduction/10kwalking/10kwalking...</td>\n",
       "      <td>0</td>\n",
       "    </tr>\n",
       "    <tr>\n",
       "      <th>...</th>\n",
       "      <td>...</td>\n",
       "      <td>...</td>\n",
       "      <td>...</td>\n",
       "    </tr>\n",
       "    <tr>\n",
       "      <th>4230</th>\n",
       "      <td>else4129.jpg</td>\n",
       "      <td>../Data/carbon_reduction/cup/cups_from_else</td>\n",
       "      <td>3</td>\n",
       "    </tr>\n",
       "    <tr>\n",
       "      <th>4231</th>\n",
       "      <td>else7796.jpg</td>\n",
       "      <td>../Data/carbon_reduction/cup/cups_from_else</td>\n",
       "      <td>3</td>\n",
       "    </tr>\n",
       "    <tr>\n",
       "      <th>4232</th>\n",
       "      <td>else12867.jpg</td>\n",
       "      <td>../Data/carbon_reduction/cup/cups_from_else</td>\n",
       "      <td>3</td>\n",
       "    </tr>\n",
       "    <tr>\n",
       "      <th>4233</th>\n",
       "      <td>양치컵_구글_202.jpg</td>\n",
       "      <td>../Data/carbon_reduction/cup/양치컵_구글</td>\n",
       "      <td>3</td>\n",
       "    </tr>\n",
       "    <tr>\n",
       "      <th>4234</th>\n",
       "      <td>양치컵_구글_144.jpg</td>\n",
       "      <td>../Data/carbon_reduction/cup/양치컵_구글</td>\n",
       "      <td>3</td>\n",
       "    </tr>\n",
       "  </tbody>\n",
       "</table>\n",
       "<p>4235 rows × 3 columns</p>\n",
       "</div>"
      ],
      "text/plain": [
       "             image_id                                                dir  \\\n",
       "0        만보인증_076.jpg  ../Data/carbon_reduction/10kwalking/10kwalking...   \n",
       "1      나이키 만보_392.jpg  ../Data/carbon_reduction/10kwalking/10kwalking...   \n",
       "2        else1109.jpg  ../Data/carbon_reduction/10kwalking/10kwalking...   \n",
       "3       토스 만보_416.jpg  ../Data/carbon_reduction/10kwalking/10kwalking...   \n",
       "4     삼성헬스 만보_416.jpg  ../Data/carbon_reduction/10kwalking/10kwalking...   \n",
       "...               ...                                                ...   \n",
       "4230     else4129.jpg        ../Data/carbon_reduction/cup/cups_from_else   \n",
       "4231     else7796.jpg        ../Data/carbon_reduction/cup/cups_from_else   \n",
       "4232    else12867.jpg        ../Data/carbon_reduction/cup/cups_from_else   \n",
       "4233   양치컵_구글_202.jpg                ../Data/carbon_reduction/cup/양치컵_구글   \n",
       "4234   양치컵_구글_144.jpg                ../Data/carbon_reduction/cup/양치컵_구글   \n",
       "\n",
       "      label  \n",
       "0         0  \n",
       "1         0  \n",
       "2         0  \n",
       "3         0  \n",
       "4         0  \n",
       "...     ...  \n",
       "4230      3  \n",
       "4231      3  \n",
       "4232      3  \n",
       "4233      3  \n",
       "4234      3  \n",
       "\n",
       "[4235 rows x 3 columns]"
      ]
     },
     "execution_count": 23,
     "metadata": {},
     "output_type": "execute_result"
    }
   ],
   "source": [
    "test['label'] = le.fit_transform(test['label'].values)\n",
    "test"
   ]
  },
  {
   "cell_type": "code",
   "execution_count": 24,
   "id": "681ed966-953b-4533-a9b5-1438c1bb27de",
   "metadata": {},
   "outputs": [],
   "source": [
    "########################## inference #############################\n",
    "def inference(model, data_loader, device):\n",
    "    model.eval()\n",
    "    image_preds_all = []\n",
    "    \n",
    "    pbar = tqdm(enumerate(data_loader), total=len(data_loader))\n",
    "    for step, (imgs) in pbar:\n",
    "        imgs = imgs.to(device).float()\n",
    "\n",
    "        image_preds = model(imgs)   #output = model(input)\n",
    "        image_preds_all += [torch.softmax(image_preds, 1).detach().cpu().numpy()]\n",
    "    \n",
    "    image_preds_all = np.concatenate(image_preds_all, axis=0)\n",
    "    return image_preds_all"
   ]
  },
  {
   "cell_type": "code",
   "execution_count": 26,
   "id": "1f910c08-4857-43b4-b499-b5a7d799e5b0",
   "metadata": {},
   "outputs": [
    {
     "name": "stderr",
     "output_type": "stream",
     "text": [
      "  0%|                                                    | 0/34 [00:00<?, ?it/s]Premature end of JPEG file\n",
      "100%|███████████████████████████████████████████| 34/34 [00:16<00:00,  2.06it/s]\n"
     ]
    }
   ],
   "source": [
    "model = ForcepImgClassifier(CFG['model'], test.label.nunique(), pretrained=True)\n",
    "load_model = model_dir +'/' + CFG['model']\n",
    "test_dir = test.dir.values\n",
    "\n",
    "tst_ds = ColonDataset(test, test_dir, transform=transform_test, output_label=False)\n",
    "tst_loader = torch.utils.data.DataLoader(\n",
    "    tst_ds, \n",
    "    batch_size=CFG['train_bs'],\n",
    "    num_workers=CFG['num_workers'],\n",
    "    shuffle=False,\n",
    "    pin_memory=True\n",
    ")\n",
    "\n",
    "if torch.cuda.device_count() > 1:\n",
    "        model = nn.DataParallel(model)\n",
    "model.to(device)\n",
    "\n",
    "################## get inference #####################\n",
    "predictions = []\n",
    "model.load_state_dict(torch.load(load_model))\n",
    "with torch.no_grad():\n",
    "    predictions += [inference(model, tst_loader, device)]\n",
    "\n",
    "\n",
    "#tst_preds = inference_one_epoch(model, tst_loader, device)\n",
    "predictions = np.mean(predictions, axis=0) \n",
    "test['pred'] = np.argmax(predictions, axis=1)\n",
    "#test['confidence score'] =np.max(predictions, axis=1)"
   ]
  },
  {
   "cell_type": "code",
   "execution_count": 27,
   "id": "6dc9d547-6d2c-4d13-95c6-f9baf6e0f5da",
   "metadata": {},
   "outputs": [
    {
     "data": {
      "text/html": [
       "<div>\n",
       "<style scoped>\n",
       "    .dataframe tbody tr th:only-of-type {\n",
       "        vertical-align: middle;\n",
       "    }\n",
       "\n",
       "    .dataframe tbody tr th {\n",
       "        vertical-align: top;\n",
       "    }\n",
       "\n",
       "    .dataframe thead th {\n",
       "        text-align: right;\n",
       "    }\n",
       "</style>\n",
       "<table border=\"1\" class=\"dataframe\">\n",
       "  <thead>\n",
       "    <tr style=\"text-align: right;\">\n",
       "      <th></th>\n",
       "      <th>image_id</th>\n",
       "      <th>dir</th>\n",
       "      <th>label</th>\n",
       "      <th>pred</th>\n",
       "    </tr>\n",
       "  </thead>\n",
       "  <tbody>\n",
       "    <tr>\n",
       "      <th>0</th>\n",
       "      <td>만보인증_076.jpg</td>\n",
       "      <td>../Data/carbon_reduction/10kwalking/10kwalking...</td>\n",
       "      <td>10kwalking</td>\n",
       "      <td>else</td>\n",
       "    </tr>\n",
       "    <tr>\n",
       "      <th>1</th>\n",
       "      <td>나이키 만보_392.jpg</td>\n",
       "      <td>../Data/carbon_reduction/10kwalking/10kwalking...</td>\n",
       "      <td>10kwalking</td>\n",
       "      <td>10kwalking</td>\n",
       "    </tr>\n",
       "    <tr>\n",
       "      <th>2</th>\n",
       "      <td>else1109.jpg</td>\n",
       "      <td>../Data/carbon_reduction/10kwalking/10kwalking...</td>\n",
       "      <td>10kwalking</td>\n",
       "      <td>else</td>\n",
       "    </tr>\n",
       "    <tr>\n",
       "      <th>3</th>\n",
       "      <td>토스 만보_416.jpg</td>\n",
       "      <td>../Data/carbon_reduction/10kwalking/10kwalking...</td>\n",
       "      <td>10kwalking</td>\n",
       "      <td>10kwalking</td>\n",
       "    </tr>\n",
       "    <tr>\n",
       "      <th>4</th>\n",
       "      <td>삼성헬스 만보_416.jpg</td>\n",
       "      <td>../Data/carbon_reduction/10kwalking/10kwalking...</td>\n",
       "      <td>10kwalking</td>\n",
       "      <td>10kwalking</td>\n",
       "    </tr>\n",
       "    <tr>\n",
       "      <th>...</th>\n",
       "      <td>...</td>\n",
       "      <td>...</td>\n",
       "      <td>...</td>\n",
       "      <td>...</td>\n",
       "    </tr>\n",
       "    <tr>\n",
       "      <th>4230</th>\n",
       "      <td>else4129.jpg</td>\n",
       "      <td>../Data/carbon_reduction/cup/cups_from_else</td>\n",
       "      <td>cup</td>\n",
       "      <td>cup</td>\n",
       "    </tr>\n",
       "    <tr>\n",
       "      <th>4231</th>\n",
       "      <td>else7796.jpg</td>\n",
       "      <td>../Data/carbon_reduction/cup/cups_from_else</td>\n",
       "      <td>cup</td>\n",
       "      <td>cup</td>\n",
       "    </tr>\n",
       "    <tr>\n",
       "      <th>4232</th>\n",
       "      <td>else12867.jpg</td>\n",
       "      <td>../Data/carbon_reduction/cup/cups_from_else</td>\n",
       "      <td>cup</td>\n",
       "      <td>cup</td>\n",
       "    </tr>\n",
       "    <tr>\n",
       "      <th>4233</th>\n",
       "      <td>양치컵_구글_202.jpg</td>\n",
       "      <td>../Data/carbon_reduction/cup/양치컵_구글</td>\n",
       "      <td>cup</td>\n",
       "      <td>cup</td>\n",
       "    </tr>\n",
       "    <tr>\n",
       "      <th>4234</th>\n",
       "      <td>양치컵_구글_144.jpg</td>\n",
       "      <td>../Data/carbon_reduction/cup/양치컵_구글</td>\n",
       "      <td>cup</td>\n",
       "      <td>cup</td>\n",
       "    </tr>\n",
       "  </tbody>\n",
       "</table>\n",
       "<p>4235 rows × 4 columns</p>\n",
       "</div>"
      ],
      "text/plain": [
       "             image_id                                                dir  \\\n",
       "0        만보인증_076.jpg  ../Data/carbon_reduction/10kwalking/10kwalking...   \n",
       "1      나이키 만보_392.jpg  ../Data/carbon_reduction/10kwalking/10kwalking...   \n",
       "2        else1109.jpg  ../Data/carbon_reduction/10kwalking/10kwalking...   \n",
       "3       토스 만보_416.jpg  ../Data/carbon_reduction/10kwalking/10kwalking...   \n",
       "4     삼성헬스 만보_416.jpg  ../Data/carbon_reduction/10kwalking/10kwalking...   \n",
       "...               ...                                                ...   \n",
       "4230     else4129.jpg        ../Data/carbon_reduction/cup/cups_from_else   \n",
       "4231     else7796.jpg        ../Data/carbon_reduction/cup/cups_from_else   \n",
       "4232    else12867.jpg        ../Data/carbon_reduction/cup/cups_from_else   \n",
       "4233   양치컵_구글_202.jpg                ../Data/carbon_reduction/cup/양치컵_구글   \n",
       "4234   양치컵_구글_144.jpg                ../Data/carbon_reduction/cup/양치컵_구글   \n",
       "\n",
       "           label        pred  \n",
       "0     10kwalking        else  \n",
       "1     10kwalking  10kwalking  \n",
       "2     10kwalking        else  \n",
       "3     10kwalking  10kwalking  \n",
       "4     10kwalking  10kwalking  \n",
       "...          ...         ...  \n",
       "4230         cup         cup  \n",
       "4231         cup         cup  \n",
       "4232         cup         cup  \n",
       "4233         cup         cup  \n",
       "4234         cup         cup  \n",
       "\n",
       "[4235 rows x 4 columns]"
      ]
     },
     "execution_count": 27,
     "metadata": {},
     "output_type": "execute_result"
    }
   ],
   "source": [
    "test['label'] = le.inverse_transform(test['label'].values)\n",
    "test['pred'] = le.inverse_transform(test['pred'].values)\n",
    "test"
   ]
  },
  {
   "cell_type": "code",
   "execution_count": 28,
   "id": "da647547-7a7b-4690-94df-bb42ca426f3c",
   "metadata": {},
   "outputs": [
    {
     "name": "stdout",
     "output_type": "stream",
     "text": [
      "accuracy: 0.9481\n",
      "f1_score: 0.9463\n"
     ]
    },
    {
     "data": {
      "image/png": "[encoded data removed]",
      "text/plain": [
       "<Figure size 1500x1000 with 2 Axes>"
      ]
     },
     "metadata": {},
     "output_type": "display_data"
    }
   ],
   "source": [
    "import seaborn as sns\n",
    "\n",
    "test_acc = np.sum(test.label == test.pred) / len(test)\n",
    "test_matrix = confusion_matrix(test['label'], test['pred'])\n",
    "epoch_f1 = f1_score(test['label'], test['pred'], average='macro')\n",
    "print(f'accuracy: {test_acc:.4f}')\n",
    "print(f'f1_score: {epoch_f1:.4f}')\n",
    "\n",
    "#test_matrix = confusion_matrix(test['label'], test['pred'], normalize='true')\n",
    "test_matrix = confusion_matrix(test['label'], test['pred'])\n",
    "\n",
    "plt.figure(figsize = (15,10))\n",
    "sns.heatmap(test_matrix, \n",
    "            annot=True, \n",
    "            xticklabels = sorted(set(test['label'])), \n",
    "            yticklabels = sorted(set(test['label'])),\n",
    "            )\n",
    "plt.title('Normalized Confusion Matrix')\n",
    "plt.show()\n",
    "\n",
    "#print(f'confusion_matrix \\n-------------------------\\n {test_matrix}')"
   ]
  },
  {
   "cell_type": "code",
   "execution_count": 23,
   "id": "ab89fde5-9498-4a99-8bb8-4af301e4a6ce",
   "metadata": {},
   "outputs": [],
   "source": [
    "test.to_csv('test_result/incep_res_0403.csv', index=False)"
   ]
  },
  {
   "cell_type": "code",
   "execution_count": null,
   "id": "d8cbfb49-98dd-4d2f-a778-21764270d9c8",
   "metadata": {},
   "outputs": [],
   "source": []
  }
 ],
 "metadata": {
  "kernelspec": {
   "display_name": "torch-gpu",
   "language": "python",
   "name": "torch"
  },
  "language_info": {
   "codemirror_mode": {
    "name": "ipython",
    "version": 3
   },
   "file_extension": ".py",
   "mimetype": "text/x-python",
   "name": "python",
   "nbconvert_exporter": "python",
   "pygments_lexer": "ipython3",
   "version": "3.10.6"
  },
  "vscode": {
   "interpreter": {
    "hash": "916dbcbb3f70747c44a77c7bcd40155683ae19c65e1c03b4aa3499c5328201f1"
   }
  }
 },
 "nbformat": 4,
 "nbformat_minor": 5
}
