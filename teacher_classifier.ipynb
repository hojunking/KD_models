{
 "cells": [
  {
   "cell_type": "code",
   "execution_count": 1,
   "id": "32c4ea0f",
   "metadata": {},
   "outputs": [],
   "source": [
    "import os, re, magic, shutil\n",
    "from glob import glob\n",
    "import time, datetime\n",
    "import random\n",
    "import pandas as pd\n",
    "import numpy as np\n",
    "from tqdm import tqdm\n",
    "import warnings\n",
    "import joblib\n",
    "import datetime as dt\n",
    "\n",
    "import cv2\n",
    "from PIL import Image\n",
    "import matplotlib.pyplot as plt\n",
    "import torch, gc\n",
    "from torch import nn\n",
    "from torch.utils.data import Dataset,DataLoader\n",
    "import torch.nn.functional as F\n",
    "import torchvision\n",
    "import torchvision.models as models\n",
    "\n",
    "#from skimage import io\n",
    "import sklearn\n",
    "from sklearn.model_selection import GroupKFold, StratifiedKFold\n",
    "from sklearn.metrics import roc_auc_score, log_loss, f1_score, confusion_matrix, classification_report\n",
    "from sklearn import metrics, preprocessing\n",
    "from scipy.ndimage import zoom\n",
    "\n",
    "import timm\n",
    "from timm.data import resolve_data_config\n",
    "from timm.data.transforms_factory import create_transform\n",
    "import albumentations as A\n",
    "import albumentations.pytorch\n",
    "import wandb\n"
   ]
  },
  {
   "cell_type": "markdown",
   "id": "a29d0796-1f1d-40df-ad4a-21f57ed7fe35",
   "metadata": {},
   "source": [
    "#### Hyper Param Setting"
   ]
  },
  {
   "cell_type": "code",
   "execution_count": 2,
   "id": "57c0283c",
   "metadata": {},
   "outputs": [],
   "source": [
    "CFG = {\n",
    "    'fold_num': 5,\n",
    "    'seed': 42,\n",
    "    'model': 'resnet152',\n",
    "    'img_size': 260,\n",
    "    'epochs': 200,\n",
    "    'train_bs':64,\n",
    "    'valid_bs':64,\n",
    "    'lr': 1e-4, ## learning rate\n",
    "    'num_workers': 8,\n",
    "    'verbose_step': 1,\n",
    "    'patience' : 5,\n",
    "    'device': 'cuda:0',\n",
    "    'freezing': False,\n",
    "    'trainable_layer': 12,\n",
    "    'model_path': './models'\n",
    "}"
   ]
  },
  {
   "cell_type": "markdown",
   "id": "7066a8a1-7060-4b6d-bf0c-d4164820a414",
   "metadata": {},
   "source": [
    "#### wandb init"
   ]
  },
  {
   "cell_type": "code",
   "execution_count": 3,
   "id": "127461e4-c16d-47fd-b983-556c12ad0daf",
   "metadata": {},
   "outputs": [],
   "source": [
    "time_now = dt.datetime.now()\n",
    "run_id = time_now.strftime(\"%Y%m%d%H%M%S\")\n",
    "project_name = 'KD_resnet152_19class_' + run_id\n",
    "user = 'hojunking'\n",
    "run_name = project_name"
   ]
  },
  {
   "cell_type": "code",
   "execution_count": 4,
   "id": "41b9e1b8-3315-4edd-a3ff-ec0f240a946c",
   "metadata": {},
   "outputs": [
    {
     "name": "stdout",
     "output_type": "stream",
     "text": [
      "44324\n"
     ]
    }
   ],
   "source": [
    "path = '../Data/carbon_data/'\n",
    "dis_names = []\n",
    "for folder, subfolders, filenames in os.walk(path):\n",
    "    for img in filenames:\n",
    "        dis_names.append(folder+'/'+img)\n",
    "print(len(dis_names))"
   ]
  },
  {
   "cell_type": "code",
   "execution_count": 5,
   "id": "5c538155-d55f-4321-bf7c-171d356ebceb",
   "metadata": {},
   "outputs": [
    {
     "name": "stdout",
     "output_type": "stream",
     "text": [
      "label: 10Kwalk\n",
      "img_paths len : 1956\n",
      "\n",
      "label: battery\n",
      "img_paths len : 2805\n",
      "\n",
      "label: box\n",
      "img_paths len : 1988\n",
      "\n",
      "label: else\n",
      "img_paths len : 3785\n",
      "\n",
      "label: toothcup\n",
      "img_paths len : 2807\n",
      "\n",
      "label: tumbler\n",
      "img_paths len : 3345\n",
      "\n",
      "label: handkerchief\n",
      "img_paths len : 2433\n",
      "\n",
      "label: milk\n",
      "img_paths len : 2375\n",
      "\n",
      "label: paper\n",
      "img_paths len : 1665\n",
      "\n",
      "label: pet\n",
      "img_paths len : 2404\n",
      "\n",
      "label: plug\n",
      "img_paths len : 2931\n",
      "\n",
      "label: receipt\n",
      "img_paths len : 843\n",
      "\n",
      "label: shopping bag\n",
      "img_paths len : 1713\n",
      "\n",
      "label: stairs\n",
      "img_paths len : 4061\n",
      "\n",
      "label: transportation\n",
      "img_paths len : 2236\n",
      "\n",
      "label: trash picking\n",
      "img_paths len : 1628\n",
      "\n",
      "label: green dish\n",
      "img_paths len : 1682\n",
      "\n",
      "label: leftover\n",
      "img_paths len : 1978\n",
      "\n",
      "label: wrap\n",
      "img_paths len : 1689\n",
      "\n",
      "Train_Images:  34806\n",
      "Train_Images_labels: 34806\n",
      "Test_Images:  9463\n",
      "Test_Images_labels: 9463\n",
      "All data 44269\n"
     ]
    }
   ],
   "source": [
    "main_path = '../Data/carbon_data/'\n",
    "# label_list = [\"10Kwalk\",\"battery\",'box','else','bottle','handkerchief',\n",
    "#               'milk', 'paper', 'pet','plug','receipt', 'shopping bag', 'stairs',\n",
    "#              'transportation', 'trash picking', 'plate']\n",
    "\n",
    "label_list = [\"10Kwalk\",\"battery\",'box','else','toothcup', 'tumbler','handkerchief',\n",
    "              'milk', 'paper', 'pet','plug','receipt', 'shopping bag', 'stairs',\n",
    "             'transportation', 'trash picking', 'green dish','leftover','wrap']\n",
    "\n",
    "total_train_img_paths = []\n",
    "total_train_img_labels = []\n",
    "total_test_img_paths = []\n",
    "total_test_img_labels = []\n",
    "\n",
    "for label in label_list: ## 각 레이블 돌기\n",
    "    print(f'label: {label}')\n",
    "    img_paths = [] \n",
    "    img_labels = []\n",
    "\n",
    "    # default ratio\n",
    "    train_ratio = 1500\n",
    "    test_ratio = 500\n",
    "\n",
    "    dir_path = main_path + label ## 레이블 폴더 경로\n",
    "    count = 0\n",
    "    for folder, subfolders, filenames in os.walk(dir_path): ## 폴더 내 모든 파일 탐색\n",
    "    \n",
    "        for img in filenames: ## 각 파일 경로, 레이블 저장\n",
    "            count +=1\n",
    "            if count > train_ratio + test_ratio + 10000:\n",
    "                break\n",
    "            \n",
    "            img_paths.append(folder+'/'+img)\n",
    "            img_labels.append(label)\n",
    "        \n",
    "    random.shuffle(img_paths)\n",
    "    print(f'img_paths len : {len(img_paths)}\\n')\n",
    "\n",
    "    if label == 'else': ## 10walking 데이터 비율 설정하기 (데이터수: 2494)\n",
    "        train_ratio = 3000\n",
    "        test_ratio = 745\n",
    "    elif label == 'green dish': \n",
    "        train_ratio = 1300\n",
    "        test_ratio = 382\n",
    "    elif label == 'leftover': \n",
    "        train_ratio = 1600\n",
    "        test_ratio = 378\n",
    "    elif label == 'wrap': \n",
    "        train_ratio = 1200\n",
    "        test_ratio = 489\n",
    "    elif label == 'handkerchief':\n",
    "        train_ratio = 2000\n",
    "        test_ratio = 433     \n",
    "    elif label == 'milk':\n",
    "        train_ratio = 2000\n",
    "        test_ratio = 374\n",
    "    elif label == 'paper':\n",
    "        train_ratio = 1300\n",
    "        test_ratio = 365\n",
    "    elif label == 'pet':\n",
    "        train_ratio = 2000\n",
    "        test_ratio = 402\n",
    "    elif label == 'plug':\n",
    "        train_ratio = 2200\n",
    "        test_ratio = 725\n",
    "    elif label == 'receipt':\n",
    "        train_ratio = 600\n",
    "        test_ratio = 243 \n",
    "    elif label == 'shopping bag':\n",
    "        train_ratio = 1300\n",
    "        test_ratio = 413\n",
    "    elif label == 'stairs':\n",
    "        train_ratio = 3000\n",
    "        test_ratio = 1057\n",
    "    elif label == 'toothcup':\n",
    "        train_ratio = 2200\n",
    "        test_ratio = 607\n",
    "    elif label == 'tumbler':\n",
    "        train_ratio = 2545\n",
    "        test_ratio = 800\n",
    "    elif label == 'transportation':\n",
    "        train_ratio = 1800\n",
    "        test_ratio = 435\n",
    "    elif label == 'trash picking':\n",
    "        train_ratio = 1300\n",
    "        test_ratio = 327\n",
    "    elif label == '10Kwalk':\n",
    "        train_ratio = 1556\n",
    "        test_ratio = 400\n",
    "    elif label == 'battery':\n",
    "        train_ratio = 2305\n",
    "        test_ratio = 500\n",
    "    elif label == 'box':\n",
    "        train_ratio = 1600\n",
    "        test_ratio = 388\n",
    "        \n",
    "    total_train_img_paths.extend(img_paths[:train_ratio])\n",
    "    total_train_img_labels.extend(img_labels[:train_ratio])\n",
    "\n",
    "    total_test_img_paths.extend(img_paths[-test_ratio:])\n",
    "    total_test_img_labels.extend(img_labels[-test_ratio:])\n",
    "\n",
    "print('Train_Images: ',len(total_train_img_paths))\n",
    "print(\"Train_Images_labels:\", len(total_train_img_labels))\n",
    "print('Test_Images: ',len(total_test_img_paths))\n",
    "print(\"Test_Images_labels:\", len(total_test_img_labels))\n",
    "print(\"All data\",len(total_train_img_paths) + len(total_test_img_paths))"
   ]
  },
  {
   "cell_type": "code",
   "execution_count": 24,
   "id": "2716dd8b-84db-4707-80e2-19b29eae9c23",
   "metadata": {},
   "outputs": [
    {
     "data": {
      "text/html": [
       "<div>\n",
       "<style scoped>\n",
       "    .dataframe tbody tr th:only-of-type {\n",
       "        vertical-align: middle;\n",
       "    }\n",
       "\n",
       "    .dataframe tbody tr th {\n",
       "        vertical-align: top;\n",
       "    }\n",
       "\n",
       "    .dataframe thead th {\n",
       "        text-align: right;\n",
       "    }\n",
       "</style>\n",
       "<table border=\"1\" class=\"dataframe\">\n",
       "  <thead>\n",
       "    <tr style=\"text-align: right;\">\n",
       "      <th></th>\n",
       "      <th>image_id</th>\n",
       "      <th>dir</th>\n",
       "      <th>label</th>\n",
       "    </tr>\n",
       "  </thead>\n",
       "  <tbody>\n",
       "    <tr>\n",
       "      <th>0</th>\n",
       "      <td>10Kwalk_584.jpg</td>\n",
       "      <td>../Data/carbon_data/10Kwalk</td>\n",
       "      <td>10Kwalk</td>\n",
       "    </tr>\n",
       "    <tr>\n",
       "      <th>1</th>\n",
       "      <td>10Kwalk_22.jpg</td>\n",
       "      <td>../Data/carbon_data/10Kwalk</td>\n",
       "      <td>10Kwalk</td>\n",
       "    </tr>\n",
       "    <tr>\n",
       "      <th>2</th>\n",
       "      <td>10Kwalk_1455.jpg</td>\n",
       "      <td>../Data/carbon_data/10Kwalk</td>\n",
       "      <td>10Kwalk</td>\n",
       "    </tr>\n",
       "    <tr>\n",
       "      <th>3</th>\n",
       "      <td>10Kwalk_1397.jpg</td>\n",
       "      <td>../Data/carbon_data/10Kwalk</td>\n",
       "      <td>10Kwalk</td>\n",
       "    </tr>\n",
       "    <tr>\n",
       "      <th>4</th>\n",
       "      <td>10Kwalk_95.jpg</td>\n",
       "      <td>../Data/carbon_data/10Kwalk</td>\n",
       "      <td>10Kwalk</td>\n",
       "    </tr>\n",
       "    <tr>\n",
       "      <th>...</th>\n",
       "      <td>...</td>\n",
       "      <td>...</td>\n",
       "      <td>...</td>\n",
       "    </tr>\n",
       "    <tr>\n",
       "      <th>34801</th>\n",
       "      <td>wrap_844.jpg</td>\n",
       "      <td>../Data/carbon_data/wrap</td>\n",
       "      <td>wrap</td>\n",
       "    </tr>\n",
       "    <tr>\n",
       "      <th>34802</th>\n",
       "      <td>wrap_1521.jpg</td>\n",
       "      <td>../Data/carbon_data/wrap</td>\n",
       "      <td>wrap</td>\n",
       "    </tr>\n",
       "    <tr>\n",
       "      <th>34803</th>\n",
       "      <td>wrap_1154.jpg</td>\n",
       "      <td>../Data/carbon_data/wrap</td>\n",
       "      <td>wrap</td>\n",
       "    </tr>\n",
       "    <tr>\n",
       "      <th>34804</th>\n",
       "      <td>wrap_1467.jpg</td>\n",
       "      <td>../Data/carbon_data/wrap</td>\n",
       "      <td>wrap</td>\n",
       "    </tr>\n",
       "    <tr>\n",
       "      <th>34805</th>\n",
       "      <td>wrap_1523.jpg</td>\n",
       "      <td>../Data/carbon_data/wrap</td>\n",
       "      <td>wrap</td>\n",
       "    </tr>\n",
       "  </tbody>\n",
       "</table>\n",
       "<p>34806 rows × 3 columns</p>\n",
       "</div>"
      ],
      "text/plain": [
       "               image_id                          dir    label\n",
       "0       10Kwalk_584.jpg  ../Data/carbon_data/10Kwalk  10Kwalk\n",
       "1        10Kwalk_22.jpg  ../Data/carbon_data/10Kwalk  10Kwalk\n",
       "2      10Kwalk_1455.jpg  ../Data/carbon_data/10Kwalk  10Kwalk\n",
       "3      10Kwalk_1397.jpg  ../Data/carbon_data/10Kwalk  10Kwalk\n",
       "4        10Kwalk_95.jpg  ../Data/carbon_data/10Kwalk  10Kwalk\n",
       "...                 ...                          ...      ...\n",
       "34801      wrap_844.jpg     ../Data/carbon_data/wrap     wrap\n",
       "34802     wrap_1521.jpg     ../Data/carbon_data/wrap     wrap\n",
       "34803     wrap_1154.jpg     ../Data/carbon_data/wrap     wrap\n",
       "34804     wrap_1467.jpg     ../Data/carbon_data/wrap     wrap\n",
       "34805     wrap_1523.jpg     ../Data/carbon_data/wrap     wrap\n",
       "\n",
       "[34806 rows x 3 columns]"
      ]
     },
     "execution_count": 24,
     "metadata": {},
     "output_type": "execute_result"
    }
   ],
   "source": [
    "## Pandas 데이터프레임 만들기\n",
    "trn_df = pd.DataFrame(total_train_img_paths, columns=['image_id'])\n",
    "trn_df['dir'] = trn_df['image_id'].apply(lambda x: os.path.dirname(x))\n",
    "trn_df['image_id'] = trn_df['image_id'].apply(lambda x: os.path.basename(x))\n",
    "trn_df['label'] = total_train_img_labels\n",
    "train = trn_df\n",
    "train"
   ]
  },
  {
   "cell_type": "code",
   "execution_count": 25,
   "id": "03c67d39-7933-4f98-b998-54a6036ff4a1",
   "metadata": {},
   "outputs": [],
   "source": [
    "# Label Encoding\n",
    "le = preprocessing.LabelEncoder()\n",
    "train['label'] = le.fit_transform(train['label'].values)"
   ]
  },
  {
   "cell_type": "code",
   "execution_count": 8,
   "id": "a3a8ac38-0b0f-4db4-80d2-6504916b7723",
   "metadata": {},
   "outputs": [
    {
     "data": {
      "text/html": [
       "<div>\n",
       "<style scoped>\n",
       "    .dataframe tbody tr th:only-of-type {\n",
       "        vertical-align: middle;\n",
       "    }\n",
       "\n",
       "    .dataframe tbody tr th {\n",
       "        vertical-align: top;\n",
       "    }\n",
       "\n",
       "    .dataframe thead th {\n",
       "        text-align: right;\n",
       "    }\n",
       "</style>\n",
       "<table border=\"1\" class=\"dataframe\">\n",
       "  <thead>\n",
       "    <tr style=\"text-align: right;\">\n",
       "      <th></th>\n",
       "      <th>image_id</th>\n",
       "      <th>dir</th>\n",
       "      <th>label</th>\n",
       "    </tr>\n",
       "  </thead>\n",
       "  <tbody>\n",
       "    <tr>\n",
       "      <th>0</th>\n",
       "      <td>10Kwalk_584.jpg</td>\n",
       "      <td>../Data/carbon_data/10Kwalk</td>\n",
       "      <td>0</td>\n",
       "    </tr>\n",
       "    <tr>\n",
       "      <th>1</th>\n",
       "      <td>10Kwalk_22.jpg</td>\n",
       "      <td>../Data/carbon_data/10Kwalk</td>\n",
       "      <td>0</td>\n",
       "    </tr>\n",
       "    <tr>\n",
       "      <th>2</th>\n",
       "      <td>10Kwalk_1455.jpg</td>\n",
       "      <td>../Data/carbon_data/10Kwalk</td>\n",
       "      <td>0</td>\n",
       "    </tr>\n",
       "    <tr>\n",
       "      <th>3</th>\n",
       "      <td>10Kwalk_1397.jpg</td>\n",
       "      <td>../Data/carbon_data/10Kwalk</td>\n",
       "      <td>0</td>\n",
       "    </tr>\n",
       "    <tr>\n",
       "      <th>4</th>\n",
       "      <td>10Kwalk_95.jpg</td>\n",
       "      <td>../Data/carbon_data/10Kwalk</td>\n",
       "      <td>0</td>\n",
       "    </tr>\n",
       "    <tr>\n",
       "      <th>...</th>\n",
       "      <td>...</td>\n",
       "      <td>...</td>\n",
       "      <td>...</td>\n",
       "    </tr>\n",
       "    <tr>\n",
       "      <th>34801</th>\n",
       "      <td>wrap_844.jpg</td>\n",
       "      <td>../Data/carbon_data/wrap</td>\n",
       "      <td>18</td>\n",
       "    </tr>\n",
       "    <tr>\n",
       "      <th>34802</th>\n",
       "      <td>wrap_1521.jpg</td>\n",
       "      <td>../Data/carbon_data/wrap</td>\n",
       "      <td>18</td>\n",
       "    </tr>\n",
       "    <tr>\n",
       "      <th>34803</th>\n",
       "      <td>wrap_1154.jpg</td>\n",
       "      <td>../Data/carbon_data/wrap</td>\n",
       "      <td>18</td>\n",
       "    </tr>\n",
       "    <tr>\n",
       "      <th>34804</th>\n",
       "      <td>wrap_1467.jpg</td>\n",
       "      <td>../Data/carbon_data/wrap</td>\n",
       "      <td>18</td>\n",
       "    </tr>\n",
       "    <tr>\n",
       "      <th>34805</th>\n",
       "      <td>wrap_1523.jpg</td>\n",
       "      <td>../Data/carbon_data/wrap</td>\n",
       "      <td>18</td>\n",
       "    </tr>\n",
       "  </tbody>\n",
       "</table>\n",
       "<p>34806 rows × 3 columns</p>\n",
       "</div>"
      ],
      "text/plain": [
       "               image_id                          dir  label\n",
       "0       10Kwalk_584.jpg  ../Data/carbon_data/10Kwalk      0\n",
       "1        10Kwalk_22.jpg  ../Data/carbon_data/10Kwalk      0\n",
       "2      10Kwalk_1455.jpg  ../Data/carbon_data/10Kwalk      0\n",
       "3      10Kwalk_1397.jpg  ../Data/carbon_data/10Kwalk      0\n",
       "4        10Kwalk_95.jpg  ../Data/carbon_data/10Kwalk      0\n",
       "...                 ...                          ...    ...\n",
       "34801      wrap_844.jpg     ../Data/carbon_data/wrap     18\n",
       "34802     wrap_1521.jpg     ../Data/carbon_data/wrap     18\n",
       "34803     wrap_1154.jpg     ../Data/carbon_data/wrap     18\n",
       "34804     wrap_1467.jpg     ../Data/carbon_data/wrap     18\n",
       "34805     wrap_1523.jpg     ../Data/carbon_data/wrap     18\n",
       "\n",
       "[34806 rows x 3 columns]"
      ]
     },
     "execution_count": 8,
     "metadata": {},
     "output_type": "execute_result"
    }
   ],
   "source": [
    "train"
   ]
  },
  {
   "cell_type": "code",
   "execution_count": 9,
   "id": "6c454bf4",
   "metadata": {},
   "outputs": [],
   "source": [
    "def seed_everything(seed):\n",
    "    random.seed(seed)\n",
    "    os.environ['PYTHONHASHSEED'] = str(seed)\n",
    "    np.random.seed(seed)\n",
    "    torch.manual_seed(seed)\n",
    "    torch.cuda.manual_seed(seed)\n",
    "    torch.backends.cudnn.deterministic = True\n",
    "    torch.backends.cudnn.benchmark = True"
   ]
  },
  {
   "cell_type": "code",
   "execution_count": 10,
   "id": "d97a3c2a",
   "metadata": {},
   "outputs": [],
   "source": [
    "def get_img(path, sub_path=None):\n",
    "    try:\n",
    "        im_bgr = cv2.imread(path)\n",
    "        im_rgb = im_bgr[:, :, ::-1]\n",
    "        past_path = path\n",
    "    except: ## 이미지 에러 발생 시 백지로 대체\n",
    "        im_bgr = cv2.imread('../Data/carbon_reduction/temp_img.jpg')\n",
    "        im_rgb = im_bgr[:, :, ::-1]\n",
    "    return im_rgb"
   ]
  },
  {
   "cell_type": "code",
   "execution_count": 11,
   "id": "884eb987-4341-4fe7-8094-6e61cb051af5",
   "metadata": {},
   "outputs": [],
   "source": [
    "transform_train = A.Compose(\n",
    "    [\n",
    "        A.RandomResizedCrop(p=1, height=CFG['img_size'] ,width=CFG['img_size'], scale=(0.65, 0.75),ratio=(0.90, 1.10)),\n",
    "        A.SafeRotate(p=0.5, limit=(-20, 20), interpolation=2, border_mode=0, value=(0, 0, 0), mask_value=None),\n",
    "        A.HorizontalFlip(p=0.5),\n",
    "        A.ColorJitter(always_apply=True, p=0.5, contrast=0.2, saturation=0.3, hue=0.2),\n",
    "        A.Normalize(mean=(0.485, 0.456, 0.406), std=(0.229, 0.224, 0.225), max_pixel_value=255.0, always_apply=False, p=1.0),\n",
    "        A.pytorch.transforms.ToTensorV2()\n",
    "        ])\n",
    "\n",
    "transform_train_cap = A.Compose(\n",
    "    [\n",
    "        A.RandomResizedCrop(p=1, height=CFG['img_size'] ,width=CFG['img_size'], scale=(0.65, 0.85),ratio=(0.90, 1.10)),\n",
    "        A.Normalize(mean=(0.485, 0.456, 0.406), std=(0.229, 0.224, 0.225), max_pixel_value=255.0, always_apply=False, p=1.0),\n",
    "        A.pytorch.transforms.ToTensorV2()\n",
    "        ])\n",
    "\n",
    "transform_test = A.Compose(\n",
    "    [\n",
    "        A.Resize(height = CFG['img_size'], width = CFG['img_size']),\n",
    "        A.Normalize(mean=(0.485, 0.456, 0.406), std=(0.229, 0.224, 0.225), max_pixel_value=255.0, always_apply=False, p=1.0),\n",
    "        A.pytorch.transforms.ToTensorV2()\n",
    "        ])"
   ]
  },
  {
   "cell_type": "code",
   "execution_count": 12,
   "id": "5f1561be",
   "metadata": {},
   "outputs": [],
   "source": [
    "class ColonDataset(Dataset):\n",
    "    def __init__(self, df, data_root, transform=None, transform2=None, output_label=True):\n",
    "        super().__init__()\n",
    "        self.df = df.reset_index(drop=True).copy()\n",
    "        self.transform = transform\n",
    "        self.transform2 = transform2\n",
    "        self.data_root = data_root\n",
    "        self.output_label = output_label\n",
    "        \n",
    "        if output_label == True:\n",
    "            self.labels = self.df['label'].values\n",
    "        \n",
    "        # EXEPTION TRANSFORM FOR CAPTURE IMAGES\n",
    "        self.cap_image = le.fit_transform(['10Kwalk', 'battery','receipt'])\n",
    "        \n",
    "    def __len__(self):\n",
    "        return self.df.shape[0]\n",
    "    \n",
    "    def __getitem__(self, index: int):\n",
    "        # GET labels\n",
    "        if self.output_label:\n",
    "            target = self.labels[index]\n",
    "        # GET IMAGES\n",
    "        path = \"{}/{}\".format(self.data_root[index], self.df.iloc[index]['image_id'])\n",
    "        img  = get_img(path)\n",
    "        \n",
    "        # TRANSFORM1, TRANSFORM2 PROCESS\n",
    "        if self.transform2 :\n",
    "            if target in self.cap_image and self.transform2:\n",
    "                transformed = self.transform2(image=img)\n",
    "            else:\n",
    "                transformed = self.transform(image=img)\n",
    "        elif self.transform:\n",
    "            transformed = self.transform(image=img)\n",
    "        img = transformed['image']\n",
    "                \n",
    "        if self.output_label == True:\n",
    "            return img, target\n",
    "        else:\n",
    "            return img"
   ]
  },
  {
   "cell_type": "code",
   "execution_count": 13,
   "id": "7acf9a37-cf66-431c-85c2-d559515afe2c",
   "metadata": {},
   "outputs": [],
   "source": [
    "# LOAD PRE-TRAINED MODEL\n",
    "class Teacher(nn.Module):\n",
    "    def __init__(self, model_arch, num_classes= 2,pretrained=True):\n",
    "        super(Teacher, self).__init__()\n",
    "        self.backbone = models.resnet152(pretrained=pretrained) ## 모델 선언 여기 models.##(pretrained =pretrained)\n",
    "        self.backbone.fc = nn.Linear(self.backbone.fc.in_features, num_classes)\n",
    "        \n",
    "    def forward(self, x):\n",
    "        x = self.backbone(x)\n",
    "        return x"
   ]
  },
  {
   "cell_type": "code",
   "execution_count": 14,
   "id": "b1601bf0",
   "metadata": {},
   "outputs": [],
   "source": [
    "# class ForcepImgClassifier(nn.Module):\n",
    "#     def __init__(self, model_arch, n_class=2, pretrained=False):\n",
    "#         super().__init__()\n",
    "#         self.model = timm.create_model(model_arch, pretrained=pretrained, num_classes=n_class)\n",
    "#         # n_features = self.model.classifier.in_features\n",
    "#         # self.model.classifier = nn.Linear(n_features, n_class)\n",
    "#     def freezing(self, freeze=False, trainable_layer = 2):\n",
    "        \n",
    "#         if freeze:\n",
    "#             num_layers = len(list(model.parameters()))\n",
    "#             for i, param in enumerate(model.parameters()):\n",
    "#                 if i < num_layers - trainable_layer*2:\n",
    "#                     param.requires_grad = False    \n",
    "            \n",
    "#     def forward(self, x):\n",
    "#         x = self.model(x)\n",
    "#         return x"
   ]
  },
  {
   "cell_type": "code",
   "execution_count": 15,
   "id": "240e5531",
   "metadata": {},
   "outputs": [],
   "source": [
    "def prepare_dataloader(df, trn_idx, val_idx, data_root=train.dir.values):\n",
    "    \n",
    "    train_ = df.loc[trn_idx,:].reset_index(drop=True)\n",
    "    valid_ = df.loc[val_idx,:].reset_index(drop=True)\n",
    "    train_data_root = data_root[trn_idx]\n",
    "    valid_data_root = data_root[val_idx]\n",
    "    \n",
    "        \n",
    "    train_ds = ColonDataset(train_,\n",
    "                            train_data_root,\n",
    "                            transform=transform_train,\n",
    "                            transform2=transform_train_cap,\n",
    "                            output_label=True)\n",
    "    valid_ds = ColonDataset(valid_,\n",
    "                            valid_data_root,\n",
    "                            transform=transform_test,\n",
    "                            output_label=True)\n",
    "    # WEIGHTEDRANDOMSAMPLER\n",
    "    class_counts = train_.label.value_counts(sort=False).to_dict()\n",
    "    num_samples = sum(class_counts.values())\n",
    "    print(f'cls_cnts: {len(class_counts)}\\nnum_samples:{num_samples}')\n",
    "    \n",
    "    # weight 제작, 전체 학습 데이터 수를 해당 클래스의 데이터 수로 나누어 줌\n",
    "    class_weights = {l:round(num_samples/class_counts[l], 2) for l in class_counts.keys()}\n",
    "    t_labels = train_.label.to_list()\n",
    "    \n",
    "    # class 별 weight를 전체 trainset에 대응시켜 sampler에 넣어줌\n",
    "    weights = [class_weights[t_labels[i]] for i in range(int(num_samples))]\n",
    "\n",
    "\n",
    "    # weight 제작, 전체 학습 데이터 수를 해당 클래스의 데이터 수로 나누어 줌\n",
    "    class_weights = {l:round(num_samples/class_counts[l], 2) for l in class_counts.keys()}\n",
    "\n",
    "    # class 별 weight를 전체 trainset에 대응시켜 sampler에 넣어줌\n",
    "    weights = [class_weights[t_labels[i]] for i in range(int(num_samples))] \n",
    "    sampler = torch.utils.data.WeightedRandomSampler(torch.DoubleTensor(weights), int(num_samples))\n",
    "    \n",
    "    train_loader = torch.utils.data.DataLoader(\n",
    "        train_ds,\n",
    "        batch_size=CFG['train_bs'],\n",
    "        pin_memory=True,\n",
    "        drop_last=False,\n",
    "        shuffle=False,\n",
    "        sampler=sampler, \n",
    "        num_workers=CFG['num_workers']\n",
    "    )\n",
    "    val_loader = torch.utils.data.DataLoader(\n",
    "        valid_ds, \n",
    "        batch_size=CFG['valid_bs'],\n",
    "        num_workers=CFG['num_workers'],\n",
    "        shuffle=False,\n",
    "        pin_memory=True,\n",
    "    )\n",
    "    return train_loader, val_loader"
   ]
  },
  {
   "cell_type": "code",
   "execution_count": 16,
   "id": "08ffa2fa",
   "metadata": {},
   "outputs": [],
   "source": [
    "def train_one_epoch(epoch, model, loss_fn, optimizer, train_loader, device, scheduler=None):\n",
    "    ## Sets the model to training mode\n",
    "    model.train()\n",
    "    \n",
    "    t = time.time()\n",
    "    running_loss = None\n",
    "    loss_sum = 0\n",
    "    image_preds_all = []\n",
    "    image_targets_all = []\n",
    "    acc_list = []\n",
    "    \n",
    "    pbar = tqdm(enumerate(train_loader), total=len(train_loader))\n",
    "    for step, (imgs, image_labels) in pbar:\n",
    "        imgs = imgs.to(device).float()\n",
    "        image_labels = image_labels.to(device).long()\n",
    "        optimizer.zero_grad()\n",
    "        \n",
    "        with torch.cuda.amp.autocast():\n",
    "            image_preds = model(imgs)   #output = model(input)\n",
    "\n",
    "            loss = loss_fn(image_preds, image_labels)\n",
    "            loss_sum+=loss.detach()\n",
    "            \n",
    "            scaler.scale(loss).backward()\n",
    "            scaler.step(optimizer)\n",
    "            scaler.update()\n",
    "        \n",
    "            if running_loss is None:\n",
    "                running_loss = loss.item()\n",
    "            else:\n",
    "                running_loss = running_loss * .99 + loss.item() * .01    \n",
    "        \n",
    "        \n",
    "            if ((step + 1) % CFG['verbose_step'] == 0) or ((step + 1) == len(train_loader)):\n",
    "                description = f'epoch {epoch} loss: {running_loss:.4f}'\n",
    "                pbar.set_description(description)\n",
    "        \n",
    "        image_preds_all += [torch.argmax(image_preds, 1).detach().cpu().numpy()]\n",
    "        image_targets_all += [image_labels.detach().cpu().numpy()]\n",
    "        \n",
    "    if scheduler is not None:\n",
    "        scheduler.step()\n",
    "    \n",
    "    image_preds_all = np.concatenate(image_preds_all)\n",
    "    image_targets_all = np.concatenate(image_targets_all)\n",
    "    \n",
    "    matrix = confusion_matrix(image_targets_all,image_preds_all)\n",
    "    epoch_f1 = f1_score(image_targets_all, image_preds_all, average='macro')\n",
    "    \n",
    "    accuracy = (image_preds_all==image_targets_all).mean()\n",
    "    trn_loss = loss_sum/len(train_loader)\n",
    "    \n",
    "    return image_preds_all, accuracy, trn_loss, matrix, epoch_f1\n",
    "\n",
    "def valid_one_epoch(epoch, model, loss_fn, val_loader, device, scheduler=None, schd_loss_update=False):\n",
    "    ## Sets the model to valid mode\n",
    "    model.eval()\n",
    "\n",
    "    t = time.time()\n",
    "    loss_sum = 0\n",
    "    sample_num = 0\n",
    "    avg_loss = 0\n",
    "    image_preds_all = []\n",
    "    image_targets_all = []\n",
    "    \n",
    "    acc_list = []\n",
    "    \n",
    "    pbar = tqdm(enumerate(val_loader), total=len(val_loader))\n",
    "    for step, (imgs, image_labels) in pbar:\n",
    "        imgs = imgs.to(device).float()\n",
    "        image_labels = image_labels.to(device).long()\n",
    "        \n",
    "        image_preds = model(imgs)   #output = model(input)\n",
    "        image_preds_all += [torch.argmax(image_preds, 1).detach().cpu().numpy()]\n",
    "        image_targets_all += [image_labels.detach().cpu().numpy()]\n",
    "        \n",
    "        loss = loss_fn(image_preds, image_labels)\n",
    "        avg_loss += loss.item()\n",
    "        loss_sum += loss.item()*image_labels.shape[0]\n",
    "        sample_num += image_labels.shape[0]\n",
    "        \n",
    "        description = f'epoch {epoch} loss: {loss_sum/sample_num:.4f}'\n",
    "        pbar.set_description(description)\n",
    "    \n",
    "    image_preds_all = np.concatenate(image_preds_all)\n",
    "    image_targets_all = np.concatenate(image_targets_all)\n",
    "    matrix = confusion_matrix(image_targets_all,image_preds_all)\n",
    "    \n",
    "    epoch_f1 = f1_score(image_targets_all, image_preds_all, average='macro')\n",
    "    acc = (image_preds_all==image_targets_all).mean()\n",
    "    val_loss = avg_loss/len(val_loader)\n",
    "    \n",
    "    return image_preds_all, acc, val_loss, matrix, epoch_f1"
   ]
  },
  {
   "cell_type": "code",
   "execution_count": 17,
   "id": "77e9950b",
   "metadata": {},
   "outputs": [],
   "source": [
    "class EarlyStopping:\n",
    "    def __init__(self, patience=10, verbose=False, delta=0):\n",
    "        self.patience = patience\n",
    "        self.verbose = verbose\n",
    "        self.counter = 0\n",
    "        self.best_score = None\n",
    "        self.early_stop = False\n",
    "        self.val_loss_min = np.Inf\n",
    "        self.delta = delta\n",
    "\n",
    "    def __call__(self, score):\n",
    "        print(f' present score: {score}')\n",
    "        if self.best_score is None:\n",
    "            self.best_score = score\n",
    "        elif score <= self.best_score + self.delta:\n",
    "            self.counter += 1\n",
    "            print(f'EarlyStopping counter: {self.counter} out of {self.patience}')\n",
    "            print(f'Best F1 score from now: {self.best_score}')\n",
    "            if self.counter >= self.patience:\n",
    "                self.early_stop = True\n",
    "        else:\n",
    "            self.best_score = score\n",
    "            self.counter = 0\n",
    "        \n",
    "        return self.early_stop"
   ]
  },
  {
   "cell_type": "code",
   "execution_count": null,
   "id": "37102a34",
   "metadata": {},
   "outputs": [
    {
     "name": "stderr",
     "output_type": "stream",
     "text": [
      "Failed to detect the name of this notebook, you can set it manually with the WANDB_NOTEBOOK_NAME environment variable to enable code saving.\n",
      "\u001b[34m\u001b[1mwandb\u001b[0m: Currently logged in as: \u001b[33mhojunking\u001b[0m. Use \u001b[1m`wandb login --relogin`\u001b[0m to force relogin\n"
     ]
    },
    {
     "data": {
      "text/html": [
       "wandb version 0.15.0 is available!  To upgrade, please run:\n",
       " $ pip install wandb --upgrade"
      ],
      "text/plain": [
       "<IPython.core.display.HTML object>"
      ]
     },
     "metadata": {},
     "output_type": "display_data"
    },
    {
     "data": {
      "text/html": [
       "Tracking run with wandb version 0.13.4"
      ],
      "text/plain": [
       "<IPython.core.display.HTML object>"
      ]
     },
     "metadata": {},
     "output_type": "display_data"
    },
    {
     "data": {
      "text/html": [
       "Run data is saved locally in <code>/home/hojun/git/KD_models/wandb/run-20230427_223729-28qcccc7</code>"
      ],
      "text/plain": [
       "<IPython.core.display.HTML object>"
      ]
     },
     "metadata": {},
     "output_type": "display_data"
    },
    {
     "data": {
      "text/html": [
       "Syncing run <strong><a href=\"https://wandb.ai/hojunking/KD_resnet152_19class_20230427223000/runs/28qcccc7\" target=\"_blank\">absurd-frog-1</a></strong> to <a href=\"https://wandb.ai/hojunking/KD_resnet152_19class_20230427223000\" target=\"_blank\">Weights & Biases</a> (<a href=\"https://wandb.me/run\" target=\"_blank\">docs</a>)<br/>"
      ],
      "text/plain": [
       "<IPython.core.display.HTML object>"
      ]
     },
     "metadata": {},
     "output_type": "display_data"
    },
    {
     "name": "stdout",
     "output_type": "stream",
     "text": [
      "Model: resnet152\n",
      "Training start with fold: 0 epoch: 200 \n",
      "\n",
      "cls_cnts: 19\n",
      "num_samples:27844\n"
     ]
    },
    {
     "name": "stderr",
     "output_type": "stream",
     "text": [
      "/home/hojun/miniconda3/envs/torch/lib/python3.10/site-packages/torchvision/models/_utils.py:208: UserWarning: The parameter 'pretrained' is deprecated since 0.13 and may be removed in the future, please use 'weights' instead.\n",
      "  warnings.warn(\n",
      "/home/hojun/miniconda3/envs/torch/lib/python3.10/site-packages/torchvision/models/_utils.py:223: UserWarning: Arguments other than a weight enum or `None` for 'weights' are deprecated since 0.13 and may be removed in the future. The current behavior is equivalent to passing `weights=ResNet152_Weights.IMAGENET1K_V1`. You can also use `weights=ResNet152_Weights.DEFAULT` to get the most up-to-date weights.\n",
      "  warnings.warn(msg)\n"
     ]
    },
    {
     "name": "stdout",
     "output_type": "stream",
     "text": [
      "Fold: 0\n",
      "Epoch 0/199\n"
     ]
    },
    {
     "name": "stderr",
     "output_type": "stream",
     "text": [
      "epoch 0 loss: 0.3776: 100%|███████████████████| 436/436 [08:43<00:00,  1.20s/it]\n",
      "epoch 0 loss: 0.3405: 100%|███████████████████| 109/109 [02:36<00:00,  1.44s/it]\n"
     ]
    },
    {
     "name": "stdout",
     "output_type": "stream",
     "text": [
      "Epoch [0], Train Loss : [0.47243] Val Loss : [0.34043] Val F1 Score : [0.89428]\n",
      " present score: 0.8942817161082509\n",
      "Epoch 1/199\n"
     ]
    },
    {
     "name": "stderr",
     "output_type": "stream",
     "text": [
      "epoch 1 loss: 0.2438: 100%|███████████████████| 436/436 [08:38<00:00,  1.19s/it]\n",
      "epoch 1 loss: 0.2867: 100%|███████████████████| 109/109 [02:34<00:00,  1.42s/it]\n"
     ]
    },
    {
     "name": "stdout",
     "output_type": "stream",
     "text": [
      "Epoch [1], Train Loss : [0.25198] Val Loss : [0.28639] Val F1 Score : [0.92090]\n",
      " present score: 0.9208978321401137\n",
      "Epoch 2/199\n"
     ]
    },
    {
     "name": "stderr",
     "output_type": "stream",
     "text": [
      "epoch 2 loss: 0.2011: 100%|███████████████████| 436/436 [08:40<00:00,  1.19s/it]\n",
      "epoch 2 loss: 0.3345: 100%|███████████████████| 109/109 [02:35<00:00,  1.43s/it]"
     ]
    },
    {
     "name": "stdout",
     "output_type": "stream",
     "text": [
      "Epoch [2], Train Loss : [0.20356] Val Loss : [0.33424] Val F1 Score : [0.90413]\n",
      " present score: 0.904127434828599\n",
      "EarlyStopping counter: 1 out of 5\n",
      "Best F1 score from now: 0.9208978321401137\n",
      "Epoch 3/199\n"
     ]
    },
    {
     "name": "stderr",
     "output_type": "stream",
     "text": [
      "\n",
      "epoch 3 loss: 0.1608: 100%|███████████████████| 436/436 [08:45<00:00,  1.21s/it]\n",
      "epoch 3 loss: 0.2918: 100%|███████████████████| 109/109 [02:43<00:00,  1.50s/it]\n"
     ]
    },
    {
     "name": "stdout",
     "output_type": "stream",
     "text": [
      "Epoch [3], Train Loss : [0.17697] Val Loss : [0.29200] Val F1 Score : [0.92397]\n",
      " present score: 0.9239745404623736\n",
      "Epoch 4/199\n"
     ]
    },
    {
     "name": "stderr",
     "output_type": "stream",
     "text": [
      "epoch 4 loss: 0.1520: 100%|███████████████████| 436/436 [08:44<00:00,  1.20s/it]\n",
      "epoch 4 loss: 0.3012: 100%|███████████████████| 109/109 [02:36<00:00,  1.44s/it]"
     ]
    },
    {
     "name": "stdout",
     "output_type": "stream",
     "text": [
      "Epoch [4], Train Loss : [0.14995] Val Loss : [0.30106] Val F1 Score : [0.91864]\n",
      " present score: 0.918644674638371\n",
      "EarlyStopping counter: 1 out of 5\n",
      "Best F1 score from now: 0.9239745404623736\n",
      "Epoch 5/199\n"
     ]
    },
    {
     "name": "stderr",
     "output_type": "stream",
     "text": [
      "\n",
      "epoch 5 loss: 0.0824: 100%|███████████████████| 436/436 [08:47<00:00,  1.21s/it]\n",
      "epoch 5 loss: 0.2129: 100%|███████████████████| 109/109 [02:38<00:00,  1.45s/it]\n"
     ]
    },
    {
     "name": "stdout",
     "output_type": "stream",
     "text": [
      "Epoch [5], Train Loss : [0.08989] Val Loss : [0.21274] Val F1 Score : [0.94262]\n",
      " present score: 0.9426197830578065\n",
      "Epoch 6/199\n"
     ]
    },
    {
     "name": "stderr",
     "output_type": "stream",
     "text": [
      "epoch 6 loss: 0.0688: 100%|███████████████████| 436/436 [08:43<00:00,  1.20s/it]\n",
      "epoch 6 loss: 0.2110: 100%|███████████████████| 109/109 [02:35<00:00,  1.43s/it]\n"
     ]
    },
    {
     "name": "stdout",
     "output_type": "stream",
     "text": [
      "Epoch [6], Train Loss : [0.07000] Val Loss : [0.21107] Val F1 Score : [0.94448]\n",
      " present score: 0.9444759643792634\n",
      "Epoch 7/199\n"
     ]
    },
    {
     "name": "stderr",
     "output_type": "stream",
     "text": [
      "epoch 7 loss: 0.0643: 100%|███████████████████| 436/436 [08:42<00:00,  1.20s/it]\n",
      "epoch 7 loss: 0.2366: 100%|███████████████████| 109/109 [02:37<00:00,  1.45s/it]"
     ]
    },
    {
     "name": "stdout",
     "output_type": "stream",
     "text": [
      "Epoch [7], Train Loss : [0.06004] Val Loss : [0.23636] Val F1 Score : [0.94159]\n",
      " present score: 0.9415866169850043\n",
      "EarlyStopping counter: 1 out of 5\n",
      "Best F1 score from now: 0.9444759643792634\n",
      "Epoch 8/199\n"
     ]
    },
    {
     "name": "stderr",
     "output_type": "stream",
     "text": [
      "\n",
      "epoch 8 loss: 0.0593: 100%|███████████████████| 436/436 [08:46<00:00,  1.21s/it]\n",
      "epoch 8 loss: 0.2415: 100%|███████████████████| 109/109 [02:38<00:00,  1.45s/it]"
     ]
    },
    {
     "name": "stdout",
     "output_type": "stream",
     "text": [
      "Epoch [8], Train Loss : [0.05784] Val Loss : [0.24147] Val F1 Score : [0.93841]\n",
      " present score: 0.9384144372814013\n",
      "EarlyStopping counter: 2 out of 5\n",
      "Best F1 score from now: 0.9444759643792634\n",
      "Epoch 9/199\n"
     ]
    },
    {
     "name": "stderr",
     "output_type": "stream",
     "text": [
      "\n",
      "epoch 9 loss: 0.0519: 100%|███████████████████| 436/436 [08:44<00:00,  1.20s/it]\n",
      "epoch 9 loss: 0.2610: 100%|███████████████████| 109/109 [02:40<00:00,  1.47s/it]"
     ]
    },
    {
     "name": "stdout",
     "output_type": "stream",
     "text": [
      "Epoch [9], Train Loss : [0.05158] Val Loss : [0.26054] Val F1 Score : [0.93203]\n",
      " present score: 0.9320301508092008\n",
      "EarlyStopping counter: 3 out of 5\n",
      "Best F1 score from now: 0.9444759643792634\n",
      "Epoch 10/199\n"
     ]
    },
    {
     "name": "stderr",
     "output_type": "stream",
     "text": [
      "\n",
      "epoch 10 loss: 0.0345: 100%|██████████████████| 436/436 [08:43<00:00,  1.20s/it]\n",
      "epoch 10 loss: 0.2239: 100%|██████████████████| 109/109 [02:40<00:00,  1.47s/it]\n"
     ]
    },
    {
     "name": "stdout",
     "output_type": "stream",
     "text": [
      "Epoch [10], Train Loss : [0.03408] Val Loss : [0.22370] Val F1 Score : [0.94561]\n",
      " present score: 0.9456092460435359\n",
      "Epoch 11/199\n"
     ]
    },
    {
     "name": "stderr",
     "output_type": "stream",
     "text": [
      "epoch 11 loss: 0.0488: 100%|██████████████████| 436/436 [08:39<00:00,  1.19s/it]\n",
      "epoch 11 loss: 0.2228: 100%|██████████████████| 109/109 [02:35<00:00,  1.42s/it]\n"
     ]
    },
    {
     "name": "stdout",
     "output_type": "stream",
     "text": [
      "Epoch [11], Train Loss : [0.03379] Val Loss : [0.22260] Val F1 Score : [0.94594]\n",
      " present score: 0.9459448726093893\n",
      "Epoch 12/199\n"
     ]
    },
    {
     "name": "stderr",
     "output_type": "stream",
     "text": [
      "epoch 12 loss: 0.0281: 100%|██████████████████| 436/436 [08:45<00:00,  1.20s/it]\n",
      "epoch 12 loss: 0.2270: 100%|██████████████████| 109/109 [02:40<00:00,  1.48s/it]"
     ]
    },
    {
     "name": "stdout",
     "output_type": "stream",
     "text": [
      "Epoch [12], Train Loss : [0.02301] Val Loss : [0.22706] Val F1 Score : [0.94428]\n",
      " present score: 0.9442818606165395\n",
      "EarlyStopping counter: 1 out of 5\n",
      "Best F1 score from now: 0.9459448726093893\n",
      "Epoch 13/199\n"
     ]
    },
    {
     "name": "stderr",
     "output_type": "stream",
     "text": [
      "\n",
      "epoch 13 loss: 0.0284: 100%|██████████████████| 436/436 [08:46<00:00,  1.21s/it]\n",
      "epoch 13 loss: 0.2262: 100%|██████████████████| 109/109 [02:36<00:00,  1.44s/it]\n"
     ]
    },
    {
     "name": "stdout",
     "output_type": "stream",
     "text": [
      "Epoch [13], Train Loss : [0.02406] Val Loss : [0.22604] Val F1 Score : [0.95020]\n",
      " present score: 0.9502017225754524\n",
      "Epoch 14/199\n"
     ]
    },
    {
     "name": "stderr",
     "output_type": "stream",
     "text": [
      "epoch 14 loss: 0.0271: 100%|██████████████████| 436/436 [08:44<00:00,  1.20s/it]\n",
      "epoch 14 loss: 0.2524: 100%|██████████████████| 109/109 [02:39<00:00,  1.46s/it]"
     ]
    },
    {
     "name": "stdout",
     "output_type": "stream",
     "text": [
      "Epoch [14], Train Loss : [0.02213] Val Loss : [0.25211] Val F1 Score : [0.94334]\n",
      " present score: 0.9433427803038291\n",
      "EarlyStopping counter: 1 out of 5\n",
      "Best F1 score from now: 0.9502017225754524\n",
      "Epoch 15/199\n"
     ]
    },
    {
     "name": "stderr",
     "output_type": "stream",
     "text": [
      "\n",
      "epoch 15 loss: 0.0158: 100%|██████████████████| 436/436 [08:43<00:00,  1.20s/it]\n",
      "epoch 15 loss: 0.2238: 100%|██████████████████| 109/109 [02:37<00:00,  1.45s/it]"
     ]
    },
    {
     "name": "stdout",
     "output_type": "stream",
     "text": [
      "Epoch [15], Train Loss : [0.01556] Val Loss : [0.22357] Val F1 Score : [0.94991]\n",
      " present score: 0.9499125434982464\n",
      "EarlyStopping counter: 2 out of 5\n",
      "Best F1 score from now: 0.9502017225754524\n",
      "Epoch 16/199\n"
     ]
    },
    {
     "name": "stderr",
     "output_type": "stream",
     "text": [
      "\n",
      "epoch 16 loss: 0.0226: 100%|██████████████████| 436/436 [08:42<00:00,  1.20s/it]\n",
      "epoch 16 loss: 0.2268: 100%|██████████████████| 109/109 [02:39<00:00,  1.46s/it]"
     ]
    },
    {
     "name": "stdout",
     "output_type": "stream",
     "text": [
      "Epoch [16], Train Loss : [0.01544] Val Loss : [0.22675] Val F1 Score : [0.94678]\n",
      " present score: 0.9467784463510456\n",
      "EarlyStopping counter: 3 out of 5\n",
      "Best F1 score from now: 0.9502017225754524\n",
      "Epoch 17/199\n"
     ]
    },
    {
     "name": "stderr",
     "output_type": "stream",
     "text": [
      "\n",
      "epoch 17 loss: 0.0139: 100%|██████████████████| 436/436 [08:45<00:00,  1.20s/it]\n",
      "epoch 17 loss: 0.2276: 100%|██████████████████| 109/109 [02:36<00:00,  1.44s/it]\n"
     ]
    },
    {
     "name": "stdout",
     "output_type": "stream",
     "text": [
      "Epoch [17], Train Loss : [0.01167] Val Loss : [0.22752] Val F1 Score : [0.95044]\n",
      " present score: 0.9504403881901112\n",
      "Epoch 18/199\n"
     ]
    },
    {
     "name": "stderr",
     "output_type": "stream",
     "text": [
      "epoch 18 loss: 0.0145: 100%|██████████████████| 436/436 [08:44<00:00,  1.20s/it]\n",
      "epoch 18 loss: 0.2271: 100%|██████████████████| 109/109 [02:40<00:00,  1.47s/it]"
     ]
    },
    {
     "name": "stdout",
     "output_type": "stream",
     "text": [
      "Epoch [18], Train Loss : [0.01149] Val Loss : [0.22682] Val F1 Score : [0.94861]\n",
      " present score: 0.9486086823938812\n",
      "EarlyStopping counter: 1 out of 5\n",
      "Best F1 score from now: 0.9504403881901112\n",
      "Epoch 19/199\n"
     ]
    },
    {
     "name": "stderr",
     "output_type": "stream",
     "text": [
      "\n",
      "epoch 19 loss: 0.0187: 100%|██████████████████| 436/436 [08:49<00:00,  1.21s/it]\n",
      "epoch 19 loss: 0.2322: 100%|██████████████████| 109/109 [02:38<00:00,  1.45s/it]"
     ]
    },
    {
     "name": "stdout",
     "output_type": "stream",
     "text": [
      "Epoch [19], Train Loss : [0.01309] Val Loss : [0.23210] Val F1 Score : [0.94678]\n",
      " present score: 0.9467773223413876\n",
      "EarlyStopping counter: 2 out of 5\n",
      "Best F1 score from now: 0.9504403881901112\n",
      "Epoch 20/199\n"
     ]
    },
    {
     "name": "stderr",
     "output_type": "stream",
     "text": [
      "\n",
      "epoch 20 loss: 0.0120: 100%|██████████████████| 436/436 [08:44<00:00,  1.20s/it]\n",
      "epoch 20 loss: 0.2286: 100%|██████████████████| 109/109 [02:36<00:00,  1.44s/it]"
     ]
    },
    {
     "name": "stdout",
     "output_type": "stream",
     "text": [
      "Epoch [20], Train Loss : [0.00989] Val Loss : [0.22857] Val F1 Score : [0.94971]\n",
      " present score: 0.9497089937811591\n",
      "EarlyStopping counter: 3 out of 5\n",
      "Best F1 score from now: 0.9504403881901112\n",
      "Epoch 21/199\n"
     ]
    },
    {
     "name": "stderr",
     "output_type": "stream",
     "text": [
      "\n",
      "epoch 21 loss: 0.0122: 100%|██████████████████| 436/436 [08:42<00:00,  1.20s/it]\n",
      "epoch 21 loss: 0.2278: 100%|██████████████████| 109/109 [02:37<00:00,  1.45s/it]"
     ]
    },
    {
     "name": "stdout",
     "output_type": "stream",
     "text": [
      "Epoch [21], Train Loss : [0.00921] Val Loss : [0.22784] Val F1 Score : [0.94978]\n",
      " present score: 0.9497772800198663\n",
      "EarlyStopping counter: 4 out of 5\n",
      "Best F1 score from now: 0.9504403881901112\n",
      "Epoch 22/199\n"
     ]
    },
    {
     "name": "stderr",
     "output_type": "stream",
     "text": [
      "\n",
      "epoch 22 loss: 0.0157: 100%|██████████████████| 436/436 [08:46<00:00,  1.21s/it]\n",
      "epoch 22 loss: 0.2315: 100%|██████████████████| 109/109 [02:37<00:00,  1.45s/it]\n",
      "/home/hojun/miniconda3/envs/torch/lib/python3.10/site-packages/torchvision/models/_utils.py:208: UserWarning: The parameter 'pretrained' is deprecated since 0.13 and may be removed in the future, please use 'weights' instead.\n",
      "  warnings.warn(\n",
      "/home/hojun/miniconda3/envs/torch/lib/python3.10/site-packages/torchvision/models/_utils.py:223: UserWarning: Arguments other than a weight enum or `None` for 'weights' are deprecated since 0.13 and may be removed in the future. The current behavior is equivalent to passing `weights=ResNet152_Weights.IMAGENET1K_V1`. You can also use `weights=ResNet152_Weights.DEFAULT` to get the most up-to-date weights.\n",
      "  warnings.warn(msg)\n"
     ]
    },
    {
     "name": "stdout",
     "output_type": "stream",
     "text": [
      "Epoch [22], Train Loss : [0.01017] Val Loss : [0.23141] Val F1 Score : [0.94861]\n",
      " present score: 0.9486089147114293\n",
      "EarlyStopping counter: 5 out of 5\n",
      "Best F1 score from now: 0.9504403881901112\n",
      "stop called\n",
      "time : 4:21:50\n",
      "fold: 0, Best Epoch : 17/ 23\n",
      "Best Train Marco F1 : 0.99701\n",
      "[[1509    0    0    0    0    0    0    0    0    0    0    0    0    0\n",
      "     0    0    0    0    0]\n",
      " [   0 1363    0    0    0    0    0    0    0    0    0    0    0    0\n",
      "     0    0    0    0    0]\n",
      " [   0    0 1438    1    0    0    0    0    0    0    0    0    0    0\n",
      "     0    0    0    0    0]\n",
      " [   2    2    0 1424   10    0    6    1    6    1    0    4    3    0\n",
      "     2    0    1    0    2]\n",
      " [   0    0    0    3 1391    0    0    0    0    0    0    0    0    0\n",
      "     0    0    0    0    0]\n",
      " [   0    0    0    0    0 1508    0    1    1    0    0    0    1    0\n",
      "     0    0    0    0    0]\n",
      " [   0    0    0    2    0    0 1501    0    0    0    0    0    0    0\n",
      "     0    0    0    0    0]\n",
      " [   0    0    0    0    0    0    0 1511    0    0    1    0    1    0\n",
      "     0    0    1    0    0]\n",
      " [   0    0    0    0    0    0    0    0 1430    0    0    0    2    0\n",
      "     0    0    0    0    0]\n",
      " [   0    0    1    1    0    0    0    1    0 1427    0    0    0    0\n",
      "     0    0    0    0    0]\n",
      " [   0    0    0    1    0    0    0    0    1    0 1505    0    0    1\n",
      "     1    0    1    0    0]\n",
      " [   0    0    0    2    0    0    0    0    0    0    0 1456    0    0\n",
      "     0    0    0    0    0]\n",
      " [   0    0    0    4    1    1    0    0    0    0    0    0 1491    0\n",
      "     0    0    0    0    0]\n",
      " [   0    0    0    1    0    0    0    0    0    0    1    0    0 1456\n",
      "     0    1    0    0    0]\n",
      " [   0    0    0    0    0    0    0    0    0    0    0    0    0    0\n",
      "  1457    0    0    0    0]\n",
      " [   0    0    0    0    0    0    0    0    0    0    0    0    2    0\n",
      "     0 1497    0    0    0]\n",
      " [   0    0    1    1    0    1    0    0    0    0    0    0    0    0\n",
      "     0    1 1429    0    0]\n",
      " [   0    0    0    1    0    0    0    0    0    0    0    0    0    0\n",
      "     1    0    0 1492    0]\n",
      " [   0    0    0    0    1    0    0    0    0    0    1    0    0    0\n",
      "     0    0    0    0 1476]]\n",
      "Best Valid Marco F1 : 0.95044\n",
      "[[289   3   0  14   1   0   0   1   2   0   1   0   0   0   0   1   0   0\n",
      "    0]\n",
      " [  5 448   0   6   0   0   0   0   0   0   1   0   0   0   0   1   0   0\n",
      "    0]\n",
      " [  0   0 299   2   0   0   1   9   2   4   0   0   0   0   0   0   2   0\n",
      "    1]\n",
      " [  3   1  10 518  15   4   9   1   1   3   2   0  10   1   3   3   4   4\n",
      "    8]\n",
      " [  0   0   1  17 239   1   0   0   0   0   0   0   0   0   0   1   1   0\n",
      "    0]\n",
      " [  0   0   0   1   0 379   0   1   1   0   0   0   2   0   6   2   6   0\n",
      "    2]\n",
      " [  0   0   0   6   4   0 300   1   0   0   0   0   0   0   1   1   1   0\n",
      "    6]\n",
      " [  0   0   1   3   0   0   0 390   0   0   0   0   2   0   0   3   1   0\n",
      "    0]\n",
      " [  0   0   2   3   0   2   0   0 251   1   0   0   1   0   0   0   0   0\n",
      "    0]\n",
      " [  0   1   6   1   2   0   0   0   0 379   1   0   2   0   1   0   4   2\n",
      "    1]\n",
      " [  0   0   2   1   0   0   0   0   0   1 434   0   0   0   0   1   0   0\n",
      "    1]\n",
      " [  0   0   0   2   0   0   0   0   2   0   0 116   0   0   0   0   0   0\n",
      "    0]\n",
      " [  0   0   0   5   0   5   0   0   0   0   0   0 244   1   0   3   2   0\n",
      "    0]\n",
      " [  0   0   0   0   0   0   0   0   0   0   1   0   1 593   0   5   0   0\n",
      "    0]\n",
      " [  0   0   0   1   0   1   0   0   0   2   0   0   0   0 430   0   0   5\n",
      "    1]\n",
      " [  3   0   0   2   0   0   1   0   0   1   1   0   3   1   0 346   0   1\n",
      "    1]\n",
      " [  0   0   3   3   0   1   0   1   0   5   0   0   0   0   1   1 243   0\n",
      "    2]\n",
      " [  0   0   0   2   0   1   1   0   0   3   1   0   0   1   2   1   0 493\n",
      "    4]\n",
      " [  0   0   0   2   2   0   1   0   1   0   0   0   1   0   1   1   0   0\n",
      "  231]]\n",
      "-----------------------------------------------------------------------\n",
      "Training start with fold: 1 epoch: 200 \n",
      "\n",
      "cls_cnts: 19\n",
      "num_samples:27845\n",
      "Fold: 1\n",
      "Epoch 0/199\n"
     ]
    },
    {
     "name": "stderr",
     "output_type": "stream",
     "text": [
      "epoch 0 loss: 0.3628: 100%|███████████████████| 436/436 [08:34<00:00,  1.18s/it]\n",
      "epoch 0 loss: 0.3931: 100%|███████████████████| 109/109 [02:24<00:00,  1.33s/it]"
     ]
    },
    {
     "name": "stdout",
     "output_type": "stream",
     "text": [
      "Epoch [0], Train Loss : [0.47760] Val Loss : [0.39333] Val F1 Score : [0.88250]\n",
      " present score: 0.8825032368754506\n",
      "Epoch 1/199\n"
     ]
    },
    {
     "name": "stderr",
     "output_type": "stream",
     "text": [
      "\n",
      "epoch 1 loss: 0.2420: 100%|███████████████████| 436/436 [08:21<00:00,  1.15s/it]\n",
      "epoch 1 loss: 0.3620: 100%|███████████████████| 109/109 [02:24<00:00,  1.33s/it]"
     ]
    },
    {
     "name": "stdout",
     "output_type": "stream",
     "text": [
      "Epoch [1], Train Loss : [0.24990] Val Loss : [0.36208] Val F1 Score : [0.88969]\n",
      " present score: 0.8896876096994498\n",
      "Epoch 2/199\n"
     ]
    },
    {
     "name": "stderr",
     "output_type": "stream",
     "text": [
      "\n",
      "epoch 2 loss: 0.1958: 100%|███████████████████| 436/436 [08:30<00:00,  1.17s/it]\n",
      "epoch 2 loss: 0.3374: 100%|███████████████████| 109/109 [02:24<00:00,  1.33s/it]"
     ]
    },
    {
     "name": "stdout",
     "output_type": "stream",
     "text": [
      "Epoch [2], Train Loss : [0.20526] Val Loss : [0.33795] Val F1 Score : [0.89816]\n",
      " present score: 0.8981606699673081\n",
      "Epoch 3/199\n"
     ]
    },
    {
     "name": "stderr",
     "output_type": "stream",
     "text": [
      "\n",
      "epoch 3 loss: 0.1693: 100%|███████████████████| 436/436 [08:28<00:00,  1.17s/it]\n",
      "epoch 3 loss: 0.3764: 100%|███████████████████| 109/109 [02:27<00:00,  1.35s/it]"
     ]
    },
    {
     "name": "stdout",
     "output_type": "stream",
     "text": [
      "Epoch [3], Train Loss : [0.17595] Val Loss : [0.37669] Val F1 Score : [0.88331]\n",
      " present score: 0.8833137405176563\n",
      "EarlyStopping counter: 1 out of 5\n",
      "Best F1 score from now: 0.8981606699673081\n",
      "Epoch 4/199\n"
     ]
    },
    {
     "name": "stderr",
     "output_type": "stream",
     "text": [
      "\n",
      "epoch 4 loss: 0.1605: 100%|███████████████████| 436/436 [08:28<00:00,  1.17s/it]\n",
      "epoch 4 loss: 0.3225: 100%|███████████████████| 109/109 [02:26<00:00,  1.34s/it]"
     ]
    },
    {
     "name": "stdout",
     "output_type": "stream",
     "text": [
      "Epoch [4], Train Loss : [0.15080] Val Loss : [0.32272] Val F1 Score : [0.90749]\n",
      " present score: 0.9074935687253053\n",
      "Epoch 5/199\n"
     ]
    },
    {
     "name": "stderr",
     "output_type": "stream",
     "text": [
      "\n",
      "epoch 5 loss: 0.0865: 100%|███████████████████| 436/436 [08:26<00:00,  1.16s/it]\n",
      "epoch 5 loss: 0.2263: 100%|███████████████████| 109/109 [02:22<00:00,  1.31s/it]"
     ]
    },
    {
     "name": "stdout",
     "output_type": "stream",
     "text": [
      "Epoch [5], Train Loss : [0.09035] Val Loss : [0.22673] Val F1 Score : [0.93727]\n",
      " present score: 0.9372737351853229\n",
      "Epoch 6/199\n"
     ]
    },
    {
     "name": "stderr",
     "output_type": "stream",
     "text": [
      "\n",
      "epoch 6 loss: 0.0651: 100%|███████████████████| 436/436 [08:34<00:00,  1.18s/it]\n",
      "epoch 6 loss: 0.2204: 100%|███████████████████| 109/109 [02:26<00:00,  1.35s/it]"
     ]
    },
    {
     "name": "stdout",
     "output_type": "stream",
     "text": [
      "Epoch [6], Train Loss : [0.06824] Val Loss : [0.22093] Val F1 Score : [0.93850]\n",
      " present score: 0.9385002119881743\n",
      "Epoch 7/199\n"
     ]
    },
    {
     "name": "stderr",
     "output_type": "stream",
     "text": [
      "\n",
      "epoch 7 loss: 0.0584: 100%|███████████████████| 436/436 [08:26<00:00,  1.16s/it]\n",
      "epoch 7 loss: 0.2123: 100%|███████████████████| 109/109 [02:25<00:00,  1.34s/it]"
     ]
    },
    {
     "name": "stdout",
     "output_type": "stream",
     "text": [
      "Epoch [7], Train Loss : [0.05589] Val Loss : [0.21288] Val F1 Score : [0.93832]\n",
      " present score: 0.9383245105710533\n",
      "EarlyStopping counter: 1 out of 5\n",
      "Best F1 score from now: 0.9385002119881743\n",
      "Epoch 8/199\n"
     ]
    },
    {
     "name": "stderr",
     "output_type": "stream",
     "text": [
      "\n",
      "epoch 8 loss: 0.0499: 100%|███████████████████| 436/436 [08:26<00:00,  1.16s/it]\n",
      "epoch 8 loss: 0.2170: 100%|███████████████████| 109/109 [02:23<00:00,  1.32s/it]"
     ]
    },
    {
     "name": "stdout",
     "output_type": "stream",
     "text": [
      "Epoch [8], Train Loss : [0.05322] Val Loss : [0.21769] Val F1 Score : [0.94036]\n",
      " present score: 0.9403560336479909\n",
      "Epoch 9/199\n"
     ]
    },
    {
     "name": "stderr",
     "output_type": "stream",
     "text": [
      "\n",
      "epoch 9 loss: 0.0676: 100%|███████████████████| 436/436 [08:22<00:00,  1.15s/it]\n",
      "epoch 9 loss: 0.2251: 100%|███████████████████| 109/109 [02:25<00:00,  1.33s/it]"
     ]
    },
    {
     "name": "stdout",
     "output_type": "stream",
     "text": [
      "Epoch [9], Train Loss : [0.05499] Val Loss : [0.22590] Val F1 Score : [0.93731]\n",
      " present score: 0.9373050978287579\n",
      "EarlyStopping counter: 1 out of 5\n",
      "Best F1 score from now: 0.9403560336479909\n",
      "Epoch 10/199\n"
     ]
    },
    {
     "name": "stderr",
     "output_type": "stream",
     "text": [
      "\n",
      "epoch 10 loss: 0.0421: 100%|██████████████████| 436/436 [08:25<00:00,  1.16s/it]\n",
      "epoch 10 loss: 0.2036: 100%|██████████████████| 109/109 [02:20<00:00,  1.29s/it]"
     ]
    },
    {
     "name": "stdout",
     "output_type": "stream",
     "text": [
      "Epoch [10], Train Loss : [0.04018] Val Loss : [0.20439] Val F1 Score : [0.94673]\n",
      " present score: 0.9467305333890049\n",
      "Epoch 11/199\n"
     ]
    },
    {
     "name": "stderr",
     "output_type": "stream",
     "text": [
      "\n",
      "epoch 11 loss: 0.0291: 100%|██████████████████| 436/436 [08:17<00:00,  1.14s/it]\n",
      "epoch 11 loss: 0.2036: 100%|██████████████████| 109/109 [02:26<00:00,  1.34s/it]"
     ]
    },
    {
     "name": "stdout",
     "output_type": "stream",
     "text": [
      "Epoch [11], Train Loss : [0.02614] Val Loss : [0.20445] Val F1 Score : [0.94648]\n",
      " present score: 0.9464822702885051\n",
      "EarlyStopping counter: 1 out of 5\n",
      "Best F1 score from now: 0.9467305333890049\n",
      "Epoch 12/199\n"
     ]
    },
    {
     "name": "stderr",
     "output_type": "stream",
     "text": [
      "\n",
      "epoch 12 loss: 0.0268: 100%|██████████████████| 436/436 [08:25<00:00,  1.16s/it]\n",
      "epoch 12 loss: 0.1987: 100%|██████████████████| 109/109 [02:24<00:00,  1.33s/it]\n"
     ]
    },
    {
     "name": "stdout",
     "output_type": "stream",
     "text": [
      "Epoch [12], Train Loss : [0.02302] Val Loss : [0.19951] Val F1 Score : [0.95130]\n",
      " present score: 0.9512980442872955\n",
      "Epoch 13/199\n"
     ]
    },
    {
     "name": "stderr",
     "output_type": "stream",
     "text": [
      "epoch 13 loss: 0.0347: 100%|██████████████████| 436/436 [08:24<00:00,  1.16s/it]\n",
      "epoch 13 loss: 0.2120: 100%|██████████████████| 109/109 [02:23<00:00,  1.32s/it]"
     ]
    },
    {
     "name": "stdout",
     "output_type": "stream",
     "text": [
      "Epoch [13], Train Loss : [0.02520] Val Loss : [0.21300] Val F1 Score : [0.94734]\n",
      " present score: 0.9473377286926358\n",
      "EarlyStopping counter: 1 out of 5\n",
      "Best F1 score from now: 0.9512980442872955\n",
      "Epoch 14/199\n"
     ]
    },
    {
     "name": "stderr",
     "output_type": "stream",
     "text": [
      "\n",
      "epoch 14 loss: 0.0265: 100%|██████████████████| 436/436 [08:29<00:00,  1.17s/it]\n",
      "epoch 14 loss: 0.2068: 100%|██████████████████| 109/109 [02:24<00:00,  1.32s/it]"
     ]
    },
    {
     "name": "stdout",
     "output_type": "stream",
     "text": [
      "Epoch [14], Train Loss : [0.02293] Val Loss : [0.20755] Val F1 Score : [0.94905]\n",
      " present score: 0.9490526702646433\n",
      "EarlyStopping counter: 2 out of 5\n",
      "Best F1 score from now: 0.9512980442872955\n",
      "Epoch 15/199\n"
     ]
    },
    {
     "name": "stderr",
     "output_type": "stream",
     "text": [
      "\n",
      "epoch 15 loss: 0.0215: 100%|██████████████████| 436/436 [08:27<00:00,  1.16s/it]\n",
      "epoch 15 loss: 0.1978: 100%|██████████████████| 109/109 [02:23<00:00,  1.32s/it]\n"
     ]
    },
    {
     "name": "stdout",
     "output_type": "stream",
     "text": [
      "Epoch [15], Train Loss : [0.01794] Val Loss : [0.19873] Val F1 Score : [0.95220]\n",
      " present score: 0.9522023366054922\n",
      "Epoch 16/199\n"
     ]
    },
    {
     "name": "stderr",
     "output_type": "stream",
     "text": [
      "epoch 16 loss: 0.0237: 100%|██████████████████| 436/436 [08:26<00:00,  1.16s/it]\n",
      "epoch 16 loss: 0.1978: 100%|██████████████████| 109/109 [02:24<00:00,  1.33s/it]"
     ]
    },
    {
     "name": "stdout",
     "output_type": "stream",
     "text": [
      "Epoch [16], Train Loss : [0.01648] Val Loss : [0.19863] Val F1 Score : [0.95137]\n",
      " present score: 0.9513748783795806\n",
      "EarlyStopping counter: 1 out of 5\n",
      "Best F1 score from now: 0.9522023366054922\n",
      "Epoch 17/199\n"
     ]
    },
    {
     "name": "stderr",
     "output_type": "stream",
     "text": [
      "\n",
      "epoch 17 loss: 0.0146: 100%|██████████████████| 436/436 [08:19<00:00,  1.15s/it]\n",
      "epoch 17 loss: 0.2202: 100%|██████████████████| 109/109 [02:23<00:00,  1.31s/it]"
     ]
    },
    {
     "name": "stdout",
     "output_type": "stream",
     "text": [
      "Epoch [17], Train Loss : [0.01256] Val Loss : [0.22101] Val F1 Score : [0.94745]\n",
      " present score: 0.9474495950464608\n",
      "EarlyStopping counter: 2 out of 5\n",
      "Best F1 score from now: 0.9522023366054922\n",
      "Epoch 18/199\n"
     ]
    },
    {
     "name": "stderr",
     "output_type": "stream",
     "text": [
      "\n",
      "epoch 18 loss: 0.0151: 100%|██████████████████| 436/436 [08:29<00:00,  1.17s/it]\n",
      "epoch 18 loss: 0.2081: 100%|██████████████████| 109/109 [02:26<00:00,  1.35s/it]"
     ]
    },
    {
     "name": "stdout",
     "output_type": "stream",
     "text": [
      "Epoch [18], Train Loss : [0.01257] Val Loss : [0.20880] Val F1 Score : [0.95096]\n",
      " present score: 0.9509597219282847\n",
      "EarlyStopping counter: 3 out of 5\n",
      "Best F1 score from now: 0.9522023366054922\n",
      "Epoch 19/199\n"
     ]
    },
    {
     "name": "stderr",
     "output_type": "stream",
     "text": [
      "\n",
      "epoch 19 loss: 0.0177: 100%|██████████████████| 436/436 [08:31<00:00,  1.17s/it]\n",
      "epoch 19 loss: 0.2151: 100%|██████████████████| 109/109 [02:27<00:00,  1.35s/it]"
     ]
    },
    {
     "name": "stdout",
     "output_type": "stream",
     "text": [
      "Epoch [19], Train Loss : [0.01148] Val Loss : [0.21603] Val F1 Score : [0.95068]\n",
      " present score: 0.9506827708597072\n",
      "EarlyStopping counter: 4 out of 5\n",
      "Best F1 score from now: 0.9522023366054922\n",
      "Epoch 20/199\n"
     ]
    },
    {
     "name": "stderr",
     "output_type": "stream",
     "text": [
      "\n",
      "epoch 20 loss: 0.0102: 100%|██████████████████| 436/436 [08:22<00:00,  1.15s/it]\n",
      "epoch 20 loss: 0.1958: 100%|██████████████████| 109/109 [02:24<00:00,  1.32s/it]\n"
     ]
    },
    {
     "name": "stdout",
     "output_type": "stream",
     "text": [
      "Epoch [20], Train Loss : [0.00880] Val Loss : [0.19672] Val F1 Score : [0.95437]\n",
      " present score: 0.9543730742004929\n",
      "Epoch 21/199\n"
     ]
    },
    {
     "name": "stderr",
     "output_type": "stream",
     "text": [
      "epoch 21 loss: 0.0112: 100%|██████████████████| 436/436 [08:32<00:00,  1.17s/it]\n",
      "epoch 21 loss: 0.2082: 100%|██████████████████| 109/109 [02:24<00:00,  1.33s/it]"
     ]
    },
    {
     "name": "stdout",
     "output_type": "stream",
     "text": [
      "Epoch [21], Train Loss : [0.00852] Val Loss : [0.20913] Val F1 Score : [0.95271]\n",
      " present score: 0.9527089584479449\n",
      "EarlyStopping counter: 1 out of 5\n",
      "Best F1 score from now: 0.9543730742004929\n",
      "Epoch 22/199\n"
     ]
    },
    {
     "name": "stderr",
     "output_type": "stream",
     "text": [
      "\n",
      "epoch 22 loss: 0.0223: 100%|██████████████████| 436/436 [08:25<00:00,  1.16s/it]\n",
      "epoch 22 loss: 0.1997: 100%|██████████████████| 109/109 [02:24<00:00,  1.32s/it]"
     ]
    },
    {
     "name": "stdout",
     "output_type": "stream",
     "text": [
      "Epoch [22], Train Loss : [0.01093] Val Loss : [0.20084] Val F1 Score : [0.95428]\n",
      " present score: 0.9542821595385051\n",
      "EarlyStopping counter: 2 out of 5\n",
      "Best F1 score from now: 0.9543730742004929\n",
      "Epoch 23/199\n"
     ]
    },
    {
     "name": "stderr",
     "output_type": "stream",
     "text": [
      "\n",
      "epoch 23 loss: 0.0083: 100%|██████████████████| 436/436 [08:21<00:00,  1.15s/it]\n",
      "epoch 23 loss: 0.2031: 100%|██████████████████| 109/109 [02:23<00:00,  1.32s/it]\n"
     ]
    },
    {
     "name": "stdout",
     "output_type": "stream",
     "text": [
      "Epoch [23], Train Loss : [0.00661] Val Loss : [0.20414] Val F1 Score : [0.95549]\n",
      " present score: 0.9554948325141476\n",
      "Epoch 24/199\n"
     ]
    },
    {
     "name": "stderr",
     "output_type": "stream",
     "text": [
      "epoch 24 loss: 0.0128: 100%|██████████████████| 436/436 [08:26<00:00,  1.16s/it]\n",
      "epoch 24 loss: 0.2049: 100%|██████████████████| 109/109 [02:22<00:00,  1.31s/it]"
     ]
    },
    {
     "name": "stdout",
     "output_type": "stream",
     "text": [
      "Epoch [24], Train Loss : [0.00807] Val Loss : [0.20573] Val F1 Score : [0.95427]\n",
      " present score: 0.9542669254972711\n",
      "EarlyStopping counter: 1 out of 5\n",
      "Best F1 score from now: 0.9554948325141476\n",
      "Epoch 25/199\n"
     ]
    },
    {
     "name": "stderr",
     "output_type": "stream",
     "text": [
      "\n",
      "epoch 25 loss: 0.0080: 100%|██████████████████| 436/436 [08:22<00:00,  1.15s/it]\n",
      "epoch 25 loss: 0.2031: 100%|██████████████████| 109/109 [02:23<00:00,  1.32s/it]"
     ]
    },
    {
     "name": "stdout",
     "output_type": "stream",
     "text": [
      "Epoch [25], Train Loss : [0.00597] Val Loss : [0.20402] Val F1 Score : [0.95444]\n",
      " present score: 0.9544411717778524\n",
      "EarlyStopping counter: 2 out of 5\n",
      "Best F1 score from now: 0.9554948325141476\n",
      "Epoch 26/199\n"
     ]
    },
    {
     "name": "stderr",
     "output_type": "stream",
     "text": [
      "\n",
      "epoch 26 loss: 0.0102: 100%|██████████████████| 436/436 [08:20<00:00,  1.15s/it]\n",
      "epoch 26 loss: 0.1998: 100%|██████████████████| 109/109 [02:23<00:00,  1.31s/it]\n"
     ]
    },
    {
     "name": "stdout",
     "output_type": "stream",
     "text": [
      "Epoch [26], Train Loss : [0.00697] Val Loss : [0.20071] Val F1 Score : [0.95639]\n",
      " present score: 0.9563873958881004\n",
      "Epoch 27/199\n"
     ]
    },
    {
     "name": "stderr",
     "output_type": "stream",
     "text": [
      "epoch 27 loss: 0.0245: 100%|██████████████████| 436/436 [08:24<00:00,  1.16s/it]\n",
      "epoch 27 loss: 0.2041: 100%|██████████████████| 109/109 [02:21<00:00,  1.30s/it]"
     ]
    },
    {
     "name": "stdout",
     "output_type": "stream",
     "text": [
      "Epoch [27], Train Loss : [0.00944] Val Loss : [0.20506] Val F1 Score : [0.95371]\n",
      " present score: 0.9537139126824052\n",
      "EarlyStopping counter: 1 out of 5\n",
      "Best F1 score from now: 0.9563873958881004\n",
      "Epoch 28/199\n"
     ]
    },
    {
     "name": "stderr",
     "output_type": "stream",
     "text": [
      "\n",
      "epoch 28 loss: 0.0065: 100%|██████████████████| 436/436 [08:20<00:00,  1.15s/it]\n",
      "epoch 28 loss: 0.2075: 100%|██████████████████| 109/109 [02:28<00:00,  1.37s/it]"
     ]
    },
    {
     "name": "stdout",
     "output_type": "stream",
     "text": [
      "Epoch [28], Train Loss : [0.00585] Val Loss : [0.20840] Val F1 Score : [0.95568]\n",
      " present score: 0.9556843130926339\n",
      "EarlyStopping counter: 2 out of 5\n",
      "Best F1 score from now: 0.9563873958881004\n",
      "Epoch 29/199\n"
     ]
    },
    {
     "name": "stderr",
     "output_type": "stream",
     "text": [
      "\n",
      "epoch 29 loss: 0.0044: 100%|██████████████████| 436/436 [08:24<00:00,  1.16s/it]\n",
      "epoch 29 loss: 0.2071: 100%|██████████████████| 109/109 [02:23<00:00,  1.31s/it]"
     ]
    },
    {
     "name": "stdout",
     "output_type": "stream",
     "text": [
      "Epoch [29], Train Loss : [0.00394] Val Loss : [0.20797] Val F1 Score : [0.95333]\n",
      " present score: 0.9533335455442362\n",
      "EarlyStopping counter: 3 out of 5\n",
      "Best F1 score from now: 0.9563873958881004\n",
      "Epoch 30/199\n"
     ]
    },
    {
     "name": "stderr",
     "output_type": "stream",
     "text": [
      "\n",
      "epoch 30 loss: 0.0055: 100%|██████████████████| 436/436 [08:24<00:00,  1.16s/it]\n",
      "epoch 30 loss: 0.2089: 100%|██████████████████| 109/109 [02:23<00:00,  1.32s/it]"
     ]
    },
    {
     "name": "stdout",
     "output_type": "stream",
     "text": [
      "Epoch [30], Train Loss : [0.00493] Val Loss : [0.20989] Val F1 Score : [0.95505]\n",
      " present score: 0.9550471947368679\n",
      "EarlyStopping counter: 4 out of 5\n",
      "Best F1 score from now: 0.9563873958881004\n",
      "Epoch 31/199\n"
     ]
    },
    {
     "name": "stderr",
     "output_type": "stream",
     "text": [
      "\n",
      "epoch 31 loss: 0.0056: 100%|██████████████████| 436/436 [08:20<00:00,  1.15s/it]\n",
      "epoch 31 loss: 0.2115: 100%|██████████████████| 109/109 [02:24<00:00,  1.33s/it]\n",
      "/home/hojun/miniconda3/envs/torch/lib/python3.10/site-packages/torchvision/models/_utils.py:208: UserWarning: The parameter 'pretrained' is deprecated since 0.13 and may be removed in the future, please use 'weights' instead.\n",
      "  warnings.warn(\n",
      "/home/hojun/miniconda3/envs/torch/lib/python3.10/site-packages/torchvision/models/_utils.py:223: UserWarning: Arguments other than a weight enum or `None` for 'weights' are deprecated since 0.13 and may be removed in the future. The current behavior is equivalent to passing `weights=ResNet152_Weights.IMAGENET1K_V1`. You can also use `weights=ResNet152_Weights.DEFAULT` to get the most up-to-date weights.\n",
      "  warnings.warn(msg)\n"
     ]
    },
    {
     "name": "stdout",
     "output_type": "stream",
     "text": [
      "Epoch [31], Train Loss : [0.00595] Val Loss : [0.21240] Val F1 Score : [0.95264]\n",
      " present score: 0.9526424279264046\n",
      "EarlyStopping counter: 5 out of 5\n",
      "Best F1 score from now: 0.9563873958881004\n",
      "stop called\n",
      "time : 5:47:08\n",
      "fold: 1, Best Epoch : 26/ 32\n",
      "Best Train Marco F1 : 0.99843\n",
      "[[1452    0    0    0    0    0    0    0    0    0    0    0    0    0\n",
      "     0    0    0    0    0]\n",
      " [   0 1373    0    0    0    0    0    0    0    0    0    0    0    0\n",
      "     0    0    0    0    0]\n",
      " [   0    0 1461    0    0    0    0    1    0    0    0    0    0    0\n",
      "     0    0    0    0    0]\n",
      " [   0    0    0 1495    5    1    2    2    3    0    0    1    1    0\n",
      "     0    1    1    0    1]\n",
      " [   0    0    0    1 1483    0    0    0    0    0    0    0    0    0\n",
      "     0    0    0    0    0]\n",
      " [   0    0    0    0    0 1460    0    0    0    0    0    0    1    0\n",
      "     1    0    0    0    0]\n",
      " [   0    0    0    0    0    0 1495    0    0    0    0    0    0    0\n",
      "     1    0    0    0    0]\n",
      " [   0    0    0    1    0    0    0 1489    0    0    0    0    0    0\n",
      "     0    0    1    0    1]\n",
      " [   0    0    0    0    0    0    0    0 1446    0    1    0    0    0\n",
      "     0    0    0    0    0]\n",
      " [   0    0    0    1    0    0    0    0    0 1470    0    0    0    0\n",
      "     0    0    1    0    0]\n",
      " [   0    0    0    0    0    0    0    0    0    0 1449    0    0    0\n",
      "     1    0    0    0    0]\n",
      " [   0    0    0    0    0    0    0    0    0    0    0 1512    0    0\n",
      "     0    0    0    0    0]\n",
      " [   0    0    0    0    0    0    0    0    0    0    0    0 1466    0\n",
      "     0    0    0    0    1]\n",
      " [   0    0    0    0    0    0    0    0    0    0    0    0    0 1519\n",
      "     0    0    0    0    0]\n",
      " [   0    0    0    1    0    0    0    0    0    1    0    0    0    0\n",
      "  1423    0    0    2    0]\n",
      " [   0    0    0    0    0    0    0    0    0    0    0    0    0    0\n",
      "     0 1448    2    0    0]\n",
      " [   0    0    0    1    0    0    0    0    0    0    0    0    0    0\n",
      "     0    0 1454    0    0]\n",
      " [   0    0    0    1    0    0    0    0    0    0    0    0    0    0\n",
      "     1    0    0 1494    1]\n",
      " [   0    0    0    0    0    0    0    1    0    1    0    0    0    0\n",
      "     0    0    0    1 1412]]\n",
      "Best Valid Marco F1 : 0.95639\n",
      "[[293   6   0   9   0   0   0   0   1   0   0   1   0   1   0   0   0   0\n",
      "    0]\n",
      " [  5 455   0   0   0   0   0   0   0   0   0   1   0   0   0   0   0   0\n",
      "    0]\n",
      " [  0   0 303   2   0   1   1   3   2   2   0   0   2   2   0   0   1   0\n",
      "    1]\n",
      " [  4   4   2 514  30   0  12   1   6   3   2   1   7   2   1   7   0   2\n",
      "    2]\n",
      " [  0   0   0  14 237   1   2   0   0   0   0   0   0   0   0   0   0   1\n",
      "    5]\n",
      " [  0   0   1   2   0 389   0   1   0   0   0   0   4   0   0   0   1   2\n",
      "    0]\n",
      " [  1   0   0   4   1   0 308   1   0   0   0   0   0   0   1   0   0   0\n",
      "    4]\n",
      " [  0   0   1   4   0   0   0 388   0   0   0   0   0   0   0   1   6   0\n",
      "    0]\n",
      " [  0   0   0   1   0   0   0   1 257   0   0   0   1   0   0   0   0   0\n",
      "    0]\n",
      " [  0   0   2   2   0   0   0   2   0 385   0   0   0   1   2   0   3   3\n",
      "    0]\n",
      " [  0   1   0   2   0   0   0   0   0   1 431   0   0   0   0   2   0   2\n",
      "    1]\n",
      " [  1   1   0   4   0   0   0   0   2   0   0 112   0   0   0   0   0   0\n",
      "    0]\n",
      " [  0   0   0   5   0  10   0   1   0   1   0   0 241   0   0   1   1   0\n",
      "    0]\n",
      " [  0   1   0   0   0   0   0   0   0   0   0   0   0 597   0   1   0   1\n",
      "    0]\n",
      " [  0   0   1   1   0   1   0   0   0   2   0   0   0   0 427   0   1   6\n",
      "    1]\n",
      " [  0   0   2   0   0   0   1   0   0   0   0   0   2   1   0 354   0   0\n",
      "    0]\n",
      " [  0   0   1   2   0   1   0   0   1   2   0   0   0   1   0   2 250   0\n",
      "    0]\n",
      " [  0   1   0   0   0   0   0   0   0   0   0   0   2   0   5   0   1 497\n",
      "    3]\n",
      " [  0   0   0   1   1   3   1   0   0   0   0   0   0   0   1   0   0   3\n",
      "  230]]\n",
      "-----------------------------------------------------------------------\n",
      "Training start with fold: 2 epoch: 200 \n",
      "\n",
      "cls_cnts: 19\n",
      "num_samples:27845\n",
      "Fold: 2\n",
      "Epoch 0/199\n"
     ]
    },
    {
     "name": "stderr",
     "output_type": "stream",
     "text": [
      "epoch 0 loss: 0.3691: 100%|███████████████████| 436/436 [08:22<00:00,  1.15s/it]\n",
      "epoch 0 loss: 0.4106: 100%|███████████████████| 109/109 [02:22<00:00,  1.30s/it]"
     ]
    },
    {
     "name": "stdout",
     "output_type": "stream",
     "text": [
      "Epoch [0], Train Loss : [0.47902] Val Loss : [0.41012] Val F1 Score : [0.86494]\n",
      " present score: 0.8649422147816074\n",
      "Epoch 1/199\n"
     ]
    },
    {
     "name": "stderr",
     "output_type": "stream",
     "text": [
      "\n",
      "epoch 1 loss: 0.2478: 100%|███████████████████| 436/436 [08:26<00:00,  1.16s/it]\n",
      "epoch 1 loss: 0.2860: 100%|███████████████████| 109/109 [02:28<00:00,  1.36s/it]"
     ]
    },
    {
     "name": "stdout",
     "output_type": "stream",
     "text": [
      "Epoch [1], Train Loss : [0.25765] Val Loss : [0.28584] Val F1 Score : [0.91898]\n",
      " present score: 0.9189799435544637\n",
      "Epoch 2/199\n"
     ]
    },
    {
     "name": "stderr",
     "output_type": "stream",
     "text": [
      "\n",
      "epoch 2 loss: 0.1875: 100%|███████████████████| 436/436 [08:24<00:00,  1.16s/it]\n",
      "epoch 2 loss: 0.3081: 100%|███████████████████| 109/109 [02:27<00:00,  1.35s/it]"
     ]
    },
    {
     "name": "stdout",
     "output_type": "stream",
     "text": [
      "Epoch [2], Train Loss : [0.19651] Val Loss : [0.30787] Val F1 Score : [0.90971]\n",
      " present score: 0.9097133303356193\n",
      "EarlyStopping counter: 1 out of 5\n",
      "Best F1 score from now: 0.9189799435544637\n",
      "Epoch 3/199\n"
     ]
    },
    {
     "name": "stderr",
     "output_type": "stream",
     "text": [
      "\n",
      "epoch 3 loss: 0.1685: 100%|███████████████████| 436/436 [08:21<00:00,  1.15s/it]\n",
      "epoch 3 loss: 0.3058: 100%|███████████████████| 109/109 [02:27<00:00,  1.35s/it]"
     ]
    },
    {
     "name": "stdout",
     "output_type": "stream",
     "text": [
      "Epoch [3], Train Loss : [0.17187] Val Loss : [0.30565] Val F1 Score : [0.91350]\n",
      " present score: 0.9135017307754657\n",
      "EarlyStopping counter: 2 out of 5\n",
      "Best F1 score from now: 0.9189799435544637\n",
      "Epoch 4/199\n"
     ]
    },
    {
     "name": "stderr",
     "output_type": "stream",
     "text": [
      "\n",
      "epoch 4 loss: 0.1518: 100%|███████████████████| 436/436 [08:17<00:00,  1.14s/it]\n",
      "epoch 4 loss: 0.3366: 100%|███████████████████| 109/109 [02:25<00:00,  1.33s/it]"
     ]
    },
    {
     "name": "stdout",
     "output_type": "stream",
     "text": [
      "Epoch [4], Train Loss : [0.15589] Val Loss : [0.33661] Val F1 Score : [0.90746]\n",
      " present score: 0.9074581266530866\n",
      "EarlyStopping counter: 3 out of 5\n",
      "Best F1 score from now: 0.9189799435544637\n",
      "Epoch 5/199\n"
     ]
    },
    {
     "name": "stderr",
     "output_type": "stream",
     "text": [
      "\n",
      "epoch 5 loss: 0.0836: 100%|███████████████████| 436/436 [08:20<00:00,  1.15s/it]\n",
      "epoch 5 loss: 0.2043: 100%|███████████████████| 109/109 [02:25<00:00,  1.34s/it]"
     ]
    },
    {
     "name": "stdout",
     "output_type": "stream",
     "text": [
      "Epoch [5], Train Loss : [0.09765] Val Loss : [0.20439] Val F1 Score : [0.94703]\n",
      " present score: 0.9470314379928123\n",
      "Epoch 6/199\n"
     ]
    },
    {
     "name": "stderr",
     "output_type": "stream",
     "text": [
      "\n",
      "epoch 6 loss: 0.0690: 100%|███████████████████| 436/436 [08:20<00:00,  1.15s/it]\n",
      "epoch 6 loss: 0.2214: 100%|███████████████████| 109/109 [02:23<00:00,  1.31s/it]"
     ]
    },
    {
     "name": "stdout",
     "output_type": "stream",
     "text": [
      "Epoch [6], Train Loss : [0.06911] Val Loss : [0.22156] Val F1 Score : [0.94149]\n",
      " present score: 0.9414914671983847\n",
      "EarlyStopping counter: 1 out of 5\n",
      "Best F1 score from now: 0.9470314379928123\n",
      "Epoch 7/199\n"
     ]
    },
    {
     "name": "stderr",
     "output_type": "stream",
     "text": [
      "\n",
      "epoch 7 loss: 0.0522: 100%|███████████████████| 436/436 [08:36<00:00,  1.18s/it]\n",
      "epoch 7 loss: 0.2269: 100%|███████████████████| 109/109 [02:32<00:00,  1.40s/it]"
     ]
    },
    {
     "name": "stdout",
     "output_type": "stream",
     "text": [
      "Epoch [7], Train Loss : [0.05992] Val Loss : [0.22697] Val F1 Score : [0.93966]\n",
      " present score: 0.9396562258878361\n",
      "EarlyStopping counter: 2 out of 5\n",
      "Best F1 score from now: 0.9470314379928123\n",
      "Epoch 8/199\n"
     ]
    },
    {
     "name": "stderr",
     "output_type": "stream",
     "text": [
      "\n",
      "epoch 8 loss: 0.0595: 100%|███████████████████| 436/436 [08:28<00:00,  1.17s/it]\n",
      "epoch 8 loss: 0.2390: 100%|███████████████████| 109/109 [02:24<00:00,  1.32s/it]"
     ]
    },
    {
     "name": "stdout",
     "output_type": "stream",
     "text": [
      "Epoch [8], Train Loss : [0.05591] Val Loss : [0.23901] Val F1 Score : [0.93628]\n",
      " present score: 0.9362756522194333\n",
      "EarlyStopping counter: 3 out of 5\n",
      "Best F1 score from now: 0.9470314379928123\n",
      "Epoch 9/199\n"
     ]
    },
    {
     "name": "stderr",
     "output_type": "stream",
     "text": [
      "\n",
      "epoch 9 loss: 0.0498: 100%|███████████████████| 436/436 [08:26<00:00,  1.16s/it]\n",
      "epoch 9 loss: 0.2300: 100%|███████████████████| 109/109 [02:26<00:00,  1.34s/it]"
     ]
    },
    {
     "name": "stdout",
     "output_type": "stream",
     "text": [
      "Epoch [9], Train Loss : [0.05156] Val Loss : [0.22996] Val F1 Score : [0.94106]\n",
      " present score: 0.9410642766147603\n",
      "EarlyStopping counter: 4 out of 5\n",
      "Best F1 score from now: 0.9470314379928123\n",
      "Epoch 10/199\n"
     ]
    },
    {
     "name": "stderr",
     "output_type": "stream",
     "text": [
      "\n",
      "epoch 10 loss: 0.0331: 100%|██████████████████| 436/436 [08:31<00:00,  1.17s/it]\n",
      "epoch 10 loss: 0.2090: 100%|██████████████████| 109/109 [02:24<00:00,  1.32s/it]"
     ]
    },
    {
     "name": "stdout",
     "output_type": "stream",
     "text": [
      "Epoch [10], Train Loss : [0.03321] Val Loss : [0.20891] Val F1 Score : [0.94955]\n",
      " present score: 0.9495511716637323\n",
      "Epoch 11/199\n"
     ]
    },
    {
     "name": "stderr",
     "output_type": "stream",
     "text": [
      "\n",
      "epoch 11 loss: 0.0283: 100%|██████████████████| 436/436 [08:30<00:00,  1.17s/it]\n",
      "epoch 11 loss: 0.2113: 100%|██████████████████| 109/109 [02:26<00:00,  1.35s/it]"
     ]
    },
    {
     "name": "stdout",
     "output_type": "stream",
     "text": [
      "Epoch [11], Train Loss : [0.02420] Val Loss : [0.21161] Val F1 Score : [0.94959]\n",
      " present score: 0.9495942670393946\n",
      "Epoch 12/199\n"
     ]
    },
    {
     "name": "stderr",
     "output_type": "stream",
     "text": [
      "\n",
      "epoch 12 loss: 0.0238: 100%|██████████████████| 436/436 [08:30<00:00,  1.17s/it]\n",
      "epoch 12 loss: 0.2090: 100%|██████████████████| 109/109 [02:27<00:00,  1.35s/it]"
     ]
    },
    {
     "name": "stdout",
     "output_type": "stream",
     "text": [
      "Epoch [12], Train Loss : [0.02472] Val Loss : [0.20928] Val F1 Score : [0.94729]\n",
      " present score: 0.9472865235045742\n",
      "EarlyStopping counter: 1 out of 5\n",
      "Best F1 score from now: 0.9495942670393946\n",
      "Epoch 13/199\n"
     ]
    },
    {
     "name": "stderr",
     "output_type": "stream",
     "text": [
      "\n",
      "epoch 13 loss: 0.0218: 100%|██████████████████| 436/436 [08:18<00:00,  1.14s/it]\n",
      "epoch 13 loss: 0.2237: 100%|██████████████████| 109/109 [02:25<00:00,  1.33s/it]"
     ]
    },
    {
     "name": "stdout",
     "output_type": "stream",
     "text": [
      "Epoch [13], Train Loss : [0.02194] Val Loss : [0.22349] Val F1 Score : [0.94831]\n",
      " present score: 0.9483057977428583\n",
      "EarlyStopping counter: 2 out of 5\n",
      "Best F1 score from now: 0.9495942670393946\n",
      "Epoch 14/199\n"
     ]
    },
    {
     "name": "stderr",
     "output_type": "stream",
     "text": [
      "\n",
      "epoch 14 loss: 0.0318: 100%|██████████████████| 436/436 [08:21<00:00,  1.15s/it]\n",
      "epoch 14 loss: 0.2270: 100%|██████████████████| 109/109 [02:27<00:00,  1.36s/it]"
     ]
    },
    {
     "name": "stdout",
     "output_type": "stream",
     "text": [
      "Epoch [14], Train Loss : [0.02107] Val Loss : [0.22711] Val F1 Score : [0.94714]\n",
      " present score: 0.9471439269021846\n",
      "EarlyStopping counter: 3 out of 5\n",
      "Best F1 score from now: 0.9495942670393946\n",
      "Epoch 15/199\n"
     ]
    },
    {
     "name": "stderr",
     "output_type": "stream",
     "text": [
      "\n",
      "epoch 15 loss: 0.0282: 100%|██████████████████| 436/436 [08:26<00:00,  1.16s/it]\n",
      "epoch 15 loss: 0.2143: 100%|██████████████████| 109/109 [02:26<00:00,  1.34s/it]"
     ]
    },
    {
     "name": "stdout",
     "output_type": "stream",
     "text": [
      "Epoch [15], Train Loss : [0.01877] Val Loss : [0.21446] Val F1 Score : [0.95342]\n",
      " present score: 0.9534175190773848\n",
      "Epoch 16/199\n"
     ]
    },
    {
     "name": "stderr",
     "output_type": "stream",
     "text": [
      "\n",
      "epoch 16 loss: 0.0142: 100%|██████████████████| 436/436 [08:24<00:00,  1.16s/it]\n",
      "epoch 16 loss: 0.2113: 100%|██████████████████| 109/109 [02:28<00:00,  1.36s/it]"
     ]
    },
    {
     "name": "stdout",
     "output_type": "stream",
     "text": [
      "Epoch [16], Train Loss : [0.01415] Val Loss : [0.21137] Val F1 Score : [0.95518]\n",
      " present score: 0.9551826739064003\n",
      "Epoch 17/199\n"
     ]
    },
    {
     "name": "stderr",
     "output_type": "stream",
     "text": [
      "\n",
      "epoch 17 loss: 0.0144: 100%|██████████████████| 436/436 [08:24<00:00,  1.16s/it]\n",
      "epoch 17 loss: 0.2074: 100%|██████████████████| 109/109 [02:29<00:00,  1.37s/it]"
     ]
    },
    {
     "name": "stdout",
     "output_type": "stream",
     "text": [
      "Epoch [17], Train Loss : [0.01260] Val Loss : [0.20767] Val F1 Score : [0.95271]\n",
      " present score: 0.9527078054559371\n",
      "EarlyStopping counter: 1 out of 5\n",
      "Best F1 score from now: 0.9551826739064003\n",
      "Epoch 18/199\n"
     ]
    },
    {
     "name": "stderr",
     "output_type": "stream",
     "text": [
      "\n",
      "epoch 18 loss: 0.0116: 100%|██████████████████| 436/436 [08:25<00:00,  1.16s/it]\n",
      "epoch 18 loss: 0.2108: 100%|██████████████████| 109/109 [02:23<00:00,  1.31s/it]"
     ]
    },
    {
     "name": "stdout",
     "output_type": "stream",
     "text": [
      "Epoch [18], Train Loss : [0.01171] Val Loss : [0.21092] Val F1 Score : [0.95366]\n",
      " present score: 0.953655444094335\n",
      "EarlyStopping counter: 2 out of 5\n",
      "Best F1 score from now: 0.9551826739064003\n",
      "Epoch 19/199\n"
     ]
    },
    {
     "name": "stderr",
     "output_type": "stream",
     "text": [
      "\n",
      "epoch 19 loss: 0.0160: 100%|██████████████████| 436/436 [08:29<00:00,  1.17s/it]\n",
      "epoch 19 loss: 0.2145: 100%|██████████████████| 109/109 [02:24<00:00,  1.33s/it]"
     ]
    },
    {
     "name": "stdout",
     "output_type": "stream",
     "text": [
      "Epoch [19], Train Loss : [0.01062] Val Loss : [0.21454] Val F1 Score : [0.95367]\n",
      " present score: 0.9536668685473044\n",
      "EarlyStopping counter: 3 out of 5\n",
      "Best F1 score from now: 0.9551826739064003\n",
      "Epoch 20/199\n"
     ]
    },
    {
     "name": "stderr",
     "output_type": "stream",
     "text": [
      "\n",
      "epoch 20 loss: 0.0104: 100%|██████████████████| 436/436 [08:23<00:00,  1.16s/it]\n",
      "epoch 20 loss: 0.2175: 100%|██████████████████| 109/109 [02:25<00:00,  1.33s/it]"
     ]
    },
    {
     "name": "stdout",
     "output_type": "stream",
     "text": [
      "Epoch [20], Train Loss : [0.00862] Val Loss : [0.21758] Val F1 Score : [0.95137]\n",
      " present score: 0.9513671186588813\n",
      "EarlyStopping counter: 4 out of 5\n",
      "Best F1 score from now: 0.9551826739064003\n",
      "Epoch 21/199\n"
     ]
    },
    {
     "name": "stderr",
     "output_type": "stream",
     "text": [
      "\n",
      "epoch 21 loss: 0.0084: 100%|██████████████████| 436/436 [08:25<00:00,  1.16s/it]\n",
      "epoch 21 loss: 0.2136: 100%|██████████████████| 109/109 [02:25<00:00,  1.33s/it]\n",
      "/home/hojun/miniconda3/envs/torch/lib/python3.10/site-packages/torchvision/models/_utils.py:208: UserWarning: The parameter 'pretrained' is deprecated since 0.13 and may be removed in the future, please use 'weights' instead.\n",
      "  warnings.warn(\n",
      "/home/hojun/miniconda3/envs/torch/lib/python3.10/site-packages/torchvision/models/_utils.py:223: UserWarning: Arguments other than a weight enum or `None` for 'weights' are deprecated since 0.13 and may be removed in the future. The current behavior is equivalent to passing `weights=ResNet152_Weights.IMAGENET1K_V1`. You can also use `weights=ResNet152_Weights.DEFAULT` to get the most up-to-date weights.\n",
      "  warnings.warn(msg)\n"
     ]
    },
    {
     "name": "stdout",
     "output_type": "stream",
     "text": [
      "Epoch [21], Train Loss : [0.00864] Val Loss : [0.21369] Val F1 Score : [0.95323]\n",
      " present score: 0.9532261160604388\n",
      "EarlyStopping counter: 5 out of 5\n",
      "Best F1 score from now: 0.9551826739064003\n",
      "stop called\n",
      "time : 3:59:08\n",
      "fold: 2, Best Epoch : 16/ 22\n",
      "Best Train Marco F1 : 0.99630\n",
      "[[1432    1    0    0    0    0    0    0    0    0    0    0    0    0\n",
      "     0    0    0    0    0]\n",
      " [   0 1434    0    0    0    0    0    0    0    0    0    0    0    0\n",
      "     0    0    0    0    0]\n",
      " [   0    0 1454    1    0    0    0    0    0    0    1    0    0    0\n",
      "     0    0    1    1    0]\n",
      " [   0    0    3 1404   10    1    9    1    3    1    0    3    4    0\n",
      "     2    0    0    2    1]\n",
      " [   0    0    0    5 1506    0    0    0    0    0    0    0    0    0\n",
      "     0    0    0    0    0]\n",
      " [   0    0    0    0    1 1501    0    2    0    0    0    0    2    0\n",
      "     0    0    1    0    0]\n",
      " [   0    0    0    3    0    0 1453    0    0    0    0    0    0    0\n",
      "     1    0    0    0    0]\n",
      " [   0    0    0    0    0    0    0 1417    0    2    0    0    0    0\n",
      "     1    1    1    0    0]\n",
      " [   0    0    0    1    0    0    0    0 1521    0    0    0    0    0\n",
      "     0    0    0    0    0]\n",
      " [   0    0    1    1    0    1    0    0    0 1452    0    0    0    0\n",
      "     0    0    1    0    0]\n",
      " [   0    0    0    0    0    0    0    0    0    0 1426    0    0    2\n",
      "     1    0    0    0    0]\n",
      " [   0    0    0    2    0    0    0    0    0    0    0 1442    0    0\n",
      "     0    0    0    0    0]\n",
      " [   0    0    0    0    1    1    0    0    0    0    0    0 1499    0\n",
      "     0    0    0    1    0]\n",
      " [   0    0    0    0    0    0    0    0    0    0    2    0    0 1507\n",
      "     0    0    0    0    0]\n",
      " [   0    0    0    1    0    0    0    0    0    0    1    0    0    0\n",
      "  1492    0    0    2    0]\n",
      " [   0    0    0    1    1    0    0    1    0    0    0    0    1    1\n",
      "     0 1394    0    0    0]\n",
      " [   0    0    1    1    0    2    0    0    0    1    0    0    0    1\n",
      "     0    0 1440    1    0]\n",
      " [   0    0    0    2    1    0    0    0    0    0    0    0    0    0\n",
      "     1    0    0 1538    1]\n",
      " [   0    0    0    0    0    0    0    0    0    0    0    0    0    0\n",
      "     0    0    0    2 1430]]\n",
      "Best Valid Marco F1 : 0.95518\n",
      "[[288   8   0  10   0   0   1   0   1   0   0   1   0   1   0   0   1   0\n",
      "    0]\n",
      " [  7 440   0  12   0   1   0   0   1   0   0   0   0   0   0   0   0   0\n",
      "    0]\n",
      " [  0   0 303   5   0   2   1   0   3   2   0   0   1   0   0   2   0   1\n",
      "    0]\n",
      " [  4   1   7 513  15   3  16   4   4   6   2   4   4   0   2   4   4   3\n",
      "    4]\n",
      " [  0   0   0  13 237   0   6   0   0   1   0   0   0   0   0   0   0   0\n",
      "    3]\n",
      " [  0   0   0   2   0 392   0   0   0   0   0   0   4   0   0   0   2   0\n",
      "    0]\n",
      " [  0   0   1   7   0   1 302   0   0   1   0   0   0   0   2   1   0   0\n",
      "    5]\n",
      " [  0   0   1   3   0   0   0 390   0   2   0   0   1   0   0   0   2   1\n",
      "    0]\n",
      " [  0   0   0   0   0   0   0   0 259   0   0   0   0   0   0   0   0   1\n",
      "    0]\n",
      " [  0   0   0   3   0   0   0   1   0 388   1   0   0   0   1   1   3   1\n",
      "    1]\n",
      " [  0   0   1   0   0   1   0   0   2   0 431   0   1   0   0   0   0   1\n",
      "    3]\n",
      " [  0   0   0   0   0   0   0   0   0   0   0 119   0   0   0   1   0   0\n",
      "    0]\n",
      " [  0   0   0   4   0   3   0   0   1   0   0   0 249   0   0   2   0   1\n",
      "    0]\n",
      " [  0   0   0   0   0   0   0   0   0   0   0   0   0 595   0   4   1   0\n",
      "    0]\n",
      " [  0   1   0   1   0   1   0   0   0   0   0   0   0   0 432   0   0   4\n",
      "    1]\n",
      " [  0   0   0   2   0   0   0   0   0   1   1   0   0   1   0 354   0   0\n",
      "    1]\n",
      " [  0   0   2   3   0   7   0   1   2   2   0   0   3   0   1   2 237   0\n",
      "    0]\n",
      " [  0   0   0   0   0   1   1   0   0   1   3   0   0   0   7   0   2 486\n",
      "    8]\n",
      " [  0   0   0   2   0   0   0   0   0   0   1   0   1   0   0   0   0   1\n",
      "  235]]\n",
      "-----------------------------------------------------------------------\n",
      "Training start with fold: 3 epoch: 200 \n",
      "\n",
      "cls_cnts: 19\n",
      "num_samples:27845\n",
      "Fold: 3\n",
      "Epoch 0/199\n"
     ]
    },
    {
     "name": "stderr",
     "output_type": "stream",
     "text": [
      "epoch 0 loss: 0.3663: 100%|███████████████████| 436/436 [08:24<00:00,  1.16s/it]\n",
      "epoch 0 loss: 0.3314: 100%|███████████████████| 109/109 [02:28<00:00,  1.36s/it]"
     ]
    },
    {
     "name": "stdout",
     "output_type": "stream",
     "text": [
      "Epoch [0], Train Loss : [0.47393] Val Loss : [0.33186] Val F1 Score : [0.89956]\n",
      " present score: 0.8995614116373224\n",
      "Epoch 1/199\n"
     ]
    },
    {
     "name": "stderr",
     "output_type": "stream",
     "text": [
      "\n",
      "epoch 1 loss: 0.2223: 100%|███████████████████| 436/436 [08:25<00:00,  1.16s/it]\n",
      "epoch 1 loss: 0.2777: 100%|███████████████████| 109/109 [02:25<00:00,  1.34s/it]"
     ]
    },
    {
     "name": "stdout",
     "output_type": "stream",
     "text": [
      "Epoch [1], Train Loss : [0.23973] Val Loss : [0.27851] Val F1 Score : [0.92497]\n",
      " present score: 0.9249745609681842\n",
      "Epoch 2/199\n"
     ]
    },
    {
     "name": "stderr",
     "output_type": "stream",
     "text": [
      "\n",
      "epoch 2 loss: 0.1891: 100%|███████████████████| 436/436 [08:20<00:00,  1.15s/it]\n",
      "epoch 2 loss: 0.2991: 100%|███████████████████| 109/109 [02:28<00:00,  1.36s/it]"
     ]
    },
    {
     "name": "stdout",
     "output_type": "stream",
     "text": [
      "Epoch [2], Train Loss : [0.19525] Val Loss : [0.29944] Val F1 Score : [0.91437]\n",
      " present score: 0.9143744847130456\n",
      "EarlyStopping counter: 1 out of 5\n",
      "Best F1 score from now: 0.9249745609681842\n",
      "Epoch 3/199\n"
     ]
    },
    {
     "name": "stderr",
     "output_type": "stream",
     "text": [
      "\n",
      "epoch 3 loss: 0.1653: 100%|███████████████████| 436/436 [08:27<00:00,  1.16s/it]\n",
      "epoch 3 loss: 0.3097: 100%|███████████████████| 109/109 [02:25<00:00,  1.33s/it]"
     ]
    },
    {
     "name": "stdout",
     "output_type": "stream",
     "text": [
      "Epoch [3], Train Loss : [0.17361] Val Loss : [0.30999] Val F1 Score : [0.90827]\n",
      " present score: 0.9082666044878899\n",
      "EarlyStopping counter: 2 out of 5\n",
      "Best F1 score from now: 0.9249745609681842\n",
      "Epoch 4/199\n"
     ]
    },
    {
     "name": "stderr",
     "output_type": "stream",
     "text": [
      "\n",
      "epoch 4 loss: 0.1623: 100%|███████████████████| 436/436 [08:25<00:00,  1.16s/it]\n",
      "epoch 4 loss: 0.2843: 100%|███████████████████| 109/109 [02:23<00:00,  1.32s/it]"
     ]
    },
    {
     "name": "stdout",
     "output_type": "stream",
     "text": [
      "Epoch [4], Train Loss : [0.16167] Val Loss : [0.28437] Val F1 Score : [0.91466]\n",
      " present score: 0.914659049800099\n",
      "EarlyStopping counter: 3 out of 5\n",
      "Best F1 score from now: 0.9249745609681842\n",
      "Epoch 5/199\n"
     ]
    },
    {
     "name": "stderr",
     "output_type": "stream",
     "text": [
      "\n",
      "epoch 5 loss: 0.0824: 100%|███████████████████| 436/436 [08:26<00:00,  1.16s/it]\n",
      "epoch 5 loss: 0.2079: 100%|███████████████████| 109/109 [02:26<00:00,  1.35s/it]"
     ]
    },
    {
     "name": "stdout",
     "output_type": "stream",
     "text": [
      "Epoch [5], Train Loss : [0.09105] Val Loss : [0.20841] Val F1 Score : [0.94443]\n",
      " present score: 0.9444261576046568\n",
      "Epoch 6/199\n"
     ]
    },
    {
     "name": "stderr",
     "output_type": "stream",
     "text": [
      "\n",
      "epoch 6 loss: 0.0687: 100%|███████████████████| 436/436 [08:21<00:00,  1.15s/it]\n",
      "epoch 6 loss: 0.2179: 100%|███████████████████| 109/109 [02:24<00:00,  1.33s/it]"
     ]
    },
    {
     "name": "stdout",
     "output_type": "stream",
     "text": [
      "Epoch [6], Train Loss : [0.06798] Val Loss : [0.21825] Val F1 Score : [0.93868]\n",
      " present score: 0.9386810988376448\n",
      "EarlyStopping counter: 1 out of 5\n",
      "Best F1 score from now: 0.9444261576046568\n",
      "Epoch 7/199\n"
     ]
    },
    {
     "name": "stderr",
     "output_type": "stream",
     "text": [
      "\n",
      "epoch 7 loss: 0.0559: 100%|███████████████████| 436/436 [08:26<00:00,  1.16s/it]\n",
      "epoch 7 loss: 0.2116: 100%|███████████████████| 109/109 [02:27<00:00,  1.35s/it]"
     ]
    },
    {
     "name": "stdout",
     "output_type": "stream",
     "text": [
      "Epoch [7], Train Loss : [0.05739] Val Loss : [0.21188] Val F1 Score : [0.94566]\n",
      " present score: 0.9456647154820113\n",
      "Epoch 8/199\n"
     ]
    },
    {
     "name": "stderr",
     "output_type": "stream",
     "text": [
      "\n",
      "epoch 8 loss: 0.0642: 100%|███████████████████| 436/436 [08:28<00:00,  1.17s/it]\n",
      "epoch 8 loss: 0.2300: 100%|███████████████████| 109/109 [02:27<00:00,  1.36s/it]"
     ]
    },
    {
     "name": "stdout",
     "output_type": "stream",
     "text": [
      "Epoch [8], Train Loss : [0.05981] Val Loss : [0.23060] Val F1 Score : [0.93917]\n",
      " present score: 0.9391671229418478\n",
      "EarlyStopping counter: 1 out of 5\n",
      "Best F1 score from now: 0.9456647154820113\n",
      "Epoch 9/199\n"
     ]
    },
    {
     "name": "stderr",
     "output_type": "stream",
     "text": [
      "\n",
      "epoch 9 loss: 0.0516: 100%|███████████████████| 436/436 [08:24<00:00,  1.16s/it]\n",
      "epoch 9 loss: 0.2348: 100%|███████████████████| 109/109 [02:23<00:00,  1.32s/it]"
     ]
    },
    {
     "name": "stdout",
     "output_type": "stream",
     "text": [
      "Epoch [9], Train Loss : [0.05037] Val Loss : [0.23561] Val F1 Score : [0.94199]\n",
      " present score: 0.9419890432146258\n",
      "EarlyStopping counter: 2 out of 5\n",
      "Best F1 score from now: 0.9456647154820113\n",
      "Epoch 10/199\n"
     ]
    },
    {
     "name": "stderr",
     "output_type": "stream",
     "text": [
      "\n",
      "epoch 10 loss: 0.0514: 100%|██████████████████| 436/436 [08:24<00:00,  1.16s/it]\n",
      "epoch 10 loss: 0.2041: 100%|██████████████████| 109/109 [02:26<00:00,  1.35s/it]"
     ]
    },
    {
     "name": "stdout",
     "output_type": "stream",
     "text": [
      "Epoch [10], Train Loss : [0.03865] Val Loss : [0.20483] Val F1 Score : [0.94974]\n",
      " present score: 0.9497360490379665\n",
      "Epoch 11/199\n"
     ]
    },
    {
     "name": "stderr",
     "output_type": "stream",
     "text": [
      "\n",
      "epoch 11 loss: 0.0386: 100%|██████████████████| 436/436 [08:19<00:00,  1.15s/it]\n",
      "epoch 11 loss: 0.2333: 100%|██████████████████| 109/109 [02:26<00:00,  1.34s/it]"
     ]
    },
    {
     "name": "stdout",
     "output_type": "stream",
     "text": [
      "Epoch [11], Train Loss : [0.03134] Val Loss : [0.23397] Val F1 Score : [0.94084]\n",
      " present score: 0.9408353078475623\n",
      "EarlyStopping counter: 1 out of 5\n",
      "Best F1 score from now: 0.9497360490379665\n",
      "Epoch 12/199\n"
     ]
    },
    {
     "name": "stderr",
     "output_type": "stream",
     "text": [
      "\n",
      "epoch 12 loss: 0.0444: 100%|██████████████████| 436/436 [08:23<00:00,  1.15s/it]\n",
      "epoch 12 loss: 0.2114: 100%|██████████████████| 109/109 [02:24<00:00,  1.33s/it]"
     ]
    },
    {
     "name": "stdout",
     "output_type": "stream",
     "text": [
      "Epoch [12], Train Loss : [0.02835] Val Loss : [0.21165] Val F1 Score : [0.95179]\n",
      " present score: 0.9517886276276097\n",
      "Epoch 13/199\n"
     ]
    },
    {
     "name": "stderr",
     "output_type": "stream",
     "text": [
      "\n",
      "epoch 13 loss: 0.0304: 100%|██████████████████| 436/436 [08:24<00:00,  1.16s/it]\n",
      "epoch 13 loss: 0.2151: 100%|██████████████████| 109/109 [02:26<00:00,  1.35s/it]"
     ]
    },
    {
     "name": "stdout",
     "output_type": "stream",
     "text": [
      "Epoch [13], Train Loss : [0.02461] Val Loss : [0.21539] Val F1 Score : [0.94995]\n",
      " present score: 0.9499465590257549\n",
      "EarlyStopping counter: 1 out of 5\n",
      "Best F1 score from now: 0.9517886276276097\n",
      "Epoch 14/199\n"
     ]
    },
    {
     "name": "stderr",
     "output_type": "stream",
     "text": [
      "\n",
      "epoch 14 loss: 0.0262: 100%|██████████████████| 436/436 [08:30<00:00,  1.17s/it]\n",
      "epoch 14 loss: 0.2194: 100%|██████████████████| 109/109 [02:24<00:00,  1.33s/it]"
     ]
    },
    {
     "name": "stdout",
     "output_type": "stream",
     "text": [
      "Epoch [14], Train Loss : [0.01913] Val Loss : [0.21979] Val F1 Score : [0.95070]\n",
      " present score: 0.9506973791132788\n",
      "EarlyStopping counter: 2 out of 5\n",
      "Best F1 score from now: 0.9517886276276097\n",
      "Epoch 15/199\n"
     ]
    },
    {
     "name": "stderr",
     "output_type": "stream",
     "text": [
      "\n",
      "epoch 15 loss: 0.0183: 100%|██████████████████| 436/436 [08:19<00:00,  1.15s/it]\n",
      "epoch 15 loss: 0.2142: 100%|██████████████████| 109/109 [02:23<00:00,  1.32s/it]"
     ]
    },
    {
     "name": "stdout",
     "output_type": "stream",
     "text": [
      "Epoch [15], Train Loss : [0.01745] Val Loss : [0.21463] Val F1 Score : [0.95204]\n",
      " present score: 0.9520351625497397\n",
      "Epoch 16/199\n"
     ]
    },
    {
     "name": "stderr",
     "output_type": "stream",
     "text": [
      "\n",
      "epoch 16 loss: 0.0174: 100%|██████████████████| 436/436 [08:24<00:00,  1.16s/it]\n",
      "epoch 16 loss: 0.2160: 100%|██████████████████| 109/109 [02:24<00:00,  1.32s/it]"
     ]
    },
    {
     "name": "stdout",
     "output_type": "stream",
     "text": [
      "Epoch [16], Train Loss : [0.01594] Val Loss : [0.21639] Val F1 Score : [0.95102]\n",
      " present score: 0.9510231998122407\n",
      "EarlyStopping counter: 1 out of 5\n",
      "Best F1 score from now: 0.9520351625497397\n",
      "Epoch 17/199\n"
     ]
    },
    {
     "name": "stderr",
     "output_type": "stream",
     "text": [
      "\n",
      "epoch 17 loss: 0.0369: 100%|██████████████████| 436/436 [08:21<00:00,  1.15s/it]\n",
      "epoch 17 loss: 0.2047: 100%|██████████████████| 109/109 [02:22<00:00,  1.31s/it]"
     ]
    },
    {
     "name": "stdout",
     "output_type": "stream",
     "text": [
      "Epoch [17], Train Loss : [0.01712] Val Loss : [0.20522] Val F1 Score : [0.95442]\n",
      " present score: 0.9544193901142409\n",
      "Epoch 18/199\n"
     ]
    },
    {
     "name": "stderr",
     "output_type": "stream",
     "text": [
      "\n",
      "epoch 18 loss: 0.0146: 100%|██████████████████| 436/436 [08:26<00:00,  1.16s/it]\n",
      "epoch 18 loss: 0.2045: 100%|██████████████████| 109/109 [02:25<00:00,  1.33s/it]"
     ]
    },
    {
     "name": "stdout",
     "output_type": "stream",
     "text": [
      "Epoch [18], Train Loss : [0.01194] Val Loss : [0.20495] Val F1 Score : [0.95547]\n",
      " present score: 0.9554701733924696\n",
      "Epoch 19/199\n"
     ]
    },
    {
     "name": "stderr",
     "output_type": "stream",
     "text": [
      "\n",
      "epoch 19 loss: 0.0118: 100%|██████████████████| 436/436 [08:23<00:00,  1.15s/it]\n",
      "epoch 19 loss: 0.2014: 100%|██████████████████| 109/109 [02:26<00:00,  1.34s/it]"
     ]
    },
    {
     "name": "stdout",
     "output_type": "stream",
     "text": [
      "Epoch [19], Train Loss : [0.00970] Val Loss : [0.20195] Val F1 Score : [0.95537]\n",
      " present score: 0.9553714898457635\n",
      "EarlyStopping counter: 1 out of 5\n",
      "Best F1 score from now: 0.9554701733924696\n",
      "Epoch 20/199\n"
     ]
    },
    {
     "name": "stderr",
     "output_type": "stream",
     "text": [
      "\n",
      "epoch 20 loss: 0.0112: 100%|██████████████████| 436/436 [08:22<00:00,  1.15s/it]\n",
      "epoch 20 loss: 0.2001: 100%|██████████████████| 109/109 [02:22<00:00,  1.31s/it]"
     ]
    },
    {
     "name": "stdout",
     "output_type": "stream",
     "text": [
      "Epoch [20], Train Loss : [0.00883] Val Loss : [0.20064] Val F1 Score : [0.95579]\n",
      " present score: 0.9557861400068558\n",
      "Epoch 21/199\n"
     ]
    },
    {
     "name": "stderr",
     "output_type": "stream",
     "text": [
      "\n",
      "epoch 21 loss: 0.0084: 100%|██████████████████| 436/436 [08:29<00:00,  1.17s/it]\n",
      "epoch 21 loss: 0.2138: 100%|██████████████████| 109/109 [02:25<00:00,  1.34s/it]"
     ]
    },
    {
     "name": "stdout",
     "output_type": "stream",
     "text": [
      "Epoch [21], Train Loss : [0.00708] Val Loss : [0.21415] Val F1 Score : [0.95496]\n",
      " present score: 0.9549560155600456\n",
      "EarlyStopping counter: 1 out of 5\n",
      "Best F1 score from now: 0.9557861400068558\n",
      "Epoch 22/199\n"
     ]
    },
    {
     "name": "stderr",
     "output_type": "stream",
     "text": [
      "\n",
      "epoch 22 loss: 0.0097: 100%|██████████████████| 436/436 [08:17<00:00,  1.14s/it]\n",
      "epoch 22 loss: 0.2061: 100%|██████████████████| 109/109 [02:22<00:00,  1.30s/it]"
     ]
    },
    {
     "name": "stdout",
     "output_type": "stream",
     "text": [
      "Epoch [22], Train Loss : [0.00764] Val Loss : [0.20654] Val F1 Score : [0.95410]\n",
      " present score: 0.9541039951599286\n",
      "EarlyStopping counter: 2 out of 5\n",
      "Best F1 score from now: 0.9557861400068558\n",
      "Epoch 23/199\n"
     ]
    },
    {
     "name": "stderr",
     "output_type": "stream",
     "text": [
      "\n",
      "epoch 23 loss: 0.0085: 100%|██████████████████| 436/436 [08:26<00:00,  1.16s/it]\n",
      "epoch 23 loss: 0.2066: 100%|██████████████████| 109/109 [02:25<00:00,  1.34s/it]\n"
     ]
    },
    {
     "name": "stdout",
     "output_type": "stream",
     "text": [
      "Epoch [23], Train Loss : [0.00647] Val Loss : [0.20714] Val F1 Score : [0.95689]\n",
      " present score: 0.9568877413947\n",
      "Epoch 24/199\n"
     ]
    },
    {
     "name": "stderr",
     "output_type": "stream",
     "text": [
      "epoch 24 loss: 0.0085: 100%|██████████████████| 436/436 [08:19<00:00,  1.15s/it]\n",
      "epoch 24 loss: 0.2226: 100%|██████████████████| 109/109 [02:27<00:00,  1.35s/it]"
     ]
    },
    {
     "name": "stdout",
     "output_type": "stream",
     "text": [
      "Epoch [24], Train Loss : [0.00668] Val Loss : [0.22303] Val F1 Score : [0.95398]\n",
      " present score: 0.9539782921052754\n",
      "EarlyStopping counter: 1 out of 5\n",
      "Best F1 score from now: 0.9568877413947\n",
      "Epoch 25/199\n"
     ]
    },
    {
     "name": "stderr",
     "output_type": "stream",
     "text": [
      "\n",
      "epoch 25 loss: 0.0063: 100%|██████████████████| 436/436 [08:22<00:00,  1.15s/it]\n",
      "epoch 25 loss: 0.2194: 100%|██████████████████| 109/109 [02:24<00:00,  1.33s/it]"
     ]
    },
    {
     "name": "stdout",
     "output_type": "stream",
     "text": [
      "Epoch [25], Train Loss : [0.00600] Val Loss : [0.21982] Val F1 Score : [0.95242]\n",
      " present score: 0.9524193908774597\n",
      "EarlyStopping counter: 2 out of 5\n",
      "Best F1 score from now: 0.9568877413947\n",
      "Epoch 26/199\n"
     ]
    },
    {
     "name": "stderr",
     "output_type": "stream",
     "text": [
      "\n",
      "epoch 26 loss: 0.0067: 100%|██████████████████| 436/436 [08:13<00:00,  1.13s/it]\n",
      "epoch 26 loss: 0.2129: 100%|██████████████████| 109/109 [02:26<00:00,  1.34s/it]"
     ]
    },
    {
     "name": "stdout",
     "output_type": "stream",
     "text": [
      "Epoch [26], Train Loss : [0.00538] Val Loss : [0.21332] Val F1 Score : [0.95588]\n",
      " present score: 0.9558774711527176\n",
      "EarlyStopping counter: 3 out of 5\n",
      "Best F1 score from now: 0.9568877413947\n",
      "Epoch 27/199\n"
     ]
    },
    {
     "name": "stderr",
     "output_type": "stream",
     "text": [
      "\n",
      "epoch 27 loss: 0.0154: 100%|██████████████████| 436/436 [08:24<00:00,  1.16s/it]\n",
      "epoch 27 loss: 0.2118: 100%|██████████████████| 109/109 [02:20<00:00,  1.29s/it]"
     ]
    },
    {
     "name": "stdout",
     "output_type": "stream",
     "text": [
      "Epoch [27], Train Loss : [0.00744] Val Loss : [0.21216] Val F1 Score : [0.95566]\n",
      " present score: 0.9556629106996106\n",
      "EarlyStopping counter: 4 out of 5\n",
      "Best F1 score from now: 0.9568877413947\n",
      "Epoch 28/199\n"
     ]
    },
    {
     "name": "stderr",
     "output_type": "stream",
     "text": [
      "\n",
      "epoch 28 loss: 0.0077: 100%|██████████████████| 436/436 [08:23<00:00,  1.15s/it]\n",
      "epoch 28 loss: 0.2083: 100%|██████████████████| 109/109 [02:23<00:00,  1.32s/it]\n"
     ]
    },
    {
     "name": "stdout",
     "output_type": "stream",
     "text": [
      "Epoch [28], Train Loss : [0.00557] Val Loss : [0.20851] Val F1 Score : [0.95709]\n",
      " present score: 0.957088821779023\n",
      "Epoch 29/199\n"
     ]
    },
    {
     "name": "stderr",
     "output_type": "stream",
     "text": [
      "epoch 29 loss: 0.0067: 100%|██████████████████| 436/436 [08:22<00:00,  1.15s/it]\n",
      "epoch 29 loss: 0.2120: 100%|██████████████████| 109/109 [02:23<00:00,  1.32s/it]"
     ]
    },
    {
     "name": "stdout",
     "output_type": "stream",
     "text": [
      "Epoch [29], Train Loss : [0.00474] Val Loss : [0.21247] Val F1 Score : [0.95559]\n",
      " present score: 0.9555900151374074\n",
      "EarlyStopping counter: 1 out of 5\n",
      "Best F1 score from now: 0.957088821779023\n",
      "Epoch 30/199\n"
     ]
    },
    {
     "name": "stderr",
     "output_type": "stream",
     "text": [
      "\n",
      "epoch 30 loss: 0.0052: 100%|██████████████████| 436/436 [08:20<00:00,  1.15s/it]\n",
      "epoch 30 loss: 0.2104: 100%|██████████████████| 109/109 [02:23<00:00,  1.32s/it]"
     ]
    },
    {
     "name": "stdout",
     "output_type": "stream",
     "text": [
      "Epoch [30], Train Loss : [0.00443] Val Loss : [0.21089] Val F1 Score : [0.95672]\n",
      " present score: 0.956724255657656\n",
      "EarlyStopping counter: 2 out of 5\n",
      "Best F1 score from now: 0.957088821779023\n",
      "Epoch 31/199\n"
     ]
    },
    {
     "name": "stderr",
     "output_type": "stream",
     "text": [
      "\n",
      "epoch 31 loss: 0.0055: 100%|██████████████████| 436/436 [08:20<00:00,  1.15s/it]\n",
      "epoch 31 loss: 0.2115: 100%|██████████████████| 109/109 [02:21<00:00,  1.30s/it]"
     ]
    },
    {
     "name": "stdout",
     "output_type": "stream",
     "text": [
      "Epoch [31], Train Loss : [0.00477] Val Loss : [0.21200] Val F1 Score : [0.95546]\n",
      " present score: 0.9554625289422872\n",
      "EarlyStopping counter: 3 out of 5\n",
      "Best F1 score from now: 0.957088821779023\n",
      "Epoch 32/199\n"
     ]
    },
    {
     "name": "stderr",
     "output_type": "stream",
     "text": [
      "\n",
      "epoch 32 loss: 0.0055: 100%|██████████████████| 436/436 [08:23<00:00,  1.15s/it]\n",
      "epoch 32 loss: 0.2046: 100%|██████████████████| 109/109 [02:25<00:00,  1.34s/it]"
     ]
    },
    {
     "name": "stdout",
     "output_type": "stream",
     "text": [
      "Epoch [32], Train Loss : [0.00436] Val Loss : [0.20512] Val F1 Score : [0.95648]\n",
      " present score: 0.956484589545766\n",
      "EarlyStopping counter: 4 out of 5\n",
      "Best F1 score from now: 0.957088821779023\n",
      "Epoch 33/199\n"
     ]
    },
    {
     "name": "stderr",
     "output_type": "stream",
     "text": [
      "\n",
      "epoch 33 loss: 0.0052: 100%|██████████████████| 436/436 [08:18<00:00,  1.14s/it]\n",
      "epoch 33 loss: 0.2078: 100%|██████████████████| 109/109 [02:21<00:00,  1.30s/it]\n",
      "/home/hojun/miniconda3/envs/torch/lib/python3.10/site-packages/torchvision/models/_utils.py:208: UserWarning: The parameter 'pretrained' is deprecated since 0.13 and may be removed in the future, please use 'weights' instead.\n",
      "  warnings.warn(\n",
      "/home/hojun/miniconda3/envs/torch/lib/python3.10/site-packages/torchvision/models/_utils.py:223: UserWarning: Arguments other than a weight enum or `None` for 'weights' are deprecated since 0.13 and may be removed in the future. The current behavior is equivalent to passing `weights=ResNet152_Weights.IMAGENET1K_V1`. You can also use `weights=ResNet152_Weights.DEFAULT` to get the most up-to-date weights.\n",
      "  warnings.warn(msg)\n"
     ]
    },
    {
     "name": "stdout",
     "output_type": "stream",
     "text": [
      "Epoch [33], Train Loss : [0.00405] Val Loss : [0.20829] Val F1 Score : [0.95656]\n",
      " present score: 0.9565572171378005\n",
      "EarlyStopping counter: 5 out of 5\n",
      "Best F1 score from now: 0.957088821779023\n",
      "stop called\n",
      "time : 6:07:43\n",
      "fold: 3, Best Epoch : 28/ 34\n",
      "Best Train Marco F1 : 0.99860\n",
      "[[1464    0    0    0    0    0    0    0    0    0    0    0    0    0\n",
      "     0    0    0    0    0]\n",
      " [   0 1471    0    0    0    0    0    0    0    0    0    0    0    0\n",
      "     0    0    0    0    0]\n",
      " [   0    0 1428    0    0    0    0    0    0    0    0    0    0    0\n",
      "     0    0    0    0    0]\n",
      " [   0    0    0 1437    4    0    4    0    0    0    0    3    0    0\n",
      "     0    1    1    0    1]\n",
      " [   0    0    0    1 1453    0    0    0    0    0    1    0    0    0\n",
      "     0    0    0    0    0]\n",
      " [   0    0    0    0    1 1480    0    1    1    0    0    0    1    0\n",
      "     0    0    0    0    0]\n",
      " [   0    0    0    1    0    0 1490    0    0    1    0    0    0    0\n",
      "     0    1    0    0    0]\n",
      " [   0    0    0    1    0    0    0 1496    0    0    0    0    0    0\n",
      "     0    0    0    0    0]\n",
      " [   0    0    0    0    0    0    0    0 1456    0    0    0    0    0\n",
      "     0    0    0    0    0]\n",
      " [   0    0    0    0    0    0    0    1    0 1448    0    0    0    0\n",
      "     0    0    0    0    0]\n",
      " [   0    0    0    0    0    0    0    0    0    0 1417    0    0    0\n",
      "     0    0    0    1    0]\n",
      " [   0    0    0    1    0    0    0    0    0    0    0 1504    0    0\n",
      "     0    0    0    0    0]\n",
      " [   0    0    0    0    0    0    0    0    0    0    0    0 1467    0\n",
      "     0    0    0    0    0]\n",
      " [   0    0    0    1    0    0    0    0    0    0    1    0    0 1492\n",
      "     0    2    0    1    0]\n",
      " [   0    0    0    1    0    0    0    0    0    0    0    0    0    0\n",
      "  1443    0    0    0    0]\n",
      " [   0    0    0    1    0    0    0    0    0    0    0    0    0    1\n",
      "     0 1423    0    0    0]\n",
      " [   0    0    0    1    0    0    0    0    0    0    0    0    0    0\n",
      "     0    0 1490    0    0]\n",
      " [   0    0    0    0    0    0    0    0    0    0    0    0    0    0\n",
      "     0    1    0 1499    0]\n",
      " [   0    0    0    1    0    0    0    0    0    1    0    0    0    0\n",
      "     0    0    0    0 1448]]\n",
      "Best Valid Marco F1 : 0.95709\n",
      "[[305   4   0   1   0   0   0   0   1   0   0   0   0   0   0   0   0   0\n",
      "    0]\n",
      " [  9 451   0   1   0   0   0   0   0   0   0   0   0   0   0   0   0   0\n",
      "    0]\n",
      " [  0   0 309   2   0   2   0   2   0   3   0   0   1   0   0   0   1   0\n",
      "    0]\n",
      " [  2   2   4 504  17   6  16   2   5   3   4   5   7   2   4   5   2   3\n",
      "    7]\n",
      " [  0   0   0  14 237   0   2   0   0   0   0   0   3   0   0   0   0   0\n",
      "    4]\n",
      " [  0   0   1   0   0 390   1   0   0   1   0   0   5   0   1   1   0   0\n",
      "    0]\n",
      " [  0   0   0   6   0   0 306   0   0   0   0   0   0   0   1   1   1   0\n",
      "    5]\n",
      " [  0   0   2   1   0   1   0 393   0   0   1   0   0   0   0   0   2   0\n",
      "    0]\n",
      " [  0   0   1   3   0   1   0   0 253   0   0   0   0   0   1   0   1   0\n",
      "    0]\n",
      " [  0   0   2   2   0   1   0   1   0 385   1   0   0   2   0   0   3   2\n",
      "    1]\n",
      " [  0   0   1   0   0   0   0   0   0   0 435   0   0   1   0   2   0   1\n",
      "    0]\n",
      " [  2   0   0   5   0   0   0   0   1   0   0 111   0   0   0   0   0   0\n",
      "    1]\n",
      " [  0   0   0   6   0   8   0   1   1   0   0   0 240   1   0   3   0   0\n",
      "    0]\n",
      " [  0   0   0   1   0   0   0   0   0   0   0   0   1 596   0   2   0   0\n",
      "    0]\n",
      " [  0   0   0   0   0   0   3   0   0   1   0   0   1   0 430   0   0   5\n",
      "    0]\n",
      " [  0   0   0   0   0   0   0   0   0   0   1   0   0   0   0 358   1   0\n",
      "    0]\n",
      " [  0   0   4   0   0   0   0   1   0   2   0   0   0   1   0   1 250   1\n",
      "    0]\n",
      " [  0   0   1   2   0   0   0   0   0   2   0   0   0   1   5   0   0 492\n",
      "    6]\n",
      " [  0   0   0   2   1   0   3   0   0   0   1   0   0   0   2   1   0   0\n",
      "  230]]\n",
      "-----------------------------------------------------------------------\n",
      "Training start with fold: 4 epoch: 200 \n",
      "\n",
      "cls_cnts: 19\n",
      "num_samples:27845\n",
      "Fold: 4\n",
      "Epoch 0/199\n"
     ]
    },
    {
     "name": "stderr",
     "output_type": "stream",
     "text": [
      "epoch 0 loss: 0.3540: 100%|███████████████████| 436/436 [08:15<00:00,  1.14s/it]\n",
      "epoch 0 loss: 0.3260: 100%|███████████████████| 109/109 [02:28<00:00,  1.36s/it]"
     ]
    },
    {
     "name": "stdout",
     "output_type": "stream",
     "text": [
      "Epoch [0], Train Loss : [0.47364] Val Loss : [0.32629] Val F1 Score : [0.90367]\n",
      " present score: 0.9036681679742501\n",
      "Epoch 1/199\n"
     ]
    },
    {
     "name": "stderr",
     "output_type": "stream",
     "text": [
      "\n",
      "epoch 1 loss: 0.2280: 100%|███████████████████| 436/436 [08:19<00:00,  1.14s/it]\n",
      "epoch 1 loss: 0.2954: 100%|███████████████████| 109/109 [02:25<00:00,  1.34s/it]"
     ]
    },
    {
     "name": "stdout",
     "output_type": "stream",
     "text": [
      "Epoch [1], Train Loss : [0.24593] Val Loss : [0.29509] Val F1 Score : [0.91390]\n",
      " present score: 0.9138994558385752\n",
      "Epoch 2/199\n"
     ]
    },
    {
     "name": "stderr",
     "output_type": "stream",
     "text": [
      "\n",
      "epoch 2 loss: 0.2001: 100%|███████████████████| 436/436 [08:20<00:00,  1.15s/it]\n",
      "epoch 2 loss: 0.2577: 100%|███████████████████| 109/109 [02:26<00:00,  1.35s/it]"
     ]
    },
    {
     "name": "stdout",
     "output_type": "stream",
     "text": [
      "Epoch [2], Train Loss : [0.20577] Val Loss : [0.25796] Val F1 Score : [0.92414]\n",
      " present score: 0.9241432431504049\n",
      "Epoch 3/199\n"
     ]
    },
    {
     "name": "stderr",
     "output_type": "stream",
     "text": [
      "\n",
      "epoch 3 loss: 0.1717: 100%|███████████████████| 436/436 [08:27<00:00,  1.16s/it]\n",
      "epoch 3 loss: 0.3100: 100%|███████████████████| 109/109 [02:27<00:00,  1.35s/it]"
     ]
    },
    {
     "name": "stdout",
     "output_type": "stream",
     "text": [
      "Epoch [3], Train Loss : [0.17273] Val Loss : [0.31030] Val F1 Score : [0.90619]\n",
      " present score: 0.9061856805317714\n",
      "EarlyStopping counter: 1 out of 5\n",
      "Best F1 score from now: 0.9241432431504049\n",
      "Epoch 4/199\n"
     ]
    },
    {
     "name": "stderr",
     "output_type": "stream",
     "text": [
      "\n",
      "epoch 4 loss: 0.1446: 100%|███████████████████| 436/436 [08:15<00:00,  1.14s/it]\n",
      "epoch 4 loss: 0.3488: 100%|███████████████████| 109/109 [02:26<00:00,  1.35s/it]"
     ]
    },
    {
     "name": "stdout",
     "output_type": "stream",
     "text": [
      "Epoch [4], Train Loss : [0.14956] Val Loss : [0.34860] Val F1 Score : [0.90220]\n",
      " present score: 0.9021987391514135\n",
      "EarlyStopping counter: 2 out of 5\n",
      "Best F1 score from now: 0.9241432431504049\n",
      "Epoch 5/199\n"
     ]
    },
    {
     "name": "stderr",
     "output_type": "stream",
     "text": [
      "\n",
      "epoch 5 loss: 0.0867: 100%|███████████████████| 436/436 [08:17<00:00,  1.14s/it]\n",
      "epoch 5 loss: 0.2159: 100%|███████████████████| 109/109 [02:26<00:00,  1.35s/it]"
     ]
    },
    {
     "name": "stdout",
     "output_type": "stream",
     "text": [
      "Epoch [5], Train Loss : [0.08853] Val Loss : [0.21611] Val F1 Score : [0.94042]\n",
      " present score: 0.9404204336659978\n",
      "Epoch 6/199\n"
     ]
    },
    {
     "name": "stderr",
     "output_type": "stream",
     "text": [
      "\n"
     ]
    }
   ],
   "source": [
    "if __name__ == '__main__':\n",
    "    seed_everything(CFG['seed'])\n",
    "    \n",
    "    # WANDB TRACKER INIT\n",
    "    wandb.init(project=project_name, entity=user)\n",
    "    wandb.config.update(CFG)\n",
    "    wandb.run.name = run_name\n",
    "    wandb.define_metric(\"Train Accuracy\", step_metric=\"epoch\")\n",
    "    wandb.define_metric(\"Valid Accuracy\", step_metric=\"epoch\")\n",
    "    wandb.define_metric(\"Train Loss\", step_metric=\"epoch\")\n",
    "    wandb.define_metric(\"Valid Loss\", step_metric=\"epoch\")\n",
    "    wandb.define_metric(\"Train Macro F1 Score\", step_metric=\"epoch\")\n",
    "    wandb.define_metric(\"Valid Macro F1 Score\", step_metric=\"epoch\")\n",
    "    wandb.define_metric(\"Train-Valid Accuracy\", step_metric=\"epoch\")\n",
    "    \n",
    "    model_dir = CFG['model_path'] + '/{}_{}'.format(CFG['model'], run_id)\n",
    "    train_dir = train.dir.values\n",
    "    best_fold = 0\n",
    "    best_f1 =0.0\n",
    "    print('Model: {}'.format(CFG['model']))\n",
    "    # MAKE MODEL DIR\n",
    "    if not os.path.isdir(model_dir):\n",
    "        os.makedirs(model_dir)\n",
    "    \n",
    "    # STRATIFIED K-FOLD DEFINITION\n",
    "    folds = StratifiedKFold(n_splits=CFG['fold_num'], shuffle=True, random_state=CFG['seed']).split(np.arange(train.shape[0]), train.label.values)\n",
    "    \n",
    "    # TEST PROCESS FOLD BREAK\n",
    "    for fold, (trn_idx, val_idx) in enumerate(folds):\n",
    "        print(f'Training start with fold: {fold} epoch: {CFG[\"epochs\"]} \\n')\n",
    "\n",
    "        # EARLY STOPPING DEFINITION\n",
    "        early_stopping = EarlyStopping(patience=CFG[\"patience\"], verbose=True)\n",
    "\n",
    "        # DATALOADER DEFINITION\n",
    "        train_loader, val_loader = prepare_dataloader(train, trn_idx, val_idx, data_root=train_dir)\n",
    "\n",
    "        # MODEL & DEVICE DEFINITION \n",
    "        device = torch.device(CFG['device'])\n",
    "        #model = ForcepImgClassifier(CFG['model'], train.label.nunique(), pretrained=True)\n",
    "        model =Teacher(CFG['model'], train.label.nunique(), pretrained=True)\n",
    "        \n",
    "        # MODEL FREEZING\n",
    "        #model.freezing(freeze = CFG['freezing'], trainable_layer = CFG['trainable_layer'])\n",
    "        if CFG['freezing'] ==True:\n",
    "            for name, param in model.named_parameters():\n",
    "                if param.requires_grad == True:\n",
    "                    print(f\"{name}: {param.requires_grad}\")\n",
    "\n",
    "        model.to(device)\n",
    "        # MODEL DATA PARALLEL\n",
    "        if torch.cuda.device_count() > 1:\n",
    "            model = nn.DataParallel(model)\n",
    "\n",
    "        scaler = torch.cuda.amp.GradScaler()   \n",
    "        optimizer = torch.optim.Adam(model.parameters(), lr=CFG['lr'])\n",
    "        scheduler = torch.optim.lr_scheduler.StepLR(optimizer, gamma=0.5, step_size=5)\n",
    "\n",
    "        # CRITERION (LOSS FUNCTION)\n",
    "        loss_tr = nn.CrossEntropyLoss().to(device) #MyCrossEntropyLoss().to(device)\n",
    "        loss_fn = nn.CrossEntropyLoss().to(device)\n",
    "\n",
    "        wandb.watch(model, loss_tr, log='all')\n",
    "        train_acc_list = []\n",
    "        train_matrix_list = []\n",
    "        train_f1_list = []\n",
    "        valid_acc_list = []\n",
    "        valid_matrix_list = []\n",
    "        valid_f1_list = []\n",
    "        \n",
    "\n",
    "        start = time.time()\n",
    "        print(f'Fold: {fold}')\n",
    "        for epoch in range(CFG['epochs']):\n",
    "            print('Epoch {}/{}'.format(epoch, CFG['epochs'] - 1))\n",
    "\n",
    "            # TRAINIG\n",
    "            train_preds_all, train_acc, train_loss, train_matrix, train_f1 = train_one_epoch(epoch, model, loss_tr,\n",
    "                                                                        optimizer, train_loader, device, scheduler=scheduler)\n",
    "            wandb.log({'Train Accuracy':train_acc, 'Train Loss' : train_loss, 'Train F1': train_f1, 'epoch' : epoch})\n",
    "\n",
    "            # VALIDATION\n",
    "            with torch.no_grad():\n",
    "                valid_preds_all, valid_acc, valid_loss, valid_matrix, valid_f1= valid_one_epoch(epoch, model, loss_fn,\n",
    "                                                                        val_loader, device, scheduler=None)\n",
    "                wandb.log({'Valid Accuracy':valid_acc, 'Valid Loss' : valid_loss, 'Valid F1': valid_f1 ,'epoch' : epoch})\n",
    "            print(f'Epoch [{epoch}], Train Loss : [{train_loss :.5f}] Val Loss : [{valid_loss :.5f}] Val F1 Score : [{valid_f1:.5f}]')\n",
    "            \n",
    "            # SAVE ALL RESULTS\n",
    "            train_acc_list.append(train_acc)\n",
    "            train_matrix_list.append(train_matrix)\n",
    "            train_f1_list.append(train_f1)\n",
    "\n",
    "            valid_acc_list.append(valid_acc)\n",
    "            valid_matrix_list.append(valid_matrix)\n",
    "            valid_f1_list.append(valid_f1)\n",
    "\n",
    "            # MODEL SAVE (THE BEST MODEL OF ALL OF FOLD PROCESS)\n",
    "            if valid_f1 > best_f1:\n",
    "                best_f1 = valid_f1\n",
    "                best_epoch = epoch\n",
    "                torch.save(model.state_dict(), (model_dir+'/{}').format(CFG['model']))\n",
    "\n",
    "            # EARLY STOPPING\n",
    "            stop = early_stopping(valid_f1)\n",
    "            if stop:\n",
    "                print(\"stop called\")   \n",
    "                break\n",
    "\n",
    "        end = time.time() - start\n",
    "        time_ = str(datetime.timedelta(seconds=end)).split(\".\")[0]\n",
    "        print(\"time :\", time_)\n",
    "\n",
    "        # PRINT BEST F1 SCORE MODEL OF FOLD\n",
    "        best_index = valid_f1_list.index(max(valid_f1_list))\n",
    "        print(f'fold: {fold}, Best Epoch : {best_index}/ {len(valid_f1_list)}')\n",
    "        print(f'Best Train Marco F1 : {train_f1_list[best_index]:.5f}')\n",
    "        print(train_matrix_list[best_index])\n",
    "        print(f'Best Valid Marco F1 : {valid_f1_list[best_index]:.5f}')\n",
    "        print(valid_matrix_list[best_index])\n",
    "        print('-----------------------------------------------------------------------')\n",
    "\n",
    "        # K-FOLD END\n",
    "        if valid_f1_list[best_index] > best_fold:\n",
    "            best_fold = valid_f1_list[best_index]\n",
    "            top_fold = fold\n",
    "    print(f'Best Fold F1 score: {best_fold} Top fold : {top_fold}')\n"
   ]
  },
  {
   "cell_type": "code",
   "execution_count": 18,
   "id": "c9ab9299-b98a-43ef-ad42-51e4aad3ddd0",
   "metadata": {},
   "outputs": [
    {
     "data": {
      "text/html": [
       "<div>\n",
       "<style scoped>\n",
       "    .dataframe tbody tr th:only-of-type {\n",
       "        vertical-align: middle;\n",
       "    }\n",
       "\n",
       "    .dataframe tbody tr th {\n",
       "        vertical-align: top;\n",
       "    }\n",
       "\n",
       "    .dataframe thead th {\n",
       "        text-align: right;\n",
       "    }\n",
       "</style>\n",
       "<table border=\"1\" class=\"dataframe\">\n",
       "  <thead>\n",
       "    <tr style=\"text-align: right;\">\n",
       "      <th></th>\n",
       "      <th>image_id</th>\n",
       "      <th>dir</th>\n",
       "      <th>label</th>\n",
       "    </tr>\n",
       "  </thead>\n",
       "  <tbody>\n",
       "    <tr>\n",
       "      <th>0</th>\n",
       "      <td>10Kwalk_448.jpg</td>\n",
       "      <td>../Data/carbon_data/10Kwalk</td>\n",
       "      <td>10Kwalk</td>\n",
       "    </tr>\n",
       "    <tr>\n",
       "      <th>1</th>\n",
       "      <td>10Kwalk_752.jpg</td>\n",
       "      <td>../Data/carbon_data/10Kwalk</td>\n",
       "      <td>10Kwalk</td>\n",
       "    </tr>\n",
       "    <tr>\n",
       "      <th>2</th>\n",
       "      <td>10Kwalk_54.jpg</td>\n",
       "      <td>../Data/carbon_data/10Kwalk</td>\n",
       "      <td>10Kwalk</td>\n",
       "    </tr>\n",
       "    <tr>\n",
       "      <th>3</th>\n",
       "      <td>10Kwalk_1078.jpg</td>\n",
       "      <td>../Data/carbon_data/10Kwalk</td>\n",
       "      <td>10Kwalk</td>\n",
       "    </tr>\n",
       "    <tr>\n",
       "      <th>4</th>\n",
       "      <td>10Kwalk_1457.jpg</td>\n",
       "      <td>../Data/carbon_data/10Kwalk</td>\n",
       "      <td>10Kwalk</td>\n",
       "    </tr>\n",
       "    <tr>\n",
       "      <th>...</th>\n",
       "      <td>...</td>\n",
       "      <td>...</td>\n",
       "      <td>...</td>\n",
       "    </tr>\n",
       "    <tr>\n",
       "      <th>9458</th>\n",
       "      <td>wrap_629.jpg</td>\n",
       "      <td>../Data/carbon_data/wrap</td>\n",
       "      <td>wrap</td>\n",
       "    </tr>\n",
       "    <tr>\n",
       "      <th>9459</th>\n",
       "      <td>wrap_1502.jpg</td>\n",
       "      <td>../Data/carbon_data/wrap</td>\n",
       "      <td>wrap</td>\n",
       "    </tr>\n",
       "    <tr>\n",
       "      <th>9460</th>\n",
       "      <td>wrap_1077.jpg</td>\n",
       "      <td>../Data/carbon_data/wrap</td>\n",
       "      <td>wrap</td>\n",
       "    </tr>\n",
       "    <tr>\n",
       "      <th>9461</th>\n",
       "      <td>wrap_1564.jpg</td>\n",
       "      <td>../Data/carbon_data/wrap</td>\n",
       "      <td>wrap</td>\n",
       "    </tr>\n",
       "    <tr>\n",
       "      <th>9462</th>\n",
       "      <td>wrap_1328.jpg</td>\n",
       "      <td>../Data/carbon_data/wrap</td>\n",
       "      <td>wrap</td>\n",
       "    </tr>\n",
       "  </tbody>\n",
       "</table>\n",
       "<p>9463 rows × 3 columns</p>\n",
       "</div>"
      ],
      "text/plain": [
       "              image_id                          dir    label\n",
       "0      10Kwalk_448.jpg  ../Data/carbon_data/10Kwalk  10Kwalk\n",
       "1      10Kwalk_752.jpg  ../Data/carbon_data/10Kwalk  10Kwalk\n",
       "2       10Kwalk_54.jpg  ../Data/carbon_data/10Kwalk  10Kwalk\n",
       "3     10Kwalk_1078.jpg  ../Data/carbon_data/10Kwalk  10Kwalk\n",
       "4     10Kwalk_1457.jpg  ../Data/carbon_data/10Kwalk  10Kwalk\n",
       "...                ...                          ...      ...\n",
       "9458      wrap_629.jpg     ../Data/carbon_data/wrap     wrap\n",
       "9459     wrap_1502.jpg     ../Data/carbon_data/wrap     wrap\n",
       "9460     wrap_1077.jpg     ../Data/carbon_data/wrap     wrap\n",
       "9461     wrap_1564.jpg     ../Data/carbon_data/wrap     wrap\n",
       "9462     wrap_1328.jpg     ../Data/carbon_data/wrap     wrap\n",
       "\n",
       "[9463 rows x 3 columns]"
      ]
     },
     "execution_count": 18,
     "metadata": {},
     "output_type": "execute_result"
    }
   ],
   "source": [
    "## Pandas Test 데이터프레임 만들기\n",
    "tst_df = pd.DataFrame(total_test_img_paths, columns=['image_id'])\n",
    "tst_df['dir'] = tst_df['image_id'].apply(lambda x: os.path.dirname(x))\n",
    "tst_df['image_id'] = tst_df['image_id'].apply(lambda x: os.path.basename(x))\n",
    "tst_df['label'] = total_test_img_labels\n",
    "test = tst_df\n",
    "test"
   ]
  },
  {
   "cell_type": "code",
   "execution_count": 19,
   "id": "93dba2e1-92a8-4e81-89e8-17005fb81bbd",
   "metadata": {},
   "outputs": [
    {
     "data": {
      "text/html": [
       "<div>\n",
       "<style scoped>\n",
       "    .dataframe tbody tr th:only-of-type {\n",
       "        vertical-align: middle;\n",
       "    }\n",
       "\n",
       "    .dataframe tbody tr th {\n",
       "        vertical-align: top;\n",
       "    }\n",
       "\n",
       "    .dataframe thead th {\n",
       "        text-align: right;\n",
       "    }\n",
       "</style>\n",
       "<table border=\"1\" class=\"dataframe\">\n",
       "  <thead>\n",
       "    <tr style=\"text-align: right;\">\n",
       "      <th></th>\n",
       "      <th>image_id</th>\n",
       "      <th>dir</th>\n",
       "      <th>label</th>\n",
       "    </tr>\n",
       "  </thead>\n",
       "  <tbody>\n",
       "    <tr>\n",
       "      <th>0</th>\n",
       "      <td>10Kwalk_448.jpg</td>\n",
       "      <td>../Data/carbon_data/10Kwalk</td>\n",
       "      <td>0</td>\n",
       "    </tr>\n",
       "    <tr>\n",
       "      <th>1</th>\n",
       "      <td>10Kwalk_752.jpg</td>\n",
       "      <td>../Data/carbon_data/10Kwalk</td>\n",
       "      <td>0</td>\n",
       "    </tr>\n",
       "    <tr>\n",
       "      <th>2</th>\n",
       "      <td>10Kwalk_54.jpg</td>\n",
       "      <td>../Data/carbon_data/10Kwalk</td>\n",
       "      <td>0</td>\n",
       "    </tr>\n",
       "    <tr>\n",
       "      <th>3</th>\n",
       "      <td>10Kwalk_1078.jpg</td>\n",
       "      <td>../Data/carbon_data/10Kwalk</td>\n",
       "      <td>0</td>\n",
       "    </tr>\n",
       "    <tr>\n",
       "      <th>4</th>\n",
       "      <td>10Kwalk_1457.jpg</td>\n",
       "      <td>../Data/carbon_data/10Kwalk</td>\n",
       "      <td>0</td>\n",
       "    </tr>\n",
       "    <tr>\n",
       "      <th>...</th>\n",
       "      <td>...</td>\n",
       "      <td>...</td>\n",
       "      <td>...</td>\n",
       "    </tr>\n",
       "    <tr>\n",
       "      <th>9458</th>\n",
       "      <td>wrap_629.jpg</td>\n",
       "      <td>../Data/carbon_data/wrap</td>\n",
       "      <td>18</td>\n",
       "    </tr>\n",
       "    <tr>\n",
       "      <th>9459</th>\n",
       "      <td>wrap_1502.jpg</td>\n",
       "      <td>../Data/carbon_data/wrap</td>\n",
       "      <td>18</td>\n",
       "    </tr>\n",
       "    <tr>\n",
       "      <th>9460</th>\n",
       "      <td>wrap_1077.jpg</td>\n",
       "      <td>../Data/carbon_data/wrap</td>\n",
       "      <td>18</td>\n",
       "    </tr>\n",
       "    <tr>\n",
       "      <th>9461</th>\n",
       "      <td>wrap_1564.jpg</td>\n",
       "      <td>../Data/carbon_data/wrap</td>\n",
       "      <td>18</td>\n",
       "    </tr>\n",
       "    <tr>\n",
       "      <th>9462</th>\n",
       "      <td>wrap_1328.jpg</td>\n",
       "      <td>../Data/carbon_data/wrap</td>\n",
       "      <td>18</td>\n",
       "    </tr>\n",
       "  </tbody>\n",
       "</table>\n",
       "<p>9463 rows × 3 columns</p>\n",
       "</div>"
      ],
      "text/plain": [
       "              image_id                          dir  label\n",
       "0      10Kwalk_448.jpg  ../Data/carbon_data/10Kwalk      0\n",
       "1      10Kwalk_752.jpg  ../Data/carbon_data/10Kwalk      0\n",
       "2       10Kwalk_54.jpg  ../Data/carbon_data/10Kwalk      0\n",
       "3     10Kwalk_1078.jpg  ../Data/carbon_data/10Kwalk      0\n",
       "4     10Kwalk_1457.jpg  ../Data/carbon_data/10Kwalk      0\n",
       "...                ...                          ...    ...\n",
       "9458      wrap_629.jpg     ../Data/carbon_data/wrap     18\n",
       "9459     wrap_1502.jpg     ../Data/carbon_data/wrap     18\n",
       "9460     wrap_1077.jpg     ../Data/carbon_data/wrap     18\n",
       "9461     wrap_1564.jpg     ../Data/carbon_data/wrap     18\n",
       "9462     wrap_1328.jpg     ../Data/carbon_data/wrap     18\n",
       "\n",
       "[9463 rows x 3 columns]"
      ]
     },
     "execution_count": 19,
     "metadata": {},
     "output_type": "execute_result"
    }
   ],
   "source": [
    "test['label'] = le.fit_transform(test['label'].values)\n",
    "test"
   ]
  },
  {
   "cell_type": "code",
   "execution_count": 20,
   "id": "681ed966-953b-4533-a9b5-1438c1bb27de",
   "metadata": {},
   "outputs": [],
   "source": [
    "########################## inference #############################\n",
    "def inference(model, data_loader, device):\n",
    "    model.eval()\n",
    "    image_preds_all = []\n",
    "    \n",
    "    pbar = tqdm(enumerate(data_loader), total=len(data_loader))\n",
    "    for step, (imgs) in pbar:\n",
    "        imgs = imgs.to(device).float()\n",
    "\n",
    "        image_preds = model(imgs)   #output = model(input)\n",
    "        image_preds_all += [torch.softmax(image_preds, 1).detach().cpu().numpy()]\n",
    "    \n",
    "    image_preds_all = np.concatenate(image_preds_all, axis=0)\n",
    "    return image_preds_all"
   ]
  },
  {
   "cell_type": "code",
   "execution_count": 21,
   "id": "1f910c08-4857-43b4-b499-b5a7d799e5b0",
   "metadata": {},
   "outputs": [
    {
     "name": "stderr",
     "output_type": "stream",
     "text": [
      "/home/hojun/miniconda3/envs/torch/lib/python3.10/site-packages/torchvision/models/_utils.py:208: UserWarning: The parameter 'pretrained' is deprecated since 0.13 and may be removed in the future, please use 'weights' instead.\n",
      "  warnings.warn(\n",
      "/home/hojun/miniconda3/envs/torch/lib/python3.10/site-packages/torchvision/models/_utils.py:223: UserWarning: Arguments other than a weight enum or `None` for 'weights' are deprecated since 0.13 and may be removed in the future. The current behavior is equivalent to passing `weights=ResNet152_Weights.IMAGENET1K_V1`. You can also use `weights=ResNet152_Weights.DEFAULT` to get the most up-to-date weights.\n",
      "  warnings.warn(msg)\n",
      "100%|█████████████████████████████████████████| 148/148 [03:24<00:00,  1.38s/it]\n"
     ]
    }
   ],
   "source": [
    "model = Teacher(CFG['model'], test.label.nunique(), pretrained=True)\n",
    "load_model = CFG['model_path'] + '/resnet152_20230427223000/' + CFG['model']\n",
    "test_dir = test.dir.values\n",
    "\n",
    "tst_ds = ColonDataset(test, test_dir, transform=transform_test, output_label=False)\n",
    "tst_loader = torch.utils.data.DataLoader(\n",
    "    tst_ds, \n",
    "    batch_size=CFG['train_bs'],\n",
    "    num_workers=CFG['num_workers'],\n",
    "    shuffle=False,\n",
    "    pin_memory=True\n",
    ")\n",
    "device = torch.device(CFG['device'])\n",
    "if torch.cuda.device_count() > 1:\n",
    "        model = nn.DataParallel(model)\n",
    "model.to(device)\n",
    "\n",
    "################## get inference #####################\n",
    "predictions = []\n",
    "model.load_state_dict(torch.load(load_model))\n",
    "with torch.no_grad():\n",
    "    predictions += [inference(model, tst_loader, device)]\n",
    "\n",
    "\n",
    "#tst_preds = inference_one_epoch(model, tst_loader, device)\n",
    "predictions = np.mean(predictions, axis=0) \n",
    "test['pred'] = np.argmax(predictions, axis=1)\n",
    "#test['confidence score'] =np.max(predictions, axis=1)"
   ]
  },
  {
   "cell_type": "code",
   "execution_count": 22,
   "id": "c9584788-3514-4b01-9de9-0f5ba62c648b",
   "metadata": {},
   "outputs": [
    {
     "data": {
      "text/html": [
       "<div>\n",
       "<style scoped>\n",
       "    .dataframe tbody tr th:only-of-type {\n",
       "        vertical-align: middle;\n",
       "    }\n",
       "\n",
       "    .dataframe tbody tr th {\n",
       "        vertical-align: top;\n",
       "    }\n",
       "\n",
       "    .dataframe thead th {\n",
       "        text-align: right;\n",
       "    }\n",
       "</style>\n",
       "<table border=\"1\" class=\"dataframe\">\n",
       "  <thead>\n",
       "    <tr style=\"text-align: right;\">\n",
       "      <th></th>\n",
       "      <th>image_id</th>\n",
       "      <th>dir</th>\n",
       "      <th>label</th>\n",
       "      <th>pred</th>\n",
       "    </tr>\n",
       "  </thead>\n",
       "  <tbody>\n",
       "    <tr>\n",
       "      <th>0</th>\n",
       "      <td>10Kwalk_448.jpg</td>\n",
       "      <td>../Data/carbon_data/10Kwalk</td>\n",
       "      <td>0</td>\n",
       "      <td>0</td>\n",
       "    </tr>\n",
       "    <tr>\n",
       "      <th>1</th>\n",
       "      <td>10Kwalk_752.jpg</td>\n",
       "      <td>../Data/carbon_data/10Kwalk</td>\n",
       "      <td>0</td>\n",
       "      <td>0</td>\n",
       "    </tr>\n",
       "    <tr>\n",
       "      <th>2</th>\n",
       "      <td>10Kwalk_54.jpg</td>\n",
       "      <td>../Data/carbon_data/10Kwalk</td>\n",
       "      <td>0</td>\n",
       "      <td>0</td>\n",
       "    </tr>\n",
       "    <tr>\n",
       "      <th>3</th>\n",
       "      <td>10Kwalk_1078.jpg</td>\n",
       "      <td>../Data/carbon_data/10Kwalk</td>\n",
       "      <td>0</td>\n",
       "      <td>0</td>\n",
       "    </tr>\n",
       "    <tr>\n",
       "      <th>4</th>\n",
       "      <td>10Kwalk_1457.jpg</td>\n",
       "      <td>../Data/carbon_data/10Kwalk</td>\n",
       "      <td>0</td>\n",
       "      <td>0</td>\n",
       "    </tr>\n",
       "    <tr>\n",
       "      <th>...</th>\n",
       "      <td>...</td>\n",
       "      <td>...</td>\n",
       "      <td>...</td>\n",
       "      <td>...</td>\n",
       "    </tr>\n",
       "    <tr>\n",
       "      <th>9458</th>\n",
       "      <td>wrap_629.jpg</td>\n",
       "      <td>../Data/carbon_data/wrap</td>\n",
       "      <td>18</td>\n",
       "      <td>18</td>\n",
       "    </tr>\n",
       "    <tr>\n",
       "      <th>9459</th>\n",
       "      <td>wrap_1502.jpg</td>\n",
       "      <td>../Data/carbon_data/wrap</td>\n",
       "      <td>18</td>\n",
       "      <td>18</td>\n",
       "    </tr>\n",
       "    <tr>\n",
       "      <th>9460</th>\n",
       "      <td>wrap_1077.jpg</td>\n",
       "      <td>../Data/carbon_data/wrap</td>\n",
       "      <td>18</td>\n",
       "      <td>18</td>\n",
       "    </tr>\n",
       "    <tr>\n",
       "      <th>9461</th>\n",
       "      <td>wrap_1564.jpg</td>\n",
       "      <td>../Data/carbon_data/wrap</td>\n",
       "      <td>18</td>\n",
       "      <td>18</td>\n",
       "    </tr>\n",
       "    <tr>\n",
       "      <th>9462</th>\n",
       "      <td>wrap_1328.jpg</td>\n",
       "      <td>../Data/carbon_data/wrap</td>\n",
       "      <td>18</td>\n",
       "      <td>18</td>\n",
       "    </tr>\n",
       "  </tbody>\n",
       "</table>\n",
       "<p>9463 rows × 4 columns</p>\n",
       "</div>"
      ],
      "text/plain": [
       "              image_id                          dir  label  pred\n",
       "0      10Kwalk_448.jpg  ../Data/carbon_data/10Kwalk      0     0\n",
       "1      10Kwalk_752.jpg  ../Data/carbon_data/10Kwalk      0     0\n",
       "2       10Kwalk_54.jpg  ../Data/carbon_data/10Kwalk      0     0\n",
       "3     10Kwalk_1078.jpg  ../Data/carbon_data/10Kwalk      0     0\n",
       "4     10Kwalk_1457.jpg  ../Data/carbon_data/10Kwalk      0     0\n",
       "...                ...                          ...    ...   ...\n",
       "9458      wrap_629.jpg     ../Data/carbon_data/wrap     18    18\n",
       "9459     wrap_1502.jpg     ../Data/carbon_data/wrap     18    18\n",
       "9460     wrap_1077.jpg     ../Data/carbon_data/wrap     18    18\n",
       "9461     wrap_1564.jpg     ../Data/carbon_data/wrap     18    18\n",
       "9462     wrap_1328.jpg     ../Data/carbon_data/wrap     18    18\n",
       "\n",
       "[9463 rows x 4 columns]"
      ]
     },
     "execution_count": 22,
     "metadata": {},
     "output_type": "execute_result"
    }
   ],
   "source": [
    "test"
   ]
  },
  {
   "cell_type": "code",
   "execution_count": 26,
   "id": "6dc9d547-6d2c-4d13-95c6-f9baf6e0f5da",
   "metadata": {},
   "outputs": [
    {
     "data": {
      "text/html": [
       "<div>\n",
       "<style scoped>\n",
       "    .dataframe tbody tr th:only-of-type {\n",
       "        vertical-align: middle;\n",
       "    }\n",
       "\n",
       "    .dataframe tbody tr th {\n",
       "        vertical-align: top;\n",
       "    }\n",
       "\n",
       "    .dataframe thead th {\n",
       "        text-align: right;\n",
       "    }\n",
       "</style>\n",
       "<table border=\"1\" class=\"dataframe\">\n",
       "  <thead>\n",
       "    <tr style=\"text-align: right;\">\n",
       "      <th></th>\n",
       "      <th>image_id</th>\n",
       "      <th>dir</th>\n",
       "      <th>label</th>\n",
       "      <th>pred</th>\n",
       "    </tr>\n",
       "  </thead>\n",
       "  <tbody>\n",
       "    <tr>\n",
       "      <th>0</th>\n",
       "      <td>10Kwalk_448.jpg</td>\n",
       "      <td>../Data/carbon_data/10Kwalk</td>\n",
       "      <td>10Kwalk</td>\n",
       "      <td>10Kwalk</td>\n",
       "    </tr>\n",
       "    <tr>\n",
       "      <th>1</th>\n",
       "      <td>10Kwalk_752.jpg</td>\n",
       "      <td>../Data/carbon_data/10Kwalk</td>\n",
       "      <td>10Kwalk</td>\n",
       "      <td>10Kwalk</td>\n",
       "    </tr>\n",
       "    <tr>\n",
       "      <th>2</th>\n",
       "      <td>10Kwalk_54.jpg</td>\n",
       "      <td>../Data/carbon_data/10Kwalk</td>\n",
       "      <td>10Kwalk</td>\n",
       "      <td>10Kwalk</td>\n",
       "    </tr>\n",
       "    <tr>\n",
       "      <th>3</th>\n",
       "      <td>10Kwalk_1078.jpg</td>\n",
       "      <td>../Data/carbon_data/10Kwalk</td>\n",
       "      <td>10Kwalk</td>\n",
       "      <td>10Kwalk</td>\n",
       "    </tr>\n",
       "    <tr>\n",
       "      <th>4</th>\n",
       "      <td>10Kwalk_1457.jpg</td>\n",
       "      <td>../Data/carbon_data/10Kwalk</td>\n",
       "      <td>10Kwalk</td>\n",
       "      <td>10Kwalk</td>\n",
       "    </tr>\n",
       "    <tr>\n",
       "      <th>...</th>\n",
       "      <td>...</td>\n",
       "      <td>...</td>\n",
       "      <td>...</td>\n",
       "      <td>...</td>\n",
       "    </tr>\n",
       "    <tr>\n",
       "      <th>9458</th>\n",
       "      <td>wrap_629.jpg</td>\n",
       "      <td>../Data/carbon_data/wrap</td>\n",
       "      <td>wrap</td>\n",
       "      <td>wrap</td>\n",
       "    </tr>\n",
       "    <tr>\n",
       "      <th>9459</th>\n",
       "      <td>wrap_1502.jpg</td>\n",
       "      <td>../Data/carbon_data/wrap</td>\n",
       "      <td>wrap</td>\n",
       "      <td>wrap</td>\n",
       "    </tr>\n",
       "    <tr>\n",
       "      <th>9460</th>\n",
       "      <td>wrap_1077.jpg</td>\n",
       "      <td>../Data/carbon_data/wrap</td>\n",
       "      <td>wrap</td>\n",
       "      <td>wrap</td>\n",
       "    </tr>\n",
       "    <tr>\n",
       "      <th>9461</th>\n",
       "      <td>wrap_1564.jpg</td>\n",
       "      <td>../Data/carbon_data/wrap</td>\n",
       "      <td>wrap</td>\n",
       "      <td>wrap</td>\n",
       "    </tr>\n",
       "    <tr>\n",
       "      <th>9462</th>\n",
       "      <td>wrap_1328.jpg</td>\n",
       "      <td>../Data/carbon_data/wrap</td>\n",
       "      <td>wrap</td>\n",
       "      <td>wrap</td>\n",
       "    </tr>\n",
       "  </tbody>\n",
       "</table>\n",
       "<p>9463 rows × 4 columns</p>\n",
       "</div>"
      ],
      "text/plain": [
       "              image_id                          dir    label     pred\n",
       "0      10Kwalk_448.jpg  ../Data/carbon_data/10Kwalk  10Kwalk  10Kwalk\n",
       "1      10Kwalk_752.jpg  ../Data/carbon_data/10Kwalk  10Kwalk  10Kwalk\n",
       "2       10Kwalk_54.jpg  ../Data/carbon_data/10Kwalk  10Kwalk  10Kwalk\n",
       "3     10Kwalk_1078.jpg  ../Data/carbon_data/10Kwalk  10Kwalk  10Kwalk\n",
       "4     10Kwalk_1457.jpg  ../Data/carbon_data/10Kwalk  10Kwalk  10Kwalk\n",
       "...                ...                          ...      ...      ...\n",
       "9458      wrap_629.jpg     ../Data/carbon_data/wrap     wrap     wrap\n",
       "9459     wrap_1502.jpg     ../Data/carbon_data/wrap     wrap     wrap\n",
       "9460     wrap_1077.jpg     ../Data/carbon_data/wrap     wrap     wrap\n",
       "9461     wrap_1564.jpg     ../Data/carbon_data/wrap     wrap     wrap\n",
       "9462     wrap_1328.jpg     ../Data/carbon_data/wrap     wrap     wrap\n",
       "\n",
       "[9463 rows x 4 columns]"
      ]
     },
     "execution_count": 26,
     "metadata": {},
     "output_type": "execute_result"
    }
   ],
   "source": [
    "test['label'] = le.inverse_transform(test['label'].values)\n",
    "test['pred'] = le.inverse_transform(test['pred'].values)\n",
    "test"
   ]
  },
  {
   "cell_type": "code",
   "execution_count": 27,
   "id": "da647547-7a7b-4690-94df-bb42ca426f3c",
   "metadata": {},
   "outputs": [
    {
     "name": "stdout",
     "output_type": "stream",
     "text": [
      "accuracy: 0.9770\n",
      "f1_score: 0.9759\n"
     ]
    },
    {
     "data": {
      "image/png": "[encoded data removed]",
      "text/plain": [
       "<Figure size 1500x1000 with 2 Axes>"
      ]
     },
     "metadata": {},
     "output_type": "display_data"
    }
   ],
   "source": [
    "import seaborn as sns\n",
    "\n",
    "test_acc = np.sum(test.label == test.pred) / len(test)\n",
    "test_matrix = confusion_matrix(test['label'], test['pred'])\n",
    "epoch_f1 = f1_score(test['label'], test['pred'], average='macro')\n",
    "print(f'accuracy: {test_acc:.4f}')\n",
    "print(f'f1_score: {epoch_f1:.4f}')\n",
    "\n",
    "test_matrix = confusion_matrix(test['label'], test['pred'], normalize='true')\n",
    "#test_matrix = confusion_matrix(test['label'], test['pred'])\n",
    "\n",
    "plt.figure(figsize = (15,10))\n",
    "sns.heatmap(test_matrix, \n",
    "            annot=True, \n",
    "            xticklabels = sorted(set(test['label'])), \n",
    "            yticklabels = sorted(set(test['label'])),\n",
    "            )\n",
    "plt.title('Normalized Confusion Matrix')\n",
    "plt.show()\n",
    "\n",
    "#print(f'confusion_matrix \\n-------------------------\\n {test_matrix}')"
   ]
  },
  {
   "cell_type": "code",
   "execution_count": 23,
   "id": "ab89fde5-9498-4a99-8bb8-4af301e4a6ce",
   "metadata": {},
   "outputs": [],
   "source": [
    "test.to_csv('test_result/incep_res_0403.csv', index=False)"
   ]
  },
  {
   "cell_type": "code",
   "execution_count": null,
   "id": "d8cbfb49-98dd-4d2f-a778-21764270d9c8",
   "metadata": {},
   "outputs": [],
   "source": []
  }
 ],
 "metadata": {
  "kernelspec": {
   "display_name": "torch-gpu",
   "language": "python",
   "name": "torch"
  },
  "language_info": {
   "codemirror_mode": {
    "name": "ipython",
    "version": 3
   },
   "file_extension": ".py",
   "mimetype": "text/x-python",
   "name": "python",
   "nbconvert_exporter": "python",
   "pygments_lexer": "ipython3",
   "version": "3.10.6"
  },
  "vscode": {
   "interpreter": {
    "hash": "916dbcbb3f70747c44a77c7bcd40155683ae19c65e1c03b4aa3499c5328201f1"
   }
  }
 },
 "nbformat": 4,
 "nbformat_minor": 5
}
