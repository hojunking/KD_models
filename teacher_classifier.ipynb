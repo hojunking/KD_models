{
 "cells": [
  {
   "cell_type": "code",
   "execution_count": 1,
   "id": "32c4ea0f",
   "metadata": {},
   "outputs": [],
   "source": [
    "import os, re, magic, shutil\n",
    "from glob import glob\n",
    "import time, datetime\n",
    "import random\n",
    "import pandas as pd\n",
    "import numpy as np\n",
    "from tqdm import tqdm\n",
    "import warnings\n",
    "import joblib\n",
    "import datetime as dt\n",
    "\n",
    "import cv2\n",
    "from PIL import Image\n",
    "import matplotlib.pyplot as plt\n",
    "import torch, gc\n",
    "from torch import nn\n",
    "from torch.utils.data import Dataset,DataLoader\n",
    "import torch.nn.functional as F\n",
    "import torchvision\n",
    "import torchvision.models as models\n",
    "\n",
    "#from skimage import io\n",
    "import sklearn\n",
    "from sklearn.model_selection import GroupKFold, StratifiedKFold\n",
    "from sklearn.metrics import roc_auc_score, log_loss, f1_score, confusion_matrix, classification_report\n",
    "from sklearn import metrics, preprocessing\n",
    "from scipy.ndimage import zoom\n",
    "import timm\n",
    "from timm.data import resolve_data_config\n",
    "from timm.data.transforms_factory import create_transform\n",
    "import albumentations as A\n",
    "import albumentations.pytorch\n",
    "import wandb"
   ]
  },
  {
   "cell_type": "markdown",
   "id": "a29d0796-1f1d-40df-ad4a-21f57ed7fe35",
   "metadata": {},
   "source": [
    "#### Hyper Param Setting"
   ]
  },
  {
   "cell_type": "code",
   "execution_count": 2,
   "id": "57c0283c",
   "metadata": {},
   "outputs": [],
   "source": [
    "CFG = {\n",
    "    'fold_num': 5,\n",
    "    'seed': 42,\n",
    "    'model': 'resnet152',\n",
    "    'img_size': 260,\n",
    "    'epochs': 200,\n",
    "    'train_bs':64,\n",
    "    'valid_bs':64,\n",
    "    'lr': 1e-4, ## learning rate\n",
    "    'num_workers': 8,\n",
    "    'verbose_step': 1,\n",
    "    'patience' : 5,\n",
    "    'label_encoder':True,\n",
    "    'device': 'cuda:0',\n",
    "    'freezing': False,\n",
    "    'trainable_layer': 12,\n",
    "    'model_path': './models'\n",
    "}"
   ]
  },
  {
   "cell_type": "markdown",
   "id": "7066a8a1-7060-4b6d-bf0c-d4164820a414",
   "metadata": {},
   "source": [
    "#### wandb init"
   ]
  },
  {
   "cell_type": "code",
   "execution_count": 3,
   "id": "127461e4-c16d-47fd-b983-556c12ad0daf",
   "metadata": {},
   "outputs": [],
   "source": [
    "category = '16_classes'\n",
    "time_now = dt.datetime.now()\n",
    "run_id = time_now.strftime(\"%Y%m%d%H%M\")\n",
    "project_name = 'KD_'+ CFG['model'] + '_' + category\n",
    "user = 'hojunking'\n",
    "run_name = project_name + '_' + run_id"
   ]
  },
  {
   "cell_type": "code",
   "execution_count": 4,
   "id": "5b6c4553-4301-4ba8-801e-e7130ac0b3cf",
   "metadata": {},
   "outputs": [
    {
     "name": "stdout",
     "output_type": "stream",
     "text": [
      "label: 10Kwalk 1956\n",
      "label: battery 2805\n",
      "label: box 1988\n",
      "label: else 3785\n",
      "label: bottle 6152\n",
      "label: handkerchief 2433\n",
      "label: milk 2375\n",
      "label: paper 1665\n",
      "label: pet 2404\n",
      "label: plug 2931\n",
      "label: receipt 843\n",
      "label: shopping bag 1713\n",
      "label: stairs 4061\n",
      "label: transportation 2236\n",
      "label: trash picking 1628\n",
      "label: dishes 5349\n",
      "Train_Images:  35563\n",
      "Train_Images_labels: 35563\n",
      "Test_Images:  8760\n",
      "Test_Images_labels: 8760\n",
      "All data 44323\n"
     ]
    }
   ],
   "source": [
    "# Data split\n",
    "main_path = '../Data/carbon_data/'\n",
    "label_list = [\"10Kwalk\",\"battery\",'box','else','bottle','handkerchief',\n",
    "              'milk', 'paper', 'pet','plug','receipt', 'shopping bag', 'stairs',\n",
    "             'transportation', 'trash picking', 'dishes']\n",
    "\n",
    "total_train_img_paths = []\n",
    "total_train_img_labels = []\n",
    "total_test_img_paths = []\n",
    "total_test_img_labels = []\n",
    "\n",
    "for label in label_list: ## 각 레이블 돌기\n",
    "    print(f'label: {label}',end=' ')\n",
    "    img_paths = [] \n",
    "    img_labels = []\n",
    "\n",
    "    # default ratio\n",
    "    train_ratio = 1500\n",
    "    test_ratio = 500\n",
    "\n",
    "    dir_path = main_path + label ## 레이블 폴더 경로\n",
    "    count = 0\n",
    "    for folder, subfolders, filenames in os.walk(dir_path): ## 폴더 내 모든 파일 탐색\n",
    "    \n",
    "        for img in filenames: ## 각 파일 경로, 레이블 저장\n",
    "            count +=1\n",
    "            if count > train_ratio + test_ratio + 10000:\n",
    "                break\n",
    "            \n",
    "            img_paths.append(folder+'/'+img)\n",
    "            img_labels.append(label)\n",
    "        \n",
    "    print(len(img_paths))\n",
    "\n",
    "    if label == 'else': ## 10walking 데이터 비율 설정하기 (데이터수: 2494)\n",
    "        train_ratio = 3000\n",
    "        test_ratio = 785\n",
    "    elif label == 'dishes': \n",
    "        train_ratio = 4279\n",
    "        test_ratio = 1070\n",
    "    elif label == 'handkerchief':\n",
    "        train_ratio = 2000\n",
    "        test_ratio = 433     \n",
    "    elif label == 'milk':\n",
    "        train_ratio = 2000\n",
    "        test_ratio = 375\n",
    "    elif label == 'paper':\n",
    "        train_ratio = 1300\n",
    "        test_ratio = 365\n",
    "    elif label == 'pet':\n",
    "        train_ratio = 2000\n",
    "        test_ratio = 404\n",
    "    elif label == 'plug':\n",
    "        train_ratio = 2350\n",
    "        test_ratio = 581\n",
    "    elif label == 'receipt':\n",
    "        train_ratio = 600\n",
    "        test_ratio = 243 \n",
    "    elif label == 'shopping bag':\n",
    "        train_ratio = 1300\n",
    "        test_ratio = 413\n",
    "    elif label == 'stairs':\n",
    "        train_ratio = 3250\n",
    "        test_ratio = 811\n",
    "    elif label == 'bottle':\n",
    "        train_ratio = 4921\n",
    "        test_ratio = 1231\n",
    "    elif label == 'transportation':\n",
    "        train_ratio = 1800\n",
    "        test_ratio = 435\n",
    "    elif label == 'trash picking':\n",
    "        train_ratio = 1302\n",
    "        test_ratio = 326\n",
    "    elif label == '10Kwalk':\n",
    "        train_ratio = 1556\n",
    "        test_ratio = 400\n",
    "    elif label == 'battery':\n",
    "        train_ratio = 2305\n",
    "        test_ratio = 500\n",
    "    elif label == 'box':\n",
    "        train_ratio = 1600\n",
    "        test_ratio = 388\n",
    "        \n",
    "    total_train_img_paths.extend(img_paths[:train_ratio])\n",
    "    total_train_img_labels.extend(img_labels[:train_ratio])\n",
    "\n",
    "    total_test_img_paths.extend(img_paths[-test_ratio:])\n",
    "    total_test_img_labels.extend(img_labels[-test_ratio:])\n",
    "\n",
    "print('Train_Images: ',len(total_train_img_paths))\n",
    "print(\"Train_Images_labels:\", len(total_train_img_labels))\n",
    "print('Test_Images: ',len(total_test_img_paths))\n",
    "print(\"Test_Images_labels:\", len(total_test_img_labels))\n",
    "print(\"All data\",len(total_train_img_paths) + len(total_test_img_paths))"
   ]
  },
  {
   "cell_type": "code",
   "execution_count": 5,
   "id": "2716dd8b-84db-4707-80e2-19b29eae9c23",
   "metadata": {},
   "outputs": [
    {
     "data": {
      "text/html": [
       "<div>\n",
       "<style scoped>\n",
       "    .dataframe tbody tr th:only-of-type {\n",
       "        vertical-align: middle;\n",
       "    }\n",
       "\n",
       "    .dataframe tbody tr th {\n",
       "        vertical-align: top;\n",
       "    }\n",
       "\n",
       "    .dataframe thead th {\n",
       "        text-align: right;\n",
       "    }\n",
       "</style>\n",
       "<table border=\"1\" class=\"dataframe\">\n",
       "  <thead>\n",
       "    <tr style=\"text-align: right;\">\n",
       "      <th></th>\n",
       "      <th>image_id</th>\n",
       "      <th>dir</th>\n",
       "      <th>label</th>\n",
       "    </tr>\n",
       "  </thead>\n",
       "  <tbody>\n",
       "    <tr>\n",
       "      <th>0</th>\n",
       "      <td>10Kwalk_468.jpg</td>\n",
       "      <td>../Data/carbon_data/10Kwalk</td>\n",
       "      <td>10Kwalk</td>\n",
       "    </tr>\n",
       "    <tr>\n",
       "      <th>1</th>\n",
       "      <td>10Kwalk_1557.jpg</td>\n",
       "      <td>../Data/carbon_data/10Kwalk</td>\n",
       "      <td>10Kwalk</td>\n",
       "    </tr>\n",
       "    <tr>\n",
       "      <th>2</th>\n",
       "      <td>10Kwalk_724.jpg</td>\n",
       "      <td>../Data/carbon_data/10Kwalk</td>\n",
       "      <td>10Kwalk</td>\n",
       "    </tr>\n",
       "    <tr>\n",
       "      <th>3</th>\n",
       "      <td>10Kwalk_1303.jpg</td>\n",
       "      <td>../Data/carbon_data/10Kwalk</td>\n",
       "      <td>10Kwalk</td>\n",
       "    </tr>\n",
       "    <tr>\n",
       "      <th>4</th>\n",
       "      <td>10Kwalk_1897.jpg</td>\n",
       "      <td>../Data/carbon_data/10Kwalk</td>\n",
       "      <td>10Kwalk</td>\n",
       "    </tr>\n",
       "    <tr>\n",
       "      <th>...</th>\n",
       "      <td>...</td>\n",
       "      <td>...</td>\n",
       "      <td>...</td>\n",
       "    </tr>\n",
       "    <tr>\n",
       "      <th>35558</th>\n",
       "      <td>wrap_1250.jpg</td>\n",
       "      <td>../Data/carbon_data/dishes/wrap</td>\n",
       "      <td>dishes</td>\n",
       "    </tr>\n",
       "    <tr>\n",
       "      <th>35559</th>\n",
       "      <td>wrap_765.jpg</td>\n",
       "      <td>../Data/carbon_data/dishes/wrap</td>\n",
       "      <td>dishes</td>\n",
       "    </tr>\n",
       "    <tr>\n",
       "      <th>35560</th>\n",
       "      <td>wrap_346.jpg</td>\n",
       "      <td>../Data/carbon_data/dishes/wrap</td>\n",
       "      <td>dishes</td>\n",
       "    </tr>\n",
       "    <tr>\n",
       "      <th>35561</th>\n",
       "      <td>wrap_1524.jpg</td>\n",
       "      <td>../Data/carbon_data/dishes/wrap</td>\n",
       "      <td>dishes</td>\n",
       "    </tr>\n",
       "    <tr>\n",
       "      <th>35562</th>\n",
       "      <td>wrap_1036.jpg</td>\n",
       "      <td>../Data/carbon_data/dishes/wrap</td>\n",
       "      <td>dishes</td>\n",
       "    </tr>\n",
       "  </tbody>\n",
       "</table>\n",
       "<p>35563 rows × 3 columns</p>\n",
       "</div>"
      ],
      "text/plain": [
       "               image_id                              dir    label\n",
       "0       10Kwalk_468.jpg      ../Data/carbon_data/10Kwalk  10Kwalk\n",
       "1      10Kwalk_1557.jpg      ../Data/carbon_data/10Kwalk  10Kwalk\n",
       "2       10Kwalk_724.jpg      ../Data/carbon_data/10Kwalk  10Kwalk\n",
       "3      10Kwalk_1303.jpg      ../Data/carbon_data/10Kwalk  10Kwalk\n",
       "4      10Kwalk_1897.jpg      ../Data/carbon_data/10Kwalk  10Kwalk\n",
       "...                 ...                              ...      ...\n",
       "35558     wrap_1250.jpg  ../Data/carbon_data/dishes/wrap   dishes\n",
       "35559      wrap_765.jpg  ../Data/carbon_data/dishes/wrap   dishes\n",
       "35560      wrap_346.jpg  ../Data/carbon_data/dishes/wrap   dishes\n",
       "35561     wrap_1524.jpg  ../Data/carbon_data/dishes/wrap   dishes\n",
       "35562     wrap_1036.jpg  ../Data/carbon_data/dishes/wrap   dishes\n",
       "\n",
       "[35563 rows x 3 columns]"
      ]
     },
     "execution_count": 5,
     "metadata": {},
     "output_type": "execute_result"
    }
   ],
   "source": [
    "## Pandas 데이터프레임 만들기\n",
    "trn_df = pd.DataFrame(total_train_img_paths, columns=['image_id'])\n",
    "trn_df['dir'] = trn_df['image_id'].apply(lambda x: os.path.dirname(x))\n",
    "trn_df['image_id'] = trn_df['image_id'].apply(lambda x: os.path.basename(x))\n",
    "trn_df['label'] = total_train_img_labels\n",
    "train = trn_df\n",
    "train"
   ]
  },
  {
   "cell_type": "markdown",
   "id": "cf387b57-bb5d-4564-96db-d764e547a93a",
   "metadata": {},
   "source": [
    "##### Label Encoding"
   ]
  },
  {
   "cell_type": "code",
   "execution_count": 6,
   "id": "03c67d39-7933-4f98-b998-54a6036ff4a1",
   "metadata": {},
   "outputs": [
    {
     "data": {
      "text/html": [
       "<div>\n",
       "<style scoped>\n",
       "    .dataframe tbody tr th:only-of-type {\n",
       "        vertical-align: middle;\n",
       "    }\n",
       "\n",
       "    .dataframe tbody tr th {\n",
       "        vertical-align: top;\n",
       "    }\n",
       "\n",
       "    .dataframe thead th {\n",
       "        text-align: right;\n",
       "    }\n",
       "</style>\n",
       "<table border=\"1\" class=\"dataframe\">\n",
       "  <thead>\n",
       "    <tr style=\"text-align: right;\">\n",
       "      <th></th>\n",
       "      <th>image_id</th>\n",
       "      <th>dir</th>\n",
       "      <th>label</th>\n",
       "    </tr>\n",
       "  </thead>\n",
       "  <tbody>\n",
       "    <tr>\n",
       "      <th>0</th>\n",
       "      <td>10Kwalk_468.jpg</td>\n",
       "      <td>../Data/carbon_data/10Kwalk</td>\n",
       "      <td>0</td>\n",
       "    </tr>\n",
       "    <tr>\n",
       "      <th>1</th>\n",
       "      <td>10Kwalk_1557.jpg</td>\n",
       "      <td>../Data/carbon_data/10Kwalk</td>\n",
       "      <td>0</td>\n",
       "    </tr>\n",
       "    <tr>\n",
       "      <th>2</th>\n",
       "      <td>10Kwalk_724.jpg</td>\n",
       "      <td>../Data/carbon_data/10Kwalk</td>\n",
       "      <td>0</td>\n",
       "    </tr>\n",
       "    <tr>\n",
       "      <th>3</th>\n",
       "      <td>10Kwalk_1303.jpg</td>\n",
       "      <td>../Data/carbon_data/10Kwalk</td>\n",
       "      <td>0</td>\n",
       "    </tr>\n",
       "    <tr>\n",
       "      <th>4</th>\n",
       "      <td>10Kwalk_1897.jpg</td>\n",
       "      <td>../Data/carbon_data/10Kwalk</td>\n",
       "      <td>0</td>\n",
       "    </tr>\n",
       "    <tr>\n",
       "      <th>...</th>\n",
       "      <td>...</td>\n",
       "      <td>...</td>\n",
       "      <td>...</td>\n",
       "    </tr>\n",
       "    <tr>\n",
       "      <th>35558</th>\n",
       "      <td>wrap_1250.jpg</td>\n",
       "      <td>../Data/carbon_data/dishes/wrap</td>\n",
       "      <td>4</td>\n",
       "    </tr>\n",
       "    <tr>\n",
       "      <th>35559</th>\n",
       "      <td>wrap_765.jpg</td>\n",
       "      <td>../Data/carbon_data/dishes/wrap</td>\n",
       "      <td>4</td>\n",
       "    </tr>\n",
       "    <tr>\n",
       "      <th>35560</th>\n",
       "      <td>wrap_346.jpg</td>\n",
       "      <td>../Data/carbon_data/dishes/wrap</td>\n",
       "      <td>4</td>\n",
       "    </tr>\n",
       "    <tr>\n",
       "      <th>35561</th>\n",
       "      <td>wrap_1524.jpg</td>\n",
       "      <td>../Data/carbon_data/dishes/wrap</td>\n",
       "      <td>4</td>\n",
       "    </tr>\n",
       "    <tr>\n",
       "      <th>35562</th>\n",
       "      <td>wrap_1036.jpg</td>\n",
       "      <td>../Data/carbon_data/dishes/wrap</td>\n",
       "      <td>4</td>\n",
       "    </tr>\n",
       "  </tbody>\n",
       "</table>\n",
       "<p>35563 rows × 3 columns</p>\n",
       "</div>"
      ],
      "text/plain": [
       "               image_id                              dir  label\n",
       "0       10Kwalk_468.jpg      ../Data/carbon_data/10Kwalk      0\n",
       "1      10Kwalk_1557.jpg      ../Data/carbon_data/10Kwalk      0\n",
       "2       10Kwalk_724.jpg      ../Data/carbon_data/10Kwalk      0\n",
       "3      10Kwalk_1303.jpg      ../Data/carbon_data/10Kwalk      0\n",
       "4      10Kwalk_1897.jpg      ../Data/carbon_data/10Kwalk      0\n",
       "...                 ...                              ...    ...\n",
       "35558     wrap_1250.jpg  ../Data/carbon_data/dishes/wrap      4\n",
       "35559      wrap_765.jpg  ../Data/carbon_data/dishes/wrap      4\n",
       "35560      wrap_346.jpg  ../Data/carbon_data/dishes/wrap      4\n",
       "35561     wrap_1524.jpg  ../Data/carbon_data/dishes/wrap      4\n",
       "35562     wrap_1036.jpg  ../Data/carbon_data/dishes/wrap      4\n",
       "\n",
       "[35563 rows x 3 columns]"
      ]
     },
     "execution_count": 6,
     "metadata": {},
     "output_type": "execute_result"
    }
   ],
   "source": [
    "le = preprocessing.LabelEncoder()\n",
    "train['label'] = le.fit_transform(train['label'].values)\n",
    "train"
   ]
  },
  {
   "cell_type": "code",
   "execution_count": 7,
   "id": "29be149b-1ea0-4e34-846e-7395d4e94f03",
   "metadata": {},
   "outputs": [],
   "source": [
    "def label_encoding_classes():\n",
    "    # define certain classes to transform differently\n",
    "    capture_image_classes = ['10Kwalk', 'battery','receipt']\n",
    "    return le.transform(capture_image_classes)"
   ]
  },
  {
   "cell_type": "code",
   "execution_count": 8,
   "id": "6c454bf4",
   "metadata": {},
   "outputs": [],
   "source": [
    "def seed_everything(seed):\n",
    "    random.seed(seed)\n",
    "    os.environ['PYTHONHASHSEED'] = str(seed)\n",
    "    np.random.seed(seed)\n",
    "    torch.manual_seed(seed)\n",
    "    torch.cuda.manual_seed(seed)\n",
    "    torch.backends.cudnn.deterministic = True\n",
    "    torch.backends.cudnn.benchmark = True"
   ]
  },
  {
   "cell_type": "code",
   "execution_count": 9,
   "id": "d97a3c2a",
   "metadata": {},
   "outputs": [],
   "source": [
    "def get_img(path, sub_path=None):\n",
    "    try:\n",
    "        im_bgr = cv2.imread(path)\n",
    "        im_rgb = im_bgr[:, :, ::-1]\n",
    "        past_path = path\n",
    "    except: ## 이미지 에러 발생 시 백지로 대체\n",
    "        im_bgr = cv2.imread('../Data/carbon_reduction/temp_img.jpg')\n",
    "        im_rgb = im_bgr[:, :, ::-1]\n",
    "    return im_rgb"
   ]
  },
  {
   "cell_type": "code",
   "execution_count": 10,
   "id": "884eb987-4341-4fe7-8094-6e61cb051af5",
   "metadata": {},
   "outputs": [],
   "source": [
    "transform_train = A.Compose([\n",
    "    A.RandomResizedCrop(p=1, height=CFG['img_size'] ,width=CFG['img_size'], scale=(0.65, 0.75),ratio=(0.90, 1.10)),\n",
    "    A.HorizontalFlip(p=0.5),\n",
    "    A.SafeRotate(p=0.5, limit=(-20, 20), interpolation=2, border_mode=0, value=(0, 0, 0), mask_value=None),\n",
    "    A.ColorJitter(always_apply=True, p=0.5, contrast=0.2, saturation=0.3, hue=0.2),\n",
    "    A.Normalize(mean=(0.485, 0.456, 0.406), std=(0.229, 0.224, 0.225), max_pixel_value=255.0, always_apply=True, p=1.0),\n",
    "    A.pytorch.transforms.ToTensorV2()\n",
    "        ])\n",
    "\n",
    "transform_train_cap = A.Compose([\n",
    "    A.OneOf([\n",
    "        A.Compose([\n",
    "            A.RandomResizedCrop(p=1, height=CFG['img_size'] ,width=CFG['img_size'], scale=(0.65, 0.85),ratio=(0.90, 1.10)),\n",
    "        ], p=0.6),\n",
    "        A.Compose([\n",
    "            A.Resize(p=1, height = CFG['img_size'], width = CFG['img_size']),\n",
    "        ], p=0.4),\n",
    "    ], p=1.0),\n",
    "    A.Normalize(mean=(0.485, 0.456, 0.406), std=(0.229, 0.224, 0.225), max_pixel_value=255.0, always_apply=True, p=1.0),\n",
    "    A.pytorch.transforms.ToTensorV2()\n",
    "])\n",
    "\n",
    "transform_test = A.Compose([\n",
    "    A.Resize(height = CFG['img_size'], width = CFG['img_size']),\n",
    "    A.Normalize(mean=(0.485, 0.456, 0.406), std=(0.229, 0.224, 0.225), max_pixel_value=255.0, p=1.0),\n",
    "    A.pytorch.transforms.ToTensorV2()\n",
    "        ])"
   ]
  },
  {
   "cell_type": "code",
   "execution_count": 11,
   "id": "5f1561be",
   "metadata": {},
   "outputs": [],
   "source": [
    "class CustomDataset(Dataset):\n",
    "    def __init__(self, df, data_root, transform=None, transform2=None, output_label=True, encoded_class=None):\n",
    "        super(CustomDataset,self).__init__()\n",
    "        self.df = df.reset_index(drop=True).copy()\n",
    "        self.transform = transform\n",
    "        self.transform2 = transform2\n",
    "        self.data_root = data_root\n",
    "        self.output_label = output_label\n",
    "         \n",
    "        if encoded_class == True:\n",
    "            print('test')\n",
    "            self.encoded_class = label_encoding_classes()\n",
    "        else:\n",
    "            self.encoded_class = encoded_class\n",
    "            \n",
    "        if output_label == True:\n",
    "            self.labels = self.df['label'].values\n",
    "        \n",
    "    # AUGMENTATION DIFFERENTLY DEPENDING ON THE TARGET\n",
    "    def custom_augmentation(self, img, target):\n",
    "        if self.encoded_class is not None and target in self.encoded_class:\n",
    "            return self.transform2(image=img)\n",
    "        else:\n",
    "            return self.transform(image=img)\n",
    "    \n",
    "    def __len__(self):\n",
    "        return self.df.shape[0]\n",
    "    \n",
    "    def __getitem__(self, index: int):\n",
    "        \n",
    "        # GET IMAGES\n",
    "        path = \"{}/{}\".format(self.data_root[index], self.df.iloc[index]['image_id'])\n",
    "        img  = get_img(path)\n",
    "        \n",
    "        # GET LABELS\n",
    "        if self.output_label:\n",
    "            target = self.labels[index]\n",
    "            \n",
    "            # CUSTOM AUGMENTATION\n",
    "            transformed = self.custom_augmentation(img, target) \n",
    "            img = transformed['image']\n",
    "            return img, target\n",
    "        else:\n",
    "            transformed =self.transform(image=img)\n",
    "            img = transformed['image']\n",
    "            return img"
   ]
  },
  {
   "cell_type": "code",
   "execution_count": 12,
   "id": "7acf9a37-cf66-431c-85c2-d559515afe2c",
   "metadata": {},
   "outputs": [],
   "source": [
    "# LOAD PRE-TRAINED MODEL\n",
    "class Teacher(nn.Module):\n",
    "    def __init__(self, model_arch_str, num_classes= 2,pretrained=True):\n",
    "        super(Teacher, self).__init__()\n",
    "        model_arch = getattr(models, model_arch_str)\n",
    "        self.backbone = model_arch(pretrained=pretrained) ## 모델 선언 여기 models.##(pretrained =pretrained)\n",
    "        self.backbone.fc = nn.Linear(self.backbone.fc.in_features, num_classes)\n",
    "        \n",
    "    def forward(self, x):\n",
    "        x = self.backbone(x)\n",
    "        return x"
   ]
  },
  {
   "cell_type": "code",
   "execution_count": 13,
   "id": "240e5531",
   "metadata": {},
   "outputs": [],
   "source": [
    "def prepare_dataloader(df, trn_idx, val_idx, data_root=train.dir.values):\n",
    "    \n",
    "    train_ = df.loc[trn_idx,:].reset_index(drop=True)\n",
    "    valid_ = df.loc[val_idx,:].reset_index(drop=True)\n",
    "    train_data_root = data_root[trn_idx]\n",
    "    valid_data_root = data_root[val_idx]\n",
    "    \n",
    "        \n",
    "    train_ds = CustomDataset(train_, train_data_root, transform=transform_train,\n",
    "                            transform2=transform_train_cap, output_label=True, encoded_class=CFG['label_encoder'])\n",
    "    valid_ds = CustomDataset(valid_, valid_data_root, transform=transform_test,\n",
    "                            output_label=True)\n",
    "    # WEIGHTEDRANDOMSAMPLER\n",
    "    class_counts = train_.label.value_counts(sort=False).to_dict()\n",
    "    num_samples = sum(class_counts.values())\n",
    "    print(f'cls_cnts: {len(class_counts)}\\nnum_samples:{num_samples}')\n",
    "    \n",
    "    # weight 제작, 전체 학습 데이터 수를 해당 클래스의 데이터 수로 나누어 줌\n",
    "    class_weights = {l:round(num_samples/class_counts[l], 2) for l in class_counts.keys()}\n",
    "    t_labels = train_.label.to_list()\n",
    "    \n",
    "    # class 별 weight를 전체 trainset에 대응시켜 sampler에 넣어줌\n",
    "    weights = [class_weights[t_labels[i]] for i in range(int(num_samples))]\n",
    "\n",
    "\n",
    "    # weight 제작, 전체 학습 데이터 수를 해당 클래스의 데이터 수로 나누어 줌\n",
    "    class_weights = {l:round(num_samples/class_counts[l], 2) for l in class_counts.keys()}\n",
    "\n",
    "    # class 별 weight를 전체 trainset에 대응시켜 sampler에 넣어줌\n",
    "    weights = [class_weights[t_labels[i]] for i in range(int(num_samples))] \n",
    "    sampler = torch.utils.data.WeightedRandomSampler(torch.DoubleTensor(weights), int(num_samples))\n",
    "    \n",
    "    train_loader = torch.utils.data.DataLoader(\n",
    "        train_ds,\n",
    "        batch_size=CFG['train_bs'],\n",
    "        pin_memory=True,\n",
    "        drop_last=False,\n",
    "        shuffle=False,\n",
    "        sampler=sampler, \n",
    "        num_workers=CFG['num_workers']\n",
    "    )\n",
    "    val_loader = torch.utils.data.DataLoader(\n",
    "        valid_ds, \n",
    "        batch_size=CFG['valid_bs'],\n",
    "        num_workers=CFG['num_workers'],\n",
    "        shuffle=False,\n",
    "        pin_memory=True,\n",
    "    )\n",
    "    return train_loader, val_loader"
   ]
  },
  {
   "cell_type": "code",
   "execution_count": 14,
   "id": "08ffa2fa",
   "metadata": {},
   "outputs": [],
   "source": [
    "def train_one_epoch(epoch, model, loss_fn, optimizer, train_loader, device, scheduler=None):\n",
    "    t = time.time()\n",
    "    \n",
    "    # SET MODEL TRAINING MODE\n",
    "    model.train()\n",
    "    \n",
    "    running_loss = None\n",
    "    loss_sum = 0\n",
    "    image_preds_all = []\n",
    "    image_targets_all = []\n",
    "    acc_list = []\n",
    "    \n",
    "    pbar = tqdm(enumerate(train_loader), total=len(train_loader))\n",
    "    for step, (imgs, image_labels) in pbar:\n",
    "        imgs = imgs.to(device).float()\n",
    "        image_labels = image_labels.to(device).long()\n",
    "        \n",
    "        optimizer.zero_grad()\n",
    "        \n",
    "        # TEACHER MODEL PREDICTION\n",
    "        with torch.cuda.amp.autocast():\n",
    "            image_preds = model(imgs)   #output = model(input)\n",
    "\n",
    "            loss = loss_fn(image_preds, image_labels)\n",
    "            loss_sum+=loss.detach()\n",
    "            \n",
    "            # BACKPROPAGATION\n",
    "            scaler.scale(loss).backward()\n",
    "            scaler.step(optimizer)\n",
    "            scaler.update()\n",
    "        \n",
    "            if running_loss is None:\n",
    "                running_loss = loss.item()\n",
    "            else:\n",
    "                running_loss = running_loss * .99 + loss.item() * .01    \n",
    "        \n",
    "            # TQDM VERBOSE_STEP TRACKING\n",
    "            if ((step + 1) % CFG['verbose_step'] == 0) or ((step + 1) == len(train_loader)):\n",
    "                description = f'epoch {epoch} loss: {running_loss:.4f}'\n",
    "                pbar.set_description(description)\n",
    "        \n",
    "        image_preds_all += [torch.argmax(image_preds, 1).detach().cpu().numpy()]\n",
    "        image_targets_all += [image_labels.detach().cpu().numpy()]\n",
    "        \n",
    "    if scheduler is not None:\n",
    "        scheduler.step()\n",
    "    \n",
    "    image_preds_all = np.concatenate(image_preds_all)\n",
    "    image_targets_all = np.concatenate(image_targets_all)\n",
    "    \n",
    "    matrix = confusion_matrix(image_targets_all,image_preds_all)\n",
    "    epoch_f1 = f1_score(image_targets_all, image_preds_all, average='macro')\n",
    "    \n",
    "    accuracy = (image_preds_all==image_targets_all).mean()\n",
    "    trn_loss = loss_sum/len(train_loader)\n",
    "    \n",
    "    return image_preds_all, accuracy, trn_loss, matrix, epoch_f1\n",
    "\n",
    "def valid_one_epoch(epoch, model, loss_fn, val_loader, device, scheduler=None, schd_loss_update=False):\n",
    "    t = time.time()\n",
    "    \n",
    "    # SET MODEL VALID MODE\n",
    "    model.eval()\n",
    "    \n",
    "    loss_sum = 0\n",
    "    sample_num = 0\n",
    "    avg_loss = 0\n",
    "    image_preds_all = []\n",
    "    image_targets_all = []\n",
    "    acc_list = []\n",
    "    \n",
    "    pbar = tqdm(enumerate(val_loader), total=len(val_loader))\n",
    "    for step, (imgs, image_labels) in pbar:\n",
    "        imgs = imgs.to(device).float()\n",
    "        image_labels = image_labels.to(device).long()\n",
    "        \n",
    "        # TEACHER MODEL PREDICTION\n",
    "        image_preds = model(imgs)\n",
    "        image_preds_all += [torch.argmax(image_preds, 1).detach().cpu().numpy()]\n",
    "        image_targets_all += [image_labels.detach().cpu().numpy()]\n",
    "        \n",
    "        loss = loss_fn(image_preds, image_labels)\n",
    "        \n",
    "        avg_loss += loss.item()\n",
    "        loss_sum += loss.item()*image_labels.shape[0]\n",
    "        sample_num += image_labels.shape[0]\n",
    "        \n",
    "        # TQDM\n",
    "        description = f'epoch {epoch} loss: {loss_sum/sample_num:.4f}'\n",
    "        pbar.set_description(description)\n",
    "    \n",
    "    image_preds_all = np.concatenate(image_preds_all)\n",
    "    image_targets_all = np.concatenate(image_targets_all)\n",
    "    matrix = confusion_matrix(image_targets_all,image_preds_all)\n",
    "    \n",
    "    epoch_f1 = f1_score(image_targets_all, image_preds_all, average='macro')\n",
    "    acc = (image_preds_all==image_targets_all).mean()\n",
    "    val_loss = avg_loss/len(val_loader)\n",
    "    \n",
    "    return image_preds_all, acc, val_loss, matrix, epoch_f1"
   ]
  },
  {
   "cell_type": "code",
   "execution_count": 15,
   "id": "77e9950b",
   "metadata": {},
   "outputs": [],
   "source": [
    "class EarlyStopping:\n",
    "    def __init__(self, patience=10, verbose=False, delta=0):\n",
    "        self.patience = patience\n",
    "        self.verbose = verbose\n",
    "        self.counter = 0\n",
    "        self.best_score = None\n",
    "        self.early_stop = False\n",
    "        self.val_loss_min = np.Inf\n",
    "        self.delta = delta\n",
    "\n",
    "    def __call__(self, score):\n",
    "        print(f' present score: {score}')\n",
    "        if self.best_score is None:\n",
    "            self.best_score = score\n",
    "        elif score <= self.best_score + self.delta:\n",
    "            self.counter += 1\n",
    "            print(f'EarlyStopping counter: {self.counter} out of {self.patience}')\n",
    "            print(f'Best F1 score from now: {self.best_score}')\n",
    "            if self.counter >= self.patience:\n",
    "                self.early_stop = True\n",
    "        else:\n",
    "            self.best_score = score\n",
    "            self.counter = 0\n",
    "        \n",
    "        return self.early_stop"
   ]
  },
  {
   "cell_type": "code",
   "execution_count": null,
   "id": "37102a34",
   "metadata": {},
   "outputs": [
    {
     "name": "stderr",
     "output_type": "stream",
     "text": [
      "Failed to detect the name of this notebook, you can set it manually with the WANDB_NOTEBOOK_NAME environment variable to enable code saving.\n",
      "\u001b[34m\u001b[1mwandb\u001b[0m: Currently logged in as: \u001b[33mhojunking\u001b[0m. Use \u001b[1m`wandb login --relogin`\u001b[0m to force relogin\n"
     ]
    },
    {
     "data": {
      "text/html": [
       "wandb version 0.15.2 is available!  To upgrade, please run:\n",
       " $ pip install wandb --upgrade"
      ],
      "text/plain": [
       "<IPython.core.display.HTML object>"
      ]
     },
     "metadata": {},
     "output_type": "display_data"
    },
    {
     "data": {
      "text/html": [
       "Tracking run with wandb version 0.13.4"
      ],
      "text/plain": [
       "<IPython.core.display.HTML object>"
      ]
     },
     "metadata": {},
     "output_type": "display_data"
    },
    {
     "data": {
      "text/html": [
       "Run data is saved locally in <code>/home/hojun/git/KD_models/wandb/run-20230515_113803-3g4h01pv</code>"
      ],
      "text/plain": [
       "<IPython.core.display.HTML object>"
      ]
     },
     "metadata": {},
     "output_type": "display_data"
    },
    {
     "data": {
      "text/html": [
       "Syncing run <strong><a href=\"https://wandb.ai/hojunking/KD_resnet152_16_classes/runs/3g4h01pv\" target=\"_blank\">elated-blaze-11</a></strong> to <a href=\"https://wandb.ai/hojunking/KD_resnet152_16_classes\" target=\"_blank\">Weights & Biases</a> (<a href=\"https://wandb.me/run\" target=\"_blank\">docs</a>)<br/>"
      ],
      "text/plain": [
       "<IPython.core.display.HTML object>"
      ]
     },
     "metadata": {},
     "output_type": "display_data"
    },
    {
     "name": "stdout",
     "output_type": "stream",
     "text": [
      "Model: resnet152\n",
      "Training start with fold: 0 epoch: 200 \n",
      "\n",
      "test\n",
      "cls_cnts: 16\n",
      "num_samples:28450\n"
     ]
    },
    {
     "name": "stderr",
     "output_type": "stream",
     "text": [
      "/home/hojun/miniconda3/envs/torch/lib/python3.10/site-packages/torchvision/models/_utils.py:208: UserWarning: The parameter 'pretrained' is deprecated since 0.13 and may be removed in the future, please use 'weights' instead.\n",
      "  warnings.warn(\n",
      "/home/hojun/miniconda3/envs/torch/lib/python3.10/site-packages/torchvision/models/_utils.py:223: UserWarning: Arguments other than a weight enum or `None` for 'weights' are deprecated since 0.13 and may be removed in the future. The current behavior is equivalent to passing `weights=ResNet152_Weights.IMAGENET1K_V1`. You can also use `weights=ResNet152_Weights.DEFAULT` to get the most up-to-date weights.\n",
      "  warnings.warn(msg)\n"
     ]
    },
    {
     "name": "stdout",
     "output_type": "stream",
     "text": [
      "Fold: 0\n",
      "Epoch 0/199\n"
     ]
    },
    {
     "name": "stderr",
     "output_type": "stream",
     "text": [
      "epoch 0 loss: 0.3187: 100%|██████████████████████████████████████████████████████████████████████| 445/445 [09:33<00:00,  1.29s/it]\n",
      "epoch 0 loss: 0.2786: 100%|██████████████████████████████████████████████████████████████████████| 112/112 [03:04<00:00,  1.65s/it]\n"
     ]
    },
    {
     "name": "stdout",
     "output_type": "stream",
     "text": [
      "Epoch [0], Train Loss : [0.42495] Val Loss : [0.27900] Val F1 Score : [0.91472]\n",
      " present score: 0.9147158305234195\n",
      "Epoch 1/199\n"
     ]
    },
    {
     "name": "stderr",
     "output_type": "stream",
     "text": [
      "epoch 1 loss: 0.2077: 100%|██████████████████████████████████████████████████████████████████████| 445/445 [09:41<00:00,  1.31s/it]\n",
      "epoch 1 loss: 0.2863: 100%|██████████████████████████████████████████████████████████████████████| 112/112 [02:59<00:00,  1.61s/it]\n"
     ]
    },
    {
     "name": "stdout",
     "output_type": "stream",
     "text": [
      "Epoch [1], Train Loss : [0.22845] Val Loss : [0.28667] Val F1 Score : [0.91924]\n",
      " present score: 0.919243923995805\n",
      "Epoch 2/199\n"
     ]
    },
    {
     "name": "stderr",
     "output_type": "stream",
     "text": [
      "epoch 2 loss: 0.1631: 100%|██████████████████████████████████████████████████████████████████████| 445/445 [09:45<00:00,  1.32s/it]\n",
      "epoch 2 loss: 0.2705: 100%|██████████████████████████████████████████████████████████████████████| 112/112 [02:59<00:00,  1.60s/it]\n"
     ]
    },
    {
     "name": "stdout",
     "output_type": "stream",
     "text": [
      "Epoch [2], Train Loss : [0.17893] Val Loss : [0.27457] Val F1 Score : [0.92645]\n",
      " present score: 0.9264455057691097\n",
      "Epoch 3/199\n"
     ]
    },
    {
     "name": "stderr",
     "output_type": "stream",
     "text": [
      "epoch 3 loss: 0.1529: 100%|██████████████████████████████████████████████████████████████████████| 445/445 [09:36<00:00,  1.30s/it]\n",
      "epoch 3 loss: 0.2473: 100%|██████████████████████████████████████████████████████████████████████| 112/112 [02:59<00:00,  1.60s/it]\n"
     ]
    },
    {
     "name": "stdout",
     "output_type": "stream",
     "text": [
      "Epoch [3], Train Loss : [0.15516] Val Loss : [0.25239] Val F1 Score : [0.93191]\n",
      " present score: 0.9319096655885097\n",
      "Epoch 4/199\n"
     ]
    },
    {
     "name": "stderr",
     "output_type": "stream",
     "text": [
      "epoch 4 loss: 0.1195: 100%|██████████████████████████████████████████████████████████████████████| 445/445 [09:35<00:00,  1.29s/it]\n",
      "epoch 4 loss: 0.2468: 100%|██████████████████████████████████████████████████████████████████████| 112/112 [02:56<00:00,  1.58s/it]\n"
     ]
    },
    {
     "name": "stdout",
     "output_type": "stream",
     "text": [
      "Epoch [4], Train Loss : [0.12414] Val Loss : [0.24584] Val F1 Score : [0.93285]\n",
      " present score: 0.9328530034237578\n",
      "Epoch 5/199\n"
     ]
    },
    {
     "name": "stderr",
     "output_type": "stream",
     "text": [
      "epoch 5 loss: 0.0707: 100%|██████████████████████████████████████████████████████████████████████| 445/445 [09:35<00:00,  1.29s/it]\n",
      "epoch 5 loss: 0.1859: 100%|██████████████████████████████████████████████████████████████████████| 112/112 [02:58<00:00,  1.59s/it]\n"
     ]
    },
    {
     "name": "stdout",
     "output_type": "stream",
     "text": [
      "Epoch [5], Train Loss : [0.07931] Val Loss : [0.18488] Val F1 Score : [0.95010]\n",
      " present score: 0.9500985806720292\n",
      "Epoch 6/199\n"
     ]
    },
    {
     "name": "stderr",
     "output_type": "stream",
     "text": [
      "epoch 6 loss: 0.0581: 100%|██████████████████████████████████████████████████████████████████████| 445/445 [09:39<00:00,  1.30s/it]\n",
      "epoch 6 loss: 0.2034: 100%|██████████████████████████████████████████████████████████████████████| 112/112 [03:01<00:00,  1.62s/it]\n"
     ]
    },
    {
     "name": "stdout",
     "output_type": "stream",
     "text": [
      "Epoch [6], Train Loss : [0.05503] Val Loss : [0.20349] Val F1 Score : [0.95038]\n",
      " present score: 0.9503801635783031\n",
      "Epoch 7/199\n"
     ]
    },
    {
     "name": "stderr",
     "output_type": "stream",
     "text": [
      "epoch 7 loss: 0.0523: 100%|██████████████████████████████████████████████████████████████████████| 445/445 [09:32<00:00,  1.29s/it]\n",
      "epoch 7 loss: 0.2127: 100%|██████████████████████████████████████████████████████████████████████| 112/112 [03:01<00:00,  1.62s/it]"
     ]
    },
    {
     "name": "stdout",
     "output_type": "stream",
     "text": [
      "Epoch [7], Train Loss : [0.05190] Val Loss : [0.21189] Val F1 Score : [0.94797]\n",
      " present score: 0.9479717035277554\n",
      "EarlyStopping counter: 1 out of 5\n",
      "Best F1 score from now: 0.9503801635783031\n",
      "Epoch 8/199\n"
     ]
    },
    {
     "name": "stderr",
     "output_type": "stream",
     "text": [
      "\n",
      "epoch 8 loss: 0.0515: 100%|██████████████████████████████████████████████████████████████████████| 445/445 [09:36<00:00,  1.29s/it]\n",
      "epoch 8 loss: 0.2212: 100%|██████████████████████████████████████████████████████████████████████| 112/112 [03:00<00:00,  1.61s/it]"
     ]
    },
    {
     "name": "stdout",
     "output_type": "stream",
     "text": [
      "Epoch [8], Train Loss : [0.04807] Val Loss : [0.22155] Val F1 Score : [0.94348]\n",
      " present score: 0.9434790478748765\n",
      "EarlyStopping counter: 2 out of 5\n",
      "Best F1 score from now: 0.9503801635783031\n",
      "Epoch 9/199\n"
     ]
    },
    {
     "name": "stderr",
     "output_type": "stream",
     "text": [
      "\n",
      "epoch 9 loss: 0.0489: 100%|██████████████████████████████████████████████████████████████████████| 445/445 [09:40<00:00,  1.31s/it]\n",
      "epoch 9 loss: 0.2236: 100%|██████████████████████████████████████████████████████████████████████| 112/112 [03:00<00:00,  1.61s/it]"
     ]
    },
    {
     "name": "stdout",
     "output_type": "stream",
     "text": [
      "Epoch [9], Train Loss : [0.04972] Val Loss : [0.22289] Val F1 Score : [0.94356]\n",
      " present score: 0.9435571298915917\n",
      "EarlyStopping counter: 3 out of 5\n",
      "Best F1 score from now: 0.9503801635783031\n",
      "Epoch 10/199\n"
     ]
    },
    {
     "name": "stderr",
     "output_type": "stream",
     "text": [
      "\n",
      "epoch 10 loss: 0.0249: 100%|█████████████████████████████████████████████████████████████████████| 445/445 [09:35<00:00,  1.29s/it]\n",
      "epoch 10 loss: 0.1787: 100%|█████████████████████████████████████████████████████████████████████| 112/112 [03:00<00:00,  1.61s/it]\n"
     ]
    },
    {
     "name": "stdout",
     "output_type": "stream",
     "text": [
      "Epoch [10], Train Loss : [0.03078] Val Loss : [0.17760] Val F1 Score : [0.95676]\n",
      " present score: 0.956757600634005\n",
      "Epoch 11/199\n"
     ]
    },
    {
     "name": "stderr",
     "output_type": "stream",
     "text": [
      "epoch 11 loss: 0.0198: 100%|█████████████████████████████████████████████████████████████████████| 445/445 [09:42<00:00,  1.31s/it]\n",
      "epoch 11 loss: 0.1871: 100%|█████████████████████████████████████████████████████████████████████| 112/112 [03:01<00:00,  1.62s/it]"
     ]
    },
    {
     "name": "stdout",
     "output_type": "stream",
     "text": [
      "Epoch [11], Train Loss : [0.02089] Val Loss : [0.18570] Val F1 Score : [0.95615]\n",
      " present score: 0.9561468550252432\n",
      "EarlyStopping counter: 1 out of 5\n",
      "Best F1 score from now: 0.956757600634005\n",
      "Epoch 12/199\n"
     ]
    },
    {
     "name": "stderr",
     "output_type": "stream",
     "text": [
      "\n",
      "epoch 12 loss: 0.0223: 100%|█████████████████████████████████████████████████████████████████████| 445/445 [09:37<00:00,  1.30s/it]\n",
      "epoch 12 loss: 0.1876: 100%|█████████████████████████████████████████████████████████████████████| 112/112 [02:59<00:00,  1.60s/it]"
     ]
    },
    {
     "name": "stdout",
     "output_type": "stream",
     "text": [
      "Epoch [12], Train Loss : [0.02155] Val Loss : [0.18622] Val F1 Score : [0.95535]\n",
      " present score: 0.9553480137559918\n",
      "EarlyStopping counter: 2 out of 5\n",
      "Best F1 score from now: 0.956757600634005\n",
      "Epoch 13/199\n"
     ]
    },
    {
     "name": "stderr",
     "output_type": "stream",
     "text": [
      "\n",
      "epoch 13 loss: 0.0165: 100%|█████████████████████████████████████████████████████████████████████| 445/445 [09:34<00:00,  1.29s/it]\n",
      "epoch 13 loss: 0.1813: 100%|█████████████████████████████████████████████████████████████████████| 112/112 [03:00<00:00,  1.61s/it]\n"
     ]
    },
    {
     "name": "stdout",
     "output_type": "stream",
     "text": [
      "Epoch [13], Train Loss : [0.01618] Val Loss : [0.18002] Val F1 Score : [0.95729]\n",
      " present score: 0.9572894428233051\n",
      "Epoch 14/199\n"
     ]
    },
    {
     "name": "stderr",
     "output_type": "stream",
     "text": [
      "epoch 14 loss: 0.0172: 100%|█████████████████████████████████████████████████████████████████████| 445/445 [09:42<00:00,  1.31s/it]\n",
      "epoch 14 loss: 0.1828: 100%|█████████████████████████████████████████████████████████████████████| 112/112 [02:58<00:00,  1.60s/it]\n"
     ]
    },
    {
     "name": "stdout",
     "output_type": "stream",
     "text": [
      "Epoch [14], Train Loss : [0.01691] Val Loss : [0.18140] Val F1 Score : [0.96033]\n",
      " present score: 0.9603298055514049\n",
      "Epoch 15/199\n"
     ]
    },
    {
     "name": "stderr",
     "output_type": "stream",
     "text": [
      "epoch 15 loss: 0.0119: 100%|█████████████████████████████████████████████████████████████████████| 445/445 [09:46<00:00,  1.32s/it]\n",
      "epoch 15 loss: 0.1763: 100%|█████████████████████████████████████████████████████████████████████| 112/112 [02:59<00:00,  1.60s/it]\n"
     ]
    },
    {
     "name": "stdout",
     "output_type": "stream",
     "text": [
      "Epoch [15], Train Loss : [0.01311] Val Loss : [0.17498] Val F1 Score : [0.96103]\n",
      " present score: 0.9610316273337601\n",
      "Epoch 16/199\n"
     ]
    },
    {
     "name": "stderr",
     "output_type": "stream",
     "text": [
      "epoch 16 loss: 0.0096: 100%|█████████████████████████████████████████████████████████████████████| 445/445 [09:46<00:00,  1.32s/it]\n",
      "epoch 16 loss: 0.1841: 100%|█████████████████████████████████████████████████████████████████████| 112/112 [02:59<00:00,  1.60s/it]"
     ]
    },
    {
     "name": "stdout",
     "output_type": "stream",
     "text": [
      "Epoch [16], Train Loss : [0.01107] Val Loss : [0.18277] Val F1 Score : [0.95874]\n",
      " present score: 0.9587426775991086\n",
      "EarlyStopping counter: 1 out of 5\n",
      "Best F1 score from now: 0.9610316273337601\n",
      "Epoch 17/199\n"
     ]
    },
    {
     "name": "stderr",
     "output_type": "stream",
     "text": [
      "\n",
      "epoch 17 loss: 0.0102: 100%|█████████████████████████████████████████████████████████████████████| 445/445 [09:37<00:00,  1.30s/it]\n",
      "epoch 17 loss: 0.1813: 100%|█████████████████████████████████████████████████████████████████████| 112/112 [03:02<00:00,  1.63s/it]\n"
     ]
    },
    {
     "name": "stdout",
     "output_type": "stream",
     "text": [
      "Epoch [17], Train Loss : [0.01024] Val Loss : [0.17997] Val F1 Score : [0.96124]\n",
      " present score: 0.9612377626266402\n",
      "Epoch 18/199\n"
     ]
    },
    {
     "name": "stderr",
     "output_type": "stream",
     "text": [
      "epoch 18 loss: 0.0074: 100%|█████████████████████████████████████████████████████████████████████| 445/445 [09:39<00:00,  1.30s/it]\n",
      "epoch 18 loss: 0.1886: 100%|█████████████████████████████████████████████████████████████████████| 112/112 [02:59<00:00,  1.61s/it]"
     ]
    },
    {
     "name": "stdout",
     "output_type": "stream",
     "text": [
      "Epoch [18], Train Loss : [0.00721] Val Loss : [0.18725] Val F1 Score : [0.95907]\n",
      " present score: 0.9590701403166141\n",
      "EarlyStopping counter: 1 out of 5\n",
      "Best F1 score from now: 0.9612377626266402\n",
      "Epoch 19/199\n"
     ]
    },
    {
     "name": "stderr",
     "output_type": "stream",
     "text": [
      "\n",
      "epoch 19 loss: 0.0078: 100%|█████████████████████████████████████████████████████████████████████| 445/445 [09:40<00:00,  1.30s/it]\n",
      "epoch 19 loss: 0.1794: 100%|█████████████████████████████████████████████████████████████████████| 112/112 [02:59<00:00,  1.60s/it]\n"
     ]
    },
    {
     "name": "stdout",
     "output_type": "stream",
     "text": [
      "Epoch [19], Train Loss : [0.00691] Val Loss : [0.17808] Val F1 Score : [0.96288]\n",
      " present score: 0.962876165602181\n",
      "Epoch 20/199\n"
     ]
    },
    {
     "name": "stderr",
     "output_type": "stream",
     "text": [
      "epoch 20 loss: 0.0052: 100%|█████████████████████████████████████████████████████████████████████| 445/445 [09:41<00:00,  1.31s/it]\n",
      "epoch 20 loss: 0.1835: 100%|█████████████████████████████████████████████████████████████████████| 112/112 [02:57<00:00,  1.59s/it]"
     ]
    },
    {
     "name": "stdout",
     "output_type": "stream",
     "text": [
      "Epoch [20], Train Loss : [0.00655] Val Loss : [0.18212] Val F1 Score : [0.96112]\n",
      " present score: 0.9611220040186084\n",
      "EarlyStopping counter: 1 out of 5\n",
      "Best F1 score from now: 0.962876165602181\n",
      "Epoch 21/199\n"
     ]
    },
    {
     "name": "stderr",
     "output_type": "stream",
     "text": [
      "\n",
      "epoch 21 loss: 0.0059: 100%|█████████████████████████████████████████████████████████████████████| 445/445 [09:39<00:00,  1.30s/it]\n",
      "epoch 21 loss: 0.1861: 100%|█████████████████████████████████████████████████████████████████████| 112/112 [02:59<00:00,  1.60s/it]"
     ]
    },
    {
     "name": "stdout",
     "output_type": "stream",
     "text": [
      "Epoch [21], Train Loss : [0.00548] Val Loss : [0.18469] Val F1 Score : [0.96176]\n",
      " present score: 0.9617628386966286\n",
      "EarlyStopping counter: 2 out of 5\n",
      "Best F1 score from now: 0.962876165602181\n",
      "Epoch 22/199\n"
     ]
    },
    {
     "name": "stderr",
     "output_type": "stream",
     "text": [
      "\n",
      "epoch 22 loss: 0.0047: 100%|█████████████████████████████████████████████████████████████████████| 445/445 [09:32<00:00,  1.29s/it]\n",
      "epoch 22 loss: 0.1870: 100%|█████████████████████████████████████████████████████████████████████| 112/112 [03:00<00:00,  1.61s/it]"
     ]
    },
    {
     "name": "stdout",
     "output_type": "stream",
     "text": [
      "Epoch [22], Train Loss : [0.00571] Val Loss : [0.18560] Val F1 Score : [0.96265]\n",
      " present score: 0.9626481768514192\n",
      "EarlyStopping counter: 3 out of 5\n",
      "Best F1 score from now: 0.962876165602181\n",
      "Epoch 23/199\n"
     ]
    },
    {
     "name": "stderr",
     "output_type": "stream",
     "text": [
      "\n",
      "epoch 23 loss: 0.0057: 100%|█████████████████████████████████████████████████████████████████████| 445/445 [09:36<00:00,  1.30s/it]\n",
      "epoch 23 loss: 0.1859: 100%|█████████████████████████████████████████████████████████████████████| 112/112 [03:00<00:00,  1.62s/it]"
     ]
    },
    {
     "name": "stdout",
     "output_type": "stream",
     "text": [
      "Epoch [23], Train Loss : [0.00595] Val Loss : [0.18445] Val F1 Score : [0.96123]\n",
      " present score: 0.9612309188607302\n",
      "EarlyStopping counter: 4 out of 5\n",
      "Best F1 score from now: 0.962876165602181\n",
      "Epoch 24/199\n"
     ]
    },
    {
     "name": "stderr",
     "output_type": "stream",
     "text": [
      "\n",
      "epoch 24 loss: 0.0049: 100%|█████████████████████████████████████████████████████████████████████| 445/445 [09:39<00:00,  1.30s/it]\n",
      "epoch 24 loss: 0.1858: 100%|█████████████████████████████████████████████████████████████████████| 112/112 [02:59<00:00,  1.60s/it]\n",
      "/home/hojun/miniconda3/envs/torch/lib/python3.10/site-packages/torchvision/models/_utils.py:208: UserWarning: The parameter 'pretrained' is deprecated since 0.13 and may be removed in the future, please use 'weights' instead.\n",
      "  warnings.warn(\n",
      "/home/hojun/miniconda3/envs/torch/lib/python3.10/site-packages/torchvision/models/_utils.py:223: UserWarning: Arguments other than a weight enum or `None` for 'weights' are deprecated since 0.13 and may be removed in the future. The current behavior is equivalent to passing `weights=ResNet152_Weights.IMAGENET1K_V1`. You can also use `weights=ResNet152_Weights.DEFAULT` to get the most up-to-date weights.\n",
      "  warnings.warn(msg)\n"
     ]
    },
    {
     "name": "stdout",
     "output_type": "stream",
     "text": [
      "Epoch [24], Train Loss : [0.00500] Val Loss : [0.18440] Val F1 Score : [0.96282]\n",
      " present score: 0.9628205161660504\n",
      "EarlyStopping counter: 5 out of 5\n",
      "Best F1 score from now: 0.962876165602181\n",
      "stop called\n",
      "time : 5:16:34\n",
      "fold: 0, Best Epoch : 19/ 25\n",
      "Best Train Marco F1 : 0.99843\n",
      "[[1836    1    0    0    0    0    0    0    0    0    0    0    0    0\n",
      "     0    0]\n",
      " [   1 1833    0    0    0    0    0    0    0    0    0    0    0    0\n",
      "     0    0]\n",
      " [   0    0 1803    1    1    0    0    0    0    1    0    0    0    0\n",
      "     0    0]\n",
      " [   0    0    0 1729    0    0    0    0    0    0    0    0    0    0\n",
      "     0    0]\n",
      " [   0    0    1    0 1824    4    0    0    0    1    0    0    0    0\n",
      "     0    0]\n",
      " [   0    0    0    1   14 1774    0    1    0    1    1    0    0    0\n",
      "     0    1]\n",
      " [   0    0    0    1    0    1 1733    0    0    0    0    0    1    0\n",
      "     0    0]\n",
      " [   0    0    0    0    0    0    0 1776    0    0    0    0    0    0\n",
      "     0    0]\n",
      " [   0    0    0    0    1    0    0    0 1781    0    0    0    0    0\n",
      "     0    0]\n",
      " [   0    0    1    0    0    2    0    0    0 1719    1    0    0    0\n",
      "     0    0]\n",
      " [   0    0    0    0    1    0    0    0    0    0 1701    0    0    0\n",
      "     0    1]\n",
      " [   0    0    0    0    0    0    0    0    0    0    0 1819    0    0\n",
      "     0    0]\n",
      " [   0    0    0    0    0    1    1    0    0    0    0    0 1797    0\n",
      "     0    0]\n",
      " [   0    0    0    1    0    0    0    0    0    0    0    0    0 1737\n",
      "     0    0]\n",
      " [   0    0    0    0    0    0    0    0    0    0    0    0    1    0\n",
      "  1776    0]\n",
      " [   0    0    0    0    0    1    0    0    0    0    0    0    0    0\n",
      "     0 1767]]\n",
      "Best Valid Marco F1 : 0.96288\n",
      "[[306   1   0   0   0   3   0   0   1   0   0   1   0   0   0   0]\n",
      " [  2 458   0   0   0   0   0   0   0   0   0   0   0   0   1   0]\n",
      " [  0   0 968   0   2   3   0   0   0   4   3   0   3   0   0   1]\n",
      " [  0   0   0 306   1   1   1   2   0   4   0   0   1   0   0   4]\n",
      " [  0   0   7   0 820  26   0   0   0   2   0   0   0   0   1   0]\n",
      " [  5   1   7   6  36 514   3   3   5   4   1   4   5   2   3   1]\n",
      " [  0   0   0   0   0   1 389   1   1   0   0   0   6   0   1   1]\n",
      " [  0   0   1   1   0   5   0 388   0   0   0   0   4   0   0   1]\n",
      " [  0   0   1   1   0   1   0   1 255   0   1   0   0   0   0   0]\n",
      " [  0   0   3   4   3   0   0   0   0 384   0   0   1   1   1   3]\n",
      " [  0   0   2   0   0   1   1   0   0   0 463   0   0   1   2   0]\n",
      " [  0   0   0   0   0   2   0   0   0   0   0 118   0   0   0   0]\n",
      " [  0   0   0   0   1   5   5   1   0   1   0   0 244   0   3   0]\n",
      " [  0   0   0   0   0   0   0   0   0   0   1   0   1 648   0   0]\n",
      " [  0   0   1   2   0   3   1   0   0   0   1   0   0   0 352   0]\n",
      " [  0   0   1   1   0   3   2   0   2   5   0   0   1   3   1 241]]\n",
      "-----------------------------------------------------------------------\n",
      "Training start with fold: 1 epoch: 200 \n",
      "\n",
      "test\n",
      "cls_cnts: 16\n",
      "num_samples:28450\n",
      "Fold: 1\n",
      "Epoch 0/199\n"
     ]
    },
    {
     "name": "stderr",
     "output_type": "stream",
     "text": [
      "epoch 0 loss: 0.3275: 100%|██████████████████████████████████████████████████████████████████████| 445/445 [09:18<00:00,  1.25s/it]\n",
      "epoch 0 loss: 0.3599: 100%|██████████████████████████████████████████████████████████████████████| 112/112 [02:51<00:00,  1.53s/it]"
     ]
    },
    {
     "name": "stdout",
     "output_type": "stream",
     "text": [
      "Epoch [0], Train Loss : [0.42101] Val Loss : [0.36528] Val F1 Score : [0.89006]\n",
      " present score: 0.8900556335281347\n",
      "Epoch 1/199\n"
     ]
    },
    {
     "name": "stderr",
     "output_type": "stream",
     "text": [
      "\n",
      "epoch 1 loss: 0.1957: 100%|██████████████████████████████████████████████████████████████████████| 445/445 [09:20<00:00,  1.26s/it]\n",
      "epoch 1 loss: 0.2874: 100%|██████████████████████████████████████████████████████████████████████| 112/112 [02:51<00:00,  1.53s/it]"
     ]
    },
    {
     "name": "stdout",
     "output_type": "stream",
     "text": [
      "Epoch [1], Train Loss : [0.22521] Val Loss : [0.29015] Val F1 Score : [0.91693]\n",
      " present score: 0.9169331265735365\n",
      "Epoch 2/199\n"
     ]
    },
    {
     "name": "stderr",
     "output_type": "stream",
     "text": [
      "\n",
      "epoch 2 loss: 0.1592: 100%|██████████████████████████████████████████████████████████████████████| 445/445 [09:17<00:00,  1.25s/it]\n",
      "epoch 2 loss: 0.2597: 100%|██████████████████████████████████████████████████████████████████████| 112/112 [02:48<00:00,  1.50s/it]"
     ]
    },
    {
     "name": "stdout",
     "output_type": "stream",
     "text": [
      "Epoch [2], Train Loss : [0.17619] Val Loss : [0.26304] Val F1 Score : [0.92742]\n",
      " present score: 0.9274190996610682\n",
      "Epoch 3/199\n"
     ]
    },
    {
     "name": "stderr",
     "output_type": "stream",
     "text": [
      "\n",
      "epoch 3 loss: 0.1357: 100%|██████████████████████████████████████████████████████████████████████| 445/445 [09:22<00:00,  1.26s/it]\n",
      "epoch 3 loss: 0.2384: 100%|██████████████████████████████████████████████████████████████████████| 112/112 [02:50<00:00,  1.52s/it]"
     ]
    },
    {
     "name": "stdout",
     "output_type": "stream",
     "text": [
      "Epoch [3], Train Loss : [0.14356] Val Loss : [0.23962] Val F1 Score : [0.93237]\n",
      " present score: 0.9323724081223974\n",
      "Epoch 4/199\n"
     ]
    },
    {
     "name": "stderr",
     "output_type": "stream",
     "text": [
      "\n",
      "epoch 4 loss: 0.1443: 100%|██████████████████████████████████████████████████████████████████████| 445/445 [09:24<00:00,  1.27s/it]\n",
      "epoch 4 loss: 0.2567: 100%|██████████████████████████████████████████████████████████████████████| 112/112 [02:48<00:00,  1.51s/it]"
     ]
    },
    {
     "name": "stdout",
     "output_type": "stream",
     "text": [
      "Epoch [4], Train Loss : [0.14344] Val Loss : [0.25695] Val F1 Score : [0.93407]\n",
      " present score: 0.9340734433772162\n",
      "Epoch 5/199\n"
     ]
    },
    {
     "name": "stderr",
     "output_type": "stream",
     "text": [
      "\n",
      "epoch 5 loss: 0.0718: 100%|██████████████████████████████████████████████████████████████████████| 445/445 [09:24<00:00,  1.27s/it]\n",
      "epoch 5 loss: 0.2109: 100%|██████████████████████████████████████████████████████████████████████| 112/112 [02:50<00:00,  1.52s/it]"
     ]
    },
    {
     "name": "stdout",
     "output_type": "stream",
     "text": [
      "Epoch [5], Train Loss : [0.08162] Val Loss : [0.21034] Val F1 Score : [0.94696]\n",
      " present score: 0.9469585550930144\n",
      "Epoch 6/199\n"
     ]
    },
    {
     "name": "stderr",
     "output_type": "stream",
     "text": [
      "\n",
      "epoch 6 loss: 0.0616: 100%|██████████████████████████████████████████████████████████████████████| 445/445 [09:25<00:00,  1.27s/it]\n",
      "epoch 6 loss: 0.2078: 100%|██████████████████████████████████████████████████████████████████████| 112/112 [02:49<00:00,  1.52s/it]"
     ]
    },
    {
     "name": "stdout",
     "output_type": "stream",
     "text": [
      "Epoch [6], Train Loss : [0.05953] Val Loss : [0.20776] Val F1 Score : [0.94941]\n",
      " present score: 0.949412675399813\n",
      "Epoch 7/199\n"
     ]
    },
    {
     "name": "stderr",
     "output_type": "stream",
     "text": [
      "\n",
      "epoch 7 loss: 0.0491: 100%|██████████████████████████████████████████████████████████████████████| 445/445 [09:26<00:00,  1.27s/it]\n",
      "epoch 7 loss: 0.2088: 100%|██████████████████████████████████████████████████████████████████████| 112/112 [02:52<00:00,  1.54s/it]"
     ]
    },
    {
     "name": "stdout",
     "output_type": "stream",
     "text": [
      "Epoch [7], Train Loss : [0.05204] Val Loss : [0.20898] Val F1 Score : [0.94742]\n",
      " present score: 0.947424940297493\n",
      "EarlyStopping counter: 1 out of 5\n",
      "Best F1 score from now: 0.949412675399813\n",
      "Epoch 8/199\n"
     ]
    },
    {
     "name": "stderr",
     "output_type": "stream",
     "text": [
      "\n",
      "epoch 8 loss: 0.0430: 100%|██████████████████████████████████████████████████████████████████████| 445/445 [09:23<00:00,  1.27s/it]\n",
      "epoch 8 loss: 0.2246: 100%|██████████████████████████████████████████████████████████████████████| 112/112 [02:52<00:00,  1.54s/it]"
     ]
    },
    {
     "name": "stdout",
     "output_type": "stream",
     "text": [
      "Epoch [8], Train Loss : [0.04522] Val Loss : [0.22379] Val F1 Score : [0.94443]\n",
      " present score: 0.9444252757656557\n",
      "EarlyStopping counter: 2 out of 5\n",
      "Best F1 score from now: 0.949412675399813\n",
      "Epoch 9/199\n"
     ]
    },
    {
     "name": "stderr",
     "output_type": "stream",
     "text": [
      "\n",
      "epoch 9 loss: 0.0452: 100%|██████████████████████████████████████████████████████████████████████| 445/445 [09:20<00:00,  1.26s/it]\n",
      "epoch 9 loss: 0.2386: 100%|██████████████████████████████████████████████████████████████████████| 112/112 [02:50<00:00,  1.52s/it]"
     ]
    },
    {
     "name": "stdout",
     "output_type": "stream",
     "text": [
      "Epoch [9], Train Loss : [0.04463] Val Loss : [0.23752] Val F1 Score : [0.94341]\n",
      " present score: 0.9434137839506365\n",
      "EarlyStopping counter: 3 out of 5\n",
      "Best F1 score from now: 0.949412675399813\n",
      "Epoch 10/199\n"
     ]
    },
    {
     "name": "stderr",
     "output_type": "stream",
     "text": [
      "\n",
      "epoch 10 loss: 0.0263: 100%|█████████████████████████████████████████████████████████████████████| 445/445 [09:17<00:00,  1.25s/it]\n",
      "epoch 10 loss: 0.1994: 100%|█████████████████████████████████████████████████████████████████████| 112/112 [02:49<00:00,  1.51s/it]"
     ]
    },
    {
     "name": "stdout",
     "output_type": "stream",
     "text": [
      "Epoch [10], Train Loss : [0.02741] Val Loss : [0.19919] Val F1 Score : [0.95535]\n",
      " present score: 0.9553505650540111\n",
      "Epoch 11/199\n"
     ]
    },
    {
     "name": "stderr",
     "output_type": "stream",
     "text": [
      "\n",
      "epoch 11 loss: 0.0245: 100%|█████████████████████████████████████████████████████████████████████| 445/445 [09:24<00:00,  1.27s/it]\n",
      "epoch 11 loss: 0.2109: 100%|█████████████████████████████████████████████████████████████████████| 112/112 [02:50<00:00,  1.52s/it]"
     ]
    },
    {
     "name": "stdout",
     "output_type": "stream",
     "text": [
      "Epoch [11], Train Loss : [0.02394] Val Loss : [0.21211] Val F1 Score : [0.95326]\n",
      " present score: 0.9532556132725827\n",
      "EarlyStopping counter: 1 out of 5\n",
      "Best F1 score from now: 0.9553505650540111\n",
      "Epoch 12/199\n"
     ]
    },
    {
     "name": "stderr",
     "output_type": "stream",
     "text": [
      "\n",
      "epoch 12 loss: 0.0196: 100%|█████████████████████████████████████████████████████████████████████| 445/445 [09:19<00:00,  1.26s/it]\n",
      "epoch 12 loss: 0.2116: 100%|█████████████████████████████████████████████████████████████████████| 112/112 [02:51<00:00,  1.53s/it]"
     ]
    },
    {
     "name": "stdout",
     "output_type": "stream",
     "text": [
      "Epoch [12], Train Loss : [0.01948] Val Loss : [0.21009] Val F1 Score : [0.95324]\n",
      " present score: 0.9532446726901463\n",
      "EarlyStopping counter: 2 out of 5\n",
      "Best F1 score from now: 0.9553505650540111\n",
      "Epoch 13/199\n"
     ]
    },
    {
     "name": "stderr",
     "output_type": "stream",
     "text": [
      "\n",
      "epoch 13 loss: 0.0151: 100%|█████████████████████████████████████████████████████████████████████| 445/445 [09:22<00:00,  1.26s/it]\n",
      "epoch 13 loss: 0.2134: 100%|█████████████████████████████████████████████████████████████████████| 112/112 [02:50<00:00,  1.53s/it]"
     ]
    },
    {
     "name": "stdout",
     "output_type": "stream",
     "text": [
      "Epoch [13], Train Loss : [0.01741] Val Loss : [0.21211] Val F1 Score : [0.95223]\n",
      " present score: 0.9522313493227619\n",
      "EarlyStopping counter: 3 out of 5\n",
      "Best F1 score from now: 0.9553505650540111\n",
      "Epoch 14/199\n"
     ]
    },
    {
     "name": "stderr",
     "output_type": "stream",
     "text": [
      "\n",
      "epoch 14 loss: 0.0178: 100%|█████████████████████████████████████████████████████████████████████| 445/445 [09:18<00:00,  1.26s/it]\n",
      "epoch 14 loss: 0.2282: 100%|█████████████████████████████████████████████████████████████████████| 112/112 [02:49<00:00,  1.51s/it]"
     ]
    },
    {
     "name": "stdout",
     "output_type": "stream",
     "text": [
      "Epoch [14], Train Loss : [0.01666] Val Loss : [0.22653] Val F1 Score : [0.94987]\n",
      " present score: 0.9498683036597765\n",
      "EarlyStopping counter: 4 out of 5\n",
      "Best F1 score from now: 0.9553505650540111\n",
      "Epoch 15/199\n"
     ]
    },
    {
     "name": "stderr",
     "output_type": "stream",
     "text": [
      "\n",
      "epoch 15 loss: 0.0101: 100%|█████████████████████████████████████████████████████████████████████| 445/445 [09:21<00:00,  1.26s/it]\n",
      "epoch 15 loss: 0.2106: 100%|█████████████████████████████████████████████████████████████████████| 112/112 [02:51<00:00,  1.54s/it]"
     ]
    },
    {
     "name": "stdout",
     "output_type": "stream",
     "text": [
      "Epoch [15], Train Loss : [0.01132] Val Loss : [0.20917] Val F1 Score : [0.95795]\n",
      " present score: 0.9579503830713568\n",
      "Epoch 16/199\n"
     ]
    },
    {
     "name": "stderr",
     "output_type": "stream",
     "text": [
      "\n",
      "epoch 16 loss: 0.0096: 100%|█████████████████████████████████████████████████████████████████████| 445/445 [09:19<00:00,  1.26s/it]\n",
      "epoch 16 loss: 0.2061: 100%|█████████████████████████████████████████████████████████████████████| 112/112 [02:47<00:00,  1.50s/it]"
     ]
    },
    {
     "name": "stdout",
     "output_type": "stream",
     "text": [
      "Epoch [16], Train Loss : [0.01010] Val Loss : [0.20537] Val F1 Score : [0.95843]\n",
      " present score: 0.9584336212477805\n",
      "Epoch 17/199\n"
     ]
    },
    {
     "name": "stderr",
     "output_type": "stream",
     "text": [
      "\n",
      "epoch 17 loss: 0.0096: 100%|█████████████████████████████████████████████████████████████████████| 445/445 [09:17<00:00,  1.25s/it]\n",
      "epoch 17 loss: 0.2131: 100%|█████████████████████████████████████████████████████████████████████| 112/112 [02:49<00:00,  1.51s/it]"
     ]
    },
    {
     "name": "stdout",
     "output_type": "stream",
     "text": [
      "Epoch [17], Train Loss : [0.00827] Val Loss : [0.21335] Val F1 Score : [0.95854]\n",
      " present score: 0.9585399846214704\n",
      "Epoch 18/199\n"
     ]
    },
    {
     "name": "stderr",
     "output_type": "stream",
     "text": [
      "\n",
      "epoch 18 loss: 0.0105: 100%|█████████████████████████████████████████████████████████████████████| 445/445 [09:20<00:00,  1.26s/it]\n",
      "epoch 18 loss: 0.2119: 100%|█████████████████████████████████████████████████████████████████████| 112/112 [02:49<00:00,  1.51s/it]"
     ]
    },
    {
     "name": "stdout",
     "output_type": "stream",
     "text": [
      "Epoch [18], Train Loss : [0.00929] Val Loss : [0.21068] Val F1 Score : [0.95840]\n",
      " present score: 0.9583958039262052\n",
      "EarlyStopping counter: 1 out of 5\n",
      "Best F1 score from now: 0.9585399846214704\n",
      "Epoch 19/199\n"
     ]
    },
    {
     "name": "stderr",
     "output_type": "stream",
     "text": [
      "\n",
      "epoch 19 loss: 0.0066: 100%|█████████████████████████████████████████████████████████████████████| 445/445 [09:23<00:00,  1.27s/it]\n",
      "epoch 19 loss: 0.2102: 100%|█████████████████████████████████████████████████████████████████████| 112/112 [02:51<00:00,  1.53s/it]"
     ]
    },
    {
     "name": "stdout",
     "output_type": "stream",
     "text": [
      "Epoch [19], Train Loss : [0.00802] Val Loss : [0.20888] Val F1 Score : [0.95924]\n",
      " present score: 0.9592438402404031\n",
      "Epoch 20/199\n"
     ]
    },
    {
     "name": "stderr",
     "output_type": "stream",
     "text": [
      "\n",
      "epoch 20 loss: 0.0052: 100%|█████████████████████████████████████████████████████████████████████| 445/445 [09:25<00:00,  1.27s/it]\n",
      "epoch 20 loss: 0.2094: 100%|█████████████████████████████████████████████████████████████████████| 112/112 [02:50<00:00,  1.52s/it]"
     ]
    },
    {
     "name": "stdout",
     "output_type": "stream",
     "text": [
      "Epoch [20], Train Loss : [0.00529] Val Loss : [0.20850] Val F1 Score : [0.95923]\n",
      " present score: 0.9592254210533764\n",
      "EarlyStopping counter: 1 out of 5\n",
      "Best F1 score from now: 0.9592438402404031\n",
      "Epoch 21/199\n"
     ]
    },
    {
     "name": "stderr",
     "output_type": "stream",
     "text": [
      "\n",
      "epoch 21 loss: 0.0056: 100%|█████████████████████████████████████████████████████████████████████| 445/445 [09:25<00:00,  1.27s/it]\n",
      "epoch 21 loss: 0.2143: 100%|█████████████████████████████████████████████████████████████████████| 112/112 [02:54<00:00,  1.55s/it]"
     ]
    },
    {
     "name": "stdout",
     "output_type": "stream",
     "text": [
      "Epoch [21], Train Loss : [0.00506] Val Loss : [0.21327] Val F1 Score : [0.95832]\n",
      " present score: 0.9583178215788852\n",
      "EarlyStopping counter: 2 out of 5\n",
      "Best F1 score from now: 0.9592438402404031\n",
      "Epoch 22/199\n"
     ]
    },
    {
     "name": "stderr",
     "output_type": "stream",
     "text": [
      "\n",
      "epoch 22 loss: 0.0048: 100%|█████████████████████████████████████████████████████████████████████| 445/445 [09:28<00:00,  1.28s/it]\n",
      "epoch 22 loss: 0.2112: 100%|█████████████████████████████████████████████████████████████████████| 112/112 [02:47<00:00,  1.50s/it]"
     ]
    },
    {
     "name": "stdout",
     "output_type": "stream",
     "text": [
      "Epoch [22], Train Loss : [0.00530] Val Loss : [0.21005] Val F1 Score : [0.96021]\n",
      " present score: 0.9602059984978721\n",
      "Epoch 23/199\n"
     ]
    },
    {
     "name": "stderr",
     "output_type": "stream",
     "text": [
      "\n",
      "epoch 23 loss: 0.0043: 100%|█████████████████████████████████████████████████████████████████████| 445/445 [09:30<00:00,  1.28s/it]\n",
      "epoch 23 loss: 0.2201: 100%|█████████████████████████████████████████████████████████████████████| 112/112 [02:47<00:00,  1.50s/it]"
     ]
    },
    {
     "name": "stdout",
     "output_type": "stream",
     "text": [
      "Epoch [23], Train Loss : [0.00438] Val Loss : [0.21841] Val F1 Score : [0.95783]\n",
      " present score: 0.957834112887239\n",
      "EarlyStopping counter: 1 out of 5\n",
      "Best F1 score from now: 0.9602059984978721\n",
      "Epoch 24/199\n"
     ]
    },
    {
     "name": "stderr",
     "output_type": "stream",
     "text": [
      "\n",
      "epoch 24 loss: 0.0042: 100%|█████████████████████████████████████████████████████████████████████| 445/445 [09:19<00:00,  1.26s/it]\n",
      "epoch 24 loss: 0.2185: 100%|█████████████████████████████████████████████████████████████████████| 112/112 [02:52<00:00,  1.54s/it]"
     ]
    },
    {
     "name": "stdout",
     "output_type": "stream",
     "text": [
      "Epoch [24], Train Loss : [0.00456] Val Loss : [0.21760] Val F1 Score : [0.95710]\n",
      " present score: 0.9570974306654656\n",
      "EarlyStopping counter: 2 out of 5\n",
      "Best F1 score from now: 0.9602059984978721\n",
      "Epoch 25/199\n"
     ]
    },
    {
     "name": "stderr",
     "output_type": "stream",
     "text": [
      "\n",
      "epoch 25 loss: 0.0033: 100%|█████████████████████████████████████████████████████████████████████| 445/445 [09:25<00:00,  1.27s/it]\n",
      "epoch 25 loss: 0.2184: 100%|█████████████████████████████████████████████████████████████████████| 112/112 [02:49<00:00,  1.51s/it]"
     ]
    },
    {
     "name": "stdout",
     "output_type": "stream",
     "text": [
      "Epoch [25], Train Loss : [0.00386] Val Loss : [0.21686] Val F1 Score : [0.95932]\n",
      " present score: 0.9593158512454186\n",
      "EarlyStopping counter: 3 out of 5\n",
      "Best F1 score from now: 0.9602059984978721\n",
      "Epoch 26/199\n"
     ]
    },
    {
     "name": "stderr",
     "output_type": "stream",
     "text": [
      "\n",
      "epoch 26 loss: 0.0044: 100%|█████████████████████████████████████████████████████████████████████| 445/445 [09:19<00:00,  1.26s/it]\n",
      "epoch 26 loss: 0.2112: 100%|█████████████████████████████████████████████████████████████████████| 112/112 [02:51<00:00,  1.53s/it]"
     ]
    },
    {
     "name": "stdout",
     "output_type": "stream",
     "text": [
      "Epoch [26], Train Loss : [0.00453] Val Loss : [0.20972] Val F1 Score : [0.95955]\n",
      " present score: 0.9595501762354754\n",
      "EarlyStopping counter: 4 out of 5\n",
      "Best F1 score from now: 0.9602059984978721\n",
      "Epoch 27/199\n"
     ]
    },
    {
     "name": "stderr",
     "output_type": "stream",
     "text": [
      "\n",
      "epoch 27 loss: 0.0025: 100%|█████████████████████████████████████████████████████████████████████| 445/445 [09:32<00:00,  1.29s/it]\n",
      "epoch 27 loss: 0.2122: 100%|█████████████████████████████████████████████████████████████████████| 112/112 [02:50<00:00,  1.52s/it]\n",
      "/home/hojun/miniconda3/envs/torch/lib/python3.10/site-packages/torchvision/models/_utils.py:208: UserWarning: The parameter 'pretrained' is deprecated since 0.13 and may be removed in the future, please use 'weights' instead.\n",
      "  warnings.warn(\n",
      "/home/hojun/miniconda3/envs/torch/lib/python3.10/site-packages/torchvision/models/_utils.py:223: UserWarning: Arguments other than a weight enum or `None` for 'weights' are deprecated since 0.13 and may be removed in the future. The current behavior is equivalent to passing `weights=ResNet152_Weights.IMAGENET1K_V1`. You can also use `weights=ResNet152_Weights.DEFAULT` to get the most up-to-date weights.\n",
      "  warnings.warn(msg)\n"
     ]
    },
    {
     "name": "stdout",
     "output_type": "stream",
     "text": [
      "Epoch [27], Train Loss : [0.00355] Val Loss : [0.21057] Val F1 Score : [0.95995]\n",
      " present score: 0.9599486544909184\n",
      "EarlyStopping counter: 5 out of 5\n",
      "Best F1 score from now: 0.9602059984978721\n",
      "stop called\n",
      "time : 5:42:27\n",
      "fold: 1, Best Epoch : 22/ 28\n",
      "Best Train Marco F1 : 0.99867\n",
      "[[1759    0    0    0    0    0    0    0    0    0    0    0    0    0\n",
      "     0    0]\n",
      " [   0 1772    0    0    0    0    0    0    0    0    0    0    0    0\n",
      "     0    0]\n",
      " [   0    0 1718    0    1    0    0    1    0    0    0    0    0    0\n",
      "     0    0]\n",
      " [   0    0    0 1773    0    0    0    1    0    1    0    0    0    1\n",
      "     0    0]\n",
      " [   0    0    3    0 1783    4    0    0    0    0    1    0    0    0\n",
      "     0    0]\n",
      " [   0    0    1    0    3 1825    0    1    0    0    0    1    1    0\n",
      "     0    0]\n",
      " [   0    0    0    0    0    0 1738    1    0    0    0    0    0    0\n",
      "     1    1]\n",
      " [   0    0    1    0    0    0    0 1795    0    0    0    0    0    0\n",
      "     0    0]\n",
      " [   0    0    0    0    0    0    0    1 1786    0    0    0    1    0\n",
      "     0    0]\n",
      " [   0    0    0    0    0    0    0    0    0 1815    0    0    0    0\n",
      "     0    2]\n",
      " [   0    0    1    0    0    0    0    0    0    0 1821    0    0    0\n",
      "     0    1]\n",
      " [   0    0    0    0    0    0    0    0    0    0    0 1720    0    0\n",
      "     0    0]\n",
      " [   0    0    0    0    0    0    2    0    0    0    0    0 1762    0\n",
      "     0    0]\n",
      " [   0    0    0    1    0    0    0    0    0    0    0    0    0 1805\n",
      "     1    0]\n",
      " [   0    0    0    0    1    0    0    0    0    0    0    0    0    0\n",
      "  1728    0]\n",
      " [   0    0    0    0    0    1    0    0    0    0    2    0    0    0\n",
      "     0 1812]]\n",
      "Best Valid Marco F1 : 0.96021\n",
      "[[308   1   0   0   0   0   0   0   0   0   0   1   0   0   0   1]\n",
      " [  1 460   0   0   0   0   0   0   0   0   0   0   0   0   0   0]\n",
      " [  0   0 959   0  12   2   2   1   0   2   0   0   3   0   2   2]\n",
      " [  0   0   0 308   0   6   0   1   1   1   1   0   0   0   0   2]\n",
      " [  0   0   4   0 821  24   2   0   1   2   1   0   0   0   1   0]\n",
      " [  3   2   4   6  45 505   3   5   4   4   3   4   3   2   2   5]\n",
      " [  0   0   0   0   3   0 388   0   0   0   1   0   3   0   1   4]\n",
      " [  0   0   2   0   1   1   1 389   1   0   0   0   2   0   0   3]\n",
      " [  0   0   1   1   0   0   0   0 257   0   1   0   0   0   0   0]\n",
      " [  0   0   4   5   2   2   0   2   0 381   0   0   1   1   0   2]\n",
      " [  0   0   1   1   2   1   0   0   1   0 462   0   0   2   0   0]\n",
      " [  1   2   0   0   0   0   0   0   0   0   0 117   0   0   0   0]\n",
      " [  0   0   0   0   2   2   5   1   1   1   1   0 244   0   1   2]\n",
      " [  0   1   0   2   0   0   0   1   0   0   0   0   0 640   3   3]\n",
      " [  2   0   0   0   1   4   2   0   0   1   0   0   0   2 347   1]\n",
      " [  0   0   1   2   0   1   3   1   0   4   0   0   2   2   1 243]]\n",
      "-----------------------------------------------------------------------\n",
      "Training start with fold: 2 epoch: 200 \n",
      "\n",
      "test\n",
      "cls_cnts: 16\n",
      "num_samples:28450\n",
      "Fold: 2\n",
      "Epoch 0/199\n"
     ]
    },
    {
     "name": "stderr",
     "output_type": "stream",
     "text": [
      "epoch 0 loss: 0.3313: 100%|██████████████████████████████████████████████████████████████████████| 445/445 [09:30<00:00,  1.28s/it]\n",
      "epoch 0 loss: 0.3673: 100%|██████████████████████████████████████████████████████████████████████| 112/112 [02:54<00:00,  1.56s/it]"
     ]
    },
    {
     "name": "stdout",
     "output_type": "stream",
     "text": [
      "Epoch [0], Train Loss : [0.42590] Val Loss : [0.36938] Val F1 Score : [0.88950]\n",
      " present score: 0.8895035885050553\n",
      "Epoch 1/199\n"
     ]
    },
    {
     "name": "stderr",
     "output_type": "stream",
     "text": [
      "\n",
      "epoch 1 loss: 0.2172: 100%|██████████████████████████████████████████████████████████████████████| 445/445 [09:25<00:00,  1.27s/it]\n",
      "epoch 1 loss: 0.2697: 100%|██████████████████████████████████████████████████████████████████████| 112/112 [02:52<00:00,  1.54s/it]"
     ]
    },
    {
     "name": "stdout",
     "output_type": "stream",
     "text": [
      "Epoch [1], Train Loss : [0.23243] Val Loss : [0.27438] Val F1 Score : [0.92026]\n",
      " present score: 0.9202550656314074\n",
      "Epoch 2/199\n"
     ]
    },
    {
     "name": "stderr",
     "output_type": "stream",
     "text": [
      "\n",
      "epoch 2 loss: 0.1736: 100%|██████████████████████████████████████████████████████████████████████| 445/445 [09:26<00:00,  1.27s/it]\n",
      "epoch 2 loss: 0.2427: 100%|██████████████████████████████████████████████████████████████████████| 112/112 [02:50<00:00,  1.52s/it]"
     ]
    },
    {
     "name": "stdout",
     "output_type": "stream",
     "text": [
      "Epoch [2], Train Loss : [0.18268] Val Loss : [0.24448] Val F1 Score : [0.92816]\n",
      " present score: 0.9281552129751227\n",
      "Epoch 3/199\n"
     ]
    },
    {
     "name": "stderr",
     "output_type": "stream",
     "text": [
      "\n",
      "epoch 3 loss: 0.1478: 100%|██████████████████████████████████████████████████████████████████████| 445/445 [09:19<00:00,  1.26s/it]\n",
      "epoch 3 loss: 0.2703: 100%|██████████████████████████████████████████████████████████████████████| 112/112 [02:50<00:00,  1.52s/it]"
     ]
    },
    {
     "name": "stdout",
     "output_type": "stream",
     "text": [
      "Epoch [3], Train Loss : [0.15837] Val Loss : [0.27207] Val F1 Score : [0.92239]\n",
      " present score: 0.9223870544711799\n",
      "EarlyStopping counter: 1 out of 5\n",
      "Best F1 score from now: 0.9281552129751227\n",
      "Epoch 4/199\n"
     ]
    },
    {
     "name": "stderr",
     "output_type": "stream",
     "text": [
      "\n",
      "epoch 4 loss: 0.1384: 100%|██████████████████████████████████████████████████████████████████████| 445/445 [09:27<00:00,  1.28s/it]\n",
      "epoch 4 loss: 0.2922: 100%|██████████████████████████████████████████████████████████████████████| 112/112 [02:50<00:00,  1.52s/it]"
     ]
    },
    {
     "name": "stdout",
     "output_type": "stream",
     "text": [
      "Epoch [4], Train Loss : [0.13644] Val Loss : [0.29564] Val F1 Score : [0.92637]\n",
      " present score: 0.9263739152023562\n",
      "EarlyStopping counter: 2 out of 5\n",
      "Best F1 score from now: 0.9281552129751227\n",
      "Epoch 5/199\n"
     ]
    },
    {
     "name": "stderr",
     "output_type": "stream",
     "text": [
      "\n",
      "epoch 5 loss: 0.0672: 100%|██████████████████████████████████████████████████████████████████████| 445/445 [09:21<00:00,  1.26s/it]\n",
      "epoch 5 loss: 0.1829: 100%|██████████████████████████████████████████████████████████████████████| 112/112 [02:51<00:00,  1.53s/it]"
     ]
    },
    {
     "name": "stdout",
     "output_type": "stream",
     "text": [
      "Epoch [5], Train Loss : [0.07812] Val Loss : [0.18548] Val F1 Score : [0.95289]\n",
      " present score: 0.9528853778746581\n",
      "Epoch 6/199\n"
     ]
    },
    {
     "name": "stderr",
     "output_type": "stream",
     "text": [
      "\n",
      "epoch 6 loss: 0.0546:  74%|████████████████████████████████████████████████████                  | 331/445 [07:08<03:46,  1.99s/it]"
     ]
    }
   ],
   "source": [
    "if __name__ == '__main__':\n",
    "    seed_everything(CFG['seed'])\n",
    "    \n",
    "    # WANDB TRACKER INIT\n",
    "    wandb.init(project=project_name, entity=user)\n",
    "    wandb.config.update(CFG)\n",
    "    wandb.run.name = run_name\n",
    "    wandb.define_metric(\"Train Accuracy\", step_metric=\"epoch\")\n",
    "    wandb.define_metric(\"Valid Accuracy\", step_metric=\"epoch\")\n",
    "    wandb.define_metric(\"Train Loss\", step_metric=\"epoch\")\n",
    "    wandb.define_metric(\"Valid Loss\", step_metric=\"epoch\")\n",
    "    wandb.define_metric(\"Train Macro F1 Score\", step_metric=\"epoch\")\n",
    "    wandb.define_metric(\"Valid Macro F1 Score\", step_metric=\"epoch\")\n",
    "    wandb.define_metric(\"Train-Valid Accuracy\", step_metric=\"epoch\")\n",
    "    \n",
    "    model_dir = CFG['model_path'] + '/{}'.format(run_name)\n",
    "    train_dir = train.dir.values\n",
    "    best_fold = 0\n",
    "    best_f1 =0.0\n",
    "    print('Model: {}'.format(CFG['model']))\n",
    "    # MAKE MODEL DIR\n",
    "    if not os.path.isdir(model_dir):\n",
    "        os.makedirs(model_dir)\n",
    "    \n",
    "    # STRATIFIED K-FOLD DEFINITION\n",
    "    folds = StratifiedKFold(n_splits=CFG['fold_num'], shuffle=True, random_state=CFG['seed']).split(np.arange(train.shape[0]), train.label.values)\n",
    "    \n",
    "    # TEST PROCESS FOLD BREAK\n",
    "    for fold, (trn_idx, val_idx) in enumerate(folds):\n",
    "        print(f'Training start with fold: {fold} epoch: {CFG[\"epochs\"]} \\n')\n",
    "\n",
    "        # EARLY STOPPING DEFINITION\n",
    "        early_stopping = EarlyStopping(patience=CFG[\"patience\"], verbose=True)\n",
    "\n",
    "        # DATALOADER DEFINITION\n",
    "        train_loader, val_loader = prepare_dataloader(train, trn_idx, val_idx, data_root=train_dir)\n",
    "\n",
    "        # MODEL & DEVICE DEFINITION \n",
    "        device = torch.device(CFG['device'])\n",
    "        model =Teacher(CFG['model'], train.label.nunique(), pretrained=True)\n",
    "        \n",
    "        # MODEL FREEZING\n",
    "        #model.freezing(freeze = CFG['freezing'], trainable_layer = CFG['trainable_layer'])\n",
    "        if CFG['freezing'] ==True:\n",
    "            for name, param in model.named_parameters():\n",
    "                if param.requires_grad == True:\n",
    "                    print(f\"{name}: {param.requires_grad}\")\n",
    "\n",
    "        model.to(device)\n",
    "        # MODEL DATA PARALLEL\n",
    "        if torch.cuda.device_count() > 1:\n",
    "            model = nn.DataParallel(model)\n",
    "\n",
    "        scaler = torch.cuda.amp.GradScaler()   \n",
    "        optimizer = torch.optim.Adam(model.parameters(), lr=CFG['lr'])\n",
    "        scheduler = torch.optim.lr_scheduler.StepLR(optimizer, gamma=0.5, step_size=5)\n",
    "\n",
    "        # CRITERION (LOSS FUNCTION)\n",
    "        loss_tr = nn.CrossEntropyLoss().to(device) #MyCrossEntropyLoss().to(device)\n",
    "        loss_fn = nn.CrossEntropyLoss().to(device)\n",
    "\n",
    "        wandb.watch(model, loss_tr, log='all')\n",
    "        train_acc_list = []\n",
    "        train_matrix_list = []\n",
    "        train_f1_list = []\n",
    "        valid_acc_list = []\n",
    "        valid_matrix_list = []\n",
    "        valid_f1_list = []\n",
    "        \n",
    "\n",
    "        start = time.time()\n",
    "        print(f'Fold: {fold}')\n",
    "        for epoch in range(CFG['epochs']):\n",
    "            print('Epoch {}/{}'.format(epoch, CFG['epochs'] - 1))\n",
    "\n",
    "            # TRAINIG\n",
    "            train_preds_all, train_acc, train_loss, train_matrix, train_f1 = train_one_epoch(epoch, model, loss_tr,\n",
    "                                                                        optimizer, train_loader, device, scheduler=scheduler)\n",
    "            wandb.log({'Train Accuracy':train_acc, 'Train Loss' : train_loss, 'Train F1': train_f1, 'epoch' : epoch})\n",
    "\n",
    "            # VALIDATION\n",
    "            with torch.no_grad():\n",
    "                valid_preds_all, valid_acc, valid_loss, valid_matrix, valid_f1= valid_one_epoch(epoch, model, loss_fn,\n",
    "                                                                        val_loader, device, scheduler=None)\n",
    "                wandb.log({'Valid Accuracy':valid_acc, 'Valid Loss' : valid_loss, 'Valid F1': valid_f1 ,'epoch' : epoch})\n",
    "            print(f'Epoch [{epoch}], Train Loss : [{train_loss :.5f}] Val Loss : [{valid_loss :.5f}] Val F1 Score : [{valid_f1:.5f}]')\n",
    "            \n",
    "            # SAVE ALL RESULTS\n",
    "            train_acc_list.append(train_acc)\n",
    "            train_matrix_list.append(train_matrix)\n",
    "            train_f1_list.append(train_f1)\n",
    "\n",
    "            valid_acc_list.append(valid_acc)\n",
    "            valid_matrix_list.append(valid_matrix)\n",
    "            valid_f1_list.append(valid_f1)\n",
    "\n",
    "            # MODEL SAVE (THE BEST MODEL OF ALL OF FOLD PROCESS)\n",
    "            if valid_f1 > best_f1:\n",
    "                best_f1 = valid_f1\n",
    "                best_epoch = epoch\n",
    "                # SAVE WITH DATAPARARELLEL WRAPPER\n",
    "                #torch.save(model.state_dict(), (model_dir+'/{}.pth').format(CFG['model']))\n",
    "                # SAVE WITHOUT DATAPARARELLEL WRAPPER\n",
    "                torch.save(model.module.state_dict(), (model_dir+'/{}.pth').format(CFG['model']))\n",
    "\n",
    "            # EARLY STOPPING\n",
    "            stop = early_stopping(valid_f1)\n",
    "            if stop:\n",
    "                print(\"stop called\")   \n",
    "                break\n",
    "\n",
    "        end = time.time() - start\n",
    "        time_ = str(datetime.timedelta(seconds=end)).split(\".\")[0]\n",
    "        print(\"time :\", time_)\n",
    "\n",
    "        # PRINT BEST F1 SCORE MODEL OF FOLD\n",
    "        best_index = valid_f1_list.index(max(valid_f1_list))\n",
    "        print(f'fold: {fold}, Best Epoch : {best_index}/ {len(valid_f1_list)}')\n",
    "        print(f'Best Train Marco F1 : {train_f1_list[best_index]:.5f}')\n",
    "        print(train_matrix_list[best_index])\n",
    "        print(f'Best Valid Marco F1 : {valid_f1_list[best_index]:.5f}')\n",
    "        print(valid_matrix_list[best_index])\n",
    "        print('-----------------------------------------------------------------------')\n",
    "\n",
    "        # K-FOLD END\n",
    "        if valid_f1_list[best_index] > best_fold:\n",
    "            best_fold = valid_f1_list[best_index]\n",
    "            top_fold = fold\n",
    "    print(f'Best Fold F1 score: {best_fold} Top fold : {top_fold}')\n"
   ]
  },
  {
   "cell_type": "code",
   "execution_count": 16,
   "id": "c9ab9299-b98a-43ef-ad42-51e4aad3ddd0",
   "metadata": {},
   "outputs": [
    {
     "data": {
      "text/html": [
       "<div>\n",
       "<style scoped>\n",
       "    .dataframe tbody tr th:only-of-type {\n",
       "        vertical-align: middle;\n",
       "    }\n",
       "\n",
       "    .dataframe tbody tr th {\n",
       "        vertical-align: top;\n",
       "    }\n",
       "\n",
       "    .dataframe thead th {\n",
       "        text-align: right;\n",
       "    }\n",
       "</style>\n",
       "<table border=\"1\" class=\"dataframe\">\n",
       "  <thead>\n",
       "    <tr style=\"text-align: right;\">\n",
       "      <th></th>\n",
       "      <th>image_id</th>\n",
       "      <th>dir</th>\n",
       "      <th>label</th>\n",
       "    </tr>\n",
       "  </thead>\n",
       "  <tbody>\n",
       "    <tr>\n",
       "      <th>0</th>\n",
       "      <td>10Kwalk_1455.jpg</td>\n",
       "      <td>../Data/carbon_data/10Kwalk</td>\n",
       "      <td>10Kwalk</td>\n",
       "    </tr>\n",
       "    <tr>\n",
       "      <th>1</th>\n",
       "      <td>10Kwalk_898.jpg</td>\n",
       "      <td>../Data/carbon_data/10Kwalk</td>\n",
       "      <td>10Kwalk</td>\n",
       "    </tr>\n",
       "    <tr>\n",
       "      <th>2</th>\n",
       "      <td>10Kwalk_1607.jpg</td>\n",
       "      <td>../Data/carbon_data/10Kwalk</td>\n",
       "      <td>10Kwalk</td>\n",
       "    </tr>\n",
       "    <tr>\n",
       "      <th>3</th>\n",
       "      <td>10Kwalk_342.jpg</td>\n",
       "      <td>../Data/carbon_data/10Kwalk</td>\n",
       "      <td>10Kwalk</td>\n",
       "    </tr>\n",
       "    <tr>\n",
       "      <th>4</th>\n",
       "      <td>10Kwalk_737.jpg</td>\n",
       "      <td>../Data/carbon_data/10Kwalk</td>\n",
       "      <td>10Kwalk</td>\n",
       "    </tr>\n",
       "    <tr>\n",
       "      <th>...</th>\n",
       "      <td>...</td>\n",
       "      <td>...</td>\n",
       "      <td>...</td>\n",
       "    </tr>\n",
       "    <tr>\n",
       "      <th>8755</th>\n",
       "      <td>wrap_441.jpg</td>\n",
       "      <td>../Data/carbon_data/dishes/wrap</td>\n",
       "      <td>dishes</td>\n",
       "    </tr>\n",
       "    <tr>\n",
       "      <th>8756</th>\n",
       "      <td>wrap_307.jpg</td>\n",
       "      <td>../Data/carbon_data/dishes/wrap</td>\n",
       "      <td>dishes</td>\n",
       "    </tr>\n",
       "    <tr>\n",
       "      <th>8757</th>\n",
       "      <td>wrap_1273.jpg</td>\n",
       "      <td>../Data/carbon_data/dishes/wrap</td>\n",
       "      <td>dishes</td>\n",
       "    </tr>\n",
       "    <tr>\n",
       "      <th>8758</th>\n",
       "      <td>wrap_1137.jpg</td>\n",
       "      <td>../Data/carbon_data/dishes/wrap</td>\n",
       "      <td>dishes</td>\n",
       "    </tr>\n",
       "    <tr>\n",
       "      <th>8759</th>\n",
       "      <td>wrap_1261.jpg</td>\n",
       "      <td>../Data/carbon_data/dishes/wrap</td>\n",
       "      <td>dishes</td>\n",
       "    </tr>\n",
       "  </tbody>\n",
       "</table>\n",
       "<p>8760 rows × 3 columns</p>\n",
       "</div>"
      ],
      "text/plain": [
       "              image_id                              dir    label\n",
       "0     10Kwalk_1455.jpg      ../Data/carbon_data/10Kwalk  10Kwalk\n",
       "1      10Kwalk_898.jpg      ../Data/carbon_data/10Kwalk  10Kwalk\n",
       "2     10Kwalk_1607.jpg      ../Data/carbon_data/10Kwalk  10Kwalk\n",
       "3      10Kwalk_342.jpg      ../Data/carbon_data/10Kwalk  10Kwalk\n",
       "4      10Kwalk_737.jpg      ../Data/carbon_data/10Kwalk  10Kwalk\n",
       "...                ...                              ...      ...\n",
       "8755      wrap_441.jpg  ../Data/carbon_data/dishes/wrap   dishes\n",
       "8756      wrap_307.jpg  ../Data/carbon_data/dishes/wrap   dishes\n",
       "8757     wrap_1273.jpg  ../Data/carbon_data/dishes/wrap   dishes\n",
       "8758     wrap_1137.jpg  ../Data/carbon_data/dishes/wrap   dishes\n",
       "8759     wrap_1261.jpg  ../Data/carbon_data/dishes/wrap   dishes\n",
       "\n",
       "[8760 rows x 3 columns]"
      ]
     },
     "execution_count": 16,
     "metadata": {},
     "output_type": "execute_result"
    }
   ],
   "source": [
    "## Pandas Test 데이터프레임 만들기\n",
    "tst_df = pd.DataFrame(total_test_img_paths, columns=['image_id'])\n",
    "tst_df['dir'] = tst_df['image_id'].apply(lambda x: os.path.dirname(x))\n",
    "tst_df['image_id'] = tst_df['image_id'].apply(lambda x: os.path.basename(x))\n",
    "tst_df['label'] = total_test_img_labels\n",
    "test = tst_df\n",
    "test"
   ]
  },
  {
   "cell_type": "code",
   "execution_count": 17,
   "id": "93dba2e1-92a8-4e81-89e8-17005fb81bbd",
   "metadata": {},
   "outputs": [
    {
     "data": {
      "text/html": [
       "<div>\n",
       "<style scoped>\n",
       "    .dataframe tbody tr th:only-of-type {\n",
       "        vertical-align: middle;\n",
       "    }\n",
       "\n",
       "    .dataframe tbody tr th {\n",
       "        vertical-align: top;\n",
       "    }\n",
       "\n",
       "    .dataframe thead th {\n",
       "        text-align: right;\n",
       "    }\n",
       "</style>\n",
       "<table border=\"1\" class=\"dataframe\">\n",
       "  <thead>\n",
       "    <tr style=\"text-align: right;\">\n",
       "      <th></th>\n",
       "      <th>image_id</th>\n",
       "      <th>dir</th>\n",
       "      <th>label</th>\n",
       "    </tr>\n",
       "  </thead>\n",
       "  <tbody>\n",
       "    <tr>\n",
       "      <th>0</th>\n",
       "      <td>10Kwalk_1455.jpg</td>\n",
       "      <td>../Data/carbon_data/10Kwalk</td>\n",
       "      <td>0</td>\n",
       "    </tr>\n",
       "    <tr>\n",
       "      <th>1</th>\n",
       "      <td>10Kwalk_898.jpg</td>\n",
       "      <td>../Data/carbon_data/10Kwalk</td>\n",
       "      <td>0</td>\n",
       "    </tr>\n",
       "    <tr>\n",
       "      <th>2</th>\n",
       "      <td>10Kwalk_1607.jpg</td>\n",
       "      <td>../Data/carbon_data/10Kwalk</td>\n",
       "      <td>0</td>\n",
       "    </tr>\n",
       "    <tr>\n",
       "      <th>3</th>\n",
       "      <td>10Kwalk_342.jpg</td>\n",
       "      <td>../Data/carbon_data/10Kwalk</td>\n",
       "      <td>0</td>\n",
       "    </tr>\n",
       "    <tr>\n",
       "      <th>4</th>\n",
       "      <td>10Kwalk_737.jpg</td>\n",
       "      <td>../Data/carbon_data/10Kwalk</td>\n",
       "      <td>0</td>\n",
       "    </tr>\n",
       "    <tr>\n",
       "      <th>...</th>\n",
       "      <td>...</td>\n",
       "      <td>...</td>\n",
       "      <td>...</td>\n",
       "    </tr>\n",
       "    <tr>\n",
       "      <th>8755</th>\n",
       "      <td>wrap_441.jpg</td>\n",
       "      <td>../Data/carbon_data/dishes/wrap</td>\n",
       "      <td>4</td>\n",
       "    </tr>\n",
       "    <tr>\n",
       "      <th>8756</th>\n",
       "      <td>wrap_307.jpg</td>\n",
       "      <td>../Data/carbon_data/dishes/wrap</td>\n",
       "      <td>4</td>\n",
       "    </tr>\n",
       "    <tr>\n",
       "      <th>8757</th>\n",
       "      <td>wrap_1273.jpg</td>\n",
       "      <td>../Data/carbon_data/dishes/wrap</td>\n",
       "      <td>4</td>\n",
       "    </tr>\n",
       "    <tr>\n",
       "      <th>8758</th>\n",
       "      <td>wrap_1137.jpg</td>\n",
       "      <td>../Data/carbon_data/dishes/wrap</td>\n",
       "      <td>4</td>\n",
       "    </tr>\n",
       "    <tr>\n",
       "      <th>8759</th>\n",
       "      <td>wrap_1261.jpg</td>\n",
       "      <td>../Data/carbon_data/dishes/wrap</td>\n",
       "      <td>4</td>\n",
       "    </tr>\n",
       "  </tbody>\n",
       "</table>\n",
       "<p>8760 rows × 3 columns</p>\n",
       "</div>"
      ],
      "text/plain": [
       "              image_id                              dir  label\n",
       "0     10Kwalk_1455.jpg      ../Data/carbon_data/10Kwalk      0\n",
       "1      10Kwalk_898.jpg      ../Data/carbon_data/10Kwalk      0\n",
       "2     10Kwalk_1607.jpg      ../Data/carbon_data/10Kwalk      0\n",
       "3      10Kwalk_342.jpg      ../Data/carbon_data/10Kwalk      0\n",
       "4      10Kwalk_737.jpg      ../Data/carbon_data/10Kwalk      0\n",
       "...                ...                              ...    ...\n",
       "8755      wrap_441.jpg  ../Data/carbon_data/dishes/wrap      4\n",
       "8756      wrap_307.jpg  ../Data/carbon_data/dishes/wrap      4\n",
       "8757     wrap_1273.jpg  ../Data/carbon_data/dishes/wrap      4\n",
       "8758     wrap_1137.jpg  ../Data/carbon_data/dishes/wrap      4\n",
       "8759     wrap_1261.jpg  ../Data/carbon_data/dishes/wrap      4\n",
       "\n",
       "[8760 rows x 3 columns]"
      ]
     },
     "execution_count": 17,
     "metadata": {},
     "output_type": "execute_result"
    }
   ],
   "source": [
    "test['label'] = le.fit_transform(test['label'].values)\n",
    "test"
   ]
  },
  {
   "cell_type": "code",
   "execution_count": 18,
   "id": "681ed966-953b-4533-a9b5-1438c1bb27de",
   "metadata": {},
   "outputs": [],
   "source": [
    "########################## inference #############################\n",
    "def inference(model, data_loader, device):\n",
    "    model.eval()\n",
    "    image_preds_all = []\n",
    "    \n",
    "    pbar = tqdm(enumerate(data_loader), total=len(data_loader))\n",
    "    for step, (imgs) in pbar:\n",
    "        imgs = imgs.to(device).float()\n",
    "\n",
    "        image_preds = model(imgs)   #output = model(input)\n",
    "        image_preds_all += [torch.softmax(image_preds, 1).detach().cpu().numpy()]\n",
    "    \n",
    "    image_preds_all = np.concatenate(image_preds_all, axis=0)\n",
    "    return image_preds_all"
   ]
  },
  {
   "cell_type": "code",
   "execution_count": 19,
   "id": "1f910c08-4857-43b4-b499-b5a7d799e5b0",
   "metadata": {},
   "outputs": [
    {
     "name": "stderr",
     "output_type": "stream",
     "text": [
      "/home/hojun/miniconda3/envs/torch/lib/python3.10/site-packages/torchvision/models/_utils.py:208: UserWarning: The parameter 'pretrained' is deprecated since 0.13 and may be removed in the future, please use 'weights' instead.\n",
      "  warnings.warn(\n",
      "/home/hojun/miniconda3/envs/torch/lib/python3.10/site-packages/torchvision/models/_utils.py:223: UserWarning: Arguments other than a weight enum or `None` for 'weights' are deprecated since 0.13 and may be removed in the future. The current behavior is equivalent to passing `weights=ResNet152_Weights.IMAGENET1K_V1`. You can also use `weights=ResNet152_Weights.DEFAULT` to get the most up-to-date weights.\n",
      "  warnings.warn(msg)\n",
      "100%|████████████████████████████████████████████████████████████████████████████████████████████| 137/137 [02:46<00:00,  1.22s/it]\n"
     ]
    },
    {
     "data": {
      "text/html": [
       "<div>\n",
       "<style scoped>\n",
       "    .dataframe tbody tr th:only-of-type {\n",
       "        vertical-align: middle;\n",
       "    }\n",
       "\n",
       "    .dataframe tbody tr th {\n",
       "        vertical-align: top;\n",
       "    }\n",
       "\n",
       "    .dataframe thead th {\n",
       "        text-align: right;\n",
       "    }\n",
       "</style>\n",
       "<table border=\"1\" class=\"dataframe\">\n",
       "  <thead>\n",
       "    <tr style=\"text-align: right;\">\n",
       "      <th></th>\n",
       "      <th>image_id</th>\n",
       "      <th>dir</th>\n",
       "      <th>label</th>\n",
       "      <th>pred</th>\n",
       "    </tr>\n",
       "  </thead>\n",
       "  <tbody>\n",
       "    <tr>\n",
       "      <th>0</th>\n",
       "      <td>10Kwalk_1455.jpg</td>\n",
       "      <td>../Data/carbon_data/10Kwalk</td>\n",
       "      <td>0</td>\n",
       "      <td>0</td>\n",
       "    </tr>\n",
       "    <tr>\n",
       "      <th>1</th>\n",
       "      <td>10Kwalk_898.jpg</td>\n",
       "      <td>../Data/carbon_data/10Kwalk</td>\n",
       "      <td>0</td>\n",
       "      <td>0</td>\n",
       "    </tr>\n",
       "    <tr>\n",
       "      <th>2</th>\n",
       "      <td>10Kwalk_1607.jpg</td>\n",
       "      <td>../Data/carbon_data/10Kwalk</td>\n",
       "      <td>0</td>\n",
       "      <td>0</td>\n",
       "    </tr>\n",
       "    <tr>\n",
       "      <th>3</th>\n",
       "      <td>10Kwalk_342.jpg</td>\n",
       "      <td>../Data/carbon_data/10Kwalk</td>\n",
       "      <td>0</td>\n",
       "      <td>0</td>\n",
       "    </tr>\n",
       "    <tr>\n",
       "      <th>4</th>\n",
       "      <td>10Kwalk_737.jpg</td>\n",
       "      <td>../Data/carbon_data/10Kwalk</td>\n",
       "      <td>0</td>\n",
       "      <td>0</td>\n",
       "    </tr>\n",
       "    <tr>\n",
       "      <th>...</th>\n",
       "      <td>...</td>\n",
       "      <td>...</td>\n",
       "      <td>...</td>\n",
       "      <td>...</td>\n",
       "    </tr>\n",
       "    <tr>\n",
       "      <th>8755</th>\n",
       "      <td>wrap_441.jpg</td>\n",
       "      <td>../Data/carbon_data/dishes/wrap</td>\n",
       "      <td>4</td>\n",
       "      <td>4</td>\n",
       "    </tr>\n",
       "    <tr>\n",
       "      <th>8756</th>\n",
       "      <td>wrap_307.jpg</td>\n",
       "      <td>../Data/carbon_data/dishes/wrap</td>\n",
       "      <td>4</td>\n",
       "      <td>4</td>\n",
       "    </tr>\n",
       "    <tr>\n",
       "      <th>8757</th>\n",
       "      <td>wrap_1273.jpg</td>\n",
       "      <td>../Data/carbon_data/dishes/wrap</td>\n",
       "      <td>4</td>\n",
       "      <td>4</td>\n",
       "    </tr>\n",
       "    <tr>\n",
       "      <th>8758</th>\n",
       "      <td>wrap_1137.jpg</td>\n",
       "      <td>../Data/carbon_data/dishes/wrap</td>\n",
       "      <td>4</td>\n",
       "      <td>4</td>\n",
       "    </tr>\n",
       "    <tr>\n",
       "      <th>8759</th>\n",
       "      <td>wrap_1261.jpg</td>\n",
       "      <td>../Data/carbon_data/dishes/wrap</td>\n",
       "      <td>4</td>\n",
       "      <td>4</td>\n",
       "    </tr>\n",
       "  </tbody>\n",
       "</table>\n",
       "<p>8760 rows × 4 columns</p>\n",
       "</div>"
      ],
      "text/plain": [
       "              image_id                              dir  label  pred\n",
       "0     10Kwalk_1455.jpg      ../Data/carbon_data/10Kwalk      0     0\n",
       "1      10Kwalk_898.jpg      ../Data/carbon_data/10Kwalk      0     0\n",
       "2     10Kwalk_1607.jpg      ../Data/carbon_data/10Kwalk      0     0\n",
       "3      10Kwalk_342.jpg      ../Data/carbon_data/10Kwalk      0     0\n",
       "4      10Kwalk_737.jpg      ../Data/carbon_data/10Kwalk      0     0\n",
       "...                ...                              ...    ...   ...\n",
       "8755      wrap_441.jpg  ../Data/carbon_data/dishes/wrap      4     4\n",
       "8756      wrap_307.jpg  ../Data/carbon_data/dishes/wrap      4     4\n",
       "8757     wrap_1273.jpg  ../Data/carbon_data/dishes/wrap      4     4\n",
       "8758     wrap_1137.jpg  ../Data/carbon_data/dishes/wrap      4     4\n",
       "8759     wrap_1261.jpg  ../Data/carbon_data/dishes/wrap      4     4\n",
       "\n",
       "[8760 rows x 4 columns]"
      ]
     },
     "execution_count": 19,
     "metadata": {},
     "output_type": "execute_result"
    }
   ],
   "source": [
    "# RUN INFERENCE\n",
    "model = Teacher(CFG['model'], test.label.nunique(), pretrained=True)\n",
    "load_model = CFG['model_path'] + '/KD_resnet152_16_classes_202305151137/' + CFG['model'] + '.pth'\n",
    "\n",
    "test_dir = test.dir.values\n",
    "\n",
    "tst_ds = CustomDataset(test, test_dir, transform=transform_test, output_label=False)\n",
    "tst_loader = torch.utils.data.DataLoader(\n",
    "    tst_ds, \n",
    "    batch_size=CFG['train_bs'],\n",
    "    num_workers=CFG['num_workers'],\n",
    "    shuffle=False,\n",
    "    pin_memory=True\n",
    ")\n",
    "device = torch.device(CFG['device'])\n",
    "\n",
    "# INFERENCE VIA MULTI-GPU\n",
    "# if torch.cuda.device_count() > 1:\n",
    "#         model = nn.DataParallel(model)\n",
    "model.to(device)\n",
    "\n",
    "# RUN INFERENCE\n",
    "predictions = []\n",
    "model.load_state_dict(torch.load(load_model))\n",
    "with torch.no_grad():\n",
    "    predictions += [inference(model, tst_loader, device)]\n",
    "\n",
    "\n",
    "#tst_preds = inference_one_epoch(model, tst_loader, device)\n",
    "predictions = np.mean(predictions, axis=0) \n",
    "test['pred'] = np.argmax(predictions, axis=1)\n",
    "#test['confidence score'] =np.max(predictions, axis=1)\n",
    "test"
   ]
  },
  {
   "cell_type": "code",
   "execution_count": 20,
   "id": "6dc9d547-6d2c-4d13-95c6-f9baf6e0f5da",
   "metadata": {},
   "outputs": [
    {
     "data": {
      "text/html": [
       "<div>\n",
       "<style scoped>\n",
       "    .dataframe tbody tr th:only-of-type {\n",
       "        vertical-align: middle;\n",
       "    }\n",
       "\n",
       "    .dataframe tbody tr th {\n",
       "        vertical-align: top;\n",
       "    }\n",
       "\n",
       "    .dataframe thead th {\n",
       "        text-align: right;\n",
       "    }\n",
       "</style>\n",
       "<table border=\"1\" class=\"dataframe\">\n",
       "  <thead>\n",
       "    <tr style=\"text-align: right;\">\n",
       "      <th></th>\n",
       "      <th>image_id</th>\n",
       "      <th>dir</th>\n",
       "      <th>label</th>\n",
       "      <th>pred</th>\n",
       "    </tr>\n",
       "  </thead>\n",
       "  <tbody>\n",
       "    <tr>\n",
       "      <th>0</th>\n",
       "      <td>10Kwalk_1455.jpg</td>\n",
       "      <td>../Data/carbon_data/10Kwalk</td>\n",
       "      <td>10Kwalk</td>\n",
       "      <td>10Kwalk</td>\n",
       "    </tr>\n",
       "    <tr>\n",
       "      <th>1</th>\n",
       "      <td>10Kwalk_898.jpg</td>\n",
       "      <td>../Data/carbon_data/10Kwalk</td>\n",
       "      <td>10Kwalk</td>\n",
       "      <td>10Kwalk</td>\n",
       "    </tr>\n",
       "    <tr>\n",
       "      <th>2</th>\n",
       "      <td>10Kwalk_1607.jpg</td>\n",
       "      <td>../Data/carbon_data/10Kwalk</td>\n",
       "      <td>10Kwalk</td>\n",
       "      <td>10Kwalk</td>\n",
       "    </tr>\n",
       "    <tr>\n",
       "      <th>3</th>\n",
       "      <td>10Kwalk_342.jpg</td>\n",
       "      <td>../Data/carbon_data/10Kwalk</td>\n",
       "      <td>10Kwalk</td>\n",
       "      <td>10Kwalk</td>\n",
       "    </tr>\n",
       "    <tr>\n",
       "      <th>4</th>\n",
       "      <td>10Kwalk_737.jpg</td>\n",
       "      <td>../Data/carbon_data/10Kwalk</td>\n",
       "      <td>10Kwalk</td>\n",
       "      <td>10Kwalk</td>\n",
       "    </tr>\n",
       "    <tr>\n",
       "      <th>...</th>\n",
       "      <td>...</td>\n",
       "      <td>...</td>\n",
       "      <td>...</td>\n",
       "      <td>...</td>\n",
       "    </tr>\n",
       "    <tr>\n",
       "      <th>8755</th>\n",
       "      <td>wrap_441.jpg</td>\n",
       "      <td>../Data/carbon_data/dishes/wrap</td>\n",
       "      <td>dishes</td>\n",
       "      <td>dishes</td>\n",
       "    </tr>\n",
       "    <tr>\n",
       "      <th>8756</th>\n",
       "      <td>wrap_307.jpg</td>\n",
       "      <td>../Data/carbon_data/dishes/wrap</td>\n",
       "      <td>dishes</td>\n",
       "      <td>dishes</td>\n",
       "    </tr>\n",
       "    <tr>\n",
       "      <th>8757</th>\n",
       "      <td>wrap_1273.jpg</td>\n",
       "      <td>../Data/carbon_data/dishes/wrap</td>\n",
       "      <td>dishes</td>\n",
       "      <td>dishes</td>\n",
       "    </tr>\n",
       "    <tr>\n",
       "      <th>8758</th>\n",
       "      <td>wrap_1137.jpg</td>\n",
       "      <td>../Data/carbon_data/dishes/wrap</td>\n",
       "      <td>dishes</td>\n",
       "      <td>dishes</td>\n",
       "    </tr>\n",
       "    <tr>\n",
       "      <th>8759</th>\n",
       "      <td>wrap_1261.jpg</td>\n",
       "      <td>../Data/carbon_data/dishes/wrap</td>\n",
       "      <td>dishes</td>\n",
       "      <td>dishes</td>\n",
       "    </tr>\n",
       "  </tbody>\n",
       "</table>\n",
       "<p>8760 rows × 4 columns</p>\n",
       "</div>"
      ],
      "text/plain": [
       "              image_id                              dir    label     pred\n",
       "0     10Kwalk_1455.jpg      ../Data/carbon_data/10Kwalk  10Kwalk  10Kwalk\n",
       "1      10Kwalk_898.jpg      ../Data/carbon_data/10Kwalk  10Kwalk  10Kwalk\n",
       "2     10Kwalk_1607.jpg      ../Data/carbon_data/10Kwalk  10Kwalk  10Kwalk\n",
       "3      10Kwalk_342.jpg      ../Data/carbon_data/10Kwalk  10Kwalk  10Kwalk\n",
       "4      10Kwalk_737.jpg      ../Data/carbon_data/10Kwalk  10Kwalk  10Kwalk\n",
       "...                ...                              ...      ...      ...\n",
       "8755      wrap_441.jpg  ../Data/carbon_data/dishes/wrap   dishes   dishes\n",
       "8756      wrap_307.jpg  ../Data/carbon_data/dishes/wrap   dishes   dishes\n",
       "8757     wrap_1273.jpg  ../Data/carbon_data/dishes/wrap   dishes   dishes\n",
       "8758     wrap_1137.jpg  ../Data/carbon_data/dishes/wrap   dishes   dishes\n",
       "8759     wrap_1261.jpg  ../Data/carbon_data/dishes/wrap   dishes   dishes\n",
       "\n",
       "[8760 rows x 4 columns]"
      ]
     },
     "execution_count": 20,
     "metadata": {},
     "output_type": "execute_result"
    }
   ],
   "source": [
    "test['label'] = le.inverse_transform(test['label'].values)\n",
    "test['pred'] = le.inverse_transform(test['pred'].values)\n",
    "test"
   ]
  },
  {
   "cell_type": "code",
   "execution_count": 21,
   "id": "da647547-7a7b-4690-94df-bb42ca426f3c",
   "metadata": {},
   "outputs": [
    {
     "name": "stdout",
     "output_type": "stream",
     "text": [
      "accuracy: 0.9377\n",
      "f1_score: 0.9396\n"
     ]
    },
    {
     "data": {
      "image/png": "[encoded data removed]",
      "text/plain": [
       "<Figure size 1500x1000 with 2 Axes>"
      ]
     },
     "metadata": {},
     "output_type": "display_data"
    }
   ],
   "source": [
    "import seaborn as sns\n",
    "\n",
    "test_acc = np.sum(test.label == test.pred) / len(test)\n",
    "test_matrix = confusion_matrix(test['label'], test['pred'])\n",
    "epoch_f1 = f1_score(test['label'], test['pred'], average='macro')\n",
    "print(f'accuracy: {test_acc:.4f}')\n",
    "print(f'f1_score: {epoch_f1:.4f}')\n",
    "\n",
    "test_matrix = confusion_matrix(test['label'], test['pred'], normalize='true')\n",
    "#test_matrix = confusion_matrix(test['label'], test['pred'])\n",
    "\n",
    "plt.figure(figsize = (15,10))\n",
    "sns.heatmap(test_matrix, \n",
    "            annot=True, \n",
    "            xticklabels = sorted(set(test['label'])), \n",
    "            yticklabels = sorted(set(test['label'])),\n",
    "            )\n",
    "plt.title('Normalized Confusion Matrix')\n",
    "plt.show()\n",
    "\n",
    "#print(f'confusion_matrix \\n-------------------------\\n {test_matrix}')"
   ]
  },
  {
   "cell_type": "code",
   "execution_count": 23,
   "id": "ab89fde5-9498-4a99-8bb8-4af301e4a6ce",
   "metadata": {},
   "outputs": [],
   "source": [
    "test.to_csv('test_result/incep_res_0403.csv', index=False)"
   ]
  },
  {
   "cell_type": "code",
   "execution_count": null,
   "id": "d8cbfb49-98dd-4d2f-a778-21764270d9c8",
   "metadata": {},
   "outputs": [],
   "source": []
  }
 ],
 "metadata": {
  "kernelspec": {
   "display_name": "torch-gpu",
   "language": "python",
   "name": "torch"
  },
  "language_info": {
   "codemirror_mode": {
    "name": "ipython",
    "version": 3
   },
   "file_extension": ".py",
   "mimetype": "text/x-python",
   "name": "python",
   "nbconvert_exporter": "python",
   "pygments_lexer": "ipython3",
   "version": "3.10.6"
  },
  "vscode": {
   "interpreter": {
    "hash": "916dbcbb3f70747c44a77c7bcd40155683ae19c65e1c03b4aa3499c5328201f1"
   }
  }
 },
 "nbformat": 4,
 "nbformat_minor": 5
}
